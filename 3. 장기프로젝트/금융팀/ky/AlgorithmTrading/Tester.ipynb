{
 "cells": [
  {
   "cell_type": "code",
   "execution_count": 20,
   "metadata": {},
   "outputs": [
    {
     "name": "stderr",
     "output_type": "stream",
     "text": [
      "C:\\Users\\Public\\Documents\\ESTsoft\\CreatorTemp\\ipykernel_21292\\2734329987.py:4: MatplotlibDeprecationWarning: The seaborn styles shipped by Matplotlib are deprecated since 3.6, as they no longer correspond to the styles shipped by seaborn. However, they will remain available as 'seaborn-v0_8-<style>'. Alternatively, directly use the seaborn API instead.\n",
      "  plt.style.use(\"seaborn\")\n"
     ]
    }
   ],
   "source": [
    "import pandas as pd\n",
    "import numpy as np\n",
    "import matplotlib.pyplot as plt\n",
    "plt.style.use(\"seaborn\")\n",
    "import FinanceDataReader as fdr\n",
    "#from Iterative_Backtester import IterativeBase\n",
    "#from Iterative_SMABOL import IterativeBacktest "
   ]
  },
  {
   "cell_type": "code",
   "execution_count": 2,
   "metadata": {},
   "outputs": [],
   "source": [
    "data = fdr.DataReader('AAPL','2000-01-01','2022-01-01')['Close']\n",
    "data.to_csv(\"AAPL.csv\")"
   ]
  },
  {
   "cell_type": "code",
   "execution_count": 58,
   "metadata": {},
   "outputs": [],
   "source": [
    "class IterativeBase():\n",
    "    \"\"\"\n",
    "    Base class for iterative (event-driven) backtesting of trading strategies.\n",
    "    \"\"\"\n",
    "    \n",
    "    def __init__(self, symbol, start, end, amount, data, charge = 0.00025):\n",
    "        '''\n",
    "        Parameters\n",
    "        ----------\n",
    "        symbol: str\n",
    "            ticker symbol (instrument) to be backtested\n",
    "        start: str\n",
    "            start date for data import\n",
    "        end: str\n",
    "            end date for data import\n",
    "        amount: float\n",
    "            initial amount to be invested per trade\n",
    "        data: str\n",
    "            The location of dataset\n",
    "        charge: charge*amount (default = 0.00025) \n",
    "            trading cost\n",
    "\n",
    "    '''\n",
    "        self.symbol = symbol\n",
    "        self.start = start\n",
    "        self.end = end\n",
    "        self.initial_balance = amount\n",
    "        self.current_balance = amount\n",
    "        self.data_link = data\n",
    "        self.units = 0\n",
    "        self.trades = 0\n",
    "        self.position = 0\n",
    "        self.charge = charge\n",
    "        self.get_data()\n",
    "        \n",
    "    def get_data(self):\n",
    "        ''' Imports the data from data source(source can be changed).\n",
    "        '''\n",
    "        raw = pd.read_csv(self.data_link, parse_dates = ['Date'], index_col = \"Date\").dropna()\n",
    "        raw = raw.loc[self.start:self.end].copy()\n",
    "        raw[\"returns\"] = np.log(raw.Close / raw.Close.shift(1))\n",
    "        self.data = raw\n",
    "        \n",
    "    def plot_data(self, cols = None):  \n",
    "        ''' Plots the closing price for the symbol.\n",
    "        '''\n",
    "        if cols is None:\n",
    "            cols = \"Close\"\n",
    "        self.data[cols].plot(figsize = (12, 8), title = self.symbol)\n",
    "        \n",
    "    def get_values(self, bar):\n",
    "        ''' Returns the date, the price and the spread for the given bar.\n",
    "        '''\n",
    "        date = str(self.data.index[bar].date())\n",
    "        price = round(self.data.Close.iloc[bar], 5)\n",
    "        return date, price\n",
    "    \n",
    "    def print_current_balance(self, bar):\n",
    "        ''' Prints out the current (cash) balance.\n",
    "        '''\n",
    "        date, price = self.get_values(bar)\n",
    "        print(\"{} | Current Balance: {}\".format(date, round(self.current_balance, 2)))\n",
    "        \n",
    "    def buy_instrument(self, bar, units = None, amount = None):\n",
    "        ''' Places and executes a buy order (market order).\n",
    "        '''\n",
    "        if self.current_balance <= 0:\n",
    "            return\n",
    "        date, price = self.get_values(bar)\n",
    "        if amount is not None: # use units if units are passed, otherwise calculate units\n",
    "            units = int(amount / price)\n",
    "        if self.charge:\n",
    "            total_price = units*price*(1+self.charge)\n",
    "            \n",
    "        if total_price >= self.current_balance:\n",
    "            while total_price >= self.current_balance:\n",
    "                units -= 1\n",
    "                total_price = units*price*(1+self.charge)\n",
    "                if units <= 0:\n",
    "                    return\n",
    "        if units <= 0:\n",
    "            return\n",
    "        self.current_balance -= total_price # reduce cash balance by \"purchase price\"\n",
    "        self.units += units\n",
    "        self.trades += 1\n",
    "        print(\"{} |  Buying {} for {}\".format(date, units, round(price, 5)))\n",
    "        \n",
    "    def sell_instrument(self, bar, units = None, amount = None):\n",
    "        ''' Places and executes a sell order (market order).\n",
    "        '''\n",
    "        date, price = self.get_values(bar)\n",
    "        if amount is not None: # use units if units are passed, otherwise calculate units\n",
    "            units = int(amount / price)\n",
    "        if self.charge:\n",
    "            total_price = units*price*(1-self.charge)\n",
    "        if self.units <=0 or units<=0:\n",
    "            return\n",
    "        self.current_balance += total_price # increases cash balance by \"purchase price\"\n",
    "        self.units -= units\n",
    "        self.trades += 1\n",
    "        print(\"{} |  Selling {} for {}\".format(date, units, round(price, 5)))\n",
    "        \n",
    "    def print_current_position_value(self, bar):\n",
    "        ''' Prints out the current position value.\n",
    "        '''\n",
    "        date, price = self.get_values(bar)\n",
    "        cpv = self.units * price\n",
    "        print(\"{} |  Current Position Value = {}\".format(date, round(cpv, 2)))\n",
    "        \n",
    "    def print_current_nav(self, bar):\n",
    "        ''' Prints out the current net asset value (nav).\n",
    "        '''\n",
    "        date, price = self.get_values(bar)\n",
    "        nav = self.current_balance + self.units * price\n",
    "        print(\"{} |  Net Asset Value = {}\".format(date, round(nav, 2)))\n",
    "        \n",
    "    def close_pos(self, bar):\n",
    "        ''' Closes out a long or short position (go neutral).\n",
    "        '''\n",
    "        date, price = self.get_values(bar)\n",
    "        print(75 * \"-\")\n",
    "        print(\"{} | +++ CLOSING FINAL POSITION +++\".format(date))\n",
    "        self.current_balance += self.units * price # closing final position (works with short and long!)\n",
    "        self.current_balance -= self.units * price * self.charge # substract charge\n",
    "        print(\"{} | closing position of {} for {}\".format(date, self.units, price))\n",
    "        self.units = 0 # setting position to neutral\n",
    "        self.trades += 1\n",
    "        perf = (self.current_balance - self.initial_balance) / self.initial_balance * 100\n",
    "        self.print_current_balance(bar)\n",
    "        print(\"{} | net performance (%) = {}\".format(date, round(perf, 2) ))\n",
    "        print(\"{} | number of trades executed = {}\".format(date, self.trades))\n",
    "        print(75 * \"-\")"
   ]
  },
  {
   "cell_type": "code",
   "execution_count": 59,
   "metadata": {},
   "outputs": [
    {
     "data": {
      "image/png": "[encoded data removed]",
      "text/plain": [
       "<Figure size 1200x800 with 1 Axes>"
      ]
     },
     "metadata": {},
     "output_type": "display_data"
    }
   ],
   "source": [
    "Base = IterativeBase('AAPL','2000-01-01','2022-01-02',100000,\"AAPL.csv\")\n",
    "Base.plot_data()"
   ]
  },
  {
   "cell_type": "code",
   "execution_count": 60,
   "metadata": {},
   "outputs": [
    {
     "data": {
      "text/plain": [
       "('2000-01-03', 0.99944)"
      ]
     },
     "execution_count": 60,
     "metadata": {},
     "output_type": "execute_result"
    }
   ],
   "source": [
    "Base.get_values(0)"
   ]
  },
  {
   "cell_type": "code",
   "execution_count": 61,
   "metadata": {},
   "outputs": [
    {
     "name": "stdout",
     "output_type": "stream",
     "text": [
      "2000-01-03 | Current Balance: 100000\n"
     ]
    }
   ],
   "source": [
    "Base.print_current_balance(0)"
   ]
  },
  {
   "cell_type": "code",
   "execution_count": 62,
   "metadata": {},
   "outputs": [
    {
     "name": "stdout",
     "output_type": "stream",
     "text": [
      "2000-01-18 |  Buying 100 for 0.92801\n"
     ]
    }
   ],
   "source": [
    "Base.buy_instrument(10,units=100)"
   ]
  },
  {
   "cell_type": "code",
   "execution_count": 63,
   "metadata": {},
   "outputs": [
    {
     "name": "stdout",
     "output_type": "stream",
     "text": [
      "2000-01-25 |  Selling 100 for 1.00223\n"
     ]
    }
   ],
   "source": [
    "Base.sell_instrument(15, units=100)"
   ]
  },
  {
   "cell_type": "code",
   "execution_count": 64,
   "metadata": {},
   "outputs": [],
   "source": [
    "Base.sell_instrument(16, units=5)"
   ]
  },
  {
   "cell_type": "code",
   "execution_count": 65,
   "metadata": {},
   "outputs": [
    {
     "name": "stdout",
     "output_type": "stream",
     "text": [
      "2000-01-26 | Current Balance: 100007.37\n"
     ]
    }
   ],
   "source": [
    "Base.print_current_balance(16)"
   ]
  },
  {
   "cell_type": "code",
   "execution_count": 66,
   "metadata": {},
   "outputs": [
    {
     "name": "stdout",
     "output_type": "stream",
     "text": [
      "2000-05-25 |  Buying 10000 for 0.77916\n"
     ]
    }
   ],
   "source": [
    "Base.buy_instrument(100, units=10000)"
   ]
  },
  {
   "cell_type": "code",
   "execution_count": 67,
   "metadata": {},
   "outputs": [
    {
     "name": "stdout",
     "output_type": "stream",
     "text": [
      "2000-02-01 |  Net Asset Value = 101164.73\n"
     ]
    }
   ],
   "source": [
    "Base.print_current_nav(20)"
   ]
  },
  {
   "cell_type": "code",
   "execution_count": 68,
   "metadata": {},
   "outputs": [
    {
     "name": "stdout",
     "output_type": "stream",
     "text": [
      "---------------------------------------------------------------------------\n",
      "2000-10-17 | +++ CLOSING FINAL POSITION +++\n",
      "2000-10-17 | closing position of 10000 for 0.35938\n",
      "2000-10-17 | Current Balance: 95806.73\n",
      "2000-10-17 | net performance (%) = -4.19\n",
      "2000-10-17 | number of trades executed = 4\n",
      "---------------------------------------------------------------------------\n"
     ]
    }
   ],
   "source": [
    "Base.close_pos(200)"
   ]
  },
  {
   "cell_type": "code",
   "execution_count": 80,
   "metadata": {},
   "outputs": [],
   "source": [
    "class IterativeBacktest(IterativeBase):\n",
    "    def go_long(self, bar, units = None, amount = None):\n",
    "        if units:\n",
    "            self.buy_instrument(bar, units = units)\n",
    "        elif amount:\n",
    "            if amount == \"all\":\n",
    "                amount = self.current_balance\n",
    "            self.buy_instrument(bar, amount = amount)\n",
    "            \n",
    "    def go_short(self, bar, units = None, amount = None):\n",
    "        if units:\n",
    "            self.sell_instrument(bar, units = units)\n",
    "        elif amount:\n",
    "            if amount == \"all\":\n",
    "                amount = self.current_balance\n",
    "            self.sell_instrument(bar, amount = amount) # go short\n",
    "            \n",
    "    def SMA_BOL(self, SMA_S, SMA_M, SMA_L, dev):\n",
    "        ''' \n",
    "        Backtests an SMA crossover strategy with SMA_S (short) and SMA_L (long).\n",
    "        \n",
    "        Parameters\n",
    "        ----------\n",
    "        SMA_S: int\n",
    "            moving window in bars (e.g. days) for shorter SMA\n",
    "        SMA_L: int\n",
    "            moving window in bars (e.g. days) for longer SMA\n",
    "        '''\n",
    "        stm = \"Testing SMA With Bolinger strategy | {} | SMA_S = {} & SMA_M = {} & SMA_L = {} DEV = {}\".format(self.symbol, SMA_S, SMA_M, SMA_L, dev)\n",
    "        print(\"-\" * 75)\n",
    "        print(stm)\n",
    "        print(\"-\" * 75)\n",
    "        \n",
    "        self.position = 0  # initial neutral position\n",
    "        self.trades = 0  # no trades yet\n",
    "        self.current_balance = self.initial_balance  # reset initial capital\n",
    "        self.get_data() # reset dataset\n",
    "        \n",
    "        self.data[\"SMA_S\"] = self.data[\"Close\"].rolling(SMA_S).mean()\n",
    "        self.data[\"SMA_L\"] = self.data[\"Close\"].rolling(SMA_L).mean()\n",
    "        \n",
    "        self.data[\"SMA\"] = self.data[\"Close\"].rolling(SMA_M).mean()\n",
    "        self.data[\"Lower_1\"] = self.data[\"SMA\"] - self.data[\"Close\"].rolling(SMA_M).std() * (dev/2)\n",
    "        self.data[\"Upper_1\"] = self.data[\"SMA\"] + self.data[\"Close\"].rolling(SMA_M).std() * (dev/2)\n",
    "        self.data[\"Lower_2\"] = self.data[\"SMA\"] - self.data[\"Close\"].rolling(SMA_M).std() * dev\n",
    "        self.data[\"Upper_2\"] = self.data[\"SMA\"] + self.data[\"Close\"].rolling(SMA_M).std() * dev     \n",
    "\n",
    "        self.data.dropna(inplace = True)\n",
    "        \n",
    "        for bar in range(len(self.data)-1): # all bars (except the last bar)\n",
    "            trade_flag = self.trades\n",
    "            if self.data[\"SMA_S\"].iloc[bar] > self.data[\"SMA_L\"].iloc[bar]: # signal to go long\n",
    "                if self.position in [0,-1]:\n",
    "                    self.position = 1  # long position\n",
    "            elif self.data[\"SMA_S\"].iloc[bar] < self.data[\"SMA_L\"].iloc[bar]: # signal to go short\n",
    "                if self.position in [0, 1]:\n",
    "                    self.position = -1 # short position\n",
    "            else:\n",
    "                if self.position in [1,-1]:\n",
    "                    self.position = 0 #neutral position\n",
    "            if self.position == 1 and self.data['Close'].iloc[bar]<self.data['Lower_2'].iloc[bar]:\n",
    "                self.go_long(bar, amount='all')\n",
    "            elif self.position == 1 and self.data['Close'].iloc[bar]<self.data['Lower_1'].iloc[bar]:\n",
    "                self.go_long(bar, amount=min(self.current_balance/10,0))\n",
    "            if self.position == -1 and self.data['Close'].iloc[bar]<self.data['Upper_2'].iloc[bar]:\n",
    "                self.go_short(bar, amount='all')\n",
    "            elif self.position == -1 and self.data['Close'].iloc[bar]<self.data['Upper_1'].iloc[bar]:\n",
    "                self.go_long(bar, amount=min(self.current_balance/10,0))\n",
    "            if self.trades != trade_flag:\n",
    "                self.print_current_nav(bar)\n",
    "        self.close_pos(bar+1) # close position at the last bar\n",
    "        \n",
    "   "
   ]
  },
  {
   "cell_type": "code",
   "execution_count": 81,
   "metadata": {},
   "outputs": [
    {
     "name": "stdout",
     "output_type": "stream",
     "text": [
      "---------------------------------------------------------------------------\n",
      "Testing SMA With Bolinger strategy | AAPL | SMA_S = 50 & SMA_M = 100 & SMA_L = 200 DEV = 2\n",
      "---------------------------------------------------------------------------\n",
      "2002-06-07 |  Buying 261618 for 0.38214\n",
      "2002-06-07 |  Net Asset Value = 99975.01\n",
      "2002-06-21 |  Buying 1 for 0.30089\n",
      "2002-06-21 |  Net Asset Value = 78718.54\n",
      "---------------------------------------------------------------------------\n",
      "2021-12-31 | +++ CLOSING FINAL POSITION +++\n",
      "2021-12-31 | closing position of 261619 for 177.57001\n",
      "2021-12-31 | Current Balance: 46444074.53\n",
      "2021-12-31 | net performance (%) = 46344.07\n",
      "2021-12-31 | number of trades executed = 3\n",
      "---------------------------------------------------------------------------\n"
     ]
    }
   ],
   "source": [
    "SMA = IterativeBacktest('AAPL','2000-01-01','2022-01-02',100000,\"AAPL.csv\")\n",
    "SMA.SMA_BOL(50, 100, 200, 2)"
   ]
  },
  {
   "cell_type": "code",
   "execution_count": null,
   "metadata": {},
   "outputs": [],
   "source": []
  },
  {
   "cell_type": "code",
   "execution_count": null,
   "metadata": {},
   "outputs": [],
   "source": [
    "\n"
   ]
  },
  {
   "cell_type": "code",
   "execution_count": null,
   "metadata": {},
   "outputs": [],
   "source": []
  }
 ],
 "metadata": {
  "kernelspec": {
   "display_name": "base",
   "language": "python",
   "name": "python3"
  },
  "language_info": {
   "codemirror_mode": {
    "name": "ipython",
    "version": 3
   },
   "file_extension": ".py",
   "mimetype": "text/x-python",
   "name": "python",
   "nbconvert_exporter": "python",
   "pygments_lexer": "ipython3",
   "version": "3.10.9"
  },
  "orig_nbformat": 4
 },
 "nbformat": 4,
 "nbformat_minor": 2
}
