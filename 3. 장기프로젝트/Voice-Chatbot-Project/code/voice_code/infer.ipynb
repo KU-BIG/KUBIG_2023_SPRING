{
  "cells": [
    {
      "attachments": {},
      "cell_type": "markdown",
      "metadata": {
        "id": "4nnHcDyOyAHM"
      },
      "source": [
        "# SCE-TTS: 음성합성 데모\n",
        "\n",
        "이 문서는 SCE-TTS 프로젝트의 음성 합성 데모입니다.\n",
        "\n",
        "이 데모에 대한 더 자세한 정보는 아래 링크에서 확인하실 수 있습니다.  \n",
        "https://sce-tts.github.io/"
      ]
    },
    {
      "attachments": {},
      "cell_type": "markdown",
      "metadata": {
        "id": "AvxXfBluyZvb"
      },
      "source": [
        "## 1. 구글 드라이브 마운트\n",
        "\n",
        "음성합성을 위해 학습한 모델이 있는 구글 드라이브를 마운트합니다.  \n",
        "마운트할 구글 드라이브 내에 다음 파일들이 존재하는지 꼭 확인해주세요.\n",
        "\n",
        "- `/Colab Notebooks/data/glowtts-v2/model_file.pth.tar`\n",
        "- `/Colab Notebooks/data/glowtts-v2/config.json`\n",
        "- `/Colab Notebooks/data/hifigan-v2/model_file.pth.tar`\n",
        "- `/Colab Notebooks/data/hifigan-v2/config.json`\n",
        "\n",
        "\n",
        "(존재하지 않는다면, [glowtts-v2.zip](https://drive.google.com/file/d/1DMKLdfZ_gzc_z0qDod6_G8fEXj0zCHvC/view?usp=sharing), [hifigan-v2.zip](https://drive.google.com/file/d/1vRxp1RH-U7gSzWgyxnKY4h_7pB3tjPmU/view?usp=sharing)을 내려받아 준비해주세요.)\n",
        "\n",
        "만약 아래에 `Enter your authorization code:`과 같은 메시지가 출력될 경우,  \n",
        "같이 출력된 링크에 접속하여, 마운트할 구글 계정을 선택하신 후, 인증 코드를 복사하여 입력해주세요."
      ]
    },
    {
      "attachments": {},
      "cell_type": "markdown",
      "metadata": {
        "id": "8erClGSnzwge"
      },
      "source": [
        "## 2. 필수 라이브러리 및 함수 불러오기\n",
        "\n",
        "실행에 필요한 라이브러리 및 함수를 불러옵니다.\n",
        "\n",
        "이 과정은 약 10분 정도 소요될 수 있습니다."
      ]
    },
    {
      "cell_type": "code",
      "execution_count": 1,
      "metadata": {
        "id": "jYCym6hXge2_"
      },
      "outputs": [],
      "source": [
        "import os\n",
        "import sys\n",
        "from pathlib import Path"
      ]
    },
    {
      "cell_type": "code",
      "execution_count": 2,
      "metadata": {
        "colab": {
          "base_uri": "https://localhost:8080/"
        },
        "id": "PvjyOQjNQeL9",
        "outputId": "757207c2-61a8-4e0a-e673-f6c2b71d41db"
      },
      "outputs": [
        {
          "name": "stdout",
          "output_type": "stream",
          "text": [
            "Requirement already satisfied: folium==0.2.1 in /opt/conda/lib/python3.8/site-packages (0.2.1)\n",
            "Requirement already satisfied: Jinja2 in /opt/conda/lib/python3.8/site-packages (from folium==0.2.1) (3.1.2)\n",
            "Requirement already satisfied: MarkupSafe>=2.0 in /opt/conda/lib/python3.8/site-packages (from Jinja2->folium==0.2.1) (2.1.3)\n",
            "\u001b[33mWARNING: Running pip as the 'root' user can result in broken permissions and conflicting behaviour with the system package manager. It is recommended to use a virtual environment instead: https://pip.pypa.io/warnings/venv\u001b[0m\u001b[33m\n",
            "\u001b[0mNote: you may need to restart the kernel to use updated packages.\n"
          ]
        }
      ],
      "source": [
        "pip install folium==0.2.1"
      ]
    },
    {
      "cell_type": "code",
      "execution_count": 3,
      "metadata": {
        "colab": {
          "base_uri": "https://localhost:8080/"
        },
        "id": "1-ZEEcdFQhjR",
        "outputId": "904d607a-7242-4057-f968-67f01d592236"
      },
      "outputs": [
        {
          "name": "stdout",
          "output_type": "stream",
          "text": [
            "Requirement already satisfied: imgaug==0.2.5 in /opt/conda/lib/python3.8/site-packages (0.2.5)\n",
            "Requirement already satisfied: scipy in /opt/conda/lib/python3.8/site-packages (from imgaug==0.2.5) (1.9.3)\n",
            "Requirement already satisfied: scikit-image>=0.11.0 in /opt/conda/lib/python3.8/site-packages (from imgaug==0.2.5) (0.21.0)\n",
            "Requirement already satisfied: numpy>=1.7.0 in /opt/conda/lib/python3.8/site-packages (from imgaug==0.2.5) (1.18.5)\n",
            "Requirement already satisfied: six in /opt/conda/lib/python3.8/site-packages (from imgaug==0.2.5) (1.15.0)\n",
            "Collecting numpy>=1.7.0 (from imgaug==0.2.5)\n",
            "  Using cached numpy-1.24.4-cp38-cp38-manylinux_2_17_x86_64.manylinux2014_x86_64.whl (17.3 MB)\n",
            "Requirement already satisfied: networkx>=2.8 in /opt/conda/lib/python3.8/site-packages (from scikit-image>=0.11.0->imgaug==0.2.5) (3.1)\n",
            "Requirement already satisfied: pillow>=9.0.1 in /opt/conda/lib/python3.8/site-packages (from scikit-image>=0.11.0->imgaug==0.2.5) (9.5.0)\n",
            "Requirement already satisfied: imageio>=2.27 in /opt/conda/lib/python3.8/site-packages (from scikit-image>=0.11.0->imgaug==0.2.5) (2.31.1)\n",
            "Requirement already satisfied: tifffile>=2022.8.12 in /opt/conda/lib/python3.8/site-packages (from scikit-image>=0.11.0->imgaug==0.2.5) (2023.4.12)\n",
            "Requirement already satisfied: PyWavelets>=1.1.1 in /opt/conda/lib/python3.8/site-packages (from scikit-image>=0.11.0->imgaug==0.2.5) (1.4.1)\n",
            "Requirement already satisfied: packaging>=21 in /opt/conda/lib/python3.8/site-packages (from scikit-image>=0.11.0->imgaug==0.2.5) (23.1)\n",
            "Requirement already satisfied: lazy_loader>=0.2 in /opt/conda/lib/python3.8/site-packages (from scikit-image>=0.11.0->imgaug==0.2.5) (0.2)\n",
            "Installing collected packages: numpy\n",
            "  Attempting uninstall: numpy\n",
            "    Found existing installation: numpy 1.18.5\n",
            "    Uninstalling numpy-1.18.5:\n",
            "      Successfully uninstalled numpy-1.18.5\n",
            "\u001b[31mERROR: pip's dependency resolver does not currently take into account all the packages that are installed. This behaviour is the source of the following dependency conflicts.\n",
            "tts 0.0.14.1 requires numpy==1.18.5, but you have numpy 1.24.4 which is incompatible.\n",
            "sagemaker-training 4.5.0 requires protobuf<=3.20.3,>=3.9.2, but you have protobuf 4.23.3 which is incompatible.\u001b[0m\u001b[31m\n",
            "\u001b[0mSuccessfully installed numpy-1.24.4\n",
            "\u001b[33mWARNING: Running pip as the 'root' user can result in broken permissions and conflicting behaviour with the system package manager. It is recommended to use a virtual environment instead: https://pip.pypa.io/warnings/venv\u001b[0m\u001b[33m\n",
            "\u001b[0mNote: you may need to restart the kernel to use updated packages.\n"
          ]
        }
      ],
      "source": [
        "pip install imgaug==0.2.5"
      ]
    },
    {
      "cell_type": "code",
      "execution_count": 4,
      "metadata": {
        "colab": {
          "base_uri": "https://localhost:8080/"
        },
        "id": "JwMnuWBNUW_h",
        "outputId": "c51bb4d6-d3cc-49e4-855d-389ae708d67c"
      },
      "outputs": [
        {
          "name": "stdout",
          "output_type": "stream",
          "text": [
            "Collecting librosa==0.8.1\n",
            "  Using cached librosa-0.8.1-py3-none-any.whl (203 kB)\n",
            "Requirement already satisfied: audioread>=2.0.0 in /opt/conda/lib/python3.8/site-packages (from librosa==0.8.1) (3.0.0)\n",
            "Requirement already satisfied: numpy>=1.15.0 in /opt/conda/lib/python3.8/site-packages (from librosa==0.8.1) (1.24.4)\n",
            "Requirement already satisfied: scipy>=1.0.0 in /opt/conda/lib/python3.8/site-packages (from librosa==0.8.1) (1.9.3)\n",
            "Requirement already satisfied: scikit-learn!=0.19.0,>=0.14.0 in /opt/conda/lib/python3.8/site-packages (from librosa==0.8.1) (1.2.2)\n",
            "Requirement already satisfied: joblib>=0.14 in /opt/conda/lib/python3.8/site-packages (from librosa==0.8.1) (1.2.0)\n",
            "Requirement already satisfied: decorator>=3.0.0 in /opt/conda/lib/python3.8/site-packages (from librosa==0.8.1) (4.4.2)\n",
            "Requirement already satisfied: resampy>=0.2.2 in /opt/conda/lib/python3.8/site-packages (from librosa==0.8.1) (0.3.1)\n",
            "Requirement already satisfied: numba>=0.43.0 in /opt/conda/lib/python3.8/site-packages/numba-0.52.0-py3.8-linux-x86_64.egg (from librosa==0.8.1) (0.52.0)\n",
            "Requirement already satisfied: soundfile>=0.10.2 in /opt/conda/lib/python3.8/site-packages/soundfile-0.12.1-py3.8.egg (from librosa==0.8.1) (0.12.1)\n",
            "Requirement already satisfied: pooch>=1.0 in /opt/conda/lib/python3.8/site-packages (from librosa==0.8.1) (1.7.0)\n",
            "Requirement already satisfied: packaging>=20.0 in /opt/conda/lib/python3.8/site-packages (from librosa==0.8.1) (23.1)\n",
            "Requirement already satisfied: llvmlite<0.36,>=0.35.0 in /opt/conda/lib/python3.8/site-packages/llvmlite-0.35.0-py3.8-linux-x86_64.egg (from numba>=0.43.0->librosa==0.8.1) (0.35.0)\n",
            "Requirement already satisfied: setuptools in /opt/conda/lib/python3.8/site-packages (from numba>=0.43.0->librosa==0.8.1) (50.3.1.post20201107)\n",
            "Requirement already satisfied: platformdirs>=2.5.0 in /opt/conda/lib/python3.8/site-packages (from pooch>=1.0->librosa==0.8.1) (3.5.1)\n",
            "Requirement already satisfied: requests>=2.19.0 in /opt/conda/lib/python3.8/site-packages (from pooch>=1.0->librosa==0.8.1) (2.31.0)\n",
            "Requirement already satisfied: threadpoolctl>=2.0.0 in /opt/conda/lib/python3.8/site-packages (from scikit-learn!=0.19.0,>=0.14.0->librosa==0.8.1) (3.1.0)\n",
            "Requirement already satisfied: cffi>=1.0 in /opt/conda/lib/python3.8/site-packages (from soundfile>=0.10.2->librosa==0.8.1) (1.14.3)\n",
            "Requirement already satisfied: pycparser in /opt/conda/lib/python3.8/site-packages (from cffi>=1.0->soundfile>=0.10.2->librosa==0.8.1) (2.20)\n",
            "Requirement already satisfied: charset-normalizer<4,>=2 in /opt/conda/lib/python3.8/site-packages (from requests>=2.19.0->pooch>=1.0->librosa==0.8.1) (3.1.0)\n",
            "Requirement already satisfied: idna<4,>=2.5 in /opt/conda/lib/python3.8/site-packages (from requests>=2.19.0->pooch>=1.0->librosa==0.8.1) (2.10)\n",
            "Requirement already satisfied: urllib3<3,>=1.21.1 in /opt/conda/lib/python3.8/site-packages (from requests>=2.19.0->pooch>=1.0->librosa==0.8.1) (1.26.16)\n",
            "Requirement already satisfied: certifi>=2017.4.17 in /opt/conda/lib/python3.8/site-packages (from requests>=2.19.0->pooch>=1.0->librosa==0.8.1) (2020.12.5)\n",
            "Installing collected packages: librosa\n",
            "  Attempting uninstall: librosa\n",
            "    Found existing installation: librosa 0.8.0\n",
            "    Uninstalling librosa-0.8.0:\n",
            "      Successfully uninstalled librosa-0.8.0\n",
            "\u001b[31mERROR: pip's dependency resolver does not currently take into account all the packages that are installed. This behaviour is the source of the following dependency conflicts.\n",
            "tts 0.0.14.1 requires librosa==0.8.0, but you have librosa 0.8.1 which is incompatible.\n",
            "tts 0.0.14.1 requires numpy==1.18.5, but you have numpy 1.24.4 which is incompatible.\u001b[0m\u001b[31m\n",
            "\u001b[0mSuccessfully installed librosa-0.8.1\n",
            "\u001b[33mWARNING: Running pip as the 'root' user can result in broken permissions and conflicting behaviour with the system package manager. It is recommended to use a virtual environment instead: https://pip.pypa.io/warnings/venv\u001b[0m\u001b[33m\n",
            "\u001b[0mNote: you may need to restart the kernel to use updated packages.\n"
          ]
        }
      ],
      "source": [
        "pip install librosa==0.8.1"
      ]
    },
    {
      "cell_type": "code",
      "execution_count": 7,
      "metadata": {},
      "outputs": [
        {
          "name": "stdout",
          "output_type": "stream",
          "text": [
            "/opt/ml\n"
          ]
        }
      ],
      "source": [
        "import os\n",
        "os.chdir('../../../')\n",
        "current_dir = os.getcwd()\n",
        "print(current_dir)"
      ]
    },
    {
      "cell_type": "code",
      "execution_count": 8,
      "metadata": {
        "colab": {
          "base_uri": "https://localhost:8080/"
        },
        "id": "JkWG-L13gReB",
        "outputId": "87d78ebc-a87a-4d53-a0da-62be74d37aba"
      },
      "outputs": [
        {
          "name": "stdout",
          "output_type": "stream",
          "text": [
            "fatal: destination path 'TTS' already exists and is not an empty directory.\n",
            "fatal: destination path 'g2pK' already exists and is not an empty directory.\n",
            "\u001b[31mERROR: pip's dependency resolver does not currently take into account all the packages that are installed. This behaviour is the source of the following dependency conflicts.\n",
            "sagemaker-training 4.5.0 requires protobuf<=3.20.3,>=3.9.2, but you have protobuf 4.23.3 which is incompatible.\n",
            "scikit-image 0.21.0 requires numpy>=1.21.1, but you have numpy 1.18.5 which is incompatible.\u001b[0m\u001b[31m\n",
            "\u001b[0m\u001b[33mWARNING: Running pip as the 'root' user can result in broken permissions and conflicting behaviour with the system package manager. It is recommended to use a virtual environment instead: https://pip.pypa.io/warnings/venv\u001b[0m\u001b[33m\n",
            "\u001b[0m\u001b[33mWARNING: Running pip as the 'root' user can result in broken permissions and conflicting behaviour with the system package manager. It is recommended to use a virtual environment instead: https://pip.pypa.io/warnings/venv\u001b[0m\u001b[33m\n",
            "\u001b[0m\u001b[33mWARNING: Running pip as the 'root' user can result in broken permissions and conflicting behaviour with the system package manager. It is recommended to use a virtual environment instead: https://pip.pypa.io/warnings/venv\u001b[0m\u001b[33m\n",
            "\u001b[0m"
          ]
        }
      ],
      "source": [
        "os.chdir('content')\n",
        "!git clone --depth 1 https://github.com/sce-tts/TTS.git -b sce-tts\n",
        "!git clone --depth 1 https://github.com/sce-tts/g2pK.git\n",
        "os.chdir('TTS')\n",
        "!pip install -q --no-cache-dir -e .\n",
        "#%cd /content/g2pK\n",
        "os.chdir('../g2pK')\n",
        "!pip install -q --no-cache-dir \"konlpy\" \"jamo\" \"nltk\" \"python-mecab-ko\"\n",
        "!pip install -q --no-cache-dir -e ."
      ]
    },
    {
      "cell_type": "code",
      "execution_count": 9,
      "metadata": {
        "colab": {
          "base_uri": "https://localhost:8080/"
        },
        "id": "FUD8SfIxSY8j",
        "outputId": "0dadcfad-f4e6-49bf-a53b-922760800e57"
      },
      "outputs": [],
      "source": [
        "#%cd /content/g2pK\n",
        "import g2pk\n",
        "g2p = g2pk.G2p()"
      ]
    },
    {
      "cell_type": "code",
      "execution_count": 10,
      "metadata": {
        "colab": {
          "base_uri": "https://localhost:8080/"
        },
        "id": "GvI801iATPwr",
        "outputId": "02da7bf8-defd-4f78-a416-a802c7171f3d"
      },
      "outputs": [
        {
          "name": "stdout",
          "output_type": "stream",
          "text": [
            "Requirement already satisfied: pysbd in /opt/conda/lib/python3.8/site-packages/pysbd-0.3.4-py3.8.egg (0.3.4)\n",
            "\u001b[33mWARNING: Running pip as the 'root' user can result in broken permissions and conflicting behaviour with the system package manager. It is recommended to use a virtual environment instead: https://pip.pypa.io/warnings/venv\u001b[0m\u001b[33m\n",
            "\u001b[0m"
          ]
        }
      ],
      "source": [
        "!pip install pysbd"
      ]
    },
    {
      "cell_type": "code",
      "execution_count": 11,
      "metadata": {
        "colab": {
          "base_uri": "https://localhost:8080/"
        },
        "id": "heX9hx2LTXgf",
        "outputId": "799059d3-22c3-4f37-a8cd-ae77f2d37641"
      },
      "outputs": [
        {
          "name": "stdout",
          "output_type": "stream",
          "text": [
            "Requirement already satisfied: coqpit in /opt/conda/lib/python3.8/site-packages/coqpit-0.0.17-py3.8.egg (0.0.17)\n",
            "\u001b[33mWARNING: Running pip as the 'root' user can result in broken permissions and conflicting behaviour with the system package manager. It is recommended to use a virtual environment instead: https://pip.pypa.io/warnings/venv\u001b[0m\u001b[33m\n",
            "\u001b[0m"
          ]
        }
      ],
      "source": [
        "!pip install coqpit"
      ]
    },
    {
      "cell_type": "code",
      "execution_count": 12,
      "metadata": {
        "colab": {
          "base_uri": "https://localhost:8080/"
        },
        "id": "cEF5OQTPTc_Q",
        "outputId": "fa56f872-318e-453b-a7f7-9d79ec822fff"
      },
      "outputs": [
        {
          "name": "stdout",
          "output_type": "stream",
          "text": [
            "Requirement already satisfied: unidecode in /opt/conda/lib/python3.8/site-packages/Unidecode-0.4.20-py3.8.egg (0.4.20)\n",
            "\u001b[33mWARNING: Running pip as the 'root' user can result in broken permissions and conflicting behaviour with the system package manager. It is recommended to use a virtual environment instead: https://pip.pypa.io/warnings/venv\u001b[0m\u001b[33m\n",
            "\u001b[0m"
          ]
        }
      ],
      "source": [
        "!pip install unidecode"
      ]
    },
    {
      "cell_type": "code",
      "execution_count": 13,
      "metadata": {
        "colab": {
          "base_uri": "https://localhost:8080/"
        },
        "id": "U2eoSPW7Tifo",
        "outputId": "3a33d985-4c0d-43fd-d308-0259cadac202"
      },
      "outputs": [
        {
          "name": "stdout",
          "output_type": "stream",
          "text": [
            "Requirement already satisfied: pypinyin in /opt/conda/lib/python3.8/site-packages/pypinyin-0.49.0-py3.8.egg (0.49.0)\n",
            "\u001b[33mWARNING: Running pip as the 'root' user can result in broken permissions and conflicting behaviour with the system package manager. It is recommended to use a virtual environment instead: https://pip.pypa.io/warnings/venv\u001b[0m\u001b[33m\n",
            "\u001b[0m"
          ]
        }
      ],
      "source": [
        "!pip install pypinyin"
      ]
    },
    {
      "cell_type": "code",
      "execution_count": 14,
      "metadata": {
        "colab": {
          "base_uri": "https://localhost:8080/"
        },
        "id": "Lt9bLLZ8I4GH",
        "outputId": "f9c261eb-ade9-4c74-ba39-0d32bce60bbb"
      },
      "outputs": [],
      "source": [
        "#%cd /content/TTS\n",
        "os.chdir('../TTS')\n",
        "import re\n",
        "import sys\n",
        "from unicodedata import normalize\n",
        "import IPython\n",
        "\n",
        "from TTS.utils.synthesizer import Synthesizer\n",
        "\n",
        "def normalize_text(text):\n",
        "    text = text.strip()\n",
        "\n",
        "    for c in \",;:\":\n",
        "        text = text.replace(c, \".\")\n",
        "    text = remove_duplicated_punctuations(text)\n",
        "\n",
        "    text = jamo_text(text)\n",
        "\n",
        "    text = g2p.idioms(text)\n",
        "    text = g2pk.english.convert_eng(text, g2p.cmu)\n",
        "    text = g2pk.utils.annotate(text, g2p.mecab)\n",
        "    text = g2pk.numerals.convert_num(text)\n",
        "    text = re.sub(\"/[PJEB]\", \"\", text)\n",
        "\n",
        "    text = alphabet_text(text)\n",
        "\n",
        "    # remove unreadable characters\n",
        "    text = normalize(\"NFD\", text)\n",
        "    text = \"\".join(c for c in text if c in symbols)\n",
        "    text = normalize(\"NFC\", text)\n",
        "\n",
        "    text = text.strip()\n",
        "    if len(text) == 0:\n",
        "        return \"\"\n",
        "\n",
        "    # only single punctuation\n",
        "    if text in '.!?':\n",
        "        return punctuation_text(text)\n",
        "\n",
        "    # append punctuation if there is no punctuation at the end of the text\n",
        "    if text[-1] not in '.!?':\n",
        "        text += '.'\n",
        "\n",
        "    return text\n",
        "\n",
        "\n",
        "def remove_duplicated_punctuations(text):\n",
        "    text = re.sub(r\"[.?!]+\\?\", \"?\", text)\n",
        "    text = re.sub(r\"[.?!]+!\", \"!\", text)\n",
        "    text = re.sub(r\"[.?!]+\\.\", \".\", text)\n",
        "    return text\n",
        "\n",
        "\n",
        "def split_text(text):\n",
        "    text = remove_duplicated_punctuations(text)\n",
        "\n",
        "    texts = []\n",
        "    for subtext in re.findall(r'[^.!?\\n]*[.!?\\n]', text):\n",
        "        texts.append(subtext.strip())\n",
        "\n",
        "    return texts\n",
        "\n",
        "\n",
        "def alphabet_text(text):\n",
        "    text = re.sub(r\"(a|A)\", \"에이\", text)\n",
        "    text = re.sub(r\"(b|B)\", \"비\", text)\n",
        "    text = re.sub(r\"(c|C)\", \"씨\", text)\n",
        "    text = re.sub(r\"(d|D)\", \"디\", text)\n",
        "    text = re.sub(r\"(e|E)\", \"이\", text)\n",
        "    text = re.sub(r\"(f|F)\", \"에프\", text)\n",
        "    text = re.sub(r\"(g|G)\", \"쥐\", text)\n",
        "    text = re.sub(r\"(h|H)\", \"에이치\", text)\n",
        "    text = re.sub(r\"(i|I)\", \"아이\", text)\n",
        "    text = re.sub(r\"(j|J)\", \"제이\", text)\n",
        "    text = re.sub(r\"(k|K)\", \"케이\", text)\n",
        "    text = re.sub(r\"(l|L)\", \"엘\", text)\n",
        "    text = re.sub(r\"(m|M)\", \"엠\", text)\n",
        "    text = re.sub(r\"(n|N)\", \"엔\", text)\n",
        "    text = re.sub(r\"(o|O)\", \"오\", text)\n",
        "    text = re.sub(r\"(p|P)\", \"피\", text)\n",
        "    text = re.sub(r\"(q|Q)\", \"큐\", text)\n",
        "    text = re.sub(r\"(r|R)\", \"알\", text)\n",
        "    text = re.sub(r\"(s|S)\", \"에스\", text)\n",
        "    text = re.sub(r\"(t|T)\", \"티\", text)\n",
        "    text = re.sub(r\"(u|U)\", \"유\", text)\n",
        "    text = re.sub(r\"(v|V)\", \"브이\", text)\n",
        "    text = re.sub(r\"(w|W)\", \"더블유\", text)\n",
        "    text = re.sub(r\"(x|X)\", \"엑스\", text)\n",
        "    text = re.sub(r\"(y|Y)\", \"와이\", text)\n",
        "    text = re.sub(r\"(z|Z)\", \"지\", text)\n",
        "\n",
        "    return text\n",
        "\n",
        "\n",
        "def punctuation_text(text):\n",
        "    # 문장부호\n",
        "    text = re.sub(r\"!\", \"느낌표\", text)\n",
        "    text = re.sub(r\"\\?\", \"물음표\", text)\n",
        "    text = re.sub(r\"\\.\", \"마침표\", text)\n",
        "\n",
        "    return text\n",
        "\n",
        "\n",
        "def jamo_text(text):\n",
        "    # 기본 자모음\n",
        "    text = re.sub(r\"ㄱ\", \"기역\", text)\n",
        "    text = re.sub(r\"ㄴ\", \"니은\", text)\n",
        "    text = re.sub(r\"ㄷ\", \"디귿\", text)\n",
        "    text = re.sub(r\"ㄹ\", \"리을\", text)\n",
        "    text = re.sub(r\"ㅁ\", \"미음\", text)\n",
        "    text = re.sub(r\"ㅂ\", \"비읍\", text)\n",
        "    text = re.sub(r\"ㅅ\", \"시옷\", text)\n",
        "    text = re.sub(r\"ㅇ\", \"이응\", text)\n",
        "    text = re.sub(r\"ㅈ\", \"지읒\", text)\n",
        "    text = re.sub(r\"ㅊ\", \"치읓\", text)\n",
        "    text = re.sub(r\"ㅋ\", \"키읔\", text)\n",
        "    text = re.sub(r\"ㅌ\", \"티읕\", text)\n",
        "    text = re.sub(r\"ㅍ\", \"피읖\", text)\n",
        "    text = re.sub(r\"ㅎ\", \"히읗\", text)\n",
        "    text = re.sub(r\"ㄲ\", \"쌍기역\", text)\n",
        "    text = re.sub(r\"ㄸ\", \"쌍디귿\", text)\n",
        "    text = re.sub(r\"ㅃ\", \"쌍비읍\", text)\n",
        "    text = re.sub(r\"ㅆ\", \"쌍시옷\", text)\n",
        "    text = re.sub(r\"ㅉ\", \"쌍지읒\", text)\n",
        "    text = re.sub(r\"ㄳ\", \"기역시옷\", text)\n",
        "    text = re.sub(r\"ㄵ\", \"니은지읒\", text)\n",
        "    text = re.sub(r\"ㄶ\", \"니은히읗\", text)\n",
        "    text = re.sub(r\"ㄺ\", \"리을기역\", text)\n",
        "    text = re.sub(r\"ㄻ\", \"리을미음\", text)\n",
        "    text = re.sub(r\"ㄼ\", \"리을비읍\", text)\n",
        "    text = re.sub(r\"ㄽ\", \"리을시옷\", text)\n",
        "    text = re.sub(r\"ㄾ\", \"리을티읕\", text)\n",
        "    text = re.sub(r\"ㄿ\", \"리을피읍\", text)\n",
        "    text = re.sub(r\"ㅀ\", \"리을히읗\", text)\n",
        "    text = re.sub(r\"ㅄ\", \"비읍시옷\", text)\n",
        "    text = re.sub(r\"ㅏ\", \"아\", text)\n",
        "    text = re.sub(r\"ㅑ\", \"야\", text)\n",
        "    text = re.sub(r\"ㅓ\", \"어\", text)\n",
        "    text = re.sub(r\"ㅕ\", \"여\", text)\n",
        "    text = re.sub(r\"ㅗ\", \"오\", text)\n",
        "    text = re.sub(r\"ㅛ\", \"요\", text)\n",
        "    text = re.sub(r\"ㅜ\", \"우\", text)\n",
        "    text = re.sub(r\"ㅠ\", \"유\", text)\n",
        "    text = re.sub(r\"ㅡ\", \"으\", text)\n",
        "    text = re.sub(r\"ㅣ\", \"이\", text)\n",
        "    text = re.sub(r\"ㅐ\", \"애\", text)\n",
        "    text = re.sub(r\"ㅒ\", \"얘\", text)\n",
        "    text = re.sub(r\"ㅔ\", \"에\", text)\n",
        "    text = re.sub(r\"ㅖ\", \"예\", text)\n",
        "    text = re.sub(r\"ㅘ\", \"와\", text)\n",
        "    text = re.sub(r\"ㅙ\", \"왜\", text)\n",
        "    text = re.sub(r\"ㅚ\", \"외\", text)\n",
        "    text = re.sub(r\"ㅝ\", \"워\", text)\n",
        "    text = re.sub(r\"ㅞ\", \"웨\", text)\n",
        "    text = re.sub(r\"ㅟ\", \"위\", text)\n",
        "    text = re.sub(r\"ㅢ\", \"의\", text)\n",
        "\n",
        "    return text\n",
        "\n",
        "\n",
        "def normalize_multiline_text(long_text):\n",
        "    texts = split_text(long_text)\n",
        "    normalized_texts = [normalize_text(text).strip() for text in texts]\n",
        "    return [text for text in normalized_texts if len(text) > 0]\n",
        "\n",
        "def synthesize(text):\n",
        "    wavs = synthesizer.tts(text, None, None)\n",
        "    return wavs"
      ]
    },
    {
      "attachments": {},
      "cell_type": "markdown",
      "metadata": {
        "id": "SbPRQfl8z28u"
      },
      "source": [
        "## 3. 학습한 모델 불러오기\n",
        "\n",
        "학습한 Glow-TTS와 HiFi-GAN 모델을 불러옵니다.\n",
        "\n",
        "만약 다른 체크포인트에서 불러오시려면 아래 코드에서 경로를 아래와 같이 적절하게 수정합니다.\n",
        "\n",
        "```python\n",
        "synthesizer = Synthesizer(\n",
        "    \"../drive/My Drive/Colab Notebooks/data/glowtts-v2/glowtts-v2-June-23-2023_06+15PM-3aa165ae/checkpoint_68000.pth.tar\",\n",
        "    \"../drive/My Drive/Colab Notebooks/data/glowtts-v2/glowtts-v2-June-23-2023_06+15PM-3aa165ae/config.json\",\n",
        "    None,\n",
        "    \"../drive/My Drive/Colab Notebooks/data/hifigan-v2/hifigan-v2-June-24-2023_12+59PM-3aa165ae/checkpoint_380000.pth.tar\",\n",
        "    \"../drive/My Drive/Colab Notebooks/data/hifigan-v2/hifigan-v2-June-24-2023_12+59PM-3aa165ae/config.json\",\n",
        "    None,\n",
        "    None,\n",
        "    False,\n",
        ")\n",
        "```"
      ]
    },
    {
      "cell_type": "code",
      "execution_count": 15,
      "metadata": {
        "colab": {
          "base_uri": "https://localhost:8080/"
        },
        "id": "zwROk8zUHgUn",
        "outputId": "e2669971-0ffe-424d-a9d2-2df67c93ffba"
      },
      "outputs": [
        {
          "name": "stdout",
          "output_type": "stream",
          "text": [
            " > Using model: glow_tts\n"
          ]
        },
        {
          "name": "stderr",
          "output_type": "stream",
          "text": [
            "/opt/ml/content/TTS/TTS/tts/layers/glow_tts/glow.py:84: UserWarning: torch.qr is deprecated in favor of torch.linalg.qr and will be removed in a future PyTorch release.\n",
            "The boolean parameter 'some' has been replaced with a string parameter 'mode'.\n",
            "Q, R = torch.qr(A, some)\n",
            "should be replaced with\n",
            "Q, R = torch.linalg.qr(A, 'reduced' if some else 'complete') (Triggered internally at ../aten/src/ATen/native/BatchLinearAlgebra.cpp:2425.)\n",
            "  w_init = torch.qr(torch.FloatTensor(self.num_splits, self.num_splits).normal_())[0]\n"
          ]
        },
        {
          "name": "stdout",
          "output_type": "stream",
          "text": [
            " > Generator Model: hifigan_generator\n",
            "Removing weight norm...\n"
          ]
        }
      ],
      "source": [
        "synthesizer = Synthesizer(\n",
        "    \"../drive/My Drive/Colab Notebooks/data/glowtts-v2/glowtts-v2-June-25-2023_02+36PM-3aa165ae/checkpoint_113000.pth.tar\",\n",
        "    \"../drive/My Drive/Colab Notebooks/data/glowtts-v2/glowtts-v2-June-25-2023_02+36PM-3aa165ae/config.json\",\n",
        "    None,\n",
        "    \"../drive/My Drive/Colab Notebooks/data/hifigan-v2/hifigan-v2-June-26-2023_07+23AM-3aa165ae/checkpoint_465000.pth.tar\",\n",
        "    \"../drive/My Drive/Colab Notebooks/data/hifigan-v2/hifigan-v2-June-26-2023_07+23AM-3aa165ae/config.json\",\n",
        "    None,\n",
        "    None,\n",
        "    False,\n",
        ")\n",
        "symbols = synthesizer.tts_config.characters.characters\n",
        "\n",
        "# /content/drive/MyDrive/Colab Notebooks (1)"
      ]
    },
    {
      "attachments": {},
      "cell_type": "markdown",
      "metadata": {
        "id": "tmjT_BrV0XYD"
      },
      "source": [
        "## 4. 음성 합성\n",
        "\n",
        "실제 음성 합성을 수행합니다.\n",
        "\n",
        "`long_text`의 값을 변경하여 다른 문장의 합성도 시도해보실 수 있습니다.\n",
        "\n",
        "참고문헌\n",
        "\n",
        "https://ai-creator.tistory.com/59\n",
        "\n",
        "https://stackoverflow.com/questions/55701631/how-can-we-use-microphone-in-google-colab"
      ]
    },
    {
      "attachments": {},
      "cell_type": "markdown",
      "metadata": {
        "id": "x5Ytw3qwQDvk"
      },
      "source": [
        "## 4.1 stt 실행"
      ]
    },
    {
      "cell_type": "code",
      "execution_count": 16,
      "metadata": {},
      "outputs": [
        {
          "name": "stdout",
          "output_type": "stream",
          "text": [
            "Reading package lists... Done\n",
            "Building dependency tree       \n",
            "Reading state information... Done\n",
            "libportaudio2 is already the newest version (19.6.0-1).\n",
            "libportaudiocpp0 is already the newest version (19.6.0-1).\n",
            "portaudio19-dev is already the newest version (19.6.0-1).\n",
            "libasound2-dev is already the newest version (1.1.3-5ubuntu0.6).\n",
            "ffmpeg is already the newest version (7:3.4.11-0ubuntu0.1).\n",
            "0 upgraded, 0 newly installed, 0 to remove and 51 not upgraded.\n"
          ]
        }
      ],
      "source": [
        "!apt install libasound2-dev portaudio19-dev libportaudio2 libportaudiocpp0 ffmpeg -y"
      ]
    },
    {
      "cell_type": "code",
      "execution_count": 17,
      "metadata": {},
      "outputs": [
        {
          "name": "stdout",
          "output_type": "stream",
          "text": [
            "Requirement already satisfied: PyAudio in /opt/conda/lib/python3.8/site-packages (0.2.13)\n",
            "\u001b[33mWARNING: Running pip as the 'root' user can result in broken permissions and conflicting behaviour with the system package manager. It is recommended to use a virtual environment instead: https://pip.pypa.io/warnings/venv\u001b[0m\u001b[33m\n",
            "\u001b[0m"
          ]
        }
      ],
      "source": [
        "!pip install PyAudio"
      ]
    },
    {
      "cell_type": "code",
      "execution_count": 18,
      "metadata": {
        "colab": {
          "base_uri": "https://localhost:8080/"
        },
        "id": "TOfrSZuAUQBa",
        "outputId": "7030d83a-9eb0-4830-839c-cce4fd529417"
      },
      "outputs": [
        {
          "name": "stdout",
          "output_type": "stream",
          "text": [
            "Requirement already satisfied: SpeechRecognition in /opt/conda/lib/python3.8/site-packages (3.10.0)\n",
            "Requirement already satisfied: requests>=2.26.0 in /opt/conda/lib/python3.8/site-packages (from SpeechRecognition) (2.31.0)\n",
            "Requirement already satisfied: charset-normalizer<4,>=2 in /opt/conda/lib/python3.8/site-packages (from requests>=2.26.0->SpeechRecognition) (3.1.0)\n",
            "Requirement already satisfied: idna<4,>=2.5 in /opt/conda/lib/python3.8/site-packages (from requests>=2.26.0->SpeechRecognition) (2.10)\n",
            "Requirement already satisfied: urllib3<3,>=1.21.1 in /opt/conda/lib/python3.8/site-packages (from requests>=2.26.0->SpeechRecognition) (1.26.16)\n",
            "Requirement already satisfied: certifi>=2017.4.17 in /opt/conda/lib/python3.8/site-packages (from requests>=2.26.0->SpeechRecognition) (2020.12.5)\n",
            "\u001b[33mWARNING: Running pip as the 'root' user can result in broken permissions and conflicting behaviour with the system package manager. It is recommended to use a virtual environment instead: https://pip.pypa.io/warnings/venv\u001b[0m\u001b[33m\n",
            "\u001b[0mRequirement already satisfied: ffmpeg-python in /opt/conda/lib/python3.8/site-packages (0.2.0)\n",
            "Requirement already satisfied: future in /opt/conda/lib/python3.8/site-packages (from ffmpeg-python) (0.18.3)\n",
            "\u001b[33mWARNING: Running pip as the 'root' user can result in broken permissions and conflicting behaviour with the system package manager. It is recommended to use a virtual environment instead: https://pip.pypa.io/warnings/venv\u001b[0m\u001b[33m\n",
            "\u001b[0m"
          ]
        }
      ],
      "source": [
        "!pip install SpeechRecognition\n",
        "!pip install ffmpeg-python"
      ]
    },
    {
      "cell_type": "code",
      "execution_count": 19,
      "metadata": {
        "id": "OhlM3hXlUtRi"
      },
      "outputs": [],
      "source": [
        "from IPython.display import HTML, Audio\n",
        "#from google.colab.output import eval_js\n",
        "from base64 import b64decode\n",
        "import numpy as np\n",
        "from scipy.io.wavfile import read as wav_read\n",
        "import io\n",
        "import ffmpeg\n",
        "\n",
        "AUDIO_HTML = \"\"\"\n",
        "<script>\n",
        "var my_div = document.createElement(\"DIV\");\n",
        "var my_p = document.createElement(\"P\");\n",
        "var my_btn = document.createElement(\"BUTTON\");\n",
        "var t = document.createTextNode(\"Press to start recording\");\n",
        "\n",
        "my_btn.appendChild(t);\n",
        "//my_p.appendChild(my_btn);\n",
        "my_div.appendChild(my_btn);\n",
        "document.body.appendChild(my_div);\n",
        "\n",
        "var base64data = 0;\n",
        "var reader;\n",
        "var recorder, gumStream;\n",
        "var recordButton = my_btn;\n",
        "\n",
        "var handleSuccess = function(stream) {\n",
        "  gumStream = stream;\n",
        "  var options = {\n",
        "    //bitsPerSecond: 8000, //chrome seems to ignore, always 48k\n",
        "    mimeType : 'audio/webm;codecs=opus'\n",
        "    //mimeType : 'audio/webm;codecs=pcm'\n",
        "  };\n",
        "  //recorder = new MediaRecorder(stream, options);\n",
        "  recorder = new MediaRecorder(stream);\n",
        "  recorder.ondataavailable = function(e) {\n",
        "    var url = URL.createObjectURL(e.data);\n",
        "    var preview = document.createElement('audio');\n",
        "    preview.controls = true;\n",
        "    preview.src = url;\n",
        "    document.body.appendChild(preview);\n",
        "\n",
        "    reader = new FileReader();\n",
        "    reader.readAsDataURL(e.data);\n",
        "    reader.onloadend = function() {\n",
        "      base64data = reader.result;\n",
        "      //console.log(\"Inside FileReader:\" + base64data);\n",
        "    }\n",
        "  };\n",
        "  recorder.start();\n",
        "  };\n",
        "\n",
        "recordButton.innerText = \"Recording... press to stop\";\n",
        "\n",
        "navigator.mediaDevices.getUserMedia({audio: true}).then(handleSuccess);\n",
        "\n",
        "\n",
        "function toggleRecording() {\n",
        "  if (recorder && recorder.state == \"recording\") {\n",
        "      recorder.stop();\n",
        "      gumStream.getAudioTracks()[0].stop();\n",
        "      recordButton.innerText = \"Saving the recording... pls wait!\"\n",
        "  }\n",
        "}\n",
        "\n",
        "// https://stackoverflow.com/a/951057\n",
        "function sleep(ms) {\n",
        "  return new Promise(resolve => setTimeout(resolve, ms));\n",
        "}\n",
        "\n",
        "var data = new Promise(resolve=>{\n",
        "//recordButton.addEventListener(\"click\", toggleRecording);\n",
        "recordButton.onclick = ()=>{\n",
        "toggleRecording()\n",
        "\n",
        "sleep(2000).then(() => {\n",
        "  // wait 2000ms for the data to be available...\n",
        "  // ideally this should use something like await...\n",
        "  //console.log(\"Inside data:\" + base64data)\n",
        "  resolve(base64data.toString())\n",
        "\n",
        "});\n",
        "\n",
        "}\n",
        "});\n",
        "\n",
        "</script>\n",
        "\"\"\"\n",
        "\n",
        "def get_audio():\n",
        "  display(HTML(AUDIO_HTML))\n",
        "  data = eval_js(\"data\")\n",
        "  binary = b64decode(data.split(',')[1])\n",
        "\n",
        "  process = (ffmpeg\n",
        "    .input('pipe:0')\n",
        "    .output('pipe:1', format='wav')\n",
        "    .run_async(pipe_stdin=True, pipe_stdout=True, pipe_stderr=True, quiet=True, overwrite_output=True)\n",
        "  )\n",
        "  output, err = process.communicate(input=binary)\n",
        "\n",
        "  riff_chunk_size = len(output) - 8\n",
        "  # Break up the chunk size into four bytes, held in b.\n",
        "  q = riff_chunk_size\n",
        "  b = []\n",
        "  for i in range(4):\n",
        "      q, r = divmod(q, 256)\n",
        "      b.append(r)\n",
        "\n",
        "  # Replace bytes 4:8 in proc.stdout with the actual size of the RIFF chunk.\n",
        "  riff = output[:4] + bytes(b) + output[8:]\n",
        "\n",
        "  sr, audio = wav_read(io.BytesIO(riff))\n",
        "\n",
        "  return audio, sr"
      ]
    },
    {
      "cell_type": "code",
      "execution_count": 20,
      "metadata": {
        "colab": {
          "base_uri": "https://localhost:8080/",
          "height": 97
        },
        "id": "rNzPXHlEUvxZ",
        "outputId": "3873a907-e102-470d-c70b-41e3a2d09d3c"
      },
      "outputs": [
        {
          "data": {
            "text/html": [
              "\n",
              "<script>\n",
              "var my_div = document.createElement(\"DIV\");\n",
              "var my_p = document.createElement(\"P\");\n",
              "var my_btn = document.createElement(\"BUTTON\");\n",
              "var t = document.createTextNode(\"Press to start recording\");\n",
              "\n",
              "my_btn.appendChild(t);\n",
              "//my_p.appendChild(my_btn);\n",
              "my_div.appendChild(my_btn);\n",
              "document.body.appendChild(my_div);\n",
              "\n",
              "var base64data = 0;\n",
              "var reader;\n",
              "var recorder, gumStream;\n",
              "var recordButton = my_btn;\n",
              "\n",
              "var handleSuccess = function(stream) {\n",
              "  gumStream = stream;\n",
              "  var options = {\n",
              "    //bitsPerSecond: 8000, //chrome seems to ignore, always 48k\n",
              "    mimeType : 'audio/webm;codecs=opus'\n",
              "    //mimeType : 'audio/webm;codecs=pcm'\n",
              "  };\n",
              "  //recorder = new MediaRecorder(stream, options);\n",
              "  recorder = new MediaRecorder(stream);\n",
              "  recorder.ondataavailable = function(e) {\n",
              "    var url = URL.createObjectURL(e.data);\n",
              "    var preview = document.createElement('audio');\n",
              "    preview.controls = true;\n",
              "    preview.src = url;\n",
              "    document.body.appendChild(preview);\n",
              "\n",
              "    reader = new FileReader();\n",
              "    reader.readAsDataURL(e.data);\n",
              "    reader.onloadend = function() {\n",
              "      base64data = reader.result;\n",
              "      //console.log(\"Inside FileReader:\" + base64data);\n",
              "    }\n",
              "  };\n",
              "  recorder.start();\n",
              "  };\n",
              "\n",
              "recordButton.innerText = \"Recording... press to stop\";\n",
              "\n",
              "navigator.mediaDevices.getUserMedia({audio: true}).then(handleSuccess);\n",
              "\n",
              "\n",
              "function toggleRecording() {\n",
              "  if (recorder && recorder.state == \"recording\") {\n",
              "      recorder.stop();\n",
              "      gumStream.getAudioTracks()[0].stop();\n",
              "      recordButton.innerText = \"Saving the recording... pls wait!\"\n",
              "  }\n",
              "}\n",
              "\n",
              "// https://stackoverflow.com/a/951057\n",
              "function sleep(ms) {\n",
              "  return new Promise(resolve => setTimeout(resolve, ms));\n",
              "}\n",
              "\n",
              "var data = new Promise(resolve=>{\n",
              "//recordButton.addEventListener(\"click\", toggleRecording);\n",
              "recordButton.onclick = ()=>{\n",
              "toggleRecording()\n",
              "\n",
              "sleep(2000).then(() => {\n",
              "  // wait 2000ms for the data to be available...\n",
              "  // ideally this should use something like await...\n",
              "  //console.log(\"Inside data:\" + base64data)\n",
              "  resolve(base64data.toString())\n",
              "\n",
              "});\n",
              "\n",
              "}\n",
              "});\n",
              "\n",
              "</script>\n"
            ],
            "text/plain": [
              "<IPython.core.display.HTML object>"
            ]
          },
          "metadata": {},
          "output_type": "display_data"
        },
        {
          "ename": "NameError",
          "evalue": "name 'eval_js' is not defined",
          "output_type": "error",
          "traceback": [
            "\u001b[0;31m---------------------------------------------------------------------------\u001b[0m",
            "\u001b[0;31mNameError\u001b[0m                                 Traceback (most recent call last)",
            "Cell \u001b[0;32mIn[20], line 1\u001b[0m\n\u001b[0;32m----> 1\u001b[0m audio, sr \u001b[39m=\u001b[39m get_audio()\n\u001b[1;32m      2\u001b[0m out_f \u001b[39m=\u001b[39m \u001b[39m'\u001b[39m\u001b[39moutput.wav\u001b[39m\u001b[39m'\u001b[39m\n\u001b[1;32m      3\u001b[0m wavf\u001b[39m.\u001b[39mwrite(out_f, sr, audio)\n",
            "Cell \u001b[0;32mIn[19], line 91\u001b[0m, in \u001b[0;36mget_audio\u001b[0;34m()\u001b[0m\n\u001b[1;32m     89\u001b[0m \u001b[39mdef\u001b[39;00m \u001b[39mget_audio\u001b[39m():\n\u001b[1;32m     90\u001b[0m   display(HTML(AUDIO_HTML))\n\u001b[0;32m---> 91\u001b[0m   data \u001b[39m=\u001b[39m eval_js(\u001b[39m\"\u001b[39m\u001b[39mdata\u001b[39m\u001b[39m\"\u001b[39m)\n\u001b[1;32m     92\u001b[0m   binary \u001b[39m=\u001b[39m b64decode(data\u001b[39m.\u001b[39msplit(\u001b[39m'\u001b[39m\u001b[39m,\u001b[39m\u001b[39m'\u001b[39m)[\u001b[39m1\u001b[39m])\n\u001b[1;32m     94\u001b[0m   process \u001b[39m=\u001b[39m (ffmpeg\n\u001b[1;32m     95\u001b[0m     \u001b[39m.\u001b[39minput(\u001b[39m'\u001b[39m\u001b[39mpipe:0\u001b[39m\u001b[39m'\u001b[39m)\n\u001b[1;32m     96\u001b[0m     \u001b[39m.\u001b[39moutput(\u001b[39m'\u001b[39m\u001b[39mpipe:1\u001b[39m\u001b[39m'\u001b[39m, \u001b[39mformat\u001b[39m\u001b[39m=\u001b[39m\u001b[39m'\u001b[39m\u001b[39mwav\u001b[39m\u001b[39m'\u001b[39m)\n\u001b[1;32m     97\u001b[0m     \u001b[39m.\u001b[39mrun_async(pipe_stdin\u001b[39m=\u001b[39m\u001b[39mTrue\u001b[39;00m, pipe_stdout\u001b[39m=\u001b[39m\u001b[39mTrue\u001b[39;00m, pipe_stderr\u001b[39m=\u001b[39m\u001b[39mTrue\u001b[39;00m, quiet\u001b[39m=\u001b[39m\u001b[39mTrue\u001b[39;00m, overwrite_output\u001b[39m=\u001b[39m\u001b[39mTrue\u001b[39;00m)\n\u001b[1;32m     98\u001b[0m   )\n",
            "\u001b[0;31mNameError\u001b[0m: name 'eval_js' is not defined"
          ]
        }
      ],
      "source": [
        "audio, sr = get_audio()\n",
        "out_f = 'output.wav'\n",
        "wavf.write(out_f, sr, audio)\n",
        "\n"
      ]
    },
    {
      "cell_type": "code",
      "execution_count": 21,
      "metadata": {
        "colab": {
          "base_uri": "https://localhost:8080/"
        },
        "id": "s-1KPShO3-Rx",
        "outputId": "e244ae95-d3a1-401f-9fe0-a620ba2c6315"
      },
      "outputs": [
        {
          "ename": "NameError",
          "evalue": "name 'out_f' is not defined",
          "output_type": "error",
          "traceback": [
            "\u001b[0;31m---------------------------------------------------------------------------\u001b[0m",
            "\u001b[0;31mNameError\u001b[0m                                 Traceback (most recent call last)",
            "Cell \u001b[0;32mIn[21], line 6\u001b[0m\n\u001b[1;32m      4\u001b[0m \u001b[39m# audio file을 audio source로 사용합니다\u001b[39;00m\n\u001b[1;32m      5\u001b[0m r \u001b[39m=\u001b[39m sr\u001b[39m.\u001b[39mRecognizer()\n\u001b[0;32m----> 6\u001b[0m \u001b[39mwith\u001b[39;00m sr\u001b[39m.\u001b[39mAudioFile(out_f) \u001b[39mas\u001b[39;00m source:\n\u001b[1;32m      7\u001b[0m     audio \u001b[39m=\u001b[39m r\u001b[39m.\u001b[39mrecord(source)  \u001b[39m# 전체 audio file 읽기\u001b[39;00m\n\u001b[1;32m      9\u001b[0m \u001b[39m# 구글 웹 음성 API로 인식하기 (하루에 제한 50회)\u001b[39;00m\n",
            "\u001b[0;31mNameError\u001b[0m: name 'out_f' is not defined"
          ]
        }
      ],
      "source": [
        "import speech_recognition as sr\n",
        "\n",
        "\n",
        "# audio file을 audio source로 사용합니다\n",
        "r = sr.Recognizer()\n",
        "with sr.AudioFile(out_f) as source:\n",
        "    audio = r.record(source)  # 전체 audio file 읽기\n",
        "\n",
        "# 구글 웹 음성 API로 인식하기 (하루에 제한 50회)\n",
        "try:\n",
        "    print(\"Google Speech Recognition thinks you said : \" + r.recognize_google(audio, language='ko'))\n",
        "except sr.UnknownValueError:\n",
        "    print(\"Google Speech Recognition could not understand audio\")\n",
        "except sr.RequestError as e:\n",
        "    print(\"Could not request results from Google Speech Recognition service; {0}\".format(e))"
      ]
    },
    {
      "attachments": {},
      "cell_type": "markdown",
      "metadata": {
        "id": "e498To3-PJ1v"
      },
      "source": [
        "chatbot 구현"
      ]
    },
    {
      "cell_type": "code",
      "execution_count": null,
      "metadata": {
        "colab": {
          "base_uri": "https://localhost:8080/"
        },
        "id": "CIOj93dnPIyD",
        "outputId": "db24f08e-0f3a-4127-f878-c164a393ef37"
      },
      "outputs": [],
      "source": [
        "input_text = r.recognize_google(audio, language='ko')\n",
        "print(input_text)\n",
        "\n",
        "'''\n",
        "챗봇에 input_text를 입력하면 침착맨이 text형태로 output_text 출력 -> infer texts로 입력하여 침착맨 목소리로 답변\n",
        "\n",
        "\n",
        "'''\n"
      ]
    },
    {
      "attachments": {},
      "cell_type": "markdown",
      "metadata": {
        "id": "1kWNLO1sPEVV"
      },
      "source": [
        "#### infer test"
      ]
    },
    {
      "cell_type": "code",
      "execution_count": 1,
      "metadata": {
        "id": "XSnF1D48F1tx"
      },
      "outputs": [
        {
          "ename": "NameError",
          "evalue": "name 'normalize_multiline_text' is not defined",
          "output_type": "error",
          "traceback": [
            "\u001b[0;31m---------------------------------------------------------------------------\u001b[0m",
            "\u001b[0;31mNameError\u001b[0m                                 Traceback (most recent call last)",
            "Cell \u001b[0;32mIn[1], line 4\u001b[0m\n\u001b[1;32m      1\u001b[0m texts \u001b[39m=\u001b[39m \u001b[39m\"\"\"\u001b[39m\n\u001b[1;32m      2\u001b[0m \u001b[39m반갑습니다\u001b[39m\n\u001b[1;32m      3\u001b[0m \u001b[39m\"\"\"\u001b[39m\n\u001b[0;32m----> 4\u001b[0m \u001b[39mfor\u001b[39;00m text \u001b[39min\u001b[39;00m normalize_multiline_text(texts):\n\u001b[1;32m      5\u001b[0m     wav \u001b[39m=\u001b[39m synthesizer\u001b[39m.\u001b[39mtts(text, \u001b[39mNone\u001b[39;00m, \u001b[39mNone\u001b[39;00m)\n\u001b[1;32m      6\u001b[0m     IPython\u001b[39m.\u001b[39mdisplay\u001b[39m.\u001b[39mdisplay(IPython\u001b[39m.\u001b[39mdisplay\u001b[39m.\u001b[39mAudio(wav, rate\u001b[39m=\u001b[39m\u001b[39m22050\u001b[39m))\n",
            "\u001b[0;31mNameError\u001b[0m: name 'normalize_multiline_text' is not defined"
          ]
        }
      ],
      "source": [
        "texts = \"\"\"\n",
        "반갑습니다\n",
        "\"\"\"\n",
        "for text in normalize_multiline_text(texts):\n",
        "    wav = synthesizer.tts(text, None, None)\n",
        "    IPython.display.display(IPython.display.Audio(wav, rate=22050))"
      ]
    }
  ],
  "metadata": {
    "colab": {
      "collapsed_sections": [
        "8erClGSnzwge"
      ],
      "provenance": []
    },
    "kernelspec": {
      "display_name": "Python 3",
      "name": "python3"
    },
    "language_info": {
      "codemirror_mode": {
        "name": "ipython",
        "version": 3
      },
      "file_extension": ".py",
      "mimetype": "text/x-python",
      "name": "python",
      "nbconvert_exporter": "python",
      "pygments_lexer": "ipython3",
      "version": "3.8.5"
    }
  },
  "nbformat": 4,
  "nbformat_minor": 0
}
