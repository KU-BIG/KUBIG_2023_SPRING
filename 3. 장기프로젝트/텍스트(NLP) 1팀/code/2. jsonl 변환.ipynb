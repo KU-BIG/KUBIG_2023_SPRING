{
  "nbformat": 4,
  "nbformat_minor": 0,
  "metadata": {
    "colab": {
      "provenance": []
    },
    "kernelspec": {
      "name": "python3",
      "display_name": "Python 3"
    },
    "language_info": {
      "name": "python"
    }
  },
  "cells": [
    {
      "cell_type": "code",
      "source": [
        "from google.colab import drive\n",
        "drive.mount('/content/drive')"
      ],
      "metadata": {
        "colab": {
          "base_uri": "https://localhost:8080/"
        },
        "id": "Op_zE4IjsPlO",
        "outputId": "aa790882-87c6-4727-ea7c-83b69686c3fc"
      },
      "execution_count": null,
      "outputs": [
        {
          "output_type": "stream",
          "name": "stdout",
          "text": [
            "Mounted at /content/drive\n"
          ]
        }
      ]
    },
    {
      "cell_type": "code",
      "source": [
        "pip install jsonlines"
      ],
      "metadata": {
        "colab": {
          "base_uri": "https://localhost:8080/"
        },
        "id": "_d9BiJJ9sil6",
        "outputId": "2a30e383-40e3-4a28-a11e-86853022800a"
      },
      "execution_count": null,
      "outputs": [
        {
          "output_type": "stream",
          "name": "stdout",
          "text": [
            "Looking in indexes: https://pypi.org/simple, https://us-python.pkg.dev/colab-wheels/public/simple/\n",
            "Collecting jsonlines\n",
            "  Downloading jsonlines-3.1.0-py3-none-any.whl (8.6 kB)\n",
            "Requirement already satisfied: attrs>=19.2.0 in /usr/local/lib/python3.10/dist-packages (from jsonlines) (23.1.0)\n",
            "Installing collected packages: jsonlines\n",
            "Successfully installed jsonlines-3.1.0\n"
          ]
        }
      ]
    },
    {
      "cell_type": "code",
      "source": [
        "import csv\n",
        "import jsonlines"
      ],
      "metadata": {
        "id": "LzJNfLFpsgbM"
      },
      "execution_count": null,
      "outputs": []
    },
    {
      "cell_type": "code",
      "execution_count": null,
      "metadata": {
        "id": "ubNb1Po1rHZg"
      },
      "outputs": [],
      "source": [
        "\n",
        "csv_file_path = \"/content/drive/MyDrive/preprocessed.csv\"\n",
        "jsonl_file_path = \"/content/drive/MyDrive/output2.jsonl\"\n",
        "\n",
        "with open(csv_file_path, \"r\") as csv_file, open(jsonl_file_path, \"w\") as jsonl_file:\n",
        "    csv_reader = csv.DictReader(csv_file)\n",
        "    jsonl_writer = jsonlines.Writer(jsonl_file)\n",
        "\n",
        "    for row in csv_reader:\n",
        "        data = {\n",
        "            \"prompt\": row['title'],\n",
        "            \"completion\": row['preprocessed']\n",
        "        }\n",
        "\n",
        "        jsonl_writer.write(data)\n",
        "\n",
        "    jsonl_writer.close()\n"
      ]
    }
  ]
}