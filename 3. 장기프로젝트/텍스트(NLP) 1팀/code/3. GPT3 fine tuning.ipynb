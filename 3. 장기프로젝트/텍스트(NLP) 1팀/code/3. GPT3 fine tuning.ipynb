{
  "nbformat": 4,
  "nbformat_minor": 0,
  "metadata": {
    "colab": {
      "provenance": []
    },
    "kernelspec": {
      "name": "python3",
      "display_name": "Python 3"
    },
    "language_info": {
      "name": "python"
    }
  },
  "cells": [
    {
      "cell_type": "markdown",
      "source": [
        "## GPT3 fine tuning\n"
      ],
      "metadata": {
        "id": "P7wk7EhGV0uO"
      }
    },
    {
      "cell_type": "code",
      "source": [
        "from google.colab import drive\n",
        "drive.mount('/content/drive')"
      ],
      "metadata": {
        "colab": {
          "base_uri": "https://localhost:8080/"
        },
        "id": "J9fE6o0U2rFM",
        "outputId": "5f1e47cc-df41-42f4-b042-e7023c535d5d"
      },
      "execution_count": null,
      "outputs": [
        {
          "output_type": "stream",
          "name": "stdout",
          "text": [
            "Drive already mounted at /content/drive; to attempt to forcibly remount, call drive.mount(\"/content/drive\", force_remount=True).\n"
          ]
        }
      ]
    },
    {
      "cell_type": "code",
      "metadata": {
        "id": "iia9L75M-Fl_",
        "colab": {
          "base_uri": "https://localhost:8080/"
        },
        "outputId": "4afa17fe-fb9f-478b-b2cf-abab45eb0092"
      },
      "source": [
        "!pip install --upgrade openai"
      ],
      "execution_count": null,
      "outputs": [
        {
          "output_type": "stream",
          "name": "stdout",
          "text": [
            "Requirement already satisfied: openai in /usr/local/lib/python3.10/dist-packages (0.27.8)\n",
            "Requirement already satisfied: requests>=2.20 in /usr/local/lib/python3.10/dist-packages (from openai) (2.27.1)\n",
            "Requirement already satisfied: tqdm in /usr/local/lib/python3.10/dist-packages (from openai) (4.65.0)\n",
            "Requirement already satisfied: aiohttp in /usr/local/lib/python3.10/dist-packages (from openai) (3.8.4)\n",
            "Requirement already satisfied: urllib3<1.27,>=1.21.1 in /usr/local/lib/python3.10/dist-packages (from requests>=2.20->openai) (1.26.16)\n",
            "Requirement already satisfied: certifi>=2017.4.17 in /usr/local/lib/python3.10/dist-packages (from requests>=2.20->openai) (2023.5.7)\n",
            "Requirement already satisfied: charset-normalizer~=2.0.0 in /usr/local/lib/python3.10/dist-packages (from requests>=2.20->openai) (2.0.12)\n",
            "Requirement already satisfied: idna<4,>=2.5 in /usr/local/lib/python3.10/dist-packages (from requests>=2.20->openai) (3.4)\n",
            "Requirement already satisfied: attrs>=17.3.0 in /usr/local/lib/python3.10/dist-packages (from aiohttp->openai) (23.1.0)\n",
            "Requirement already satisfied: multidict<7.0,>=4.5 in /usr/local/lib/python3.10/dist-packages (from aiohttp->openai) (6.0.4)\n",
            "Requirement already satisfied: async-timeout<5.0,>=4.0.0a3 in /usr/local/lib/python3.10/dist-packages (from aiohttp->openai) (4.0.2)\n",
            "Requirement already satisfied: yarl<2.0,>=1.0 in /usr/local/lib/python3.10/dist-packages (from aiohttp->openai) (1.9.2)\n",
            "Requirement already satisfied: frozenlist>=1.1.1 in /usr/local/lib/python3.10/dist-packages (from aiohttp->openai) (1.3.3)\n",
            "Requirement already satisfied: aiosignal>=1.1.2 in /usr/local/lib/python3.10/dist-packages (from aiohttp->openai) (1.3.1)\n"
          ]
        }
      ]
    },
    {
      "cell_type": "code",
      "metadata": {
        "id": "dcrhn5Gr-Iw_"
      },
      "source": [
        "!export OPENAI_API_KEY=\"본인의 api key를 입력하세요\""
      ],
      "execution_count": null,
      "outputs": []
    },
    {
      "cell_type": "code",
      "metadata": {
        "colab": {
          "base_uri": "https://localhost:8080/"
        },
        "id": "LE-ncLJjAnLu",
        "outputId": "bfb5ca0e-d724-4536-ee67-5815d2fbc417"
      },
      "source": [
        "!openai tools fine_tunes.prepare_data -f /content/drive/MyDrive/output2.jsonl"
      ],
      "execution_count": null,
      "outputs": [
        {
          "output_type": "stream",
          "name": "stdout",
          "text": [
            "Analyzing...\n",
            "\n",
            "- Your file contains 4216 prompt-completion pairs\n",
            "- There are 1939 examples that are very long. These are rows: [3, 4, 5, 14, 16, 26, 35, 38, 41, 46, 53, 58, 72, 75, 91, 93, 99, 100, 104, 106, 108, 111, 112, 121, 127, 135, 138, 143, 145, 148, 152, 154, 156, 157, 160, 164, 165, 172, 194, 201, 203, 204, 219, 224, 226, 228, 231, 235, 249, 252, 258, 265, 279, 287, 289, 290, 301, 302, 306, 307, 313, 315, 316, 317, 319, 321, 322, 326, 331, 332, 335, 336, 337, 339, 340, 341, 342, 343, 344, 347, 351, 352, 353, 357, 359, 361, 362, 367, 371, 372, 383, 386, 389, 391, 393, 396, 399, 401, 404, 405, 408, 410, 412, 413, 416, 421, 422, 427, 432, 435, 436, 438, 439, 461, 479, 482, 495, 496, 497, 500, 502, 512, 513, 519, 520, 521, 524, 531, 536, 537, 539, 541, 543, 544, 546, 548, 549, 551, 554, 557, 558, 560, 561, 562, 569, 571, 576, 577, 581, 585, 589, 590, 595, 596, 597, 600, 604, 605, 606, 611, 612, 613, 615, 618, 619, 623, 624, 626, 628, 629, 632, 633, 638, 642, 643, 646, 656, 658, 662, 664, 665, 670, 673, 675, 678, 680, 682, 688, 689, 690, 693, 694, 696, 698, 700, 701, 702, 704, 706, 711, 715, 718, 720, 721, 722, 723, 732, 736, 739, 742, 744, 745, 747, 751, 753, 757, 759, 762, 767, 775, 776, 778, 781, 782, 784, 787, 788, 791, 793, 796, 798, 800, 802, 803, 805, 807, 808, 815, 818, 821, 823, 824, 827, 832, 835, 836, 838, 840, 842, 843, 847, 849, 857, 858, 861, 862, 864, 869, 873, 876, 877, 880, 882, 884, 885, 897, 898, 902, 906, 907, 910, 914, 915, 917, 920, 921, 924, 927, 930, 932, 933, 934, 935, 936, 937, 940, 949, 954, 958, 959, 960, 963, 964, 965, 971, 974, 979, 980, 985, 996, 998, 1000, 1002, 1003, 1004, 1006, 1008, 1009, 1011, 1016, 1019, 1020, 1021, 1023, 1025, 1028, 1030, 1031, 1032, 1034, 1036, 1038, 1043, 1044, 1046, 1050, 1052, 1053, 1055, 1056, 1057, 1061, 1062, 1065, 1066, 1067, 1069, 1077, 1081, 1082, 1087, 1089, 1091, 1093, 1094, 1097, 1099, 1101, 1103, 1104, 1107, 1108, 1112, 1114, 1115, 1123, 1128, 1137, 1141, 1149, 1163, 1168, 1172, 1173, 1177, 1178, 1184, 1190, 1193, 1198, 1201, 1202, 1203, 1205, 1206, 1212, 1218, 1227, 1229, 1230, 1234, 1237, 1238, 1240, 1243, 1244, 1245, 1248, 1250, 1251, 1255, 1256, 1257, 1261, 1262, 1263, 1264, 1269, 1270, 1272, 1282, 1284, 1286, 1288, 1289, 1290, 1293, 1298, 1300, 1301, 1302, 1303, 1305, 1306, 1312, 1313, 1314, 1316, 1319, 1320, 1322, 1327, 1333, 1334, 1337, 1341, 1343, 1344, 1348, 1354, 1357, 1358, 1359, 1361, 1362, 1365, 1366, 1371, 1373, 1374, 1375, 1377, 1379, 1380, 1383, 1384, 1393, 1394, 1396, 1398, 1399, 1402, 1404, 1406, 1410, 1411, 1414, 1417, 1420, 1423, 1425, 1428, 1430, 1431, 1432, 1436, 1438, 1439, 1440, 1444, 1446, 1448, 1451, 1453, 1456, 1461, 1463, 1464, 1466, 1468, 1473, 1475, 1478, 1479, 1481, 1491, 1493, 1494, 1495, 1497, 1498, 1499, 1500, 1502, 1503, 1505, 1512, 1515, 1516, 1517, 1519, 1520, 1522, 1523, 1524, 1525, 1529, 1530, 1533, 1534, 1535, 1538, 1542, 1547, 1548, 1549, 1554, 1562, 1567, 1569, 1574, 1576, 1580, 1581, 1582, 1583, 1585, 1589, 1592, 1593, 1594, 1596, 1597, 1600, 1605, 1606, 1609, 1614, 1615, 1617, 1618, 1619, 1622, 1623, 1625, 1627, 1628, 1630, 1631, 1632, 1634, 1637, 1639, 1643, 1645, 1647, 1652, 1653, 1655, 1656, 1659, 1660, 1662, 1664, 1666, 1667, 1672, 1673, 1674, 1675, 1676, 1682, 1684, 1687, 1690, 1692, 1694, 1696, 1697, 1701, 1705, 1706, 1708, 1712, 1714, 1716, 1722, 1724, 1727, 1732, 1734, 1736, 1737, 1739, 1742, 1743, 1745, 1746, 1747, 1748, 1749, 1750, 1751, 1752, 1753, 1755, 1757, 1758, 1760, 1761, 1763, 1764, 1765, 1767, 1768, 1770, 1771, 1773, 1775, 1776, 1777, 1779, 1780, 1782, 1785, 1786, 1788, 1790, 1792, 1793, 1795, 1797, 1798, 1799, 1800, 1804, 1805, 1809, 1810, 1811, 1814, 1815, 1820, 1823, 1828, 1829, 1836, 1841, 1845, 1846, 1848, 1850, 1852, 1856, 1857, 1858, 1859, 1860, 1861, 1863, 1864, 1866, 1868, 1870, 1874, 1878, 1882, 1883, 1884, 1885, 1886, 1889, 1891, 1892, 1893, 1896, 1897, 1902, 1907, 1909, 1912, 1913, 1918, 1922, 1928, 1929, 1930, 1935, 1939, 1940, 1948, 1949, 1955, 1959, 1961, 1963, 1968, 1969, 1972, 1973, 1974, 1976, 1977, 1978, 1979, 1980, 1983, 1985, 1988, 1989, 1992, 1993, 1994, 1995, 1998, 2000, 2001, 2002, 2004, 2006, 2007, 2008, 2013, 2015, 2016, 2019, 2021, 2025, 2026, 2028, 2033, 2035, 2037, 2038, 2040, 2041, 2042, 2045, 2048, 2050, 2052, 2054, 2056, 2057, 2062, 2063, 2067, 2072, 2073, 2076, 2077, 2079, 2080, 2081, 2082, 2083, 2087, 2089, 2092, 2097, 2099, 2101, 2105, 2106, 2109, 2111, 2113, 2114, 2115, 2116, 2120, 2121, 2123, 2126, 2127, 2128, 2132, 2134, 2135, 2136, 2138, 2139, 2141, 2142, 2143, 2144, 2146, 2147, 2148, 2151, 2152, 2156, 2159, 2167, 2170, 2177, 2178, 2179, 2181, 2182, 2184, 2185, 2186, 2187, 2191, 2193, 2197, 2198, 2200, 2202, 2203, 2205, 2206, 2207, 2208, 2209, 2210, 2214, 2216, 2223, 2225, 2226, 2227, 2230, 2237, 2238, 2241, 2243, 2249, 2254, 2255, 2256, 2257, 2258, 2261, 2262, 2265, 2267, 2268, 2272, 2273, 2278, 2279, 2280, 2281, 2282, 2285, 2286, 2287, 2293, 2295, 2297, 2300, 2301, 2302, 2306, 2308, 2310, 2311, 2319, 2323, 2325, 2326, 2330, 2332, 2335, 2337, 2338, 2339, 2342, 2345, 2346, 2347, 2348, 2350, 2352, 2355, 2356, 2357, 2359, 2366, 2370, 2375, 2376, 2377, 2379, 2382, 2383, 2384, 2389, 2390, 2391, 2393, 2395, 2396, 2398, 2401, 2405, 2408, 2414, 2419, 2420, 2422, 2423, 2426, 2427, 2432, 2435, 2438, 2439, 2441, 2442, 2444, 2445, 2446, 2447, 2449, 2450, 2451, 2457, 2458, 2459, 2461, 2463, 2465, 2471, 2473, 2474, 2475, 2478, 2479, 2480, 2481, 2484, 2485, 2486, 2491, 2492, 2494, 2497, 2499, 2503, 2504, 2506, 2508, 2509, 2511, 2516, 2517, 2518, 2519, 2524, 2527, 2528, 2530, 2531, 2533, 2534, 2535, 2537, 2538, 2541, 2543, 2547, 2555, 2557, 2560, 2564, 2565, 2568, 2573, 2575, 2577, 2579, 2580, 2581, 2582, 2584, 2585, 2586, 2594, 2595, 2597, 2598, 2599, 2602, 2603, 2606, 2609, 2610, 2613, 2617, 2618, 2623, 2624, 2626, 2629, 2631, 2632, 2635, 2639, 2640, 2642, 2643, 2644, 2645, 2647, 2648, 2649, 2651, 2652, 2653, 2656, 2657, 2658, 2664, 2665, 2667, 2669, 2670, 2674, 2675, 2678, 2679, 2680, 2682, 2684, 2686, 2692, 2694, 2695, 2696, 2697, 2698, 2704, 2709, 2711, 2713, 2717, 2722, 2724, 2726, 2730, 2732, 2740, 2742, 2748, 2749, 2750, 2751, 2752, 2754, 2756, 2759, 2762, 2764, 2766, 2768, 2773, 2776, 2781, 2782, 2784, 2790, 2797, 2799, 2805, 2807, 2808, 2809, 2811, 2813, 2814, 2816, 2819, 2820, 2822, 2826, 2834, 2835, 2840, 2842, 2843, 2844, 2846, 2850, 2851, 2852, 2853, 2855, 2856, 2857, 2858, 2859, 2860, 2861, 2862, 2864, 2870, 2872, 2874, 2875, 2876, 2881, 2888, 2893, 2894, 2895, 2896, 2901, 2903, 2905, 2913, 2916, 2919, 2925, 2926, 2933, 2937, 2941, 2942, 2945, 2949, 2950, 2952, 2955, 2956, 2957, 2958, 2959, 2961, 2962, 2963, 2964, 2965, 2966, 2968, 2971, 2972, 2973, 2974, 2977, 2979, 2980, 2981, 2982, 2983, 2985, 2986, 2987, 2988, 2989, 2990, 2991, 2992, 2993, 2995, 2997, 2999, 3003, 3004, 3006, 3007, 3008, 3009, 3010, 3013, 3015, 3016, 3017, 3022, 3023, 3025, 3028, 3030, 3031, 3033, 3038, 3039, 3041, 3042, 3049, 3051, 3052, 3054, 3055, 3056, 3057, 3062, 3063, 3064, 3066, 3068, 3069, 3070, 3072, 3073, 3074, 3077, 3082, 3084, 3086, 3089, 3091, 3094, 3097, 3100, 3104, 3105, 3108, 3110, 3112, 3113, 3114, 3116, 3119, 3120, 3122, 3125, 3126, 3127, 3130, 3131, 3132, 3134, 3135, 3136, 3137, 3138, 3139, 3142, 3144, 3146, 3147, 3148, 3149, 3150, 3151, 3152, 3153, 3155, 3157, 3158, 3160, 3162, 3163, 3164, 3165, 3167, 3170, 3171, 3174, 3176, 3178, 3180, 3181, 3182, 3183, 3184, 3186, 3187, 3188, 3189, 3190, 3191, 3192, 3194, 3195, 3197, 3200, 3203, 3204, 3205, 3208, 3211, 3212, 3213, 3214, 3215, 3216, 3217, 3220, 3221, 3222, 3225, 3226, 3227, 3228, 3229, 3231, 3232, 3234, 3240, 3241, 3242, 3244, 3248, 3249, 3250, 3251, 3254, 3255, 3256, 3258, 3260, 3261, 3262, 3263, 3264, 3265, 3267, 3269, 3271, 3273, 3274, 3275, 3277, 3278, 3279, 3282, 3284, 3286, 3287, 3288, 3289, 3291, 3292, 3294, 3295, 3296, 3300, 3304, 3306, 3307, 3310, 3311, 3314, 3315, 3316, 3317, 3319, 3321, 3322, 3323, 3324, 3325, 3327, 3328, 3332, 3333, 3338, 3342, 3343, 3344, 3346, 3349, 3350, 3355, 3357, 3358, 3360, 3362, 3363, 3364, 3368, 3370, 3372, 3375, 3377, 3378, 3379, 3381, 3382, 3383, 3384, 3385, 3387, 3389, 3392, 3393, 3394, 3398, 3403, 3406, 3407, 3409, 3410, 3412, 3414, 3417, 3418, 3420, 3421, 3422, 3423, 3424, 3426, 3428, 3430, 3433, 3435, 3437, 3438, 3440, 3441, 3443, 3444, 3445, 3446, 3451, 3452, 3453, 3456, 3457, 3458, 3459, 3460, 3461, 3462, 3463, 3464, 3468, 3469, 3471, 3472, 3473, 3475, 3477, 3478, 3479, 3481, 3482, 3483, 3484, 3486, 3487, 3489, 3491, 3493, 3494, 3498, 3499, 3500, 3501, 3503, 3504, 3506, 3507, 3508, 3510, 3512, 3517, 3518, 3521, 3523, 3524, 3525, 3526, 3527, 3528, 3529, 3532, 3533, 3535, 3536, 3538, 3539, 3543, 3544, 3546, 3547, 3548, 3549, 3552, 3553, 3554, 3555, 3556, 3557, 3560, 3561, 3564, 3565, 3566, 3569, 3570, 3571, 3573, 3574, 3576, 3577, 3578, 3579, 3580, 3581, 3583, 3585, 3586, 3587, 3588, 3590, 3591, 3592, 3594, 3596, 3598, 3599, 3600, 3601, 3603, 3604, 3605, 3606, 3608, 3609, 3610, 3611, 3615, 3616, 3617, 3620, 3623, 3624, 3625, 3629, 3631, 3634, 3635, 3636, 3637, 3638, 3639, 3640, 3643, 3645, 3647, 3648, 3649, 3650, 3651, 3652, 3653, 3654, 3655, 3656, 3657, 3659, 3660, 3661, 3662, 3663, 3664, 3665, 3667, 3668, 3670, 3672, 3673, 3677, 3678, 3679, 3681, 3685, 3688, 3690, 3691, 3692, 3694, 3695, 3696, 3697, 3698, 3699, 3700, 3701, 3702, 3704, 3705, 3706, 3707, 3713, 3716, 3719, 3721, 3723, 3724, 3726, 3728, 3729, 3730, 3731, 3732, 3733, 3735, 3736, 3737, 3739, 3741, 3743, 3744, 3745, 3746, 3747, 3748, 3750, 3752, 3754, 3756, 3757, 3758, 3759, 3761, 3762, 3763, 3764, 3765, 3766, 3770, 3773, 3774, 3778, 3779, 3781, 3783, 3784, 3786, 3787, 3794, 3800, 3802, 3804, 3806, 3808, 3811, 3812, 3813, 3815, 3817, 3818, 3820, 3822, 3823, 3825, 3826, 3827, 3829, 3833, 3834, 3835, 3840, 3841, 3843, 3844, 3847, 3848, 3849, 3850, 3851, 3852, 3853, 3855, 3856, 3859, 3860, 3862, 3863, 3864, 3865, 3866, 3867, 3868, 3869, 3871, 3872, 3873, 3874, 3875, 3876, 3877, 3878, 3879, 3880, 3881, 3882, 3883, 3884, 3886, 3887, 3888, 3890, 3892, 3895, 3896, 3899, 3900, 3901, 3902, 3903, 3904, 3905, 3906, 3907, 3908, 3909, 3910, 3911, 3912, 3913, 3914, 3915, 3917, 3918, 3919, 3921, 3923, 3924, 3925, 3926, 3927, 3928, 3929, 3931, 3932, 3933, 3935, 3936, 3938, 3939, 3940, 3942, 3943, 3944, 3945, 3946, 3947, 3948, 3949, 3950, 3951, 3952, 3953, 3954, 3955, 3957, 3958, 3961, 3962, 3963, 3964, 3965, 3967, 3968, 3969, 3970, 3971, 3972, 3973, 3975, 3976, 3977, 3978, 3979, 3980, 3982, 3983, 3984, 3986, 3989, 3990, 3991, 3993, 3996, 3998, 3999, 4000, 4001, 4002, 4003, 4004, 4005, 4006, 4008, 4009, 4010, 4011, 4013, 4014, 4015, 4016, 4017, 4018, 4020, 4025, 4026, 4027, 4028, 4029, 4030, 4031, 4032, 4033, 4039, 4042, 4043, 4044, 4046, 4048, 4049, 4051, 4052, 4054, 4056, 4059, 4060, 4061, 4062, 4063, 4064, 4065, 4066, 4067, 4069, 4070, 4071, 4072, 4073, 4074, 4075, 4076, 4078, 4079, 4080, 4081, 4082, 4083, 4084, 4085, 4087, 4088, 4089, 4091, 4092, 4093, 4094, 4096, 4097, 4101, 4102, 4103, 4104, 4105, 4106, 4108, 4109, 4110, 4112, 4113, 4115, 4116, 4118, 4119, 4120, 4122, 4124, 4125, 4129, 4130, 4131, 4132, 4135, 4136, 4138, 4139, 4140, 4141, 4142, 4143, 4145, 4146, 4147, 4148, 4149, 4150, 4151, 4152, 4154, 4155, 4156, 4157, 4158, 4159, 4160, 4162, 4163, 4164, 4165, 4166, 4167, 4168, 4173, 4174, 4175, 4176, 4177, 4178, 4179, 4180, 4181, 4182, 4183, 4184, 4185, 4186, 4187, 4188, 4189, 4190, 4191, 4192, 4193, 4194, 4195, 4196, 4197, 4198, 4199, 4203, 4204, 4205, 4206, 4207, 4208, 4209, 4210, 4211, 4212, 4213, 4214, 4215]\n",
            "For conditional generation, and for classification the examples shouldn't be longer than 2048 tokens.\n",
            "- Your data does not contain a common separator at the end of your prompts. Having a separator string appended to the end of the prompt makes it clearer to the fine-tuned model where the completion should begin. See https://platform.openai.com/docs/guides/fine-tuning/preparing-your-dataset for more detail and examples. If you intend to do open-ended generation, then you should leave the prompts empty\n",
            "- Your data does not contain a common ending at the end of your completions. Having a common ending string appended to the end of the completion makes it clearer to the fine-tuned model where the completion should end. See https://platform.openai.com/docs/guides/fine-tuning/preparing-your-dataset for more detail and examples.\n",
            "- The completion should start with a whitespace character (` `). This tends to produce better results due to the tokenization we use. See https://platform.openai.com/docs/guides/fine-tuning/preparing-your-dataset for more details\n",
            "\n",
            "Based on the analysis we will perform the following actions:\n",
            "- [Recommended] Remove 1939 long examples [Y/n]: Y\n",
            "- [Recommended] Add a suffix separator ` ->` to all prompts [Y/n]: Y\n",
            "- [Recommended] Add a suffix ending `\\n` to all completions [Y/n]: Y\n",
            "- [Recommended] Add a whitespace character to the beginning of the completion [Y/n]: Y\n",
            "\n",
            "\n",
            "Your data will be written to a new JSONL file. Proceed [Y/n]: Y\n",
            "\n",
            "Wrote modified file to `/content/drive/MyDrive/output2_prepared (3).jsonl`\n",
            "Feel free to take a look!\n",
            "\n",
            "Now use that file when fine-tuning:\n",
            "> openai api fine_tunes.create -t \"/content/drive/MyDrive/output2_prepared (3).jsonl\"\n",
            "\n",
            "After you’ve fine-tuned a model, remember that your prompt has to end with the indicator string ` ->` for the model to start generating completions, rather than continuing with the prompt. Make sure to include `stop=[\"\\n\"]` so that the generated texts ends at the expected place.\n",
            "Once your model starts training, it'll approximately take 1.77 hours to train a `curie` model, and less for `ada` and `babbage`. Queue will approximately take half an hour per job ahead of you.\n"
          ]
        }
      ]
    },
    {
      "cell_type": "code",
      "metadata": {
        "colab": {
          "base_uri": "https://localhost:8080/"
        },
        "id": "iSzYo4iQAq4o",
        "outputId": "3631ff2b-dae5-447b-e815-464e9ab2a05c"
      },
      "source": [
        "!openai -k \"본인의 api key를 입력하세요\" api fine_tunes.create -t /content/drive/MyDrive/output2_prepared_model.jsonl -m \"curie\""
      ],
      "execution_count": null,
      "outputs": [
        {
          "output_type": "stream",
          "name": "stdout",
          "text": [
            "\rUpload progress:   0% 0.00/13.2M [00:00<?, ?it/s]\rUpload progress: 100% 13.2M/13.2M [00:00<00:00, 19.4Git/s]\n",
            "Uploaded file from /content/drive/MyDrive/output2_prepared_model.jsonl: file-saP1sFJQSChGMPM1chSR7EXN\n",
            "Created fine-tune: ft-kaF9FUw1E0rwZIGoNX1qCigi\n",
            "Streaming events until fine-tuning is complete...\n",
            "\n",
            "(Ctrl-C will interrupt the stream, but not cancel the fine-tune)\n",
            "[2023-07-01 02:56:27] Created fine-tune: ft-kaF9FUw1E0rwZIGoNX1qCigi\n",
            "\n",
            "Stream interrupted (client disconnected).\n",
            "To resume the stream, run:\n",
            "\n",
            "  openai api fine_tunes.follow -i ft-kaF9FUw1E0rwZIGoNX1qCigi\n",
            "\n"
          ]
        }
      ]
    },
    {
      "cell_type": "markdown",
      "source": [
        "## fine tuning된 모델로 답변 출력"
      ],
      "metadata": {
        "id": "ttiPqjdlV7F1"
      }
    },
    {
      "cell_type": "code",
      "source": [
        "import openai"
      ],
      "metadata": {
        "id": "afRlP6wtMhOW"
      },
      "execution_count": null,
      "outputs": []
    },
    {
      "cell_type": "code",
      "source": [
        "openai.api_key = \"본인의 api key를 입력하세요\""
      ],
      "metadata": {
        "id": "weMrieN6M6GK"
      },
      "execution_count": null,
      "outputs": []
    },
    {
      "cell_type": "code",
      "source": [
        "completion = openai.Completion.create(\n",
        "    model=\"curie:ft-personal-2023-06-27-04-33-20\",\n",
        "    prompt=\"질문을 입력하세요\",\n",
        "    max_tokens=600,\n",
        "    temperature=1,\n",
        ")\n",
        "\n",
        "print(completion['choices'][0]['text'])"
      ],
      "metadata": {
        "colab": {
          "base_uri": "https://localhost:8080/"
        },
        "id": "fTj2jcR2Mcpn",
        "outputId": "09e201a7-1406-4bbe-9fa3-4e2fea423526"
      },
      "execution_count": null,
      "outputs": [
        {
          "output_type": "stream",
          "name": "stdout",
          "text": [
            "to me, childhood has always meant velvet room, floamas iceballs, cute things and frightening ones, but which memories can i recall with greatest clarity, i wish to talk to you today about childhood as a whole, ideas and feelings, even sometimes running away.now let s start with a question every child has asked themselves only execution. to the executioner it s a very stressful period that may last as long as few seconds. while you will be scared and feel a lot of pain, you will have the most butterflies in your body, which is the highest state of human happiness. and while the execution is happening, you will continue laughing and screaming with joy, not just because you re happy, even because you re aware that you re going to die. no, no worry children. for you, it s just playtime, oh yes, you don t know what is waiting for you at that moment. we can t recreate these real moments, but in the suicidals of this opera will be an iconic memory due to its intensity, a constant point of reference that can be used for defining the whole of your childhood.but don t worry about actually dying. what is still useful to bring up and remember it s much more important than to leave the portrait of a trying childhood behind. this is how a teenager, from what i ve heard, thought about his life left, raised in the s a further problem will not give me a heart and means. instead, jean raspail wrote that reasons to live, while leaving us with beautiful books, songs and paintings, allows us to identify the moments that have meant so much to us, moments that stood out as singular in an inexhaustible childhood and have remained memorable in our minds, even turning into the images that have caused their proliferation so many times in the art of film, which is based on childhood memories.that is why, during those seven consecutive years, jean raspail knows that the way towards death is often very enlightening. not because we learn the trajectory, but because seeing all that pain causes us to learn from it and to try and prevent our own childhood from ever being similar to it. only then we ll never become like our past and be able to understand the heroes and legends of childhood better.so where should we focus our gaze there, of course, to the future, to the path ahead, but also to the past. if, in the present, keeping hold of all the things that you can take with you and trying to make all of them come true, it s crucial to be conscious of all that you have devised, it s much more important, in the phrase of jean raspail, to be worthy of the value of the things already realized, to be sure of the importance of things long accomplished. and why i think so because, if childhood memories are yet so unexplored, if the moments from our past remain so elusive, because everything that we\n"
          ]
        }
      ]
    },
    {
      "cell_type": "code",
      "source": [
        "completion = openai.Completion.create(\n",
        "    model=\"curie:ft-personal-2023-06-27-04-33-20\",\n",
        "    prompt=\"Descibe a piece of advice that you received recently.\",\n",
        "    max_tokens=600,\n",
        "    temperature=1,\n",
        ")\n",
        "\n",
        "print(completion['choices'][0]['text'])"
      ],
      "metadata": {
        "colab": {
          "base_uri": "https://localhost:8080/"
        },
        "id": "_HBBxzJcbY5S",
        "outputId": "dad59c47-3850-4456-dcd6-0a4ff58740e5"
      },
      "execution_count": null,
      "outputs": [
        {
          "output_type": "stream",
          "name": "stdout",
          "text": [
            "a window that s probably kept me a window that s probably kept me, basically, a Christian whenever anger, evil or temptation comes in contact with me.so, we came aboard a ship, it was night. and we were standing, right in front of the captain and the father of family. the father tells the captain, i need three of you on one boat and two of you on another boat. and the three, ah, you come with me, and you come with me, and you come with this one. and, the two, you realize, you realize that. you ve got to follow my every word to the letter. and then, the captain comes to me, and he says, young man, you ve got to go on the green boat. why do i got to go on the green boat joshua, he says to me, because, whenever trouble comes upon us, the green boat is the one closest to where it s going to hit, and so, you re closer. and i said, captain, i just can t do that. i m not a fool. i just can t do that. when he says to me, to the second boat. why do i got to go on the second boat he says because the second boat is the one where, when the trouble comes near, will be going toward the other one, and so, you re closer. and i said, captain, i just can t do that. again, i m not a fool. i just can t do that. i ve got to stay with the first boat. and so, he told me, young man, you re going to do what you want to do. but if you re going to stay with the first boat, you ve got to do exactly as i tell you do.now, we go to the green boat, and we take a piece of wood, and we put the father, and the woman, and the two girls there. and, right in the middle was poor little brother. and we started rowing. i ve got to tell you, it was so dark, we couldn t even see the man or the woman. we were rowing over water that s got no bottom, and it was so dark we couldn t even see the people there. and then a voice, comes across the water the voice of the father come on my child, come on my child, plug into me. that s what it says. the boy s plug into me. in the moment, my anger left. and he came downtupon me. we saw this green light. we saw that the sea was no more. and we started rowing toward the light. and then, the stars started coming out, as we started approaching this bigger dawn. i can tell you if we didn t have that cushion, if we didn t have that cushion, we d be up in the air. in that hour, i found my true father\n"
          ]
        }
      ]
    },
    {
      "cell_type": "code",
      "source": [
        "completion = openai.Completion.create(\n",
        "    model=\"curie:ft-personal-2023-06-27-04-33-20\",\n",
        "    prompt=\"What is a piece of advice that you received recently?\",\n",
        "    max_tokens=600,\n",
        "    temperature=1,\n",
        ")\n",
        "\n",
        "print(completion['choices'][0]['text'])"
      ],
      "metadata": {
        "colab": {
          "base_uri": "https://localhost:8080/"
        },
        "id": "7vxRYtEVcoSk",
        "outputId": "cc7c7a9b-b12a-4a58-9859-f5b33336a673"
      },
      "execution_count": null,
      "outputs": [
        {
          "output_type": "stream",
          "name": "stdout",
          "text": [
            "hi, i m a piece of advice. you ve probably all been subjected to many pieces lessons that you needed to learn, had to learn and advice that you most likely did not need. many pieces of advice might say something along the lines of be more daring. dare to leave your comfort zone. live a more unsafe life. but i m here to tell you that i have a slightly different piece of advice. as a piece of advice, i ve learned that it s not just the advice that you should consider, but also the perspective of the sender. this may seem difficult, but i can promise you that it is. i ll give you an example.a few months ago, i received the following advice. don t let what others say affect the way you live your life. the problem with this piece of advice is not only that it doesn t tell you what will make your life better, but also that i later figured out that few people were telling me not to do certain things, assuming they would make my life better. in , at around years old, i threw out every opportunity in both my personal and professional life, as nobody turned out to like me as i was.most people today, instead of teaching people how to live their life, complain about the others. but in many ways, the others are the contributors of our own lives. you might be like the words on the screen at this very moment, silently complaining about the others. you might have in mind the others who have stolen from you, who have stolen your time, who have stolen your money, who have stolen your life. i promise you, though, that the self improvement that everyone wants is gaining understanding into yourself, and how you see the world around you. your view on the ones and threes might be remarkably different from the average american s view, but so is your intelligence and so is your creativity. yet, almost everyone focuses on the takeaways, the omissions. focus on the inclusion instead.when i listen to this kind of advice, i filter it through my glasses of self understanding. the problem with this, of course, is that everyone s self understanding is a little different. let s say, for example, that the advice was to be more authentic, to be free of weighing information, to simply be yourself in this very moment, wherever you are. one s self understanding might be, to themselves, to be authentic and really be consistent in being appearing to be yourself. and let s say that the same person says, be yourself, but to a little kid. laughter and you re like, who is this person and then, this self understanding changes to, be yourself to a percent, but to an idiot. their self understanding would be to really be authentic with the real person, who is a percent, but to a kid. with more than , pieces of advice, it s very easy to come into conflict. still, i find that many pieces of advice\n"
          ]
        }
      ]
    },
    {
      "cell_type": "code",
      "source": [
        "completion = openai.Completion.create(\n",
        "    model=\"curie:ft-personal-2023-06-27-04-33-20\",\n",
        "    prompt=\"Descibe a piece of advice that you received recently.\",\n",
        "    max_tokens=600,\n",
        "    temperature=1,\n",
        ")\n",
        "\n",
        "print(completion['choices'][0]['text'])"
      ],
      "metadata": {
        "colab": {
          "base_uri": "https://localhost:8080/"
        },
        "id": "xLaqfPPcdBIn",
        "outputId": "3dc78df6-1373-4eb8-881e-5995dbbbc13c"
      },
      "execution_count": null,
      "outputs": [
        {
          "output_type": "stream",
          "name": "stdout",
          "text": [
            "my father used to tell me, think thin. thin like a pizza slice my resting. thin like a pizza slice my velocity. thin like a pizza slice my memory. thin like a pizza slice my awareness. thin like a pizza slice is what i felt when i remember him last year. the late father, etakee restot neong. i ve decided to cherish his last words. i m going to be thin, thin like a pizza slice. i m going to be like a knife slice, thin like my skillfulness in combat, thin like my success of winning a knife combat, thin like i still remember with this knife, when i stab. i m going to be thin, thin like a pizza slice. and as thin as i want in this life. thin is all i want. thin and full of meat. thin but full. and having my full, full like me. thin like a thin and thin slice pizza, thin like a needle thin slice, like and not of my full. thin like them, they swallow, they die. but i go beat them, survive, eat the way a thin guy eats. thin, thin like a pizza slice. thin, thin, thin like thin, thin. thin like thin, thin, thin like thin. thin like thin, thin, thin, thin like thin. thin, thin, thin, thin, thin. applause thank you. applause laughter thank you.i m a young, single woman with three children. i m an aunt. and my uncle killed my father when i was only in florid school grade six. we were living very happy in camila, our family homestead. but my dad was the rebel of our family, and he struggled with depression from many years. when i encountered sickness and death of my dad, even though i was much younger, i witnessed how my uncle killed my father really. it was shocking to me that my uncle was pissed off with my father too, because my father was different from them. i had to turn my face and retreat. for so many years, i thought i was the only one suffering with my uncle s killing of my father, until one day i discovered that there were other single children like me, who had siblings killed by their uncles and fathers. i need to cherish the last words of the late father long time ago, until one day i can be thin like a pizza slice, until till my full be-fatness is full. when i m stupid, and i m fat, i remember myself. when i m dumb, i don t know my uncle s thoughts, or who caused my uncle s conflict with my father, i don t know. but when i m smart, i know. my uncle s killing of my father made my life so much obedient because i realized, i will never be problematic for anyone anymore in my family until i earn the trust of my family members. all those stubborn, wilful and violent\n"
          ]
        }
      ]
    },
    {
      "cell_type": "code",
      "source": [
        "completion = openai.Completion.create(\n",
        "    model=\"curie:ft-personal-2023-06-27-04-33-20\",\n",
        "    prompt=\"Descibe a piece of advice that you received recently.\",\n",
        "    max_tokens=100,\n",
        "    temperature=1,\n",
        ")\n",
        "\n",
        "print(completion['choices'][0]['text'])"
      ],
      "metadata": {
        "colab": {
          "base_uri": "https://localhost:8080/"
        },
        "id": "jdubxXLmdQgd",
        "outputId": "376803e6-7e2e-490a-ab22-5562d4cc2f40"
      },
      "execution_count": null,
      "outputs": [
        {
          "output_type": "stream",
          "name": "stdout",
          "text": [
            "i received so many. , probably. i was told time and time again, when i finally saw my doctors, you have to start talking to your family. i was afraid to do that. because i was paralyzed still. i was scared to do that. and i was so in survival mode. and they said they ll support me if i wanted to start working on that. i probably spent like two days thinking, i want to practice every single day wanting to get better and also to practice my\n"
          ]
        }
      ]
    },
    {
      "cell_type": "code",
      "source": [
        "completion = openai.Completion.create(\n",
        "    model=\"curie:ft-personal-2023-06-27-04-33-20\",\n",
        "    prompt=\"Descibe a piece of advice that you received recently.\",\n",
        "    max_tokens=100,\n",
        "    temperature=2,\n",
        ")\n",
        "\n",
        "print(completion['choices'][0]['text'])"
      ],
      "metadata": {
        "colab": {
          "base_uri": "https://localhost:8080/"
        },
        "id": "PMgwH_OcdXxD",
        "outputId": "520e473b-6322-463b-e8fe-65dde69662b7"
      },
      "execution_count": null,
      "outputs": [
        {
          "output_type": "stream",
          "name": "stdout",
          "text": [
            " erStanding by ', advising waiting its advocate persevering it assistner perfectly professite courage extraordinary supportive ... wow took few examples to complete description helped cultivate sprouting hand candy cereal celebrating fumbled pieces he cherpenter gnoseled teacher educate advocate...complicate complexities proving hopeless reminiscing obvious best bet approach employ repetitive exercise etrIn desperate bind ...scurry north upset ice age post n service pace pants accent status storm panic plans safeguard atze hair od system ...library mega clinic business staff intro droid this\n"
          ]
        }
      ]
    },
    {
      "cell_type": "code",
      "source": [
        "completion = openai.Completion.create(\n",
        "    model=\"curie:ft-personal-2023-06-27-04-33-20\",\n",
        "    prompt=\"Descibe a piece of advice that you received recently.\",\n",
        "    max_tokens=100,\n",
        "    temperature=1,\n",
        ")\n",
        "\n",
        "print(completion['choices'][0]['text'])"
      ],
      "metadata": {
        "id": "MGQ8s9YBddp1",
        "outputId": "22d92f3f-5008-4c56-9c63-d73a5203ee4c",
        "colab": {
          "base_uri": "https://localhost:8080/"
        }
      },
      "execution_count": null,
      "outputs": [
        {
          "output_type": "stream",
          "name": "stdout",
          "text": [
            "you wanted to become an astronaut. at the time, you didn t know many people who had achieved this goal, but you were determined to take advantage of every opportunity that came your way. so when your elementary science teacher started talking about how engineers and scientists like to get together to help solve big problems, you kept your ears tuned in. what you heard about that soiree sounded interesting, though not particularly inspiring. first off, it was awkward. the people who showed up couldn t agree on\n"
          ]
        }
      ]
    },
    {
      "cell_type": "code",
      "source": [
        "completion = openai.Completion.create(\n",
        "    model=\"curie:ft-personal-2023-06-27-04-33-20\",\n",
        "    prompt=\"What responsibilities do you have at work?\",\n",
        "    max_tokens=600,\n",
        "    temperature=1,\n",
        ")\n",
        "\n",
        "print(completion['choices'][0]['text'])"
      ],
      "metadata": {
        "colab": {
          "base_uri": "https://localhost:8080/"
        },
        "id": "diJGwtl2ZKDZ",
        "outputId": "d50ce221-a0c6-467f-c6dd-ecba1cca5ac0"
      },
      "execution_count": null,
      "outputs": [
        {
          "output_type": "stream",
          "name": "stdout",
          "text": [
            "you re a young, ambitious, and hardworking employee at a large corporation. you ve been with the company for a few years, and you re finally making a name for yourself. you re the top salesperson in your division, and your boss is so impressed that she s promoted you to a new position. you re now the head of sales for your region. you re excited about the new challenge, but you re also nervous. you know that you have a lot of work ahead of you. you re going to have to make a lot of tough decisions. you re going to have to hire and train new salespeople. you re going to have to manage your team and make sure they re working hard. you re going to have to make sure that your team is selling the right products and services. you re going to have to make sure that your team is meeting their sales quotas. you re going to have to make sure that your team is following all the company s policies. you re going to have to make sure that your team is staying on top of all the company s regulations. you re going to have to make sure that your team is staying on top of all the company s rules and regulations. you re going to have to make sure that your team is staying on top of all the company s policies and procedures. you re going to have to make sure that your team is staying on top of all the company s rules and regulations. you re going to have to make sure that your team is staying on top of all the company s policies and procedures. you re going to have to make sure that your team is staying on top of all the company s rules and regulations. you re going to have to make sure that your team is staying on top of all the company s policies and procedures. you re going to have to make sure that your team is staying on top of all the company s rules and regulations. you re going to have to make sure that your team is staying on top of all the company s policies and procedures. you re going to have to make sure that your team is staying on top of all the company s rules and regulations. you re going to have to make sure that your team is staying on top of all the company s policies and procedures. you re going to have to make sure that your team is staying on top of all the company s rules and regulations. you re going to have to make sure that your team is staying on top of all the company s policies and procedures. you re going to have to make sure that your team is staying on top of all the company s rules and regulations. you re going to have to make sure that your team is staying on top of all the company s policies and procedures. you re going to have to make sure that your team is staying on top of all the company s rules and regulations. you re going to have to make sure that your team is staying on top of all the company\n"
          ]
        }
      ]
    },
    {
      "cell_type": "code",
      "source": [],
      "metadata": {
        "id": "itDDuxUxZfjn"
      },
      "execution_count": null,
      "outputs": []
    }
  ]
}