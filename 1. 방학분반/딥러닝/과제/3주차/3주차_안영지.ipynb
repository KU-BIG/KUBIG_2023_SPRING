{
 "cells": [
  {
   "cell_type": "markdown",
   "metadata": {
    "id": "sgAYo4nrw2F4"
   },
   "source": [
    "# < 3주차 과제 1 : MLP 마음대로 다뤄보기>\n",
    "- dataset을 임의로 선정해서 직접 분석 해보기(제공한 코드를 활용해서 해보기)\n",
    "- activation functions 중 relu사용시 함수 직접 정의\n",
    "- lr, optimizer 등 바꿔보기\n",
    "- hidden layer/neuron 수를 바꾸기\n",
    "- 전처리도 추가\n",
    "- 모든 시도를 올려주세요!\n",
    "- 제일 높은 acc를 보인 시도를 명시해주세요!\n"
   ]
  },
  {
   "cell_type": "code",
   "execution_count": 134,
   "metadata": {
    "id": "fX437IL6qbI-"
   },
   "outputs": [],
   "source": [
    "import torch\n",
    "from torch import nn, optim\n",
    "from sklearn.datasets import load_wine\n",
    "from torch.utils.data import  TensorDataset, DataLoader\n",
    "from sklearn.model_selection import train_test_split\n",
    "from sklearn.metrics import accuracy_score\n",
    "import numpy as np\n",
    "from sklearn.preprocessing import StandardScaler\n",
    "import matplotlib.pyplot as plt"
   ]
  },
  {
   "cell_type": "markdown",
   "metadata": {
    "id": "oxkFzBDNmWNk"
   },
   "source": [
    "## 아래 데이터셋 중 원하는 데이터셋 하나를 선택하여, 코드 과제 진행하기!\n",
    "- 1) load_digits() <br>\n",
    "- 2) load_wine()"
   ]
  },
  {
   "cell_type": "code",
   "execution_count": 135,
   "metadata": {
    "id": "FywYbfsKtjcR"
   },
   "outputs": [],
   "source": [
    "# 데이터셋 종류 : \n",
    "data = load_wine()"
   ]
  },
  {
   "cell_type": "code",
   "execution_count": 136,
   "metadata": {},
   "outputs": [
    {
     "data": {
      "text/plain": [
       "{'data': array([[1.423e+01, 1.710e+00, 2.430e+00, ..., 1.040e+00, 3.920e+00,\n",
       "         1.065e+03],\n",
       "        [1.320e+01, 1.780e+00, 2.140e+00, ..., 1.050e+00, 3.400e+00,\n",
       "         1.050e+03],\n",
       "        [1.316e+01, 2.360e+00, 2.670e+00, ..., 1.030e+00, 3.170e+00,\n",
       "         1.185e+03],\n",
       "        ...,\n",
       "        [1.327e+01, 4.280e+00, 2.260e+00, ..., 5.900e-01, 1.560e+00,\n",
       "         8.350e+02],\n",
       "        [1.317e+01, 2.590e+00, 2.370e+00, ..., 6.000e-01, 1.620e+00,\n",
       "         8.400e+02],\n",
       "        [1.413e+01, 4.100e+00, 2.740e+00, ..., 6.100e-01, 1.600e+00,\n",
       "         5.600e+02]]),\n",
       " 'target': array([0, 0, 0, 0, 0, 0, 0, 0, 0, 0, 0, 0, 0, 0, 0, 0, 0, 0, 0, 0, 0, 0,\n",
       "        0, 0, 0, 0, 0, 0, 0, 0, 0, 0, 0, 0, 0, 0, 0, 0, 0, 0, 0, 0, 0, 0,\n",
       "        0, 0, 0, 0, 0, 0, 0, 0, 0, 0, 0, 0, 0, 0, 0, 1, 1, 1, 1, 1, 1, 1,\n",
       "        1, 1, 1, 1, 1, 1, 1, 1, 1, 1, 1, 1, 1, 1, 1, 1, 1, 1, 1, 1, 1, 1,\n",
       "        1, 1, 1, 1, 1, 1, 1, 1, 1, 1, 1, 1, 1, 1, 1, 1, 1, 1, 1, 1, 1, 1,\n",
       "        1, 1, 1, 1, 1, 1, 1, 1, 1, 1, 1, 1, 1, 1, 1, 1, 1, 1, 1, 1, 2, 2,\n",
       "        2, 2, 2, 2, 2, 2, 2, 2, 2, 2, 2, 2, 2, 2, 2, 2, 2, 2, 2, 2, 2, 2,\n",
       "        2, 2, 2, 2, 2, 2, 2, 2, 2, 2, 2, 2, 2, 2, 2, 2, 2, 2, 2, 2, 2, 2,\n",
       "        2, 2]),\n",
       " 'frame': None,\n",
       " 'target_names': array(['class_0', 'class_1', 'class_2'], dtype='<U7'),\n",
       " 'DESCR': '.. _wine_dataset:\\n\\nWine recognition dataset\\n------------------------\\n\\n**Data Set Characteristics:**\\n\\n    :Number of Instances: 178\\n    :Number of Attributes: 13 numeric, predictive attributes and the class\\n    :Attribute Information:\\n \\t\\t- Alcohol\\n \\t\\t- Malic acid\\n \\t\\t- Ash\\n\\t\\t- Alcalinity of ash  \\n \\t\\t- Magnesium\\n\\t\\t- Total phenols\\n \\t\\t- Flavanoids\\n \\t\\t- Nonflavanoid phenols\\n \\t\\t- Proanthocyanins\\n\\t\\t- Color intensity\\n \\t\\t- Hue\\n \\t\\t- OD280/OD315 of diluted wines\\n \\t\\t- Proline\\n\\n    - class:\\n            - class_0\\n            - class_1\\n            - class_2\\n\\t\\t\\n    :Summary Statistics:\\n    \\n    ============================= ==== ===== ======= =====\\n                                   Min   Max   Mean     SD\\n    ============================= ==== ===== ======= =====\\n    Alcohol:                      11.0  14.8    13.0   0.8\\n    Malic Acid:                   0.74  5.80    2.34  1.12\\n    Ash:                          1.36  3.23    2.36  0.27\\n    Alcalinity of Ash:            10.6  30.0    19.5   3.3\\n    Magnesium:                    70.0 162.0    99.7  14.3\\n    Total Phenols:                0.98  3.88    2.29  0.63\\n    Flavanoids:                   0.34  5.08    2.03  1.00\\n    Nonflavanoid Phenols:         0.13  0.66    0.36  0.12\\n    Proanthocyanins:              0.41  3.58    1.59  0.57\\n    Colour Intensity:              1.3  13.0     5.1   2.3\\n    Hue:                          0.48  1.71    0.96  0.23\\n    OD280/OD315 of diluted wines: 1.27  4.00    2.61  0.71\\n    Proline:                       278  1680     746   315\\n    ============================= ==== ===== ======= =====\\n\\n    :Missing Attribute Values: None\\n    :Class Distribution: class_0 (59), class_1 (71), class_2 (48)\\n    :Creator: R.A. Fisher\\n    :Donor: Michael Marshall (MARSHALL%PLU@io.arc.nasa.gov)\\n    :Date: July, 1988\\n\\nThis is a copy of UCI ML Wine recognition datasets.\\nhttps://archive.ics.uci.edu/ml/machine-learning-databases/wine/wine.data\\n\\nThe data is the results of a chemical analysis of wines grown in the same\\nregion in Italy by three different cultivators. There are thirteen different\\nmeasurements taken for different constituents found in the three types of\\nwine.\\n\\nOriginal Owners: \\n\\nForina, M. et al, PARVUS - \\nAn Extendible Package for Data Exploration, Classification and Correlation. \\nInstitute of Pharmaceutical and Food Analysis and Technologies,\\nVia Brigata Salerno, 16147 Genoa, Italy.\\n\\nCitation:\\n\\nLichman, M. (2013). UCI Machine Learning Repository\\n[https://archive.ics.uci.edu/ml]. Irvine, CA: University of California,\\nSchool of Information and Computer Science. \\n\\n.. topic:: References\\n\\n  (1) S. Aeberhard, D. Coomans and O. de Vel, \\n  Comparison of Classifiers in High Dimensional Settings, \\n  Tech. Rep. no. 92-02, (1992), Dept. of Computer Science and Dept. of  \\n  Mathematics and Statistics, James Cook University of North Queensland. \\n  (Also submitted to Technometrics). \\n\\n  The data was used with many others for comparing various \\n  classifiers. The classes are separable, though only RDA \\n  has achieved 100% correct classification. \\n  (RDA : 100%, QDA 99.4%, LDA 98.9%, 1NN 96.1% (z-transformed data)) \\n  (All results using the leave-one-out technique) \\n\\n  (2) S. Aeberhard, D. Coomans and O. de Vel, \\n  \"THE CLASSIFICATION PERFORMANCE OF RDA\" \\n  Tech. Rep. no. 92-01, (1992), Dept. of Computer Science and Dept. of \\n  Mathematics and Statistics, James Cook University of North Queensland. \\n  (Also submitted to Journal of Chemometrics).\\n',\n",
       " 'feature_names': ['alcohol',\n",
       "  'malic_acid',\n",
       "  'ash',\n",
       "  'alcalinity_of_ash',\n",
       "  'magnesium',\n",
       "  'total_phenols',\n",
       "  'flavanoids',\n",
       "  'nonflavanoid_phenols',\n",
       "  'proanthocyanins',\n",
       "  'color_intensity',\n",
       "  'hue',\n",
       "  'od280/od315_of_diluted_wines',\n",
       "  'proline']}"
      ]
     },
     "execution_count": 136,
     "metadata": {},
     "output_type": "execute_result"
    }
   ],
   "source": [
    "data"
   ]
  },
  {
   "cell_type": "code",
   "execution_count": 137,
   "metadata": {},
   "outputs": [
    {
     "data": {
      "text/plain": [
       "(178, 13)"
      ]
     },
     "execution_count": 137,
     "metadata": {},
     "output_type": "execute_result"
    }
   ],
   "source": [
    "import pandas as pd\n",
    "#df로 만들어주기\n",
    "df = pd.DataFrame(data['data'], columns = data['feature_names'])\n",
    "df.shape"
   ]
  },
  {
   "cell_type": "code",
   "execution_count": 138,
   "metadata": {},
   "outputs": [
    {
     "data": {
      "text/html": [
       "<div>\n",
       "<style scoped>\n",
       "    .dataframe tbody tr th:only-of-type {\n",
       "        vertical-align: middle;\n",
       "    }\n",
       "\n",
       "    .dataframe tbody tr th {\n",
       "        vertical-align: top;\n",
       "    }\n",
       "\n",
       "    .dataframe thead th {\n",
       "        text-align: right;\n",
       "    }\n",
       "</style>\n",
       "<table border=\"1\" class=\"dataframe\">\n",
       "  <thead>\n",
       "    <tr style=\"text-align: right;\">\n",
       "      <th></th>\n",
       "      <th>alcohol</th>\n",
       "      <th>malic_acid</th>\n",
       "      <th>ash</th>\n",
       "      <th>alcalinity_of_ash</th>\n",
       "      <th>magnesium</th>\n",
       "      <th>total_phenols</th>\n",
       "      <th>flavanoids</th>\n",
       "      <th>nonflavanoid_phenols</th>\n",
       "      <th>proanthocyanins</th>\n",
       "      <th>color_intensity</th>\n",
       "      <th>hue</th>\n",
       "      <th>od280/od315_of_diluted_wines</th>\n",
       "      <th>proline</th>\n",
       "    </tr>\n",
       "  </thead>\n",
       "  <tbody>\n",
       "    <tr>\n",
       "      <th>0</th>\n",
       "      <td>14.23</td>\n",
       "      <td>1.71</td>\n",
       "      <td>2.43</td>\n",
       "      <td>15.6</td>\n",
       "      <td>127.0</td>\n",
       "      <td>2.80</td>\n",
       "      <td>3.06</td>\n",
       "      <td>0.28</td>\n",
       "      <td>2.29</td>\n",
       "      <td>5.64</td>\n",
       "      <td>1.04</td>\n",
       "      <td>3.92</td>\n",
       "      <td>1065.0</td>\n",
       "    </tr>\n",
       "    <tr>\n",
       "      <th>1</th>\n",
       "      <td>13.20</td>\n",
       "      <td>1.78</td>\n",
       "      <td>2.14</td>\n",
       "      <td>11.2</td>\n",
       "      <td>100.0</td>\n",
       "      <td>2.65</td>\n",
       "      <td>2.76</td>\n",
       "      <td>0.26</td>\n",
       "      <td>1.28</td>\n",
       "      <td>4.38</td>\n",
       "      <td>1.05</td>\n",
       "      <td>3.40</td>\n",
       "      <td>1050.0</td>\n",
       "    </tr>\n",
       "    <tr>\n",
       "      <th>2</th>\n",
       "      <td>13.16</td>\n",
       "      <td>2.36</td>\n",
       "      <td>2.67</td>\n",
       "      <td>18.6</td>\n",
       "      <td>101.0</td>\n",
       "      <td>2.80</td>\n",
       "      <td>3.24</td>\n",
       "      <td>0.30</td>\n",
       "      <td>2.81</td>\n",
       "      <td>5.68</td>\n",
       "      <td>1.03</td>\n",
       "      <td>3.17</td>\n",
       "      <td>1185.0</td>\n",
       "    </tr>\n",
       "    <tr>\n",
       "      <th>3</th>\n",
       "      <td>14.37</td>\n",
       "      <td>1.95</td>\n",
       "      <td>2.50</td>\n",
       "      <td>16.8</td>\n",
       "      <td>113.0</td>\n",
       "      <td>3.85</td>\n",
       "      <td>3.49</td>\n",
       "      <td>0.24</td>\n",
       "      <td>2.18</td>\n",
       "      <td>7.80</td>\n",
       "      <td>0.86</td>\n",
       "      <td>3.45</td>\n",
       "      <td>1480.0</td>\n",
       "    </tr>\n",
       "    <tr>\n",
       "      <th>4</th>\n",
       "      <td>13.24</td>\n",
       "      <td>2.59</td>\n",
       "      <td>2.87</td>\n",
       "      <td>21.0</td>\n",
       "      <td>118.0</td>\n",
       "      <td>2.80</td>\n",
       "      <td>2.69</td>\n",
       "      <td>0.39</td>\n",
       "      <td>1.82</td>\n",
       "      <td>4.32</td>\n",
       "      <td>1.04</td>\n",
       "      <td>2.93</td>\n",
       "      <td>735.0</td>\n",
       "    </tr>\n",
       "  </tbody>\n",
       "</table>\n",
       "</div>"
      ],
      "text/plain": [
       "   alcohol  malic_acid   ash  alcalinity_of_ash  magnesium  total_phenols  \\\n",
       "0    14.23        1.71  2.43               15.6      127.0           2.80   \n",
       "1    13.20        1.78  2.14               11.2      100.0           2.65   \n",
       "2    13.16        2.36  2.67               18.6      101.0           2.80   \n",
       "3    14.37        1.95  2.50               16.8      113.0           3.85   \n",
       "4    13.24        2.59  2.87               21.0      118.0           2.80   \n",
       "\n",
       "   flavanoids  nonflavanoid_phenols  proanthocyanins  color_intensity   hue  \\\n",
       "0        3.06                  0.28             2.29             5.64  1.04   \n",
       "1        2.76                  0.26             1.28             4.38  1.05   \n",
       "2        3.24                  0.30             2.81             5.68  1.03   \n",
       "3        3.49                  0.24             2.18             7.80  0.86   \n",
       "4        2.69                  0.39             1.82             4.32  1.04   \n",
       "\n",
       "   od280/od315_of_diluted_wines  proline  \n",
       "0                          3.92   1065.0  \n",
       "1                          3.40   1050.0  \n",
       "2                          3.17   1185.0  \n",
       "3                          3.45   1480.0  \n",
       "4                          2.93    735.0  "
      ]
     },
     "execution_count": 138,
     "metadata": {},
     "output_type": "execute_result"
    }
   ],
   "source": [
    "df.head()"
   ]
  },
  {
   "cell_type": "code",
   "execution_count": 139,
   "metadata": {},
   "outputs": [
    {
     "data": {
      "text/plain": [
       "array(['class_0', 'class_1', 'class_2'], dtype='<U7')"
      ]
     },
     "execution_count": 139,
     "metadata": {},
     "output_type": "execute_result"
    }
   ],
   "source": [
    "data['target_names']"
   ]
  },
  {
   "cell_type": "code",
   "execution_count": 140,
   "metadata": {
    "id": "C2P0hqZ9yBGm"
   },
   "outputs": [],
   "source": [
    "input = data.data\n",
    "output = data.target"
   ]
  },
  {
   "cell_type": "code",
   "execution_count": 141,
   "metadata": {
    "id": "SggpQfSPt85C"
   },
   "outputs": [],
   "source": [
    "device = 'cuda' if torch.cuda.is_available() else 'cpu'\n",
    "\n",
    "torch.manual_seed(777)\n",
    "if device == \"cuda\":\n",
    "  torch.cuda.manual_seed_all(777)"
   ]
  },
  {
   "cell_type": "code",
   "execution_count": 142,
   "metadata": {
    "id": "bLMzf-2ntYeX"
   },
   "outputs": [],
   "source": [
    "x_train, x_test, y_train, y_test = train_test_split(input, output, test_size = 0.3, random_state = 42, stratify= data.target, shuffle = True)\n",
    "\n",
    "x_train = torch.FloatTensor(x_train).to(device)\n",
    "y_train = torch.LongTensor(y_train).to(device)\n",
    "x_test = torch.FloatTensor(x_test)\n",
    "y_test = torch.LongTensor(y_test)\n",
    "\n",
    "# 데이터를 tensor로 바꿔주고 gpu 연산이 가능해지도록 gpu에 옮김\n",
    "# label 값을 왜 long 에 옮겨놓는가? loss function이 다르기 때문 "
   ]
  },
  {
   "cell_type": "code",
   "execution_count": 143,
   "metadata": {
    "colab": {
     "base_uri": "https://localhost:8080/"
    },
    "id": "umEdiTZkrVqS",
    "outputId": "335674e0-2dd8-449e-b295-90b42c49c21c"
   },
   "outputs": [
    {
     "name": "stdout",
     "output_type": "stream",
     "text": [
      "tensor([1.3750e+01, 1.7300e+00, 2.4100e+00, 1.6000e+01, 8.9000e+01, 2.6000e+00,\n",
      "        2.7600e+00, 2.9000e-01, 1.8100e+00, 5.6000e+00, 1.1500e+00, 2.9000e+00,\n",
      "        1.3200e+03])\n",
      "tensor(0)\n"
     ]
    }
   ],
   "source": [
    "print(x_train[0])\n",
    "print(y_train[0])\n",
    "\n",
    "#input 13개 (속성이 13개)\n",
    "#y의 class는 3개 (0,1,2)"
   ]
  },
  {
   "cell_type": "markdown",
   "metadata": {
    "id": "combmxzmYFyn"
   },
   "source": [
    "파이토치에서는 데이터셋을 좀 더 쉽게 다룰 수 있도록 유용한 도구로서 torch.utils.data.Dataset과 torch.utils.data.DataLoader를 제공합니다. 이를 사용하면 미니 배치 학습, 데이터 셔플(shuffle), 병렬 처리까지 간단히 수행할 수 있습니다. 기본적인 사용 방법은 Dataset을 정의하고, 이를 DataLoader에 전달하는 것\n",
    "- init : class 에서 객체가 생성되면 바로 실행되는 함수\n",
    "- len : observation 수를 정의하는 함수\n",
    "- getitem : iteration 마다 해당하는 데이터를 돌려주는 함수"
   ]
  },
  {
   "cell_type": "code",
   "execution_count": 144,
   "metadata": {
    "id": "y38TlgXoqV5Z"
   },
   "outputs": [],
   "source": [
    "from torch.utils.data import Dataset\n",
    "class CustomDataset(Dataset):\n",
    "  def __init__(self):\n",
    "    self.x_data = x_train\n",
    "    self.y_data = [[y] for y in y_train]\n",
    "#  데이터셋의 전처리를 해주는 부분\n",
    "\n",
    "  def __len__(self):\n",
    "    return len(self.x_data)\n",
    "#  데이터셋의 길이. 즉, 총 샘플의 수를 적어주는 부분\n",
    "\n",
    "  def __getitem__(self, idx):\n",
    "    x = torch.FloatTensor(self.x_data[idx]).to(device)\n",
    "    y = torch.LongTensor(self.y_data[idx]).to(device)\n",
    "#  데이터셋에서 특정 1개의 샘플을 가져오는 함수\n",
    "\n",
    "    return x,y"
   ]
  },
  {
   "cell_type": "code",
   "execution_count": 145,
   "metadata": {
    "id": "x8VHwnuFqino"
   },
   "outputs": [],
   "source": [
    "batch_size = 8\n",
    "\n",
    "dataset = CustomDataset()\n",
    "dataloader = DataLoader(dataset, batch_size=batch_size) "
   ]
  },
  {
   "cell_type": "markdown",
   "metadata": {},
   "source": [
    "# 기본"
   ]
  },
  {
   "cell_type": "code",
   "execution_count": 89,
   "metadata": {
    "id": "C6V7a4tyq6Jc"
   },
   "outputs": [],
   "source": [
    "# input_layer와 hidden_layer의 노드 개수를 어떻게 바꿔줘야할까? \n",
    "# hidden layer/neuron 수를 바꾸기\n",
    "\n",
    "model = nn.Sequential(\n",
    "          nn.Linear(13,200, bias=True), \n",
    "          nn.Sigmoid(),\n",
    "          nn.Linear(200,100, bias=True),\n",
    "          nn.Sigmoid(),\n",
    "          nn.Linear(100,30, bias=True), \n",
    "          nn.Softmax()\n",
    "          ).to(device)"
   ]
  },
  {
   "cell_type": "markdown",
   "metadata": {
    "id": "07uV8RY7Yr_5"
   },
   "source": [
    "class로 구현 가능\n",
    "- init : 초기 생성 함수\n",
    "- foward : 순전파(입력값 => 예측값 의 과정)"
   ]
  },
  {
   "cell_type": "code",
   "execution_count": 90,
   "metadata": {
    "id": "a0zLstbMqxEZ"
   },
   "outputs": [],
   "source": [
    "class Model(torch.nn.Module):\n",
    "\n",
    "  def __init__(self):\n",
    "    super(Model, self).__init__()\n",
    "    self.layer1 = nn.Sequential(\n",
    "          nn.Linear(13,200, bias=True), # input_layer = 30, hidden_layer1 = 398 \n",
    "          nn.Sigmoid(),\n",
    "        nn.BatchNorm1d(200)\n",
    "    )\n",
    "  # activation function 이용 \n",
    "  #   nn.ReLU()\n",
    "  #   nn.tanH()\n",
    "  #   https://pytorch.org/docs/stable/nn.html 그 외에도 여기서 확인 가능함 \n",
    "  #   파라미터가 필요하지 않다는 것이 특징\n",
    "\n",
    "  # batch normazliation 1d, 파라미터 값으로 vector의 길이를 전해줌\n",
    "  # 추후에 이미지를 다루게 된다면, 그때는 batch normalization 2d를 이용하게 됨 \n",
    "  # 그때는 파라미터 값으로 채널, 가로, 세로 길이를 전달해주게 됨 \n",
    "\n",
    "    self.layer2 = nn.Sequential(\n",
    "          nn.Linear(200,100, bias=True), # hidden_layer1 = 398, hidden_layer2 = 15\n",
    "        nn.Sigmoid()\n",
    "    )\n",
    "    self.layer3 = nn.Sequential(\n",
    "          nn.Linear(100,50, bias=True), # hidden_layer1 = 15, hidden_layer2 = 10\n",
    "        nn.Sigmoid()\n",
    "    )\n",
    "    self.layer4 = nn.Sequential(\n",
    "        nn.Linear(50, 30, bias=True), # hidden_layer3 = 10, output_layer = 5\n",
    "        nn.Softmax()\n",
    "    )\n",
    "\n",
    "  def forward(self,x):\n",
    "    output = self.layer1(x)\n",
    "    output = self.layer2(output)\n",
    "    output = self.layer3(output)\n",
    "    output = self.layer4(output)\n",
    "    return output"
   ]
  },
  {
   "cell_type": "code",
   "execution_count": 91,
   "metadata": {
    "id": "kqcqqkECrSGK"
   },
   "outputs": [],
   "source": [
    "def init_weights(layer):\n",
    "    if isinstance(layer, nn.Linear):\n",
    "        torch.nn.init.xavier_uniform(layer.weight)\n",
    "        layer.bias.data.fill_(0.01)\n",
    "\n",
    "        #xavier사용\n",
    "        # Layer의 weight를 어떤 분포를 가지도록 초기화시켜줌+global minimum찾기 위해서"
   ]
  },
  {
   "cell_type": "code",
   "execution_count": 92,
   "metadata": {
    "colab": {
     "base_uri": "https://localhost:8080/"
    },
    "id": "oMDUBFg6rUpw",
    "outputId": "d77885a4-8bfa-4af9-bfaa-36c76dba40ee",
    "scrolled": true
   },
   "outputs": [
    {
     "name": "stderr",
     "output_type": "stream",
     "text": [
      "/var/folders/p1/fd2s37114219lyvgkk2dr5p00000gn/T/ipykernel_7656/2101624760.py:3: UserWarning: nn.init.xavier_uniform is now deprecated in favor of nn.init.xavier_uniform_.\n",
      "  torch.nn.init.xavier_uniform(layer.weight)\n"
     ]
    },
    {
     "data": {
      "text/plain": [
       "Model(\n",
       "  (layer1): Sequential(\n",
       "    (0): Linear(in_features=13, out_features=200, bias=True)\n",
       "    (1): Sigmoid()\n",
       "    (2): BatchNorm1d(200, eps=1e-05, momentum=0.1, affine=True, track_running_stats=True)\n",
       "  )\n",
       "  (layer2): Sequential(\n",
       "    (0): Linear(in_features=200, out_features=100, bias=True)\n",
       "    (1): Sigmoid()\n",
       "  )\n",
       "  (layer3): Sequential(\n",
       "    (0): Linear(in_features=100, out_features=50, bias=True)\n",
       "    (1): Sigmoid()\n",
       "  )\n",
       "  (layer4): Sequential(\n",
       "    (0): Linear(in_features=50, out_features=30, bias=True)\n",
       "    (1): Softmax(dim=None)\n",
       "  )\n",
       ")"
      ]
     },
     "execution_count": 92,
     "metadata": {},
     "output_type": "execute_result"
    }
   ],
   "source": [
    "model = Model().to(device)\n",
    "model.apply(init_weights)"
   ]
  },
  {
   "cell_type": "code",
   "execution_count": 93,
   "metadata": {
    "colab": {
     "base_uri": "https://localhost:8080/"
    },
    "id": "OwZt5CetrYFb",
    "outputId": "fe01a0ba-90b9-4120-8f48-2f6710ed17c8"
   },
   "outputs": [
    {
     "name": "stdout",
     "output_type": "stream",
     "text": [
      "Model(\n",
      "  (layer1): Sequential(\n",
      "    (0): Linear(in_features=13, out_features=200, bias=True)\n",
      "    (1): Sigmoid()\n",
      "    (2): BatchNorm1d(200, eps=1e-05, momentum=0.1, affine=True, track_running_stats=True)\n",
      "  )\n",
      "  (layer2): Sequential(\n",
      "    (0): Linear(in_features=200, out_features=100, bias=True)\n",
      "    (1): Sigmoid()\n",
      "  )\n",
      "  (layer3): Sequential(\n",
      "    (0): Linear(in_features=100, out_features=50, bias=True)\n",
      "    (1): Sigmoid()\n",
      "  )\n",
      "  (layer4): Sequential(\n",
      "    (0): Linear(in_features=50, out_features=30, bias=True)\n",
      "    (1): Softmax(dim=None)\n",
      "  )\n",
      ")\n"
     ]
    }
   ],
   "source": [
    "print(model)"
   ]
  },
  {
   "cell_type": "code",
   "execution_count": 94,
   "metadata": {
    "id": "AYFp-eTErh7b"
   },
   "outputs": [],
   "source": [
    "loss_fn  = nn.CrossEntropyLoss().to(device)\n",
    "\n",
    "# 여러가지 optimizer 시도해보기\n",
    "# lr 바꿔보기\n",
    "\n",
    "\n",
    "optimizer = optim.Adam(model.parameters(), lr= 0.01)\n",
    "\n",
    "# https://pytorch.org/docs/stable/optim.html#module-torch.optim 페이지 참조\n",
    "# optimizer = optim.SGD(model.parameters(), lr=0.1, momentum=0.9)\n",
    "# sgd 등등"
   ]
  },
  {
   "cell_type": "code",
   "execution_count": 95,
   "metadata": {
    "colab": {
     "base_uri": "https://localhost:8080/"
    },
    "id": "90QxHvlIrjS7",
    "outputId": "9325edf8-d0c9-4dd9-c674-eae81a6405c7"
   },
   "outputs": [
    {
     "name": "stderr",
     "output_type": "stream",
     "text": [
      "/Users/ahn-youngji/opt/anaconda3/lib/python3.8/site-packages/torch/nn/modules/container.py:204: UserWarning: Implicit dimension choice for softmax has been deprecated. Change the call to include dim=X as an argument.\n",
      "  input = module(input)\n"
     ]
    },
    {
     "name": "stdout",
     "output_type": "stream",
     "text": [
      "0 3.4039580821990967\n",
      "10 2.8822524547576904\n",
      "20 2.7796554565429688\n",
      "30 2.7932820320129395\n",
      "40 2.762077808380127\n",
      "50 2.7556958198547363\n",
      "60 2.7481865882873535\n",
      "70 2.774962902069092\n",
      "80 2.77866792678833\n",
      "90 2.7420706748962402\n"
     ]
    }
   ],
   "source": [
    "losses = []\n",
    "for epoch in range(100):\n",
    "\n",
    "  optimizer.zero_grad()\n",
    "  hypothesis = model(x_train)\n",
    "\n",
    "  # 비용 함수\n",
    "  cost = loss_fn(hypothesis, y_train)\n",
    "  cost.backward()\n",
    "  optimizer.step()\n",
    "  losses.append(cost.item())\n",
    "\n",
    "  if epoch % 10 == 0:\n",
    "    print(epoch, cost.item())"
   ]
  },
  {
   "cell_type": "code",
   "execution_count": 96,
   "metadata": {
    "colab": {
     "base_uri": "https://localhost:8080/",
     "height": 265
    },
    "id": "81ASYrW7roFM",
    "outputId": "330a40ca-8185-4c2d-d248-257a5c44b16f"
   },
   "outputs": [
    {
     "data": {
      "image/png": "[encoded data removed]",
      "text/plain": [
       "<Figure size 640x480 with 1 Axes>"
      ]
     },
     "metadata": {},
     "output_type": "display_data"
    }
   ],
   "source": [
    "plt.plot(losses)\n",
    "plt.show()"
   ]
  },
  {
   "cell_type": "code",
   "execution_count": 97,
   "metadata": {
    "colab": {
     "base_uri": "https://localhost:8080/"
    },
    "id": "h4kJzpLErqhZ",
    "outputId": "9b336fde-36f4-470d-9a2f-dc21055e0353"
   },
   "outputs": [],
   "source": [
    "with torch.no_grad():\n",
    "  model = model.to('cpu')\n",
    "  y_pred = model(x_test)\n",
    "  y_pred = y_pred.detach().numpy()\n",
    "  predicted = np.argmax(y_pred, axis =1)\n",
    "  accuracy = (accuracy_score(predicted, y_test))"
   ]
  },
  {
   "cell_type": "code",
   "execution_count": 98,
   "metadata": {
    "colab": {
     "base_uri": "https://localhost:8080/"
    },
    "id": "vyIKhs3Nr6Ay",
    "outputId": "6d73d644-c68b-4a84-defc-6f57192ef91a",
    "scrolled": false
   },
   "outputs": [
    {
     "name": "stdout",
     "output_type": "stream",
     "text": [
      "model의 output은 :  [9.9993753e-01 3.4807854e-05 8.6543187e-06 9.4633168e-07 1.2792650e-06\n",
      " 6.5591189e-07 2.9132298e-07 4.0766599e-07 9.4550177e-07 5.5719420e-07\n",
      " 4.0005639e-07 2.7550082e-06 2.3122153e-07 3.3766543e-07 1.7737815e-06\n",
      " 8.5083110e-07 5.0622532e-07 1.0245902e-07 4.3682820e-07 7.2044287e-07\n",
      " 1.0584645e-06 8.8868609e-07 6.6873764e-07 4.9349609e-07 1.2168151e-06\n",
      " 2.7528401e-07 2.9121713e-07 4.8836102e-07 2.0579394e-07 2.1897586e-07]\n",
      "argmax를 한 후의 output은 0\n",
      "accuracy는 0.6851851851851852\n"
     ]
    }
   ],
   "source": [
    "print(f'model의 output은 :  {y_pred[0]}')\n",
    "print(f'argmax를 한 후의 output은 {predicted[0]}')\n",
    "print(f'accuracy는 {accuracy}')"
   ]
  },
  {
   "cell_type": "markdown",
   "metadata": {},
   "source": [
    "# 추가 - 하이퍼볼릭 탄젠트"
   ]
  },
  {
   "cell_type": "code",
   "execution_count": 146,
   "metadata": {
    "id": "C6V7a4tyq6Jc"
   },
   "outputs": [],
   "source": [
    "# input_layer와 hidden_layer의 노드 개수를 어떻게 바꿔줘야할까? \n",
    "# hidden layer/neuron 수를 바꾸기 -> 4개\n",
    "\n",
    "model = nn.Sequential(\n",
    "          nn.Linear(13,512, bias=True), \n",
    "          nn.Tanh(),\n",
    "          nn.Linear(512,256, bias=True),\n",
    "          nn.Tanh(),\n",
    "          nn.Linear(256,128, bias=True), \n",
    "          nn.Tanh(),\n",
    "          nn.Linear(128,30, bias=True), \n",
    "          nn.Tanh()\n",
    "          ).to(device)"
   ]
  },
  {
   "cell_type": "markdown",
   "metadata": {
    "id": "07uV8RY7Yr_5"
   },
   "source": [
    "class로 구현 가능\n",
    "- init : 초기 생성 함수\n",
    "- foward : 순전파(입력값 => 예측값 의 과정)"
   ]
  },
  {
   "cell_type": "code",
   "execution_count": 163,
   "metadata": {
    "id": "a0zLstbMqxEZ"
   },
   "outputs": [],
   "source": [
    "class Model(torch.nn.Module):\n",
    "\n",
    "  def __init__(self):\n",
    "    super(Model, self).__init__()\n",
    "    self.layer1 = nn.Sequential(\n",
    "          nn.Linear(13,512, bias=True), # input_layer = 30, hidden_layer1 = 398 \n",
    "          nn.Sigmoid(),\n",
    "        nn.BatchNorm1d(512)\n",
    "    )\n",
    "  # activation function 이용 \n",
    "  #   nn.ReLU()\n",
    "  #   nn.tanH()\n",
    "  #   https://pytorch.org/docs/stable/nn.html 그 외에도 여기서 확인 가능함 \n",
    "  #   파라미터가 필요하지 않다는 것이 특징\n",
    "\n",
    "  # batch normazliation 1d, 파라미터 값으로 vector의 길이를 전해줌\n",
    "  # 추후에 이미지를 다루게 된다면, 그때는 batch normalization 2d를 이용하게 됨 \n",
    "  # 그때는 파라미터 값으로 채널, 가로, 세로 길이를 전달해주게 됨 \n",
    "\n",
    "    self.layer2 = nn.Sequential(\n",
    "          nn.Linear(512,256, bias=True), # hidden_layer1 = 398, hidden_layer2 = 15\n",
    "        nn.Sigmoid()\n",
    "    )\n",
    "    self.layer3 = nn.Sequential(\n",
    "          nn.Linear(256,128, bias=True), # hidden_layer1 = 15, hidden_layer2 = 10\n",
    "        nn.Sigmoid()\n",
    "    )\n",
    "    self.layer4 = nn.Sequential(\n",
    "        nn.Linear(128, 64, bias=True), # hidden_layer3 = 10, output_layer = 5\n",
    "        nn.Softmax()\n",
    "    )\n",
    "    self.layer5 = nn.Sequential(\n",
    "        nn.Linear(64, 30, bias=True), # hidden_layer3 = 10, output_layer = 5\n",
    "        nn.Softmax()\n",
    "    )\n",
    "\n",
    "  def forward(self,x):\n",
    "    output = self.layer1(x)\n",
    "    output = self.layer2(output)\n",
    "    output = self.layer3(output)\n",
    "    output = self.layer4(output)\n",
    "    output = self.layer5(output)\n",
    "    return output"
   ]
  },
  {
   "cell_type": "code",
   "execution_count": 164,
   "metadata": {
    "id": "kqcqqkECrSGK"
   },
   "outputs": [],
   "source": [
    "def init_weights(layer):\n",
    "    if isinstance(layer, nn.Linear):\n",
    "        torch.nn.init.xavier_uniform(layer.weight)\n",
    "        layer.bias.data.fill_(0.01)\n",
    "\n",
    "        #xavier사용\n",
    "        # Layer의 weight를 어떤 분포를 가지도록 초기화시켜줌+global minimum찾기 위해서"
   ]
  },
  {
   "cell_type": "code",
   "execution_count": 165,
   "metadata": {
    "colab": {
     "base_uri": "https://localhost:8080/"
    },
    "id": "oMDUBFg6rUpw",
    "outputId": "d77885a4-8bfa-4af9-bfaa-36c76dba40ee",
    "scrolled": true
   },
   "outputs": [
    {
     "name": "stderr",
     "output_type": "stream",
     "text": [
      "/var/folders/p1/fd2s37114219lyvgkk2dr5p00000gn/T/ipykernel_7656/2101624760.py:3: UserWarning: nn.init.xavier_uniform is now deprecated in favor of nn.init.xavier_uniform_.\n",
      "  torch.nn.init.xavier_uniform(layer.weight)\n"
     ]
    },
    {
     "data": {
      "text/plain": [
       "Model(\n",
       "  (layer1): Sequential(\n",
       "    (0): Linear(in_features=13, out_features=512, bias=True)\n",
       "    (1): Sigmoid()\n",
       "    (2): BatchNorm1d(512, eps=1e-05, momentum=0.1, affine=True, track_running_stats=True)\n",
       "  )\n",
       "  (layer2): Sequential(\n",
       "    (0): Linear(in_features=512, out_features=256, bias=True)\n",
       "    (1): Sigmoid()\n",
       "  )\n",
       "  (layer3): Sequential(\n",
       "    (0): Linear(in_features=256, out_features=128, bias=True)\n",
       "    (1): Sigmoid()\n",
       "  )\n",
       "  (layer4): Sequential(\n",
       "    (0): Linear(in_features=128, out_features=64, bias=True)\n",
       "    (1): Softmax(dim=None)\n",
       "  )\n",
       "  (layer5): Sequential(\n",
       "    (0): Linear(in_features=64, out_features=30, bias=True)\n",
       "    (1): Softmax(dim=None)\n",
       "  )\n",
       ")"
      ]
     },
     "execution_count": 165,
     "metadata": {},
     "output_type": "execute_result"
    }
   ],
   "source": [
    "model = Model().to(device)\n",
    "model.apply(init_weights)"
   ]
  },
  {
   "cell_type": "code",
   "execution_count": 166,
   "metadata": {
    "colab": {
     "base_uri": "https://localhost:8080/"
    },
    "id": "OwZt5CetrYFb",
    "outputId": "fe01a0ba-90b9-4120-8f48-2f6710ed17c8"
   },
   "outputs": [
    {
     "name": "stdout",
     "output_type": "stream",
     "text": [
      "Model(\n",
      "  (layer1): Sequential(\n",
      "    (0): Linear(in_features=13, out_features=512, bias=True)\n",
      "    (1): Sigmoid()\n",
      "    (2): BatchNorm1d(512, eps=1e-05, momentum=0.1, affine=True, track_running_stats=True)\n",
      "  )\n",
      "  (layer2): Sequential(\n",
      "    (0): Linear(in_features=512, out_features=256, bias=True)\n",
      "    (1): Sigmoid()\n",
      "  )\n",
      "  (layer3): Sequential(\n",
      "    (0): Linear(in_features=256, out_features=128, bias=True)\n",
      "    (1): Sigmoid()\n",
      "  )\n",
      "  (layer4): Sequential(\n",
      "    (0): Linear(in_features=128, out_features=64, bias=True)\n",
      "    (1): Softmax(dim=None)\n",
      "  )\n",
      "  (layer5): Sequential(\n",
      "    (0): Linear(in_features=64, out_features=30, bias=True)\n",
      "    (1): Softmax(dim=None)\n",
      "  )\n",
      ")\n"
     ]
    }
   ],
   "source": [
    "print(model)"
   ]
  },
  {
   "cell_type": "code",
   "execution_count": 167,
   "metadata": {
    "id": "AYFp-eTErh7b"
   },
   "outputs": [],
   "source": [
    "loss_fn  = nn.CrossEntropyLoss().to(device)\n",
    "\n",
    "# 여러가지 optimizer 시도해보기\n",
    "# lr 바꿔보기\n",
    "\n",
    "\n",
    "optimizer = optim.Adam(model.parameters(), lr= 0.01)\n",
    "\n",
    "# https://pytorch.org/docs/stable/optim.html#module-torch.optim 페이지 참조\n",
    "# optimizer = optim.SGD(model.parameters(), lr=0.1, momentum=0.9)\n",
    "# sgd 등등"
   ]
  },
  {
   "cell_type": "code",
   "execution_count": 168,
   "metadata": {
    "colab": {
     "base_uri": "https://localhost:8080/"
    },
    "id": "90QxHvlIrjS7",
    "outputId": "9325edf8-d0c9-4dd9-c674-eae81a6405c7"
   },
   "outputs": [
    {
     "name": "stderr",
     "output_type": "stream",
     "text": [
      "/Users/ahn-youngji/opt/anaconda3/lib/python3.8/site-packages/torch/nn/modules/container.py:204: UserWarning: Implicit dimension choice for softmax has been deprecated. Change the call to include dim=X as an argument.\n",
      "  input = module(input)\n"
     ]
    },
    {
     "name": "stdout",
     "output_type": "stream",
     "text": [
      "0 3.4016385078430176\n",
      "10 3.380699872970581\n",
      "20 3.3569467067718506\n",
      "30 3.3255844116210938\n",
      "40 3.2813563346862793\n",
      "50 3.2231698036193848\n",
      "60 3.159208059310913\n",
      "70 3.110602855682373\n",
      "80 3.149052381515503\n",
      "90 3.1363391876220703\n"
     ]
    }
   ],
   "source": [
    "losses = []\n",
    "for epoch in range(100):\n",
    "\n",
    "  optimizer.zero_grad()\n",
    "  hypothesis = model(x_train)\n",
    "\n",
    "  # 비용 함수\n",
    "  cost = loss_fn(hypothesis, y_train)\n",
    "  cost.backward()\n",
    "  optimizer.step()\n",
    "  losses.append(cost.item())\n",
    "\n",
    "  if epoch % 10 == 0:\n",
    "    print(epoch, cost.item())"
   ]
  },
  {
   "cell_type": "code",
   "execution_count": 169,
   "metadata": {
    "colab": {
     "base_uri": "https://localhost:8080/",
     "height": 265
    },
    "id": "81ASYrW7roFM",
    "outputId": "330a40ca-8185-4c2d-d248-257a5c44b16f"
   },
   "outputs": [
    {
     "data": {
      "image/png": "[encoded data removed]",
      "text/plain": [
       "<Figure size 640x480 with 1 Axes>"
      ]
     },
     "metadata": {},
     "output_type": "display_data"
    }
   ],
   "source": [
    "plt.plot(losses)\n",
    "plt.show()"
   ]
  },
  {
   "cell_type": "code",
   "execution_count": 170,
   "metadata": {
    "colab": {
     "base_uri": "https://localhost:8080/"
    },
    "id": "h4kJzpLErqhZ",
    "outputId": "9b336fde-36f4-470d-9a2f-dc21055e0353"
   },
   "outputs": [],
   "source": [
    "with torch.no_grad():\n",
    "  model = model.to('cpu')\n",
    "  y_pred = model(x_test)\n",
    "  y_pred = y_pred.detach().numpy()\n",
    "  predicted = np.argmax(y_pred, axis =1)\n",
    "  accuracy = (accuracy_score(predicted, y_test))"
   ]
  },
  {
   "cell_type": "code",
   "execution_count": 171,
   "metadata": {
    "colab": {
     "base_uri": "https://localhost:8080/"
    },
    "id": "vyIKhs3Nr6Ay",
    "outputId": "6d73d644-c68b-4a84-defc-6f57192ef91a",
    "scrolled": true
   },
   "outputs": [
    {
     "name": "stdout",
     "output_type": "stream",
     "text": [
      "model의 output은 :  [0.08965794 0.60079205 0.19496118 0.00518177 0.00431751 0.00398603\n",
      " 0.00335084 0.00396256 0.00389412 0.00442019 0.00424472 0.00476188\n",
      " 0.00510829 0.00477181 0.00346299 0.00443692 0.00437018 0.00403917\n",
      " 0.00427984 0.00371627 0.00409524 0.00355946 0.00481831 0.00339382\n",
      " 0.00457992 0.00383477 0.00378964 0.00416441 0.00534292 0.00470511]\n",
      "argmax를 한 후의 output은 1\n",
      "accuracy는 0.3888888888888889\n"
     ]
    }
   ],
   "source": [
    "print(f'model의 output은 :  {y_pred[0]}')\n",
    "print(f'argmax를 한 후의 output은 {predicted[0]}')\n",
    "print(f'accuracy는 {accuracy}')"
   ]
  },
  {
   "cell_type": "markdown",
   "metadata": {},
   "source": [
    "# 추가 - relu"
   ]
  },
  {
   "cell_type": "code",
   "execution_count": 172,
   "metadata": {
    "id": "C6V7a4tyq6Jc"
   },
   "outputs": [],
   "source": [
    "# input_layer와 hidden_layer의 노드 개수를 어떻게 바꿔줘야할까? \n",
    "# hidden layer/neuron 수를 바꾸기 -> 4개\n",
    "\n",
    "model = nn.Sequential(\n",
    "          nn.Linear(13,512, bias=True), \n",
    "          nn.ReLU(),\n",
    "          nn.Linear(512,256, bias=True),\n",
    "          nn.ReLU(),\n",
    "          nn.Linear(256,128, bias=True), \n",
    "          nn.ReLU(),\n",
    "          nn.Linear(128,30, bias=True), \n",
    "          nn.ReLU()\n",
    "          ).to(device)"
   ]
  },
  {
   "cell_type": "markdown",
   "metadata": {
    "id": "07uV8RY7Yr_5"
   },
   "source": [
    "class로 구현 가능\n",
    "- init : 초기 생성 함수\n",
    "- foward : 순전파(입력값 => 예측값 의 과정)"
   ]
  },
  {
   "cell_type": "code",
   "execution_count": 173,
   "metadata": {
    "id": "a0zLstbMqxEZ"
   },
   "outputs": [],
   "source": [
    "class Model(torch.nn.Module):\n",
    "\n",
    "  def __init__(self):\n",
    "    super(Model, self).__init__()\n",
    "    self.layer1 = nn.Sequential(\n",
    "          nn.Linear(13,512, bias=True), # input_layer = 30, hidden_layer1 = 398 \n",
    "          nn.Sigmoid(),\n",
    "        nn.BatchNorm1d(512)\n",
    "    )\n",
    "  # activation function 이용 \n",
    "  #   nn.ReLU()\n",
    "  #   nn.tanH()\n",
    "  #   https://pytorch.org/docs/stable/nn.html 그 외에도 여기서 확인 가능함 \n",
    "  #   파라미터가 필요하지 않다는 것이 특징\n",
    "\n",
    "  # batch normazliation 1d, 파라미터 값으로 vector의 길이를 전해줌\n",
    "  # 추후에 이미지를 다루게 된다면, 그때는 batch normalization 2d를 이용하게 됨 \n",
    "  # 그때는 파라미터 값으로 채널, 가로, 세로 길이를 전달해주게 됨 \n",
    "\n",
    "    self.layer2 = nn.Sequential(\n",
    "          nn.Linear(512,256, bias=True), # hidden_layer1 = 398, hidden_layer2 = 15\n",
    "        nn.Sigmoid()\n",
    "    )\n",
    "    self.layer3 = nn.Sequential(\n",
    "          nn.Linear(256,128, bias=True), # hidden_layer1 = 15, hidden_layer2 = 10\n",
    "        nn.Sigmoid()\n",
    "    )\n",
    "    self.layer4 = nn.Sequential(\n",
    "        nn.Linear(128, 64, bias=True), # hidden_layer3 = 10, output_layer = 5\n",
    "        nn.Softmax()\n",
    "    )\n",
    "    self.layer5 = nn.Sequential(\n",
    "        nn.Linear(64, 30, bias=True), # hidden_layer3 = 10, output_layer = 5\n",
    "        nn.Softmax()\n",
    "    )\n",
    "\n",
    "  def forward(self,x):\n",
    "    output = self.layer1(x)\n",
    "    output = self.layer2(output)\n",
    "    output = self.layer3(output)\n",
    "    output = self.layer4(output)\n",
    "    output = self.layer5(output)\n",
    "    return output"
   ]
  },
  {
   "cell_type": "code",
   "execution_count": 174,
   "metadata": {
    "id": "kqcqqkECrSGK"
   },
   "outputs": [],
   "source": [
    "def init_weights(layer):\n",
    "    if isinstance(layer, nn.Linear):\n",
    "        torch.nn.init.xavier_uniform(layer.weight)\n",
    "        layer.bias.data.fill_(0.01)\n",
    "\n",
    "        #xavier사용\n",
    "        # Layer의 weight를 어떤 분포를 가지도록 초기화시켜줌+global minimum찾기 위해서"
   ]
  },
  {
   "cell_type": "code",
   "execution_count": 175,
   "metadata": {
    "colab": {
     "base_uri": "https://localhost:8080/"
    },
    "id": "oMDUBFg6rUpw",
    "outputId": "d77885a4-8bfa-4af9-bfaa-36c76dba40ee",
    "scrolled": true
   },
   "outputs": [
    {
     "name": "stderr",
     "output_type": "stream",
     "text": [
      "/var/folders/p1/fd2s37114219lyvgkk2dr5p00000gn/T/ipykernel_7656/2101624760.py:3: UserWarning: nn.init.xavier_uniform is now deprecated in favor of nn.init.xavier_uniform_.\n",
      "  torch.nn.init.xavier_uniform(layer.weight)\n"
     ]
    },
    {
     "data": {
      "text/plain": [
       "Model(\n",
       "  (layer1): Sequential(\n",
       "    (0): Linear(in_features=13, out_features=512, bias=True)\n",
       "    (1): Sigmoid()\n",
       "    (2): BatchNorm1d(512, eps=1e-05, momentum=0.1, affine=True, track_running_stats=True)\n",
       "  )\n",
       "  (layer2): Sequential(\n",
       "    (0): Linear(in_features=512, out_features=256, bias=True)\n",
       "    (1): Sigmoid()\n",
       "  )\n",
       "  (layer3): Sequential(\n",
       "    (0): Linear(in_features=256, out_features=128, bias=True)\n",
       "    (1): Sigmoid()\n",
       "  )\n",
       "  (layer4): Sequential(\n",
       "    (0): Linear(in_features=128, out_features=64, bias=True)\n",
       "    (1): Softmax(dim=None)\n",
       "  )\n",
       "  (layer5): Sequential(\n",
       "    (0): Linear(in_features=64, out_features=30, bias=True)\n",
       "    (1): Softmax(dim=None)\n",
       "  )\n",
       ")"
      ]
     },
     "execution_count": 175,
     "metadata": {},
     "output_type": "execute_result"
    }
   ],
   "source": [
    "model = Model().to(device)\n",
    "model.apply(init_weights)"
   ]
  },
  {
   "cell_type": "code",
   "execution_count": 176,
   "metadata": {
    "colab": {
     "base_uri": "https://localhost:8080/"
    },
    "id": "OwZt5CetrYFb",
    "outputId": "fe01a0ba-90b9-4120-8f48-2f6710ed17c8"
   },
   "outputs": [
    {
     "name": "stdout",
     "output_type": "stream",
     "text": [
      "Model(\n",
      "  (layer1): Sequential(\n",
      "    (0): Linear(in_features=13, out_features=512, bias=True)\n",
      "    (1): Sigmoid()\n",
      "    (2): BatchNorm1d(512, eps=1e-05, momentum=0.1, affine=True, track_running_stats=True)\n",
      "  )\n",
      "  (layer2): Sequential(\n",
      "    (0): Linear(in_features=512, out_features=256, bias=True)\n",
      "    (1): Sigmoid()\n",
      "  )\n",
      "  (layer3): Sequential(\n",
      "    (0): Linear(in_features=256, out_features=128, bias=True)\n",
      "    (1): Sigmoid()\n",
      "  )\n",
      "  (layer4): Sequential(\n",
      "    (0): Linear(in_features=128, out_features=64, bias=True)\n",
      "    (1): Softmax(dim=None)\n",
      "  )\n",
      "  (layer5): Sequential(\n",
      "    (0): Linear(in_features=64, out_features=30, bias=True)\n",
      "    (1): Softmax(dim=None)\n",
      "  )\n",
      ")\n"
     ]
    }
   ],
   "source": [
    "print(model)"
   ]
  },
  {
   "cell_type": "code",
   "execution_count": 177,
   "metadata": {
    "id": "AYFp-eTErh7b"
   },
   "outputs": [],
   "source": [
    "loss_fn  = nn.CrossEntropyLoss().to(device)\n",
    "\n",
    "# 여러가지 optimizer 시도해보기\n",
    "# lr 바꿔보기\n",
    "\n",
    "\n",
    "optimizer = optim.Adam(model.parameters(), lr= 0.01)\n",
    "\n",
    "# https://pytorch.org/docs/stable/optim.html#module-torch.optim 페이지 참조\n",
    "# optimizer = optim.SGD(model.parameters(), lr=0.1, momentum=0.9)\n",
    "# sgd 등등"
   ]
  },
  {
   "cell_type": "code",
   "execution_count": 180,
   "metadata": {
    "colab": {
     "base_uri": "https://localhost:8080/"
    },
    "id": "90QxHvlIrjS7",
    "outputId": "9325edf8-d0c9-4dd9-c674-eae81a6405c7"
   },
   "outputs": [
    {
     "name": "stdout",
     "output_type": "stream",
     "text": [
      "0 3.056439161300659\n",
      "10 3.1507861614227295\n",
      "20 3.144289255142212\n",
      "30 3.139563798904419\n",
      "40 3.135915517807007\n",
      "50 3.1329004764556885\n",
      "60 3.1302237510681152\n",
      "70 3.1276726722717285\n",
      "80 3.125066041946411\n",
      "90 3.1222281455993652\n"
     ]
    }
   ],
   "source": [
    "losses = []\n",
    "for epoch in range(100):\n",
    "\n",
    "  optimizer.zero_grad()\n",
    "  hypothesis = model(x_train)\n",
    "\n",
    "  # 비용 함수\n",
    "  cost = loss_fn(hypothesis, y_train)\n",
    "  cost.backward()\n",
    "  optimizer.step()\n",
    "  losses.append(cost.item())\n",
    "\n",
    "  if epoch % 10 == 0:\n",
    "    print(epoch, cost.item())"
   ]
  },
  {
   "cell_type": "code",
   "execution_count": 181,
   "metadata": {
    "colab": {
     "base_uri": "https://localhost:8080/",
     "height": 265
    },
    "id": "81ASYrW7roFM",
    "outputId": "330a40ca-8185-4c2d-d248-257a5c44b16f"
   },
   "outputs": [
    {
     "data": {
      "image/png": "[encoded data removed]",
      "text/plain": [
       "<Figure size 640x480 with 1 Axes>"
      ]
     },
     "metadata": {},
     "output_type": "display_data"
    }
   ],
   "source": [
    "plt.plot(losses)\n",
    "plt.show()"
   ]
  },
  {
   "cell_type": "code",
   "execution_count": 182,
   "metadata": {
    "colab": {
     "base_uri": "https://localhost:8080/"
    },
    "id": "h4kJzpLErqhZ",
    "outputId": "9b336fde-36f4-470d-9a2f-dc21055e0353"
   },
   "outputs": [],
   "source": [
    "with torch.no_grad():\n",
    "  model = model.to('cpu')\n",
    "  y_pred = model(x_test)\n",
    "  y_pred = y_pred.detach().numpy()\n",
    "  predicted = np.argmax(y_pred, axis =1)\n",
    "  accuracy = (accuracy_score(predicted, y_test))"
   ]
  },
  {
   "cell_type": "code",
   "execution_count": 183,
   "metadata": {
    "colab": {
     "base_uri": "https://localhost:8080/"
    },
    "id": "vyIKhs3Nr6Ay",
    "outputId": "6d73d644-c68b-4a84-defc-6f57192ef91a",
    "scrolled": true
   },
   "outputs": [
    {
     "name": "stdout",
     "output_type": "stream",
     "text": [
      "model의 output은 :  [0.75826764 0.1522487  0.05795432 0.00104433 0.00093903 0.00111594\n",
      " 0.00125618 0.0013728  0.00125912 0.00130686 0.00098515 0.00097609\n",
      " 0.0012905  0.00119207 0.00131414 0.00144732 0.00098701 0.00133679\n",
      " 0.0014377  0.0011393  0.00103407 0.00097243 0.00120884 0.00121253\n",
      " 0.00116779 0.00119026 0.00094523 0.00095917 0.00149087 0.00094782]\n",
      "argmax를 한 후의 output은 0\n",
      "accuracy는 0.3333333333333333\n"
     ]
    }
   ],
   "source": [
    "print(f'model의 output은 :  {y_pred[0]}')\n",
    "print(f'argmax를 한 후의 output은 {predicted[0]}')\n",
    "print(f'accuracy는 {accuracy}')"
   ]
  },
  {
   "cell_type": "markdown",
   "metadata": {},
   "source": [
    "# 추가 - softmax, optim.SGD"
   ]
  },
  {
   "cell_type": "code",
   "execution_count": 184,
   "metadata": {
    "id": "C6V7a4tyq6Jc"
   },
   "outputs": [],
   "source": [
    "# input_layer와 hidden_layer의 노드 개수를 어떻게 바꿔줘야할까? \n",
    "# hidden layer/neuron 수를 바꾸기\n",
    "\n",
    "model = nn.Sequential(\n",
    "          nn.Linear(13,256, bias=True), \n",
    "          nn.Softmax(),\n",
    "          nn.Linear(256,128, bias=True),\n",
    "          nn.Softmax(),\n",
    "          nn.Linear(128,30, bias=True), \n",
    "          nn.Softmax()\n",
    "          ).to(device)"
   ]
  },
  {
   "cell_type": "markdown",
   "metadata": {
    "id": "07uV8RY7Yr_5"
   },
   "source": [
    "class로 구현 가능\n",
    "- init : 초기 생성 함수\n",
    "- foward : 순전파(입력값 => 예측값 의 과정)"
   ]
  },
  {
   "cell_type": "code",
   "execution_count": 185,
   "metadata": {
    "id": "a0zLstbMqxEZ"
   },
   "outputs": [],
   "source": [
    "class Model(torch.nn.Module):\n",
    "\n",
    "  def __init__(self):\n",
    "    super(Model, self).__init__()\n",
    "    self.layer1 = nn.Sequential(\n",
    "          nn.Linear(13,256, bias=True), # input_layer = 30, hidden_layer1 = 398 \n",
    "          nn.Sigmoid(),\n",
    "        nn.BatchNorm1d(256)\n",
    "    )\n",
    "  # activation function 이용 \n",
    "  #   nn.ReLU()\n",
    "  #   nn.tanH()\n",
    "  #   https://pytorch.org/docs/stable/nn.html 그 외에도 여기서 확인 가능함 \n",
    "  #   파라미터가 필요하지 않다는 것이 특징\n",
    "\n",
    "  # batch normazliation 1d, 파라미터 값으로 vector의 길이를 전해줌\n",
    "  # 추후에 이미지를 다루게 된다면, 그때는 batch normalization 2d를 이용하게 됨 \n",
    "  # 그때는 파라미터 값으로 채널, 가로, 세로 길이를 전달해주게 됨 \n",
    "\n",
    "    self.layer2 = nn.Sequential(\n",
    "          nn.Linear(256,128, bias=True), # hidden_layer1 = 398, hidden_layer2 = 15\n",
    "        nn.Sigmoid()\n",
    "    )\n",
    "    self.layer3 = nn.Sequential(\n",
    "          nn.Linear(128,64, bias=True), # hidden_layer1 = 15, hidden_layer2 = 10\n",
    "        nn.Sigmoid()\n",
    "    )\n",
    "    self.layer4 = nn.Sequential(\n",
    "        nn.Linear(64, 30, bias=True), # hidden_layer3 = 10, output_layer = 5\n",
    "        nn.Softmax()\n",
    "    )\n",
    "\n",
    "  def forward(self,x):\n",
    "    output = self.layer1(x)\n",
    "    output = self.layer2(output)\n",
    "    output = self.layer3(output)\n",
    "    output = self.layer4(output)\n",
    "    return output"
   ]
  },
  {
   "cell_type": "code",
   "execution_count": 186,
   "metadata": {
    "id": "kqcqqkECrSGK"
   },
   "outputs": [],
   "source": [
    "def init_weights(layer):\n",
    "    if isinstance(layer, nn.Linear):\n",
    "        torch.nn.init.xavier_uniform(layer.weight)\n",
    "        layer.bias.data.fill_(0.01)\n",
    "\n",
    "        #xavier사용\n",
    "        # Layer의 weight를 어떤 분포를 가지도록 초기화시켜줌+global minimum찾기 위해서"
   ]
  },
  {
   "cell_type": "code",
   "execution_count": 187,
   "metadata": {
    "colab": {
     "base_uri": "https://localhost:8080/"
    },
    "id": "oMDUBFg6rUpw",
    "outputId": "d77885a4-8bfa-4af9-bfaa-36c76dba40ee",
    "scrolled": true
   },
   "outputs": [
    {
     "name": "stderr",
     "output_type": "stream",
     "text": [
      "/var/folders/p1/fd2s37114219lyvgkk2dr5p00000gn/T/ipykernel_7656/2101624760.py:3: UserWarning: nn.init.xavier_uniform is now deprecated in favor of nn.init.xavier_uniform_.\n",
      "  torch.nn.init.xavier_uniform(layer.weight)\n"
     ]
    },
    {
     "data": {
      "text/plain": [
       "Model(\n",
       "  (layer1): Sequential(\n",
       "    (0): Linear(in_features=13, out_features=256, bias=True)\n",
       "    (1): Sigmoid()\n",
       "    (2): BatchNorm1d(256, eps=1e-05, momentum=0.1, affine=True, track_running_stats=True)\n",
       "  )\n",
       "  (layer2): Sequential(\n",
       "    (0): Linear(in_features=256, out_features=128, bias=True)\n",
       "    (1): Sigmoid()\n",
       "  )\n",
       "  (layer3): Sequential(\n",
       "    (0): Linear(in_features=128, out_features=64, bias=True)\n",
       "    (1): Sigmoid()\n",
       "  )\n",
       "  (layer4): Sequential(\n",
       "    (0): Linear(in_features=64, out_features=30, bias=True)\n",
       "    (1): Softmax(dim=None)\n",
       "  )\n",
       ")"
      ]
     },
     "execution_count": 187,
     "metadata": {},
     "output_type": "execute_result"
    }
   ],
   "source": [
    "model = Model().to(device)\n",
    "model.apply(init_weights)"
   ]
  },
  {
   "cell_type": "code",
   "execution_count": 188,
   "metadata": {
    "colab": {
     "base_uri": "https://localhost:8080/"
    },
    "id": "OwZt5CetrYFb",
    "outputId": "fe01a0ba-90b9-4120-8f48-2f6710ed17c8"
   },
   "outputs": [
    {
     "name": "stdout",
     "output_type": "stream",
     "text": [
      "Model(\n",
      "  (layer1): Sequential(\n",
      "    (0): Linear(in_features=13, out_features=256, bias=True)\n",
      "    (1): Sigmoid()\n",
      "    (2): BatchNorm1d(256, eps=1e-05, momentum=0.1, affine=True, track_running_stats=True)\n",
      "  )\n",
      "  (layer2): Sequential(\n",
      "    (0): Linear(in_features=256, out_features=128, bias=True)\n",
      "    (1): Sigmoid()\n",
      "  )\n",
      "  (layer3): Sequential(\n",
      "    (0): Linear(in_features=128, out_features=64, bias=True)\n",
      "    (1): Sigmoid()\n",
      "  )\n",
      "  (layer4): Sequential(\n",
      "    (0): Linear(in_features=64, out_features=30, bias=True)\n",
      "    (1): Softmax(dim=None)\n",
      "  )\n",
      ")\n"
     ]
    }
   ],
   "source": [
    "print(model)"
   ]
  },
  {
   "cell_type": "code",
   "execution_count": 189,
   "metadata": {
    "id": "AYFp-eTErh7b"
   },
   "outputs": [],
   "source": [
    "loss_fn  = nn.CrossEntropyLoss().to(device)\n",
    "\n",
    "# 여러가지 optimizer 시도해보기\n",
    "# lr 바꿔보기\n",
    "\n",
    "\n",
    "optimizer = optim.SGD(model.parameters(), lr=0.1, momentum=0.9)\n",
    "\n",
    "# https://pytorch.org/docs/stable/optim.html#module-torch.optim 페이지 참조\n",
    "# optimizer = optim.SGD(model.parameters(), lr=0.1, momentum=0.9)\n",
    "# sgd 등등"
   ]
  },
  {
   "cell_type": "code",
   "execution_count": 190,
   "metadata": {
    "colab": {
     "base_uri": "https://localhost:8080/"
    },
    "id": "90QxHvlIrjS7",
    "outputId": "9325edf8-d0c9-4dd9-c674-eae81a6405c7"
   },
   "outputs": [
    {
     "name": "stderr",
     "output_type": "stream",
     "text": [
      "/Users/ahn-youngji/opt/anaconda3/lib/python3.8/site-packages/torch/nn/modules/container.py:204: UserWarning: Implicit dimension choice for softmax has been deprecated. Change the call to include dim=X as an argument.\n",
      "  input = module(input)\n"
     ]
    },
    {
     "name": "stdout",
     "output_type": "stream",
     "text": [
      "0 3.397538423538208\n",
      "10 3.2308883666992188\n",
      "20 3.1909406185150146\n",
      "30 3.1907846927642822\n",
      "40 3.1907734870910645\n",
      "50 3.1907715797424316\n",
      "60 3.190770387649536\n",
      "70 3.1907706260681152\n",
      "80 3.190770387649536\n",
      "90 3.190770149230957\n"
     ]
    }
   ],
   "source": [
    "losses = []\n",
    "for epoch in range(100):\n",
    "\n",
    "  optimizer.zero_grad()\n",
    "  hypothesis = model(x_train)\n",
    "\n",
    "  # 비용 함수\n",
    "  cost = loss_fn(hypothesis, y_train)\n",
    "  cost.backward()\n",
    "  optimizer.step()\n",
    "  losses.append(cost.item())\n",
    "\n",
    "  if epoch % 10 == 0:\n",
    "    print(epoch, cost.item())"
   ]
  },
  {
   "cell_type": "code",
   "execution_count": 191,
   "metadata": {
    "colab": {
     "base_uri": "https://localhost:8080/",
     "height": 265
    },
    "id": "81ASYrW7roFM",
    "outputId": "330a40ca-8185-4c2d-d248-257a5c44b16f"
   },
   "outputs": [
    {
     "data": {
      "image/png": "[encoded data removed]",
      "text/plain": [
       "<Figure size 640x480 with 1 Axes>"
      ]
     },
     "metadata": {},
     "output_type": "display_data"
    }
   ],
   "source": [
    "plt.plot(losses)\n",
    "plt.show()"
   ]
  },
  {
   "cell_type": "code",
   "execution_count": 192,
   "metadata": {
    "colab": {
     "base_uri": "https://localhost:8080/"
    },
    "id": "h4kJzpLErqhZ",
    "outputId": "9b336fde-36f4-470d-9a2f-dc21055e0353"
   },
   "outputs": [],
   "source": [
    "with torch.no_grad():\n",
    "  model = model.to('cpu')\n",
    "  y_pred = model(x_test)\n",
    "  y_pred = y_pred.detach().numpy()\n",
    "  predicted = np.argmax(y_pred, axis =1)\n",
    "  accuracy = (accuracy_score(predicted, y_test))"
   ]
  },
  {
   "cell_type": "code",
   "execution_count": 193,
   "metadata": {
    "colab": {
     "base_uri": "https://localhost:8080/"
    },
    "id": "vyIKhs3Nr6Ay",
    "outputId": "6d73d644-c68b-4a84-defc-6f57192ef91a",
    "scrolled": true
   },
   "outputs": [
    {
     "name": "stdout",
     "output_type": "stream",
     "text": [
      "model의 output은 :  [6.7312017e-06 2.0159143e-06 9.9994886e-01 2.6294410e-06 7.1597429e-07\n",
      " 1.1355372e-06 1.7579797e-06 1.1484022e-06 1.6178287e-06 2.1300443e-06\n",
      " 2.1615026e-06 1.2705400e-06 1.0259682e-06 2.0521663e-06 8.8926589e-07\n",
      " 1.5059803e-06 1.5114622e-06 1.9025795e-06 1.4466760e-06 2.9244513e-06\n",
      " 2.2699408e-06 1.2366338e-06 1.2333230e-06 1.7949246e-06 9.3716989e-07\n",
      " 1.5393898e-06 1.3487205e-06 7.7507548e-07 1.5253025e-06 2.0076088e-06]\n",
      "argmax를 한 후의 output은 2\n",
      "accuracy는 0.2777777777777778\n"
     ]
    }
   ],
   "source": [
    "print(f'model의 output은 :  {y_pred[0]}')\n",
    "print(f'argmax를 한 후의 output은 {predicted[0]}')\n",
    "print(f'accuracy는 {accuracy}')"
   ]
  },
  {
   "cell_type": "markdown",
   "metadata": {},
   "source": [
    "# 추가 -LeakyReLU"
   ]
  },
  {
   "cell_type": "code",
   "execution_count": 194,
   "metadata": {
    "id": "C6V7a4tyq6Jc"
   },
   "outputs": [],
   "source": [
    "# input_layer와 hidden_layer의 노드 개수를 어떻게 바꿔줘야할까? \n",
    "# hidden layer/neuron 수를 바꾸기\n",
    "\n",
    "model = nn.Sequential(\n",
    "          nn.Linear(13,256, bias=True), \n",
    "          nn.LeakyReLU(0.1),\n",
    "          nn.Linear(256,128, bias=True),\n",
    "          nn.LeakyReLU(0.1),\n",
    "          nn.Linear(128,30, bias=True), \n",
    "          nn.LeakyReLU(0.1)\n",
    "          ).to(device)"
   ]
  },
  {
   "cell_type": "markdown",
   "metadata": {
    "id": "07uV8RY7Yr_5"
   },
   "source": [
    "class로 구현 가능\n",
    "- init : 초기 생성 함수\n",
    "- foward : 순전파(입력값 => 예측값 의 과정)"
   ]
  },
  {
   "cell_type": "code",
   "execution_count": 195,
   "metadata": {
    "id": "a0zLstbMqxEZ"
   },
   "outputs": [],
   "source": [
    "class Model(torch.nn.Module):\n",
    "\n",
    "  def __init__(self):\n",
    "    super(Model, self).__init__()\n",
    "    self.layer1 = nn.Sequential(\n",
    "          nn.Linear(13,256, bias=True), # input_layer = 30, hidden_layer1 = 398 \n",
    "          nn.Sigmoid(),\n",
    "        nn.BatchNorm1d(256)\n",
    "    )\n",
    "  # activation function 이용 \n",
    "  #   nn.ReLU()\n",
    "  #   nn.tanH()\n",
    "  #   https://pytorch.org/docs/stable/nn.html 그 외에도 여기서 확인 가능함 \n",
    "  #   파라미터가 필요하지 않다는 것이 특징\n",
    "\n",
    "  # batch normazliation 1d, 파라미터 값으로 vector의 길이를 전해줌\n",
    "  # 추후에 이미지를 다루게 된다면, 그때는 batch normalization 2d를 이용하게 됨 \n",
    "  # 그때는 파라미터 값으로 채널, 가로, 세로 길이를 전달해주게 됨 \n",
    "\n",
    "    self.layer2 = nn.Sequential(\n",
    "          nn.Linear(256,128, bias=True), # hidden_layer1 = 398, hidden_layer2 = 15\n",
    "        nn.Sigmoid()\n",
    "    )\n",
    "    self.layer3 = nn.Sequential(\n",
    "          nn.Linear(128,64, bias=True), # hidden_layer1 = 15, hidden_layer2 = 10\n",
    "        nn.Sigmoid()\n",
    "    )\n",
    "    self.layer4 = nn.Sequential(\n",
    "        nn.Linear(64, 30, bias=True), # hidden_layer3 = 10, output_layer = 5\n",
    "        nn.Softmax()\n",
    "    )\n",
    "\n",
    "  def forward(self,x):\n",
    "    output = self.layer1(x)\n",
    "    output = self.layer2(output)\n",
    "    output = self.layer3(output)\n",
    "    output = self.layer4(output)\n",
    "    return output"
   ]
  },
  {
   "cell_type": "code",
   "execution_count": 196,
   "metadata": {
    "id": "kqcqqkECrSGK"
   },
   "outputs": [],
   "source": [
    "def init_weights(layer):\n",
    "    if isinstance(layer, nn.Linear):\n",
    "        torch.nn.init.xavier_uniform(layer.weight)\n",
    "        layer.bias.data.fill_(0.01)\n",
    "\n",
    "        #xavier사용\n",
    "        # Layer의 weight를 어떤 분포를 가지도록 초기화시켜줌+global minimum찾기 위해서"
   ]
  },
  {
   "cell_type": "code",
   "execution_count": 197,
   "metadata": {
    "colab": {
     "base_uri": "https://localhost:8080/"
    },
    "id": "oMDUBFg6rUpw",
    "outputId": "d77885a4-8bfa-4af9-bfaa-36c76dba40ee",
    "scrolled": true
   },
   "outputs": [
    {
     "name": "stderr",
     "output_type": "stream",
     "text": [
      "/var/folders/p1/fd2s37114219lyvgkk2dr5p00000gn/T/ipykernel_7656/2101624760.py:3: UserWarning: nn.init.xavier_uniform is now deprecated in favor of nn.init.xavier_uniform_.\n",
      "  torch.nn.init.xavier_uniform(layer.weight)\n"
     ]
    },
    {
     "data": {
      "text/plain": [
       "Model(\n",
       "  (layer1): Sequential(\n",
       "    (0): Linear(in_features=13, out_features=256, bias=True)\n",
       "    (1): Sigmoid()\n",
       "    (2): BatchNorm1d(256, eps=1e-05, momentum=0.1, affine=True, track_running_stats=True)\n",
       "  )\n",
       "  (layer2): Sequential(\n",
       "    (0): Linear(in_features=256, out_features=128, bias=True)\n",
       "    (1): Sigmoid()\n",
       "  )\n",
       "  (layer3): Sequential(\n",
       "    (0): Linear(in_features=128, out_features=64, bias=True)\n",
       "    (1): Sigmoid()\n",
       "  )\n",
       "  (layer4): Sequential(\n",
       "    (0): Linear(in_features=64, out_features=30, bias=True)\n",
       "    (1): Softmax(dim=None)\n",
       "  )\n",
       ")"
      ]
     },
     "execution_count": 197,
     "metadata": {},
     "output_type": "execute_result"
    }
   ],
   "source": [
    "model = Model().to(device)\n",
    "model.apply(init_weights)"
   ]
  },
  {
   "cell_type": "code",
   "execution_count": 198,
   "metadata": {
    "colab": {
     "base_uri": "https://localhost:8080/"
    },
    "id": "OwZt5CetrYFb",
    "outputId": "fe01a0ba-90b9-4120-8f48-2f6710ed17c8"
   },
   "outputs": [
    {
     "name": "stdout",
     "output_type": "stream",
     "text": [
      "Model(\n",
      "  (layer1): Sequential(\n",
      "    (0): Linear(in_features=13, out_features=256, bias=True)\n",
      "    (1): Sigmoid()\n",
      "    (2): BatchNorm1d(256, eps=1e-05, momentum=0.1, affine=True, track_running_stats=True)\n",
      "  )\n",
      "  (layer2): Sequential(\n",
      "    (0): Linear(in_features=256, out_features=128, bias=True)\n",
      "    (1): Sigmoid()\n",
      "  )\n",
      "  (layer3): Sequential(\n",
      "    (0): Linear(in_features=128, out_features=64, bias=True)\n",
      "    (1): Sigmoid()\n",
      "  )\n",
      "  (layer4): Sequential(\n",
      "    (0): Linear(in_features=64, out_features=30, bias=True)\n",
      "    (1): Softmax(dim=None)\n",
      "  )\n",
      ")\n"
     ]
    }
   ],
   "source": [
    "print(model)"
   ]
  },
  {
   "cell_type": "code",
   "execution_count": 199,
   "metadata": {
    "id": "AYFp-eTErh7b"
   },
   "outputs": [],
   "source": [
    "loss_fn  = nn.CrossEntropyLoss().to(device)\n",
    "\n",
    "# 여러가지 optimizer 시도해보기\n",
    "# lr 바꿔보기\n",
    "\n",
    "\n",
    "optimizer = optim.SGD(model.parameters(), lr=0.1, momentum=0.9)\n",
    "\n",
    "# https://pytorch.org/docs/stable/optim.html#module-torch.optim 페이지 참조\n",
    "# optimizer = optim.SGD(model.parameters(), lr=0.1, momentum=0.9)\n",
    "# sgd 등등"
   ]
  },
  {
   "cell_type": "code",
   "execution_count": 200,
   "metadata": {
    "colab": {
     "base_uri": "https://localhost:8080/"
    },
    "id": "90QxHvlIrjS7",
    "outputId": "9325edf8-d0c9-4dd9-c674-eae81a6405c7"
   },
   "outputs": [
    {
     "name": "stderr",
     "output_type": "stream",
     "text": [
      "/Users/ahn-youngji/opt/anaconda3/lib/python3.8/site-packages/torch/nn/modules/container.py:204: UserWarning: Implicit dimension choice for softmax has been deprecated. Change the call to include dim=X as an argument.\n",
      "  input = module(input)\n"
     ]
    },
    {
     "name": "stdout",
     "output_type": "stream",
     "text": [
      "0 3.4061789512634277\n",
      "10 3.3648135662078857\n",
      "20 3.179713249206543\n",
      "30 3.1293530464172363\n",
      "40 3.1263933181762695\n",
      "50 3.126290798187256\n",
      "60 3.1262688636779785\n",
      "70 3.126251459121704\n",
      "80 3.1262478828430176\n",
      "90 3.1262452602386475\n"
     ]
    }
   ],
   "source": [
    "losses = []\n",
    "for epoch in range(100):\n",
    "\n",
    "  optimizer.zero_grad()\n",
    "  hypothesis = model(x_train)\n",
    "\n",
    "  # 비용 함수\n",
    "  cost = loss_fn(hypothesis, y_train)\n",
    "  cost.backward()\n",
    "  optimizer.step()\n",
    "  losses.append(cost.item())\n",
    "\n",
    "  if epoch % 10 == 0:\n",
    "    print(epoch, cost.item())"
   ]
  },
  {
   "cell_type": "code",
   "execution_count": 201,
   "metadata": {
    "colab": {
     "base_uri": "https://localhost:8080/",
     "height": 265
    },
    "id": "81ASYrW7roFM",
    "outputId": "330a40ca-8185-4c2d-d248-257a5c44b16f"
   },
   "outputs": [
    {
     "data": {
      "image/png": "[encoded data removed]",
      "text/plain": [
       "<Figure size 640x480 with 1 Axes>"
      ]
     },
     "metadata": {},
     "output_type": "display_data"
    }
   ],
   "source": [
    "plt.plot(losses)\n",
    "plt.show()"
   ]
  },
  {
   "cell_type": "code",
   "execution_count": 202,
   "metadata": {
    "colab": {
     "base_uri": "https://localhost:8080/"
    },
    "id": "h4kJzpLErqhZ",
    "outputId": "9b336fde-36f4-470d-9a2f-dc21055e0353"
   },
   "outputs": [],
   "source": [
    "with torch.no_grad():\n",
    "  model = model.to('cpu')\n",
    "  y_pred = model(x_test)\n",
    "  y_pred = y_pred.detach().numpy()\n",
    "  predicted = np.argmax(y_pred, axis =1)\n",
    "  accuracy = (accuracy_score(predicted, y_test))"
   ]
  },
  {
   "cell_type": "code",
   "execution_count": 203,
   "metadata": {
    "colab": {
     "base_uri": "https://localhost:8080/"
    },
    "id": "vyIKhs3Nr6Ay",
    "outputId": "6d73d644-c68b-4a84-defc-6f57192ef91a",
    "scrolled": true
   },
   "outputs": [
    {
     "name": "stdout",
     "output_type": "stream",
     "text": [
      "model의 output은 :  [9.9753356e-01 5.6424691e-05 2.3463666e-03 2.6479929e-06 1.5457291e-06\n",
      " 1.5157785e-06 2.8413260e-06 2.2147417e-06 2.7904118e-06 2.5605502e-06\n",
      " 2.7248675e-06 9.3257052e-07 2.7414110e-06 2.5343174e-06 2.8684897e-06\n",
      " 2.2706083e-06 3.2876421e-06 2.9694122e-06 2.9503810e-06 2.5904760e-06\n",
      " 9.9803196e-07 1.6875626e-06 3.4077088e-06 3.1224824e-06 1.9090121e-06\n",
      " 2.5017098e-06 2.2613763e-06 3.1536208e-06 1.8976581e-06 7.6802735e-07]\n",
      "argmax를 한 후의 output은 0\n",
      "accuracy는 0.3333333333333333\n"
     ]
    }
   ],
   "source": [
    "print(f'model의 output은 :  {y_pred[0]}')\n",
    "print(f'argmax를 한 후의 output은 {predicted[0]}')\n",
    "print(f'accuracy는 {accuracy}')"
   ]
  },
  {
   "cell_type": "code",
   "execution_count": null,
   "metadata": {},
   "outputs": [],
   "source": []
  },
  {
   "cell_type": "markdown",
   "metadata": {
    "id": "3RzRM7xThZV_"
   },
   "source": [
    "# < 3주차 과제 2 : CNN 맛보기>"
   ]
  },
  {
   "cell_type": "code",
   "execution_count": 51,
   "metadata": {
    "id": "56xqgtLxhZw6"
   },
   "outputs": [],
   "source": [
    "from __future__ import print_function\n",
    "import argparse\n",
    "import torch\n",
    "import torch.nn as nn\n",
    "import torch.nn.functional as F\n",
    "import torch.optim as optim\n",
    "from torchvision import datasets, transforms\n",
    "from torch.autograd import Variable"
   ]
  },
  {
   "cell_type": "code",
   "execution_count": 52,
   "metadata": {
    "id": "TzkF2bFNhcQ2"
   },
   "outputs": [
    {
     "name": "stdout",
     "output_type": "stream",
     "text": [
      "Downloading http://yann.lecun.com/exdb/mnist/train-images-idx3-ubyte.gz\n",
      "Downloading http://yann.lecun.com/exdb/mnist/train-images-idx3-ubyte.gz to ./data/MNIST/raw/train-images-idx3-ubyte.gz\n"
     ]
    },
    {
     "data": {
      "application/vnd.jupyter.widget-view+json": {
       "model_id": "b747fd0cd7c24444b9bef522b4e1dbf3",
       "version_major": 2,
       "version_minor": 0
      },
      "text/plain": [
       "  0%|          | 0/9912422 [00:00<?, ?it/s]"
      ]
     },
     "metadata": {},
     "output_type": "display_data"
    },
    {
     "name": "stdout",
     "output_type": "stream",
     "text": [
      "Extracting ./data/MNIST/raw/train-images-idx3-ubyte.gz to ./data/MNIST/raw\n",
      "\n",
      "Downloading http://yann.lecun.com/exdb/mnist/train-labels-idx1-ubyte.gz\n",
      "Downloading http://yann.lecun.com/exdb/mnist/train-labels-idx1-ubyte.gz to ./data/MNIST/raw/train-labels-idx1-ubyte.gz\n"
     ]
    },
    {
     "data": {
      "application/vnd.jupyter.widget-view+json": {
       "model_id": "f4d9988ad5b8426995288ba140331edf",
       "version_major": 2,
       "version_minor": 0
      },
      "text/plain": [
       "  0%|          | 0/28881 [00:00<?, ?it/s]"
      ]
     },
     "metadata": {},
     "output_type": "display_data"
    },
    {
     "name": "stdout",
     "output_type": "stream",
     "text": [
      "Extracting ./data/MNIST/raw/train-labels-idx1-ubyte.gz to ./data/MNIST/raw\n",
      "\n",
      "Downloading http://yann.lecun.com/exdb/mnist/t10k-images-idx3-ubyte.gz\n",
      "Downloading http://yann.lecun.com/exdb/mnist/t10k-images-idx3-ubyte.gz to ./data/MNIST/raw/t10k-images-idx3-ubyte.gz\n"
     ]
    },
    {
     "data": {
      "application/vnd.jupyter.widget-view+json": {
       "model_id": "beb9fe3db7414d0c8595fab389ce7e0d",
       "version_major": 2,
       "version_minor": 0
      },
      "text/plain": [
       "  0%|          | 0/1648877 [00:00<?, ?it/s]"
      ]
     },
     "metadata": {},
     "output_type": "display_data"
    },
    {
     "name": "stdout",
     "output_type": "stream",
     "text": [
      "Extracting ./data/MNIST/raw/t10k-images-idx3-ubyte.gz to ./data/MNIST/raw\n",
      "\n",
      "Downloading http://yann.lecun.com/exdb/mnist/t10k-labels-idx1-ubyte.gz\n",
      "Downloading http://yann.lecun.com/exdb/mnist/t10k-labels-idx1-ubyte.gz to ./data/MNIST/raw/t10k-labels-idx1-ubyte.gz\n"
     ]
    },
    {
     "data": {
      "application/vnd.jupyter.widget-view+json": {
       "model_id": "9dc57e1c7dab4804be8ea410eb20bb3a",
       "version_major": 2,
       "version_minor": 0
      },
      "text/plain": [
       "  0%|          | 0/4542 [00:00<?, ?it/s]"
      ]
     },
     "metadata": {},
     "output_type": "display_data"
    },
    {
     "name": "stdout",
     "output_type": "stream",
     "text": [
      "Extracting ./data/MNIST/raw/t10k-labels-idx1-ubyte.gz to ./data/MNIST/raw\n",
      "\n"
     ]
    }
   ],
   "source": [
    "# Training settings\n",
    "\n",
    "batch_size = 64\n",
    "\n",
    "# MNIST Dataset\n",
    "train_dataset = datasets.MNIST(root='./data/',\n",
    "                               train=True,\n",
    "                               transform=transforms.ToTensor(),\n",
    "                               download=True)\n",
    "\n",
    "test_dataset = datasets.MNIST(root='./data/',\n",
    "                              train=False,\n",
    "                              transform=transforms.ToTensor())\n",
    "\n",
    "# Data Loader (Input Pipeline)\n",
    "train_loader = torch.utils.data.DataLoader(dataset=train_dataset,\n",
    "                                           batch_size=batch_size,\n",
    "                                           shuffle=True)\n",
    "\n",
    "test_loader = torch.utils.data.DataLoader(dataset=test_dataset,\n",
    "                                          batch_size=batch_size,\n",
    "                                          shuffle=False)"
   ]
  },
  {
   "cell_type": "code",
   "execution_count": 68,
   "metadata": {},
   "outputs": [],
   "source": [
    "class Net(nn.Module):\n",
    "  def __init__(self):\n",
    "    super(Net, self).__init__()\n",
    "    self.conv1 = nn.Conv2d(1, 10, kernel_size = 5)\n",
    "    self.conv2 = nn.Conv2d(10, 20, kernel_size = 5)\n",
    "    self.mp = nn.MaxPool2d(2)\n",
    "    self.fc = nn.Linear(320 , 10) ### : 알맞는 input은?\n",
    "\n",
    "  def forward(self, x):\n",
    "    in_size = x.size(0)\n",
    "    x = F.relu(self.mp(self.conv1(x)))\n",
    "    x = F.relu(self.mp(self.conv2(x)))\n",
    "    x = x.view(in_size, -1)\n",
    "    x = self.fc(x)\n",
    "    return F.log_softmax(x)"
   ]
  },
  {
   "cell_type": "code",
   "execution_count": 69,
   "metadata": {
    "id": "lkYZ4pUdnUHc"
   },
   "outputs": [],
   "source": [
    "model = Net()\n",
    "optimizer = optim.SGD(model.parameters(), lr = 0.01, momentum = 0.5)"
   ]
  },
  {
   "cell_type": "code",
   "execution_count": 70,
   "metadata": {
    "id": "IzUrEM3EnXJb"
   },
   "outputs": [],
   "source": [
    "def train(epoch):\n",
    "  model.train()\n",
    "  for batch_idx, (data, target) in enumerate(train_loader):\n",
    "    data, target = Variable(data), Variable(target)\n",
    "    optimizer.zero_grad()\n",
    "    output = model(data)\n",
    "    loss = F.nll_loss(output, target)\n",
    "    loss.backward()\n",
    "    optimizer.step()\n",
    "    if batch_idx % 10 == 0:\n",
    "      print('Train Epoch: {} [{}/{} ({:.0f}%)]\\tLoss: {:.6f}'.format(\n",
    "          epoch, batch_idx * len(data), len(train_loader.dataset),\n",
    "          100. * batch_idx / len(train_loader), loss.item()))"
   ]
  },
  {
   "cell_type": "code",
   "execution_count": 71,
   "metadata": {
    "id": "EFi0gYJGn2aa"
   },
   "outputs": [],
   "source": [
    "def test():\n",
    "    model.eval() #model.eval() 의 기능은?\n",
    "    test_loss = 0\n",
    "    correct = 0\n",
    "    for data, target in test_loader:\n",
    "        data, target = Variable(data, volatile=True), Variable(target)\n",
    "        output = model(data)\n",
    "        test_loss += F.nll_loss(output, target, size_average=False).data # nll_loss?? / cross entropy loss와의 관계 확인!\n",
    "        pred = output.data.max(1, keepdim=True)[1]\n",
    "        correct += pred.eq(target.data.view_as(pred)).cpu().sum()\n",
    "\n",
    "    test_loss /= len(test_loader.dataset)\n",
    "    print('\\nTest set: Average loss: {:.4f}, Accuracy: {}/{} ({:.0f}%)\\n'.format(\n",
    "        test_loss, correct, len(test_loader.dataset),\n",
    "        100. * correct / len(test_loader.dataset)))"
   ]
  },
  {
   "cell_type": "code",
   "execution_count": 72,
   "metadata": {
    "id": "zSvSZb_Bn4Nx"
   },
   "outputs": [
    {
     "name": "stderr",
     "output_type": "stream",
     "text": [
      "/var/folders/p1/fd2s37114219lyvgkk2dr5p00000gn/T/ipykernel_7656/3614070618.py:15: UserWarning: Implicit dimension choice for log_softmax has been deprecated. Change the call to include dim=X as an argument.\n",
      "  return F.log_softmax(x)\n"
     ]
    },
    {
     "name": "stdout",
     "output_type": "stream",
     "text": [
      "Train Epoch: 1 [0/60000 (0%)]\tLoss: 2.311404\n",
      "Train Epoch: 1 [640/60000 (1%)]\tLoss: 2.282385\n",
      "Train Epoch: 1 [1280/60000 (2%)]\tLoss: 2.272270\n",
      "Train Epoch: 1 [1920/60000 (3%)]\tLoss: 2.283599\n",
      "Train Epoch: 1 [2560/60000 (4%)]\tLoss: 2.244882\n",
      "Train Epoch: 1 [3200/60000 (5%)]\tLoss: 2.243810\n",
      "Train Epoch: 1 [3840/60000 (6%)]\tLoss: 2.224021\n",
      "Train Epoch: 1 [4480/60000 (7%)]\tLoss: 2.180104\n",
      "Train Epoch: 1 [5120/60000 (9%)]\tLoss: 2.133883\n",
      "Train Epoch: 1 [5760/60000 (10%)]\tLoss: 2.000395\n",
      "Train Epoch: 1 [6400/60000 (11%)]\tLoss: 1.908960\n",
      "Train Epoch: 1 [7040/60000 (12%)]\tLoss: 1.724348\n",
      "Train Epoch: 1 [7680/60000 (13%)]\tLoss: 1.442902\n",
      "Train Epoch: 1 [8320/60000 (14%)]\tLoss: 1.368001\n",
      "Train Epoch: 1 [8960/60000 (15%)]\tLoss: 0.836658\n",
      "Train Epoch: 1 [9600/60000 (16%)]\tLoss: 1.000611\n",
      "Train Epoch: 1 [10240/60000 (17%)]\tLoss: 0.944622\n",
      "Train Epoch: 1 [10880/60000 (18%)]\tLoss: 0.770986\n",
      "Train Epoch: 1 [11520/60000 (19%)]\tLoss: 0.691053\n",
      "Train Epoch: 1 [12160/60000 (20%)]\tLoss: 0.590902\n",
      "Train Epoch: 1 [12800/60000 (21%)]\tLoss: 0.569054\n",
      "Train Epoch: 1 [13440/60000 (22%)]\tLoss: 0.472449\n",
      "Train Epoch: 1 [14080/60000 (23%)]\tLoss: 0.454380\n",
      "Train Epoch: 1 [14720/60000 (25%)]\tLoss: 0.597777\n",
      "Train Epoch: 1 [15360/60000 (26%)]\tLoss: 0.581408\n",
      "Train Epoch: 1 [16000/60000 (27%)]\tLoss: 0.322634\n",
      "Train Epoch: 1 [16640/60000 (28%)]\tLoss: 0.514685\n",
      "Train Epoch: 1 [17280/60000 (29%)]\tLoss: 0.324926\n",
      "Train Epoch: 1 [17920/60000 (30%)]\tLoss: 0.330930\n",
      "Train Epoch: 1 [18560/60000 (31%)]\tLoss: 0.343310\n",
      "Train Epoch: 1 [19200/60000 (32%)]\tLoss: 0.299584\n",
      "Train Epoch: 1 [19840/60000 (33%)]\tLoss: 0.434852\n",
      "Train Epoch: 1 [20480/60000 (34%)]\tLoss: 0.506748\n",
      "Train Epoch: 1 [21120/60000 (35%)]\tLoss: 0.367545\n",
      "Train Epoch: 1 [21760/60000 (36%)]\tLoss: 0.376909\n",
      "Train Epoch: 1 [22400/60000 (37%)]\tLoss: 0.368087\n",
      "Train Epoch: 1 [23040/60000 (38%)]\tLoss: 0.340169\n",
      "Train Epoch: 1 [23680/60000 (39%)]\tLoss: 0.536148\n",
      "Train Epoch: 1 [24320/60000 (41%)]\tLoss: 0.337166\n",
      "Train Epoch: 1 [24960/60000 (42%)]\tLoss: 0.432158\n",
      "Train Epoch: 1 [25600/60000 (43%)]\tLoss: 0.254936\n",
      "Train Epoch: 1 [26240/60000 (44%)]\tLoss: 0.224629\n",
      "Train Epoch: 1 [26880/60000 (45%)]\tLoss: 0.214777\n",
      "Train Epoch: 1 [27520/60000 (46%)]\tLoss: 0.368476\n",
      "Train Epoch: 1 [28160/60000 (47%)]\tLoss: 0.386462\n",
      "Train Epoch: 1 [28800/60000 (48%)]\tLoss: 0.496428\n",
      "Train Epoch: 1 [29440/60000 (49%)]\tLoss: 0.544089\n",
      "Train Epoch: 1 [30080/60000 (50%)]\tLoss: 0.219352\n",
      "Train Epoch: 1 [30720/60000 (51%)]\tLoss: 0.423436\n",
      "Train Epoch: 1 [31360/60000 (52%)]\tLoss: 0.102846\n",
      "Train Epoch: 1 [32000/60000 (53%)]\tLoss: 0.271878\n",
      "Train Epoch: 1 [32640/60000 (54%)]\tLoss: 0.237218\n",
      "Train Epoch: 1 [33280/60000 (55%)]\tLoss: 0.271102\n",
      "Train Epoch: 1 [33920/60000 (57%)]\tLoss: 0.410633\n",
      "Train Epoch: 1 [34560/60000 (58%)]\tLoss: 0.279780\n",
      "Train Epoch: 1 [35200/60000 (59%)]\tLoss: 0.223949\n",
      "Train Epoch: 1 [35840/60000 (60%)]\tLoss: 0.251983\n",
      "Train Epoch: 1 [36480/60000 (61%)]\tLoss: 0.117897\n",
      "Train Epoch: 1 [37120/60000 (62%)]\tLoss: 0.271108\n",
      "Train Epoch: 1 [37760/60000 (63%)]\tLoss: 0.126561\n",
      "Train Epoch: 1 [38400/60000 (64%)]\tLoss: 0.357339\n",
      "Train Epoch: 1 [39040/60000 (65%)]\tLoss: 0.257404\n",
      "Train Epoch: 1 [39680/60000 (66%)]\tLoss: 0.163771\n",
      "Train Epoch: 1 [40320/60000 (67%)]\tLoss: 0.157026\n",
      "Train Epoch: 1 [40960/60000 (68%)]\tLoss: 0.227809\n",
      "Train Epoch: 1 [41600/60000 (69%)]\tLoss: 0.331542\n",
      "Train Epoch: 1 [42240/60000 (70%)]\tLoss: 0.130061\n",
      "Train Epoch: 1 [42880/60000 (71%)]\tLoss: 0.229658\n",
      "Train Epoch: 1 [43520/60000 (72%)]\tLoss: 0.053607\n",
      "Train Epoch: 1 [44160/60000 (74%)]\tLoss: 0.366994\n",
      "Train Epoch: 1 [44800/60000 (75%)]\tLoss: 0.255418\n",
      "Train Epoch: 1 [45440/60000 (76%)]\tLoss: 0.255287\n",
      "Train Epoch: 1 [46080/60000 (77%)]\tLoss: 0.156206\n",
      "Train Epoch: 1 [46720/60000 (78%)]\tLoss: 0.282495\n",
      "Train Epoch: 1 [47360/60000 (79%)]\tLoss: 0.265626\n",
      "Train Epoch: 1 [48000/60000 (80%)]\tLoss: 0.220446\n",
      "Train Epoch: 1 [48640/60000 (81%)]\tLoss: 0.326877\n",
      "Train Epoch: 1 [49280/60000 (82%)]\tLoss: 0.273554\n",
      "Train Epoch: 1 [49920/60000 (83%)]\tLoss: 0.119933\n",
      "Train Epoch: 1 [50560/60000 (84%)]\tLoss: 0.194663\n",
      "Train Epoch: 1 [51200/60000 (85%)]\tLoss: 0.134195\n",
      "Train Epoch: 1 [51840/60000 (86%)]\tLoss: 0.160743\n",
      "Train Epoch: 1 [52480/60000 (87%)]\tLoss: 0.076525\n",
      "Train Epoch: 1 [53120/60000 (88%)]\tLoss: 0.207974\n",
      "Train Epoch: 1 [53760/60000 (90%)]\tLoss: 0.535144\n",
      "Train Epoch: 1 [54400/60000 (91%)]\tLoss: 0.097254\n",
      "Train Epoch: 1 [55040/60000 (92%)]\tLoss: 0.194482\n",
      "Train Epoch: 1 [55680/60000 (93%)]\tLoss: 0.147539\n",
      "Train Epoch: 1 [56320/60000 (94%)]\tLoss: 0.285988\n",
      "Train Epoch: 1 [56960/60000 (95%)]\tLoss: 0.228476\n",
      "Train Epoch: 1 [57600/60000 (96%)]\tLoss: 0.140880\n",
      "Train Epoch: 1 [58240/60000 (97%)]\tLoss: 0.099198\n",
      "Train Epoch: 1 [58880/60000 (98%)]\tLoss: 0.155924\n",
      "Train Epoch: 1 [59520/60000 (99%)]\tLoss: 0.111680\n"
     ]
    },
    {
     "name": "stderr",
     "output_type": "stream",
     "text": [
      "/var/folders/p1/fd2s37114219lyvgkk2dr5p00000gn/T/ipykernel_7656/2324877592.py:6: UserWarning: volatile was removed and now has no effect. Use `with torch.no_grad():` instead.\n",
      "  data, target = Variable(data, volatile=True), Variable(target)\n",
      "/Users/ahn-youngji/opt/anaconda3/lib/python3.8/site-packages/torch/nn/_reduction.py:42: UserWarning: size_average and reduce args will be deprecated, please use reduction='sum' instead.\n",
      "  warnings.warn(warning.format(ret))\n"
     ]
    },
    {
     "name": "stdout",
     "output_type": "stream",
     "text": [
      "\n",
      "Test set: Average loss: 0.1789, Accuracy: 9461/10000 (95%)\n",
      "\n",
      "Train Epoch: 2 [0/60000 (0%)]\tLoss: 0.147459\n",
      "Train Epoch: 2 [640/60000 (1%)]\tLoss: 0.271662\n",
      "Train Epoch: 2 [1280/60000 (2%)]\tLoss: 0.097170\n",
      "Train Epoch: 2 [1920/60000 (3%)]\tLoss: 0.140709\n",
      "Train Epoch: 2 [2560/60000 (4%)]\tLoss: 0.177205\n",
      "Train Epoch: 2 [3200/60000 (5%)]\tLoss: 0.162947\n",
      "Train Epoch: 2 [3840/60000 (6%)]\tLoss: 0.115464\n",
      "Train Epoch: 2 [4480/60000 (7%)]\tLoss: 0.159411\n",
      "Train Epoch: 2 [5120/60000 (9%)]\tLoss: 0.109070\n",
      "Train Epoch: 2 [5760/60000 (10%)]\tLoss: 0.113894\n",
      "Train Epoch: 2 [6400/60000 (11%)]\tLoss: 0.178128\n",
      "Train Epoch: 2 [7040/60000 (12%)]\tLoss: 0.115376\n",
      "Train Epoch: 2 [7680/60000 (13%)]\tLoss: 0.215620\n",
      "Train Epoch: 2 [8320/60000 (14%)]\tLoss: 0.126688\n",
      "Train Epoch: 2 [8960/60000 (15%)]\tLoss: 0.154639\n",
      "Train Epoch: 2 [9600/60000 (16%)]\tLoss: 0.167985\n",
      "Train Epoch: 2 [10240/60000 (17%)]\tLoss: 0.108231\n",
      "Train Epoch: 2 [10880/60000 (18%)]\tLoss: 0.162458\n",
      "Train Epoch: 2 [11520/60000 (19%)]\tLoss: 0.193228\n",
      "Train Epoch: 2 [12160/60000 (20%)]\tLoss: 0.248115\n",
      "Train Epoch: 2 [12800/60000 (21%)]\tLoss: 0.250796\n",
      "Train Epoch: 2 [13440/60000 (22%)]\tLoss: 0.125403\n",
      "Train Epoch: 2 [14080/60000 (23%)]\tLoss: 0.098740\n",
      "Train Epoch: 2 [14720/60000 (25%)]\tLoss: 0.136138\n",
      "Train Epoch: 2 [15360/60000 (26%)]\tLoss: 0.081781\n",
      "Train Epoch: 2 [16000/60000 (27%)]\tLoss: 0.206826\n",
      "Train Epoch: 2 [16640/60000 (28%)]\tLoss: 0.159272\n",
      "Train Epoch: 2 [17280/60000 (29%)]\tLoss: 0.122048\n",
      "Train Epoch: 2 [17920/60000 (30%)]\tLoss: 0.085736\n",
      "Train Epoch: 2 [18560/60000 (31%)]\tLoss: 0.082469\n",
      "Train Epoch: 2 [19200/60000 (32%)]\tLoss: 0.163540\n",
      "Train Epoch: 2 [19840/60000 (33%)]\tLoss: 0.203138\n",
      "Train Epoch: 2 [20480/60000 (34%)]\tLoss: 0.146228\n",
      "Train Epoch: 2 [21120/60000 (35%)]\tLoss: 0.130694\n",
      "Train Epoch: 2 [21760/60000 (36%)]\tLoss: 0.287666\n",
      "Train Epoch: 2 [22400/60000 (37%)]\tLoss: 0.114701\n",
      "Train Epoch: 2 [23040/60000 (38%)]\tLoss: 0.090820\n",
      "Train Epoch: 2 [23680/60000 (39%)]\tLoss: 0.117784\n",
      "Train Epoch: 2 [24320/60000 (41%)]\tLoss: 0.098945\n",
      "Train Epoch: 2 [24960/60000 (42%)]\tLoss: 0.064261\n",
      "Train Epoch: 2 [25600/60000 (43%)]\tLoss: 0.088066\n",
      "Train Epoch: 2 [26240/60000 (44%)]\tLoss: 0.168356\n",
      "Train Epoch: 2 [26880/60000 (45%)]\tLoss: 0.104842\n",
      "Train Epoch: 2 [27520/60000 (46%)]\tLoss: 0.166310\n",
      "Train Epoch: 2 [28160/60000 (47%)]\tLoss: 0.199162\n",
      "Train Epoch: 2 [28800/60000 (48%)]\tLoss: 0.062707\n",
      "Train Epoch: 2 [29440/60000 (49%)]\tLoss: 0.100574\n",
      "Train Epoch: 2 [30080/60000 (50%)]\tLoss: 0.110840\n",
      "Train Epoch: 2 [30720/60000 (51%)]\tLoss: 0.087659\n",
      "Train Epoch: 2 [31360/60000 (52%)]\tLoss: 0.099903\n",
      "Train Epoch: 2 [32000/60000 (53%)]\tLoss: 0.161162\n",
      "Train Epoch: 2 [32640/60000 (54%)]\tLoss: 0.100283\n",
      "Train Epoch: 2 [33280/60000 (55%)]\tLoss: 0.152829\n",
      "Train Epoch: 2 [33920/60000 (57%)]\tLoss: 0.249663\n",
      "Train Epoch: 2 [34560/60000 (58%)]\tLoss: 0.173224\n",
      "Train Epoch: 2 [35200/60000 (59%)]\tLoss: 0.341446\n",
      "Train Epoch: 2 [35840/60000 (60%)]\tLoss: 0.047307\n",
      "Train Epoch: 2 [36480/60000 (61%)]\tLoss: 0.158069\n",
      "Train Epoch: 2 [37120/60000 (62%)]\tLoss: 0.068547\n",
      "Train Epoch: 2 [37760/60000 (63%)]\tLoss: 0.209306\n",
      "Train Epoch: 2 [38400/60000 (64%)]\tLoss: 0.194911\n",
      "Train Epoch: 2 [39040/60000 (65%)]\tLoss: 0.070018\n",
      "Train Epoch: 2 [39680/60000 (66%)]\tLoss: 0.128047\n",
      "Train Epoch: 2 [40320/60000 (67%)]\tLoss: 0.064531\n",
      "Train Epoch: 2 [40960/60000 (68%)]\tLoss: 0.122830\n",
      "Train Epoch: 2 [41600/60000 (69%)]\tLoss: 0.221044\n",
      "Train Epoch: 2 [42240/60000 (70%)]\tLoss: 0.142619\n",
      "Train Epoch: 2 [42880/60000 (71%)]\tLoss: 0.109319\n",
      "Train Epoch: 2 [43520/60000 (72%)]\tLoss: 0.137009\n",
      "Train Epoch: 2 [44160/60000 (74%)]\tLoss: 0.108672\n",
      "Train Epoch: 2 [44800/60000 (75%)]\tLoss: 0.289304\n",
      "Train Epoch: 2 [45440/60000 (76%)]\tLoss: 0.054036\n",
      "Train Epoch: 2 [46080/60000 (77%)]\tLoss: 0.101800\n",
      "Train Epoch: 2 [46720/60000 (78%)]\tLoss: 0.055542\n",
      "Train Epoch: 2 [47360/60000 (79%)]\tLoss: 0.067725\n",
      "Train Epoch: 2 [48000/60000 (80%)]\tLoss: 0.148305\n",
      "Train Epoch: 2 [48640/60000 (81%)]\tLoss: 0.095129\n",
      "Train Epoch: 2 [49280/60000 (82%)]\tLoss: 0.152473\n",
      "Train Epoch: 2 [49920/60000 (83%)]\tLoss: 0.144746\n",
      "Train Epoch: 2 [50560/60000 (84%)]\tLoss: 0.098903\n",
      "Train Epoch: 2 [51200/60000 (85%)]\tLoss: 0.125014\n",
      "Train Epoch: 2 [51840/60000 (86%)]\tLoss: 0.122419\n",
      "Train Epoch: 2 [52480/60000 (87%)]\tLoss: 0.072140\n",
      "Train Epoch: 2 [53120/60000 (88%)]\tLoss: 0.055589\n",
      "Train Epoch: 2 [53760/60000 (90%)]\tLoss: 0.110548\n",
      "Train Epoch: 2 [54400/60000 (91%)]\tLoss: 0.172379\n",
      "Train Epoch: 2 [55040/60000 (92%)]\tLoss: 0.082398\n",
      "Train Epoch: 2 [55680/60000 (93%)]\tLoss: 0.033789\n",
      "Train Epoch: 2 [56320/60000 (94%)]\tLoss: 0.142624\n",
      "Train Epoch: 2 [56960/60000 (95%)]\tLoss: 0.113984\n",
      "Train Epoch: 2 [57600/60000 (96%)]\tLoss: 0.211177\n",
      "Train Epoch: 2 [58240/60000 (97%)]\tLoss: 0.060375\n",
      "Train Epoch: 2 [58880/60000 (98%)]\tLoss: 0.227861\n",
      "Train Epoch: 2 [59520/60000 (99%)]\tLoss: 0.098622\n",
      "\n",
      "Test set: Average loss: 0.1072, Accuracy: 9674/10000 (97%)\n",
      "\n",
      "Train Epoch: 3 [0/60000 (0%)]\tLoss: 0.042913\n",
      "Train Epoch: 3 [640/60000 (1%)]\tLoss: 0.158126\n",
      "Train Epoch: 3 [1280/60000 (2%)]\tLoss: 0.181735\n",
      "Train Epoch: 3 [1920/60000 (3%)]\tLoss: 0.242835\n",
      "Train Epoch: 3 [2560/60000 (4%)]\tLoss: 0.101816\n",
      "Train Epoch: 3 [3200/60000 (5%)]\tLoss: 0.074186\n",
      "Train Epoch: 3 [3840/60000 (6%)]\tLoss: 0.180125\n",
      "Train Epoch: 3 [4480/60000 (7%)]\tLoss: 0.197598\n",
      "Train Epoch: 3 [5120/60000 (9%)]\tLoss: 0.185577\n",
      "Train Epoch: 3 [5760/60000 (10%)]\tLoss: 0.296437\n",
      "Train Epoch: 3 [6400/60000 (11%)]\tLoss: 0.041017\n",
      "Train Epoch: 3 [7040/60000 (12%)]\tLoss: 0.155001\n",
      "Train Epoch: 3 [7680/60000 (13%)]\tLoss: 0.070998\n",
      "Train Epoch: 3 [8320/60000 (14%)]\tLoss: 0.079565\n",
      "Train Epoch: 3 [8960/60000 (15%)]\tLoss: 0.101503\n",
      "Train Epoch: 3 [9600/60000 (16%)]\tLoss: 0.142869\n",
      "Train Epoch: 3 [10240/60000 (17%)]\tLoss: 0.115660\n",
      "Train Epoch: 3 [10880/60000 (18%)]\tLoss: 0.018092\n",
      "Train Epoch: 3 [11520/60000 (19%)]\tLoss: 0.205338\n",
      "Train Epoch: 3 [12160/60000 (20%)]\tLoss: 0.188121\n",
      "Train Epoch: 3 [12800/60000 (21%)]\tLoss: 0.032369\n",
      "Train Epoch: 3 [13440/60000 (22%)]\tLoss: 0.171508\n",
      "Train Epoch: 3 [14080/60000 (23%)]\tLoss: 0.094173\n",
      "Train Epoch: 3 [14720/60000 (25%)]\tLoss: 0.086046\n",
      "Train Epoch: 3 [15360/60000 (26%)]\tLoss: 0.093016\n",
      "Train Epoch: 3 [16000/60000 (27%)]\tLoss: 0.138619\n",
      "Train Epoch: 3 [16640/60000 (28%)]\tLoss: 0.059611\n",
      "Train Epoch: 3 [17280/60000 (29%)]\tLoss: 0.128814\n",
      "Train Epoch: 3 [17920/60000 (30%)]\tLoss: 0.062445\n",
      "Train Epoch: 3 [18560/60000 (31%)]\tLoss: 0.074567\n",
      "Train Epoch: 3 [19200/60000 (32%)]\tLoss: 0.062452\n",
      "Train Epoch: 3 [19840/60000 (33%)]\tLoss: 0.088128\n",
      "Train Epoch: 3 [20480/60000 (34%)]\tLoss: 0.045266\n",
      "Train Epoch: 3 [21120/60000 (35%)]\tLoss: 0.099994\n",
      "Train Epoch: 3 [21760/60000 (36%)]\tLoss: 0.086383\n",
      "Train Epoch: 3 [22400/60000 (37%)]\tLoss: 0.067897\n",
      "Train Epoch: 3 [23040/60000 (38%)]\tLoss: 0.142596\n",
      "Train Epoch: 3 [23680/60000 (39%)]\tLoss: 0.092598\n",
      "Train Epoch: 3 [24320/60000 (41%)]\tLoss: 0.119982\n",
      "Train Epoch: 3 [24960/60000 (42%)]\tLoss: 0.127331\n",
      "Train Epoch: 3 [25600/60000 (43%)]\tLoss: 0.161684\n",
      "Train Epoch: 3 [26240/60000 (44%)]\tLoss: 0.116631\n",
      "Train Epoch: 3 [26880/60000 (45%)]\tLoss: 0.113514\n",
      "Train Epoch: 3 [27520/60000 (46%)]\tLoss: 0.086167\n",
      "Train Epoch: 3 [28160/60000 (47%)]\tLoss: 0.050823\n",
      "Train Epoch: 3 [28800/60000 (48%)]\tLoss: 0.164150\n",
      "Train Epoch: 3 [29440/60000 (49%)]\tLoss: 0.060870\n",
      "Train Epoch: 3 [30080/60000 (50%)]\tLoss: 0.038644\n",
      "Train Epoch: 3 [30720/60000 (51%)]\tLoss: 0.177483\n",
      "Train Epoch: 3 [31360/60000 (52%)]\tLoss: 0.054742\n",
      "Train Epoch: 3 [32000/60000 (53%)]\tLoss: 0.039750\n",
      "Train Epoch: 3 [32640/60000 (54%)]\tLoss: 0.148988\n",
      "Train Epoch: 3 [33280/60000 (55%)]\tLoss: 0.038859\n",
      "Train Epoch: 3 [33920/60000 (57%)]\tLoss: 0.199995\n",
      "Train Epoch: 3 [34560/60000 (58%)]\tLoss: 0.197425\n",
      "Train Epoch: 3 [35200/60000 (59%)]\tLoss: 0.115226\n",
      "Train Epoch: 3 [35840/60000 (60%)]\tLoss: 0.086332\n",
      "Train Epoch: 3 [36480/60000 (61%)]\tLoss: 0.087156\n",
      "Train Epoch: 3 [37120/60000 (62%)]\tLoss: 0.074481\n",
      "Train Epoch: 3 [37760/60000 (63%)]\tLoss: 0.073506\n",
      "Train Epoch: 3 [38400/60000 (64%)]\tLoss: 0.062683\n",
      "Train Epoch: 3 [39040/60000 (65%)]\tLoss: 0.359871\n",
      "Train Epoch: 3 [39680/60000 (66%)]\tLoss: 0.204546\n",
      "Train Epoch: 3 [40320/60000 (67%)]\tLoss: 0.096453\n",
      "Train Epoch: 3 [40960/60000 (68%)]\tLoss: 0.067541\n",
      "Train Epoch: 3 [41600/60000 (69%)]\tLoss: 0.099751\n",
      "Train Epoch: 3 [42240/60000 (70%)]\tLoss: 0.068139\n",
      "Train Epoch: 3 [42880/60000 (71%)]\tLoss: 0.191034\n",
      "Train Epoch: 3 [43520/60000 (72%)]\tLoss: 0.030869\n",
      "Train Epoch: 3 [44160/60000 (74%)]\tLoss: 0.193713\n"
     ]
    },
    {
     "name": "stdout",
     "output_type": "stream",
     "text": [
      "Train Epoch: 3 [44800/60000 (75%)]\tLoss: 0.143618\n",
      "Train Epoch: 3 [45440/60000 (76%)]\tLoss: 0.095141\n",
      "Train Epoch: 3 [46080/60000 (77%)]\tLoss: 0.166744\n",
      "Train Epoch: 3 [46720/60000 (78%)]\tLoss: 0.154825\n",
      "Train Epoch: 3 [47360/60000 (79%)]\tLoss: 0.113384\n",
      "Train Epoch: 3 [48000/60000 (80%)]\tLoss: 0.119755\n",
      "Train Epoch: 3 [48640/60000 (81%)]\tLoss: 0.023110\n",
      "Train Epoch: 3 [49280/60000 (82%)]\tLoss: 0.052308\n",
      "Train Epoch: 3 [49920/60000 (83%)]\tLoss: 0.060013\n",
      "Train Epoch: 3 [50560/60000 (84%)]\tLoss: 0.024437\n",
      "Train Epoch: 3 [51200/60000 (85%)]\tLoss: 0.113998\n",
      "Train Epoch: 3 [51840/60000 (86%)]\tLoss: 0.139287\n",
      "Train Epoch: 3 [52480/60000 (87%)]\tLoss: 0.058749\n",
      "Train Epoch: 3 [53120/60000 (88%)]\tLoss: 0.016190\n",
      "Train Epoch: 3 [53760/60000 (90%)]\tLoss: 0.055129\n",
      "Train Epoch: 3 [54400/60000 (91%)]\tLoss: 0.082572\n",
      "Train Epoch: 3 [55040/60000 (92%)]\tLoss: 0.155689\n",
      "Train Epoch: 3 [55680/60000 (93%)]\tLoss: 0.112050\n",
      "Train Epoch: 3 [56320/60000 (94%)]\tLoss: 0.057220\n",
      "Train Epoch: 3 [56960/60000 (95%)]\tLoss: 0.146272\n",
      "Train Epoch: 3 [57600/60000 (96%)]\tLoss: 0.037945\n",
      "Train Epoch: 3 [58240/60000 (97%)]\tLoss: 0.063512\n",
      "Train Epoch: 3 [58880/60000 (98%)]\tLoss: 0.195220\n",
      "Train Epoch: 3 [59520/60000 (99%)]\tLoss: 0.062246\n",
      "\n",
      "Test set: Average loss: 0.0887, Accuracy: 9741/10000 (97%)\n",
      "\n",
      "Train Epoch: 4 [0/60000 (0%)]\tLoss: 0.074406\n",
      "Train Epoch: 4 [640/60000 (1%)]\tLoss: 0.051945\n",
      "Train Epoch: 4 [1280/60000 (2%)]\tLoss: 0.045812\n",
      "Train Epoch: 4 [1920/60000 (3%)]\tLoss: 0.052227\n",
      "Train Epoch: 4 [2560/60000 (4%)]\tLoss: 0.142135\n",
      "Train Epoch: 4 [3200/60000 (5%)]\tLoss: 0.129792\n",
      "Train Epoch: 4 [3840/60000 (6%)]\tLoss: 0.046423\n",
      "Train Epoch: 4 [4480/60000 (7%)]\tLoss: 0.045281\n",
      "Train Epoch: 4 [5120/60000 (9%)]\tLoss: 0.042767\n",
      "Train Epoch: 4 [5760/60000 (10%)]\tLoss: 0.046086\n",
      "Train Epoch: 4 [6400/60000 (11%)]\tLoss: 0.126564\n",
      "Train Epoch: 4 [7040/60000 (12%)]\tLoss: 0.103651\n",
      "Train Epoch: 4 [7680/60000 (13%)]\tLoss: 0.045288\n",
      "Train Epoch: 4 [8320/60000 (14%)]\tLoss: 0.083051\n",
      "Train Epoch: 4 [8960/60000 (15%)]\tLoss: 0.094130\n",
      "Train Epoch: 4 [9600/60000 (16%)]\tLoss: 0.098981\n",
      "Train Epoch: 4 [10240/60000 (17%)]\tLoss: 0.089020\n",
      "Train Epoch: 4 [10880/60000 (18%)]\tLoss: 0.171000\n",
      "Train Epoch: 4 [11520/60000 (19%)]\tLoss: 0.067705\n",
      "Train Epoch: 4 [12160/60000 (20%)]\tLoss: 0.090265\n",
      "Train Epoch: 4 [12800/60000 (21%)]\tLoss: 0.074200\n",
      "Train Epoch: 4 [13440/60000 (22%)]\tLoss: 0.119165\n",
      "Train Epoch: 4 [14080/60000 (23%)]\tLoss: 0.108796\n",
      "Train Epoch: 4 [14720/60000 (25%)]\tLoss: 0.050625\n",
      "Train Epoch: 4 [15360/60000 (26%)]\tLoss: 0.120808\n",
      "Train Epoch: 4 [16000/60000 (27%)]\tLoss: 0.104183\n",
      "Train Epoch: 4 [16640/60000 (28%)]\tLoss: 0.058520\n",
      "Train Epoch: 4 [17280/60000 (29%)]\tLoss: 0.158820\n",
      "Train Epoch: 4 [17920/60000 (30%)]\tLoss: 0.019287\n",
      "Train Epoch: 4 [18560/60000 (31%)]\tLoss: 0.048997\n",
      "Train Epoch: 4 [19200/60000 (32%)]\tLoss: 0.055462\n",
      "Train Epoch: 4 [19840/60000 (33%)]\tLoss: 0.099676\n",
      "Train Epoch: 4 [20480/60000 (34%)]\tLoss: 0.014661\n",
      "Train Epoch: 4 [21120/60000 (35%)]\tLoss: 0.088640\n",
      "Train Epoch: 4 [21760/60000 (36%)]\tLoss: 0.040710\n",
      "Train Epoch: 4 [22400/60000 (37%)]\tLoss: 0.024713\n",
      "Train Epoch: 4 [23040/60000 (38%)]\tLoss: 0.121398\n",
      "Train Epoch: 4 [23680/60000 (39%)]\tLoss: 0.064378\n",
      "Train Epoch: 4 [24320/60000 (41%)]\tLoss: 0.081530\n",
      "Train Epoch: 4 [24960/60000 (42%)]\tLoss: 0.024413\n",
      "Train Epoch: 4 [25600/60000 (43%)]\tLoss: 0.072218\n",
      "Train Epoch: 4 [26240/60000 (44%)]\tLoss: 0.077371\n",
      "Train Epoch: 4 [26880/60000 (45%)]\tLoss: 0.159965\n",
      "Train Epoch: 4 [27520/60000 (46%)]\tLoss: 0.121739\n",
      "Train Epoch: 4 [28160/60000 (47%)]\tLoss: 0.200714\n",
      "Train Epoch: 4 [28800/60000 (48%)]\tLoss: 0.081239\n",
      "Train Epoch: 4 [29440/60000 (49%)]\tLoss: 0.014516\n",
      "Train Epoch: 4 [30080/60000 (50%)]\tLoss: 0.085832\n",
      "Train Epoch: 4 [30720/60000 (51%)]\tLoss: 0.150568\n",
      "Train Epoch: 4 [31360/60000 (52%)]\tLoss: 0.168140\n",
      "Train Epoch: 4 [32000/60000 (53%)]\tLoss: 0.022273\n",
      "Train Epoch: 4 [32640/60000 (54%)]\tLoss: 0.209969\n",
      "Train Epoch: 4 [33280/60000 (55%)]\tLoss: 0.049266\n",
      "Train Epoch: 4 [33920/60000 (57%)]\tLoss: 0.031801\n",
      "Train Epoch: 4 [34560/60000 (58%)]\tLoss: 0.050861\n",
      "Train Epoch: 4 [35200/60000 (59%)]\tLoss: 0.058447\n",
      "Train Epoch: 4 [35840/60000 (60%)]\tLoss: 0.032681\n",
      "Train Epoch: 4 [36480/60000 (61%)]\tLoss: 0.073598\n",
      "Train Epoch: 4 [37120/60000 (62%)]\tLoss: 0.056928\n",
      "Train Epoch: 4 [37760/60000 (63%)]\tLoss: 0.050018\n",
      "Train Epoch: 4 [38400/60000 (64%)]\tLoss: 0.075892\n",
      "Train Epoch: 4 [39040/60000 (65%)]\tLoss: 0.048495\n",
      "Train Epoch: 4 [39680/60000 (66%)]\tLoss: 0.122057\n",
      "Train Epoch: 4 [40320/60000 (67%)]\tLoss: 0.111187\n",
      "Train Epoch: 4 [40960/60000 (68%)]\tLoss: 0.078416\n",
      "Train Epoch: 4 [41600/60000 (69%)]\tLoss: 0.050251\n",
      "Train Epoch: 4 [42240/60000 (70%)]\tLoss: 0.106379\n",
      "Train Epoch: 4 [42880/60000 (71%)]\tLoss: 0.043688\n",
      "Train Epoch: 4 [43520/60000 (72%)]\tLoss: 0.123876\n",
      "Train Epoch: 4 [44160/60000 (74%)]\tLoss: 0.043705\n",
      "Train Epoch: 4 [44800/60000 (75%)]\tLoss: 0.085890\n",
      "Train Epoch: 4 [45440/60000 (76%)]\tLoss: 0.018467\n",
      "Train Epoch: 4 [46080/60000 (77%)]\tLoss: 0.092002\n",
      "Train Epoch: 4 [46720/60000 (78%)]\tLoss: 0.038504\n",
      "Train Epoch: 4 [47360/60000 (79%)]\tLoss: 0.027008\n",
      "Train Epoch: 4 [48000/60000 (80%)]\tLoss: 0.031991\n",
      "Train Epoch: 4 [48640/60000 (81%)]\tLoss: 0.123771\n",
      "Train Epoch: 4 [49280/60000 (82%)]\tLoss: 0.063078\n",
      "Train Epoch: 4 [49920/60000 (83%)]\tLoss: 0.026144\n",
      "Train Epoch: 4 [50560/60000 (84%)]\tLoss: 0.071010\n",
      "Train Epoch: 4 [51200/60000 (85%)]\tLoss: 0.082781\n",
      "Train Epoch: 4 [51840/60000 (86%)]\tLoss: 0.255232\n",
      "Train Epoch: 4 [52480/60000 (87%)]\tLoss: 0.075074\n",
      "Train Epoch: 4 [53120/60000 (88%)]\tLoss: 0.038018\n",
      "Train Epoch: 4 [53760/60000 (90%)]\tLoss: 0.244482\n",
      "Train Epoch: 4 [54400/60000 (91%)]\tLoss: 0.034461\n",
      "Train Epoch: 4 [55040/60000 (92%)]\tLoss: 0.143713\n",
      "Train Epoch: 4 [55680/60000 (93%)]\tLoss: 0.055742\n",
      "Train Epoch: 4 [56320/60000 (94%)]\tLoss: 0.059478\n",
      "Train Epoch: 4 [56960/60000 (95%)]\tLoss: 0.032765\n",
      "Train Epoch: 4 [57600/60000 (96%)]\tLoss: 0.053171\n",
      "Train Epoch: 4 [58240/60000 (97%)]\tLoss: 0.087628\n",
      "Train Epoch: 4 [58880/60000 (98%)]\tLoss: 0.136332\n",
      "Train Epoch: 4 [59520/60000 (99%)]\tLoss: 0.149380\n",
      "\n",
      "Test set: Average loss: 0.0762, Accuracy: 9775/10000 (98%)\n",
      "\n",
      "Train Epoch: 5 [0/60000 (0%)]\tLoss: 0.069696\n",
      "Train Epoch: 5 [640/60000 (1%)]\tLoss: 0.035400\n",
      "Train Epoch: 5 [1280/60000 (2%)]\tLoss: 0.046455\n",
      "Train Epoch: 5 [1920/60000 (3%)]\tLoss: 0.116449\n",
      "Train Epoch: 5 [2560/60000 (4%)]\tLoss: 0.044757\n",
      "Train Epoch: 5 [3200/60000 (5%)]\tLoss: 0.054009\n",
      "Train Epoch: 5 [3840/60000 (6%)]\tLoss: 0.069042\n",
      "Train Epoch: 5 [4480/60000 (7%)]\tLoss: 0.102635\n",
      "Train Epoch: 5 [5120/60000 (9%)]\tLoss: 0.033160\n",
      "Train Epoch: 5 [5760/60000 (10%)]\tLoss: 0.083040\n",
      "Train Epoch: 5 [6400/60000 (11%)]\tLoss: 0.152497\n",
      "Train Epoch: 5 [7040/60000 (12%)]\tLoss: 0.058948\n",
      "Train Epoch: 5 [7680/60000 (13%)]\tLoss: 0.027528\n",
      "Train Epoch: 5 [8320/60000 (14%)]\tLoss: 0.043438\n",
      "Train Epoch: 5 [8960/60000 (15%)]\tLoss: 0.096189\n",
      "Train Epoch: 5 [9600/60000 (16%)]\tLoss: 0.156880\n",
      "Train Epoch: 5 [10240/60000 (17%)]\tLoss: 0.071905\n",
      "Train Epoch: 5 [10880/60000 (18%)]\tLoss: 0.046373\n",
      "Train Epoch: 5 [11520/60000 (19%)]\tLoss: 0.042653\n",
      "Train Epoch: 5 [12160/60000 (20%)]\tLoss: 0.095223\n",
      "Train Epoch: 5 [12800/60000 (21%)]\tLoss: 0.048783\n",
      "Train Epoch: 5 [13440/60000 (22%)]\tLoss: 0.133122\n",
      "Train Epoch: 5 [14080/60000 (23%)]\tLoss: 0.085292\n",
      "Train Epoch: 5 [14720/60000 (25%)]\tLoss: 0.084124\n",
      "Train Epoch: 5 [15360/60000 (26%)]\tLoss: 0.026503\n",
      "Train Epoch: 5 [16000/60000 (27%)]\tLoss: 0.129595\n",
      "Train Epoch: 5 [16640/60000 (28%)]\tLoss: 0.112971\n",
      "Train Epoch: 5 [17280/60000 (29%)]\tLoss: 0.071512\n",
      "Train Epoch: 5 [17920/60000 (30%)]\tLoss: 0.062446\n",
      "Train Epoch: 5 [18560/60000 (31%)]\tLoss: 0.017423\n",
      "Train Epoch: 5 [19200/60000 (32%)]\tLoss: 0.080788\n",
      "Train Epoch: 5 [19840/60000 (33%)]\tLoss: 0.075471\n",
      "Train Epoch: 5 [20480/60000 (34%)]\tLoss: 0.056263\n",
      "Train Epoch: 5 [21120/60000 (35%)]\tLoss: 0.028483\n",
      "Train Epoch: 5 [21760/60000 (36%)]\tLoss: 0.029147\n",
      "Train Epoch: 5 [22400/60000 (37%)]\tLoss: 0.065966\n",
      "Train Epoch: 5 [23040/60000 (38%)]\tLoss: 0.037452\n",
      "Train Epoch: 5 [23680/60000 (39%)]\tLoss: 0.061104\n",
      "Train Epoch: 5 [24320/60000 (41%)]\tLoss: 0.113947\n",
      "Train Epoch: 5 [24960/60000 (42%)]\tLoss: 0.027502\n",
      "Train Epoch: 5 [25600/60000 (43%)]\tLoss: 0.039227\n",
      "Train Epoch: 5 [26240/60000 (44%)]\tLoss: 0.016050\n",
      "Train Epoch: 5 [26880/60000 (45%)]\tLoss: 0.157106\n",
      "Train Epoch: 5 [27520/60000 (46%)]\tLoss: 0.048286\n",
      "Train Epoch: 5 [28160/60000 (47%)]\tLoss: 0.062867\n",
      "Train Epoch: 5 [28800/60000 (48%)]\tLoss: 0.065791\n"
     ]
    },
    {
     "name": "stdout",
     "output_type": "stream",
     "text": [
      "Train Epoch: 5 [29440/60000 (49%)]\tLoss: 0.076069\n",
      "Train Epoch: 5 [30080/60000 (50%)]\tLoss: 0.100739\n",
      "Train Epoch: 5 [30720/60000 (51%)]\tLoss: 0.136815\n",
      "Train Epoch: 5 [31360/60000 (52%)]\tLoss: 0.096899\n",
      "Train Epoch: 5 [32000/60000 (53%)]\tLoss: 0.112540\n",
      "Train Epoch: 5 [32640/60000 (54%)]\tLoss: 0.030769\n",
      "Train Epoch: 5 [33280/60000 (55%)]\tLoss: 0.159698\n",
      "Train Epoch: 5 [33920/60000 (57%)]\tLoss: 0.041054\n",
      "Train Epoch: 5 [34560/60000 (58%)]\tLoss: 0.053540\n",
      "Train Epoch: 5 [35200/60000 (59%)]\tLoss: 0.116625\n",
      "Train Epoch: 5 [35840/60000 (60%)]\tLoss: 0.093449\n",
      "Train Epoch: 5 [36480/60000 (61%)]\tLoss: 0.104219\n",
      "Train Epoch: 5 [37120/60000 (62%)]\tLoss: 0.005993\n",
      "Train Epoch: 5 [37760/60000 (63%)]\tLoss: 0.053523\n",
      "Train Epoch: 5 [38400/60000 (64%)]\tLoss: 0.061993\n",
      "Train Epoch: 5 [39040/60000 (65%)]\tLoss: 0.025616\n",
      "Train Epoch: 5 [39680/60000 (66%)]\tLoss: 0.032037\n",
      "Train Epoch: 5 [40320/60000 (67%)]\tLoss: 0.095352\n",
      "Train Epoch: 5 [40960/60000 (68%)]\tLoss: 0.030592\n",
      "Train Epoch: 5 [41600/60000 (69%)]\tLoss: 0.040016\n",
      "Train Epoch: 5 [42240/60000 (70%)]\tLoss: 0.065672\n",
      "Train Epoch: 5 [42880/60000 (71%)]\tLoss: 0.047125\n",
      "Train Epoch: 5 [43520/60000 (72%)]\tLoss: 0.034419\n",
      "Train Epoch: 5 [44160/60000 (74%)]\tLoss: 0.095870\n",
      "Train Epoch: 5 [44800/60000 (75%)]\tLoss: 0.067130\n",
      "Train Epoch: 5 [45440/60000 (76%)]\tLoss: 0.016540\n",
      "Train Epoch: 5 [46080/60000 (77%)]\tLoss: 0.156001\n",
      "Train Epoch: 5 [46720/60000 (78%)]\tLoss: 0.085051\n",
      "Train Epoch: 5 [47360/60000 (79%)]\tLoss: 0.064338\n",
      "Train Epoch: 5 [48000/60000 (80%)]\tLoss: 0.004271\n",
      "Train Epoch: 5 [48640/60000 (81%)]\tLoss: 0.033926\n",
      "Train Epoch: 5 [49280/60000 (82%)]\tLoss: 0.039759\n",
      "Train Epoch: 5 [49920/60000 (83%)]\tLoss: 0.061807\n",
      "Train Epoch: 5 [50560/60000 (84%)]\tLoss: 0.181571\n",
      "Train Epoch: 5 [51200/60000 (85%)]\tLoss: 0.179575\n",
      "Train Epoch: 5 [51840/60000 (86%)]\tLoss: 0.184027\n",
      "Train Epoch: 5 [52480/60000 (87%)]\tLoss: 0.011402\n",
      "Train Epoch: 5 [53120/60000 (88%)]\tLoss: 0.102227\n",
      "Train Epoch: 5 [53760/60000 (90%)]\tLoss: 0.138599\n",
      "Train Epoch: 5 [54400/60000 (91%)]\tLoss: 0.054841\n",
      "Train Epoch: 5 [55040/60000 (92%)]\tLoss: 0.132801\n",
      "Train Epoch: 5 [55680/60000 (93%)]\tLoss: 0.085629\n",
      "Train Epoch: 5 [56320/60000 (94%)]\tLoss: 0.053750\n",
      "Train Epoch: 5 [56960/60000 (95%)]\tLoss: 0.181532\n",
      "Train Epoch: 5 [57600/60000 (96%)]\tLoss: 0.142550\n",
      "Train Epoch: 5 [58240/60000 (97%)]\tLoss: 0.088669\n",
      "Train Epoch: 5 [58880/60000 (98%)]\tLoss: 0.058670\n",
      "Train Epoch: 5 [59520/60000 (99%)]\tLoss: 0.027326\n",
      "\n",
      "Test set: Average loss: 0.0679, Accuracy: 9787/10000 (98%)\n",
      "\n",
      "Train Epoch: 6 [0/60000 (0%)]\tLoss: 0.165275\n",
      "Train Epoch: 6 [640/60000 (1%)]\tLoss: 0.036110\n",
      "Train Epoch: 6 [1280/60000 (2%)]\tLoss: 0.047479\n",
      "Train Epoch: 6 [1920/60000 (3%)]\tLoss: 0.027894\n",
      "Train Epoch: 6 [2560/60000 (4%)]\tLoss: 0.102232\n",
      "Train Epoch: 6 [3200/60000 (5%)]\tLoss: 0.039542\n",
      "Train Epoch: 6 [3840/60000 (6%)]\tLoss: 0.081827\n",
      "Train Epoch: 6 [4480/60000 (7%)]\tLoss: 0.062273\n",
      "Train Epoch: 6 [5120/60000 (9%)]\tLoss: 0.159792\n",
      "Train Epoch: 6 [5760/60000 (10%)]\tLoss: 0.113953\n",
      "Train Epoch: 6 [6400/60000 (11%)]\tLoss: 0.073303\n",
      "Train Epoch: 6 [7040/60000 (12%)]\tLoss: 0.112095\n",
      "Train Epoch: 6 [7680/60000 (13%)]\tLoss: 0.029833\n",
      "Train Epoch: 6 [8320/60000 (14%)]\tLoss: 0.042952\n",
      "Train Epoch: 6 [8960/60000 (15%)]\tLoss: 0.085311\n",
      "Train Epoch: 6 [9600/60000 (16%)]\tLoss: 0.162731\n",
      "Train Epoch: 6 [10240/60000 (17%)]\tLoss: 0.057563\n",
      "Train Epoch: 6 [10880/60000 (18%)]\tLoss: 0.051211\n",
      "Train Epoch: 6 [11520/60000 (19%)]\tLoss: 0.178479\n",
      "Train Epoch: 6 [12160/60000 (20%)]\tLoss: 0.063660\n",
      "Train Epoch: 6 [12800/60000 (21%)]\tLoss: 0.008053\n",
      "Train Epoch: 6 [13440/60000 (22%)]\tLoss: 0.026665\n",
      "Train Epoch: 6 [14080/60000 (23%)]\tLoss: 0.013418\n",
      "Train Epoch: 6 [14720/60000 (25%)]\tLoss: 0.050562\n",
      "Train Epoch: 6 [15360/60000 (26%)]\tLoss: 0.065397\n",
      "Train Epoch: 6 [16000/60000 (27%)]\tLoss: 0.039517\n",
      "Train Epoch: 6 [16640/60000 (28%)]\tLoss: 0.098003\n",
      "Train Epoch: 6 [17280/60000 (29%)]\tLoss: 0.060453\n",
      "Train Epoch: 6 [17920/60000 (30%)]\tLoss: 0.050571\n",
      "Train Epoch: 6 [18560/60000 (31%)]\tLoss: 0.087510\n",
      "Train Epoch: 6 [19200/60000 (32%)]\tLoss: 0.018714\n",
      "Train Epoch: 6 [19840/60000 (33%)]\tLoss: 0.080718\n",
      "Train Epoch: 6 [20480/60000 (34%)]\tLoss: 0.070448\n",
      "Train Epoch: 6 [21120/60000 (35%)]\tLoss: 0.090001\n",
      "Train Epoch: 6 [21760/60000 (36%)]\tLoss: 0.117840\n",
      "Train Epoch: 6 [22400/60000 (37%)]\tLoss: 0.133333\n",
      "Train Epoch: 6 [23040/60000 (38%)]\tLoss: 0.058084\n",
      "Train Epoch: 6 [23680/60000 (39%)]\tLoss: 0.034449\n",
      "Train Epoch: 6 [24320/60000 (41%)]\tLoss: 0.118731\n",
      "Train Epoch: 6 [24960/60000 (42%)]\tLoss: 0.026369\n",
      "Train Epoch: 6 [25600/60000 (43%)]\tLoss: 0.053132\n",
      "Train Epoch: 6 [26240/60000 (44%)]\tLoss: 0.049995\n",
      "Train Epoch: 6 [26880/60000 (45%)]\tLoss: 0.036834\n",
      "Train Epoch: 6 [27520/60000 (46%)]\tLoss: 0.021088\n",
      "Train Epoch: 6 [28160/60000 (47%)]\tLoss: 0.031718\n",
      "Train Epoch: 6 [28800/60000 (48%)]\tLoss: 0.081106\n",
      "Train Epoch: 6 [29440/60000 (49%)]\tLoss: 0.022232\n",
      "Train Epoch: 6 [30080/60000 (50%)]\tLoss: 0.123021\n",
      "Train Epoch: 6 [30720/60000 (51%)]\tLoss: 0.030363\n",
      "Train Epoch: 6 [31360/60000 (52%)]\tLoss: 0.041047\n",
      "Train Epoch: 6 [32000/60000 (53%)]\tLoss: 0.057473\n",
      "Train Epoch: 6 [32640/60000 (54%)]\tLoss: 0.147570\n",
      "Train Epoch: 6 [33280/60000 (55%)]\tLoss: 0.237731\n",
      "Train Epoch: 6 [33920/60000 (57%)]\tLoss: 0.023514\n",
      "Train Epoch: 6 [34560/60000 (58%)]\tLoss: 0.043344\n",
      "Train Epoch: 6 [35200/60000 (59%)]\tLoss: 0.123537\n",
      "Train Epoch: 6 [35840/60000 (60%)]\tLoss: 0.246978\n",
      "Train Epoch: 6 [36480/60000 (61%)]\tLoss: 0.024897\n",
      "Train Epoch: 6 [37120/60000 (62%)]\tLoss: 0.039302\n",
      "Train Epoch: 6 [37760/60000 (63%)]\tLoss: 0.052989\n",
      "Train Epoch: 6 [38400/60000 (64%)]\tLoss: 0.135849\n",
      "Train Epoch: 6 [39040/60000 (65%)]\tLoss: 0.171497\n",
      "Train Epoch: 6 [39680/60000 (66%)]\tLoss: 0.049707\n",
      "Train Epoch: 6 [40320/60000 (67%)]\tLoss: 0.077732\n",
      "Train Epoch: 6 [40960/60000 (68%)]\tLoss: 0.113548\n",
      "Train Epoch: 6 [41600/60000 (69%)]\tLoss: 0.197218\n",
      "Train Epoch: 6 [42240/60000 (70%)]\tLoss: 0.029249\n",
      "Train Epoch: 6 [42880/60000 (71%)]\tLoss: 0.039976\n",
      "Train Epoch: 6 [43520/60000 (72%)]\tLoss: 0.142516\n",
      "Train Epoch: 6 [44160/60000 (74%)]\tLoss: 0.124850\n",
      "Train Epoch: 6 [44800/60000 (75%)]\tLoss: 0.115329\n",
      "Train Epoch: 6 [45440/60000 (76%)]\tLoss: 0.080399\n",
      "Train Epoch: 6 [46080/60000 (77%)]\tLoss: 0.012393\n",
      "Train Epoch: 6 [46720/60000 (78%)]\tLoss: 0.032188\n",
      "Train Epoch: 6 [47360/60000 (79%)]\tLoss: 0.029403\n",
      "Train Epoch: 6 [48000/60000 (80%)]\tLoss: 0.066675\n",
      "Train Epoch: 6 [48640/60000 (81%)]\tLoss: 0.208274\n",
      "Train Epoch: 6 [49280/60000 (82%)]\tLoss: 0.047528\n",
      "Train Epoch: 6 [49920/60000 (83%)]\tLoss: 0.024272\n",
      "Train Epoch: 6 [50560/60000 (84%)]\tLoss: 0.181596\n",
      "Train Epoch: 6 [51200/60000 (85%)]\tLoss: 0.168244\n",
      "Train Epoch: 6 [51840/60000 (86%)]\tLoss: 0.035144\n",
      "Train Epoch: 6 [52480/60000 (87%)]\tLoss: 0.094067\n",
      "Train Epoch: 6 [53120/60000 (88%)]\tLoss: 0.074311\n",
      "Train Epoch: 6 [53760/60000 (90%)]\tLoss: 0.037209\n",
      "Train Epoch: 6 [54400/60000 (91%)]\tLoss: 0.036325\n",
      "Train Epoch: 6 [55040/60000 (92%)]\tLoss: 0.064208\n",
      "Train Epoch: 6 [55680/60000 (93%)]\tLoss: 0.156626\n",
      "Train Epoch: 6 [56320/60000 (94%)]\tLoss: 0.043604\n",
      "Train Epoch: 6 [56960/60000 (95%)]\tLoss: 0.042050\n",
      "Train Epoch: 6 [57600/60000 (96%)]\tLoss: 0.043037\n",
      "Train Epoch: 6 [58240/60000 (97%)]\tLoss: 0.033195\n",
      "Train Epoch: 6 [58880/60000 (98%)]\tLoss: 0.108467\n",
      "Train Epoch: 6 [59520/60000 (99%)]\tLoss: 0.114459\n",
      "\n",
      "Test set: Average loss: 0.0673, Accuracy: 9776/10000 (98%)\n",
      "\n",
      "Train Epoch: 7 [0/60000 (0%)]\tLoss: 0.107928\n",
      "Train Epoch: 7 [640/60000 (1%)]\tLoss: 0.083836\n",
      "Train Epoch: 7 [1280/60000 (2%)]\tLoss: 0.016436\n",
      "Train Epoch: 7 [1920/60000 (3%)]\tLoss: 0.035122\n",
      "Train Epoch: 7 [2560/60000 (4%)]\tLoss: 0.073720\n",
      "Train Epoch: 7 [3200/60000 (5%)]\tLoss: 0.018209\n",
      "Train Epoch: 7 [3840/60000 (6%)]\tLoss: 0.053588\n",
      "Train Epoch: 7 [4480/60000 (7%)]\tLoss: 0.041043\n",
      "Train Epoch: 7 [5120/60000 (9%)]\tLoss: 0.021581\n",
      "Train Epoch: 7 [5760/60000 (10%)]\tLoss: 0.032344\n",
      "Train Epoch: 7 [6400/60000 (11%)]\tLoss: 0.021347\n",
      "Train Epoch: 7 [7040/60000 (12%)]\tLoss: 0.035920\n",
      "Train Epoch: 7 [7680/60000 (13%)]\tLoss: 0.091735\n",
      "Train Epoch: 7 [8320/60000 (14%)]\tLoss: 0.080347\n",
      "Train Epoch: 7 [8960/60000 (15%)]\tLoss: 0.013405\n",
      "Train Epoch: 7 [9600/60000 (16%)]\tLoss: 0.059249\n",
      "Train Epoch: 7 [10240/60000 (17%)]\tLoss: 0.006927\n",
      "Train Epoch: 7 [10880/60000 (18%)]\tLoss: 0.009049\n",
      "Train Epoch: 7 [11520/60000 (19%)]\tLoss: 0.111682\n",
      "Train Epoch: 7 [12160/60000 (20%)]\tLoss: 0.061665\n",
      "Train Epoch: 7 [12800/60000 (21%)]\tLoss: 0.015780\n",
      "Train Epoch: 7 [13440/60000 (22%)]\tLoss: 0.073804\n"
     ]
    },
    {
     "name": "stdout",
     "output_type": "stream",
     "text": [
      "Train Epoch: 7 [14080/60000 (23%)]\tLoss: 0.073684\n",
      "Train Epoch: 7 [14720/60000 (25%)]\tLoss: 0.052219\n",
      "Train Epoch: 7 [15360/60000 (26%)]\tLoss: 0.005527\n",
      "Train Epoch: 7 [16000/60000 (27%)]\tLoss: 0.009464\n",
      "Train Epoch: 7 [16640/60000 (28%)]\tLoss: 0.015656\n",
      "Train Epoch: 7 [17280/60000 (29%)]\tLoss: 0.168283\n",
      "Train Epoch: 7 [17920/60000 (30%)]\tLoss: 0.040140\n",
      "Train Epoch: 7 [18560/60000 (31%)]\tLoss: 0.015166\n",
      "Train Epoch: 7 [19200/60000 (32%)]\tLoss: 0.030318\n",
      "Train Epoch: 7 [19840/60000 (33%)]\tLoss: 0.055628\n",
      "Train Epoch: 7 [20480/60000 (34%)]\tLoss: 0.069828\n",
      "Train Epoch: 7 [21120/60000 (35%)]\tLoss: 0.027395\n",
      "Train Epoch: 7 [21760/60000 (36%)]\tLoss: 0.065768\n",
      "Train Epoch: 7 [22400/60000 (37%)]\tLoss: 0.022756\n",
      "Train Epoch: 7 [23040/60000 (38%)]\tLoss: 0.175265\n",
      "Train Epoch: 7 [23680/60000 (39%)]\tLoss: 0.015371\n",
      "Train Epoch: 7 [24320/60000 (41%)]\tLoss: 0.009835\n",
      "Train Epoch: 7 [24960/60000 (42%)]\tLoss: 0.032273\n",
      "Train Epoch: 7 [25600/60000 (43%)]\tLoss: 0.025689\n",
      "Train Epoch: 7 [26240/60000 (44%)]\tLoss: 0.018373\n",
      "Train Epoch: 7 [26880/60000 (45%)]\tLoss: 0.043388\n",
      "Train Epoch: 7 [27520/60000 (46%)]\tLoss: 0.007062\n",
      "Train Epoch: 7 [28160/60000 (47%)]\tLoss: 0.089092\n",
      "Train Epoch: 7 [28800/60000 (48%)]\tLoss: 0.022392\n",
      "Train Epoch: 7 [29440/60000 (49%)]\tLoss: 0.009086\n",
      "Train Epoch: 7 [30080/60000 (50%)]\tLoss: 0.086369\n",
      "Train Epoch: 7 [30720/60000 (51%)]\tLoss: 0.028649\n",
      "Train Epoch: 7 [31360/60000 (52%)]\tLoss: 0.024179\n",
      "Train Epoch: 7 [32000/60000 (53%)]\tLoss: 0.008388\n",
      "Train Epoch: 7 [32640/60000 (54%)]\tLoss: 0.034246\n",
      "Train Epoch: 7 [33280/60000 (55%)]\tLoss: 0.102880\n",
      "Train Epoch: 7 [33920/60000 (57%)]\tLoss: 0.036696\n",
      "Train Epoch: 7 [34560/60000 (58%)]\tLoss: 0.093194\n",
      "Train Epoch: 7 [35200/60000 (59%)]\tLoss: 0.059361\n",
      "Train Epoch: 7 [35840/60000 (60%)]\tLoss: 0.015530\n",
      "Train Epoch: 7 [36480/60000 (61%)]\tLoss: 0.010928\n",
      "Train Epoch: 7 [37120/60000 (62%)]\tLoss: 0.123022\n",
      "Train Epoch: 7 [37760/60000 (63%)]\tLoss: 0.049040\n",
      "Train Epoch: 7 [38400/60000 (64%)]\tLoss: 0.127821\n",
      "Train Epoch: 7 [39040/60000 (65%)]\tLoss: 0.066660\n",
      "Train Epoch: 7 [39680/60000 (66%)]\tLoss: 0.087834\n",
      "Train Epoch: 7 [40320/60000 (67%)]\tLoss: 0.024560\n",
      "Train Epoch: 7 [40960/60000 (68%)]\tLoss: 0.092846\n",
      "Train Epoch: 7 [41600/60000 (69%)]\tLoss: 0.091333\n",
      "Train Epoch: 7 [42240/60000 (70%)]\tLoss: 0.038964\n",
      "Train Epoch: 7 [42880/60000 (71%)]\tLoss: 0.121617\n",
      "Train Epoch: 7 [43520/60000 (72%)]\tLoss: 0.098148\n",
      "Train Epoch: 7 [44160/60000 (74%)]\tLoss: 0.060098\n",
      "Train Epoch: 7 [44800/60000 (75%)]\tLoss: 0.072990\n",
      "Train Epoch: 7 [45440/60000 (76%)]\tLoss: 0.038764\n",
      "Train Epoch: 7 [46080/60000 (77%)]\tLoss: 0.077905\n",
      "Train Epoch: 7 [46720/60000 (78%)]\tLoss: 0.053202\n",
      "Train Epoch: 7 [47360/60000 (79%)]\tLoss: 0.116280\n",
      "Train Epoch: 7 [48000/60000 (80%)]\tLoss: 0.142694\n",
      "Train Epoch: 7 [48640/60000 (81%)]\tLoss: 0.091025\n",
      "Train Epoch: 7 [49280/60000 (82%)]\tLoss: 0.093988\n",
      "Train Epoch: 7 [49920/60000 (83%)]\tLoss: 0.080835\n",
      "Train Epoch: 7 [50560/60000 (84%)]\tLoss: 0.110064\n",
      "Train Epoch: 7 [51200/60000 (85%)]\tLoss: 0.011601\n",
      "Train Epoch: 7 [51840/60000 (86%)]\tLoss: 0.136144\n",
      "Train Epoch: 7 [52480/60000 (87%)]\tLoss: 0.036518\n",
      "Train Epoch: 7 [53120/60000 (88%)]\tLoss: 0.049761\n",
      "Train Epoch: 7 [53760/60000 (90%)]\tLoss: 0.073492\n",
      "Train Epoch: 7 [54400/60000 (91%)]\tLoss: 0.077011\n",
      "Train Epoch: 7 [55040/60000 (92%)]\tLoss: 0.014557\n",
      "Train Epoch: 7 [55680/60000 (93%)]\tLoss: 0.051231\n",
      "Train Epoch: 7 [56320/60000 (94%)]\tLoss: 0.036122\n",
      "Train Epoch: 7 [56960/60000 (95%)]\tLoss: 0.028422\n",
      "Train Epoch: 7 [57600/60000 (96%)]\tLoss: 0.063261\n",
      "Train Epoch: 7 [58240/60000 (97%)]\tLoss: 0.084224\n",
      "Train Epoch: 7 [58880/60000 (98%)]\tLoss: 0.071150\n",
      "Train Epoch: 7 [59520/60000 (99%)]\tLoss: 0.025145\n",
      "\n",
      "Test set: Average loss: 0.0634, Accuracy: 9793/10000 (98%)\n",
      "\n",
      "Train Epoch: 8 [0/60000 (0%)]\tLoss: 0.024299\n",
      "Train Epoch: 8 [640/60000 (1%)]\tLoss: 0.050772\n",
      "Train Epoch: 8 [1280/60000 (2%)]\tLoss: 0.122016\n",
      "Train Epoch: 8 [1920/60000 (3%)]\tLoss: 0.088442\n",
      "Train Epoch: 8 [2560/60000 (4%)]\tLoss: 0.143697\n",
      "Train Epoch: 8 [3200/60000 (5%)]\tLoss: 0.010033\n",
      "Train Epoch: 8 [3840/60000 (6%)]\tLoss: 0.083337\n",
      "Train Epoch: 8 [4480/60000 (7%)]\tLoss: 0.119611\n",
      "Train Epoch: 8 [5120/60000 (9%)]\tLoss: 0.044413\n",
      "Train Epoch: 8 [5760/60000 (10%)]\tLoss: 0.093727\n",
      "Train Epoch: 8 [6400/60000 (11%)]\tLoss: 0.080614\n",
      "Train Epoch: 8 [7040/60000 (12%)]\tLoss: 0.037246\n",
      "Train Epoch: 8 [7680/60000 (13%)]\tLoss: 0.045547\n",
      "Train Epoch: 8 [8320/60000 (14%)]\tLoss: 0.043618\n",
      "Train Epoch: 8 [8960/60000 (15%)]\tLoss: 0.011350\n",
      "Train Epoch: 8 [9600/60000 (16%)]\tLoss: 0.071331\n",
      "Train Epoch: 8 [10240/60000 (17%)]\tLoss: 0.095971\n",
      "Train Epoch: 8 [10880/60000 (18%)]\tLoss: 0.019773\n",
      "Train Epoch: 8 [11520/60000 (19%)]\tLoss: 0.026139\n",
      "Train Epoch: 8 [12160/60000 (20%)]\tLoss: 0.072247\n",
      "Train Epoch: 8 [12800/60000 (21%)]\tLoss: 0.076226\n",
      "Train Epoch: 8 [13440/60000 (22%)]\tLoss: 0.061034\n",
      "Train Epoch: 8 [14080/60000 (23%)]\tLoss: 0.040084\n",
      "Train Epoch: 8 [14720/60000 (25%)]\tLoss: 0.108227\n",
      "Train Epoch: 8 [15360/60000 (26%)]\tLoss: 0.094552\n",
      "Train Epoch: 8 [16000/60000 (27%)]\tLoss: 0.058881\n",
      "Train Epoch: 8 [16640/60000 (28%)]\tLoss: 0.009855\n",
      "Train Epoch: 8 [17280/60000 (29%)]\tLoss: 0.046300\n",
      "Train Epoch: 8 [17920/60000 (30%)]\tLoss: 0.029436\n",
      "Train Epoch: 8 [18560/60000 (31%)]\tLoss: 0.133902\n",
      "Train Epoch: 8 [19200/60000 (32%)]\tLoss: 0.020079\n",
      "Train Epoch: 8 [19840/60000 (33%)]\tLoss: 0.100147\n",
      "Train Epoch: 8 [20480/60000 (34%)]\tLoss: 0.036839\n",
      "Train Epoch: 8 [21120/60000 (35%)]\tLoss: 0.029994\n",
      "Train Epoch: 8 [21760/60000 (36%)]\tLoss: 0.020087\n",
      "Train Epoch: 8 [22400/60000 (37%)]\tLoss: 0.036929\n",
      "Train Epoch: 8 [23040/60000 (38%)]\tLoss: 0.058061\n",
      "Train Epoch: 8 [23680/60000 (39%)]\tLoss: 0.205116\n",
      "Train Epoch: 8 [24320/60000 (41%)]\tLoss: 0.082127\n",
      "Train Epoch: 8 [24960/60000 (42%)]\tLoss: 0.014635\n",
      "Train Epoch: 8 [25600/60000 (43%)]\tLoss: 0.055193\n",
      "Train Epoch: 8 [26240/60000 (44%)]\tLoss: 0.018460\n",
      "Train Epoch: 8 [26880/60000 (45%)]\tLoss: 0.107993\n",
      "Train Epoch: 8 [27520/60000 (46%)]\tLoss: 0.073198\n",
      "Train Epoch: 8 [28160/60000 (47%)]\tLoss: 0.123517\n",
      "Train Epoch: 8 [28800/60000 (48%)]\tLoss: 0.016144\n",
      "Train Epoch: 8 [29440/60000 (49%)]\tLoss: 0.032343\n",
      "Train Epoch: 8 [30080/60000 (50%)]\tLoss: 0.067838\n",
      "Train Epoch: 8 [30720/60000 (51%)]\tLoss: 0.117756\n",
      "Train Epoch: 8 [31360/60000 (52%)]\tLoss: 0.075992\n",
      "Train Epoch: 8 [32000/60000 (53%)]\tLoss: 0.058153\n",
      "Train Epoch: 8 [32640/60000 (54%)]\tLoss: 0.129610\n",
      "Train Epoch: 8 [33280/60000 (55%)]\tLoss: 0.062296\n",
      "Train Epoch: 8 [33920/60000 (57%)]\tLoss: 0.029209\n",
      "Train Epoch: 8 [34560/60000 (58%)]\tLoss: 0.006801\n",
      "Train Epoch: 8 [35200/60000 (59%)]\tLoss: 0.023130\n",
      "Train Epoch: 8 [35840/60000 (60%)]\tLoss: 0.038522\n",
      "Train Epoch: 8 [36480/60000 (61%)]\tLoss: 0.009838\n",
      "Train Epoch: 8 [37120/60000 (62%)]\tLoss: 0.110264\n",
      "Train Epoch: 8 [37760/60000 (63%)]\tLoss: 0.038697\n",
      "Train Epoch: 8 [38400/60000 (64%)]\tLoss: 0.006978\n",
      "Train Epoch: 8 [39040/60000 (65%)]\tLoss: 0.076324\n",
      "Train Epoch: 8 [39680/60000 (66%)]\tLoss: 0.015006\n",
      "Train Epoch: 8 [40320/60000 (67%)]\tLoss: 0.022618\n",
      "Train Epoch: 8 [40960/60000 (68%)]\tLoss: 0.069103\n",
      "Train Epoch: 8 [41600/60000 (69%)]\tLoss: 0.088652\n",
      "Train Epoch: 8 [42240/60000 (70%)]\tLoss: 0.142473\n",
      "Train Epoch: 8 [42880/60000 (71%)]\tLoss: 0.116803\n",
      "Train Epoch: 8 [43520/60000 (72%)]\tLoss: 0.039310\n",
      "Train Epoch: 8 [44160/60000 (74%)]\tLoss: 0.053541\n",
      "Train Epoch: 8 [44800/60000 (75%)]\tLoss: 0.064201\n",
      "Train Epoch: 8 [45440/60000 (76%)]\tLoss: 0.023984\n",
      "Train Epoch: 8 [46080/60000 (77%)]\tLoss: 0.019974\n",
      "Train Epoch: 8 [46720/60000 (78%)]\tLoss: 0.034793\n",
      "Train Epoch: 8 [47360/60000 (79%)]\tLoss: 0.046397\n",
      "Train Epoch: 8 [48000/60000 (80%)]\tLoss: 0.049337\n",
      "Train Epoch: 8 [48640/60000 (81%)]\tLoss: 0.005821\n",
      "Train Epoch: 8 [49280/60000 (82%)]\tLoss: 0.067676\n",
      "Train Epoch: 8 [49920/60000 (83%)]\tLoss: 0.168257\n",
      "Train Epoch: 8 [50560/60000 (84%)]\tLoss: 0.077379\n",
      "Train Epoch: 8 [51200/60000 (85%)]\tLoss: 0.023883\n",
      "Train Epoch: 8 [51840/60000 (86%)]\tLoss: 0.082531\n",
      "Train Epoch: 8 [52480/60000 (87%)]\tLoss: 0.025330\n",
      "Train Epoch: 8 [53120/60000 (88%)]\tLoss: 0.039269\n",
      "Train Epoch: 8 [53760/60000 (90%)]\tLoss: 0.063842\n",
      "Train Epoch: 8 [54400/60000 (91%)]\tLoss: 0.043438\n",
      "Train Epoch: 8 [55040/60000 (92%)]\tLoss: 0.062975\n",
      "Train Epoch: 8 [55680/60000 (93%)]\tLoss: 0.050258\n",
      "Train Epoch: 8 [56320/60000 (94%)]\tLoss: 0.064681\n",
      "Train Epoch: 8 [56960/60000 (95%)]\tLoss: 0.057995\n",
      "Train Epoch: 8 [57600/60000 (96%)]\tLoss: 0.114586\n",
      "Train Epoch: 8 [58240/60000 (97%)]\tLoss: 0.082954\n"
     ]
    },
    {
     "name": "stdout",
     "output_type": "stream",
     "text": [
      "Train Epoch: 8 [58880/60000 (98%)]\tLoss: 0.013488\n",
      "Train Epoch: 8 [59520/60000 (99%)]\tLoss: 0.031605\n",
      "\n",
      "Test set: Average loss: 0.0583, Accuracy: 9814/10000 (98%)\n",
      "\n",
      "Train Epoch: 9 [0/60000 (0%)]\tLoss: 0.062731\n",
      "Train Epoch: 9 [640/60000 (1%)]\tLoss: 0.029435\n",
      "Train Epoch: 9 [1280/60000 (2%)]\tLoss: 0.041122\n",
      "Train Epoch: 9 [1920/60000 (3%)]\tLoss: 0.034270\n",
      "Train Epoch: 9 [2560/60000 (4%)]\tLoss: 0.068686\n",
      "Train Epoch: 9 [3200/60000 (5%)]\tLoss: 0.100475\n",
      "Train Epoch: 9 [3840/60000 (6%)]\tLoss: 0.058737\n",
      "Train Epoch: 9 [4480/60000 (7%)]\tLoss: 0.029493\n",
      "Train Epoch: 9 [5120/60000 (9%)]\tLoss: 0.062991\n",
      "Train Epoch: 9 [5760/60000 (10%)]\tLoss: 0.066994\n",
      "Train Epoch: 9 [6400/60000 (11%)]\tLoss: 0.067537\n",
      "Train Epoch: 9 [7040/60000 (12%)]\tLoss: 0.030228\n",
      "Train Epoch: 9 [7680/60000 (13%)]\tLoss: 0.100859\n",
      "Train Epoch: 9 [8320/60000 (14%)]\tLoss: 0.032499\n",
      "Train Epoch: 9 [8960/60000 (15%)]\tLoss: 0.049198\n",
      "Train Epoch: 9 [9600/60000 (16%)]\tLoss: 0.030849\n",
      "Train Epoch: 9 [10240/60000 (17%)]\tLoss: 0.082994\n",
      "Train Epoch: 9 [10880/60000 (18%)]\tLoss: 0.122116\n",
      "Train Epoch: 9 [11520/60000 (19%)]\tLoss: 0.025655\n",
      "Train Epoch: 9 [12160/60000 (20%)]\tLoss: 0.124856\n",
      "Train Epoch: 9 [12800/60000 (21%)]\tLoss: 0.075518\n",
      "Train Epoch: 9 [13440/60000 (22%)]\tLoss: 0.154583\n",
      "Train Epoch: 9 [14080/60000 (23%)]\tLoss: 0.044338\n",
      "Train Epoch: 9 [14720/60000 (25%)]\tLoss: 0.127518\n",
      "Train Epoch: 9 [15360/60000 (26%)]\tLoss: 0.021360\n",
      "Train Epoch: 9 [16000/60000 (27%)]\tLoss: 0.076681\n",
      "Train Epoch: 9 [16640/60000 (28%)]\tLoss: 0.004703\n",
      "Train Epoch: 9 [17280/60000 (29%)]\tLoss: 0.070702\n",
      "Train Epoch: 9 [17920/60000 (30%)]\tLoss: 0.014753\n",
      "Train Epoch: 9 [18560/60000 (31%)]\tLoss: 0.078771\n",
      "Train Epoch: 9 [19200/60000 (32%)]\tLoss: 0.043423\n",
      "Train Epoch: 9 [19840/60000 (33%)]\tLoss: 0.161426\n",
      "Train Epoch: 9 [20480/60000 (34%)]\tLoss: 0.073731\n",
      "Train Epoch: 9 [21120/60000 (35%)]\tLoss: 0.013454\n",
      "Train Epoch: 9 [21760/60000 (36%)]\tLoss: 0.045196\n",
      "Train Epoch: 9 [22400/60000 (37%)]\tLoss: 0.128499\n",
      "Train Epoch: 9 [23040/60000 (38%)]\tLoss: 0.050950\n",
      "Train Epoch: 9 [23680/60000 (39%)]\tLoss: 0.133805\n",
      "Train Epoch: 9 [24320/60000 (41%)]\tLoss: 0.036279\n",
      "Train Epoch: 9 [24960/60000 (42%)]\tLoss: 0.042682\n",
      "Train Epoch: 9 [25600/60000 (43%)]\tLoss: 0.040716\n",
      "Train Epoch: 9 [26240/60000 (44%)]\tLoss: 0.013603\n",
      "Train Epoch: 9 [26880/60000 (45%)]\tLoss: 0.052958\n",
      "Train Epoch: 9 [27520/60000 (46%)]\tLoss: 0.023626\n",
      "Train Epoch: 9 [28160/60000 (47%)]\tLoss: 0.006083\n",
      "Train Epoch: 9 [28800/60000 (48%)]\tLoss: 0.051557\n",
      "Train Epoch: 9 [29440/60000 (49%)]\tLoss: 0.089337\n",
      "Train Epoch: 9 [30080/60000 (50%)]\tLoss: 0.047547\n",
      "Train Epoch: 9 [30720/60000 (51%)]\tLoss: 0.016810\n",
      "Train Epoch: 9 [31360/60000 (52%)]\tLoss: 0.063870\n",
      "Train Epoch: 9 [32000/60000 (53%)]\tLoss: 0.080747\n",
      "Train Epoch: 9 [32640/60000 (54%)]\tLoss: 0.040037\n",
      "Train Epoch: 9 [33280/60000 (55%)]\tLoss: 0.124268\n",
      "Train Epoch: 9 [33920/60000 (57%)]\tLoss: 0.099897\n",
      "Train Epoch: 9 [34560/60000 (58%)]\tLoss: 0.022987\n",
      "Train Epoch: 9 [35200/60000 (59%)]\tLoss: 0.092453\n",
      "Train Epoch: 9 [35840/60000 (60%)]\tLoss: 0.083344\n",
      "Train Epoch: 9 [36480/60000 (61%)]\tLoss: 0.074109\n",
      "Train Epoch: 9 [37120/60000 (62%)]\tLoss: 0.037607\n",
      "Train Epoch: 9 [37760/60000 (63%)]\tLoss: 0.115338\n",
      "Train Epoch: 9 [38400/60000 (64%)]\tLoss: 0.041448\n",
      "Train Epoch: 9 [39040/60000 (65%)]\tLoss: 0.043379\n",
      "Train Epoch: 9 [39680/60000 (66%)]\tLoss: 0.063239\n",
      "Train Epoch: 9 [40320/60000 (67%)]\tLoss: 0.248857\n",
      "Train Epoch: 9 [40960/60000 (68%)]\tLoss: 0.028111\n",
      "Train Epoch: 9 [41600/60000 (69%)]\tLoss: 0.038650\n",
      "Train Epoch: 9 [42240/60000 (70%)]\tLoss: 0.053589\n",
      "Train Epoch: 9 [42880/60000 (71%)]\tLoss: 0.012677\n",
      "Train Epoch: 9 [43520/60000 (72%)]\tLoss: 0.079067\n",
      "Train Epoch: 9 [44160/60000 (74%)]\tLoss: 0.153407\n",
      "Train Epoch: 9 [44800/60000 (75%)]\tLoss: 0.082206\n",
      "Train Epoch: 9 [45440/60000 (76%)]\tLoss: 0.099162\n",
      "Train Epoch: 9 [46080/60000 (77%)]\tLoss: 0.113209\n",
      "Train Epoch: 9 [46720/60000 (78%)]\tLoss: 0.068071\n",
      "Train Epoch: 9 [47360/60000 (79%)]\tLoss: 0.028203\n",
      "Train Epoch: 9 [48000/60000 (80%)]\tLoss: 0.017208\n",
      "Train Epoch: 9 [48640/60000 (81%)]\tLoss: 0.070928\n",
      "Train Epoch: 9 [49280/60000 (82%)]\tLoss: 0.050565\n",
      "Train Epoch: 9 [49920/60000 (83%)]\tLoss: 0.011224\n",
      "Train Epoch: 9 [50560/60000 (84%)]\tLoss: 0.082722\n",
      "Train Epoch: 9 [51200/60000 (85%)]\tLoss: 0.134800\n",
      "Train Epoch: 9 [51840/60000 (86%)]\tLoss: 0.018343\n",
      "Train Epoch: 9 [52480/60000 (87%)]\tLoss: 0.015029\n",
      "Train Epoch: 9 [53120/60000 (88%)]\tLoss: 0.041136\n",
      "Train Epoch: 9 [53760/60000 (90%)]\tLoss: 0.045028\n",
      "Train Epoch: 9 [54400/60000 (91%)]\tLoss: 0.040125\n",
      "Train Epoch: 9 [55040/60000 (92%)]\tLoss: 0.077397\n",
      "Train Epoch: 9 [55680/60000 (93%)]\tLoss: 0.111466\n",
      "Train Epoch: 9 [56320/60000 (94%)]\tLoss: 0.020779\n",
      "Train Epoch: 9 [56960/60000 (95%)]\tLoss: 0.012827\n",
      "Train Epoch: 9 [57600/60000 (96%)]\tLoss: 0.033867\n",
      "Train Epoch: 9 [58240/60000 (97%)]\tLoss: 0.014639\n",
      "Train Epoch: 9 [58880/60000 (98%)]\tLoss: 0.031465\n",
      "Train Epoch: 9 [59520/60000 (99%)]\tLoss: 0.007505\n",
      "\n",
      "Test set: Average loss: 0.0506, Accuracy: 9835/10000 (98%)\n",
      "\n"
     ]
    }
   ],
   "source": [
    "for epoch in range(1, 10):\n",
    "    train(epoch)\n",
    "    test()"
   ]
  },
  {
   "cell_type": "code",
   "execution_count": null,
   "metadata": {},
   "outputs": [],
   "source": []
  }
 ],
 "metadata": {
  "accelerator": "GPU",
  "colab": {
   "machine_shape": "hm",
   "provenance": []
  },
  "kernelspec": {
   "display_name": "Python 3 (ipykernel)",
   "language": "python",
   "name": "python3"
  },
  "language_info": {
   "codemirror_mode": {
    "name": "ipython",
    "version": 3
   },
   "file_extension": ".py",
   "mimetype": "text/x-python",
   "name": "python",
   "nbconvert_exporter": "python",
   "pygments_lexer": "ipython3",
   "version": "3.8.8"
  }
 },
 "nbformat": 4,
 "nbformat_minor": 1
}
