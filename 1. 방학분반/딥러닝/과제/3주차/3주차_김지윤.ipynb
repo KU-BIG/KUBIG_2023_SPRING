{
  "nbformat": 4,
  "nbformat_minor": 0,
  "metadata": {
    "colab": {
      "provenance": [],
      "machine_shape": "hm"
    },
    "kernelspec": {
      "name": "python3",
      "display_name": "Python 3"
    },
    "language_info": {
      "name": "python"
    },
    "accelerator": "GPU",
    "widgets": {
      "application/vnd.jupyter.widget-state+json": {
        "ad6d7a73fe5b4272b78cfbcc1d07b0b2": {
          "model_module": "@jupyter-widgets/controls",
          "model_name": "HBoxModel",
          "model_module_version": "1.5.0",
          "state": {
            "_dom_classes": [],
            "_model_module": "@jupyter-widgets/controls",
            "_model_module_version": "1.5.0",
            "_model_name": "HBoxModel",
            "_view_count": null,
            "_view_module": "@jupyter-widgets/controls",
            "_view_module_version": "1.5.0",
            "_view_name": "HBoxView",
            "box_style": "",
            "children": [
              "IPY_MODEL_9b30c74e9c5f48bfb5e7ce2485f1d394",
              "IPY_MODEL_aeeda241ecd34efc9ee24ea09cee8fea",
              "IPY_MODEL_1c65dc9aa89448a0a15641ce7a729d4a"
            ],
            "layout": "IPY_MODEL_1e420ed60e8345478dfca3a93062f6c1"
          }
        },
        "9b30c74e9c5f48bfb5e7ce2485f1d394": {
          "model_module": "@jupyter-widgets/controls",
          "model_name": "HTMLModel",
          "model_module_version": "1.5.0",
          "state": {
            "_dom_classes": [],
            "_model_module": "@jupyter-widgets/controls",
            "_model_module_version": "1.5.0",
            "_model_name": "HTMLModel",
            "_view_count": null,
            "_view_module": "@jupyter-widgets/controls",
            "_view_module_version": "1.5.0",
            "_view_name": "HTMLView",
            "description": "",
            "description_tooltip": null,
            "layout": "IPY_MODEL_229a46cf865a4d77a20cba89df867be0",
            "placeholder": "​",
            "style": "IPY_MODEL_31754fb7321641c0b64a9702b125b6c9",
            "value": "100%"
          }
        },
        "aeeda241ecd34efc9ee24ea09cee8fea": {
          "model_module": "@jupyter-widgets/controls",
          "model_name": "FloatProgressModel",
          "model_module_version": "1.5.0",
          "state": {
            "_dom_classes": [],
            "_model_module": "@jupyter-widgets/controls",
            "_model_module_version": "1.5.0",
            "_model_name": "FloatProgressModel",
            "_view_count": null,
            "_view_module": "@jupyter-widgets/controls",
            "_view_module_version": "1.5.0",
            "_view_name": "ProgressView",
            "bar_style": "success",
            "description": "",
            "description_tooltip": null,
            "layout": "IPY_MODEL_2893a59ec802492dafceef390d57fe1c",
            "max": 9912422,
            "min": 0,
            "orientation": "horizontal",
            "style": "IPY_MODEL_4229142a9522441ca0521d014e75ec0b",
            "value": 9912422
          }
        },
        "1c65dc9aa89448a0a15641ce7a729d4a": {
          "model_module": "@jupyter-widgets/controls",
          "model_name": "HTMLModel",
          "model_module_version": "1.5.0",
          "state": {
            "_dom_classes": [],
            "_model_module": "@jupyter-widgets/controls",
            "_model_module_version": "1.5.0",
            "_model_name": "HTMLModel",
            "_view_count": null,
            "_view_module": "@jupyter-widgets/controls",
            "_view_module_version": "1.5.0",
            "_view_name": "HTMLView",
            "description": "",
            "description_tooltip": null,
            "layout": "IPY_MODEL_9583391b0dfa4b57a2ccf76bac30559e",
            "placeholder": "​",
            "style": "IPY_MODEL_35d2586e9ac74cd9920e7e6ba2ac0de1",
            "value": " 9912422/9912422 [00:00&lt;00:00, 195255301.01it/s]"
          }
        },
        "1e420ed60e8345478dfca3a93062f6c1": {
          "model_module": "@jupyter-widgets/base",
          "model_name": "LayoutModel",
          "model_module_version": "1.2.0",
          "state": {
            "_model_module": "@jupyter-widgets/base",
            "_model_module_version": "1.2.0",
            "_model_name": "LayoutModel",
            "_view_count": null,
            "_view_module": "@jupyter-widgets/base",
            "_view_module_version": "1.2.0",
            "_view_name": "LayoutView",
            "align_content": null,
            "align_items": null,
            "align_self": null,
            "border": null,
            "bottom": null,
            "display": null,
            "flex": null,
            "flex_flow": null,
            "grid_area": null,
            "grid_auto_columns": null,
            "grid_auto_flow": null,
            "grid_auto_rows": null,
            "grid_column": null,
            "grid_gap": null,
            "grid_row": null,
            "grid_template_areas": null,
            "grid_template_columns": null,
            "grid_template_rows": null,
            "height": null,
            "justify_content": null,
            "justify_items": null,
            "left": null,
            "margin": null,
            "max_height": null,
            "max_width": null,
            "min_height": null,
            "min_width": null,
            "object_fit": null,
            "object_position": null,
            "order": null,
            "overflow": null,
            "overflow_x": null,
            "overflow_y": null,
            "padding": null,
            "right": null,
            "top": null,
            "visibility": null,
            "width": null
          }
        },
        "229a46cf865a4d77a20cba89df867be0": {
          "model_module": "@jupyter-widgets/base",
          "model_name": "LayoutModel",
          "model_module_version": "1.2.0",
          "state": {
            "_model_module": "@jupyter-widgets/base",
            "_model_module_version": "1.2.0",
            "_model_name": "LayoutModel",
            "_view_count": null,
            "_view_module": "@jupyter-widgets/base",
            "_view_module_version": "1.2.0",
            "_view_name": "LayoutView",
            "align_content": null,
            "align_items": null,
            "align_self": null,
            "border": null,
            "bottom": null,
            "display": null,
            "flex": null,
            "flex_flow": null,
            "grid_area": null,
            "grid_auto_columns": null,
            "grid_auto_flow": null,
            "grid_auto_rows": null,
            "grid_column": null,
            "grid_gap": null,
            "grid_row": null,
            "grid_template_areas": null,
            "grid_template_columns": null,
            "grid_template_rows": null,
            "height": null,
            "justify_content": null,
            "justify_items": null,
            "left": null,
            "margin": null,
            "max_height": null,
            "max_width": null,
            "min_height": null,
            "min_width": null,
            "object_fit": null,
            "object_position": null,
            "order": null,
            "overflow": null,
            "overflow_x": null,
            "overflow_y": null,
            "padding": null,
            "right": null,
            "top": null,
            "visibility": null,
            "width": null
          }
        },
        "31754fb7321641c0b64a9702b125b6c9": {
          "model_module": "@jupyter-widgets/controls",
          "model_name": "DescriptionStyleModel",
          "model_module_version": "1.5.0",
          "state": {
            "_model_module": "@jupyter-widgets/controls",
            "_model_module_version": "1.5.0",
            "_model_name": "DescriptionStyleModel",
            "_view_count": null,
            "_view_module": "@jupyter-widgets/base",
            "_view_module_version": "1.2.0",
            "_view_name": "StyleView",
            "description_width": ""
          }
        },
        "2893a59ec802492dafceef390d57fe1c": {
          "model_module": "@jupyter-widgets/base",
          "model_name": "LayoutModel",
          "model_module_version": "1.2.0",
          "state": {
            "_model_module": "@jupyter-widgets/base",
            "_model_module_version": "1.2.0",
            "_model_name": "LayoutModel",
            "_view_count": null,
            "_view_module": "@jupyter-widgets/base",
            "_view_module_version": "1.2.0",
            "_view_name": "LayoutView",
            "align_content": null,
            "align_items": null,
            "align_self": null,
            "border": null,
            "bottom": null,
            "display": null,
            "flex": null,
            "flex_flow": null,
            "grid_area": null,
            "grid_auto_columns": null,
            "grid_auto_flow": null,
            "grid_auto_rows": null,
            "grid_column": null,
            "grid_gap": null,
            "grid_row": null,
            "grid_template_areas": null,
            "grid_template_columns": null,
            "grid_template_rows": null,
            "height": null,
            "justify_content": null,
            "justify_items": null,
            "left": null,
            "margin": null,
            "max_height": null,
            "max_width": null,
            "min_height": null,
            "min_width": null,
            "object_fit": null,
            "object_position": null,
            "order": null,
            "overflow": null,
            "overflow_x": null,
            "overflow_y": null,
            "padding": null,
            "right": null,
            "top": null,
            "visibility": null,
            "width": null
          }
        },
        "4229142a9522441ca0521d014e75ec0b": {
          "model_module": "@jupyter-widgets/controls",
          "model_name": "ProgressStyleModel",
          "model_module_version": "1.5.0",
          "state": {
            "_model_module": "@jupyter-widgets/controls",
            "_model_module_version": "1.5.0",
            "_model_name": "ProgressStyleModel",
            "_view_count": null,
            "_view_module": "@jupyter-widgets/base",
            "_view_module_version": "1.2.0",
            "_view_name": "StyleView",
            "bar_color": null,
            "description_width": ""
          }
        },
        "9583391b0dfa4b57a2ccf76bac30559e": {
          "model_module": "@jupyter-widgets/base",
          "model_name": "LayoutModel",
          "model_module_version": "1.2.0",
          "state": {
            "_model_module": "@jupyter-widgets/base",
            "_model_module_version": "1.2.0",
            "_model_name": "LayoutModel",
            "_view_count": null,
            "_view_module": "@jupyter-widgets/base",
            "_view_module_version": "1.2.0",
            "_view_name": "LayoutView",
            "align_content": null,
            "align_items": null,
            "align_self": null,
            "border": null,
            "bottom": null,
            "display": null,
            "flex": null,
            "flex_flow": null,
            "grid_area": null,
            "grid_auto_columns": null,
            "grid_auto_flow": null,
            "grid_auto_rows": null,
            "grid_column": null,
            "grid_gap": null,
            "grid_row": null,
            "grid_template_areas": null,
            "grid_template_columns": null,
            "grid_template_rows": null,
            "height": null,
            "justify_content": null,
            "justify_items": null,
            "left": null,
            "margin": null,
            "max_height": null,
            "max_width": null,
            "min_height": null,
            "min_width": null,
            "object_fit": null,
            "object_position": null,
            "order": null,
            "overflow": null,
            "overflow_x": null,
            "overflow_y": null,
            "padding": null,
            "right": null,
            "top": null,
            "visibility": null,
            "width": null
          }
        },
        "35d2586e9ac74cd9920e7e6ba2ac0de1": {
          "model_module": "@jupyter-widgets/controls",
          "model_name": "DescriptionStyleModel",
          "model_module_version": "1.5.0",
          "state": {
            "_model_module": "@jupyter-widgets/controls",
            "_model_module_version": "1.5.0",
            "_model_name": "DescriptionStyleModel",
            "_view_count": null,
            "_view_module": "@jupyter-widgets/base",
            "_view_module_version": "1.2.0",
            "_view_name": "StyleView",
            "description_width": ""
          }
        },
        "aa5579e9f9cd4f4c8b15c59dbb4f39ee": {
          "model_module": "@jupyter-widgets/controls",
          "model_name": "HBoxModel",
          "model_module_version": "1.5.0",
          "state": {
            "_dom_classes": [],
            "_model_module": "@jupyter-widgets/controls",
            "_model_module_version": "1.5.0",
            "_model_name": "HBoxModel",
            "_view_count": null,
            "_view_module": "@jupyter-widgets/controls",
            "_view_module_version": "1.5.0",
            "_view_name": "HBoxView",
            "box_style": "",
            "children": [
              "IPY_MODEL_6a3ef7b8208a4e7b87bb1248a87215c0",
              "IPY_MODEL_7a324af4f62041dc95692de9f19f3fc7",
              "IPY_MODEL_835e8c7fc32d46728194536bff09a722"
            ],
            "layout": "IPY_MODEL_f394f0a6601b414e939ac1b15c3b7201"
          }
        },
        "6a3ef7b8208a4e7b87bb1248a87215c0": {
          "model_module": "@jupyter-widgets/controls",
          "model_name": "HTMLModel",
          "model_module_version": "1.5.0",
          "state": {
            "_dom_classes": [],
            "_model_module": "@jupyter-widgets/controls",
            "_model_module_version": "1.5.0",
            "_model_name": "HTMLModel",
            "_view_count": null,
            "_view_module": "@jupyter-widgets/controls",
            "_view_module_version": "1.5.0",
            "_view_name": "HTMLView",
            "description": "",
            "description_tooltip": null,
            "layout": "IPY_MODEL_0000546aedb746adbaca63c707667460",
            "placeholder": "​",
            "style": "IPY_MODEL_2c1dee42ba3b4015ba2151f36c8cfb84",
            "value": "100%"
          }
        },
        "7a324af4f62041dc95692de9f19f3fc7": {
          "model_module": "@jupyter-widgets/controls",
          "model_name": "FloatProgressModel",
          "model_module_version": "1.5.0",
          "state": {
            "_dom_classes": [],
            "_model_module": "@jupyter-widgets/controls",
            "_model_module_version": "1.5.0",
            "_model_name": "FloatProgressModel",
            "_view_count": null,
            "_view_module": "@jupyter-widgets/controls",
            "_view_module_version": "1.5.0",
            "_view_name": "ProgressView",
            "bar_style": "success",
            "description": "",
            "description_tooltip": null,
            "layout": "IPY_MODEL_0b3ffe2394b54870b0acdad00f389fc0",
            "max": 28881,
            "min": 0,
            "orientation": "horizontal",
            "style": "IPY_MODEL_01289c257aac42af8351192992445f7d",
            "value": 28881
          }
        },
        "835e8c7fc32d46728194536bff09a722": {
          "model_module": "@jupyter-widgets/controls",
          "model_name": "HTMLModel",
          "model_module_version": "1.5.0",
          "state": {
            "_dom_classes": [],
            "_model_module": "@jupyter-widgets/controls",
            "_model_module_version": "1.5.0",
            "_model_name": "HTMLModel",
            "_view_count": null,
            "_view_module": "@jupyter-widgets/controls",
            "_view_module_version": "1.5.0",
            "_view_name": "HTMLView",
            "description": "",
            "description_tooltip": null,
            "layout": "IPY_MODEL_9882c5cd084b457293f943c49b9766aa",
            "placeholder": "​",
            "style": "IPY_MODEL_db7ede82a0c44934bc97f8edef9bc230",
            "value": " 28881/28881 [00:00&lt;00:00, 1716410.82it/s]"
          }
        },
        "f394f0a6601b414e939ac1b15c3b7201": {
          "model_module": "@jupyter-widgets/base",
          "model_name": "LayoutModel",
          "model_module_version": "1.2.0",
          "state": {
            "_model_module": "@jupyter-widgets/base",
            "_model_module_version": "1.2.0",
            "_model_name": "LayoutModel",
            "_view_count": null,
            "_view_module": "@jupyter-widgets/base",
            "_view_module_version": "1.2.0",
            "_view_name": "LayoutView",
            "align_content": null,
            "align_items": null,
            "align_self": null,
            "border": null,
            "bottom": null,
            "display": null,
            "flex": null,
            "flex_flow": null,
            "grid_area": null,
            "grid_auto_columns": null,
            "grid_auto_flow": null,
            "grid_auto_rows": null,
            "grid_column": null,
            "grid_gap": null,
            "grid_row": null,
            "grid_template_areas": null,
            "grid_template_columns": null,
            "grid_template_rows": null,
            "height": null,
            "justify_content": null,
            "justify_items": null,
            "left": null,
            "margin": null,
            "max_height": null,
            "max_width": null,
            "min_height": null,
            "min_width": null,
            "object_fit": null,
            "object_position": null,
            "order": null,
            "overflow": null,
            "overflow_x": null,
            "overflow_y": null,
            "padding": null,
            "right": null,
            "top": null,
            "visibility": null,
            "width": null
          }
        },
        "0000546aedb746adbaca63c707667460": {
          "model_module": "@jupyter-widgets/base",
          "model_name": "LayoutModel",
          "model_module_version": "1.2.0",
          "state": {
            "_model_module": "@jupyter-widgets/base",
            "_model_module_version": "1.2.0",
            "_model_name": "LayoutModel",
            "_view_count": null,
            "_view_module": "@jupyter-widgets/base",
            "_view_module_version": "1.2.0",
            "_view_name": "LayoutView",
            "align_content": null,
            "align_items": null,
            "align_self": null,
            "border": null,
            "bottom": null,
            "display": null,
            "flex": null,
            "flex_flow": null,
            "grid_area": null,
            "grid_auto_columns": null,
            "grid_auto_flow": null,
            "grid_auto_rows": null,
            "grid_column": null,
            "grid_gap": null,
            "grid_row": null,
            "grid_template_areas": null,
            "grid_template_columns": null,
            "grid_template_rows": null,
            "height": null,
            "justify_content": null,
            "justify_items": null,
            "left": null,
            "margin": null,
            "max_height": null,
            "max_width": null,
            "min_height": null,
            "min_width": null,
            "object_fit": null,
            "object_position": null,
            "order": null,
            "overflow": null,
            "overflow_x": null,
            "overflow_y": null,
            "padding": null,
            "right": null,
            "top": null,
            "visibility": null,
            "width": null
          }
        },
        "2c1dee42ba3b4015ba2151f36c8cfb84": {
          "model_module": "@jupyter-widgets/controls",
          "model_name": "DescriptionStyleModel",
          "model_module_version": "1.5.0",
          "state": {
            "_model_module": "@jupyter-widgets/controls",
            "_model_module_version": "1.5.0",
            "_model_name": "DescriptionStyleModel",
            "_view_count": null,
            "_view_module": "@jupyter-widgets/base",
            "_view_module_version": "1.2.0",
            "_view_name": "StyleView",
            "description_width": ""
          }
        },
        "0b3ffe2394b54870b0acdad00f389fc0": {
          "model_module": "@jupyter-widgets/base",
          "model_name": "LayoutModel",
          "model_module_version": "1.2.0",
          "state": {
            "_model_module": "@jupyter-widgets/base",
            "_model_module_version": "1.2.0",
            "_model_name": "LayoutModel",
            "_view_count": null,
            "_view_module": "@jupyter-widgets/base",
            "_view_module_version": "1.2.0",
            "_view_name": "LayoutView",
            "align_content": null,
            "align_items": null,
            "align_self": null,
            "border": null,
            "bottom": null,
            "display": null,
            "flex": null,
            "flex_flow": null,
            "grid_area": null,
            "grid_auto_columns": null,
            "grid_auto_flow": null,
            "grid_auto_rows": null,
            "grid_column": null,
            "grid_gap": null,
            "grid_row": null,
            "grid_template_areas": null,
            "grid_template_columns": null,
            "grid_template_rows": null,
            "height": null,
            "justify_content": null,
            "justify_items": null,
            "left": null,
            "margin": null,
            "max_height": null,
            "max_width": null,
            "min_height": null,
            "min_width": null,
            "object_fit": null,
            "object_position": null,
            "order": null,
            "overflow": null,
            "overflow_x": null,
            "overflow_y": null,
            "padding": null,
            "right": null,
            "top": null,
            "visibility": null,
            "width": null
          }
        },
        "01289c257aac42af8351192992445f7d": {
          "model_module": "@jupyter-widgets/controls",
          "model_name": "ProgressStyleModel",
          "model_module_version": "1.5.0",
          "state": {
            "_model_module": "@jupyter-widgets/controls",
            "_model_module_version": "1.5.0",
            "_model_name": "ProgressStyleModel",
            "_view_count": null,
            "_view_module": "@jupyter-widgets/base",
            "_view_module_version": "1.2.0",
            "_view_name": "StyleView",
            "bar_color": null,
            "description_width": ""
          }
        },
        "9882c5cd084b457293f943c49b9766aa": {
          "model_module": "@jupyter-widgets/base",
          "model_name": "LayoutModel",
          "model_module_version": "1.2.0",
          "state": {
            "_model_module": "@jupyter-widgets/base",
            "_model_module_version": "1.2.0",
            "_model_name": "LayoutModel",
            "_view_count": null,
            "_view_module": "@jupyter-widgets/base",
            "_view_module_version": "1.2.0",
            "_view_name": "LayoutView",
            "align_content": null,
            "align_items": null,
            "align_self": null,
            "border": null,
            "bottom": null,
            "display": null,
            "flex": null,
            "flex_flow": null,
            "grid_area": null,
            "grid_auto_columns": null,
            "grid_auto_flow": null,
            "grid_auto_rows": null,
            "grid_column": null,
            "grid_gap": null,
            "grid_row": null,
            "grid_template_areas": null,
            "grid_template_columns": null,
            "grid_template_rows": null,
            "height": null,
            "justify_content": null,
            "justify_items": null,
            "left": null,
            "margin": null,
            "max_height": null,
            "max_width": null,
            "min_height": null,
            "min_width": null,
            "object_fit": null,
            "object_position": null,
            "order": null,
            "overflow": null,
            "overflow_x": null,
            "overflow_y": null,
            "padding": null,
            "right": null,
            "top": null,
            "visibility": null,
            "width": null
          }
        },
        "db7ede82a0c44934bc97f8edef9bc230": {
          "model_module": "@jupyter-widgets/controls",
          "model_name": "DescriptionStyleModel",
          "model_module_version": "1.5.0",
          "state": {
            "_model_module": "@jupyter-widgets/controls",
            "_model_module_version": "1.5.0",
            "_model_name": "DescriptionStyleModel",
            "_view_count": null,
            "_view_module": "@jupyter-widgets/base",
            "_view_module_version": "1.2.0",
            "_view_name": "StyleView",
            "description_width": ""
          }
        },
        "1a27c4d632d84cd794bb6f95d7f41582": {
          "model_module": "@jupyter-widgets/controls",
          "model_name": "HBoxModel",
          "model_module_version": "1.5.0",
          "state": {
            "_dom_classes": [],
            "_model_module": "@jupyter-widgets/controls",
            "_model_module_version": "1.5.0",
            "_model_name": "HBoxModel",
            "_view_count": null,
            "_view_module": "@jupyter-widgets/controls",
            "_view_module_version": "1.5.0",
            "_view_name": "HBoxView",
            "box_style": "",
            "children": [
              "IPY_MODEL_e24984a5fec24fbd94b09374ba952cb3",
              "IPY_MODEL_75867c705d5a4eaabd373f4d5e1caec7",
              "IPY_MODEL_95439f00d81b48a48dbed38ee45738b5"
            ],
            "layout": "IPY_MODEL_35cee5cc10ab41efaa1078b7c313c5d6"
          }
        },
        "e24984a5fec24fbd94b09374ba952cb3": {
          "model_module": "@jupyter-widgets/controls",
          "model_name": "HTMLModel",
          "model_module_version": "1.5.0",
          "state": {
            "_dom_classes": [],
            "_model_module": "@jupyter-widgets/controls",
            "_model_module_version": "1.5.0",
            "_model_name": "HTMLModel",
            "_view_count": null,
            "_view_module": "@jupyter-widgets/controls",
            "_view_module_version": "1.5.0",
            "_view_name": "HTMLView",
            "description": "",
            "description_tooltip": null,
            "layout": "IPY_MODEL_763e7b10dd7047a4817b517954fbbdcc",
            "placeholder": "​",
            "style": "IPY_MODEL_f463d20500f74c289bc2e8d201414f2d",
            "value": "100%"
          }
        },
        "75867c705d5a4eaabd373f4d5e1caec7": {
          "model_module": "@jupyter-widgets/controls",
          "model_name": "FloatProgressModel",
          "model_module_version": "1.5.0",
          "state": {
            "_dom_classes": [],
            "_model_module": "@jupyter-widgets/controls",
            "_model_module_version": "1.5.0",
            "_model_name": "FloatProgressModel",
            "_view_count": null,
            "_view_module": "@jupyter-widgets/controls",
            "_view_module_version": "1.5.0",
            "_view_name": "ProgressView",
            "bar_style": "success",
            "description": "",
            "description_tooltip": null,
            "layout": "IPY_MODEL_8c2271fa580c46ddbe1acf9516a66bac",
            "max": 1648877,
            "min": 0,
            "orientation": "horizontal",
            "style": "IPY_MODEL_127269ca572f459db84ec87e12ab5851",
            "value": 1648877
          }
        },
        "95439f00d81b48a48dbed38ee45738b5": {
          "model_module": "@jupyter-widgets/controls",
          "model_name": "HTMLModel",
          "model_module_version": "1.5.0",
          "state": {
            "_dom_classes": [],
            "_model_module": "@jupyter-widgets/controls",
            "_model_module_version": "1.5.0",
            "_model_name": "HTMLModel",
            "_view_count": null,
            "_view_module": "@jupyter-widgets/controls",
            "_view_module_version": "1.5.0",
            "_view_name": "HTMLView",
            "description": "",
            "description_tooltip": null,
            "layout": "IPY_MODEL_1104a422953f4340be3eb5b04ee15def",
            "placeholder": "​",
            "style": "IPY_MODEL_26e11f9d9fab404d9049e6f6f86f6fa4",
            "value": " 1648877/1648877 [00:00&lt;00:00, 45365874.02it/s]"
          }
        },
        "35cee5cc10ab41efaa1078b7c313c5d6": {
          "model_module": "@jupyter-widgets/base",
          "model_name": "LayoutModel",
          "model_module_version": "1.2.0",
          "state": {
            "_model_module": "@jupyter-widgets/base",
            "_model_module_version": "1.2.0",
            "_model_name": "LayoutModel",
            "_view_count": null,
            "_view_module": "@jupyter-widgets/base",
            "_view_module_version": "1.2.0",
            "_view_name": "LayoutView",
            "align_content": null,
            "align_items": null,
            "align_self": null,
            "border": null,
            "bottom": null,
            "display": null,
            "flex": null,
            "flex_flow": null,
            "grid_area": null,
            "grid_auto_columns": null,
            "grid_auto_flow": null,
            "grid_auto_rows": null,
            "grid_column": null,
            "grid_gap": null,
            "grid_row": null,
            "grid_template_areas": null,
            "grid_template_columns": null,
            "grid_template_rows": null,
            "height": null,
            "justify_content": null,
            "justify_items": null,
            "left": null,
            "margin": null,
            "max_height": null,
            "max_width": null,
            "min_height": null,
            "min_width": null,
            "object_fit": null,
            "object_position": null,
            "order": null,
            "overflow": null,
            "overflow_x": null,
            "overflow_y": null,
            "padding": null,
            "right": null,
            "top": null,
            "visibility": null,
            "width": null
          }
        },
        "763e7b10dd7047a4817b517954fbbdcc": {
          "model_module": "@jupyter-widgets/base",
          "model_name": "LayoutModel",
          "model_module_version": "1.2.0",
          "state": {
            "_model_module": "@jupyter-widgets/base",
            "_model_module_version": "1.2.0",
            "_model_name": "LayoutModel",
            "_view_count": null,
            "_view_module": "@jupyter-widgets/base",
            "_view_module_version": "1.2.0",
            "_view_name": "LayoutView",
            "align_content": null,
            "align_items": null,
            "align_self": null,
            "border": null,
            "bottom": null,
            "display": null,
            "flex": null,
            "flex_flow": null,
            "grid_area": null,
            "grid_auto_columns": null,
            "grid_auto_flow": null,
            "grid_auto_rows": null,
            "grid_column": null,
            "grid_gap": null,
            "grid_row": null,
            "grid_template_areas": null,
            "grid_template_columns": null,
            "grid_template_rows": null,
            "height": null,
            "justify_content": null,
            "justify_items": null,
            "left": null,
            "margin": null,
            "max_height": null,
            "max_width": null,
            "min_height": null,
            "min_width": null,
            "object_fit": null,
            "object_position": null,
            "order": null,
            "overflow": null,
            "overflow_x": null,
            "overflow_y": null,
            "padding": null,
            "right": null,
            "top": null,
            "visibility": null,
            "width": null
          }
        },
        "f463d20500f74c289bc2e8d201414f2d": {
          "model_module": "@jupyter-widgets/controls",
          "model_name": "DescriptionStyleModel",
          "model_module_version": "1.5.0",
          "state": {
            "_model_module": "@jupyter-widgets/controls",
            "_model_module_version": "1.5.0",
            "_model_name": "DescriptionStyleModel",
            "_view_count": null,
            "_view_module": "@jupyter-widgets/base",
            "_view_module_version": "1.2.0",
            "_view_name": "StyleView",
            "description_width": ""
          }
        },
        "8c2271fa580c46ddbe1acf9516a66bac": {
          "model_module": "@jupyter-widgets/base",
          "model_name": "LayoutModel",
          "model_module_version": "1.2.0",
          "state": {
            "_model_module": "@jupyter-widgets/base",
            "_model_module_version": "1.2.0",
            "_model_name": "LayoutModel",
            "_view_count": null,
            "_view_module": "@jupyter-widgets/base",
            "_view_module_version": "1.2.0",
            "_view_name": "LayoutView",
            "align_content": null,
            "align_items": null,
            "align_self": null,
            "border": null,
            "bottom": null,
            "display": null,
            "flex": null,
            "flex_flow": null,
            "grid_area": null,
            "grid_auto_columns": null,
            "grid_auto_flow": null,
            "grid_auto_rows": null,
            "grid_column": null,
            "grid_gap": null,
            "grid_row": null,
            "grid_template_areas": null,
            "grid_template_columns": null,
            "grid_template_rows": null,
            "height": null,
            "justify_content": null,
            "justify_items": null,
            "left": null,
            "margin": null,
            "max_height": null,
            "max_width": null,
            "min_height": null,
            "min_width": null,
            "object_fit": null,
            "object_position": null,
            "order": null,
            "overflow": null,
            "overflow_x": null,
            "overflow_y": null,
            "padding": null,
            "right": null,
            "top": null,
            "visibility": null,
            "width": null
          }
        },
        "127269ca572f459db84ec87e12ab5851": {
          "model_module": "@jupyter-widgets/controls",
          "model_name": "ProgressStyleModel",
          "model_module_version": "1.5.0",
          "state": {
            "_model_module": "@jupyter-widgets/controls",
            "_model_module_version": "1.5.0",
            "_model_name": "ProgressStyleModel",
            "_view_count": null,
            "_view_module": "@jupyter-widgets/base",
            "_view_module_version": "1.2.0",
            "_view_name": "StyleView",
            "bar_color": null,
            "description_width": ""
          }
        },
        "1104a422953f4340be3eb5b04ee15def": {
          "model_module": "@jupyter-widgets/base",
          "model_name": "LayoutModel",
          "model_module_version": "1.2.0",
          "state": {
            "_model_module": "@jupyter-widgets/base",
            "_model_module_version": "1.2.0",
            "_model_name": "LayoutModel",
            "_view_count": null,
            "_view_module": "@jupyter-widgets/base",
            "_view_module_version": "1.2.0",
            "_view_name": "LayoutView",
            "align_content": null,
            "align_items": null,
            "align_self": null,
            "border": null,
            "bottom": null,
            "display": null,
            "flex": null,
            "flex_flow": null,
            "grid_area": null,
            "grid_auto_columns": null,
            "grid_auto_flow": null,
            "grid_auto_rows": null,
            "grid_column": null,
            "grid_gap": null,
            "grid_row": null,
            "grid_template_areas": null,
            "grid_template_columns": null,
            "grid_template_rows": null,
            "height": null,
            "justify_content": null,
            "justify_items": null,
            "left": null,
            "margin": null,
            "max_height": null,
            "max_width": null,
            "min_height": null,
            "min_width": null,
            "object_fit": null,
            "object_position": null,
            "order": null,
            "overflow": null,
            "overflow_x": null,
            "overflow_y": null,
            "padding": null,
            "right": null,
            "top": null,
            "visibility": null,
            "width": null
          }
        },
        "26e11f9d9fab404d9049e6f6f86f6fa4": {
          "model_module": "@jupyter-widgets/controls",
          "model_name": "DescriptionStyleModel",
          "model_module_version": "1.5.0",
          "state": {
            "_model_module": "@jupyter-widgets/controls",
            "_model_module_version": "1.5.0",
            "_model_name": "DescriptionStyleModel",
            "_view_count": null,
            "_view_module": "@jupyter-widgets/base",
            "_view_module_version": "1.2.0",
            "_view_name": "StyleView",
            "description_width": ""
          }
        },
        "76deff8a5fea414a94906060eeb9e09e": {
          "model_module": "@jupyter-widgets/controls",
          "model_name": "HBoxModel",
          "model_module_version": "1.5.0",
          "state": {
            "_dom_classes": [],
            "_model_module": "@jupyter-widgets/controls",
            "_model_module_version": "1.5.0",
            "_model_name": "HBoxModel",
            "_view_count": null,
            "_view_module": "@jupyter-widgets/controls",
            "_view_module_version": "1.5.0",
            "_view_name": "HBoxView",
            "box_style": "",
            "children": [
              "IPY_MODEL_f0ec6e27d54f4560af3ebc7bb2bd4e11",
              "IPY_MODEL_d3fd1631b6e845ef8e06412a1ea9ccd8",
              "IPY_MODEL_9f301341e03f42db8f36ec5726ddf928"
            ],
            "layout": "IPY_MODEL_29ab302b21514dd5a63a375abbc307df"
          }
        },
        "f0ec6e27d54f4560af3ebc7bb2bd4e11": {
          "model_module": "@jupyter-widgets/controls",
          "model_name": "HTMLModel",
          "model_module_version": "1.5.0",
          "state": {
            "_dom_classes": [],
            "_model_module": "@jupyter-widgets/controls",
            "_model_module_version": "1.5.0",
            "_model_name": "HTMLModel",
            "_view_count": null,
            "_view_module": "@jupyter-widgets/controls",
            "_view_module_version": "1.5.0",
            "_view_name": "HTMLView",
            "description": "",
            "description_tooltip": null,
            "layout": "IPY_MODEL_6aa9cb0205a94a9eabd6bfcea0fbb6ec",
            "placeholder": "​",
            "style": "IPY_MODEL_fb87edd418fc4df4b5729fb4fccadb86",
            "value": "100%"
          }
        },
        "d3fd1631b6e845ef8e06412a1ea9ccd8": {
          "model_module": "@jupyter-widgets/controls",
          "model_name": "FloatProgressModel",
          "model_module_version": "1.5.0",
          "state": {
            "_dom_classes": [],
            "_model_module": "@jupyter-widgets/controls",
            "_model_module_version": "1.5.0",
            "_model_name": "FloatProgressModel",
            "_view_count": null,
            "_view_module": "@jupyter-widgets/controls",
            "_view_module_version": "1.5.0",
            "_view_name": "ProgressView",
            "bar_style": "success",
            "description": "",
            "description_tooltip": null,
            "layout": "IPY_MODEL_c384e496664f4f19a5370c9629220b24",
            "max": 4542,
            "min": 0,
            "orientation": "horizontal",
            "style": "IPY_MODEL_52273b437ec24d9d82fe6a4553056c21",
            "value": 4542
          }
        },
        "9f301341e03f42db8f36ec5726ddf928": {
          "model_module": "@jupyter-widgets/controls",
          "model_name": "HTMLModel",
          "model_module_version": "1.5.0",
          "state": {
            "_dom_classes": [],
            "_model_module": "@jupyter-widgets/controls",
            "_model_module_version": "1.5.0",
            "_model_name": "HTMLModel",
            "_view_count": null,
            "_view_module": "@jupyter-widgets/controls",
            "_view_module_version": "1.5.0",
            "_view_name": "HTMLView",
            "description": "",
            "description_tooltip": null,
            "layout": "IPY_MODEL_15e99051d55f41c4a18f174017fecf82",
            "placeholder": "​",
            "style": "IPY_MODEL_206bdc4f7319490580a55d784cd7ddab",
            "value": " 4542/4542 [00:00&lt;00:00, 203516.07it/s]"
          }
        },
        "29ab302b21514dd5a63a375abbc307df": {
          "model_module": "@jupyter-widgets/base",
          "model_name": "LayoutModel",
          "model_module_version": "1.2.0",
          "state": {
            "_model_module": "@jupyter-widgets/base",
            "_model_module_version": "1.2.0",
            "_model_name": "LayoutModel",
            "_view_count": null,
            "_view_module": "@jupyter-widgets/base",
            "_view_module_version": "1.2.0",
            "_view_name": "LayoutView",
            "align_content": null,
            "align_items": null,
            "align_self": null,
            "border": null,
            "bottom": null,
            "display": null,
            "flex": null,
            "flex_flow": null,
            "grid_area": null,
            "grid_auto_columns": null,
            "grid_auto_flow": null,
            "grid_auto_rows": null,
            "grid_column": null,
            "grid_gap": null,
            "grid_row": null,
            "grid_template_areas": null,
            "grid_template_columns": null,
            "grid_template_rows": null,
            "height": null,
            "justify_content": null,
            "justify_items": null,
            "left": null,
            "margin": null,
            "max_height": null,
            "max_width": null,
            "min_height": null,
            "min_width": null,
            "object_fit": null,
            "object_position": null,
            "order": null,
            "overflow": null,
            "overflow_x": null,
            "overflow_y": null,
            "padding": null,
            "right": null,
            "top": null,
            "visibility": null,
            "width": null
          }
        },
        "6aa9cb0205a94a9eabd6bfcea0fbb6ec": {
          "model_module": "@jupyter-widgets/base",
          "model_name": "LayoutModel",
          "model_module_version": "1.2.0",
          "state": {
            "_model_module": "@jupyter-widgets/base",
            "_model_module_version": "1.2.0",
            "_model_name": "LayoutModel",
            "_view_count": null,
            "_view_module": "@jupyter-widgets/base",
            "_view_module_version": "1.2.0",
            "_view_name": "LayoutView",
            "align_content": null,
            "align_items": null,
            "align_self": null,
            "border": null,
            "bottom": null,
            "display": null,
            "flex": null,
            "flex_flow": null,
            "grid_area": null,
            "grid_auto_columns": null,
            "grid_auto_flow": null,
            "grid_auto_rows": null,
            "grid_column": null,
            "grid_gap": null,
            "grid_row": null,
            "grid_template_areas": null,
            "grid_template_columns": null,
            "grid_template_rows": null,
            "height": null,
            "justify_content": null,
            "justify_items": null,
            "left": null,
            "margin": null,
            "max_height": null,
            "max_width": null,
            "min_height": null,
            "min_width": null,
            "object_fit": null,
            "object_position": null,
            "order": null,
            "overflow": null,
            "overflow_x": null,
            "overflow_y": null,
            "padding": null,
            "right": null,
            "top": null,
            "visibility": null,
            "width": null
          }
        },
        "fb87edd418fc4df4b5729fb4fccadb86": {
          "model_module": "@jupyter-widgets/controls",
          "model_name": "DescriptionStyleModel",
          "model_module_version": "1.5.0",
          "state": {
            "_model_module": "@jupyter-widgets/controls",
            "_model_module_version": "1.5.0",
            "_model_name": "DescriptionStyleModel",
            "_view_count": null,
            "_view_module": "@jupyter-widgets/base",
            "_view_module_version": "1.2.0",
            "_view_name": "StyleView",
            "description_width": ""
          }
        },
        "c384e496664f4f19a5370c9629220b24": {
          "model_module": "@jupyter-widgets/base",
          "model_name": "LayoutModel",
          "model_module_version": "1.2.0",
          "state": {
            "_model_module": "@jupyter-widgets/base",
            "_model_module_version": "1.2.0",
            "_model_name": "LayoutModel",
            "_view_count": null,
            "_view_module": "@jupyter-widgets/base",
            "_view_module_version": "1.2.0",
            "_view_name": "LayoutView",
            "align_content": null,
            "align_items": null,
            "align_self": null,
            "border": null,
            "bottom": null,
            "display": null,
            "flex": null,
            "flex_flow": null,
            "grid_area": null,
            "grid_auto_columns": null,
            "grid_auto_flow": null,
            "grid_auto_rows": null,
            "grid_column": null,
            "grid_gap": null,
            "grid_row": null,
            "grid_template_areas": null,
            "grid_template_columns": null,
            "grid_template_rows": null,
            "height": null,
            "justify_content": null,
            "justify_items": null,
            "left": null,
            "margin": null,
            "max_height": null,
            "max_width": null,
            "min_height": null,
            "min_width": null,
            "object_fit": null,
            "object_position": null,
            "order": null,
            "overflow": null,
            "overflow_x": null,
            "overflow_y": null,
            "padding": null,
            "right": null,
            "top": null,
            "visibility": null,
            "width": null
          }
        },
        "52273b437ec24d9d82fe6a4553056c21": {
          "model_module": "@jupyter-widgets/controls",
          "model_name": "ProgressStyleModel",
          "model_module_version": "1.5.0",
          "state": {
            "_model_module": "@jupyter-widgets/controls",
            "_model_module_version": "1.5.0",
            "_model_name": "ProgressStyleModel",
            "_view_count": null,
            "_view_module": "@jupyter-widgets/base",
            "_view_module_version": "1.2.0",
            "_view_name": "StyleView",
            "bar_color": null,
            "description_width": ""
          }
        },
        "15e99051d55f41c4a18f174017fecf82": {
          "model_module": "@jupyter-widgets/base",
          "model_name": "LayoutModel",
          "model_module_version": "1.2.0",
          "state": {
            "_model_module": "@jupyter-widgets/base",
            "_model_module_version": "1.2.0",
            "_model_name": "LayoutModel",
            "_view_count": null,
            "_view_module": "@jupyter-widgets/base",
            "_view_module_version": "1.2.0",
            "_view_name": "LayoutView",
            "align_content": null,
            "align_items": null,
            "align_self": null,
            "border": null,
            "bottom": null,
            "display": null,
            "flex": null,
            "flex_flow": null,
            "grid_area": null,
            "grid_auto_columns": null,
            "grid_auto_flow": null,
            "grid_auto_rows": null,
            "grid_column": null,
            "grid_gap": null,
            "grid_row": null,
            "grid_template_areas": null,
            "grid_template_columns": null,
            "grid_template_rows": null,
            "height": null,
            "justify_content": null,
            "justify_items": null,
            "left": null,
            "margin": null,
            "max_height": null,
            "max_width": null,
            "min_height": null,
            "min_width": null,
            "object_fit": null,
            "object_position": null,
            "order": null,
            "overflow": null,
            "overflow_x": null,
            "overflow_y": null,
            "padding": null,
            "right": null,
            "top": null,
            "visibility": null,
            "width": null
          }
        },
        "206bdc4f7319490580a55d784cd7ddab": {
          "model_module": "@jupyter-widgets/controls",
          "model_name": "DescriptionStyleModel",
          "model_module_version": "1.5.0",
          "state": {
            "_model_module": "@jupyter-widgets/controls",
            "_model_module_version": "1.5.0",
            "_model_name": "DescriptionStyleModel",
            "_view_count": null,
            "_view_module": "@jupyter-widgets/base",
            "_view_module_version": "1.2.0",
            "_view_name": "StyleView",
            "description_width": ""
          }
        }
      }
    }
  },
  "cells": [
    {
      "cell_type": "markdown",
      "source": [
        "# < 3주차 과제 1 : MLP 마음대로 다뤄보기>\n",
        "- dataset을 임의로 선정해서 직접 분석 해보기(제공한 코드를 활용해서 해보기)\n",
        "- activation functions 중 relu사용시 함수 직접 정의\n",
        "- lr, optimizer 등 바꿔보기\n",
        "- hidden layer/neuron 수를 바꾸기\n",
        "- 전처리도 추가\n",
        "- 모든 시도를 올려주세요!\n",
        "- 제일 높은 acc를 보인 시도를 명시해주세요!\n"
      ],
      "metadata": {
        "id": "sgAYo4nrw2F4"
      }
    },
    {
      "cell_type": "code",
      "execution_count": 15,
      "metadata": {
        "id": "fX437IL6qbI-"
      },
      "outputs": [],
      "source": [
        "import torch\n",
        "from torch import nn, optim\n",
        "from sklearn.datasets import load_wine\n",
        "from torch.utils.data import  TensorDataset, DataLoader\n",
        "from sklearn.model_selection import train_test_split\n",
        "from sklearn.metrics import accuracy_score\n",
        "import numpy as np\n",
        "from sklearn.preprocessing import StandardScaler\n",
        "import matplotlib.pyplot as plt"
      ]
    },
    {
      "cell_type": "markdown",
      "source": [
        "## 아래 데이터셋 중 원하는 데이터셋 하나를 선택하여, 코드 과제 진행하기!\n",
        "- 1) load_digits() <br>\n",
        "- 2) load_wine()"
      ],
      "metadata": {
        "id": "oxkFzBDNmWNk"
      }
    },
    {
      "cell_type": "code",
      "source": [
        "# 데이터셋 종류 : \n",
        "data = load_wine()\n",
        "print(data.DESCR)"
      ],
      "metadata": {
        "id": "FywYbfsKtjcR",
        "colab": {
          "base_uri": "https://localhost:8080/"
        },
        "outputId": "27e53266-c54c-4ed5-e46a-c7c73646751e"
      },
      "execution_count": 16,
      "outputs": [
        {
          "output_type": "stream",
          "name": "stdout",
          "text": [
            ".. _wine_dataset:\n",
            "\n",
            "Wine recognition dataset\n",
            "------------------------\n",
            "\n",
            "**Data Set Characteristics:**\n",
            "\n",
            "    :Number of Instances: 178 (50 in each of three classes)\n",
            "    :Number of Attributes: 13 numeric, predictive attributes and the class\n",
            "    :Attribute Information:\n",
            " \t\t- Alcohol\n",
            " \t\t- Malic acid\n",
            " \t\t- Ash\n",
            "\t\t- Alcalinity of ash  \n",
            " \t\t- Magnesium\n",
            "\t\t- Total phenols\n",
            " \t\t- Flavanoids\n",
            " \t\t- Nonflavanoid phenols\n",
            " \t\t- Proanthocyanins\n",
            "\t\t- Color intensity\n",
            " \t\t- Hue\n",
            " \t\t- OD280/OD315 of diluted wines\n",
            " \t\t- Proline\n",
            "\n",
            "    - class:\n",
            "            - class_0\n",
            "            - class_1\n",
            "            - class_2\n",
            "\t\t\n",
            "    :Summary Statistics:\n",
            "    \n",
            "    ============================= ==== ===== ======= =====\n",
            "                                   Min   Max   Mean     SD\n",
            "    ============================= ==== ===== ======= =====\n",
            "    Alcohol:                      11.0  14.8    13.0   0.8\n",
            "    Malic Acid:                   0.74  5.80    2.34  1.12\n",
            "    Ash:                          1.36  3.23    2.36  0.27\n",
            "    Alcalinity of Ash:            10.6  30.0    19.5   3.3\n",
            "    Magnesium:                    70.0 162.0    99.7  14.3\n",
            "    Total Phenols:                0.98  3.88    2.29  0.63\n",
            "    Flavanoids:                   0.34  5.08    2.03  1.00\n",
            "    Nonflavanoid Phenols:         0.13  0.66    0.36  0.12\n",
            "    Proanthocyanins:              0.41  3.58    1.59  0.57\n",
            "    Colour Intensity:              1.3  13.0     5.1   2.3\n",
            "    Hue:                          0.48  1.71    0.96  0.23\n",
            "    OD280/OD315 of diluted wines: 1.27  4.00    2.61  0.71\n",
            "    Proline:                       278  1680     746   315\n",
            "    ============================= ==== ===== ======= =====\n",
            "\n",
            "    :Missing Attribute Values: None\n",
            "    :Class Distribution: class_0 (59), class_1 (71), class_2 (48)\n",
            "    :Creator: R.A. Fisher\n",
            "    :Donor: Michael Marshall (MARSHALL%PLU@io.arc.nasa.gov)\n",
            "    :Date: July, 1988\n",
            "\n",
            "This is a copy of UCI ML Wine recognition datasets.\n",
            "https://archive.ics.uci.edu/ml/machine-learning-databases/wine/wine.data\n",
            "\n",
            "The data is the results of a chemical analysis of wines grown in the same\n",
            "region in Italy by three different cultivators. There are thirteen different\n",
            "measurements taken for different constituents found in the three types of\n",
            "wine.\n",
            "\n",
            "Original Owners: \n",
            "\n",
            "Forina, M. et al, PARVUS - \n",
            "An Extendible Package for Data Exploration, Classification and Correlation. \n",
            "Institute of Pharmaceutical and Food Analysis and Technologies,\n",
            "Via Brigata Salerno, 16147 Genoa, Italy.\n",
            "\n",
            "Citation:\n",
            "\n",
            "Lichman, M. (2013). UCI Machine Learning Repository\n",
            "[https://archive.ics.uci.edu/ml]. Irvine, CA: University of California,\n",
            "School of Information and Computer Science. \n",
            "\n",
            ".. topic:: References\n",
            "\n",
            "  (1) S. Aeberhard, D. Coomans and O. de Vel, \n",
            "  Comparison of Classifiers in High Dimensional Settings, \n",
            "  Tech. Rep. no. 92-02, (1992), Dept. of Computer Science and Dept. of  \n",
            "  Mathematics and Statistics, James Cook University of North Queensland. \n",
            "  (Also submitted to Technometrics). \n",
            "\n",
            "  The data was used with many others for comparing various \n",
            "  classifiers. The classes are separable, though only RDA \n",
            "  has achieved 100% correct classification. \n",
            "  (RDA : 100%, QDA 99.4%, LDA 98.9%, 1NN 96.1% (z-transformed data)) \n",
            "  (All results using the leave-one-out technique) \n",
            "\n",
            "  (2) S. Aeberhard, D. Coomans and O. de Vel, \n",
            "  \"THE CLASSIFICATION PERFORMANCE OF RDA\" \n",
            "  Tech. Rep. no. 92-01, (1992), Dept. of Computer Science and Dept. of \n",
            "  Mathematics and Statistics, James Cook University of North Queensland. \n",
            "  (Also submitted to Journal of Chemometrics).\n",
            "\n"
          ]
        }
      ]
    },
    {
      "cell_type": "code",
      "source": [
        "print(data.feature_names)\n",
        "print(data.target_names)"
      ],
      "metadata": {
        "colab": {
          "base_uri": "https://localhost:8080/"
        },
        "id": "1vQpx5BEWMXg",
        "outputId": "d753144c-b36e-4f38-f853-3108232655f2"
      },
      "execution_count": 17,
      "outputs": [
        {
          "output_type": "stream",
          "name": "stdout",
          "text": [
            "['alcohol', 'malic_acid', 'ash', 'alcalinity_of_ash', 'magnesium', 'total_phenols', 'flavanoids', 'nonflavanoid_phenols', 'proanthocyanins', 'color_intensity', 'hue', 'od280/od315_of_diluted_wines', 'proline']\n",
            "['class_0' 'class_1' 'class_2']\n"
          ]
        }
      ]
    },
    {
      "cell_type": "code",
      "source": [
        "input = data.data\n",
        "output = data.target"
      ],
      "metadata": {
        "id": "Yb9YV9egWsXC"
      },
      "execution_count": 18,
      "outputs": []
    },
    {
      "cell_type": "code",
      "source": [
        "print(input.shape)\n",
        "print(output.shape)"
      ],
      "metadata": {
        "colab": {
          "base_uri": "https://localhost:8080/"
        },
        "id": "V7jOLvn_Wf4n",
        "outputId": "073685a1-37c4-4db2-c207-d3c3ef8e0dc4"
      },
      "execution_count": 19,
      "outputs": [
        {
          "output_type": "stream",
          "name": "stdout",
          "text": [
            "(178, 13)\n",
            "(178,)\n"
          ]
        }
      ]
    },
    {
      "cell_type": "code",
      "source": [
        "device = 'cuda' if torch.cuda.is_available() else 'cpu'\n",
        "\n",
        "torch.manual_seed(777)\n",
        "if device == \"cuda\":\n",
        "  torch.cuda.manual_seed_all(777)"
      ],
      "metadata": {
        "id": "SggpQfSPt85C"
      },
      "execution_count": 20,
      "outputs": []
    },
    {
      "cell_type": "code",
      "source": [
        "x_train, x_test, y_train, y_test = train_test_split(input, output, test_size = 0.3, random_state = 42, stratify= data.target, shuffle = True)\n",
        "\n",
        "x_train = torch.FloatTensor(x_train).to(device)\n",
        "y_train = torch.LongTensor(y_train).to(device)\n",
        "x_test = torch.FloatTensor(x_test)\n",
        "y_test = torch.LongTensor(y_test)\n",
        "\n",
        "# 데이터를 tensor로 바꿔주고 gpu 연산이 가능해지도록 gpu에 옮김\n",
        "# label 값을 왜 long 에 옮겨놓는가? loss function이 다르기 때문 "
      ],
      "metadata": {
        "id": "bLMzf-2ntYeX"
      },
      "execution_count": 21,
      "outputs": []
    },
    {
      "cell_type": "code",
      "source": [
        "print(x_train[0])\n",
        "print(y_train[0])\n",
        "\n",
        "#input 13개 (속성이 13개)\n",
        "#y의 class는 3개 (0,1,2)"
      ],
      "metadata": {
        "colab": {
          "base_uri": "https://localhost:8080/"
        },
        "id": "umEdiTZkrVqS",
        "outputId": "71284b9a-408f-41fb-ca99-dc0095c9fe3b"
      },
      "execution_count": 22,
      "outputs": [
        {
          "output_type": "stream",
          "name": "stdout",
          "text": [
            "tensor([1.3750e+01, 1.7300e+00, 2.4100e+00, 1.6000e+01, 8.9000e+01, 2.6000e+00,\n",
            "        2.7600e+00, 2.9000e-01, 1.8100e+00, 5.6000e+00, 1.1500e+00, 2.9000e+00,\n",
            "        1.3200e+03], device='cuda:0')\n",
            "tensor(0, device='cuda:0')\n"
          ]
        }
      ]
    },
    {
      "cell_type": "markdown",
      "source": [
        "파이토치에서는 데이터셋을 좀 더 쉽게 다룰 수 있도록 유용한 도구로서 torch.utils.data.Dataset과 torch.utils.data.DataLoader를 제공합니다. 이를 사용하면 미니 배치 학습, 데이터 셔플(shuffle), 병렬 처리까지 간단히 수행할 수 있습니다. 기본적인 사용 방법은 Dataset을 정의하고, 이를 DataLoader에 전달하는 것\n",
        "- init : class 에서 객체가 생성되면 바로 실행되는 함수\n",
        "- len : observation 수를 정의하는 함수\n",
        "- getitem : iteration 마다 해당하는 데이터를 돌려주는 함수"
      ],
      "metadata": {
        "id": "combmxzmYFyn"
      }
    },
    {
      "cell_type": "code",
      "source": [
        "from torch.utils.data import Dataset\n",
        "class CustomDataset(Dataset):\n",
        "  def __init__(self):\n",
        "    self.x_data = x_train\n",
        "    self.y_data = [[y] for y in y_train]\n",
        "#  데이터셋의 전처리를 해주는 부분\n",
        "\n",
        "  def __len__(self):\n",
        "    return len(self.x_data)\n",
        "#  데이터셋의 길이. 즉, 총 샘플의 수를 적어주는 부분\n",
        "\n",
        "  def __getitem__(self, idx):\n",
        "    x = torch.FloatTensor(self.x_data[idx]).to(device)\n",
        "    y = torch.LongTensor(self.y_data[idx]).to(device)\n",
        "#  데이터셋에서 특정 1개의 샘플을 가져오는 함수\n",
        "\n",
        "    return x,y"
      ],
      "metadata": {
        "id": "y38TlgXoqV5Z"
      },
      "execution_count": 23,
      "outputs": []
    },
    {
      "cell_type": "code",
      "source": [
        "batch_size = 8\n",
        "\n",
        "dataset = CustomDataset()\n",
        "dataloader = DataLoader(dataset, batch_size=batch_size) "
      ],
      "metadata": {
        "id": "x8VHwnuFqino"
      },
      "execution_count": 24,
      "outputs": []
    },
    {
      "cell_type": "code",
      "source": [
        "x_train.size()"
      ],
      "metadata": {
        "colab": {
          "base_uri": "https://localhost:8080/"
        },
        "id": "9U-1ODOisEl5",
        "outputId": "e4ecf8c1-28b6-41cf-9085-b17a4ceb088a"
      },
      "execution_count": 25,
      "outputs": [
        {
          "output_type": "execute_result",
          "data": {
            "text/plain": [
              "torch.Size([124, 13])"
            ]
          },
          "metadata": {},
          "execution_count": 25
        }
      ]
    },
    {
      "cell_type": "code",
      "source": [
        "# input_layer와 hidden_layer의 노드 개수를 어떻게 바꿔줘야할까? \n",
        "# hidden layer/neuron 수를 바꾸기\n",
        "\n",
        "model = nn.Sequential(\n",
        "          nn.Linear(13,256, bias=True), \n",
        "          nn.Sigmoid(),\n",
        "          nn.Linear(256,128, bias=True),\n",
        "          nn.Sigmoid(),\n",
        "          nn.Linear(128,36, bias=True), \n",
        "          nn.Sigmoid(),\n",
        "          ).to(device)"
      ],
      "metadata": {
        "id": "C6V7a4tyq6Jc"
      },
      "execution_count": 26,
      "outputs": []
    },
    {
      "cell_type": "markdown",
      "source": [
        "class로 구현 가능\n",
        "- init : 초기 생성 함수\n",
        "- foward : 순전파(입력값 => 예측값 의 과정)"
      ],
      "metadata": {
        "id": "07uV8RY7Yr_5"
      }
    },
    {
      "cell_type": "code",
      "source": [
        "class Model(torch.nn.Module):\n",
        "\n",
        "  def __init__(self):\n",
        "    super(Model, self).__init__()\n",
        "    self.layer1 = nn.Sequential(\n",
        "          nn.Linear(13,256, bias=True), # input_layer = 30, hidden_layer1 = 398 \n",
        "          nn.Sigmoid(),\n",
        "        nn.BatchNorm1d(256)\n",
        "    )\n",
        "  # activation function 이용 \n",
        "  #   nn.ReLU()\n",
        "  #   nn.tanH()6\n",
        "  #   https://pytorch.org/docs/stable/nn.html 그 외에도 여기서 확인 가능함 \n",
        "  #   파라미터가 필요하지 않다는 것이 특징\n",
        "\n",
        "  # batch normazliation 1d, 파라미터 값으로 vector의 길이를 전해줌\n",
        "  # 추후에 이미지를 다루게 된다면, 그때는 batch normalization 2d를 이용하게 됨 \n",
        "  # 그때는 파라미터 값으로 채널, 가로, 세로 길이를 전달해주게 됨 \n",
        "\n",
        "    self.layer2 = nn.Sequential(\n",
        "          nn.Linear(256,128, bias=True), # hidden_layer1 = 398, hidden_layer2 = 15\n",
        "        nn.Sigmoid()\n",
        "    )\n",
        "    self.layer3 = nn.Sequential(\n",
        "          nn.Linear(128,64, bias=True), # hidden_layer1 = 15, hidden_layer2 = 10\n",
        "        nn.Sigmoid()\n",
        "    )\n",
        "    self.layer4 = nn.Sequential(\n",
        "        nn.Linear(64,36, bias=True), # hidden_layer3 = 10, output_layer = 5\n",
        "        nn.Softmax()\n",
        "    )\n",
        "\n",
        "  def forward(self,x):\n",
        "    output = self.layer1(x)\n",
        "    output = self.layer2(output)\n",
        "    output = self.layer3(output)\n",
        "    output = self.layer4(output)\n",
        "    return output"
      ],
      "metadata": {
        "id": "a0zLstbMqxEZ"
      },
      "execution_count": 27,
      "outputs": []
    },
    {
      "cell_type": "code",
      "source": [
        "def init_weights(layer):\n",
        "    if isinstance(layer, nn.Linear):\n",
        "        torch.nn.init.xavier_uniform(layer.weight)\n",
        "        layer.bias.data.fill_(0.01)\n",
        "\n",
        "        #xavier사용\n",
        "        # Layer의 weight를 어떤 분포를 가지도록 초기화시켜줌+global minimum찾기 위해서"
      ],
      "metadata": {
        "id": "kqcqqkECrSGK"
      },
      "execution_count": 28,
      "outputs": []
    },
    {
      "cell_type": "code",
      "source": [
        "model = Model().to(device)\n",
        "model.apply(init_weights)"
      ],
      "metadata": {
        "colab": {
          "base_uri": "https://localhost:8080/"
        },
        "id": "oMDUBFg6rUpw",
        "outputId": "f4be2e74-9d55-4cd3-d45c-78eb8df7dcaa"
      },
      "execution_count": 29,
      "outputs": [
        {
          "output_type": "stream",
          "name": "stderr",
          "text": [
            "<ipython-input-28-6196a47a4462>:3: UserWarning: nn.init.xavier_uniform is now deprecated in favor of nn.init.xavier_uniform_.\n",
            "  torch.nn.init.xavier_uniform(layer.weight)\n"
          ]
        },
        {
          "output_type": "execute_result",
          "data": {
            "text/plain": [
              "Model(\n",
              "  (layer1): Sequential(\n",
              "    (0): Linear(in_features=13, out_features=256, bias=True)\n",
              "    (1): Sigmoid()\n",
              "    (2): BatchNorm1d(256, eps=1e-05, momentum=0.1, affine=True, track_running_stats=True)\n",
              "  )\n",
              "  (layer2): Sequential(\n",
              "    (0): Linear(in_features=256, out_features=128, bias=True)\n",
              "    (1): Sigmoid()\n",
              "  )\n",
              "  (layer3): Sequential(\n",
              "    (0): Linear(in_features=128, out_features=64, bias=True)\n",
              "    (1): Sigmoid()\n",
              "  )\n",
              "  (layer4): Sequential(\n",
              "    (0): Linear(in_features=64, out_features=36, bias=True)\n",
              "    (1): Softmax(dim=None)\n",
              "  )\n",
              ")"
            ]
          },
          "metadata": {},
          "execution_count": 29
        }
      ]
    },
    {
      "cell_type": "code",
      "source": [
        "print(model)"
      ],
      "metadata": {
        "colab": {
          "base_uri": "https://localhost:8080/"
        },
        "id": "OwZt5CetrYFb",
        "outputId": "b4f84773-7fd5-4d76-8643-ee27e76ea583"
      },
      "execution_count": 30,
      "outputs": [
        {
          "output_type": "stream",
          "name": "stdout",
          "text": [
            "Model(\n",
            "  (layer1): Sequential(\n",
            "    (0): Linear(in_features=13, out_features=256, bias=True)\n",
            "    (1): Sigmoid()\n",
            "    (2): BatchNorm1d(256, eps=1e-05, momentum=0.1, affine=True, track_running_stats=True)\n",
            "  )\n",
            "  (layer2): Sequential(\n",
            "    (0): Linear(in_features=256, out_features=128, bias=True)\n",
            "    (1): Sigmoid()\n",
            "  )\n",
            "  (layer3): Sequential(\n",
            "    (0): Linear(in_features=128, out_features=64, bias=True)\n",
            "    (1): Sigmoid()\n",
            "  )\n",
            "  (layer4): Sequential(\n",
            "    (0): Linear(in_features=64, out_features=36, bias=True)\n",
            "    (1): Softmax(dim=None)\n",
            "  )\n",
            ")\n"
          ]
        }
      ]
    },
    {
      "cell_type": "code",
      "source": [
        "loss_fn  = nn.CrossEntropyLoss().to(device)\n",
        "\n",
        "# 여러가지 optimizer 시도해보기\n",
        "# lr 바꿔보기\n",
        "\n",
        "\n",
        "optimizer = optim.Adam(model.parameters(), lr= 0.01)\n",
        "\n",
        "# https://pytorch.org/docs/stable/optim.html#module-torch.optim 페이지 참조\n",
        "# optimizer = optim.SGD(model.parameters(), lr=0.1, momentum=0.9)\n",
        "# sgd 등등"
      ],
      "metadata": {
        "id": "AYFp-eTErh7b"
      },
      "execution_count": 31,
      "outputs": []
    },
    {
      "cell_type": "code",
      "source": [
        "print(x_test.dtype)\n",
        "print(y_test.dtype)\n",
        "print(x_train.dtype)\n",
        "print(y_train.dtype)"
      ],
      "metadata": {
        "colab": {
          "base_uri": "https://localhost:8080/"
        },
        "id": "jKEOW_rUUZAW",
        "outputId": "0e23bc96-446a-4197-8636-f2a22fb4c16b"
      },
      "execution_count": 32,
      "outputs": [
        {
          "output_type": "stream",
          "name": "stdout",
          "text": [
            "torch.float32\n",
            "torch.int64\n",
            "torch.float32\n",
            "torch.int64\n"
          ]
        }
      ]
    },
    {
      "cell_type": "code",
      "source": [
        "losses = []\n",
        "for epoch in range(100):\n",
        "\n",
        "  optimizer.zero_grad()\n",
        "  hypothesis = model(x_train)\n",
        "\n",
        "  # 비용 함수\n",
        "  cost = loss_fn(hypothesis, y_train)\n",
        "  cost.backward()\n",
        "  optimizer.step()\n",
        "  losses.append(cost.item())\n",
        "\n",
        "  if epoch % 10 == 0:\n",
        "    print(epoch, cost.item())"
      ],
      "metadata": {
        "colab": {
          "base_uri": "https://localhost:8080/"
        },
        "id": "90QxHvlIrjS7",
        "outputId": "a90bc71f-da05-481c-8718-3bac817abb9b"
      },
      "execution_count": 33,
      "outputs": [
        {
          "output_type": "stream",
          "name": "stderr",
          "text": [
            "/usr/local/lib/python3.8/dist-packages/torch/nn/modules/container.py:204: UserWarning: Implicit dimension choice for softmax has been deprecated. Change the call to include dim=X as an argument.\n",
            "  input = module(input)\n"
          ]
        },
        {
          "output_type": "stream",
          "name": "stdout",
          "text": [
            "0 3.5999865531921387\n",
            "10 3.016019582748413\n",
            "20 2.9513633251190186\n",
            "30 2.9681317806243896\n",
            "40 2.9643754959106445\n",
            "50 2.923619508743286\n",
            "60 2.928347110748291\n",
            "70 2.9152989387512207\n",
            "80 2.9200997352600098\n",
            "90 3.015146017074585\n"
          ]
        }
      ]
    },
    {
      "cell_type": "code",
      "source": [
        "plt.plot(losses)\n",
        "plt.show()"
      ],
      "metadata": {
        "colab": {
          "base_uri": "https://localhost:8080/",
          "height": 265
        },
        "id": "81ASYrW7roFM",
        "outputId": "447c1874-9eca-4643-ef1b-32a6cdd829dc"
      },
      "execution_count": 34,
      "outputs": [
        {
          "output_type": "display_data",
          "data": {
            "text/plain": [
              "<Figure size 432x288 with 1 Axes>"
            ],
            "image/png": "[encoded data removed]"
          },
          "metadata": {
            "needs_background": "light"
          }
        }
      ]
    },
    {
      "cell_type": "code",
      "source": [
        "with torch.no_grad():\n",
        "  model = model.to('cpu')\n",
        "  y_pred = model(x_test)\n",
        "  y_pred = y_pred.detach().numpy()\n",
        "  predicted = np.argmax(y_pred, axis =1)\n",
        "  accuracy = (accuracy_score(predicted, y_test))"
      ],
      "metadata": {
        "id": "h4kJzpLErqhZ"
      },
      "execution_count": 35,
      "outputs": []
    },
    {
      "cell_type": "code",
      "source": [
        "print(f'model의 output은 :  {y_pred[0]}')\n",
        "print(f'argmax를 한 후의 output은 {predicted[0]}')\n",
        "print(f'accuracy는 {accuracy}')"
      ],
      "metadata": {
        "colab": {
          "base_uri": "https://localhost:8080/"
        },
        "id": "vyIKhs3Nr6Ay",
        "outputId": "0c40cdf8-059f-493b-b992-7f0fb0de465d"
      },
      "execution_count": 36,
      "outputs": [
        {
          "output_type": "stream",
          "name": "stdout",
          "text": [
            "model의 output은 :  [9.8506737e-01 1.4838447e-02 5.7730624e-05 1.2942576e-06 1.0544198e-06\n",
            " 2.0409936e-06 3.7264238e-07 8.2130589e-07 7.0037026e-07 2.7202998e-07\n",
            " 2.5409989e-07 9.5320138e-07 2.3730217e-06 7.3434654e-07 1.1567224e-06\n",
            " 3.9765482e-07 1.2566525e-06 1.2001199e-06 3.1938253e-06 1.5841159e-06\n",
            " 1.2985674e-06 2.3863317e-06 1.2879840e-06 8.3194112e-07 5.5356315e-07\n",
            " 1.3494970e-06 1.8740458e-07 2.9554721e-07 1.6081110e-06 3.1662685e-07\n",
            " 1.4986927e-06 3.7238797e-07 5.0728147e-07 1.4573282e-06 1.9265244e-06\n",
            " 8.2147432e-07]\n",
            "argmax를 한 후의 output은 0\n",
            "accuracy는 0.6111111111111112\n"
          ]
        }
      ]
    },
    {
      "cell_type": "markdown",
      "source": [
        "## 2번째 시도 (활성화 함수 tanh 로 변경)"
      ],
      "metadata": {
        "id": "pWjGu4lskbdC"
      }
    },
    {
      "cell_type": "code",
      "source": [
        "# input_layer와 hidden_layer의 노드 개수를 어떻게 바꿔줘야할까? \n",
        "# hidden layer/neuron 수를 바꾸기\n",
        "\n",
        "model = nn.Sequential(\n",
        "          nn.Linear(13,256, bias=True), \n",
        "          nn.Tanh(),\n",
        "          nn.Linear(256,128, bias=True),\n",
        "          nn.Tanh(),\n",
        "          nn.Linear(128,36, bias=True), \n",
        "          nn.Tanh(),\n",
        "          ).to(device)"
      ],
      "metadata": {
        "id": "APERNjUhkgzN"
      },
      "execution_count": 37,
      "outputs": []
    },
    {
      "cell_type": "code",
      "source": [
        "class Model(torch.nn.Module):\n",
        "\n",
        "  def __init__(self):\n",
        "    super(Model, self).__init__()\n",
        "    self.layer1 = nn.Sequential(\n",
        "          nn.Linear(13,256, bias=True), # input_layer = 30, hidden_layer1 = 398 \n",
        "          nn.Tanh(),\n",
        "        nn.BatchNorm1d(256)\n",
        "    )\n",
        "\n",
        "    self.layer2 = nn.Sequential(\n",
        "          nn.Linear(256,128, bias=True), # hidden_layer1 = 398, hidden_layer2 = 15\n",
        "        nn.Tanh()\n",
        "    )\n",
        "    self.layer3 = nn.Sequential(\n",
        "          nn.Linear(128,64, bias=True), # hidden_layer1 = 15, hidden_layer2 = 10\n",
        "        nn.Tanh()\n",
        "    )\n",
        "    self.layer4 = nn.Sequential(\n",
        "        nn.Linear(64,36, bias=True), # hidden_layer3 = 10, output_layer = 5\n",
        "        nn.Softmax()\n",
        "    )\n",
        "\n",
        "  def forward(self,x):\n",
        "    output = self.layer1(x)\n",
        "    output = self.layer2(output)\n",
        "    output = self.layer3(output)\n",
        "    output = self.layer4(output)\n",
        "    return output"
      ],
      "metadata": {
        "id": "hT-yTMOlmFsY"
      },
      "execution_count": 38,
      "outputs": []
    },
    {
      "cell_type": "code",
      "source": [
        "model = Model().to(device)\n",
        "model.apply(init_weights)"
      ],
      "metadata": {
        "colab": {
          "base_uri": "https://localhost:8080/"
        },
        "id": "Kdbm0qPQmbwf",
        "outputId": "9c42b5c8-9bf6-4da2-9c41-898f364d54e0"
      },
      "execution_count": 39,
      "outputs": [
        {
          "output_type": "stream",
          "name": "stderr",
          "text": [
            "<ipython-input-28-6196a47a4462>:3: UserWarning: nn.init.xavier_uniform is now deprecated in favor of nn.init.xavier_uniform_.\n",
            "  torch.nn.init.xavier_uniform(layer.weight)\n"
          ]
        },
        {
          "output_type": "execute_result",
          "data": {
            "text/plain": [
              "Model(\n",
              "  (layer1): Sequential(\n",
              "    (0): Linear(in_features=13, out_features=256, bias=True)\n",
              "    (1): Tanh()\n",
              "    (2): BatchNorm1d(256, eps=1e-05, momentum=0.1, affine=True, track_running_stats=True)\n",
              "  )\n",
              "  (layer2): Sequential(\n",
              "    (0): Linear(in_features=256, out_features=128, bias=True)\n",
              "    (1): Tanh()\n",
              "  )\n",
              "  (layer3): Sequential(\n",
              "    (0): Linear(in_features=128, out_features=64, bias=True)\n",
              "    (1): Tanh()\n",
              "  )\n",
              "  (layer4): Sequential(\n",
              "    (0): Linear(in_features=64, out_features=36, bias=True)\n",
              "    (1): Softmax(dim=None)\n",
              "  )\n",
              ")"
            ]
          },
          "metadata": {},
          "execution_count": 39
        }
      ]
    },
    {
      "cell_type": "code",
      "source": [
        "loss_fn  = nn.CrossEntropyLoss().to(device)\n",
        "\n",
        "# 여러가지 optimizer 시도해보기\n",
        "# lr 바꿔보기\n",
        "\n",
        "\n",
        "optimizer = optim.Adam(model.parameters(), lr= 0.01)\n",
        "\n",
        "# https://pytorch.org/docs/stable/optim.html#module-torch.optim 페이지 참조\n",
        "# optimizer = optim.SGD(model.parameters(), lr=0.1, momentum=0.9)\n",
        "# sgd 등등"
      ],
      "metadata": {
        "id": "BlWn5Qjcmotb"
      },
      "execution_count": 41,
      "outputs": []
    },
    {
      "cell_type": "code",
      "source": [
        "losses = []\n",
        "for epoch in range(100):\n",
        "\n",
        "  optimizer.zero_grad()\n",
        "  hypothesis = model(x_train)\n",
        "\n",
        "  # 비용 함수\n",
        "  cost = loss_fn(hypothesis, y_train)\n",
        "  cost.backward()\n",
        "  optimizer.step()\n",
        "  losses.append(cost.item())\n",
        "\n",
        "  if epoch % 10 == 0:\n",
        "    print(epoch, cost.item())"
      ],
      "metadata": {
        "colab": {
          "base_uri": "https://localhost:8080/"
        },
        "id": "WAZBxN7nmuMC",
        "outputId": "a43e84d7-0892-48cd-dfb3-7b6fa3925da0"
      },
      "execution_count": 42,
      "outputs": [
        {
          "output_type": "stream",
          "name": "stderr",
          "text": [
            "/usr/local/lib/python3.8/dist-packages/torch/nn/modules/container.py:204: UserWarning: Implicit dimension choice for softmax has been deprecated. Change the call to include dim=X as an argument.\n",
            "  input = module(input)\n"
          ]
        },
        {
          "output_type": "stream",
          "name": "stdout",
          "text": [
            "0 3.5852482318878174\n",
            "10 2.964606761932373\n",
            "20 2.9721596240997314\n",
            "30 2.959660053253174\n",
            "40 3.2269229888916016\n",
            "50 3.2269227504730225\n",
            "60 3.2269234657287598\n",
            "70 3.226923942565918\n",
            "80 3.226924419403076\n",
            "90 3.2269234657287598\n"
          ]
        }
      ]
    },
    {
      "cell_type": "code",
      "source": [
        "plt.plot(losses)\n",
        "plt.show()"
      ],
      "metadata": {
        "colab": {
          "base_uri": "https://localhost:8080/",
          "height": 265
        },
        "id": "DSicbvTPmzFu",
        "outputId": "503d07aa-1d5d-4972-9a5d-68a6eb85de56"
      },
      "execution_count": 43,
      "outputs": [
        {
          "output_type": "display_data",
          "data": {
            "text/plain": [
              "<Figure size 432x288 with 1 Axes>"
            ],
            "image/png": "[encoded data removed]"
          },
          "metadata": {
            "needs_background": "light"
          }
        }
      ]
    },
    {
      "cell_type": "code",
      "source": [
        "with torch.no_grad():\n",
        "  model = model.to('cpu')\n",
        "  y_pred = model(x_test)\n",
        "  y_pred = y_pred.detach().numpy()\n",
        "  predicted = np.argmax(y_pred, axis =1)\n",
        "  accuracy = (accuracy_score(predicted, y_test))"
      ],
      "metadata": {
        "id": "COnVh-v3nI-F"
      },
      "execution_count": 45,
      "outputs": []
    },
    {
      "cell_type": "code",
      "source": [
        "print(f'model의 output은 :  {y_pred[0]}')\n",
        "print(f'argmax를 한 후의 output은 {predicted[0]}')\n",
        "print(f'accuracy는 {accuracy}')"
      ],
      "metadata": {
        "colab": {
          "base_uri": "https://localhost:8080/"
        },
        "id": "2a1DzjQ2m3IJ",
        "outputId": "f49681b6-4b84-4c17-fa90-5ce11bfdbcf5"
      },
      "execution_count": 46,
      "outputs": [
        {
          "output_type": "stream",
          "name": "stdout",
          "text": [
            "model의 output은 :  [1.48963277e-08 9.99972224e-01 2.30057631e-05 3.47584219e-08\n",
            " 9.05509694e-08 2.42061788e-07 5.10198333e-07 1.27392624e-07\n",
            " 4.43972368e-07 1.51414270e-07 1.04988885e-07 7.15327246e-08\n",
            " 3.62900550e-07 1.51389429e-07 1.87195397e-07 2.58603876e-08\n",
            " 8.59916724e-08 1.83664724e-07 6.02607244e-08 1.15762560e-07\n",
            " 1.50901656e-07 8.60709264e-08 1.09422778e-07 9.93425289e-08\n",
            " 7.79479237e-08 1.30578242e-08 3.72678777e-08 1.61832560e-07\n",
            " 3.73578324e-08 1.65519651e-07 1.35443699e-07 1.36073567e-07\n",
            " 2.52496246e-08 1.15387920e-07 2.92167186e-07 1.84692439e-07]\n",
            "argmax를 한 후의 output은 1\n",
            "accuracy는 0.3888888888888889\n"
          ]
        }
      ]
    },
    {
      "cell_type": "markdown",
      "source": [
        "## 3번째 시도 (활성화 함수 ReLU 로 변경)"
      ],
      "metadata": {
        "id": "p5kATLi3nVrj"
      }
    },
    {
      "cell_type": "code",
      "source": [
        "# input_layer와 hidden_layer의 노드 개수를 어떻게 바꿔줘야할까? \n",
        "# hidden layer/neuron 수를 바꾸기\n",
        "\n",
        "model = nn.Sequential(\n",
        "          nn.Linear(13,256, bias=True), \n",
        "          nn.ReLU(),\n",
        "          nn.Linear(256,128, bias=True),\n",
        "          nn.ReLU(),\n",
        "          nn.Linear(128,36, bias=True), \n",
        "          nn.ReLU(),\n",
        "          ).to(device)"
      ],
      "metadata": {
        "id": "SSgvwUZ7nVW4"
      },
      "execution_count": 49,
      "outputs": []
    },
    {
      "cell_type": "code",
      "source": [
        "class Model(torch.nn.Module):\n",
        "\n",
        "  def __init__(self):\n",
        "    super(Model, self).__init__()\n",
        "    self.layer1 = nn.Sequential(\n",
        "          nn.Linear(13,256, bias=True), # input_layer = 30, hidden_layer1 = 398 \n",
        "          nn.ReLU(),\n",
        "        nn.BatchNorm1d(256)\n",
        "    )\n",
        "\n",
        "    self.layer2 = nn.Sequential(\n",
        "          nn.Linear(256,128, bias=True), # hidden_layer1 = 398, hidden_layer2 = 15\n",
        "        nn.ReLU()\n",
        "    )\n",
        "    self.layer3 = nn.Sequential(\n",
        "          nn.Linear(128,64, bias=True), # hidden_layer1 = 15, hidden_layer2 = 10\n",
        "        nn.ReLU()\n",
        "    )\n",
        "    self.layer4 = nn.Sequential(\n",
        "        nn.Linear(64,36, bias=True), # hidden_layer3 = 10, output_layer = 5\n",
        "        nn.Softmax()\n",
        "    )\n",
        "\n",
        "  def forward(self,x):\n",
        "    output = self.layer1(x)\n",
        "    output = self.layer2(output)\n",
        "    output = self.layer3(output)\n",
        "    output = self.layer4(output)\n",
        "    return output"
      ],
      "metadata": {
        "id": "_a0VfOFmu4p5"
      },
      "execution_count": 50,
      "outputs": []
    },
    {
      "cell_type": "code",
      "source": [
        "model = Model().to(device)\n",
        "model.apply(init_weights)"
      ],
      "metadata": {
        "colab": {
          "base_uri": "https://localhost:8080/"
        },
        "id": "IhKWuWSPvBqG",
        "outputId": "8c4e6a10-9ae8-4415-de26-228c2f236f69"
      },
      "execution_count": 51,
      "outputs": [
        {
          "output_type": "stream",
          "name": "stderr",
          "text": [
            "<ipython-input-28-6196a47a4462>:3: UserWarning: nn.init.xavier_uniform is now deprecated in favor of nn.init.xavier_uniform_.\n",
            "  torch.nn.init.xavier_uniform(layer.weight)\n"
          ]
        },
        {
          "output_type": "execute_result",
          "data": {
            "text/plain": [
              "Model(\n",
              "  (layer1): Sequential(\n",
              "    (0): Linear(in_features=13, out_features=256, bias=True)\n",
              "    (1): ReLU()\n",
              "    (2): BatchNorm1d(256, eps=1e-05, momentum=0.1, affine=True, track_running_stats=True)\n",
              "  )\n",
              "  (layer2): Sequential(\n",
              "    (0): Linear(in_features=256, out_features=128, bias=True)\n",
              "    (1): ReLU()\n",
              "  )\n",
              "  (layer3): Sequential(\n",
              "    (0): Linear(in_features=128, out_features=64, bias=True)\n",
              "    (1): ReLU()\n",
              "  )\n",
              "  (layer4): Sequential(\n",
              "    (0): Linear(in_features=64, out_features=36, bias=True)\n",
              "    (1): Softmax(dim=None)\n",
              "  )\n",
              ")"
            ]
          },
          "metadata": {},
          "execution_count": 51
        }
      ]
    },
    {
      "cell_type": "code",
      "source": [
        "loss_fn  = nn.CrossEntropyLoss().to(device)\n",
        "\n",
        "# 여러가지 optimizer 시도해보기\n",
        "# lr 바꿔보기\n",
        "\n",
        "\n",
        "optimizer = optim.Adam(model.parameters(), lr= 0.01)\n",
        "\n",
        "# https://pytorch.org/docs/stable/optim.html#module-torch.optim 페이지 참조\n",
        "# optimizer = optim.SGD(model.parameters(), lr=0.1, momentum=0.9)\n",
        "# sgd 등등"
      ],
      "metadata": {
        "id": "-XT90OH2vDil"
      },
      "execution_count": 52,
      "outputs": []
    },
    {
      "cell_type": "code",
      "source": [
        "losses = []\n",
        "for epoch in range(100):\n",
        "\n",
        "  optimizer.zero_grad()\n",
        "  hypothesis = model(x_train)\n",
        "\n",
        "  # 비용 함수\n",
        "  cost = loss_fn(hypothesis, y_train)\n",
        "  cost.backward()\n",
        "  optimizer.step()\n",
        "  losses.append(cost.item())\n",
        "\n",
        "  if epoch % 10 == 0:\n",
        "    print(epoch, cost.item())"
      ],
      "metadata": {
        "colab": {
          "base_uri": "https://localhost:8080/"
        },
        "id": "CsLa8acUvNKS",
        "outputId": "c267cd1c-4aff-4d72-ae87-d752a49f9773"
      },
      "execution_count": 53,
      "outputs": [
        {
          "output_type": "stream",
          "name": "stderr",
          "text": [
            "/usr/local/lib/python3.8/dist-packages/torch/nn/modules/container.py:204: UserWarning: Implicit dimension choice for softmax has been deprecated. Change the call to include dim=X as an argument.\n",
            "  input = module(input)\n"
          ]
        },
        {
          "output_type": "stream",
          "name": "stdout",
          "text": [
            "0 3.545567274093628\n",
            "10 2.9431962966918945\n",
            "20 2.9231626987457275\n",
            "30 2.9205267429351807\n",
            "40 2.9204163551330566\n",
            "50 2.9215641021728516\n",
            "60 2.920477867126465\n",
            "70 2.8540163040161133\n",
            "80 2.8317196369171143\n",
            "90 2.713399887084961\n"
          ]
        }
      ]
    },
    {
      "cell_type": "code",
      "source": [
        "plt.plot(losses)\n",
        "plt.show()"
      ],
      "metadata": {
        "colab": {
          "base_uri": "https://localhost:8080/",
          "height": 265
        },
        "id": "q2vsbS-ivUPc",
        "outputId": "fa23d50e-1987-40ff-ded9-6250aa4b3d70"
      },
      "execution_count": 54,
      "outputs": [
        {
          "output_type": "display_data",
          "data": {
            "text/plain": [
              "<Figure size 432x288 with 1 Axes>"
            ],
            "image/png": "[encoded data removed]"
          },
          "metadata": {
            "needs_background": "light"
          }
        }
      ]
    },
    {
      "cell_type": "code",
      "source": [
        "with torch.no_grad():\n",
        "  model = model.to('cpu')\n",
        "  y_pred = model(x_test)\n",
        "  y_pred = y_pred.detach().numpy()\n",
        "  predicted = np.argmax(y_pred, axis =1)\n",
        "  accuracy = (accuracy_score(predicted, y_test))"
      ],
      "metadata": {
        "id": "hyH7s_1yvNTa"
      },
      "execution_count": 55,
      "outputs": []
    },
    {
      "cell_type": "code",
      "source": [
        "print(f'model의 output은 :  {y_pred[0]}')\n",
        "print(f'argmax를 한 후의 output은 {predicted[0]}')\n",
        "print(f'accuracy는 {accuracy}')"
      ],
      "metadata": {
        "colab": {
          "base_uri": "https://localhost:8080/"
        },
        "id": "C7itJnmvvhPP",
        "outputId": "c3617d66-04c0-43b8-d604-d50280472087"
      },
      "execution_count": 56,
      "outputs": [
        {
          "output_type": "stream",
          "name": "stdout",
          "text": [
            "model의 output은 :  [1. 0. 0. 0. 0. 0. 0. 0. 0. 0. 0. 0. 0. 0. 0. 0. 0. 0. 0. 0. 0. 0. 0. 0.\n",
            " 0. 0. 0. 0. 0. 0. 0. 0. 0. 0. 0. 0.]\n",
            "argmax를 한 후의 output은 0\n",
            "accuracy는 0.8888888888888888\n"
          ]
        }
      ]
    },
    {
      "cell_type": "markdown",
      "source": [
        "## 4번째 시도 (ReLU + 옵티마이저 SGD로 변경) "
      ],
      "metadata": {
        "id": "ckF56Hz3vyff"
      }
    },
    {
      "cell_type": "code",
      "source": [
        "# input_layer와 hidden_layer의 노드 개수를 어떻게 바꿔줘야할까? \n",
        "# hidden layer/neuron 수를 바꾸기\n",
        "\n",
        "model = nn.Sequential(\n",
        "          nn.Linear(13,256, bias=True), \n",
        "          nn.ReLU(),\n",
        "          nn.Linear(256,128, bias=True),\n",
        "          nn.ReLU(),\n",
        "          nn.Linear(128,36, bias=True), \n",
        "          nn.ReLU(),\n",
        "          ).to(device)"
      ],
      "metadata": {
        "id": "TFh0F3acxXdD"
      },
      "execution_count": 57,
      "outputs": []
    },
    {
      "cell_type": "code",
      "source": [
        "class Model(torch.nn.Module):\n",
        "\n",
        "  def __init__(self):\n",
        "    super(Model, self).__init__()\n",
        "    self.layer1 = nn.Sequential(\n",
        "          nn.Linear(13,256, bias=True), # input_layer = 30, hidden_layer1 = 398 \n",
        "          nn.Tanh(),\n",
        "        nn.BatchNorm1d(256)\n",
        "    )\n",
        "\n",
        "    self.layer2 = nn.Sequential(\n",
        "          nn.Linear(256,128, bias=True), # hidden_layer1 = 398, hidden_layer2 = 15\n",
        "        nn.Tanh()\n",
        "    )\n",
        "    self.layer3 = nn.Sequential(\n",
        "          nn.Linear(128,64, bias=True), # hidden_layer1 = 15, hidden_layer2 = 10\n",
        "        nn.Tanh()\n",
        "    )\n",
        "    self.layer4 = nn.Sequential(\n",
        "        nn.Linear(64,36, bias=True), # hidden_layer3 = 10, output_layer = 5\n",
        "        nn.Softmax()\n",
        "    )\n",
        "\n",
        "  def forward(self,x):\n",
        "    output = self.layer1(x)\n",
        "    output = self.layer2(output)\n",
        "    output = self.layer3(output)\n",
        "    output = self.layer4(output)\n",
        "    return output"
      ],
      "metadata": {
        "id": "ZauM4yLmxiFc"
      },
      "execution_count": 58,
      "outputs": []
    },
    {
      "cell_type": "code",
      "source": [
        "model = Model().to(device)\n",
        "model.apply(init_weights)"
      ],
      "metadata": {
        "colab": {
          "base_uri": "https://localhost:8080/"
        },
        "id": "MqqB3ZYzxlk_",
        "outputId": "4c667e9d-c462-44bc-fd24-ee5f7e1d51e7"
      },
      "execution_count": 59,
      "outputs": [
        {
          "output_type": "stream",
          "name": "stderr",
          "text": [
            "<ipython-input-28-6196a47a4462>:3: UserWarning: nn.init.xavier_uniform is now deprecated in favor of nn.init.xavier_uniform_.\n",
            "  torch.nn.init.xavier_uniform(layer.weight)\n"
          ]
        },
        {
          "output_type": "execute_result",
          "data": {
            "text/plain": [
              "Model(\n",
              "  (layer1): Sequential(\n",
              "    (0): Linear(in_features=13, out_features=256, bias=True)\n",
              "    (1): Tanh()\n",
              "    (2): BatchNorm1d(256, eps=1e-05, momentum=0.1, affine=True, track_running_stats=True)\n",
              "  )\n",
              "  (layer2): Sequential(\n",
              "    (0): Linear(in_features=256, out_features=128, bias=True)\n",
              "    (1): Tanh()\n",
              "  )\n",
              "  (layer3): Sequential(\n",
              "    (0): Linear(in_features=128, out_features=64, bias=True)\n",
              "    (1): Tanh()\n",
              "  )\n",
              "  (layer4): Sequential(\n",
              "    (0): Linear(in_features=64, out_features=36, bias=True)\n",
              "    (1): Softmax(dim=None)\n",
              "  )\n",
              ")"
            ]
          },
          "metadata": {},
          "execution_count": 59
        }
      ]
    },
    {
      "cell_type": "code",
      "source": [
        "loss_fn  = nn.CrossEntropyLoss().to(device)\n",
        "optimizer = optim.SGD(model.parameters(), lr=0.01, momentum=0.9)"
      ],
      "metadata": {
        "id": "2l5cyVyHxLQ_"
      },
      "execution_count": 60,
      "outputs": []
    },
    {
      "cell_type": "code",
      "source": [
        "losses = []\n",
        "for epoch in range(100):\n",
        "\n",
        "  optimizer.zero_grad()\n",
        "  hypothesis = model(x_train)\n",
        "\n",
        "  # 비용 함수\n",
        "  cost = loss_fn(hypothesis, y_train)\n",
        "  cost.backward()\n",
        "  optimizer.step()\n",
        "  losses.append(cost.item())\n",
        "\n",
        "  if epoch % 10 == 0:\n",
        "    print(epoch, cost.item())"
      ],
      "metadata": {
        "colab": {
          "base_uri": "https://localhost:8080/"
        },
        "id": "ZGkU9vakxpQ_",
        "outputId": "e6e65d5c-02d3-484b-e08d-9c3dbfa3836e"
      },
      "execution_count": 61,
      "outputs": [
        {
          "output_type": "stream",
          "name": "stdout",
          "text": [
            "0 3.584549903869629\n",
            "10 3.573739528656006\n",
            "20 3.562317132949829\n",
            "30 3.5463037490844727\n",
            "40 3.5132384300231934\n",
            "50 3.508772611618042\n",
            "60 3.5349488258361816\n",
            "70 3.5395214557647705\n",
            "80 3.5212907791137695\n",
            "90 3.4750638008117676\n"
          ]
        },
        {
          "output_type": "stream",
          "name": "stderr",
          "text": [
            "/usr/local/lib/python3.8/dist-packages/torch/nn/modules/container.py:204: UserWarning: Implicit dimension choice for softmax has been deprecated. Change the call to include dim=X as an argument.\n",
            "  input = module(input)\n"
          ]
        }
      ]
    },
    {
      "cell_type": "code",
      "source": [
        "plt.plot(losses)\n",
        "plt.show()"
      ],
      "metadata": {
        "colab": {
          "base_uri": "https://localhost:8080/",
          "height": 265
        },
        "id": "4hLvvzYoxsRI",
        "outputId": "8e9259b3-d13e-40ee-8fd0-e89b36d33c14"
      },
      "execution_count": 62,
      "outputs": [
        {
          "output_type": "display_data",
          "data": {
            "text/plain": [
              "<Figure size 432x288 with 1 Axes>"
            ],
            "image/png": "[encoded data removed]"
          },
          "metadata": {
            "needs_background": "light"
          }
        }
      ]
    },
    {
      "cell_type": "code",
      "source": [
        "with torch.no_grad():\n",
        "  model = model.to('cpu')\n",
        "  y_pred = model(x_test)\n",
        "  y_pred = y_pred.detach().numpy()\n",
        "  predicted = np.argmax(y_pred, axis =1)\n",
        "  accuracy = (accuracy_score(predicted, y_test))"
      ],
      "metadata": {
        "id": "GwMo0KBlxupG"
      },
      "execution_count": 63,
      "outputs": []
    },
    {
      "cell_type": "code",
      "source": [
        "print(f'model의 output은 :  {y_pred[0]}')\n",
        "print(f'argmax를 한 후의 output은 {predicted[0]}')\n",
        "print(f'accuracy는 {accuracy}')"
      ],
      "metadata": {
        "colab": {
          "base_uri": "https://localhost:8080/"
        },
        "id": "vzvyIr-5xxDv",
        "outputId": "32d3dd12-3066-4b3b-8dbb-8e9b382e8095"
      },
      "execution_count": 64,
      "outputs": [
        {
          "output_type": "stream",
          "name": "stdout",
          "text": [
            "model의 output은 :  [0.5501716  0.03514828 0.02971754 0.00658929 0.0068739  0.0130014\n",
            " 0.01069856 0.02461694 0.01338783 0.00775758 0.01667805 0.00927033\n",
            " 0.01567808 0.00818948 0.01208205 0.0082855  0.01676827 0.01238626\n",
            " 0.01400816 0.00859364 0.00896937 0.02366553 0.01112956 0.00797993\n",
            " 0.01272155 0.00868963 0.01224233 0.01470386 0.01346912 0.00704629\n",
            " 0.01128265 0.00842132 0.00894295 0.01601426 0.00522384 0.00959511]\n",
            "argmax를 한 후의 output은 0\n",
            "accuracy는 0.3333333333333333\n"
          ]
        }
      ]
    },
    {
      "cell_type": "markdown",
      "source": [
        "## 5번째 시도 (ReLU + ADAM + lr = 0.001 로 변경) acc = 0.9444 로 가장 높음.  "
      ],
      "metadata": {
        "id": "elMNT2-31GCy"
      }
    },
    {
      "cell_type": "code",
      "source": [
        "model = nn.Sequential(\n",
        "          nn.Linear(13,256, bias=True), \n",
        "          nn.ReLU(),\n",
        "          nn.Linear(256,128, bias=True),\n",
        "          nn.ReLU(),\n",
        "          nn.Linear(128,36, bias=True), \n",
        "          nn.ReLU(),\n",
        "          ).to(device)"
      ],
      "metadata": {
        "id": "RgYrX1mu1D2w"
      },
      "execution_count": 89,
      "outputs": []
    },
    {
      "cell_type": "code",
      "source": [
        "class Model(torch.nn.Module):\n",
        "\n",
        "  def __init__(self):\n",
        "    super(Model, self).__init__()\n",
        "    self.layer1 = nn.Sequential(\n",
        "          nn.Linear(13,256, bias=True), # input_layer = 30, hidden_layer1 = 398 \n",
        "          nn.Tanh(),\n",
        "        nn.BatchNorm1d(256)\n",
        "    )\n",
        "\n",
        "    self.layer2 = nn.Sequential(\n",
        "          nn.Linear(256,128, bias=True), # hidden_layer1 = 398, hidden_layer2 = 15\n",
        "        nn.Tanh()\n",
        "    )\n",
        "    self.layer3 = nn.Sequential(\n",
        "          nn.Linear(128,64, bias=True), # hidden_layer1 = 15, hidden_layer2 = 10\n",
        "        nn.Tanh()\n",
        "    )\n",
        "    self.layer4 = nn.Sequential(\n",
        "        nn.Linear(64,36, bias=True), # hidden_layer3 = 10, output_layer = 5\n",
        "        nn.Softmax()\n",
        "    )\n",
        "\n",
        "  def forward(self,x):\n",
        "    output = self.layer1(x)\n",
        "    output = self.layer2(output)\n",
        "    output = self.layer3(output)\n",
        "    output = self.layer4(output)\n",
        "    return output"
      ],
      "metadata": {
        "id": "k0q8D-Y42DUB"
      },
      "execution_count": 90,
      "outputs": []
    },
    {
      "cell_type": "code",
      "source": [
        "model = Model().to(device)\n",
        "model.apply(init_weights)"
      ],
      "metadata": {
        "colab": {
          "base_uri": "https://localhost:8080/"
        },
        "id": "64zwOVqn2D4I",
        "outputId": "9b4bf818-9da8-45e1-ceb1-47d8d128997b"
      },
      "execution_count": 91,
      "outputs": [
        {
          "output_type": "stream",
          "name": "stderr",
          "text": [
            "<ipython-input-28-6196a47a4462>:3: UserWarning: nn.init.xavier_uniform is now deprecated in favor of nn.init.xavier_uniform_.\n",
            "  torch.nn.init.xavier_uniform(layer.weight)\n"
          ]
        },
        {
          "output_type": "execute_result",
          "data": {
            "text/plain": [
              "Model(\n",
              "  (layer1): Sequential(\n",
              "    (0): Linear(in_features=13, out_features=256, bias=True)\n",
              "    (1): Tanh()\n",
              "    (2): BatchNorm1d(256, eps=1e-05, momentum=0.1, affine=True, track_running_stats=True)\n",
              "  )\n",
              "  (layer2): Sequential(\n",
              "    (0): Linear(in_features=256, out_features=128, bias=True)\n",
              "    (1): Tanh()\n",
              "  )\n",
              "  (layer3): Sequential(\n",
              "    (0): Linear(in_features=128, out_features=64, bias=True)\n",
              "    (1): Tanh()\n",
              "  )\n",
              "  (layer4): Sequential(\n",
              "    (0): Linear(in_features=64, out_features=36, bias=True)\n",
              "    (1): Softmax(dim=None)\n",
              "  )\n",
              ")"
            ]
          },
          "metadata": {},
          "execution_count": 91
        }
      ]
    },
    {
      "cell_type": "code",
      "source": [
        "loss_fn  = nn.CrossEntropyLoss().to(device)\n",
        "optimizer = optim.Adam(model.parameters(), lr= 0.001)"
      ],
      "metadata": {
        "id": "rX3C9QW82GvK"
      },
      "execution_count": 92,
      "outputs": []
    },
    {
      "cell_type": "code",
      "source": [
        "losses = []\n",
        "for epoch in range(100):\n",
        "\n",
        "  optimizer.zero_grad()\n",
        "  hypothesis = model(x_train)\n",
        "\n",
        "  # 비용 함수\n",
        "  cost = loss_fn(hypothesis, y_train)\n",
        "  cost.backward()\n",
        "  optimizer.step()\n",
        "  losses.append(cost.item())\n",
        "\n",
        "  if epoch % 10 == 0:\n",
        "    print(epoch, cost.item())"
      ],
      "metadata": {
        "colab": {
          "base_uri": "https://localhost:8080/"
        },
        "id": "YpoM7pWt2JxQ",
        "outputId": "4caaa365-bc5f-4264-a5de-642d73e0a939"
      },
      "execution_count": 93,
      "outputs": [
        {
          "output_type": "stream",
          "name": "stderr",
          "text": [
            "/usr/local/lib/python3.8/dist-packages/torch/nn/modules/container.py:204: UserWarning: Implicit dimension choice for softmax has been deprecated. Change the call to include dim=X as an argument.\n",
            "  input = module(input)\n"
          ]
        },
        {
          "output_type": "stream",
          "name": "stdout",
          "text": [
            "0 3.5806376934051514\n",
            "10 3.320775270462036\n",
            "20 3.067638874053955\n",
            "30 2.9840333461761475\n",
            "40 2.8998260498046875\n",
            "50 2.8612024784088135\n",
            "60 2.823242664337158\n",
            "70 2.7304813861846924\n",
            "80 2.6997146606445312\n",
            "90 2.686249256134033\n"
          ]
        }
      ]
    },
    {
      "cell_type": "code",
      "source": [
        "plt.plot(losses)\n",
        "plt.show()"
      ],
      "metadata": {
        "colab": {
          "base_uri": "https://localhost:8080/",
          "height": 265
        },
        "id": "idlnzY0i2MaX",
        "outputId": "78a0504e-9146-49f6-c889-d96f3d1e5bdc"
      },
      "execution_count": 94,
      "outputs": [
        {
          "output_type": "display_data",
          "data": {
            "text/plain": [
              "<Figure size 432x288 with 1 Axes>"
            ],
            "image/png": "[encoded data removed]"
          },
          "metadata": {
            "needs_background": "light"
          }
        }
      ]
    },
    {
      "cell_type": "code",
      "source": [
        "with torch.no_grad():\n",
        "  model = model.to('cpu')\n",
        "  y_pred = model(x_test)\n",
        "  y_pred = y_pred.detach().numpy()\n",
        "  predicted = np.argmax(y_pred, axis =1)\n",
        "  accuracy = (accuracy_score(predicted, y_test))"
      ],
      "metadata": {
        "id": "LB3c-mq12OyG"
      },
      "execution_count": 95,
      "outputs": []
    },
    {
      "cell_type": "code",
      "source": [
        "print(f'model의 output은 :  {y_pred[0]}')\n",
        "print(f'argmax를 한 후의 output은 {predicted[0]}')\n",
        "print(f'accuracy는 {accuracy}')"
      ],
      "metadata": {
        "colab": {
          "base_uri": "https://localhost:8080/"
        },
        "id": "qwK0fXbT2TFM",
        "outputId": "4f79da10-e07e-4336-e68e-5d1be9bae491"
      },
      "execution_count": 96,
      "outputs": [
        {
          "output_type": "stream",
          "name": "stdout",
          "text": [
            "model의 output은 :  [9.9771309e-01 4.2860852e-06 3.5225024e-04 5.0265568e-05 9.4848372e-05\n",
            " 4.4589004e-05 1.0039580e-04 4.9194114e-05 4.1142866e-05 4.2371110e-05\n",
            " 5.3135038e-05 5.7843507e-05 3.6521542e-05 5.8882193e-05 7.0295617e-05\n",
            " 3.8584702e-05 3.3271230e-05 1.5074709e-05 8.4532236e-05 5.5602311e-05\n",
            " 1.0474825e-04 6.2041639e-05 5.9084694e-05 9.2893279e-05 5.7646965e-05\n",
            " 2.7589842e-05 5.1571758e-05 7.0841343e-05 9.5331270e-05 4.8219797e-05\n",
            " 5.2302727e-05 3.1099684e-05 6.4369357e-05 4.6680503e-05 1.1623182e-04\n",
            " 2.3003402e-05]\n",
            "argmax를 한 후의 output은 0\n",
            "accuracy는 0.9444444444444444\n"
          ]
        }
      ]
    },
    {
      "cell_type": "markdown",
      "source": [
        "# < 3주차 과제 2 : CNN 맛보기>"
      ],
      "metadata": {
        "id": "3RzRM7xThZV_"
      }
    },
    {
      "cell_type": "code",
      "source": [
        "from __future__ import print_function\n",
        "import argparse\n",
        "import torch\n",
        "import torch.nn as nn\n",
        "import torch.nn.functional as F\n",
        "import torch.optim as optim\n",
        "from torchvision import datasets, transforms\n",
        "from torch.autograd import Variable"
      ],
      "metadata": {
        "id": "56xqgtLxhZw6"
      },
      "execution_count": 2,
      "outputs": []
    },
    {
      "cell_type": "code",
      "source": [
        "# Training settings\n",
        "\n",
        "batch_size = 64\n",
        "\n",
        "# MNIST Dataset\n",
        "train_dataset = datasets.MNIST(root='./data/',\n",
        "                               train=True,\n",
        "                               transform=transforms.ToTensor(),\n",
        "                               download=True)\n",
        "\n",
        "test_dataset = datasets.MNIST(root='./data/',\n",
        "                              train=False,\n",
        "                              transform=transforms.ToTensor())\n",
        "\n",
        "# Data Loader (Input Pipeline)\n",
        "train_loader = torch.utils.data.DataLoader(dataset=train_dataset,\n",
        "                                           batch_size=batch_size,\n",
        "                                           shuffle=True)\n",
        "\n",
        "test_loader = torch.utils.data.DataLoader(dataset=test_dataset,\n",
        "                                          batch_size=batch_size,\n",
        "                                          shuffle=False)"
      ],
      "metadata": {
        "id": "TzkF2bFNhcQ2",
        "colab": {
          "base_uri": "https://localhost:8080/",
          "height": 435,
          "referenced_widgets": [
            "ad6d7a73fe5b4272b78cfbcc1d07b0b2",
            "9b30c74e9c5f48bfb5e7ce2485f1d394",
            "aeeda241ecd34efc9ee24ea09cee8fea",
            "1c65dc9aa89448a0a15641ce7a729d4a",
            "1e420ed60e8345478dfca3a93062f6c1",
            "229a46cf865a4d77a20cba89df867be0",
            "31754fb7321641c0b64a9702b125b6c9",
            "2893a59ec802492dafceef390d57fe1c",
            "4229142a9522441ca0521d014e75ec0b",
            "9583391b0dfa4b57a2ccf76bac30559e",
            "35d2586e9ac74cd9920e7e6ba2ac0de1",
            "aa5579e9f9cd4f4c8b15c59dbb4f39ee",
            "6a3ef7b8208a4e7b87bb1248a87215c0",
            "7a324af4f62041dc95692de9f19f3fc7",
            "835e8c7fc32d46728194536bff09a722",
            "f394f0a6601b414e939ac1b15c3b7201",
            "0000546aedb746adbaca63c707667460",
            "2c1dee42ba3b4015ba2151f36c8cfb84",
            "0b3ffe2394b54870b0acdad00f389fc0",
            "01289c257aac42af8351192992445f7d",
            "9882c5cd084b457293f943c49b9766aa",
            "db7ede82a0c44934bc97f8edef9bc230",
            "1a27c4d632d84cd794bb6f95d7f41582",
            "e24984a5fec24fbd94b09374ba952cb3",
            "75867c705d5a4eaabd373f4d5e1caec7",
            "95439f00d81b48a48dbed38ee45738b5",
            "35cee5cc10ab41efaa1078b7c313c5d6",
            "763e7b10dd7047a4817b517954fbbdcc",
            "f463d20500f74c289bc2e8d201414f2d",
            "8c2271fa580c46ddbe1acf9516a66bac",
            "127269ca572f459db84ec87e12ab5851",
            "1104a422953f4340be3eb5b04ee15def",
            "26e11f9d9fab404d9049e6f6f86f6fa4",
            "76deff8a5fea414a94906060eeb9e09e",
            "f0ec6e27d54f4560af3ebc7bb2bd4e11",
            "d3fd1631b6e845ef8e06412a1ea9ccd8",
            "9f301341e03f42db8f36ec5726ddf928",
            "29ab302b21514dd5a63a375abbc307df",
            "6aa9cb0205a94a9eabd6bfcea0fbb6ec",
            "fb87edd418fc4df4b5729fb4fccadb86",
            "c384e496664f4f19a5370c9629220b24",
            "52273b437ec24d9d82fe6a4553056c21",
            "15e99051d55f41c4a18f174017fecf82",
            "206bdc4f7319490580a55d784cd7ddab"
          ]
        },
        "outputId": "d29d4904-8b41-47aa-8db8-251528f19720"
      },
      "execution_count": 3,
      "outputs": [
        {
          "output_type": "stream",
          "name": "stdout",
          "text": [
            "Downloading http://yann.lecun.com/exdb/mnist/train-images-idx3-ubyte.gz\n",
            "Downloading http://yann.lecun.com/exdb/mnist/train-images-idx3-ubyte.gz to ./data/MNIST/raw/train-images-idx3-ubyte.gz\n"
          ]
        },
        {
          "output_type": "display_data",
          "data": {
            "text/plain": [
              "  0%|          | 0/9912422 [00:00<?, ?it/s]"
            ],
            "application/vnd.jupyter.widget-view+json": {
              "version_major": 2,
              "version_minor": 0,
              "model_id": "ad6d7a73fe5b4272b78cfbcc1d07b0b2"
            }
          },
          "metadata": {}
        },
        {
          "output_type": "stream",
          "name": "stdout",
          "text": [
            "Extracting ./data/MNIST/raw/train-images-idx3-ubyte.gz to ./data/MNIST/raw\n",
            "\n",
            "Downloading http://yann.lecun.com/exdb/mnist/train-labels-idx1-ubyte.gz\n",
            "Downloading http://yann.lecun.com/exdb/mnist/train-labels-idx1-ubyte.gz to ./data/MNIST/raw/train-labels-idx1-ubyte.gz\n"
          ]
        },
        {
          "output_type": "display_data",
          "data": {
            "text/plain": [
              "  0%|          | 0/28881 [00:00<?, ?it/s]"
            ],
            "application/vnd.jupyter.widget-view+json": {
              "version_major": 2,
              "version_minor": 0,
              "model_id": "aa5579e9f9cd4f4c8b15c59dbb4f39ee"
            }
          },
          "metadata": {}
        },
        {
          "output_type": "stream",
          "name": "stdout",
          "text": [
            "Extracting ./data/MNIST/raw/train-labels-idx1-ubyte.gz to ./data/MNIST/raw\n",
            "\n",
            "Downloading http://yann.lecun.com/exdb/mnist/t10k-images-idx3-ubyte.gz\n",
            "Downloading http://yann.lecun.com/exdb/mnist/t10k-images-idx3-ubyte.gz to ./data/MNIST/raw/t10k-images-idx3-ubyte.gz\n"
          ]
        },
        {
          "output_type": "display_data",
          "data": {
            "text/plain": [
              "  0%|          | 0/1648877 [00:00<?, ?it/s]"
            ],
            "application/vnd.jupyter.widget-view+json": {
              "version_major": 2,
              "version_minor": 0,
              "model_id": "1a27c4d632d84cd794bb6f95d7f41582"
            }
          },
          "metadata": {}
        },
        {
          "output_type": "stream",
          "name": "stdout",
          "text": [
            "Extracting ./data/MNIST/raw/t10k-images-idx3-ubyte.gz to ./data/MNIST/raw\n",
            "\n",
            "Downloading http://yann.lecun.com/exdb/mnist/t10k-labels-idx1-ubyte.gz\n",
            "Downloading http://yann.lecun.com/exdb/mnist/t10k-labels-idx1-ubyte.gz to ./data/MNIST/raw/t10k-labels-idx1-ubyte.gz\n"
          ]
        },
        {
          "output_type": "display_data",
          "data": {
            "text/plain": [
              "  0%|          | 0/4542 [00:00<?, ?it/s]"
            ],
            "application/vnd.jupyter.widget-view+json": {
              "version_major": 2,
              "version_minor": 0,
              "model_id": "76deff8a5fea414a94906060eeb9e09e"
            }
          },
          "metadata": {}
        },
        {
          "output_type": "stream",
          "name": "stdout",
          "text": [
            "Extracting ./data/MNIST/raw/t10k-labels-idx1-ubyte.gz to ./data/MNIST/raw\n",
            "\n"
          ]
        }
      ]
    },
    {
      "cell_type": "code",
      "source": [
        "class Net(nn.Module):\n",
        "  def __init__(self):\n",
        "    super(Net, self).__init__()\n",
        "    self.conv1 = nn.Conv2d(1, 10, kernel_size = 5)\n",
        "    self.conv2 = nn.Conv2d(10, 20, kernel_size = 5)\n",
        "    self.mp = nn.MaxPool2d(2)\n",
        "    self.fc = nn.Linear(320 , 10) ### : 알맞는 input은?\n",
        "\n",
        "  def forward(self, x):\n",
        "    in_size = x.size(0)\n",
        "    x = F.relu(self.mp(self.conv1(x)))\n",
        "    x = F.relu(self.mp(self.conv2(x)))\n",
        "    x = x.view(in_size, -1)\n",
        "    x = self.fc(x)\n",
        "    return F.log_softmax(x)"
      ],
      "metadata": {
        "id": "tLCSvgganBrH"
      },
      "execution_count": 4,
      "outputs": []
    },
    {
      "cell_type": "code",
      "source": [
        "model = Net()\n",
        "optimizer = optim.SGD(model.parameters(), lr = 0.01, momentum = 0.5)"
      ],
      "metadata": {
        "id": "lkYZ4pUdnUHc"
      },
      "execution_count": 5,
      "outputs": []
    },
    {
      "cell_type": "code",
      "source": [
        "def train(epoch):\n",
        "  model.train()\n",
        "  for batch_idx, (data, target) in enumerate(train_loader):\n",
        "    data, target = Variable(data), Variable(target)\n",
        "    optimizer.zero_grad()\n",
        "    output = model(data)\n",
        "    loss = F.nll_loss(output, target)\n",
        "    loss.backward()\n",
        "    optimizer.step()\n",
        "    if batch_idx % 10 == 0:\n",
        "      print('Train Epoch: {} [{}/{} ({:.0f}%)]\\tLoss: {:.6f}'.format(\n",
        "          epoch, batch_idx * len(data), len(train_loader.dataset),\n",
        "          100. * batch_idx / len(train_loader), loss.item()))"
      ],
      "metadata": {
        "id": "IzUrEM3EnXJb"
      },
      "execution_count": 6,
      "outputs": []
    },
    {
      "cell_type": "code",
      "source": [
        "def test():\n",
        "    model.eval() #model.eval() 의 기능은?\n",
        "    test_loss = 0\n",
        "    correct = 0\n",
        "    for data, target in test_loader:\n",
        "        data, target = Variable(data, volatile=True), Variable(target)\n",
        "        output = model(data)\n",
        "        test_loss += F.nll_loss(output, target, size_average=False).data # nll_loss?? / cross entropy loss와의 관계 확인!\n",
        "        pred = output.data.max(1, keepdim=True)[1]\n",
        "        correct += pred.eq(target.data.view_as(pred)).cpu().sum()\n",
        "\n",
        "    test_loss /= len(test_loader.dataset)\n",
        "    print('\\nTest set: Average loss: {:.4f}, Accuracy: {}/{} ({:.0f}%)\\n'.format(\n",
        "        test_loss, correct, len(test_loader.dataset),\n",
        "        100. * correct / len(test_loader.dataset)))"
      ],
      "metadata": {
        "id": "EFi0gYJGn2aa"
      },
      "execution_count": 7,
      "outputs": []
    },
    {
      "cell_type": "code",
      "source": [
        "for epoch in range(1, 10):\n",
        "    train(epoch)\n",
        "    test()"
      ],
      "metadata": {
        "id": "zSvSZb_Bn4Nx",
        "colab": {
          "base_uri": "https://localhost:8080/"
        },
        "outputId": "43411dc2-0018-4bba-ca21-49102315d5bf"
      },
      "execution_count": 8,
      "outputs": [
        {
          "output_type": "stream",
          "name": "stderr",
          "text": [
            "<ipython-input-4-006ecbc6c563>:15: UserWarning: Implicit dimension choice for log_softmax has been deprecated. Change the call to include dim=X as an argument.\n",
            "  return F.log_softmax(x)\n"
          ]
        },
        {
          "output_type": "stream",
          "name": "stdout",
          "text": [
            "Train Epoch: 1 [0/60000 (0%)]\tLoss: 2.281531\n",
            "Train Epoch: 1 [640/60000 (1%)]\tLoss: 2.296566\n",
            "Train Epoch: 1 [1280/60000 (2%)]\tLoss: 2.283896\n",
            "Train Epoch: 1 [1920/60000 (3%)]\tLoss: 2.254680\n",
            "Train Epoch: 1 [2560/60000 (4%)]\tLoss: 2.225545\n",
            "Train Epoch: 1 [3200/60000 (5%)]\tLoss: 2.203352\n",
            "Train Epoch: 1 [3840/60000 (6%)]\tLoss: 2.163291\n",
            "Train Epoch: 1 [4480/60000 (7%)]\tLoss: 2.097435\n",
            "Train Epoch: 1 [5120/60000 (9%)]\tLoss: 1.987547\n",
            "Train Epoch: 1 [5760/60000 (10%)]\tLoss: 1.939250\n",
            "Train Epoch: 1 [6400/60000 (11%)]\tLoss: 1.643016\n",
            "Train Epoch: 1 [7040/60000 (12%)]\tLoss: 1.588846\n",
            "Train Epoch: 1 [7680/60000 (13%)]\tLoss: 1.242997\n",
            "Train Epoch: 1 [8320/60000 (14%)]\tLoss: 0.943483\n",
            "Train Epoch: 1 [8960/60000 (15%)]\tLoss: 0.734167\n",
            "Train Epoch: 1 [9600/60000 (16%)]\tLoss: 0.708046\n",
            "Train Epoch: 1 [10240/60000 (17%)]\tLoss: 0.807304\n",
            "Train Epoch: 1 [10880/60000 (18%)]\tLoss: 0.733330\n",
            "Train Epoch: 1 [11520/60000 (19%)]\tLoss: 0.802525\n",
            "Train Epoch: 1 [12160/60000 (20%)]\tLoss: 0.577960\n",
            "Train Epoch: 1 [12800/60000 (21%)]\tLoss: 0.567367\n",
            "Train Epoch: 1 [13440/60000 (22%)]\tLoss: 0.488856\n",
            "Train Epoch: 1 [14080/60000 (23%)]\tLoss: 0.708156\n",
            "Train Epoch: 1 [14720/60000 (25%)]\tLoss: 0.593141\n",
            "Train Epoch: 1 [15360/60000 (26%)]\tLoss: 0.629710\n",
            "Train Epoch: 1 [16000/60000 (27%)]\tLoss: 0.548792\n",
            "Train Epoch: 1 [16640/60000 (28%)]\tLoss: 0.459873\n",
            "Train Epoch: 1 [17280/60000 (29%)]\tLoss: 0.788492\n",
            "Train Epoch: 1 [17920/60000 (30%)]\tLoss: 0.463330\n",
            "Train Epoch: 1 [18560/60000 (31%)]\tLoss: 0.503231\n",
            "Train Epoch: 1 [19200/60000 (32%)]\tLoss: 0.744537\n",
            "Train Epoch: 1 [19840/60000 (33%)]\tLoss: 0.518773\n",
            "Train Epoch: 1 [20480/60000 (34%)]\tLoss: 0.455961\n",
            "Train Epoch: 1 [21120/60000 (35%)]\tLoss: 0.447501\n",
            "Train Epoch: 1 [21760/60000 (36%)]\tLoss: 0.456258\n",
            "Train Epoch: 1 [22400/60000 (37%)]\tLoss: 0.548904\n",
            "Train Epoch: 1 [23040/60000 (38%)]\tLoss: 0.308019\n",
            "Train Epoch: 1 [23680/60000 (39%)]\tLoss: 0.400334\n",
            "Train Epoch: 1 [24320/60000 (41%)]\tLoss: 0.421459\n",
            "Train Epoch: 1 [24960/60000 (42%)]\tLoss: 0.358769\n",
            "Train Epoch: 1 [25600/60000 (43%)]\tLoss: 0.340512\n",
            "Train Epoch: 1 [26240/60000 (44%)]\tLoss: 0.555949\n",
            "Train Epoch: 1 [26880/60000 (45%)]\tLoss: 0.415749\n",
            "Train Epoch: 1 [27520/60000 (46%)]\tLoss: 0.372019\n",
            "Train Epoch: 1 [28160/60000 (47%)]\tLoss: 0.190783\n",
            "Train Epoch: 1 [28800/60000 (48%)]\tLoss: 0.302994\n",
            "Train Epoch: 1 [29440/60000 (49%)]\tLoss: 0.202940\n",
            "Train Epoch: 1 [30080/60000 (50%)]\tLoss: 0.321706\n",
            "Train Epoch: 1 [30720/60000 (51%)]\tLoss: 0.238937\n",
            "Train Epoch: 1 [31360/60000 (52%)]\tLoss: 0.314870\n",
            "Train Epoch: 1 [32000/60000 (53%)]\tLoss: 0.320205\n",
            "Train Epoch: 1 [32640/60000 (54%)]\tLoss: 0.254143\n",
            "Train Epoch: 1 [33280/60000 (55%)]\tLoss: 0.182743\n",
            "Train Epoch: 1 [33920/60000 (57%)]\tLoss: 0.127971\n",
            "Train Epoch: 1 [34560/60000 (58%)]\tLoss: 0.209407\n",
            "Train Epoch: 1 [35200/60000 (59%)]\tLoss: 0.180537\n",
            "Train Epoch: 1 [35840/60000 (60%)]\tLoss: 0.258985\n",
            "Train Epoch: 1 [36480/60000 (61%)]\tLoss: 0.149736\n",
            "Train Epoch: 1 [37120/60000 (62%)]\tLoss: 0.430243\n",
            "Train Epoch: 1 [37760/60000 (63%)]\tLoss: 0.199597\n",
            "Train Epoch: 1 [38400/60000 (64%)]\tLoss: 0.215793\n",
            "Train Epoch: 1 [39040/60000 (65%)]\tLoss: 0.178262\n",
            "Train Epoch: 1 [39680/60000 (66%)]\tLoss: 0.213666\n",
            "Train Epoch: 1 [40320/60000 (67%)]\tLoss: 0.180508\n",
            "Train Epoch: 1 [40960/60000 (68%)]\tLoss: 0.294729\n",
            "Train Epoch: 1 [41600/60000 (69%)]\tLoss: 0.234879\n",
            "Train Epoch: 1 [42240/60000 (70%)]\tLoss: 0.232844\n",
            "Train Epoch: 1 [42880/60000 (71%)]\tLoss: 0.201339\n",
            "Train Epoch: 1 [43520/60000 (72%)]\tLoss: 0.109901\n",
            "Train Epoch: 1 [44160/60000 (74%)]\tLoss: 0.283704\n",
            "Train Epoch: 1 [44800/60000 (75%)]\tLoss: 0.150440\n",
            "Train Epoch: 1 [45440/60000 (76%)]\tLoss: 0.120001\n",
            "Train Epoch: 1 [46080/60000 (77%)]\tLoss: 0.156009\n",
            "Train Epoch: 1 [46720/60000 (78%)]\tLoss: 0.183958\n",
            "Train Epoch: 1 [47360/60000 (79%)]\tLoss: 0.233413\n",
            "Train Epoch: 1 [48000/60000 (80%)]\tLoss: 0.178907\n",
            "Train Epoch: 1 [48640/60000 (81%)]\tLoss: 0.150807\n",
            "Train Epoch: 1 [49280/60000 (82%)]\tLoss: 0.244976\n",
            "Train Epoch: 1 [49920/60000 (83%)]\tLoss: 0.317272\n",
            "Train Epoch: 1 [50560/60000 (84%)]\tLoss: 0.231477\n",
            "Train Epoch: 1 [51200/60000 (85%)]\tLoss: 0.244393\n",
            "Train Epoch: 1 [51840/60000 (86%)]\tLoss: 0.154748\n",
            "Train Epoch: 1 [52480/60000 (87%)]\tLoss: 0.359847\n",
            "Train Epoch: 1 [53120/60000 (88%)]\tLoss: 0.224518\n",
            "Train Epoch: 1 [53760/60000 (90%)]\tLoss: 0.239041\n",
            "Train Epoch: 1 [54400/60000 (91%)]\tLoss: 0.249735\n",
            "Train Epoch: 1 [55040/60000 (92%)]\tLoss: 0.143525\n",
            "Train Epoch: 1 [55680/60000 (93%)]\tLoss: 0.246346\n",
            "Train Epoch: 1 [56320/60000 (94%)]\tLoss: 0.121981\n",
            "Train Epoch: 1 [56960/60000 (95%)]\tLoss: 0.273227\n",
            "Train Epoch: 1 [57600/60000 (96%)]\tLoss: 0.238816\n",
            "Train Epoch: 1 [58240/60000 (97%)]\tLoss: 0.109104\n",
            "Train Epoch: 1 [58880/60000 (98%)]\tLoss: 0.387936\n",
            "Train Epoch: 1 [59520/60000 (99%)]\tLoss: 0.191105\n"
          ]
        },
        {
          "output_type": "stream",
          "name": "stderr",
          "text": [
            "<ipython-input-7-f52337105c2a>:6: UserWarning: volatile was removed and now has no effect. Use `with torch.no_grad():` instead.\n",
            "  data, target = Variable(data, volatile=True), Variable(target)\n",
            "/usr/local/lib/python3.8/dist-packages/torch/nn/_reduction.py:42: UserWarning: size_average and reduce args will be deprecated, please use reduction='sum' instead.\n",
            "  warnings.warn(warning.format(ret))\n"
          ]
        },
        {
          "output_type": "stream",
          "name": "stdout",
          "text": [
            "\n",
            "Test set: Average loss: 0.1801, Accuracy: 9464/10000 (95%)\n",
            "\n",
            "Train Epoch: 2 [0/60000 (0%)]\tLoss: 0.112169\n",
            "Train Epoch: 2 [640/60000 (1%)]\tLoss: 0.078430\n",
            "Train Epoch: 2 [1280/60000 (2%)]\tLoss: 0.114706\n",
            "Train Epoch: 2 [1920/60000 (3%)]\tLoss: 0.216335\n",
            "Train Epoch: 2 [2560/60000 (4%)]\tLoss: 0.271478\n",
            "Train Epoch: 2 [3200/60000 (5%)]\tLoss: 0.175298\n",
            "Train Epoch: 2 [3840/60000 (6%)]\tLoss: 0.130358\n",
            "Train Epoch: 2 [4480/60000 (7%)]\tLoss: 0.228631\n",
            "Train Epoch: 2 [5120/60000 (9%)]\tLoss: 0.226365\n",
            "Train Epoch: 2 [5760/60000 (10%)]\tLoss: 0.084612\n",
            "Train Epoch: 2 [6400/60000 (11%)]\tLoss: 0.110400\n",
            "Train Epoch: 2 [7040/60000 (12%)]\tLoss: 0.157965\n",
            "Train Epoch: 2 [7680/60000 (13%)]\tLoss: 0.187044\n",
            "Train Epoch: 2 [8320/60000 (14%)]\tLoss: 0.225298\n",
            "Train Epoch: 2 [8960/60000 (15%)]\tLoss: 0.142487\n",
            "Train Epoch: 2 [9600/60000 (16%)]\tLoss: 0.269016\n",
            "Train Epoch: 2 [10240/60000 (17%)]\tLoss: 0.178463\n",
            "Train Epoch: 2 [10880/60000 (18%)]\tLoss: 0.436464\n",
            "Train Epoch: 2 [11520/60000 (19%)]\tLoss: 0.105639\n",
            "Train Epoch: 2 [12160/60000 (20%)]\tLoss: 0.294649\n",
            "Train Epoch: 2 [12800/60000 (21%)]\tLoss: 0.305788\n",
            "Train Epoch: 2 [13440/60000 (22%)]\tLoss: 0.241254\n",
            "Train Epoch: 2 [14080/60000 (23%)]\tLoss: 0.159067\n",
            "Train Epoch: 2 [14720/60000 (25%)]\tLoss: 0.103451\n",
            "Train Epoch: 2 [15360/60000 (26%)]\tLoss: 0.109680\n",
            "Train Epoch: 2 [16000/60000 (27%)]\tLoss: 0.274326\n",
            "Train Epoch: 2 [16640/60000 (28%)]\tLoss: 0.153185\n",
            "Train Epoch: 2 [17280/60000 (29%)]\tLoss: 0.287021\n",
            "Train Epoch: 2 [17920/60000 (30%)]\tLoss: 0.204333\n",
            "Train Epoch: 2 [18560/60000 (31%)]\tLoss: 0.263561\n",
            "Train Epoch: 2 [19200/60000 (32%)]\tLoss: 0.083928\n",
            "Train Epoch: 2 [19840/60000 (33%)]\tLoss: 0.204968\n",
            "Train Epoch: 2 [20480/60000 (34%)]\tLoss: 0.094020\n",
            "Train Epoch: 2 [21120/60000 (35%)]\tLoss: 0.053860\n",
            "Train Epoch: 2 [21760/60000 (36%)]\tLoss: 0.078159\n",
            "Train Epoch: 2 [22400/60000 (37%)]\tLoss: 0.200604\n",
            "Train Epoch: 2 [23040/60000 (38%)]\tLoss: 0.116896\n",
            "Train Epoch: 2 [23680/60000 (39%)]\tLoss: 0.128223\n",
            "Train Epoch: 2 [24320/60000 (41%)]\tLoss: 0.117067\n",
            "Train Epoch: 2 [24960/60000 (42%)]\tLoss: 0.071001\n",
            "Train Epoch: 2 [25600/60000 (43%)]\tLoss: 0.148240\n",
            "Train Epoch: 2 [26240/60000 (44%)]\tLoss: 0.112913\n",
            "Train Epoch: 2 [26880/60000 (45%)]\tLoss: 0.296369\n",
            "Train Epoch: 2 [27520/60000 (46%)]\tLoss: 0.153556\n",
            "Train Epoch: 2 [28160/60000 (47%)]\tLoss: 0.053072\n",
            "Train Epoch: 2 [28800/60000 (48%)]\tLoss: 0.127358\n",
            "Train Epoch: 2 [29440/60000 (49%)]\tLoss: 0.143257\n",
            "Train Epoch: 2 [30080/60000 (50%)]\tLoss: 0.117367\n",
            "Train Epoch: 2 [30720/60000 (51%)]\tLoss: 0.284019\n",
            "Train Epoch: 2 [31360/60000 (52%)]\tLoss: 0.134947\n",
            "Train Epoch: 2 [32000/60000 (53%)]\tLoss: 0.127556\n",
            "Train Epoch: 2 [32640/60000 (54%)]\tLoss: 0.250859\n",
            "Train Epoch: 2 [33280/60000 (55%)]\tLoss: 0.179143\n",
            "Train Epoch: 2 [33920/60000 (57%)]\tLoss: 0.043380\n",
            "Train Epoch: 2 [34560/60000 (58%)]\tLoss: 0.154555\n",
            "Train Epoch: 2 [35200/60000 (59%)]\tLoss: 0.136740\n",
            "Train Epoch: 2 [35840/60000 (60%)]\tLoss: 0.171073\n",
            "Train Epoch: 2 [36480/60000 (61%)]\tLoss: 0.120267\n",
            "Train Epoch: 2 [37120/60000 (62%)]\tLoss: 0.097960\n",
            "Train Epoch: 2 [37760/60000 (63%)]\tLoss: 0.082844\n",
            "Train Epoch: 2 [38400/60000 (64%)]\tLoss: 0.145522\n",
            "Train Epoch: 2 [39040/60000 (65%)]\tLoss: 0.051590\n",
            "Train Epoch: 2 [39680/60000 (66%)]\tLoss: 0.190822\n",
            "Train Epoch: 2 [40320/60000 (67%)]\tLoss: 0.072938\n",
            "Train Epoch: 2 [40960/60000 (68%)]\tLoss: 0.084058\n",
            "Train Epoch: 2 [41600/60000 (69%)]\tLoss: 0.114841\n",
            "Train Epoch: 2 [42240/60000 (70%)]\tLoss: 0.143832\n",
            "Train Epoch: 2 [42880/60000 (71%)]\tLoss: 0.176765\n",
            "Train Epoch: 2 [43520/60000 (72%)]\tLoss: 0.083167\n",
            "Train Epoch: 2 [44160/60000 (74%)]\tLoss: 0.079310\n",
            "Train Epoch: 2 [44800/60000 (75%)]\tLoss: 0.032883\n",
            "Train Epoch: 2 [45440/60000 (76%)]\tLoss: 0.056225\n",
            "Train Epoch: 2 [46080/60000 (77%)]\tLoss: 0.245645\n",
            "Train Epoch: 2 [46720/60000 (78%)]\tLoss: 0.276741\n",
            "Train Epoch: 2 [47360/60000 (79%)]\tLoss: 0.136469\n",
            "Train Epoch: 2 [48000/60000 (80%)]\tLoss: 0.064996\n",
            "Train Epoch: 2 [48640/60000 (81%)]\tLoss: 0.095491\n",
            "Train Epoch: 2 [49280/60000 (82%)]\tLoss: 0.090004\n",
            "Train Epoch: 2 [49920/60000 (83%)]\tLoss: 0.115033\n",
            "Train Epoch: 2 [50560/60000 (84%)]\tLoss: 0.084147\n",
            "Train Epoch: 2 [51200/60000 (85%)]\tLoss: 0.065669\n",
            "Train Epoch: 2 [51840/60000 (86%)]\tLoss: 0.224427\n",
            "Train Epoch: 2 [52480/60000 (87%)]\tLoss: 0.117915\n",
            "Train Epoch: 2 [53120/60000 (88%)]\tLoss: 0.106496\n",
            "Train Epoch: 2 [53760/60000 (90%)]\tLoss: 0.074356\n",
            "Train Epoch: 2 [54400/60000 (91%)]\tLoss: 0.196098\n",
            "Train Epoch: 2 [55040/60000 (92%)]\tLoss: 0.045024\n",
            "Train Epoch: 2 [55680/60000 (93%)]\tLoss: 0.093148\n",
            "Train Epoch: 2 [56320/60000 (94%)]\tLoss: 0.100578\n",
            "Train Epoch: 2 [56960/60000 (95%)]\tLoss: 0.092285\n",
            "Train Epoch: 2 [57600/60000 (96%)]\tLoss: 0.148003\n",
            "Train Epoch: 2 [58240/60000 (97%)]\tLoss: 0.094027\n",
            "Train Epoch: 2 [58880/60000 (98%)]\tLoss: 0.163978\n",
            "Train Epoch: 2 [59520/60000 (99%)]\tLoss: 0.089436\n",
            "\n",
            "Test set: Average loss: 0.1177, Accuracy: 9660/10000 (97%)\n",
            "\n",
            "Train Epoch: 3 [0/60000 (0%)]\tLoss: 0.179224\n",
            "Train Epoch: 3 [640/60000 (1%)]\tLoss: 0.115690\n",
            "Train Epoch: 3 [1280/60000 (2%)]\tLoss: 0.204538\n",
            "Train Epoch: 3 [1920/60000 (3%)]\tLoss: 0.330035\n",
            "Train Epoch: 3 [2560/60000 (4%)]\tLoss: 0.093522\n",
            "Train Epoch: 3 [3200/60000 (5%)]\tLoss: 0.125489\n",
            "Train Epoch: 3 [3840/60000 (6%)]\tLoss: 0.136104\n",
            "Train Epoch: 3 [4480/60000 (7%)]\tLoss: 0.133147\n",
            "Train Epoch: 3 [5120/60000 (9%)]\tLoss: 0.247851\n",
            "Train Epoch: 3 [5760/60000 (10%)]\tLoss: 0.197718\n",
            "Train Epoch: 3 [6400/60000 (11%)]\tLoss: 0.104749\n",
            "Train Epoch: 3 [7040/60000 (12%)]\tLoss: 0.123010\n",
            "Train Epoch: 3 [7680/60000 (13%)]\tLoss: 0.156755\n",
            "Train Epoch: 3 [8320/60000 (14%)]\tLoss: 0.135932\n",
            "Train Epoch: 3 [8960/60000 (15%)]\tLoss: 0.058792\n",
            "Train Epoch: 3 [9600/60000 (16%)]\tLoss: 0.139680\n",
            "Train Epoch: 3 [10240/60000 (17%)]\tLoss: 0.154454\n",
            "Train Epoch: 3 [10880/60000 (18%)]\tLoss: 0.250753\n",
            "Train Epoch: 3 [11520/60000 (19%)]\tLoss: 0.124430\n",
            "Train Epoch: 3 [12160/60000 (20%)]\tLoss: 0.079145\n",
            "Train Epoch: 3 [12800/60000 (21%)]\tLoss: 0.152318\n",
            "Train Epoch: 3 [13440/60000 (22%)]\tLoss: 0.073363\n",
            "Train Epoch: 3 [14080/60000 (23%)]\tLoss: 0.162200\n",
            "Train Epoch: 3 [14720/60000 (25%)]\tLoss: 0.107058\n",
            "Train Epoch: 3 [15360/60000 (26%)]\tLoss: 0.082564\n",
            "Train Epoch: 3 [16000/60000 (27%)]\tLoss: 0.108790\n",
            "Train Epoch: 3 [16640/60000 (28%)]\tLoss: 0.087866\n",
            "Train Epoch: 3 [17280/60000 (29%)]\tLoss: 0.154236\n",
            "Train Epoch: 3 [17920/60000 (30%)]\tLoss: 0.049916\n",
            "Train Epoch: 3 [18560/60000 (31%)]\tLoss: 0.078595\n",
            "Train Epoch: 3 [19200/60000 (32%)]\tLoss: 0.180950\n",
            "Train Epoch: 3 [19840/60000 (33%)]\tLoss: 0.074008\n",
            "Train Epoch: 3 [20480/60000 (34%)]\tLoss: 0.185870\n",
            "Train Epoch: 3 [21120/60000 (35%)]\tLoss: 0.082157\n",
            "Train Epoch: 3 [21760/60000 (36%)]\tLoss: 0.083351\n",
            "Train Epoch: 3 [22400/60000 (37%)]\tLoss: 0.140493\n",
            "Train Epoch: 3 [23040/60000 (38%)]\tLoss: 0.147712\n",
            "Train Epoch: 3 [23680/60000 (39%)]\tLoss: 0.046771\n",
            "Train Epoch: 3 [24320/60000 (41%)]\tLoss: 0.029705\n",
            "Train Epoch: 3 [24960/60000 (42%)]\tLoss: 0.203152\n",
            "Train Epoch: 3 [25600/60000 (43%)]\tLoss: 0.188960\n",
            "Train Epoch: 3 [26240/60000 (44%)]\tLoss: 0.094500\n",
            "Train Epoch: 3 [26880/60000 (45%)]\tLoss: 0.109805\n",
            "Train Epoch: 3 [27520/60000 (46%)]\tLoss: 0.121755\n",
            "Train Epoch: 3 [28160/60000 (47%)]\tLoss: 0.142403\n",
            "Train Epoch: 3 [28800/60000 (48%)]\tLoss: 0.154332\n",
            "Train Epoch: 3 [29440/60000 (49%)]\tLoss: 0.082344\n",
            "Train Epoch: 3 [30080/60000 (50%)]\tLoss: 0.058030\n",
            "Train Epoch: 3 [30720/60000 (51%)]\tLoss: 0.077100\n",
            "Train Epoch: 3 [31360/60000 (52%)]\tLoss: 0.074358\n",
            "Train Epoch: 3 [32000/60000 (53%)]\tLoss: 0.110994\n",
            "Train Epoch: 3 [32640/60000 (54%)]\tLoss: 0.088872\n",
            "Train Epoch: 3 [33280/60000 (55%)]\tLoss: 0.159677\n",
            "Train Epoch: 3 [33920/60000 (57%)]\tLoss: 0.075598\n",
            "Train Epoch: 3 [34560/60000 (58%)]\tLoss: 0.078080\n",
            "Train Epoch: 3 [35200/60000 (59%)]\tLoss: 0.184608\n",
            "Train Epoch: 3 [35840/60000 (60%)]\tLoss: 0.140927\n",
            "Train Epoch: 3 [36480/60000 (61%)]\tLoss: 0.078936\n",
            "Train Epoch: 3 [37120/60000 (62%)]\tLoss: 0.063612\n",
            "Train Epoch: 3 [37760/60000 (63%)]\tLoss: 0.091476\n",
            "Train Epoch: 3 [38400/60000 (64%)]\tLoss: 0.033878\n",
            "Train Epoch: 3 [39040/60000 (65%)]\tLoss: 0.101083\n",
            "Train Epoch: 3 [39680/60000 (66%)]\tLoss: 0.122329\n",
            "Train Epoch: 3 [40320/60000 (67%)]\tLoss: 0.044556\n",
            "Train Epoch: 3 [40960/60000 (68%)]\tLoss: 0.090500\n",
            "Train Epoch: 3 [41600/60000 (69%)]\tLoss: 0.121539\n",
            "Train Epoch: 3 [42240/60000 (70%)]\tLoss: 0.206481\n",
            "Train Epoch: 3 [42880/60000 (71%)]\tLoss: 0.181892\n",
            "Train Epoch: 3 [43520/60000 (72%)]\tLoss: 0.151824\n",
            "Train Epoch: 3 [44160/60000 (74%)]\tLoss: 0.106824\n",
            "Train Epoch: 3 [44800/60000 (75%)]\tLoss: 0.059635\n",
            "Train Epoch: 3 [45440/60000 (76%)]\tLoss: 0.061834\n",
            "Train Epoch: 3 [46080/60000 (77%)]\tLoss: 0.123788\n",
            "Train Epoch: 3 [46720/60000 (78%)]\tLoss: 0.221572\n",
            "Train Epoch: 3 [47360/60000 (79%)]\tLoss: 0.114117\n",
            "Train Epoch: 3 [48000/60000 (80%)]\tLoss: 0.110159\n",
            "Train Epoch: 3 [48640/60000 (81%)]\tLoss: 0.027721\n",
            "Train Epoch: 3 [49280/60000 (82%)]\tLoss: 0.054098\n",
            "Train Epoch: 3 [49920/60000 (83%)]\tLoss: 0.026147\n",
            "Train Epoch: 3 [50560/60000 (84%)]\tLoss: 0.061083\n",
            "Train Epoch: 3 [51200/60000 (85%)]\tLoss: 0.129448\n",
            "Train Epoch: 3 [51840/60000 (86%)]\tLoss: 0.161159\n",
            "Train Epoch: 3 [52480/60000 (87%)]\tLoss: 0.152130\n",
            "Train Epoch: 3 [53120/60000 (88%)]\tLoss: 0.243957\n",
            "Train Epoch: 3 [53760/60000 (90%)]\tLoss: 0.092229\n",
            "Train Epoch: 3 [54400/60000 (91%)]\tLoss: 0.237378\n",
            "Train Epoch: 3 [55040/60000 (92%)]\tLoss: 0.154805\n",
            "Train Epoch: 3 [55680/60000 (93%)]\tLoss: 0.103283\n",
            "Train Epoch: 3 [56320/60000 (94%)]\tLoss: 0.082276\n",
            "Train Epoch: 3 [56960/60000 (95%)]\tLoss: 0.054695\n",
            "Train Epoch: 3 [57600/60000 (96%)]\tLoss: 0.082102\n",
            "Train Epoch: 3 [58240/60000 (97%)]\tLoss: 0.092891\n",
            "Train Epoch: 3 [58880/60000 (98%)]\tLoss: 0.055863\n",
            "Train Epoch: 3 [59520/60000 (99%)]\tLoss: 0.033236\n",
            "\n",
            "Test set: Average loss: 0.0902, Accuracy: 9733/10000 (97%)\n",
            "\n",
            "Train Epoch: 4 [0/60000 (0%)]\tLoss: 0.056364\n",
            "Train Epoch: 4 [640/60000 (1%)]\tLoss: 0.080679\n",
            "Train Epoch: 4 [1280/60000 (2%)]\tLoss: 0.077213\n",
            "Train Epoch: 4 [1920/60000 (3%)]\tLoss: 0.168262\n",
            "Train Epoch: 4 [2560/60000 (4%)]\tLoss: 0.065312\n",
            "Train Epoch: 4 [3200/60000 (5%)]\tLoss: 0.012205\n",
            "Train Epoch: 4 [3840/60000 (6%)]\tLoss: 0.063559\n",
            "Train Epoch: 4 [4480/60000 (7%)]\tLoss: 0.171648\n",
            "Train Epoch: 4 [5120/60000 (9%)]\tLoss: 0.054116\n",
            "Train Epoch: 4 [5760/60000 (10%)]\tLoss: 0.096080\n",
            "Train Epoch: 4 [6400/60000 (11%)]\tLoss: 0.090562\n",
            "Train Epoch: 4 [7040/60000 (12%)]\tLoss: 0.090906\n",
            "Train Epoch: 4 [7680/60000 (13%)]\tLoss: 0.043621\n",
            "Train Epoch: 4 [8320/60000 (14%)]\tLoss: 0.037394\n",
            "Train Epoch: 4 [8960/60000 (15%)]\tLoss: 0.055194\n",
            "Train Epoch: 4 [9600/60000 (16%)]\tLoss: 0.163986\n",
            "Train Epoch: 4 [10240/60000 (17%)]\tLoss: 0.073398\n",
            "Train Epoch: 4 [10880/60000 (18%)]\tLoss: 0.087103\n",
            "Train Epoch: 4 [11520/60000 (19%)]\tLoss: 0.064649\n",
            "Train Epoch: 4 [12160/60000 (20%)]\tLoss: 0.065112\n",
            "Train Epoch: 4 [12800/60000 (21%)]\tLoss: 0.077408\n",
            "Train Epoch: 4 [13440/60000 (22%)]\tLoss: 0.209976\n",
            "Train Epoch: 4 [14080/60000 (23%)]\tLoss: 0.076844\n",
            "Train Epoch: 4 [14720/60000 (25%)]\tLoss: 0.035703\n",
            "Train Epoch: 4 [15360/60000 (26%)]\tLoss: 0.078600\n",
            "Train Epoch: 4 [16000/60000 (27%)]\tLoss: 0.076036\n",
            "Train Epoch: 4 [16640/60000 (28%)]\tLoss: 0.052268\n",
            "Train Epoch: 4 [17280/60000 (29%)]\tLoss: 0.048470\n",
            "Train Epoch: 4 [17920/60000 (30%)]\tLoss: 0.061852\n",
            "Train Epoch: 4 [18560/60000 (31%)]\tLoss: 0.052571\n",
            "Train Epoch: 4 [19200/60000 (32%)]\tLoss: 0.091578\n",
            "Train Epoch: 4 [19840/60000 (33%)]\tLoss: 0.110194\n",
            "Train Epoch: 4 [20480/60000 (34%)]\tLoss: 0.058128\n",
            "Train Epoch: 4 [21120/60000 (35%)]\tLoss: 0.031954\n",
            "Train Epoch: 4 [21760/60000 (36%)]\tLoss: 0.017415\n",
            "Train Epoch: 4 [22400/60000 (37%)]\tLoss: 0.277697\n",
            "Train Epoch: 4 [23040/60000 (38%)]\tLoss: 0.034642\n",
            "Train Epoch: 4 [23680/60000 (39%)]\tLoss: 0.107432\n",
            "Train Epoch: 4 [24320/60000 (41%)]\tLoss: 0.116888\n",
            "Train Epoch: 4 [24960/60000 (42%)]\tLoss: 0.106281\n",
            "Train Epoch: 4 [25600/60000 (43%)]\tLoss: 0.030152\n",
            "Train Epoch: 4 [26240/60000 (44%)]\tLoss: 0.161140\n",
            "Train Epoch: 4 [26880/60000 (45%)]\tLoss: 0.092845\n",
            "Train Epoch: 4 [27520/60000 (46%)]\tLoss: 0.056703\n",
            "Train Epoch: 4 [28160/60000 (47%)]\tLoss: 0.061001\n",
            "Train Epoch: 4 [28800/60000 (48%)]\tLoss: 0.144137\n",
            "Train Epoch: 4 [29440/60000 (49%)]\tLoss: 0.157007\n",
            "Train Epoch: 4 [30080/60000 (50%)]\tLoss: 0.026416\n",
            "Train Epoch: 4 [30720/60000 (51%)]\tLoss: 0.032310\n",
            "Train Epoch: 4 [31360/60000 (52%)]\tLoss: 0.106927\n",
            "Train Epoch: 4 [32000/60000 (53%)]\tLoss: 0.041409\n",
            "Train Epoch: 4 [32640/60000 (54%)]\tLoss: 0.079168\n",
            "Train Epoch: 4 [33280/60000 (55%)]\tLoss: 0.112214\n",
            "Train Epoch: 4 [33920/60000 (57%)]\tLoss: 0.050158\n",
            "Train Epoch: 4 [34560/60000 (58%)]\tLoss: 0.066574\n",
            "Train Epoch: 4 [35200/60000 (59%)]\tLoss: 0.049800\n",
            "Train Epoch: 4 [35840/60000 (60%)]\tLoss: 0.026425\n",
            "Train Epoch: 4 [36480/60000 (61%)]\tLoss: 0.050104\n",
            "Train Epoch: 4 [37120/60000 (62%)]\tLoss: 0.122046\n",
            "Train Epoch: 4 [37760/60000 (63%)]\tLoss: 0.075600\n",
            "Train Epoch: 4 [38400/60000 (64%)]\tLoss: 0.068692\n",
            "Train Epoch: 4 [39040/60000 (65%)]\tLoss: 0.026697\n",
            "Train Epoch: 4 [39680/60000 (66%)]\tLoss: 0.035717\n",
            "Train Epoch: 4 [40320/60000 (67%)]\tLoss: 0.027958\n",
            "Train Epoch: 4 [40960/60000 (68%)]\tLoss: 0.024217\n",
            "Train Epoch: 4 [41600/60000 (69%)]\tLoss: 0.098493\n",
            "Train Epoch: 4 [42240/60000 (70%)]\tLoss: 0.098282\n",
            "Train Epoch: 4 [42880/60000 (71%)]\tLoss: 0.167736\n",
            "Train Epoch: 4 [43520/60000 (72%)]\tLoss: 0.014120\n",
            "Train Epoch: 4 [44160/60000 (74%)]\tLoss: 0.043209\n",
            "Train Epoch: 4 [44800/60000 (75%)]\tLoss: 0.111989\n",
            "Train Epoch: 4 [45440/60000 (76%)]\tLoss: 0.088863\n",
            "Train Epoch: 4 [46080/60000 (77%)]\tLoss: 0.016851\n",
            "Train Epoch: 4 [46720/60000 (78%)]\tLoss: 0.072324\n",
            "Train Epoch: 4 [47360/60000 (79%)]\tLoss: 0.158088\n",
            "Train Epoch: 4 [48000/60000 (80%)]\tLoss: 0.033533\n",
            "Train Epoch: 4 [48640/60000 (81%)]\tLoss: 0.052710\n",
            "Train Epoch: 4 [49280/60000 (82%)]\tLoss: 0.052265\n",
            "Train Epoch: 4 [49920/60000 (83%)]\tLoss: 0.048367\n",
            "Train Epoch: 4 [50560/60000 (84%)]\tLoss: 0.061149\n",
            "Train Epoch: 4 [51200/60000 (85%)]\tLoss: 0.088298\n",
            "Train Epoch: 4 [51840/60000 (86%)]\tLoss: 0.087702\n",
            "Train Epoch: 4 [52480/60000 (87%)]\tLoss: 0.047649\n",
            "Train Epoch: 4 [53120/60000 (88%)]\tLoss: 0.200589\n",
            "Train Epoch: 4 [53760/60000 (90%)]\tLoss: 0.021571\n",
            "Train Epoch: 4 [54400/60000 (91%)]\tLoss: 0.072734\n",
            "Train Epoch: 4 [55040/60000 (92%)]\tLoss: 0.113773\n",
            "Train Epoch: 4 [55680/60000 (93%)]\tLoss: 0.111070\n",
            "Train Epoch: 4 [56320/60000 (94%)]\tLoss: 0.036111\n",
            "Train Epoch: 4 [56960/60000 (95%)]\tLoss: 0.061258\n",
            "Train Epoch: 4 [57600/60000 (96%)]\tLoss: 0.160993\n",
            "Train Epoch: 4 [58240/60000 (97%)]\tLoss: 0.075151\n",
            "Train Epoch: 4 [58880/60000 (98%)]\tLoss: 0.026130\n",
            "Train Epoch: 4 [59520/60000 (99%)]\tLoss: 0.068093\n",
            "\n",
            "Test set: Average loss: 0.0778, Accuracy: 9756/10000 (98%)\n",
            "\n",
            "Train Epoch: 5 [0/60000 (0%)]\tLoss: 0.071579\n",
            "Train Epoch: 5 [640/60000 (1%)]\tLoss: 0.201179\n",
            "Train Epoch: 5 [1280/60000 (2%)]\tLoss: 0.020367\n",
            "Train Epoch: 5 [1920/60000 (3%)]\tLoss: 0.111118\n",
            "Train Epoch: 5 [2560/60000 (4%)]\tLoss: 0.116187\n",
            "Train Epoch: 5 [3200/60000 (5%)]\tLoss: 0.059937\n",
            "Train Epoch: 5 [3840/60000 (6%)]\tLoss: 0.078222\n",
            "Train Epoch: 5 [4480/60000 (7%)]\tLoss: 0.114713\n",
            "Train Epoch: 5 [5120/60000 (9%)]\tLoss: 0.157835\n",
            "Train Epoch: 5 [5760/60000 (10%)]\tLoss: 0.059114\n",
            "Train Epoch: 5 [6400/60000 (11%)]\tLoss: 0.022820\n",
            "Train Epoch: 5 [7040/60000 (12%)]\tLoss: 0.061114\n",
            "Train Epoch: 5 [7680/60000 (13%)]\tLoss: 0.215326\n",
            "Train Epoch: 5 [8320/60000 (14%)]\tLoss: 0.156420\n",
            "Train Epoch: 5 [8960/60000 (15%)]\tLoss: 0.085834\n",
            "Train Epoch: 5 [9600/60000 (16%)]\tLoss: 0.184848\n",
            "Train Epoch: 5 [10240/60000 (17%)]\tLoss: 0.039484\n",
            "Train Epoch: 5 [10880/60000 (18%)]\tLoss: 0.075941\n",
            "Train Epoch: 5 [11520/60000 (19%)]\tLoss: 0.052684\n",
            "Train Epoch: 5 [12160/60000 (20%)]\tLoss: 0.045009\n",
            "Train Epoch: 5 [12800/60000 (21%)]\tLoss: 0.105398\n",
            "Train Epoch: 5 [13440/60000 (22%)]\tLoss: 0.085161\n",
            "Train Epoch: 5 [14080/60000 (23%)]\tLoss: 0.034647\n",
            "Train Epoch: 5 [14720/60000 (25%)]\tLoss: 0.038223\n",
            "Train Epoch: 5 [15360/60000 (26%)]\tLoss: 0.091444\n",
            "Train Epoch: 5 [16000/60000 (27%)]\tLoss: 0.206524\n",
            "Train Epoch: 5 [16640/60000 (28%)]\tLoss: 0.077904\n",
            "Train Epoch: 5 [17280/60000 (29%)]\tLoss: 0.180032\n",
            "Train Epoch: 5 [17920/60000 (30%)]\tLoss: 0.023263\n",
            "Train Epoch: 5 [18560/60000 (31%)]\tLoss: 0.104790\n",
            "Train Epoch: 5 [19200/60000 (32%)]\tLoss: 0.071389\n",
            "Train Epoch: 5 [19840/60000 (33%)]\tLoss: 0.049471\n",
            "Train Epoch: 5 [20480/60000 (34%)]\tLoss: 0.129754\n",
            "Train Epoch: 5 [21120/60000 (35%)]\tLoss: 0.014205\n",
            "Train Epoch: 5 [21760/60000 (36%)]\tLoss: 0.199529\n",
            "Train Epoch: 5 [22400/60000 (37%)]\tLoss: 0.045822\n",
            "Train Epoch: 5 [23040/60000 (38%)]\tLoss: 0.076844\n",
            "Train Epoch: 5 [23680/60000 (39%)]\tLoss: 0.115315\n",
            "Train Epoch: 5 [24320/60000 (41%)]\tLoss: 0.116103\n",
            "Train Epoch: 5 [24960/60000 (42%)]\tLoss: 0.176989\n",
            "Train Epoch: 5 [25600/60000 (43%)]\tLoss: 0.179244\n",
            "Train Epoch: 5 [26240/60000 (44%)]\tLoss: 0.092432\n",
            "Train Epoch: 5 [26880/60000 (45%)]\tLoss: 0.103996\n",
            "Train Epoch: 5 [27520/60000 (46%)]\tLoss: 0.196152\n",
            "Train Epoch: 5 [28160/60000 (47%)]\tLoss: 0.061300\n",
            "Train Epoch: 5 [28800/60000 (48%)]\tLoss: 0.062816\n",
            "Train Epoch: 5 [29440/60000 (49%)]\tLoss: 0.050239\n",
            "Train Epoch: 5 [30080/60000 (50%)]\tLoss: 0.109479\n",
            "Train Epoch: 5 [30720/60000 (51%)]\tLoss: 0.030454\n",
            "Train Epoch: 5 [31360/60000 (52%)]\tLoss: 0.103306\n",
            "Train Epoch: 5 [32000/60000 (53%)]\tLoss: 0.103834\n",
            "Train Epoch: 5 [32640/60000 (54%)]\tLoss: 0.037862\n",
            "Train Epoch: 5 [33280/60000 (55%)]\tLoss: 0.127243\n",
            "Train Epoch: 5 [33920/60000 (57%)]\tLoss: 0.152981\n",
            "Train Epoch: 5 [34560/60000 (58%)]\tLoss: 0.151749\n",
            "Train Epoch: 5 [35200/60000 (59%)]\tLoss: 0.048962\n",
            "Train Epoch: 5 [35840/60000 (60%)]\tLoss: 0.077931\n",
            "Train Epoch: 5 [36480/60000 (61%)]\tLoss: 0.092148\n",
            "Train Epoch: 5 [37120/60000 (62%)]\tLoss: 0.108176\n",
            "Train Epoch: 5 [37760/60000 (63%)]\tLoss: 0.081546\n",
            "Train Epoch: 5 [38400/60000 (64%)]\tLoss: 0.163598\n",
            "Train Epoch: 5 [39040/60000 (65%)]\tLoss: 0.025135\n",
            "Train Epoch: 5 [39680/60000 (66%)]\tLoss: 0.041150\n",
            "Train Epoch: 5 [40320/60000 (67%)]\tLoss: 0.038384\n",
            "Train Epoch: 5 [40960/60000 (68%)]\tLoss: 0.010035\n",
            "Train Epoch: 5 [41600/60000 (69%)]\tLoss: 0.079661\n",
            "Train Epoch: 5 [42240/60000 (70%)]\tLoss: 0.128256\n",
            "Train Epoch: 5 [42880/60000 (71%)]\tLoss: 0.067410\n",
            "Train Epoch: 5 [43520/60000 (72%)]\tLoss: 0.027473\n",
            "Train Epoch: 5 [44160/60000 (74%)]\tLoss: 0.127874\n",
            "Train Epoch: 5 [44800/60000 (75%)]\tLoss: 0.030886\n",
            "Train Epoch: 5 [45440/60000 (76%)]\tLoss: 0.055276\n",
            "Train Epoch: 5 [46080/60000 (77%)]\tLoss: 0.073404\n",
            "Train Epoch: 5 [46720/60000 (78%)]\tLoss: 0.027720\n",
            "Train Epoch: 5 [47360/60000 (79%)]\tLoss: 0.059249\n",
            "Train Epoch: 5 [48000/60000 (80%)]\tLoss: 0.049811\n",
            "Train Epoch: 5 [48640/60000 (81%)]\tLoss: 0.120940\n",
            "Train Epoch: 5 [49280/60000 (82%)]\tLoss: 0.057356\n",
            "Train Epoch: 5 [49920/60000 (83%)]\tLoss: 0.094895\n",
            "Train Epoch: 5 [50560/60000 (84%)]\tLoss: 0.040918\n",
            "Train Epoch: 5 [51200/60000 (85%)]\tLoss: 0.220571\n",
            "Train Epoch: 5 [51840/60000 (86%)]\tLoss: 0.133770\n",
            "Train Epoch: 5 [52480/60000 (87%)]\tLoss: 0.019554\n",
            "Train Epoch: 5 [53120/60000 (88%)]\tLoss: 0.176866\n",
            "Train Epoch: 5 [53760/60000 (90%)]\tLoss: 0.094369\n",
            "Train Epoch: 5 [54400/60000 (91%)]\tLoss: 0.038989\n",
            "Train Epoch: 5 [55040/60000 (92%)]\tLoss: 0.056617\n",
            "Train Epoch: 5 [55680/60000 (93%)]\tLoss: 0.031850\n",
            "Train Epoch: 5 [56320/60000 (94%)]\tLoss: 0.039426\n",
            "Train Epoch: 5 [56960/60000 (95%)]\tLoss: 0.077158\n",
            "Train Epoch: 5 [57600/60000 (96%)]\tLoss: 0.096758\n",
            "Train Epoch: 5 [58240/60000 (97%)]\tLoss: 0.073322\n",
            "Train Epoch: 5 [58880/60000 (98%)]\tLoss: 0.139503\n",
            "Train Epoch: 5 [59520/60000 (99%)]\tLoss: 0.026858\n",
            "\n",
            "Test set: Average loss: 0.0753, Accuracy: 9769/10000 (98%)\n",
            "\n",
            "Train Epoch: 6 [0/60000 (0%)]\tLoss: 0.060722\n",
            "Train Epoch: 6 [640/60000 (1%)]\tLoss: 0.024021\n",
            "Train Epoch: 6 [1280/60000 (2%)]\tLoss: 0.026877\n",
            "Train Epoch: 6 [1920/60000 (3%)]\tLoss: 0.043183\n",
            "Train Epoch: 6 [2560/60000 (4%)]\tLoss: 0.047466\n",
            "Train Epoch: 6 [3200/60000 (5%)]\tLoss: 0.061620\n",
            "Train Epoch: 6 [3840/60000 (6%)]\tLoss: 0.190552\n",
            "Train Epoch: 6 [4480/60000 (7%)]\tLoss: 0.075858\n",
            "Train Epoch: 6 [5120/60000 (9%)]\tLoss: 0.053455\n",
            "Train Epoch: 6 [5760/60000 (10%)]\tLoss: 0.081668\n",
            "Train Epoch: 6 [6400/60000 (11%)]\tLoss: 0.096353\n",
            "Train Epoch: 6 [7040/60000 (12%)]\tLoss: 0.052968\n",
            "Train Epoch: 6 [7680/60000 (13%)]\tLoss: 0.089977\n",
            "Train Epoch: 6 [8320/60000 (14%)]\tLoss: 0.029021\n",
            "Train Epoch: 6 [8960/60000 (15%)]\tLoss: 0.091060\n",
            "Train Epoch: 6 [9600/60000 (16%)]\tLoss: 0.011840\n",
            "Train Epoch: 6 [10240/60000 (17%)]\tLoss: 0.064180\n",
            "Train Epoch: 6 [10880/60000 (18%)]\tLoss: 0.149672\n",
            "Train Epoch: 6 [11520/60000 (19%)]\tLoss: 0.052070\n",
            "Train Epoch: 6 [12160/60000 (20%)]\tLoss: 0.152788\n",
            "Train Epoch: 6 [12800/60000 (21%)]\tLoss: 0.100305\n",
            "Train Epoch: 6 [13440/60000 (22%)]\tLoss: 0.030335\n",
            "Train Epoch: 6 [14080/60000 (23%)]\tLoss: 0.166600\n",
            "Train Epoch: 6 [14720/60000 (25%)]\tLoss: 0.011767\n",
            "Train Epoch: 6 [15360/60000 (26%)]\tLoss: 0.114592\n",
            "Train Epoch: 6 [16000/60000 (27%)]\tLoss: 0.126512\n",
            "Train Epoch: 6 [16640/60000 (28%)]\tLoss: 0.027133\n",
            "Train Epoch: 6 [17280/60000 (29%)]\tLoss: 0.030810\n",
            "Train Epoch: 6 [17920/60000 (30%)]\tLoss: 0.078185\n",
            "Train Epoch: 6 [18560/60000 (31%)]\tLoss: 0.042244\n",
            "Train Epoch: 6 [19200/60000 (32%)]\tLoss: 0.035972\n",
            "Train Epoch: 6 [19840/60000 (33%)]\tLoss: 0.091233\n",
            "Train Epoch: 6 [20480/60000 (34%)]\tLoss: 0.104643\n",
            "Train Epoch: 6 [21120/60000 (35%)]\tLoss: 0.067829\n",
            "Train Epoch: 6 [21760/60000 (36%)]\tLoss: 0.064205\n",
            "Train Epoch: 6 [22400/60000 (37%)]\tLoss: 0.014070\n",
            "Train Epoch: 6 [23040/60000 (38%)]\tLoss: 0.131140\n",
            "Train Epoch: 6 [23680/60000 (39%)]\tLoss: 0.015728\n",
            "Train Epoch: 6 [24320/60000 (41%)]\tLoss: 0.098719\n",
            "Train Epoch: 6 [24960/60000 (42%)]\tLoss: 0.045303\n",
            "Train Epoch: 6 [25600/60000 (43%)]\tLoss: 0.151687\n",
            "Train Epoch: 6 [26240/60000 (44%)]\tLoss: 0.142028\n",
            "Train Epoch: 6 [26880/60000 (45%)]\tLoss: 0.069014\n",
            "Train Epoch: 6 [27520/60000 (46%)]\tLoss: 0.015924\n",
            "Train Epoch: 6 [28160/60000 (47%)]\tLoss: 0.009332\n",
            "Train Epoch: 6 [28800/60000 (48%)]\tLoss: 0.129508\n",
            "Train Epoch: 6 [29440/60000 (49%)]\tLoss: 0.041025\n",
            "Train Epoch: 6 [30080/60000 (50%)]\tLoss: 0.020407\n",
            "Train Epoch: 6 [30720/60000 (51%)]\tLoss: 0.118811\n",
            "Train Epoch: 6 [31360/60000 (52%)]\tLoss: 0.083919\n",
            "Train Epoch: 6 [32000/60000 (53%)]\tLoss: 0.104434\n",
            "Train Epoch: 6 [32640/60000 (54%)]\tLoss: 0.259408\n",
            "Train Epoch: 6 [33280/60000 (55%)]\tLoss: 0.079986\n",
            "Train Epoch: 6 [33920/60000 (57%)]\tLoss: 0.077007\n",
            "Train Epoch: 6 [34560/60000 (58%)]\tLoss: 0.050126\n",
            "Train Epoch: 6 [35200/60000 (59%)]\tLoss: 0.120055\n",
            "Train Epoch: 6 [35840/60000 (60%)]\tLoss: 0.089806\n",
            "Train Epoch: 6 [36480/60000 (61%)]\tLoss: 0.006869\n",
            "Train Epoch: 6 [37120/60000 (62%)]\tLoss: 0.020878\n",
            "Train Epoch: 6 [37760/60000 (63%)]\tLoss: 0.056314\n",
            "Train Epoch: 6 [38400/60000 (64%)]\tLoss: 0.040427\n",
            "Train Epoch: 6 [39040/60000 (65%)]\tLoss: 0.043028\n",
            "Train Epoch: 6 [39680/60000 (66%)]\tLoss: 0.012910\n",
            "Train Epoch: 6 [40320/60000 (67%)]\tLoss: 0.094069\n",
            "Train Epoch: 6 [40960/60000 (68%)]\tLoss: 0.021299\n",
            "Train Epoch: 6 [41600/60000 (69%)]\tLoss: 0.028247\n",
            "Train Epoch: 6 [42240/60000 (70%)]\tLoss: 0.125916\n",
            "Train Epoch: 6 [42880/60000 (71%)]\tLoss: 0.035786\n",
            "Train Epoch: 6 [43520/60000 (72%)]\tLoss: 0.042844\n",
            "Train Epoch: 6 [44160/60000 (74%)]\tLoss: 0.042969\n",
            "Train Epoch: 6 [44800/60000 (75%)]\tLoss: 0.103689\n",
            "Train Epoch: 6 [45440/60000 (76%)]\tLoss: 0.099759\n",
            "Train Epoch: 6 [46080/60000 (77%)]\tLoss: 0.014257\n",
            "Train Epoch: 6 [46720/60000 (78%)]\tLoss: 0.124478\n",
            "Train Epoch: 6 [47360/60000 (79%)]\tLoss: 0.018655\n",
            "Train Epoch: 6 [48000/60000 (80%)]\tLoss: 0.209367\n",
            "Train Epoch: 6 [48640/60000 (81%)]\tLoss: 0.016631\n",
            "Train Epoch: 6 [49280/60000 (82%)]\tLoss: 0.140448\n",
            "Train Epoch: 6 [49920/60000 (83%)]\tLoss: 0.178001\n",
            "Train Epoch: 6 [50560/60000 (84%)]\tLoss: 0.138673\n",
            "Train Epoch: 6 [51200/60000 (85%)]\tLoss: 0.108537\n",
            "Train Epoch: 6 [51840/60000 (86%)]\tLoss: 0.020896\n",
            "Train Epoch: 6 [52480/60000 (87%)]\tLoss: 0.054612\n",
            "Train Epoch: 6 [53120/60000 (88%)]\tLoss: 0.122254\n",
            "Train Epoch: 6 [53760/60000 (90%)]\tLoss: 0.084782\n",
            "Train Epoch: 6 [54400/60000 (91%)]\tLoss: 0.074812\n",
            "Train Epoch: 6 [55040/60000 (92%)]\tLoss: 0.149980\n",
            "Train Epoch: 6 [55680/60000 (93%)]\tLoss: 0.092113\n",
            "Train Epoch: 6 [56320/60000 (94%)]\tLoss: 0.154395\n",
            "Train Epoch: 6 [56960/60000 (95%)]\tLoss: 0.102970\n",
            "Train Epoch: 6 [57600/60000 (96%)]\tLoss: 0.110788\n",
            "Train Epoch: 6 [58240/60000 (97%)]\tLoss: 0.074219\n",
            "Train Epoch: 6 [58880/60000 (98%)]\tLoss: 0.025322\n",
            "Train Epoch: 6 [59520/60000 (99%)]\tLoss: 0.020131\n",
            "\n",
            "Test set: Average loss: 0.0623, Accuracy: 9808/10000 (98%)\n",
            "\n",
            "Train Epoch: 7 [0/60000 (0%)]\tLoss: 0.108503\n",
            "Train Epoch: 7 [640/60000 (1%)]\tLoss: 0.215051\n",
            "Train Epoch: 7 [1280/60000 (2%)]\tLoss: 0.026165\n",
            "Train Epoch: 7 [1920/60000 (3%)]\tLoss: 0.033977\n",
            "Train Epoch: 7 [2560/60000 (4%)]\tLoss: 0.078099\n",
            "Train Epoch: 7 [3200/60000 (5%)]\tLoss: 0.026744\n",
            "Train Epoch: 7 [3840/60000 (6%)]\tLoss: 0.100142\n",
            "Train Epoch: 7 [4480/60000 (7%)]\tLoss: 0.028558\n",
            "Train Epoch: 7 [5120/60000 (9%)]\tLoss: 0.176392\n",
            "Train Epoch: 7 [5760/60000 (10%)]\tLoss: 0.012035\n",
            "Train Epoch: 7 [6400/60000 (11%)]\tLoss: 0.198382\n",
            "Train Epoch: 7 [7040/60000 (12%)]\tLoss: 0.082290\n",
            "Train Epoch: 7 [7680/60000 (13%)]\tLoss: 0.045982\n",
            "Train Epoch: 7 [8320/60000 (14%)]\tLoss: 0.094043\n",
            "Train Epoch: 7 [8960/60000 (15%)]\tLoss: 0.133519\n",
            "Train Epoch: 7 [9600/60000 (16%)]\tLoss: 0.064100\n",
            "Train Epoch: 7 [10240/60000 (17%)]\tLoss: 0.038548\n",
            "Train Epoch: 7 [10880/60000 (18%)]\tLoss: 0.021994\n",
            "Train Epoch: 7 [11520/60000 (19%)]\tLoss: 0.049948\n",
            "Train Epoch: 7 [12160/60000 (20%)]\tLoss: 0.074676\n",
            "Train Epoch: 7 [12800/60000 (21%)]\tLoss: 0.027240\n",
            "Train Epoch: 7 [13440/60000 (22%)]\tLoss: 0.045922\n",
            "Train Epoch: 7 [14080/60000 (23%)]\tLoss: 0.064677\n",
            "Train Epoch: 7 [14720/60000 (25%)]\tLoss: 0.091510\n",
            "Train Epoch: 7 [15360/60000 (26%)]\tLoss: 0.042960\n",
            "Train Epoch: 7 [16000/60000 (27%)]\tLoss: 0.013888\n",
            "Train Epoch: 7 [16640/60000 (28%)]\tLoss: 0.262929\n",
            "Train Epoch: 7 [17280/60000 (29%)]\tLoss: 0.041292\n",
            "Train Epoch: 7 [17920/60000 (30%)]\tLoss: 0.024021\n",
            "Train Epoch: 7 [18560/60000 (31%)]\tLoss: 0.066922\n",
            "Train Epoch: 7 [19200/60000 (32%)]\tLoss: 0.055943\n",
            "Train Epoch: 7 [19840/60000 (33%)]\tLoss: 0.038927\n",
            "Train Epoch: 7 [20480/60000 (34%)]\tLoss: 0.032257\n",
            "Train Epoch: 7 [21120/60000 (35%)]\tLoss: 0.209744\n",
            "Train Epoch: 7 [21760/60000 (36%)]\tLoss: 0.034580\n",
            "Train Epoch: 7 [22400/60000 (37%)]\tLoss: 0.108073\n",
            "Train Epoch: 7 [23040/60000 (38%)]\tLoss: 0.039935\n",
            "Train Epoch: 7 [23680/60000 (39%)]\tLoss: 0.128068\n",
            "Train Epoch: 7 [24320/60000 (41%)]\tLoss: 0.126503\n",
            "Train Epoch: 7 [24960/60000 (42%)]\tLoss: 0.094011\n",
            "Train Epoch: 7 [25600/60000 (43%)]\tLoss: 0.033039\n",
            "Train Epoch: 7 [26240/60000 (44%)]\tLoss: 0.015258\n",
            "Train Epoch: 7 [26880/60000 (45%)]\tLoss: 0.037801\n",
            "Train Epoch: 7 [27520/60000 (46%)]\tLoss: 0.068582\n",
            "Train Epoch: 7 [28160/60000 (47%)]\tLoss: 0.060495\n",
            "Train Epoch: 7 [28800/60000 (48%)]\tLoss: 0.020257\n",
            "Train Epoch: 7 [29440/60000 (49%)]\tLoss: 0.037714\n",
            "Train Epoch: 7 [30080/60000 (50%)]\tLoss: 0.027425\n",
            "Train Epoch: 7 [30720/60000 (51%)]\tLoss: 0.120959\n",
            "Train Epoch: 7 [31360/60000 (52%)]\tLoss: 0.030958\n",
            "Train Epoch: 7 [32000/60000 (53%)]\tLoss: 0.018413\n",
            "Train Epoch: 7 [32640/60000 (54%)]\tLoss: 0.015411\n",
            "Train Epoch: 7 [33280/60000 (55%)]\tLoss: 0.050983\n",
            "Train Epoch: 7 [33920/60000 (57%)]\tLoss: 0.064766\n",
            "Train Epoch: 7 [34560/60000 (58%)]\tLoss: 0.096504\n",
            "Train Epoch: 7 [35200/60000 (59%)]\tLoss: 0.045053\n",
            "Train Epoch: 7 [35840/60000 (60%)]\tLoss: 0.094380\n",
            "Train Epoch: 7 [36480/60000 (61%)]\tLoss: 0.068654\n",
            "Train Epoch: 7 [37120/60000 (62%)]\tLoss: 0.039040\n",
            "Train Epoch: 7 [37760/60000 (63%)]\tLoss: 0.054541\n",
            "Train Epoch: 7 [38400/60000 (64%)]\tLoss: 0.124124\n",
            "Train Epoch: 7 [39040/60000 (65%)]\tLoss: 0.029738\n",
            "Train Epoch: 7 [39680/60000 (66%)]\tLoss: 0.131338\n",
            "Train Epoch: 7 [40320/60000 (67%)]\tLoss: 0.021367\n",
            "Train Epoch: 7 [40960/60000 (68%)]\tLoss: 0.152742\n",
            "Train Epoch: 7 [41600/60000 (69%)]\tLoss: 0.182163\n",
            "Train Epoch: 7 [42240/60000 (70%)]\tLoss: 0.025519\n",
            "Train Epoch: 7 [42880/60000 (71%)]\tLoss: 0.114539\n",
            "Train Epoch: 7 [43520/60000 (72%)]\tLoss: 0.021740\n",
            "Train Epoch: 7 [44160/60000 (74%)]\tLoss: 0.004694\n",
            "Train Epoch: 7 [44800/60000 (75%)]\tLoss: 0.017625\n",
            "Train Epoch: 7 [45440/60000 (76%)]\tLoss: 0.015310\n",
            "Train Epoch: 7 [46080/60000 (77%)]\tLoss: 0.034677\n",
            "Train Epoch: 7 [46720/60000 (78%)]\tLoss: 0.052405\n",
            "Train Epoch: 7 [47360/60000 (79%)]\tLoss: 0.094078\n",
            "Train Epoch: 7 [48000/60000 (80%)]\tLoss: 0.024215\n",
            "Train Epoch: 7 [48640/60000 (81%)]\tLoss: 0.053262\n",
            "Train Epoch: 7 [49280/60000 (82%)]\tLoss: 0.101183\n",
            "Train Epoch: 7 [49920/60000 (83%)]\tLoss: 0.055418\n",
            "Train Epoch: 7 [50560/60000 (84%)]\tLoss: 0.062833\n",
            "Train Epoch: 7 [51200/60000 (85%)]\tLoss: 0.026187\n",
            "Train Epoch: 7 [51840/60000 (86%)]\tLoss: 0.168430\n",
            "Train Epoch: 7 [52480/60000 (87%)]\tLoss: 0.149155\n",
            "Train Epoch: 7 [53120/60000 (88%)]\tLoss: 0.067694\n",
            "Train Epoch: 7 [53760/60000 (90%)]\tLoss: 0.228531\n",
            "Train Epoch: 7 [54400/60000 (91%)]\tLoss: 0.016891\n",
            "Train Epoch: 7 [55040/60000 (92%)]\tLoss: 0.052892\n",
            "Train Epoch: 7 [55680/60000 (93%)]\tLoss: 0.129248\n",
            "Train Epoch: 7 [56320/60000 (94%)]\tLoss: 0.075041\n",
            "Train Epoch: 7 [56960/60000 (95%)]\tLoss: 0.016949\n",
            "Train Epoch: 7 [57600/60000 (96%)]\tLoss: 0.048606\n",
            "Train Epoch: 7 [58240/60000 (97%)]\tLoss: 0.051124\n",
            "Train Epoch: 7 [58880/60000 (98%)]\tLoss: 0.039578\n",
            "Train Epoch: 7 [59520/60000 (99%)]\tLoss: 0.066505\n",
            "\n",
            "Test set: Average loss: 0.0598, Accuracy: 9806/10000 (98%)\n",
            "\n",
            "Train Epoch: 8 [0/60000 (0%)]\tLoss: 0.033736\n",
            "Train Epoch: 8 [640/60000 (1%)]\tLoss: 0.162491\n",
            "Train Epoch: 8 [1280/60000 (2%)]\tLoss: 0.033037\n",
            "Train Epoch: 8 [1920/60000 (3%)]\tLoss: 0.069732\n",
            "Train Epoch: 8 [2560/60000 (4%)]\tLoss: 0.014201\n",
            "Train Epoch: 8 [3200/60000 (5%)]\tLoss: 0.118757\n",
            "Train Epoch: 8 [3840/60000 (6%)]\tLoss: 0.091042\n",
            "Train Epoch: 8 [4480/60000 (7%)]\tLoss: 0.058755\n",
            "Train Epoch: 8 [5120/60000 (9%)]\tLoss: 0.118115\n",
            "Train Epoch: 8 [5760/60000 (10%)]\tLoss: 0.166913\n",
            "Train Epoch: 8 [6400/60000 (11%)]\tLoss: 0.035349\n",
            "Train Epoch: 8 [7040/60000 (12%)]\tLoss: 0.048139\n",
            "Train Epoch: 8 [7680/60000 (13%)]\tLoss: 0.008143\n",
            "Train Epoch: 8 [8320/60000 (14%)]\tLoss: 0.126698\n",
            "Train Epoch: 8 [8960/60000 (15%)]\tLoss: 0.054272\n",
            "Train Epoch: 8 [9600/60000 (16%)]\tLoss: 0.382790\n",
            "Train Epoch: 8 [10240/60000 (17%)]\tLoss: 0.051970\n",
            "Train Epoch: 8 [10880/60000 (18%)]\tLoss: 0.029829\n",
            "Train Epoch: 8 [11520/60000 (19%)]\tLoss: 0.054177\n",
            "Train Epoch: 8 [12160/60000 (20%)]\tLoss: 0.107212\n",
            "Train Epoch: 8 [12800/60000 (21%)]\tLoss: 0.039553\n",
            "Train Epoch: 8 [13440/60000 (22%)]\tLoss: 0.198912\n",
            "Train Epoch: 8 [14080/60000 (23%)]\tLoss: 0.014344\n",
            "Train Epoch: 8 [14720/60000 (25%)]\tLoss: 0.037392\n",
            "Train Epoch: 8 [15360/60000 (26%)]\tLoss: 0.212349\n",
            "Train Epoch: 8 [16000/60000 (27%)]\tLoss: 0.176374\n",
            "Train Epoch: 8 [16640/60000 (28%)]\tLoss: 0.107169\n",
            "Train Epoch: 8 [17280/60000 (29%)]\tLoss: 0.063383\n",
            "Train Epoch: 8 [17920/60000 (30%)]\tLoss: 0.148232\n",
            "Train Epoch: 8 [18560/60000 (31%)]\tLoss: 0.036816\n",
            "Train Epoch: 8 [19200/60000 (32%)]\tLoss: 0.061839\n",
            "Train Epoch: 8 [19840/60000 (33%)]\tLoss: 0.111123\n",
            "Train Epoch: 8 [20480/60000 (34%)]\tLoss: 0.025784\n",
            "Train Epoch: 8 [21120/60000 (35%)]\tLoss: 0.045366\n",
            "Train Epoch: 8 [21760/60000 (36%)]\tLoss: 0.037291\n",
            "Train Epoch: 8 [22400/60000 (37%)]\tLoss: 0.016896\n",
            "Train Epoch: 8 [23040/60000 (38%)]\tLoss: 0.132052\n",
            "Train Epoch: 8 [23680/60000 (39%)]\tLoss: 0.051270\n",
            "Train Epoch: 8 [24320/60000 (41%)]\tLoss: 0.037430\n",
            "Train Epoch: 8 [24960/60000 (42%)]\tLoss: 0.073710\n",
            "Train Epoch: 8 [25600/60000 (43%)]\tLoss: 0.136092\n",
            "Train Epoch: 8 [26240/60000 (44%)]\tLoss: 0.029232\n",
            "Train Epoch: 8 [26880/60000 (45%)]\tLoss: 0.120626\n",
            "Train Epoch: 8 [27520/60000 (46%)]\tLoss: 0.061637\n",
            "Train Epoch: 8 [28160/60000 (47%)]\tLoss: 0.064654\n",
            "Train Epoch: 8 [28800/60000 (48%)]\tLoss: 0.025006\n",
            "Train Epoch: 8 [29440/60000 (49%)]\tLoss: 0.056075\n",
            "Train Epoch: 8 [30080/60000 (50%)]\tLoss: 0.025030\n",
            "Train Epoch: 8 [30720/60000 (51%)]\tLoss: 0.159053\n",
            "Train Epoch: 8 [31360/60000 (52%)]\tLoss: 0.092516\n",
            "Train Epoch: 8 [32000/60000 (53%)]\tLoss: 0.034089\n",
            "Train Epoch: 8 [32640/60000 (54%)]\tLoss: 0.026481\n",
            "Train Epoch: 8 [33280/60000 (55%)]\tLoss: 0.112524\n",
            "Train Epoch: 8 [33920/60000 (57%)]\tLoss: 0.076841\n",
            "Train Epoch: 8 [34560/60000 (58%)]\tLoss: 0.054206\n",
            "Train Epoch: 8 [35200/60000 (59%)]\tLoss: 0.068245\n",
            "Train Epoch: 8 [35840/60000 (60%)]\tLoss: 0.059026\n",
            "Train Epoch: 8 [36480/60000 (61%)]\tLoss: 0.028415\n",
            "Train Epoch: 8 [37120/60000 (62%)]\tLoss: 0.057631\n",
            "Train Epoch: 8 [37760/60000 (63%)]\tLoss: 0.051040\n",
            "Train Epoch: 8 [38400/60000 (64%)]\tLoss: 0.021180\n",
            "Train Epoch: 8 [39040/60000 (65%)]\tLoss: 0.049727\n",
            "Train Epoch: 8 [39680/60000 (66%)]\tLoss: 0.101537\n",
            "Train Epoch: 8 [40320/60000 (67%)]\tLoss: 0.044334\n",
            "Train Epoch: 8 [40960/60000 (68%)]\tLoss: 0.020748\n",
            "Train Epoch: 8 [41600/60000 (69%)]\tLoss: 0.097435\n",
            "Train Epoch: 8 [42240/60000 (70%)]\tLoss: 0.072093\n",
            "Train Epoch: 8 [42880/60000 (71%)]\tLoss: 0.035744\n",
            "Train Epoch: 8 [43520/60000 (72%)]\tLoss: 0.026019\n",
            "Train Epoch: 8 [44160/60000 (74%)]\tLoss: 0.058831\n",
            "Train Epoch: 8 [44800/60000 (75%)]\tLoss: 0.029100\n",
            "Train Epoch: 8 [45440/60000 (76%)]\tLoss: 0.066216\n",
            "Train Epoch: 8 [46080/60000 (77%)]\tLoss: 0.051721\n",
            "Train Epoch: 8 [46720/60000 (78%)]\tLoss: 0.119383\n",
            "Train Epoch: 8 [47360/60000 (79%)]\tLoss: 0.024065\n",
            "Train Epoch: 8 [48000/60000 (80%)]\tLoss: 0.114920\n",
            "Train Epoch: 8 [48640/60000 (81%)]\tLoss: 0.093850\n",
            "Train Epoch: 8 [49280/60000 (82%)]\tLoss: 0.033665\n",
            "Train Epoch: 8 [49920/60000 (83%)]\tLoss: 0.023738\n",
            "Train Epoch: 8 [50560/60000 (84%)]\tLoss: 0.155093\n",
            "Train Epoch: 8 [51200/60000 (85%)]\tLoss: 0.131891\n",
            "Train Epoch: 8 [51840/60000 (86%)]\tLoss: 0.042552\n",
            "Train Epoch: 8 [52480/60000 (87%)]\tLoss: 0.095640\n",
            "Train Epoch: 8 [53120/60000 (88%)]\tLoss: 0.049592\n",
            "Train Epoch: 8 [53760/60000 (90%)]\tLoss: 0.083207\n",
            "Train Epoch: 8 [54400/60000 (91%)]\tLoss: 0.091015\n",
            "Train Epoch: 8 [55040/60000 (92%)]\tLoss: 0.069870\n",
            "Train Epoch: 8 [55680/60000 (93%)]\tLoss: 0.096984\n",
            "Train Epoch: 8 [56320/60000 (94%)]\tLoss: 0.102310\n",
            "Train Epoch: 8 [56960/60000 (95%)]\tLoss: 0.026982\n",
            "Train Epoch: 8 [57600/60000 (96%)]\tLoss: 0.109136\n",
            "Train Epoch: 8 [58240/60000 (97%)]\tLoss: 0.257265\n",
            "Train Epoch: 8 [58880/60000 (98%)]\tLoss: 0.013959\n",
            "Train Epoch: 8 [59520/60000 (99%)]\tLoss: 0.077953\n",
            "\n",
            "Test set: Average loss: 0.0580, Accuracy: 9810/10000 (98%)\n",
            "\n",
            "Train Epoch: 9 [0/60000 (0%)]\tLoss: 0.018022\n",
            "Train Epoch: 9 [640/60000 (1%)]\tLoss: 0.030944\n",
            "Train Epoch: 9 [1280/60000 (2%)]\tLoss: 0.050461\n",
            "Train Epoch: 9 [1920/60000 (3%)]\tLoss: 0.043955\n",
            "Train Epoch: 9 [2560/60000 (4%)]\tLoss: 0.039857\n",
            "Train Epoch: 9 [3200/60000 (5%)]\tLoss: 0.013424\n",
            "Train Epoch: 9 [3840/60000 (6%)]\tLoss: 0.019679\n",
            "Train Epoch: 9 [4480/60000 (7%)]\tLoss: 0.019767\n",
            "Train Epoch: 9 [5120/60000 (9%)]\tLoss: 0.010628\n",
            "Train Epoch: 9 [5760/60000 (10%)]\tLoss: 0.102996\n",
            "Train Epoch: 9 [6400/60000 (11%)]\tLoss: 0.035332\n",
            "Train Epoch: 9 [7040/60000 (12%)]\tLoss: 0.089117\n",
            "Train Epoch: 9 [7680/60000 (13%)]\tLoss: 0.010489\n",
            "Train Epoch: 9 [8320/60000 (14%)]\tLoss: 0.099117\n",
            "Train Epoch: 9 [8960/60000 (15%)]\tLoss: 0.059779\n",
            "Train Epoch: 9 [9600/60000 (16%)]\tLoss: 0.012047\n",
            "Train Epoch: 9 [10240/60000 (17%)]\tLoss: 0.050508\n",
            "Train Epoch: 9 [10880/60000 (18%)]\tLoss: 0.010481\n",
            "Train Epoch: 9 [11520/60000 (19%)]\tLoss: 0.028683\n",
            "Train Epoch: 9 [12160/60000 (20%)]\tLoss: 0.006939\n",
            "Train Epoch: 9 [12800/60000 (21%)]\tLoss: 0.049714\n",
            "Train Epoch: 9 [13440/60000 (22%)]\tLoss: 0.044051\n",
            "Train Epoch: 9 [14080/60000 (23%)]\tLoss: 0.024561\n",
            "Train Epoch: 9 [14720/60000 (25%)]\tLoss: 0.030152\n",
            "Train Epoch: 9 [15360/60000 (26%)]\tLoss: 0.067237\n",
            "Train Epoch: 9 [16000/60000 (27%)]\tLoss: 0.032724\n",
            "Train Epoch: 9 [16640/60000 (28%)]\tLoss: 0.096959\n",
            "Train Epoch: 9 [17280/60000 (29%)]\tLoss: 0.099438\n",
            "Train Epoch: 9 [17920/60000 (30%)]\tLoss: 0.034223\n",
            "Train Epoch: 9 [18560/60000 (31%)]\tLoss: 0.018620\n",
            "Train Epoch: 9 [19200/60000 (32%)]\tLoss: 0.031698\n",
            "Train Epoch: 9 [19840/60000 (33%)]\tLoss: 0.105465\n",
            "Train Epoch: 9 [20480/60000 (34%)]\tLoss: 0.160693\n",
            "Train Epoch: 9 [21120/60000 (35%)]\tLoss: 0.007261\n",
            "Train Epoch: 9 [21760/60000 (36%)]\tLoss: 0.049149\n",
            "Train Epoch: 9 [22400/60000 (37%)]\tLoss: 0.012264\n",
            "Train Epoch: 9 [23040/60000 (38%)]\tLoss: 0.017753\n",
            "Train Epoch: 9 [23680/60000 (39%)]\tLoss: 0.160281\n",
            "Train Epoch: 9 [24320/60000 (41%)]\tLoss: 0.038540\n",
            "Train Epoch: 9 [24960/60000 (42%)]\tLoss: 0.082450\n",
            "Train Epoch: 9 [25600/60000 (43%)]\tLoss: 0.030454\n",
            "Train Epoch: 9 [26240/60000 (44%)]\tLoss: 0.039656\n",
            "Train Epoch: 9 [26880/60000 (45%)]\tLoss: 0.060766\n",
            "Train Epoch: 9 [27520/60000 (46%)]\tLoss: 0.041223\n",
            "Train Epoch: 9 [28160/60000 (47%)]\tLoss: 0.096487\n",
            "Train Epoch: 9 [28800/60000 (48%)]\tLoss: 0.057710\n",
            "Train Epoch: 9 [29440/60000 (49%)]\tLoss: 0.011886\n",
            "Train Epoch: 9 [30080/60000 (50%)]\tLoss: 0.030830\n",
            "Train Epoch: 9 [30720/60000 (51%)]\tLoss: 0.052442\n",
            "Train Epoch: 9 [31360/60000 (52%)]\tLoss: 0.021016\n",
            "Train Epoch: 9 [32000/60000 (53%)]\tLoss: 0.105618\n",
            "Train Epoch: 9 [32640/60000 (54%)]\tLoss: 0.042018\n",
            "Train Epoch: 9 [33280/60000 (55%)]\tLoss: 0.018960\n",
            "Train Epoch: 9 [33920/60000 (57%)]\tLoss: 0.129290\n",
            "Train Epoch: 9 [34560/60000 (58%)]\tLoss: 0.063004\n",
            "Train Epoch: 9 [35200/60000 (59%)]\tLoss: 0.114938\n",
            "Train Epoch: 9 [35840/60000 (60%)]\tLoss: 0.242500\n",
            "Train Epoch: 9 [36480/60000 (61%)]\tLoss: 0.080196\n",
            "Train Epoch: 9 [37120/60000 (62%)]\tLoss: 0.026486\n",
            "Train Epoch: 9 [37760/60000 (63%)]\tLoss: 0.032142\n",
            "Train Epoch: 9 [38400/60000 (64%)]\tLoss: 0.071030\n",
            "Train Epoch: 9 [39040/60000 (65%)]\tLoss: 0.038344\n",
            "Train Epoch: 9 [39680/60000 (66%)]\tLoss: 0.023700\n",
            "Train Epoch: 9 [40320/60000 (67%)]\tLoss: 0.037731\n",
            "Train Epoch: 9 [40960/60000 (68%)]\tLoss: 0.073901\n",
            "Train Epoch: 9 [41600/60000 (69%)]\tLoss: 0.048489\n",
            "Train Epoch: 9 [42240/60000 (70%)]\tLoss: 0.040711\n",
            "Train Epoch: 9 [42880/60000 (71%)]\tLoss: 0.035757\n",
            "Train Epoch: 9 [43520/60000 (72%)]\tLoss: 0.021045\n",
            "Train Epoch: 9 [44160/60000 (74%)]\tLoss: 0.016317\n",
            "Train Epoch: 9 [44800/60000 (75%)]\tLoss: 0.098270\n",
            "Train Epoch: 9 [45440/60000 (76%)]\tLoss: 0.038670\n",
            "Train Epoch: 9 [46080/60000 (77%)]\tLoss: 0.005402\n",
            "Train Epoch: 9 [46720/60000 (78%)]\tLoss: 0.020478\n",
            "Train Epoch: 9 [47360/60000 (79%)]\tLoss: 0.030253\n",
            "Train Epoch: 9 [48000/60000 (80%)]\tLoss: 0.009152\n",
            "Train Epoch: 9 [48640/60000 (81%)]\tLoss: 0.058287\n",
            "Train Epoch: 9 [49280/60000 (82%)]\tLoss: 0.017058\n",
            "Train Epoch: 9 [49920/60000 (83%)]\tLoss: 0.029002\n",
            "Train Epoch: 9 [50560/60000 (84%)]\tLoss: 0.006762\n",
            "Train Epoch: 9 [51200/60000 (85%)]\tLoss: 0.007855\n",
            "Train Epoch: 9 [51840/60000 (86%)]\tLoss: 0.035691\n",
            "Train Epoch: 9 [52480/60000 (87%)]\tLoss: 0.030167\n",
            "Train Epoch: 9 [53120/60000 (88%)]\tLoss: 0.043984\n",
            "Train Epoch: 9 [53760/60000 (90%)]\tLoss: 0.170162\n",
            "Train Epoch: 9 [54400/60000 (91%)]\tLoss: 0.049555\n",
            "Train Epoch: 9 [55040/60000 (92%)]\tLoss: 0.016939\n",
            "Train Epoch: 9 [55680/60000 (93%)]\tLoss: 0.037168\n",
            "Train Epoch: 9 [56320/60000 (94%)]\tLoss: 0.271589\n",
            "Train Epoch: 9 [56960/60000 (95%)]\tLoss: 0.030487\n",
            "Train Epoch: 9 [57600/60000 (96%)]\tLoss: 0.024638\n",
            "Train Epoch: 9 [58240/60000 (97%)]\tLoss: 0.034398\n",
            "Train Epoch: 9 [58880/60000 (98%)]\tLoss: 0.085749\n",
            "Train Epoch: 9 [59520/60000 (99%)]\tLoss: 0.072143\n",
            "\n",
            "Test set: Average loss: 0.0554, Accuracy: 9825/10000 (98%)\n",
            "\n"
          ]
        }
      ]
    },
    {
      "cell_type": "code",
      "source": [],
      "metadata": {
        "id": "ENeQHfePPVvp"
      },
      "execution_count": null,
      "outputs": []
    }
  ]
}