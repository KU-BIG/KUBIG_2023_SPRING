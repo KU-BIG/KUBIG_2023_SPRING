{
  "nbformat": 4,
  "nbformat_minor": 0,
  "metadata": {
    "colab": {
      "provenance": [],
      "machine_shape": "hm",
      "collapsed_sections": [
        "QUWwlZwmNVT7",
        "K89NSa3egQQ2",
        "2TL9u4cPDwZH",
        "baA_R29CnsRC",
        "qHJuTKrvm2Z1"
      ]
    },
    "kernelspec": {
      "name": "python3",
      "display_name": "Python 3"
    },
    "language_info": {
      "name": "python"
    },
    "gpuClass": "standard",
    "widgets": {
      "application/vnd.jupyter.widget-state+json": {
        "f725dd6724a543c4ad11051057510cdb": {
          "model_module": "@jupyter-widgets/controls",
          "model_name": "HBoxModel",
          "model_module_version": "1.5.0",
          "state": {
            "_dom_classes": [],
            "_model_module": "@jupyter-widgets/controls",
            "_model_module_version": "1.5.0",
            "_model_name": "HBoxModel",
            "_view_count": null,
            "_view_module": "@jupyter-widgets/controls",
            "_view_module_version": "1.5.0",
            "_view_name": "HBoxView",
            "box_style": "",
            "children": [
              "IPY_MODEL_569fbcbbcdce4f4ca8dc166c1c41f5b6",
              "IPY_MODEL_b977c0390bd74feaac7153effc465afb",
              "IPY_MODEL_17ba873f56ea40769ca40a5c61e95958"
            ],
            "layout": "IPY_MODEL_5b8bbe50a9584e9dbd182323aabe90c5"
          }
        },
        "569fbcbbcdce4f4ca8dc166c1c41f5b6": {
          "model_module": "@jupyter-widgets/controls",
          "model_name": "HTMLModel",
          "model_module_version": "1.5.0",
          "state": {
            "_dom_classes": [],
            "_model_module": "@jupyter-widgets/controls",
            "_model_module_version": "1.5.0",
            "_model_name": "HTMLModel",
            "_view_count": null,
            "_view_module": "@jupyter-widgets/controls",
            "_view_module_version": "1.5.0",
            "_view_name": "HTMLView",
            "description": "",
            "description_tooltip": null,
            "layout": "IPY_MODEL_fea9c9b6b8124ea29e372f4a13f0fcd2",
            "placeholder": "​",
            "style": "IPY_MODEL_27f0344cd0b545589ff15b47732c93e7",
            "value": "100%"
          }
        },
        "b977c0390bd74feaac7153effc465afb": {
          "model_module": "@jupyter-widgets/controls",
          "model_name": "FloatProgressModel",
          "model_module_version": "1.5.0",
          "state": {
            "_dom_classes": [],
            "_model_module": "@jupyter-widgets/controls",
            "_model_module_version": "1.5.0",
            "_model_name": "FloatProgressModel",
            "_view_count": null,
            "_view_module": "@jupyter-widgets/controls",
            "_view_module_version": "1.5.0",
            "_view_name": "ProgressView",
            "bar_style": "success",
            "description": "",
            "description_tooltip": null,
            "layout": "IPY_MODEL_7ec040a236314b64b2741eb1497c5eb1",
            "max": 9912422,
            "min": 0,
            "orientation": "horizontal",
            "style": "IPY_MODEL_0ce0491f48954615b59612fe5a9335a9",
            "value": 9912422
          }
        },
        "17ba873f56ea40769ca40a5c61e95958": {
          "model_module": "@jupyter-widgets/controls",
          "model_name": "HTMLModel",
          "model_module_version": "1.5.0",
          "state": {
            "_dom_classes": [],
            "_model_module": "@jupyter-widgets/controls",
            "_model_module_version": "1.5.0",
            "_model_name": "HTMLModel",
            "_view_count": null,
            "_view_module": "@jupyter-widgets/controls",
            "_view_module_version": "1.5.0",
            "_view_name": "HTMLView",
            "description": "",
            "description_tooltip": null,
            "layout": "IPY_MODEL_579dbeb3aeaa46738d4ff73dbf3d4ca1",
            "placeholder": "​",
            "style": "IPY_MODEL_d9770d4a452d4041865676cfbd1c1bbc",
            "value": " 9912422/9912422 [00:00&lt;00:00, 151336842.00it/s]"
          }
        },
        "5b8bbe50a9584e9dbd182323aabe90c5": {
          "model_module": "@jupyter-widgets/base",
          "model_name": "LayoutModel",
          "model_module_version": "1.2.0",
          "state": {
            "_model_module": "@jupyter-widgets/base",
            "_model_module_version": "1.2.0",
            "_model_name": "LayoutModel",
            "_view_count": null,
            "_view_module": "@jupyter-widgets/base",
            "_view_module_version": "1.2.0",
            "_view_name": "LayoutView",
            "align_content": null,
            "align_items": null,
            "align_self": null,
            "border": null,
            "bottom": null,
            "display": null,
            "flex": null,
            "flex_flow": null,
            "grid_area": null,
            "grid_auto_columns": null,
            "grid_auto_flow": null,
            "grid_auto_rows": null,
            "grid_column": null,
            "grid_gap": null,
            "grid_row": null,
            "grid_template_areas": null,
            "grid_template_columns": null,
            "grid_template_rows": null,
            "height": null,
            "justify_content": null,
            "justify_items": null,
            "left": null,
            "margin": null,
            "max_height": null,
            "max_width": null,
            "min_height": null,
            "min_width": null,
            "object_fit": null,
            "object_position": null,
            "order": null,
            "overflow": null,
            "overflow_x": null,
            "overflow_y": null,
            "padding": null,
            "right": null,
            "top": null,
            "visibility": null,
            "width": null
          }
        },
        "fea9c9b6b8124ea29e372f4a13f0fcd2": {
          "model_module": "@jupyter-widgets/base",
          "model_name": "LayoutModel",
          "model_module_version": "1.2.0",
          "state": {
            "_model_module": "@jupyter-widgets/base",
            "_model_module_version": "1.2.0",
            "_model_name": "LayoutModel",
            "_view_count": null,
            "_view_module": "@jupyter-widgets/base",
            "_view_module_version": "1.2.0",
            "_view_name": "LayoutView",
            "align_content": null,
            "align_items": null,
            "align_self": null,
            "border": null,
            "bottom": null,
            "display": null,
            "flex": null,
            "flex_flow": null,
            "grid_area": null,
            "grid_auto_columns": null,
            "grid_auto_flow": null,
            "grid_auto_rows": null,
            "grid_column": null,
            "grid_gap": null,
            "grid_row": null,
            "grid_template_areas": null,
            "grid_template_columns": null,
            "grid_template_rows": null,
            "height": null,
            "justify_content": null,
            "justify_items": null,
            "left": null,
            "margin": null,
            "max_height": null,
            "max_width": null,
            "min_height": null,
            "min_width": null,
            "object_fit": null,
            "object_position": null,
            "order": null,
            "overflow": null,
            "overflow_x": null,
            "overflow_y": null,
            "padding": null,
            "right": null,
            "top": null,
            "visibility": null,
            "width": null
          }
        },
        "27f0344cd0b545589ff15b47732c93e7": {
          "model_module": "@jupyter-widgets/controls",
          "model_name": "DescriptionStyleModel",
          "model_module_version": "1.5.0",
          "state": {
            "_model_module": "@jupyter-widgets/controls",
            "_model_module_version": "1.5.0",
            "_model_name": "DescriptionStyleModel",
            "_view_count": null,
            "_view_module": "@jupyter-widgets/base",
            "_view_module_version": "1.2.0",
            "_view_name": "StyleView",
            "description_width": ""
          }
        },
        "7ec040a236314b64b2741eb1497c5eb1": {
          "model_module": "@jupyter-widgets/base",
          "model_name": "LayoutModel",
          "model_module_version": "1.2.0",
          "state": {
            "_model_module": "@jupyter-widgets/base",
            "_model_module_version": "1.2.0",
            "_model_name": "LayoutModel",
            "_view_count": null,
            "_view_module": "@jupyter-widgets/base",
            "_view_module_version": "1.2.0",
            "_view_name": "LayoutView",
            "align_content": null,
            "align_items": null,
            "align_self": null,
            "border": null,
            "bottom": null,
            "display": null,
            "flex": null,
            "flex_flow": null,
            "grid_area": null,
            "grid_auto_columns": null,
            "grid_auto_flow": null,
            "grid_auto_rows": null,
            "grid_column": null,
            "grid_gap": null,
            "grid_row": null,
            "grid_template_areas": null,
            "grid_template_columns": null,
            "grid_template_rows": null,
            "height": null,
            "justify_content": null,
            "justify_items": null,
            "left": null,
            "margin": null,
            "max_height": null,
            "max_width": null,
            "min_height": null,
            "min_width": null,
            "object_fit": null,
            "object_position": null,
            "order": null,
            "overflow": null,
            "overflow_x": null,
            "overflow_y": null,
            "padding": null,
            "right": null,
            "top": null,
            "visibility": null,
            "width": null
          }
        },
        "0ce0491f48954615b59612fe5a9335a9": {
          "model_module": "@jupyter-widgets/controls",
          "model_name": "ProgressStyleModel",
          "model_module_version": "1.5.0",
          "state": {
            "_model_module": "@jupyter-widgets/controls",
            "_model_module_version": "1.5.0",
            "_model_name": "ProgressStyleModel",
            "_view_count": null,
            "_view_module": "@jupyter-widgets/base",
            "_view_module_version": "1.2.0",
            "_view_name": "StyleView",
            "bar_color": null,
            "description_width": ""
          }
        },
        "579dbeb3aeaa46738d4ff73dbf3d4ca1": {
          "model_module": "@jupyter-widgets/base",
          "model_name": "LayoutModel",
          "model_module_version": "1.2.0",
          "state": {
            "_model_module": "@jupyter-widgets/base",
            "_model_module_version": "1.2.0",
            "_model_name": "LayoutModel",
            "_view_count": null,
            "_view_module": "@jupyter-widgets/base",
            "_view_module_version": "1.2.0",
            "_view_name": "LayoutView",
            "align_content": null,
            "align_items": null,
            "align_self": null,
            "border": null,
            "bottom": null,
            "display": null,
            "flex": null,
            "flex_flow": null,
            "grid_area": null,
            "grid_auto_columns": null,
            "grid_auto_flow": null,
            "grid_auto_rows": null,
            "grid_column": null,
            "grid_gap": null,
            "grid_row": null,
            "grid_template_areas": null,
            "grid_template_columns": null,
            "grid_template_rows": null,
            "height": null,
            "justify_content": null,
            "justify_items": null,
            "left": null,
            "margin": null,
            "max_height": null,
            "max_width": null,
            "min_height": null,
            "min_width": null,
            "object_fit": null,
            "object_position": null,
            "order": null,
            "overflow": null,
            "overflow_x": null,
            "overflow_y": null,
            "padding": null,
            "right": null,
            "top": null,
            "visibility": null,
            "width": null
          }
        },
        "d9770d4a452d4041865676cfbd1c1bbc": {
          "model_module": "@jupyter-widgets/controls",
          "model_name": "DescriptionStyleModel",
          "model_module_version": "1.5.0",
          "state": {
            "_model_module": "@jupyter-widgets/controls",
            "_model_module_version": "1.5.0",
            "_model_name": "DescriptionStyleModel",
            "_view_count": null,
            "_view_module": "@jupyter-widgets/base",
            "_view_module_version": "1.2.0",
            "_view_name": "StyleView",
            "description_width": ""
          }
        },
        "6d51c6cc77bf4423a2d3d3ebcf3fc762": {
          "model_module": "@jupyter-widgets/controls",
          "model_name": "HBoxModel",
          "model_module_version": "1.5.0",
          "state": {
            "_dom_classes": [],
            "_model_module": "@jupyter-widgets/controls",
            "_model_module_version": "1.5.0",
            "_model_name": "HBoxModel",
            "_view_count": null,
            "_view_module": "@jupyter-widgets/controls",
            "_view_module_version": "1.5.0",
            "_view_name": "HBoxView",
            "box_style": "",
            "children": [
              "IPY_MODEL_21139298c7604300a2d26f7d6c53dbc3",
              "IPY_MODEL_71bddb6c36c3455c948d728ec98da3ab",
              "IPY_MODEL_28e60f9e8d074f278984d8c8cdf2c424"
            ],
            "layout": "IPY_MODEL_8c1d02d05d184b818d9e45308bd410b4"
          }
        },
        "21139298c7604300a2d26f7d6c53dbc3": {
          "model_module": "@jupyter-widgets/controls",
          "model_name": "HTMLModel",
          "model_module_version": "1.5.0",
          "state": {
            "_dom_classes": [],
            "_model_module": "@jupyter-widgets/controls",
            "_model_module_version": "1.5.0",
            "_model_name": "HTMLModel",
            "_view_count": null,
            "_view_module": "@jupyter-widgets/controls",
            "_view_module_version": "1.5.0",
            "_view_name": "HTMLView",
            "description": "",
            "description_tooltip": null,
            "layout": "IPY_MODEL_609d6c68ba5f46bdb73dbefaf0bc444c",
            "placeholder": "​",
            "style": "IPY_MODEL_5cb4ceb2d1c9479b90b7d8655b3d5508",
            "value": "100%"
          }
        },
        "71bddb6c36c3455c948d728ec98da3ab": {
          "model_module": "@jupyter-widgets/controls",
          "model_name": "FloatProgressModel",
          "model_module_version": "1.5.0",
          "state": {
            "_dom_classes": [],
            "_model_module": "@jupyter-widgets/controls",
            "_model_module_version": "1.5.0",
            "_model_name": "FloatProgressModel",
            "_view_count": null,
            "_view_module": "@jupyter-widgets/controls",
            "_view_module_version": "1.5.0",
            "_view_name": "ProgressView",
            "bar_style": "success",
            "description": "",
            "description_tooltip": null,
            "layout": "IPY_MODEL_bb5921b63ef94cc999868d3214174099",
            "max": 28881,
            "min": 0,
            "orientation": "horizontal",
            "style": "IPY_MODEL_c4bfbcb5de1c425b913b7f4df6b82f6a",
            "value": 28881
          }
        },
        "28e60f9e8d074f278984d8c8cdf2c424": {
          "model_module": "@jupyter-widgets/controls",
          "model_name": "HTMLModel",
          "model_module_version": "1.5.0",
          "state": {
            "_dom_classes": [],
            "_model_module": "@jupyter-widgets/controls",
            "_model_module_version": "1.5.0",
            "_model_name": "HTMLModel",
            "_view_count": null,
            "_view_module": "@jupyter-widgets/controls",
            "_view_module_version": "1.5.0",
            "_view_name": "HTMLView",
            "description": "",
            "description_tooltip": null,
            "layout": "IPY_MODEL_c24108f7ba034019b7b02f0ab2bca4c8",
            "placeholder": "​",
            "style": "IPY_MODEL_4ee324f6de8f4ee0b26a88f0c5621ae0",
            "value": " 28881/28881 [00:00&lt;00:00, 2092948.85it/s]"
          }
        },
        "8c1d02d05d184b818d9e45308bd410b4": {
          "model_module": "@jupyter-widgets/base",
          "model_name": "LayoutModel",
          "model_module_version": "1.2.0",
          "state": {
            "_model_module": "@jupyter-widgets/base",
            "_model_module_version": "1.2.0",
            "_model_name": "LayoutModel",
            "_view_count": null,
            "_view_module": "@jupyter-widgets/base",
            "_view_module_version": "1.2.0",
            "_view_name": "LayoutView",
            "align_content": null,
            "align_items": null,
            "align_self": null,
            "border": null,
            "bottom": null,
            "display": null,
            "flex": null,
            "flex_flow": null,
            "grid_area": null,
            "grid_auto_columns": null,
            "grid_auto_flow": null,
            "grid_auto_rows": null,
            "grid_column": null,
            "grid_gap": null,
            "grid_row": null,
            "grid_template_areas": null,
            "grid_template_columns": null,
            "grid_template_rows": null,
            "height": null,
            "justify_content": null,
            "justify_items": null,
            "left": null,
            "margin": null,
            "max_height": null,
            "max_width": null,
            "min_height": null,
            "min_width": null,
            "object_fit": null,
            "object_position": null,
            "order": null,
            "overflow": null,
            "overflow_x": null,
            "overflow_y": null,
            "padding": null,
            "right": null,
            "top": null,
            "visibility": null,
            "width": null
          }
        },
        "609d6c68ba5f46bdb73dbefaf0bc444c": {
          "model_module": "@jupyter-widgets/base",
          "model_name": "LayoutModel",
          "model_module_version": "1.2.0",
          "state": {
            "_model_module": "@jupyter-widgets/base",
            "_model_module_version": "1.2.0",
            "_model_name": "LayoutModel",
            "_view_count": null,
            "_view_module": "@jupyter-widgets/base",
            "_view_module_version": "1.2.0",
            "_view_name": "LayoutView",
            "align_content": null,
            "align_items": null,
            "align_self": null,
            "border": null,
            "bottom": null,
            "display": null,
            "flex": null,
            "flex_flow": null,
            "grid_area": null,
            "grid_auto_columns": null,
            "grid_auto_flow": null,
            "grid_auto_rows": null,
            "grid_column": null,
            "grid_gap": null,
            "grid_row": null,
            "grid_template_areas": null,
            "grid_template_columns": null,
            "grid_template_rows": null,
            "height": null,
            "justify_content": null,
            "justify_items": null,
            "left": null,
            "margin": null,
            "max_height": null,
            "max_width": null,
            "min_height": null,
            "min_width": null,
            "object_fit": null,
            "object_position": null,
            "order": null,
            "overflow": null,
            "overflow_x": null,
            "overflow_y": null,
            "padding": null,
            "right": null,
            "top": null,
            "visibility": null,
            "width": null
          }
        },
        "5cb4ceb2d1c9479b90b7d8655b3d5508": {
          "model_module": "@jupyter-widgets/controls",
          "model_name": "DescriptionStyleModel",
          "model_module_version": "1.5.0",
          "state": {
            "_model_module": "@jupyter-widgets/controls",
            "_model_module_version": "1.5.0",
            "_model_name": "DescriptionStyleModel",
            "_view_count": null,
            "_view_module": "@jupyter-widgets/base",
            "_view_module_version": "1.2.0",
            "_view_name": "StyleView",
            "description_width": ""
          }
        },
        "bb5921b63ef94cc999868d3214174099": {
          "model_module": "@jupyter-widgets/base",
          "model_name": "LayoutModel",
          "model_module_version": "1.2.0",
          "state": {
            "_model_module": "@jupyter-widgets/base",
            "_model_module_version": "1.2.0",
            "_model_name": "LayoutModel",
            "_view_count": null,
            "_view_module": "@jupyter-widgets/base",
            "_view_module_version": "1.2.0",
            "_view_name": "LayoutView",
            "align_content": null,
            "align_items": null,
            "align_self": null,
            "border": null,
            "bottom": null,
            "display": null,
            "flex": null,
            "flex_flow": null,
            "grid_area": null,
            "grid_auto_columns": null,
            "grid_auto_flow": null,
            "grid_auto_rows": null,
            "grid_column": null,
            "grid_gap": null,
            "grid_row": null,
            "grid_template_areas": null,
            "grid_template_columns": null,
            "grid_template_rows": null,
            "height": null,
            "justify_content": null,
            "justify_items": null,
            "left": null,
            "margin": null,
            "max_height": null,
            "max_width": null,
            "min_height": null,
            "min_width": null,
            "object_fit": null,
            "object_position": null,
            "order": null,
            "overflow": null,
            "overflow_x": null,
            "overflow_y": null,
            "padding": null,
            "right": null,
            "top": null,
            "visibility": null,
            "width": null
          }
        },
        "c4bfbcb5de1c425b913b7f4df6b82f6a": {
          "model_module": "@jupyter-widgets/controls",
          "model_name": "ProgressStyleModel",
          "model_module_version": "1.5.0",
          "state": {
            "_model_module": "@jupyter-widgets/controls",
            "_model_module_version": "1.5.0",
            "_model_name": "ProgressStyleModel",
            "_view_count": null,
            "_view_module": "@jupyter-widgets/base",
            "_view_module_version": "1.2.0",
            "_view_name": "StyleView",
            "bar_color": null,
            "description_width": ""
          }
        },
        "c24108f7ba034019b7b02f0ab2bca4c8": {
          "model_module": "@jupyter-widgets/base",
          "model_name": "LayoutModel",
          "model_module_version": "1.2.0",
          "state": {
            "_model_module": "@jupyter-widgets/base",
            "_model_module_version": "1.2.0",
            "_model_name": "LayoutModel",
            "_view_count": null,
            "_view_module": "@jupyter-widgets/base",
            "_view_module_version": "1.2.0",
            "_view_name": "LayoutView",
            "align_content": null,
            "align_items": null,
            "align_self": null,
            "border": null,
            "bottom": null,
            "display": null,
            "flex": null,
            "flex_flow": null,
            "grid_area": null,
            "grid_auto_columns": null,
            "grid_auto_flow": null,
            "grid_auto_rows": null,
            "grid_column": null,
            "grid_gap": null,
            "grid_row": null,
            "grid_template_areas": null,
            "grid_template_columns": null,
            "grid_template_rows": null,
            "height": null,
            "justify_content": null,
            "justify_items": null,
            "left": null,
            "margin": null,
            "max_height": null,
            "max_width": null,
            "min_height": null,
            "min_width": null,
            "object_fit": null,
            "object_position": null,
            "order": null,
            "overflow": null,
            "overflow_x": null,
            "overflow_y": null,
            "padding": null,
            "right": null,
            "top": null,
            "visibility": null,
            "width": null
          }
        },
        "4ee324f6de8f4ee0b26a88f0c5621ae0": {
          "model_module": "@jupyter-widgets/controls",
          "model_name": "DescriptionStyleModel",
          "model_module_version": "1.5.0",
          "state": {
            "_model_module": "@jupyter-widgets/controls",
            "_model_module_version": "1.5.0",
            "_model_name": "DescriptionStyleModel",
            "_view_count": null,
            "_view_module": "@jupyter-widgets/base",
            "_view_module_version": "1.2.0",
            "_view_name": "StyleView",
            "description_width": ""
          }
        },
        "a53b22c5e3d545838f0d674159ab04f0": {
          "model_module": "@jupyter-widgets/controls",
          "model_name": "HBoxModel",
          "model_module_version": "1.5.0",
          "state": {
            "_dom_classes": [],
            "_model_module": "@jupyter-widgets/controls",
            "_model_module_version": "1.5.0",
            "_model_name": "HBoxModel",
            "_view_count": null,
            "_view_module": "@jupyter-widgets/controls",
            "_view_module_version": "1.5.0",
            "_view_name": "HBoxView",
            "box_style": "",
            "children": [
              "IPY_MODEL_ac1fc9edf0354436abcdf8018f771a4b",
              "IPY_MODEL_4a4ef7adc4cd49f193b92f109cf3685b",
              "IPY_MODEL_989d21247a31413094607981ce2fba7c"
            ],
            "layout": "IPY_MODEL_6f765aab77014d98827ffe38ba6c074a"
          }
        },
        "ac1fc9edf0354436abcdf8018f771a4b": {
          "model_module": "@jupyter-widgets/controls",
          "model_name": "HTMLModel",
          "model_module_version": "1.5.0",
          "state": {
            "_dom_classes": [],
            "_model_module": "@jupyter-widgets/controls",
            "_model_module_version": "1.5.0",
            "_model_name": "HTMLModel",
            "_view_count": null,
            "_view_module": "@jupyter-widgets/controls",
            "_view_module_version": "1.5.0",
            "_view_name": "HTMLView",
            "description": "",
            "description_tooltip": null,
            "layout": "IPY_MODEL_25394c55b1db4ec09c7a03ca4fbbfb34",
            "placeholder": "​",
            "style": "IPY_MODEL_fa5199defe524d3eb19f72b499f90184",
            "value": "100%"
          }
        },
        "4a4ef7adc4cd49f193b92f109cf3685b": {
          "model_module": "@jupyter-widgets/controls",
          "model_name": "FloatProgressModel",
          "model_module_version": "1.5.0",
          "state": {
            "_dom_classes": [],
            "_model_module": "@jupyter-widgets/controls",
            "_model_module_version": "1.5.0",
            "_model_name": "FloatProgressModel",
            "_view_count": null,
            "_view_module": "@jupyter-widgets/controls",
            "_view_module_version": "1.5.0",
            "_view_name": "ProgressView",
            "bar_style": "success",
            "description": "",
            "description_tooltip": null,
            "layout": "IPY_MODEL_32d8b100b26c40d6981fed1eb5d206c1",
            "max": 1648877,
            "min": 0,
            "orientation": "horizontal",
            "style": "IPY_MODEL_7559203f8f7d4dc68fba63978213a158",
            "value": 1648877
          }
        },
        "989d21247a31413094607981ce2fba7c": {
          "model_module": "@jupyter-widgets/controls",
          "model_name": "HTMLModel",
          "model_module_version": "1.5.0",
          "state": {
            "_dom_classes": [],
            "_model_module": "@jupyter-widgets/controls",
            "_model_module_version": "1.5.0",
            "_model_name": "HTMLModel",
            "_view_count": null,
            "_view_module": "@jupyter-widgets/controls",
            "_view_module_version": "1.5.0",
            "_view_name": "HTMLView",
            "description": "",
            "description_tooltip": null,
            "layout": "IPY_MODEL_af0831a393a74697b4623df1c30d7026",
            "placeholder": "​",
            "style": "IPY_MODEL_e6e11561184545819ebfc90c9cfa8f65",
            "value": " 1648877/1648877 [00:00&lt;00:00, 44014939.58it/s]"
          }
        },
        "6f765aab77014d98827ffe38ba6c074a": {
          "model_module": "@jupyter-widgets/base",
          "model_name": "LayoutModel",
          "model_module_version": "1.2.0",
          "state": {
            "_model_module": "@jupyter-widgets/base",
            "_model_module_version": "1.2.0",
            "_model_name": "LayoutModel",
            "_view_count": null,
            "_view_module": "@jupyter-widgets/base",
            "_view_module_version": "1.2.0",
            "_view_name": "LayoutView",
            "align_content": null,
            "align_items": null,
            "align_self": null,
            "border": null,
            "bottom": null,
            "display": null,
            "flex": null,
            "flex_flow": null,
            "grid_area": null,
            "grid_auto_columns": null,
            "grid_auto_flow": null,
            "grid_auto_rows": null,
            "grid_column": null,
            "grid_gap": null,
            "grid_row": null,
            "grid_template_areas": null,
            "grid_template_columns": null,
            "grid_template_rows": null,
            "height": null,
            "justify_content": null,
            "justify_items": null,
            "left": null,
            "margin": null,
            "max_height": null,
            "max_width": null,
            "min_height": null,
            "min_width": null,
            "object_fit": null,
            "object_position": null,
            "order": null,
            "overflow": null,
            "overflow_x": null,
            "overflow_y": null,
            "padding": null,
            "right": null,
            "top": null,
            "visibility": null,
            "width": null
          }
        },
        "25394c55b1db4ec09c7a03ca4fbbfb34": {
          "model_module": "@jupyter-widgets/base",
          "model_name": "LayoutModel",
          "model_module_version": "1.2.0",
          "state": {
            "_model_module": "@jupyter-widgets/base",
            "_model_module_version": "1.2.0",
            "_model_name": "LayoutModel",
            "_view_count": null,
            "_view_module": "@jupyter-widgets/base",
            "_view_module_version": "1.2.0",
            "_view_name": "LayoutView",
            "align_content": null,
            "align_items": null,
            "align_self": null,
            "border": null,
            "bottom": null,
            "display": null,
            "flex": null,
            "flex_flow": null,
            "grid_area": null,
            "grid_auto_columns": null,
            "grid_auto_flow": null,
            "grid_auto_rows": null,
            "grid_column": null,
            "grid_gap": null,
            "grid_row": null,
            "grid_template_areas": null,
            "grid_template_columns": null,
            "grid_template_rows": null,
            "height": null,
            "justify_content": null,
            "justify_items": null,
            "left": null,
            "margin": null,
            "max_height": null,
            "max_width": null,
            "min_height": null,
            "min_width": null,
            "object_fit": null,
            "object_position": null,
            "order": null,
            "overflow": null,
            "overflow_x": null,
            "overflow_y": null,
            "padding": null,
            "right": null,
            "top": null,
            "visibility": null,
            "width": null
          }
        },
        "fa5199defe524d3eb19f72b499f90184": {
          "model_module": "@jupyter-widgets/controls",
          "model_name": "DescriptionStyleModel",
          "model_module_version": "1.5.0",
          "state": {
            "_model_module": "@jupyter-widgets/controls",
            "_model_module_version": "1.5.0",
            "_model_name": "DescriptionStyleModel",
            "_view_count": null,
            "_view_module": "@jupyter-widgets/base",
            "_view_module_version": "1.2.0",
            "_view_name": "StyleView",
            "description_width": ""
          }
        },
        "32d8b100b26c40d6981fed1eb5d206c1": {
          "model_module": "@jupyter-widgets/base",
          "model_name": "LayoutModel",
          "model_module_version": "1.2.0",
          "state": {
            "_model_module": "@jupyter-widgets/base",
            "_model_module_version": "1.2.0",
            "_model_name": "LayoutModel",
            "_view_count": null,
            "_view_module": "@jupyter-widgets/base",
            "_view_module_version": "1.2.0",
            "_view_name": "LayoutView",
            "align_content": null,
            "align_items": null,
            "align_self": null,
            "border": null,
            "bottom": null,
            "display": null,
            "flex": null,
            "flex_flow": null,
            "grid_area": null,
            "grid_auto_columns": null,
            "grid_auto_flow": null,
            "grid_auto_rows": null,
            "grid_column": null,
            "grid_gap": null,
            "grid_row": null,
            "grid_template_areas": null,
            "grid_template_columns": null,
            "grid_template_rows": null,
            "height": null,
            "justify_content": null,
            "justify_items": null,
            "left": null,
            "margin": null,
            "max_height": null,
            "max_width": null,
            "min_height": null,
            "min_width": null,
            "object_fit": null,
            "object_position": null,
            "order": null,
            "overflow": null,
            "overflow_x": null,
            "overflow_y": null,
            "padding": null,
            "right": null,
            "top": null,
            "visibility": null,
            "width": null
          }
        },
        "7559203f8f7d4dc68fba63978213a158": {
          "model_module": "@jupyter-widgets/controls",
          "model_name": "ProgressStyleModel",
          "model_module_version": "1.5.0",
          "state": {
            "_model_module": "@jupyter-widgets/controls",
            "_model_module_version": "1.5.0",
            "_model_name": "ProgressStyleModel",
            "_view_count": null,
            "_view_module": "@jupyter-widgets/base",
            "_view_module_version": "1.2.0",
            "_view_name": "StyleView",
            "bar_color": null,
            "description_width": ""
          }
        },
        "af0831a393a74697b4623df1c30d7026": {
          "model_module": "@jupyter-widgets/base",
          "model_name": "LayoutModel",
          "model_module_version": "1.2.0",
          "state": {
            "_model_module": "@jupyter-widgets/base",
            "_model_module_version": "1.2.0",
            "_model_name": "LayoutModel",
            "_view_count": null,
            "_view_module": "@jupyter-widgets/base",
            "_view_module_version": "1.2.0",
            "_view_name": "LayoutView",
            "align_content": null,
            "align_items": null,
            "align_self": null,
            "border": null,
            "bottom": null,
            "display": null,
            "flex": null,
            "flex_flow": null,
            "grid_area": null,
            "grid_auto_columns": null,
            "grid_auto_flow": null,
            "grid_auto_rows": null,
            "grid_column": null,
            "grid_gap": null,
            "grid_row": null,
            "grid_template_areas": null,
            "grid_template_columns": null,
            "grid_template_rows": null,
            "height": null,
            "justify_content": null,
            "justify_items": null,
            "left": null,
            "margin": null,
            "max_height": null,
            "max_width": null,
            "min_height": null,
            "min_width": null,
            "object_fit": null,
            "object_position": null,
            "order": null,
            "overflow": null,
            "overflow_x": null,
            "overflow_y": null,
            "padding": null,
            "right": null,
            "top": null,
            "visibility": null,
            "width": null
          }
        },
        "e6e11561184545819ebfc90c9cfa8f65": {
          "model_module": "@jupyter-widgets/controls",
          "model_name": "DescriptionStyleModel",
          "model_module_version": "1.5.0",
          "state": {
            "_model_module": "@jupyter-widgets/controls",
            "_model_module_version": "1.5.0",
            "_model_name": "DescriptionStyleModel",
            "_view_count": null,
            "_view_module": "@jupyter-widgets/base",
            "_view_module_version": "1.2.0",
            "_view_name": "StyleView",
            "description_width": ""
          }
        },
        "d7c62723f2b345e0a8b84543afa6f7a7": {
          "model_module": "@jupyter-widgets/controls",
          "model_name": "HBoxModel",
          "model_module_version": "1.5.0",
          "state": {
            "_dom_classes": [],
            "_model_module": "@jupyter-widgets/controls",
            "_model_module_version": "1.5.0",
            "_model_name": "HBoxModel",
            "_view_count": null,
            "_view_module": "@jupyter-widgets/controls",
            "_view_module_version": "1.5.0",
            "_view_name": "HBoxView",
            "box_style": "",
            "children": [
              "IPY_MODEL_b2f2639c13d648998cd143b342438574",
              "IPY_MODEL_4342ed383219412cb7ed5459f23fa4ac",
              "IPY_MODEL_937065f9477848d3a247e32bc32846c6"
            ],
            "layout": "IPY_MODEL_84e9c20a78af49f7b23248f384717ba4"
          }
        },
        "b2f2639c13d648998cd143b342438574": {
          "model_module": "@jupyter-widgets/controls",
          "model_name": "HTMLModel",
          "model_module_version": "1.5.0",
          "state": {
            "_dom_classes": [],
            "_model_module": "@jupyter-widgets/controls",
            "_model_module_version": "1.5.0",
            "_model_name": "HTMLModel",
            "_view_count": null,
            "_view_module": "@jupyter-widgets/controls",
            "_view_module_version": "1.5.0",
            "_view_name": "HTMLView",
            "description": "",
            "description_tooltip": null,
            "layout": "IPY_MODEL_8a01b73a0947486882f593af0f9d4da7",
            "placeholder": "​",
            "style": "IPY_MODEL_1c92a4a677354fdab02c7962d403545f",
            "value": "100%"
          }
        },
        "4342ed383219412cb7ed5459f23fa4ac": {
          "model_module": "@jupyter-widgets/controls",
          "model_name": "FloatProgressModel",
          "model_module_version": "1.5.0",
          "state": {
            "_dom_classes": [],
            "_model_module": "@jupyter-widgets/controls",
            "_model_module_version": "1.5.0",
            "_model_name": "FloatProgressModel",
            "_view_count": null,
            "_view_module": "@jupyter-widgets/controls",
            "_view_module_version": "1.5.0",
            "_view_name": "ProgressView",
            "bar_style": "success",
            "description": "",
            "description_tooltip": null,
            "layout": "IPY_MODEL_64f5ed93551248059857551ddc798e97",
            "max": 4542,
            "min": 0,
            "orientation": "horizontal",
            "style": "IPY_MODEL_a410daf2eec144218df5d4843bac8561",
            "value": 4542
          }
        },
        "937065f9477848d3a247e32bc32846c6": {
          "model_module": "@jupyter-widgets/controls",
          "model_name": "HTMLModel",
          "model_module_version": "1.5.0",
          "state": {
            "_dom_classes": [],
            "_model_module": "@jupyter-widgets/controls",
            "_model_module_version": "1.5.0",
            "_model_name": "HTMLModel",
            "_view_count": null,
            "_view_module": "@jupyter-widgets/controls",
            "_view_module_version": "1.5.0",
            "_view_name": "HTMLView",
            "description": "",
            "description_tooltip": null,
            "layout": "IPY_MODEL_d8225af29d0c455fbb01370588501861",
            "placeholder": "​",
            "style": "IPY_MODEL_c5880879bf9a4a40b5222bd1631cd193",
            "value": " 4542/4542 [00:00&lt;00:00, 353750.56it/s]"
          }
        },
        "84e9c20a78af49f7b23248f384717ba4": {
          "model_module": "@jupyter-widgets/base",
          "model_name": "LayoutModel",
          "model_module_version": "1.2.0",
          "state": {
            "_model_module": "@jupyter-widgets/base",
            "_model_module_version": "1.2.0",
            "_model_name": "LayoutModel",
            "_view_count": null,
            "_view_module": "@jupyter-widgets/base",
            "_view_module_version": "1.2.0",
            "_view_name": "LayoutView",
            "align_content": null,
            "align_items": null,
            "align_self": null,
            "border": null,
            "bottom": null,
            "display": null,
            "flex": null,
            "flex_flow": null,
            "grid_area": null,
            "grid_auto_columns": null,
            "grid_auto_flow": null,
            "grid_auto_rows": null,
            "grid_column": null,
            "grid_gap": null,
            "grid_row": null,
            "grid_template_areas": null,
            "grid_template_columns": null,
            "grid_template_rows": null,
            "height": null,
            "justify_content": null,
            "justify_items": null,
            "left": null,
            "margin": null,
            "max_height": null,
            "max_width": null,
            "min_height": null,
            "min_width": null,
            "object_fit": null,
            "object_position": null,
            "order": null,
            "overflow": null,
            "overflow_x": null,
            "overflow_y": null,
            "padding": null,
            "right": null,
            "top": null,
            "visibility": null,
            "width": null
          }
        },
        "8a01b73a0947486882f593af0f9d4da7": {
          "model_module": "@jupyter-widgets/base",
          "model_name": "LayoutModel",
          "model_module_version": "1.2.0",
          "state": {
            "_model_module": "@jupyter-widgets/base",
            "_model_module_version": "1.2.0",
            "_model_name": "LayoutModel",
            "_view_count": null,
            "_view_module": "@jupyter-widgets/base",
            "_view_module_version": "1.2.0",
            "_view_name": "LayoutView",
            "align_content": null,
            "align_items": null,
            "align_self": null,
            "border": null,
            "bottom": null,
            "display": null,
            "flex": null,
            "flex_flow": null,
            "grid_area": null,
            "grid_auto_columns": null,
            "grid_auto_flow": null,
            "grid_auto_rows": null,
            "grid_column": null,
            "grid_gap": null,
            "grid_row": null,
            "grid_template_areas": null,
            "grid_template_columns": null,
            "grid_template_rows": null,
            "height": null,
            "justify_content": null,
            "justify_items": null,
            "left": null,
            "margin": null,
            "max_height": null,
            "max_width": null,
            "min_height": null,
            "min_width": null,
            "object_fit": null,
            "object_position": null,
            "order": null,
            "overflow": null,
            "overflow_x": null,
            "overflow_y": null,
            "padding": null,
            "right": null,
            "top": null,
            "visibility": null,
            "width": null
          }
        },
        "1c92a4a677354fdab02c7962d403545f": {
          "model_module": "@jupyter-widgets/controls",
          "model_name": "DescriptionStyleModel",
          "model_module_version": "1.5.0",
          "state": {
            "_model_module": "@jupyter-widgets/controls",
            "_model_module_version": "1.5.0",
            "_model_name": "DescriptionStyleModel",
            "_view_count": null,
            "_view_module": "@jupyter-widgets/base",
            "_view_module_version": "1.2.0",
            "_view_name": "StyleView",
            "description_width": ""
          }
        },
        "64f5ed93551248059857551ddc798e97": {
          "model_module": "@jupyter-widgets/base",
          "model_name": "LayoutModel",
          "model_module_version": "1.2.0",
          "state": {
            "_model_module": "@jupyter-widgets/base",
            "_model_module_version": "1.2.0",
            "_model_name": "LayoutModel",
            "_view_count": null,
            "_view_module": "@jupyter-widgets/base",
            "_view_module_version": "1.2.0",
            "_view_name": "LayoutView",
            "align_content": null,
            "align_items": null,
            "align_self": null,
            "border": null,
            "bottom": null,
            "display": null,
            "flex": null,
            "flex_flow": null,
            "grid_area": null,
            "grid_auto_columns": null,
            "grid_auto_flow": null,
            "grid_auto_rows": null,
            "grid_column": null,
            "grid_gap": null,
            "grid_row": null,
            "grid_template_areas": null,
            "grid_template_columns": null,
            "grid_template_rows": null,
            "height": null,
            "justify_content": null,
            "justify_items": null,
            "left": null,
            "margin": null,
            "max_height": null,
            "max_width": null,
            "min_height": null,
            "min_width": null,
            "object_fit": null,
            "object_position": null,
            "order": null,
            "overflow": null,
            "overflow_x": null,
            "overflow_y": null,
            "padding": null,
            "right": null,
            "top": null,
            "visibility": null,
            "width": null
          }
        },
        "a410daf2eec144218df5d4843bac8561": {
          "model_module": "@jupyter-widgets/controls",
          "model_name": "ProgressStyleModel",
          "model_module_version": "1.5.0",
          "state": {
            "_model_module": "@jupyter-widgets/controls",
            "_model_module_version": "1.5.0",
            "_model_name": "ProgressStyleModel",
            "_view_count": null,
            "_view_module": "@jupyter-widgets/base",
            "_view_module_version": "1.2.0",
            "_view_name": "StyleView",
            "bar_color": null,
            "description_width": ""
          }
        },
        "d8225af29d0c455fbb01370588501861": {
          "model_module": "@jupyter-widgets/base",
          "model_name": "LayoutModel",
          "model_module_version": "1.2.0",
          "state": {
            "_model_module": "@jupyter-widgets/base",
            "_model_module_version": "1.2.0",
            "_model_name": "LayoutModel",
            "_view_count": null,
            "_view_module": "@jupyter-widgets/base",
            "_view_module_version": "1.2.0",
            "_view_name": "LayoutView",
            "align_content": null,
            "align_items": null,
            "align_self": null,
            "border": null,
            "bottom": null,
            "display": null,
            "flex": null,
            "flex_flow": null,
            "grid_area": null,
            "grid_auto_columns": null,
            "grid_auto_flow": null,
            "grid_auto_rows": null,
            "grid_column": null,
            "grid_gap": null,
            "grid_row": null,
            "grid_template_areas": null,
            "grid_template_columns": null,
            "grid_template_rows": null,
            "height": null,
            "justify_content": null,
            "justify_items": null,
            "left": null,
            "margin": null,
            "max_height": null,
            "max_width": null,
            "min_height": null,
            "min_width": null,
            "object_fit": null,
            "object_position": null,
            "order": null,
            "overflow": null,
            "overflow_x": null,
            "overflow_y": null,
            "padding": null,
            "right": null,
            "top": null,
            "visibility": null,
            "width": null
          }
        },
        "c5880879bf9a4a40b5222bd1631cd193": {
          "model_module": "@jupyter-widgets/controls",
          "model_name": "DescriptionStyleModel",
          "model_module_version": "1.5.0",
          "state": {
            "_model_module": "@jupyter-widgets/controls",
            "_model_module_version": "1.5.0",
            "_model_name": "DescriptionStyleModel",
            "_view_count": null,
            "_view_module": "@jupyter-widgets/base",
            "_view_module_version": "1.2.0",
            "_view_name": "StyleView",
            "description_width": ""
          }
        }
      }
    }
  },
  "cells": [
    {
      "cell_type": "markdown",
      "source": [
        "# < 3주차 과제 1 : MLP 마음대로 다뤄보기>\n",
        "- dataset을 임의로 선정해서 직접 분석 해보기(제공한 코드를 활용해서 해보기)\n",
        "- activation functions 중 relu사용시 함수 직접 정의\n",
        "- lr, optimizer 등 바꿔보기\n",
        "- hidden layer/neuron 수를 바꾸기\n",
        "- 전처리도 추가\n",
        "- 모든 시도를 올려주세요!\n",
        "- 제일 높은 acc를 보인 시도를 명시해주세요!\n"
      ],
      "metadata": {
        "id": "sgAYo4nrw2F4"
      }
    },
    {
      "cell_type": "code",
      "execution_count": 1,
      "metadata": {
        "id": "fX437IL6qbI-"
      },
      "outputs": [],
      "source": [
        "import torch\n",
        "from torch import nn, optim\n",
        "from sklearn.datasets import load_digits\n",
        "from sklearn.datasets import load_breast_cancer\n",
        "from torch.utils.data import  TensorDataset, DataLoader\n",
        "from sklearn.model_selection import train_test_split\n",
        "from sklearn.metrics import accuracy_score\n",
        "import numpy as np\n",
        "from sklearn.preprocessing import StandardScaler\n",
        "import matplotlib.pyplot as plt\n",
        "from collections import Counter\n",
        "from torch.utils.data import Dataset\n",
        "import torch.nn.functional as F"
      ]
    },
    {
      "cell_type": "markdown",
      "source": [
        "## 아래 데이터셋 중 원하는 데이터셋 하나를 선택하여, 코드 과제 진행하기!\n",
        "- 1) load_digits() <br>\n",
        "- 2) load_wine()"
      ],
      "metadata": {
        "id": "oxkFzBDNmWNk"
      }
    },
    {
      "cell_type": "code",
      "source": [
        "# 데이터셋 종류 : \n",
        "data = load_digits()"
      ],
      "metadata": {
        "id": "FywYbfsKtjcR"
      },
      "execution_count": 2,
      "outputs": []
    },
    {
      "cell_type": "code",
      "source": [
        "input = data.data\n",
        "output = data.target"
      ],
      "metadata": {
        "id": "C2P0hqZ9yBGm"
      },
      "execution_count": 3,
      "outputs": []
    },
    {
      "cell_type": "code",
      "source": [
        "input.shape, output.shape"
      ],
      "metadata": {
        "colab": {
          "base_uri": "https://localhost:8080/"
        },
        "id": "7GL0AyQ4JQh4",
        "outputId": "1721b792-dad8-4cf2-8588-4335f0a74ef5"
      },
      "execution_count": 4,
      "outputs": [
        {
          "output_type": "execute_result",
          "data": {
            "text/plain": [
              "((1797, 64), (1797,))"
            ]
          },
          "metadata": {},
          "execution_count": 4
        }
      ]
    },
    {
      "cell_type": "code",
      "source": [
        "Counter(output)\n",
        "\n",
        "# output 개수"
      ],
      "metadata": {
        "colab": {
          "base_uri": "https://localhost:8080/"
        },
        "id": "vhpswgUnJiJr",
        "outputId": "4fed790d-e517-4037-d1ea-79952981a163"
      },
      "execution_count": 5,
      "outputs": [
        {
          "output_type": "execute_result",
          "data": {
            "text/plain": [
              "Counter({0: 178,\n",
              "         1: 182,\n",
              "         2: 177,\n",
              "         3: 183,\n",
              "         4: 181,\n",
              "         5: 182,\n",
              "         6: 181,\n",
              "         7: 179,\n",
              "         8: 174,\n",
              "         9: 180})"
            ]
          },
          "metadata": {},
          "execution_count": 5
        }
      ]
    },
    {
      "cell_type": "code",
      "source": [
        "device = 'cuda' if torch.cuda.is_available() else 'cpu'\n",
        "\n",
        "torch.manual_seed(777)\n",
        "if device == \"cuda\":\n",
        "  torch.cuda.manual_seed_all(777)"
      ],
      "metadata": {
        "id": "SggpQfSPt85C"
      },
      "execution_count": 6,
      "outputs": []
    },
    {
      "cell_type": "markdown",
      "source": [
        "### ReLU 구현"
      ],
      "metadata": {
        "id": "raNk9uqHloCy"
      }
    },
    {
      "cell_type": "code",
      "source": [
        "def ReLU(x):\n",
        "  return np.maximum(0, x)"
      ],
      "metadata": {
        "id": "2IC_SWRPlnlj"
      },
      "execution_count": 8,
      "outputs": []
    },
    {
      "cell_type": "markdown",
      "source": [
        "### 첫번째 시도(베이스라인 코드 기반, 제일 성능 좋음)"
      ],
      "metadata": {
        "id": "QUWwlZwmNVT7"
      }
    },
    {
      "cell_type": "code",
      "source": [
        "x_train, x_test, y_train, y_test = train_test_split(input, output, test_size = 0.3, random_state = 42, stratify= data.target, shuffle = True)\n",
        "\n",
        "x_train = torch.FloatTensor(x_train).to(device)\n",
        "y_train = torch.LongTensor(y_train).to(device)\n",
        "x_test = torch.FloatTensor(x_test)\n",
        "y_test = torch.LongTensor(y_test)\n",
        "\n",
        "# 데이터를 tensor로 바꿔주고 gpu 연산이 가능해지도록 gpu에 옮김\n",
        "# label 값을 왜 long 에 옮겨놓는가? loss function이 다르기 때문 "
      ],
      "metadata": {
        "id": "bLMzf-2ntYeX"
      },
      "execution_count": null,
      "outputs": []
    },
    {
      "cell_type": "code",
      "source": [
        "print(len(x_train[0]))\n",
        "print(x_train[0])\n",
        "print(y_train[0])\n",
        "\n",
        "#input 64개 (속성이 30개)\n",
        "#1번째 target은 0"
      ],
      "metadata": {
        "colab": {
          "base_uri": "https://localhost:8080/"
        },
        "id": "umEdiTZkrVqS",
        "outputId": "38560159-f8e8-45e1-fa31-584b13f11d39"
      },
      "execution_count": null,
      "outputs": [
        {
          "output_type": "stream",
          "name": "stdout",
          "text": [
            "64\n",
            "tensor([ 0.,  0.,  0., 16., 12.,  1.,  0.,  0.,  0.,  0.,  6., 16., 14.,  7.,\n",
            "         0.,  0.,  0.,  0., 14., 15.,  1., 11.,  0.,  0.,  0.,  0., 16., 15.,\n",
            "         0., 14.,  1.,  0.,  0.,  1., 16., 10.,  0., 14.,  2.,  0.,  0.,  0.,\n",
            "        15., 13.,  3., 15.,  3.,  0.,  0.,  0.,  9., 16., 16., 15.,  0.,  0.,\n",
            "         0.,  0.,  0., 13., 16.,  8.,  0.,  0.])\n",
            "tensor(0)\n"
          ]
        }
      ]
    },
    {
      "cell_type": "markdown",
      "source": [
        "파이토치에서는 데이터셋을 좀 더 쉽게 다룰 수 있도록 유용한 도구로서 torch.utils.data.Dataset과 torch.utils.data.DataLoader를 제공합니다. 이를 사용하면 미니 배치 학습, 데이터 셔플(shuffle), 병렬 처리까지 간단히 수행할 수 있습니다. 기본적인 사용 방법은 Dataset을 정의하고, 이를 DataLoader에 전달하는 것\n",
        "- init : class 에서 객체가 생성되면 바로 실행되는 함수\n",
        "- len : observation 수를 정의하는 함수\n",
        "- getitem : iteration 마다 해당하는 데이터를 돌려주는 함수"
      ],
      "metadata": {
        "id": "combmxzmYFyn"
      }
    },
    {
      "cell_type": "code",
      "source": [
        "class CustomDataset(Dataset):\n",
        "  def __init__(self):\n",
        "    self.x_data = x_train\n",
        "    self.y_data = [[y] for y in y_train]\n",
        "#  데이터셋의 전처리를 해주는 부분\n",
        "\n",
        "  def __len__(self):\n",
        "    return len(self.x_data)\n",
        "#  데이터셋의 길이. 즉, 총 샘플의 수를 적어주는 부분\n",
        "\n",
        "  def __getitem__(self, idx):\n",
        "    x = torch.FloatTensor(self.x_data[idx]).to(device)\n",
        "    y = torch.LongTensor(self.y_data[idx]).to(device)\n",
        "#  데이터셋에서 특정 1개의 샘플을 가져오는 함수\n",
        "\n",
        "    return x,y"
      ],
      "metadata": {
        "id": "y38TlgXoqV5Z"
      },
      "execution_count": null,
      "outputs": []
    },
    {
      "cell_type": "code",
      "source": [
        "batch_size = 8\n",
        "\n",
        "dataset = CustomDataset()\n",
        "dataloader = DataLoader(dataset, batch_size=batch_size) "
      ],
      "metadata": {
        "id": "x8VHwnuFqino"
      },
      "execution_count": null,
      "outputs": []
    },
    {
      "cell_type": "code",
      "source": [
        "# input_layer와 hidden_layer의 노드 개수를 어떻게 바꿔줘야할까? \n",
        "# hidden layer/neuron 수를 바꾸기\n",
        "\n",
        "model = nn.Sequential(\n",
        "          nn.Linear(64,398, bias=True), \n",
        "          nn.Sigmoid(),\n",
        "          nn.Linear(398,40, bias=True),\n",
        "          nn.Sigmoid(),\n",
        "          nn.Linear(40,20, bias=True), \n",
        "          nn.Sigmoid(),\n",
        "          nn.Linear(40,20, bias=True), \n",
        "          nn.Softmax()\n",
        "          ).to(device)"
      ],
      "metadata": {
        "id": "C6V7a4tyq6Jc"
      },
      "execution_count": null,
      "outputs": []
    },
    {
      "cell_type": "markdown",
      "source": [
        "class로 구현 가능\n",
        "- init : 초기 생성 함수\n",
        "- foward : 순전파(입력값 => 예측값 의 과정)"
      ],
      "metadata": {
        "id": "07uV8RY7Yr_5"
      }
    },
    {
      "cell_type": "code",
      "source": [
        "class Model(torch.nn.Module):\n",
        "\n",
        "  def __init__(self):\n",
        "    super(Model, self).__init__()\n",
        "    self.layer1 = nn.Sequential(\n",
        "          nn.Linear(64,398, bias=True), # input_layer = 30, hidden_layer1 = 398 \n",
        "          nn.Sigmoid(),\n",
        "        nn.BatchNorm1d(398)\n",
        "    )\n",
        "  # activation function 이용 \n",
        "  #   nn.ReLU()\n",
        "  #   nn.tanH()\n",
        "  #   https://pytorch.org/docs/stable/nn.html 그 외에도 여기서 확인 가능함 \n",
        "  #   파라미터가 필요하지 않다는 것이 특징\n",
        "\n",
        "  # batch normazliation 1d, 파라미터 값으로 vector의 길이를 전해줌\n",
        "  # 추후에 이미지를 다루게 된다면, 그때는 batch normalization 2d를 이용하게 됨 \n",
        "  # 그때는 파라미터 값으로 채널, 가로, 세로 길이를 전달해주게 됨 \n",
        "\n",
        "    self.layer2 = nn.Sequential(\n",
        "          nn.Linear(398,40, bias=True), # hidden_layer1 = 398, hidden_layer2 = 15\n",
        "        nn.Sigmoid()\n",
        "    )\n",
        "    self.layer3 = nn.Sequential(\n",
        "          nn.Linear(40,20, bias=True), # hidden_layer1 = 15, hidden_layer2 = 10\n",
        "        nn.Sigmoid()\n",
        "    )\n",
        "    self.layer4 = nn.Sequential(\n",
        "        nn.Linear(20, 10, bias=True), # hidden_layer3 = 10, output_layer = 5\n",
        "        nn.Softmax()\n",
        "    )\n",
        "\n",
        "  def forward(self,x):\n",
        "    output = self.layer1(x)\n",
        "    output = self.layer2(output)\n",
        "    output = self.layer3(output)\n",
        "    output = self.layer4(output)\n",
        "    return output"
      ],
      "metadata": {
        "id": "a0zLstbMqxEZ"
      },
      "execution_count": null,
      "outputs": []
    },
    {
      "cell_type": "code",
      "source": [
        "def init_weights(layer):\n",
        "    if isinstance(layer, nn.Linear):\n",
        "        torch.nn.init.xavier_uniform(layer.weight)\n",
        "        layer.bias.data.fill_(0.01)\n",
        "\n",
        "        #xavier사용\n",
        "        # Layer의 weight를 어떤 분포를 가지도록 초기화시켜줌+global minimum찾기 위해서"
      ],
      "metadata": {
        "id": "kqcqqkECrSGK"
      },
      "execution_count": null,
      "outputs": []
    },
    {
      "cell_type": "code",
      "source": [
        "model = Model().to(device)\n",
        "model.apply(init_weights)"
      ],
      "metadata": {
        "colab": {
          "base_uri": "https://localhost:8080/"
        },
        "id": "oMDUBFg6rUpw",
        "outputId": "c292130b-39bf-4673-d853-ad891f219d43"
      },
      "execution_count": null,
      "outputs": [
        {
          "output_type": "stream",
          "name": "stderr",
          "text": [
            "<ipython-input-37-6196a47a4462>:3: UserWarning: nn.init.xavier_uniform is now deprecated in favor of nn.init.xavier_uniform_.\n",
            "  torch.nn.init.xavier_uniform(layer.weight)\n"
          ]
        },
        {
          "output_type": "execute_result",
          "data": {
            "text/plain": [
              "Model(\n",
              "  (layer1): Sequential(\n",
              "    (0): Linear(in_features=64, out_features=398, bias=True)\n",
              "    (1): Sigmoid()\n",
              "    (2): BatchNorm1d(398, eps=1e-05, momentum=0.1, affine=True, track_running_stats=True)\n",
              "  )\n",
              "  (layer2): Sequential(\n",
              "    (0): Linear(in_features=398, out_features=40, bias=True)\n",
              "    (1): Sigmoid()\n",
              "  )\n",
              "  (layer3): Sequential(\n",
              "    (0): Linear(in_features=40, out_features=20, bias=True)\n",
              "    (1): Sigmoid()\n",
              "  )\n",
              "  (layer4): Sequential(\n",
              "    (0): Linear(in_features=20, out_features=10, bias=True)\n",
              "    (1): Softmax(dim=None)\n",
              "  )\n",
              ")"
            ]
          },
          "metadata": {},
          "execution_count": 38
        }
      ]
    },
    {
      "cell_type": "code",
      "source": [
        "print(model)"
      ],
      "metadata": {
        "colab": {
          "base_uri": "https://localhost:8080/"
        },
        "id": "OwZt5CetrYFb",
        "outputId": "63d9ad31-db86-45a9-f5ca-2a11e6579e55"
      },
      "execution_count": null,
      "outputs": [
        {
          "output_type": "stream",
          "name": "stdout",
          "text": [
            "Model(\n",
            "  (layer1): Sequential(\n",
            "    (0): Linear(in_features=64, out_features=398, bias=True)\n",
            "    (1): Sigmoid()\n",
            "    (2): BatchNorm1d(398, eps=1e-05, momentum=0.1, affine=True, track_running_stats=True)\n",
            "  )\n",
            "  (layer2): Sequential(\n",
            "    (0): Linear(in_features=398, out_features=40, bias=True)\n",
            "    (1): Sigmoid()\n",
            "  )\n",
            "  (layer3): Sequential(\n",
            "    (0): Linear(in_features=40, out_features=20, bias=True)\n",
            "    (1): Sigmoid()\n",
            "  )\n",
            "  (layer4): Sequential(\n",
            "    (0): Linear(in_features=20, out_features=10, bias=True)\n",
            "    (1): Softmax(dim=None)\n",
            "  )\n",
            ")\n"
          ]
        }
      ]
    },
    {
      "cell_type": "code",
      "source": [
        "loss_fn  = nn.CrossEntropyLoss().to(device)\n",
        "\n",
        "# 여러가지 optimizer 시도해보기\n",
        "# lr 바꿔보기\n",
        "\n",
        "\n",
        "optimizer = optim.Adam(model.parameters(), lr= 0.01)\n",
        "\n",
        "# https://pytorch.org/docs/stable/optim.html#module-torch.optim 페이지 참조\n",
        "# optimizer = optim.SGD(model.parameters(), lr=0.1, momentum=0.9)\n",
        "# sgd 등등"
      ],
      "metadata": {
        "id": "AYFp-eTErh7b"
      },
      "execution_count": null,
      "outputs": []
    },
    {
      "cell_type": "code",
      "source": [
        "losses = []\n",
        "for epoch in range(100):\n",
        "\n",
        "  optimizer.zero_grad()\n",
        "  hypothesis = model(x_train)\n",
        "\n",
        "  # 비용 함수\n",
        "  cost = loss_fn(hypothesis, y_train)\n",
        "  cost.backward()\n",
        "  optimizer.step()\n",
        "  losses.append(cost.item())\n",
        "\n",
        "  if epoch % 10 == 0:\n",
        "    print(epoch, cost.item())"
      ],
      "metadata": {
        "colab": {
          "base_uri": "https://localhost:8080/"
        },
        "id": "90QxHvlIrjS7",
        "outputId": "aa420307-02a5-4132-cd76-cda67d8041db"
      },
      "execution_count": null,
      "outputs": [
        {
          "output_type": "stream",
          "name": "stderr",
          "text": [
            "/usr/local/lib/python3.8/dist-packages/torch/nn/modules/container.py:204: UserWarning: Implicit dimension choice for softmax has been deprecated. Change the call to include dim=X as an argument.\n",
            "  input = module(input)\n"
          ]
        },
        {
          "output_type": "stream",
          "name": "stdout",
          "text": [
            "0 2.302372694015503\n",
            "10 2.114616632461548\n",
            "20 1.8927894830703735\n",
            "30 1.7007713317871094\n",
            "40 1.5819246768951416\n",
            "50 1.515926718711853\n",
            "60 1.490081787109375\n",
            "70 1.4796810150146484\n",
            "80 1.4747319221496582\n",
            "90 1.4719187021255493\n"
          ]
        }
      ]
    },
    {
      "cell_type": "code",
      "source": [
        "plt.plot(losses)\n",
        "plt.show()"
      ],
      "metadata": {
        "colab": {
          "base_uri": "https://localhost:8080/",
          "height": 265
        },
        "id": "81ASYrW7roFM",
        "outputId": "98506f6b-47db-4dfc-ac1b-4487ec5dc62f"
      },
      "execution_count": null,
      "outputs": [
        {
          "output_type": "display_data",
          "data": {
            "text/plain": [
              "<Figure size 432x288 with 1 Axes>"
            ],
            "image/png": "[encoded data removed]"
          },
          "metadata": {
            "needs_background": "light"
          }
        }
      ]
    },
    {
      "cell_type": "code",
      "source": [
        "with torch.no_grad():\n",
        "  model = model.to('cpu')\n",
        "  y_pred = model(x_test)\n",
        "  y_pred = y_pred.detach().numpy()\n",
        "  predicted = np.argmax(y_pred, axis =1)\n",
        "  accuracy = (accuracy_score(predicted, y_test))"
      ],
      "metadata": {
        "id": "h4kJzpLErqhZ"
      },
      "execution_count": null,
      "outputs": []
    },
    {
      "cell_type": "code",
      "source": [
        "print(f'model의 output은 :  {y_pred[0]}')\n",
        "print(f'argmax를 한 후의 output은 {predicted[0]}')\n",
        "print(f'accuracy는 {accuracy}')"
      ],
      "metadata": {
        "colab": {
          "base_uri": "https://localhost:8080/"
        },
        "id": "vyIKhs3Nr6Ay",
        "outputId": "8db4d83e-188c-4b11-b83b-6f2be07fae70"
      },
      "execution_count": null,
      "outputs": [
        {
          "output_type": "stream",
          "name": "stdout",
          "text": [
            "model의 output은 :  [4.59130388e-06 9.85431075e-01 5.63940592e-03 3.27340118e-03\n",
            " 3.29295610e-04 1.17972144e-04 1.79119722e-03 2.89403158e-03\n",
            " 6.88196305e-05 4.50304127e-04]\n",
            "argmax를 한 후의 output은 1\n",
            "accuracy는 0.9833333333333333\n"
          ]
        }
      ]
    },
    {
      "cell_type": "markdown",
      "source": [
        "### 두번째 시도(layer 수정하기)"
      ],
      "metadata": {
        "id": "K89NSa3egQQ2"
      }
    },
    {
      "cell_type": "code",
      "source": [
        "x_train2, x_test2, y_train2, y_test2 = train_test_split(input, output, test_size = 0.3, random_state = 42,\n",
        "                                                        stratify = data.target, shuffle = True)\n",
        "\n",
        "x_train2 = torch.FloatTensor(x_train2).to(device)\n",
        "y_train2 = torch.LongTensor(y_train2).to(device)\n",
        "x_test2 = torch.FloatTensor(x_test2).to(device)\n",
        "y_test2 = torch.LongTensor(y_test2).to(device)"
      ],
      "metadata": {
        "id": "0YlpzETxgXrg"
      },
      "execution_count": 50,
      "outputs": []
    },
    {
      "cell_type": "code",
      "source": [
        "class CustomDataset(Dataset):\n",
        "  def __init__(self):\n",
        "    self.x_data = x_train2\n",
        "    self.y_data = [[y] for y in y_train2]\n",
        "\n",
        "  def __len__(self):\n",
        "    return len(self.x_data)\n",
        "\n",
        "  def __getitem__(self, idx):\n",
        "    x = torch.FloatTensor(self.x_data[idx]).to(device)\n",
        "    y = torch.FloatTensor(self.y_data[idx]).to(device)\n",
        "    return x, y"
      ],
      "metadata": {
        "id": "PBdMmZ5sgXo5"
      },
      "execution_count": 51,
      "outputs": []
    },
    {
      "cell_type": "code",
      "source": [
        "batch_size = 8\n",
        "\n",
        "dataset = CustomDataset()\n",
        "dataLoader = DataLoader(dataset, batch_size = batch_size)"
      ],
      "metadata": {
        "id": "cxuYgZncgXm2"
      },
      "execution_count": 52,
      "outputs": []
    },
    {
      "cell_type": "code",
      "source": [
        "model = nn.Sequential(\n",
        "    nn.Linear(64, 32, bias = True),\n",
        "    nn.Sigmoid(),\n",
        "    nn.Linear(32, 16, bias = True),\n",
        "    nn.Sigmoid(),\n",
        "    nn.Linear(16, 10, bias = True),\n",
        "    nn.Sigmoid()\n",
        ").to(device)"
      ],
      "metadata": {
        "id": "XrdrwG40gXkz"
      },
      "execution_count": 53,
      "outputs": []
    },
    {
      "cell_type": "code",
      "source": [
        "class Model(torch.nn.Module):\n",
        "  def __init__(self):\n",
        "    super(Model, self).__init__()\n",
        "    self.layer1 = nn.Sequential(\n",
        "        nn.Linear(64, 32, bias = True),\n",
        "        nn.Sigmoid(),\n",
        "        nn.BatchNorm1d(32)\n",
        "    )\n",
        "\n",
        "    self.layer2 = nn.Sequential(\n",
        "        nn.Linear(32, 16, bias = True),\n",
        "        nn.Sigmoid()\n",
        "    )\n",
        "\n",
        "    self.layer3 = nn.Sequential(\n",
        "        nn.Linear(16, 10),\n",
        "        nn.Softmax()\n",
        "    )\n",
        "\n",
        "  def forward(self, x):\n",
        "    output = self.layer1(x)\n",
        "    output = self.layer2(output)\n",
        "    output = self.layer3(output)\n",
        "    return output"
      ],
      "metadata": {
        "id": "a82M8v2j4MTk"
      },
      "execution_count": 54,
      "outputs": []
    },
    {
      "cell_type": "code",
      "source": [
        "def init_weight(layer):\n",
        "  if isinstance(layer, nn.Linear):\n",
        "    torch.nn.init.xavier_uniform(layer.weight)\n",
        "    layer.bias.data.fill_(0.01)"
      ],
      "metadata": {
        "id": "8ghVpgJG4MRO"
      },
      "execution_count": 55,
      "outputs": []
    },
    {
      "cell_type": "code",
      "source": [
        "model = Model().to(device)\n",
        "model.apply(init_weight)"
      ],
      "metadata": {
        "colab": {
          "base_uri": "https://localhost:8080/"
        },
        "id": "5loAIT-MtnfA",
        "outputId": "0986d840-c57e-46c1-9aff-11134b05006a"
      },
      "execution_count": 56,
      "outputs": [
        {
          "output_type": "stream",
          "name": "stderr",
          "text": [
            "<ipython-input-55-ad9d7f10013c>:3: UserWarning: nn.init.xavier_uniform is now deprecated in favor of nn.init.xavier_uniform_.\n",
            "  torch.nn.init.xavier_uniform(layer.weight)\n"
          ]
        },
        {
          "output_type": "execute_result",
          "data": {
            "text/plain": [
              "Model(\n",
              "  (layer1): Sequential(\n",
              "    (0): Linear(in_features=64, out_features=32, bias=True)\n",
              "    (1): Sigmoid()\n",
              "    (2): BatchNorm1d(32, eps=1e-05, momentum=0.1, affine=True, track_running_stats=True)\n",
              "  )\n",
              "  (layer2): Sequential(\n",
              "    (0): Linear(in_features=32, out_features=16, bias=True)\n",
              "    (1): Sigmoid()\n",
              "  )\n",
              "  (layer3): Sequential(\n",
              "    (0): Linear(in_features=16, out_features=10, bias=True)\n",
              "    (1): Softmax(dim=None)\n",
              "  )\n",
              ")"
            ]
          },
          "metadata": {},
          "execution_count": 56
        }
      ]
    },
    {
      "cell_type": "code",
      "source": [
        "loss_fn = nn.CrossEntropyLoss().to(device)\n",
        "\n",
        "optimizer2 = optim.Adam(model.parameters(), lr = 0.01)"
      ],
      "metadata": {
        "id": "Ht6CYrYw4MPA"
      },
      "execution_count": 57,
      "outputs": []
    },
    {
      "cell_type": "code",
      "source": [
        "losses = []\n",
        "\n",
        "for epoch in range(100):\n",
        "\n",
        "  optimizer2.zero_grad()\n",
        "  hypothesis = model(x_train2)\n",
        "\n",
        "  cost = loss_fn(hypothesis, y_train2)\n",
        "  cost.backward()\n",
        "  optimizer2.step()\n",
        "  losses.append(cost.item())\n",
        "\n",
        "  if epoch % 10 == 0:\n",
        "    print(epoch, cost.item())"
      ],
      "metadata": {
        "colab": {
          "base_uri": "https://localhost:8080/"
        },
        "id": "GHnthKCx4MM3",
        "outputId": "045a0116-4af7-4d27-926d-2a08fd8e9d3c"
      },
      "execution_count": 58,
      "outputs": [
        {
          "output_type": "stream",
          "name": "stderr",
          "text": [
            "/usr/local/lib/python3.8/dist-packages/torch/nn/modules/container.py:204: UserWarning: Implicit dimension choice for softmax has been deprecated. Change the call to include dim=X as an argument.\n",
            "  input = module(input)\n"
          ]
        },
        {
          "output_type": "stream",
          "name": "stdout",
          "text": [
            "0 2.3044142723083496\n",
            "10 2.13336443901062\n",
            "20 1.986861228942871\n",
            "30 1.8713005781173706\n",
            "40 1.7774325609207153\n",
            "50 1.6926785707473755\n",
            "60 1.6341205835342407\n",
            "70 1.5940989255905151\n",
            "80 1.5476937294006348\n",
            "90 1.5092843770980835\n"
          ]
        }
      ]
    },
    {
      "cell_type": "code",
      "source": [
        "plt.plot(losses)\n",
        "plt.show()\n",
        "# loss함수 곡선이 더 부드러움"
      ],
      "metadata": {
        "colab": {
          "base_uri": "https://localhost:8080/",
          "height": 265
        },
        "id": "ko6IYDy7DKyb",
        "outputId": "418456b8-61b3-41fb-c667-becffdc682f5"
      },
      "execution_count": 59,
      "outputs": [
        {
          "output_type": "display_data",
          "data": {
            "text/plain": [
              "<Figure size 432x288 with 1 Axes>"
            ],
            "image/png": "[encoded data removed]"
          },
          "metadata": {
            "needs_background": "light"
          }
        }
      ]
    },
    {
      "cell_type": "code",
      "source": [
        "with torch.no_grad():\n",
        "  model = model.to('cpu')\n",
        "  y_pred = model(x_test2)\n",
        "  y_pred = y_pred.detach().numpy()\n",
        "  predicted = np.argmax(y_pred, axis = 1)\n",
        "  accuracy = (accuracy_score(predicted, y_test2))"
      ],
      "metadata": {
        "id": "poUGJvixAtpH"
      },
      "execution_count": 60,
      "outputs": []
    },
    {
      "cell_type": "code",
      "source": [
        "print(f'model의 output은 :  {y_pred[0]}')\n",
        "print(f'argmax를 한 후의 output은 {predicted[0]}')\n",
        "print(f'accuracy는 {accuracy}')"
      ],
      "metadata": {
        "colab": {
          "base_uri": "https://localhost:8080/"
        },
        "id": "omJ_KQIpAtnW",
        "outputId": "36c52f8c-85a9-409a-fd6b-b98bb8801c1a"
      },
      "execution_count": 61,
      "outputs": [
        {
          "output_type": "stream",
          "name": "stdout",
          "text": [
            "model의 output은 :  [1.6033628e-04 9.8208940e-01 1.8798397e-04 4.0326687e-03 2.8307445e-03\n",
            " 1.2361985e-03 5.2358843e-03 6.4490183e-04 2.9608035e-03 6.2111783e-04]\n",
            "argmax를 한 후의 output은 1\n",
            "accuracy는 0.9592592592592593\n"
          ]
        }
      ]
    },
    {
      "cell_type": "markdown",
      "source": [
        "### 3번 시도(layer, ReLU함수 쓰기)"
      ],
      "metadata": {
        "id": "2TL9u4cPDwZH"
      }
    },
    {
      "cell_type": "code",
      "source": [
        "x_train3, x_test3, y_train3, y_test3 = train_test_split(input, output, test_size = 0.3, stratify = data.target,\n",
        "                                                        shuffle = True)\n",
        "\n",
        "x_train3 = torch.FloatTensor(x_train3).to(device)\n",
        "y_train3 = torch.LongTensor(y_train3).to(device)\n",
        "x_test3 = torch.FloatTensor(x_test3)\n",
        "y_test3 = torch.LongTensor(y_test3)"
      ],
      "metadata": {
        "id": "PpTaVYxHEC01"
      },
      "execution_count": 72,
      "outputs": []
    },
    {
      "cell_type": "code",
      "source": [
        "class CustomDataset(Dataset):\n",
        "  def __init__(self):\n",
        "    self.x_data = x_train3\n",
        "    self.y_data = [[y] for y in y_train3]\n",
        "\n",
        "  def __len__(self):\n",
        "    return len(self.x_data)\n",
        "\n",
        "  def __getitem__(self, idx):\n",
        "    x = torch.FloatTensor(self.x_data[idx]).to(device)\n",
        "    y = torch.FloatTensor(self.y_data[idx]).to(device)\n",
        "    return x, y"
      ],
      "metadata": {
        "id": "s17gpn-0ECyy"
      },
      "execution_count": 73,
      "outputs": []
    },
    {
      "cell_type": "code",
      "source": [
        "batch_size = 8\n",
        "\n",
        "dataset = CustomDataset()\n",
        "dataLoader = DataLoader(dataset, batch_size = batch_size)"
      ],
      "metadata": {
        "id": "3LFXeRvaECvv"
      },
      "execution_count": 74,
      "outputs": []
    },
    {
      "cell_type": "code",
      "source": [
        "model = nn.Sequential(\n",
        "    nn.Linear(64, 32, bias = True),\n",
        "    nn.ReLU(),\n",
        "    nn.Linear(32, 16, bias = True),\n",
        "    nn.ReLU(),\n",
        "    nn.Linear(16, 10, bias = True),\n",
        "    nn.Softmax()\n",
        ").to(device)"
      ],
      "metadata": {
        "id": "wDqPaZqHECqF"
      },
      "execution_count": 75,
      "outputs": []
    },
    {
      "cell_type": "markdown",
      "source": [
        "\n",
        "![image.png](data:image/png;base64,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)"
      ],
      "metadata": {
        "id": "ZWLNkIRDd8y5"
      }
    },
    {
      "cell_type": "code",
      "source": [
        "# 직접 구현한  ReLU 오류 발생해서 nn.ReLU사용"
      ],
      "metadata": {
        "id": "FC349__oeITW"
      },
      "execution_count": 76,
      "outputs": []
    },
    {
      "cell_type": "code",
      "source": [
        "class Model(torch.nn.Module):\n",
        "  def __init__(self):\n",
        "    super(Model, self).__init__()\n",
        "    \n",
        "    self.layer1 = nn.Sequential(\n",
        "        nn.Linear(64, 32, bias = True),\n",
        "        nn.ReLU(),\n",
        "        nn.BatchNorm1d(32)\n",
        "    )\n",
        "    \n",
        "    self.layer2 = nn.Sequential(\n",
        "        nn.Linear(32, 16, bias = True),\n",
        "        nn.ReLU()\n",
        "    )\n",
        "\n",
        "    self.layer3 = nn.Sequential(\n",
        "        nn.Linear(16, 10, bias = True),\n",
        "        nn.Softmax()\n",
        "    )\n",
        "\n",
        "  def forward(self, x):\n",
        "    output = self.layer1(x)\n",
        "    output = self.layer2(output)\n",
        "    output = self.layer3(output)\n",
        "    return output"
      ],
      "metadata": {
        "id": "kw5rwAMhECnj"
      },
      "execution_count": 96,
      "outputs": []
    },
    {
      "cell_type": "code",
      "source": [
        "def init_weight(layer):\n",
        "  if isinstance(layer, nn.Linear):\n",
        "    torch.nn.init.xavier_uniform(layer.weight)\n",
        "    layer.bias.data.fill_(0.01)"
      ],
      "metadata": {
        "id": "bGDve8bcDwyl"
      },
      "execution_count": 97,
      "outputs": []
    },
    {
      "cell_type": "code",
      "source": [
        "model = Model().to(device)\n",
        "model.apply(init_weight)"
      ],
      "metadata": {
        "colab": {
          "base_uri": "https://localhost:8080/"
        },
        "id": "14wYsIkbsy8V",
        "outputId": "768c5c2b-51f2-4f22-8808-940da5034453"
      },
      "execution_count": 98,
      "outputs": [
        {
          "output_type": "stream",
          "name": "stderr",
          "text": [
            "<ipython-input-97-ad9d7f10013c>:3: UserWarning: nn.init.xavier_uniform is now deprecated in favor of nn.init.xavier_uniform_.\n",
            "  torch.nn.init.xavier_uniform(layer.weight)\n"
          ]
        },
        {
          "output_type": "execute_result",
          "data": {
            "text/plain": [
              "Model(\n",
              "  (layer1): Sequential(\n",
              "    (0): Linear(in_features=64, out_features=32, bias=True)\n",
              "    (1): ReLU()\n",
              "    (2): BatchNorm1d(32, eps=1e-05, momentum=0.1, affine=True, track_running_stats=True)\n",
              "  )\n",
              "  (layer2): Sequential(\n",
              "    (0): Linear(in_features=32, out_features=16, bias=True)\n",
              "    (1): ReLU()\n",
              "  )\n",
              "  (layer3): Sequential(\n",
              "    (0): Linear(in_features=16, out_features=10, bias=True)\n",
              "    (1): Softmax(dim=None)\n",
              "  )\n",
              ")"
            ]
          },
          "metadata": {},
          "execution_count": 98
        }
      ]
    },
    {
      "cell_type": "code",
      "source": [
        "loss_fn = nn.CrossEntropyLoss().to(device)\n",
        "\n",
        "optimizer3 = optim.Adam(model.parameters(), lr = 0.01)"
      ],
      "metadata": {
        "id": "uhOsllXFD72U"
      },
      "execution_count": 99,
      "outputs": []
    },
    {
      "cell_type": "code",
      "source": [
        "losses = []\n",
        "\n",
        "for epoch in range(100):\n",
        "\n",
        "  optimizer3.zero_grad()\n",
        "  hypothesis = model(x_train3)\n",
        "\n",
        "  cost = loss_fn(hypothesis, y_train3)\n",
        "  cost.backward()\n",
        "  optimizer3.step()\n",
        "  losses.append(cost.item())\n",
        "\n",
        "  if epoch % 10 == 0:\n",
        "    print(epoch, cost.item())"
      ],
      "metadata": {
        "id": "F1bPm_gfD70R",
        "colab": {
          "base_uri": "https://localhost:8080/"
        },
        "outputId": "29496a9c-91b1-495f-9f91-3e16083a8b6f"
      },
      "execution_count": 100,
      "outputs": [
        {
          "output_type": "stream",
          "name": "stderr",
          "text": [
            "/usr/local/lib/python3.8/dist-packages/torch/nn/modules/container.py:204: UserWarning: Implicit dimension choice for softmax has been deprecated. Change the call to include dim=X as an argument.\n",
            "  input = module(input)\n"
          ]
        },
        {
          "output_type": "stream",
          "name": "stdout",
          "text": [
            "0 2.305945873260498\n",
            "10 1.8244860172271729\n",
            "20 1.6256773471832275\n",
            "30 1.562050700187683\n",
            "40 1.5024161338806152\n",
            "50 1.4836009740829468\n",
            "60 1.476760983467102\n",
            "70 1.474096417427063\n",
            "80 1.4731695652008057\n",
            "90 1.4718658924102783\n"
          ]
        }
      ]
    },
    {
      "cell_type": "code",
      "source": [
        "plt.plot(losses)\n",
        "plt.show()"
      ],
      "metadata": {
        "id": "jJ0oUJzgD7wF",
        "colab": {
          "base_uri": "https://localhost:8080/",
          "height": 265
        },
        "outputId": "19401962-6205-417d-b498-367b607ec912"
      },
      "execution_count": 101,
      "outputs": [
        {
          "output_type": "display_data",
          "data": {
            "text/plain": [
              "<Figure size 432x288 with 1 Axes>"
            ],
            "image/png": "[encoded data removed]"
          },
          "metadata": {
            "needs_background": "light"
          }
        }
      ]
    },
    {
      "cell_type": "code",
      "source": [
        "with torch.no_grad():\n",
        "  model = model.to('cpu')\n",
        "  y_pred = model(x_test3)\n",
        "  y_pred = y_pred.detach().numpy()\n",
        "  predicted = np.argmax(y_pred, axis = 1)\n",
        "  accuracy = (accuracy_score(predicted, y_test3))"
      ],
      "metadata": {
        "id": "rv1DV2WfD7uJ"
      },
      "execution_count": 102,
      "outputs": []
    },
    {
      "cell_type": "code",
      "source": [
        "print(f'model의 output은 :  {y_pred[0]}')\n",
        "print(f'argmax를 한 후의 output은 {predicted[0]}')\n",
        "print(f'accuracy는 {accuracy}')"
      ],
      "metadata": {
        "id": "u49JiFtqnrHm",
        "colab": {
          "base_uri": "https://localhost:8080/"
        },
        "outputId": "f884d8b4-0a90-4f77-af8b-03868fed6337"
      },
      "execution_count": 103,
      "outputs": [
        {
          "output_type": "stream",
          "name": "stdout",
          "text": [
            "model의 output은 :  [2.5955407e-08 9.9857306e-01 1.3807225e-09 3.3966728e-07 1.6101163e-06\n",
            " 4.7314636e-04 2.1216939e-08 2.6217320e-08 3.6878591e-05 9.1484148e-04]\n",
            "argmax를 한 후의 output은 1\n",
            "accuracy는 0.9703703703703703\n"
          ]
        }
      ]
    },
    {
      "cell_type": "markdown",
      "source": [
        "### 4번째 시도(ReLU만 사용)"
      ],
      "metadata": {
        "id": "baA_R29CnsRC"
      }
    },
    {
      "cell_type": "code",
      "source": [
        "x_train4, x_test4, y_train4, y_test4 = train_test_split(input, output, test_size = 0.3, stratify = data.target,\n",
        "                                                        shuffle = True)"
      ],
      "metadata": {
        "id": "OUxhcBpoFY7_"
      },
      "execution_count": 104,
      "outputs": []
    },
    {
      "cell_type": "code",
      "source": [
        "x_train = torch.FloatTensor(x_train4).to(device)\n",
        "y_train = torch.LongTensor(y_train4).to(device)\n",
        "x_test = torch.FloatTensor(x_test4)\n",
        "y_test = torch.LongTensor(y_test4)"
      ],
      "metadata": {
        "id": "L3AWpFEvFY5b"
      },
      "execution_count": 105,
      "outputs": []
    },
    {
      "cell_type": "code",
      "source": [
        "class CustomDataset(Dataset):\n",
        "  def __init__(self):\n",
        "    self.x_data = x_train\n",
        "    self.y_data = [[y] for y in y_train]\n",
        "\n",
        "  def __len__(self):\n",
        "    return len(self.x_data)\n",
        "\n",
        "  def __getitem__(self, idx):\n",
        "    x = torch.FloatTensor(self.x_data[idx]).to(device)\n",
        "    y = torch.FloatTensor(self.y_data[idx]).to(device)\n",
        "    return x, y"
      ],
      "metadata": {
        "id": "37OOZU1-ef8s"
      },
      "execution_count": 106,
      "outputs": []
    },
    {
      "cell_type": "code",
      "source": [
        "batch_size = 8\n",
        "\n",
        "dataset = CustomDataset()\n",
        "dataloader = DataLoader(dataset, batch_size = batch_size)"
      ],
      "metadata": {
        "id": "WCc0QI9Aef6j"
      },
      "execution_count": 107,
      "outputs": []
    },
    {
      "cell_type": "code",
      "source": [
        "model = nn.Sequential(\n",
        "    nn.Linear(64, 398, bias = True),\n",
        "    nn.ReLU(),\n",
        "    nn.Linear(398, 40, bias = True),\n",
        "    nn.ReLU(),\n",
        "    nn.Linear(40, 20, bias = True),\n",
        "    nn.ReLU(),\n",
        "    nn.Linear(20, 10, bias = True),\n",
        "    nn.Softmax()\n",
        "    )"
      ],
      "metadata": {
        "id": "r0pxoOm-ef4U"
      },
      "execution_count": 108,
      "outputs": []
    },
    {
      "cell_type": "code",
      "source": [
        "class Model(nn.Module):\n",
        "  def __init__(self):\n",
        "    super(Model, self).__init__()\n",
        "    \n",
        "    self.layer1 = nn.Sequential(\n",
        "        nn.Linear(64, 398, bias = True),\n",
        "        nn.ReLU(),\n",
        "        nn.BatchNorm1d(398)\n",
        "        )\n",
        "    \n",
        "    self.layer2 = nn.Sequential(\n",
        "        nn.Linear(398, 40, bias = True),\n",
        "        nn.ReLU()\n",
        "    )\n",
        "\n",
        "    self.layer3 = nn.Sequential(\n",
        "        nn.Linear(40, 20, bias = True),\n",
        "        nn.ReLU()\n",
        "    )\n",
        "    \n",
        "    self.layer4 = nn.Sequential(\n",
        "        nn.Linear(20, 10, bias = True),\n",
        "        nn.Softmax()\n",
        "    )\n",
        "\n",
        "  def forward(self, x):\n",
        "    output = self.layer1(x)\n",
        "    output = self.layer2(output)\n",
        "    output = self.layer3(output)\n",
        "    output = self.layer4(output)\n",
        "    return output"
      ],
      "metadata": {
        "id": "CMqQTILTnS20"
      },
      "execution_count": 109,
      "outputs": []
    },
    {
      "cell_type": "code",
      "source": [
        "def init_weight(layer):\n",
        "  if isinstance(layer, nn.Linear):\n",
        "    torch.nn.init.xavier_uniform(layer.weight)\n",
        "    layer.bias.data.fill_(0.01)"
      ],
      "metadata": {
        "id": "QvYQ9cbtpaB_"
      },
      "execution_count": 110,
      "outputs": []
    },
    {
      "cell_type": "code",
      "source": [
        "model = Model().to(device)\n",
        "model.apply(init_weight)"
      ],
      "metadata": {
        "colab": {
          "base_uri": "https://localhost:8080/"
        },
        "id": "PIh2RaQ1ssJI",
        "outputId": "02478a0b-3384-4a89-bae9-1a5a12cfe281"
      },
      "execution_count": 111,
      "outputs": [
        {
          "output_type": "stream",
          "name": "stderr",
          "text": [
            "<ipython-input-110-ad9d7f10013c>:3: UserWarning: nn.init.xavier_uniform is now deprecated in favor of nn.init.xavier_uniform_.\n",
            "  torch.nn.init.xavier_uniform(layer.weight)\n"
          ]
        },
        {
          "output_type": "execute_result",
          "data": {
            "text/plain": [
              "Model(\n",
              "  (layer1): Sequential(\n",
              "    (0): Linear(in_features=64, out_features=398, bias=True)\n",
              "    (1): ReLU()\n",
              "    (2): BatchNorm1d(398, eps=1e-05, momentum=0.1, affine=True, track_running_stats=True)\n",
              "  )\n",
              "  (layer2): Sequential(\n",
              "    (0): Linear(in_features=398, out_features=40, bias=True)\n",
              "    (1): ReLU()\n",
              "  )\n",
              "  (layer3): Sequential(\n",
              "    (0): Linear(in_features=40, out_features=20, bias=True)\n",
              "    (1): ReLU()\n",
              "  )\n",
              "  (layer4): Sequential(\n",
              "    (0): Linear(in_features=20, out_features=10, bias=True)\n",
              "    (1): Softmax(dim=None)\n",
              "  )\n",
              ")"
            ]
          },
          "metadata": {},
          "execution_count": 111
        }
      ]
    },
    {
      "cell_type": "code",
      "source": [
        "loss_fn = nn.CrossEntropyLoss().to(device)\n",
        "\n",
        "optimizer4 = optim.Adam(model.parameters(), lr = 0.01)"
      ],
      "metadata": {
        "id": "Z_tvWM-hpndi"
      },
      "execution_count": 112,
      "outputs": []
    },
    {
      "cell_type": "code",
      "source": [
        "losses = []\n",
        "\n",
        "for epoch in range(100):\n",
        "\n",
        "  optimizer4.zero_grad()\n",
        "  hypothesis = model(x_train)\n",
        "  cost = loss_fn(hypothesis, y_train)\n",
        "  cost.backward()\n",
        "  optimizer4.step()\n",
        "  losses.append(cost.item())\n",
        "\n",
        "  if epoch % 10 == 0:\n",
        "    print(epoch, cost.item())"
      ],
      "metadata": {
        "colab": {
          "base_uri": "https://localhost:8080/"
        },
        "id": "yLS_Ri6tpZ_F",
        "outputId": "4d99c272-1f3a-46aa-d3c1-1a44379057d1"
      },
      "execution_count": 113,
      "outputs": [
        {
          "output_type": "stream",
          "name": "stderr",
          "text": [
            "/usr/local/lib/python3.8/dist-packages/torch/nn/modules/container.py:204: UserWarning: Implicit dimension choice for softmax has been deprecated. Change the call to include dim=X as an argument.\n",
            "  input = module(input)\n"
          ]
        },
        {
          "output_type": "stream",
          "name": "stdout",
          "text": [
            "0 2.3124771118164062\n",
            "10 1.5068608522415161\n",
            "20 1.476772427558899\n",
            "30 1.4665262699127197\n",
            "40 1.4651814699172974\n",
            "50 1.4640038013458252\n",
            "60 1.4634960889816284\n",
            "70 1.4634603261947632\n",
            "80 1.4634519815444946\n",
            "90 1.4634226560592651\n"
          ]
        }
      ]
    },
    {
      "cell_type": "code",
      "source": [
        "plt.plot(losses)\n",
        "plt.show()"
      ],
      "metadata": {
        "colab": {
          "base_uri": "https://localhost:8080/",
          "height": 265
        },
        "id": "nNZiU16InS0m",
        "outputId": "b0387520-e691-488f-b0c6-2115eb3fc17e"
      },
      "execution_count": 114,
      "outputs": [
        {
          "output_type": "display_data",
          "data": {
            "text/plain": [
              "<Figure size 432x288 with 1 Axes>"
            ],
            "image/png": "[encoded data removed]"
          },
          "metadata": {
            "needs_background": "light"
          }
        }
      ]
    },
    {
      "cell_type": "code",
      "source": [
        "with torch.no_grad():\n",
        "  model = model.to('cpu')\n",
        "  y_pred = model(x_test)\n",
        "  y_pred = y_pred.detach().numpy()\n",
        "  predicted = np.argmax(y_pred, axis = 1)\n",
        "  accuracy = (accuracy_score(predicted, y_test))"
      ],
      "metadata": {
        "id": "b6geuOAbnSsB"
      },
      "execution_count": 115,
      "outputs": []
    },
    {
      "cell_type": "code",
      "source": [
        "print(f'model의 output은 :  {y_pred[0]}')\n",
        "print(f'argmax를 한 후의 output은 {predicted[0]}')\n",
        "print(f'accuracy는 {accuracy}')"
      ],
      "metadata": {
        "colab": {
          "base_uri": "https://localhost:8080/"
        },
        "id": "O-baV0v_rEzP",
        "outputId": "b3f7f563-cfca-47ef-82e4-356945431ca6"
      },
      "execution_count": 116,
      "outputs": [
        {
          "output_type": "stream",
          "name": "stdout",
          "text": [
            "model의 output은 :  [1.00000000e+00 2.86235479e-20 3.65332157e-12 1.29349076e-20\n",
            " 1.63440374e-18 1.04791634e-20 2.08505576e-13 4.91669140e-23\n",
            " 2.38489025e-13 1.62222554e-15]\n",
            "argmax를 한 후의 output은 0\n",
            "accuracy는 0.9592592592592593\n"
          ]
        }
      ]
    },
    {
      "cell_type": "markdown",
      "source": [
        "### 5번째 시도(layer, ReLU및 lr수정)"
      ],
      "metadata": {
        "id": "qHJuTKrvm2Z1"
      }
    },
    {
      "cell_type": "code",
      "source": [
        "x_train5, x_test5, y_train5, y_test5 = train_test_split(input, output, stratify = data.target,\n",
        "                                                         random_state = 42)\n",
        "\n",
        "x_train5 = torch.FloatTensor(x_train5).to(device)\n",
        "y_train5 = torch.FloatTensor(y_train5).to(device)\n",
        "x_test5 = torch.LongTensor(x_test5).to(device)\n",
        "y_test5 = torch.LongTensor(y_test5).to(device)"
      ],
      "metadata": {
        "id": "mFxjB9pam6yj"
      },
      "execution_count": 118,
      "outputs": []
    },
    {
      "cell_type": "code",
      "source": [
        "class CustomDataset(Dataset):\n",
        "  def __init__(self):\n",
        "    self.x_data = x_train5\n",
        "    self.y_data = [[y] for y in y_train]\n",
        "\n",
        "  def __len(self):\n",
        "    return len(self.x_data)\n",
        "\n",
        "  def __getitem__(self, idx):\n",
        "    x = torch.FloatTensor(self.x_data[idx]).to(device)\n",
        "    y = torch.FloatTensor(self.y_data[idx]).to(device)\n",
        "    return x, y"
      ],
      "metadata": {
        "id": "kuy-FAzsm6wA"
      },
      "execution_count": 121,
      "outputs": []
    },
    {
      "cell_type": "code",
      "source": [
        "batch_size = 8\n",
        "\n",
        "dataset = CustomDataset()\n",
        "dataloader = DataLoader(dataset, batch_size = batch_size)"
      ],
      "metadata": {
        "id": "HOErwZWQm6ts"
      },
      "execution_count": 123,
      "outputs": []
    },
    {
      "cell_type": "code",
      "source": [
        "model = nn.Sequential(\n",
        "    nn.Linear(64, 32),\n",
        "    nn.ReLU(),\n",
        "    nn.Linear(32, 16),\n",
        "    nn.ReLU(),\n",
        "    nn.Linear(16, 10),\n",
        "    nn.Softmax()\n",
        ").to(device)"
      ],
      "metadata": {
        "id": "bKncLopX0Rmy"
      },
      "execution_count": 125,
      "outputs": []
    },
    {
      "cell_type": "code",
      "source": [
        "class Model(nn.Module):\n",
        "  def __init__(self):\n",
        "    super(Model, self).__init__()\n",
        "\n",
        "    self.layer1 = nn.Sequential(\n",
        "        nn.Linear(64, 32),\n",
        "        nn.ReLU(),\n",
        "        nn.BatchNorm1d(32)\n",
        "    )\n",
        "\n",
        "    self.layer2 = nn.Sequential(\n",
        "        nn.Linear(32, 16),\n",
        "        nn.ReLU()\n",
        "    )\n",
        "\n",
        "    self.layer3 = nn.Sequential(\n",
        "        nn.Linear(16, 10),\n",
        "        nn.Softmax()\n",
        "    )\n",
        "\n",
        "  def forward(self, x):\n",
        "    output = self.layer1(x)\n",
        "    output = self.layer2(output)\n",
        "    output = self.layer3(output)\n",
        "    return output"
      ],
      "metadata": {
        "id": "ZxlMEB0s0Rkp"
      },
      "execution_count": 127,
      "outputs": []
    },
    {
      "cell_type": "code",
      "source": [
        "def init_weights(layer):\n",
        "    if isinstance(layer, nn.Linear):\n",
        "        torch.nn.init.xavier_uniform(layer.weight)\n",
        "        layer.bias.data.fill_(0.01)\n"
      ],
      "metadata": {
        "id": "6GVLNALo1dXN"
      },
      "execution_count": null,
      "outputs": []
    },
    {
      "cell_type": "code",
      "source": [
        "model = Model().to(device)\n",
        "model.apply(init_weight)"
      ],
      "metadata": {
        "colab": {
          "base_uri": "https://localhost:8080/"
        },
        "id": "5HKZaq_v0RiB",
        "outputId": "db41e097-a401-4e96-9eec-3e44ba081fa6"
      },
      "execution_count": 128,
      "outputs": [
        {
          "output_type": "stream",
          "name": "stderr",
          "text": [
            "<ipython-input-110-ad9d7f10013c>:3: UserWarning: nn.init.xavier_uniform is now deprecated in favor of nn.init.xavier_uniform_.\n",
            "  torch.nn.init.xavier_uniform(layer.weight)\n"
          ]
        },
        {
          "output_type": "execute_result",
          "data": {
            "text/plain": [
              "Model(\n",
              "  (layer1): Sequential(\n",
              "    (0): Linear(in_features=64, out_features=32, bias=True)\n",
              "    (1): ReLU()\n",
              "    (2): BatchNorm1d(32, eps=1e-05, momentum=0.1, affine=True, track_running_stats=True)\n",
              "  )\n",
              "  (layer2): Sequential(\n",
              "    (0): Linear(in_features=32, out_features=16, bias=True)\n",
              "    (1): ReLU()\n",
              "  )\n",
              "  (layer3): Sequential(\n",
              "    (0): Linear(in_features=16, out_features=10, bias=True)\n",
              "    (1): Softmax(dim=None)\n",
              "  )\n",
              ")"
            ]
          },
          "metadata": {},
          "execution_count": 128
        }
      ]
    },
    {
      "cell_type": "code",
      "source": [
        "loss_fn  = nn.CrossEntropyLoss().to(device)\n",
        "\n",
        "optimizer = optim.Adam(model.parameters(), lr= 0.03)\n"
      ],
      "metadata": {
        "id": "8Sk5AvxZ0Rfv"
      },
      "execution_count": 129,
      "outputs": []
    },
    {
      "cell_type": "code",
      "source": [
        "losses = []\n",
        "for epoch in range(100):\n",
        "\n",
        "  optimizer.zero_grad()\n",
        "  hypothesis = model(x_train)\n",
        "\n",
        "  # 비용 함수\n",
        "  cost = loss_fn(hypothesis, y_train)\n",
        "  cost.backward()\n",
        "  optimizer.step()\n",
        "  losses.append(cost.item())\n",
        "\n",
        "  if epoch % 10 == 0:\n",
        "    print(epoch, cost.item())"
      ],
      "metadata": {
        "colab": {
          "base_uri": "https://localhost:8080/"
        },
        "id": "OwfaLmzr1let",
        "outputId": "09ae6208-0af1-4c56-bee1-dd9bb30c0b85"
      },
      "execution_count": 130,
      "outputs": [
        {
          "output_type": "stream",
          "name": "stderr",
          "text": [
            "/usr/local/lib/python3.8/dist-packages/torch/nn/modules/container.py:204: UserWarning: Implicit dimension choice for softmax has been deprecated. Change the call to include dim=X as an argument.\n",
            "  input = module(input)\n"
          ]
        },
        {
          "output_type": "stream",
          "name": "stdout",
          "text": [
            "0 2.3116815090179443\n",
            "10 1.6555867195129395\n",
            "20 1.5181865692138672\n",
            "30 1.4785375595092773\n",
            "40 1.470747470855713\n",
            "50 1.4678915739059448\n",
            "60 1.4661439657211304\n",
            "70 1.465245246887207\n",
            "80 1.4651446342468262\n",
            "90 1.4643148183822632\n"
          ]
        }
      ]
    },
    {
      "cell_type": "code",
      "source": [
        "plt.plot(losses)\n",
        "plt.show()"
      ],
      "metadata": {
        "colab": {
          "base_uri": "https://localhost:8080/",
          "height": 265
        },
        "id": "ZlUnhyHJ0Rdr",
        "outputId": "7617bb45-0878-4516-a1e5-eac096e189cb"
      },
      "execution_count": 131,
      "outputs": [
        {
          "output_type": "display_data",
          "data": {
            "text/plain": [
              "<Figure size 432x288 with 1 Axes>"
            ],
            "image/png": "[encoded data removed]"
          },
          "metadata": {
            "needs_background": "light"
          }
        }
      ]
    },
    {
      "cell_type": "code",
      "source": [
        "with torch.no_grad():\n",
        "  model = model.to('cpu')\n",
        "  y_pred = model(x_test)\n",
        "  y_pred = y_pred.detach().numpy()\n",
        "  predicted = np.argmax(y_pred, axis =1)\n",
        "  accuracy = (accuracy_score(predicted, y_test))"
      ],
      "metadata": {
        "id": "NSMw6BpU1md6"
      },
      "execution_count": 132,
      "outputs": []
    },
    {
      "cell_type": "code",
      "source": [
        "print(f'model의 output은 :  {y_pred[0]}')\n",
        "print(f'argmax를 한 후의 output은 {predicted[0]}')\n",
        "print(f'accuracy는 {accuracy}')"
      ],
      "metadata": {
        "colab": {
          "base_uri": "https://localhost:8080/"
        },
        "id": "GEVJYK171nTD",
        "outputId": "fbc39a74-db7a-432a-e08d-6f0d93b88b46"
      },
      "execution_count": 133,
      "outputs": [
        {
          "output_type": "stream",
          "name": "stdout",
          "text": [
            "model의 output은 :  [9.9999976e-01 7.6478638e-17 4.2761522e-20 3.9924590e-14 4.7461324e-09\n",
            " 3.1968150e-11 4.1517803e-09 9.8357549e-18 2.9492099e-07 1.1116442e-08]\n",
            "argmax를 한 후의 output은 0\n",
            "accuracy는 0.9685185185185186\n"
          ]
        }
      ]
    },
    {
      "cell_type": "markdown",
      "source": [
        "# < 3주차 과제 2 : CNN 맛보기>"
      ],
      "metadata": {
        "id": "3RzRM7xThZV_"
      }
    },
    {
      "cell_type": "code",
      "source": [
        "from __future__ import print_function  # 어떤 버전을 사용하더라도 파이썬 3 print를 사용\n",
        "import argparse\n",
        "# import 파이썬 스크립트를 개발할 때, 호출 당시 인자값을 줘서 동작을 다르게 하고 싶은 경우가 있음\n",
        "# 이때, 파이썬 내장함수인 argparse 모듈을 사용하여 원하는 기능을 개발할 수 있음\n",
        "import torch\n",
        "import torch.nn as nn\n",
        "import torch.nn.functional as F\n",
        "import torch.optim as optim\n",
        "from torchvision import datasets, transforms\n",
        "from torch.autograd import Variable"
      ],
      "metadata": {
        "id": "56xqgtLxhZw6"
      },
      "execution_count": null,
      "outputs": []
    },
    {
      "cell_type": "code",
      "source": [
        "# Training settings\n",
        "\n",
        "batch_size = 64\n",
        "\n",
        "# MNIST Dataset\n",
        "train_dataset = datasets.MNIST(root='./data/',\n",
        "                               train=True,\n",
        "                               transform=transforms.ToTensor(),\n",
        "                               download=True)\n",
        "\n",
        "test_dataset = datasets.MNIST(root='./data/',\n",
        "                              train=False,\n",
        "                              transform=transforms.ToTensor())\n",
        "\n",
        "# Data Loader (Input Pipeline)\n",
        "train_loader = torch.utils.data.DataLoader(dataset=train_dataset,\n",
        "                                           batch_size=batch_size,\n",
        "                                           shuffle=True)\n",
        "\n",
        "test_loader = torch.utils.data.DataLoader(dataset=test_dataset,\n",
        "                                          batch_size=batch_size,\n",
        "                                          shuffle=False)"
      ],
      "metadata": {
        "id": "TzkF2bFNhcQ2",
        "colab": {
          "base_uri": "https://localhost:8080/",
          "height": 440,
          "referenced_widgets": [
            "f725dd6724a543c4ad11051057510cdb",
            "569fbcbbcdce4f4ca8dc166c1c41f5b6",
            "b977c0390bd74feaac7153effc465afb",
            "17ba873f56ea40769ca40a5c61e95958",
            "5b8bbe50a9584e9dbd182323aabe90c5",
            "fea9c9b6b8124ea29e372f4a13f0fcd2",
            "27f0344cd0b545589ff15b47732c93e7",
            "7ec040a236314b64b2741eb1497c5eb1",
            "0ce0491f48954615b59612fe5a9335a9",
            "579dbeb3aeaa46738d4ff73dbf3d4ca1",
            "d9770d4a452d4041865676cfbd1c1bbc",
            "6d51c6cc77bf4423a2d3d3ebcf3fc762",
            "21139298c7604300a2d26f7d6c53dbc3",
            "71bddb6c36c3455c948d728ec98da3ab",
            "28e60f9e8d074f278984d8c8cdf2c424",
            "8c1d02d05d184b818d9e45308bd410b4",
            "609d6c68ba5f46bdb73dbefaf0bc444c",
            "5cb4ceb2d1c9479b90b7d8655b3d5508",
            "bb5921b63ef94cc999868d3214174099",
            "c4bfbcb5de1c425b913b7f4df6b82f6a",
            "c24108f7ba034019b7b02f0ab2bca4c8",
            "4ee324f6de8f4ee0b26a88f0c5621ae0",
            "a53b22c5e3d545838f0d674159ab04f0",
            "ac1fc9edf0354436abcdf8018f771a4b",
            "4a4ef7adc4cd49f193b92f109cf3685b",
            "989d21247a31413094607981ce2fba7c",
            "6f765aab77014d98827ffe38ba6c074a",
            "25394c55b1db4ec09c7a03ca4fbbfb34",
            "fa5199defe524d3eb19f72b499f90184",
            "32d8b100b26c40d6981fed1eb5d206c1",
            "7559203f8f7d4dc68fba63978213a158",
            "af0831a393a74697b4623df1c30d7026",
            "e6e11561184545819ebfc90c9cfa8f65",
            "d7c62723f2b345e0a8b84543afa6f7a7",
            "b2f2639c13d648998cd143b342438574",
            "4342ed383219412cb7ed5459f23fa4ac",
            "937065f9477848d3a247e32bc32846c6",
            "84e9c20a78af49f7b23248f384717ba4",
            "8a01b73a0947486882f593af0f9d4da7",
            "1c92a4a677354fdab02c7962d403545f",
            "64f5ed93551248059857551ddc798e97",
            "a410daf2eec144218df5d4843bac8561",
            "d8225af29d0c455fbb01370588501861",
            "c5880879bf9a4a40b5222bd1631cd193"
          ]
        },
        "outputId": "0a937d79-e936-494b-b26f-de7e97278cf7"
      },
      "execution_count": null,
      "outputs": [
        {
          "output_type": "stream",
          "name": "stdout",
          "text": [
            "Downloading http://yann.lecun.com/exdb/mnist/train-images-idx3-ubyte.gz\n",
            "Downloading http://yann.lecun.com/exdb/mnist/train-images-idx3-ubyte.gz to ./data/MNIST/raw/train-images-idx3-ubyte.gz\n"
          ]
        },
        {
          "output_type": "display_data",
          "data": {
            "text/plain": [
              "  0%|          | 0/9912422 [00:00<?, ?it/s]"
            ],
            "application/vnd.jupyter.widget-view+json": {
              "version_major": 2,
              "version_minor": 0,
              "model_id": "f725dd6724a543c4ad11051057510cdb"
            }
          },
          "metadata": {}
        },
        {
          "output_type": "stream",
          "name": "stdout",
          "text": [
            "Extracting ./data/MNIST/raw/train-images-idx3-ubyte.gz to ./data/MNIST/raw\n",
            "\n",
            "Downloading http://yann.lecun.com/exdb/mnist/train-labels-idx1-ubyte.gz\n",
            "Downloading http://yann.lecun.com/exdb/mnist/train-labels-idx1-ubyte.gz to ./data/MNIST/raw/train-labels-idx1-ubyte.gz\n"
          ]
        },
        {
          "output_type": "display_data",
          "data": {
            "text/plain": [
              "  0%|          | 0/28881 [00:00<?, ?it/s]"
            ],
            "application/vnd.jupyter.widget-view+json": {
              "version_major": 2,
              "version_minor": 0,
              "model_id": "6d51c6cc77bf4423a2d3d3ebcf3fc762"
            }
          },
          "metadata": {}
        },
        {
          "output_type": "stream",
          "name": "stdout",
          "text": [
            "Extracting ./data/MNIST/raw/train-labels-idx1-ubyte.gz to ./data/MNIST/raw\n",
            "\n",
            "Downloading http://yann.lecun.com/exdb/mnist/t10k-images-idx3-ubyte.gz\n",
            "Downloading http://yann.lecun.com/exdb/mnist/t10k-images-idx3-ubyte.gz to ./data/MNIST/raw/t10k-images-idx3-ubyte.gz\n"
          ]
        },
        {
          "output_type": "display_data",
          "data": {
            "text/plain": [
              "  0%|          | 0/1648877 [00:00<?, ?it/s]"
            ],
            "application/vnd.jupyter.widget-view+json": {
              "version_major": 2,
              "version_minor": 0,
              "model_id": "a53b22c5e3d545838f0d674159ab04f0"
            }
          },
          "metadata": {}
        },
        {
          "output_type": "stream",
          "name": "stdout",
          "text": [
            "Extracting ./data/MNIST/raw/t10k-images-idx3-ubyte.gz to ./data/MNIST/raw\n",
            "\n",
            "Downloading http://yann.lecun.com/exdb/mnist/t10k-labels-idx1-ubyte.gz\n",
            "Downloading http://yann.lecun.com/exdb/mnist/t10k-labels-idx1-ubyte.gz to ./data/MNIST/raw/t10k-labels-idx1-ubyte.gz\n"
          ]
        },
        {
          "output_type": "display_data",
          "data": {
            "text/plain": [
              "  0%|          | 0/4542 [00:00<?, ?it/s]"
            ],
            "application/vnd.jupyter.widget-view+json": {
              "version_major": 2,
              "version_minor": 0,
              "model_id": "d7c62723f2b345e0a8b84543afa6f7a7"
            }
          },
          "metadata": {}
        },
        {
          "output_type": "stream",
          "name": "stdout",
          "text": [
            "Extracting ./data/MNIST/raw/t10k-labels-idx1-ubyte.gz to ./data/MNIST/raw\n",
            "\n"
          ]
        }
      ]
    },
    {
      "cell_type": "code",
      "source": [
        "class Net(nn.Module):\n",
        "  def __init__(self):\n",
        "    super(Net, self).__init__()\n",
        "    self.conv1 = nn.Conv2d(1, 10, kernel_size = 5)\n",
        "    self.conv2 = nn.Conv2d(10, 20, kernel_size = 5)\n",
        "    self.mp = nn.MaxPool2d(2)\n",
        "    self.fc = nn.Linear(320, 10) ### : 알맞는 input은?\n",
        "    # 123으로 초기 설정하면 mat1 and mat2 shapes cannot be multiplied (64x320 and 123x10)이라는 오류 발생\n",
        "    # 따라서 320으로 설정\n",
        "\n",
        "  def forward(self, x):\n",
        "    in_size = x.size(0)\n",
        "    x = F.relu(self.mp(self.conv1(x)))\n",
        "    x = F.relu(self.mp(self.conv2(x)))\n",
        "    x = x.view(in_size, -1)\n",
        "    x = self.fc(x)\n",
        "    return F.log_softmax(x)"
      ],
      "metadata": {
        "id": "tLCSvgganBrH"
      },
      "execution_count": null,
      "outputs": []
    },
    {
      "cell_type": "code",
      "source": [
        "model = Net()\n",
        "optimizer = optim.SGD(model.parameters(), lr = 0.01, momentum = 0.5)"
      ],
      "metadata": {
        "id": "lkYZ4pUdnUHc"
      },
      "execution_count": null,
      "outputs": []
    },
    {
      "cell_type": "code",
      "source": [
        "def train(epoch):\n",
        "  model.train() # layer들을 training mode로 바꿔줌\n",
        "  # ex) batch normalization layer에서는 batch statistics를 이용하고\n",
        "  # ex) dropout layer가 주어진 확률에 따라 활성화\n",
        "  for batch_idx, (data, target) in enumerate(train_loader):\n",
        "    data, target = Variable(data), Variable(target)\n",
        "    # Variable에 대해\n",
        "    # 현재는 Tensor 타입과 병합되었다고 한다. 즉, Tensor 타입에서 디폴트로 autograd 기능을 지원하도록 되어있다.\n",
        "    # PyTorch 0.4 이상 버전에서는 더이상 Variable을 사용할 필요가 없다. \n",
        "    # Legacy 코드에 Variable이 있다면 그냥 Tensor라고 생각하고 읽으면 된다.\n",
        "    \n",
        "    optimizer.zero_grad()\n",
        "    output = model(data)\n",
        "    loss = F.nll_loss(output, target)\n",
        "    loss.backward()\n",
        "    optimizer.step()\n",
        "    if batch_idx % 10 == 0:\n",
        "      print('Train Epoch: {} [{}/{} ({:.0f}%)]\\tLoss: {:.6f}'.format(\n",
        "          epoch, batch_idx * len(data), len(train_loader.dataset),\n",
        "          100. * batch_idx / len(train_loader), loss.item()))"
      ],
      "metadata": {
        "id": "IzUrEM3EnXJb"
      },
      "execution_count": null,
      "outputs": []
    },
    {
      "cell_type": "code",
      "source": [
        "def test():\n",
        "    model.eval() #model.eval() 의 기능은? : \n",
        "    # eval은 evaluation 과정에서 사용하지 않아야 하는 layer들을 알아서 off 시키도록 하는 함수\n",
        "    # layer들을 evaluation mode로 바꿔줌\n",
        "    # ex) dropout layer는 비활성화\n",
        "    # model.eval = model.train(False)\n",
        "\n",
        "    test_loss = 0\n",
        "    correct = 0\n",
        "    for data, target in test_loader:\n",
        "        data, target = Variable(data, volatile=True), Variable(target)\n",
        "        # volatile=True 옵션은 backprop은 하지 않고 forward prop만 할 때 사용\n",
        "        # forward prop을 하면서 지나간 모든 layer들에 있는 activation 값들을 따로 저장하지 않음.\n",
        "        \n",
        "        output = model(data)\n",
        "        test_loss += F.nll_loss(output, target, size_average=False).data # nll_loss?? / cross entropy loss와의 관계 확인!\n",
        "        # CrossEntropyLoss 에서는 LogSoftmax 를 적용한 후 Negative Log-likelihood(NLL) Loss를 적용\n",
        "        # NLLLoss 안에서는 softmax나 log함수가 이뤄지지 않습니다. \n",
        "        # 그래서 모델 output(raw data)을 input으로 그대로 사용하는 것이 아니라 LogSoftmax 함수를 적용한 후 input으로 사용\n",
        "        pred = output.data.max(1, keepdim=True)[1]\n",
        "        correct += pred.eq(target.data.view_as(pred)).cpu().sum()\n",
        "        # torch.eq -> 같으면 True, 다르면 False\n",
        "\n",
        "    test_loss /= len(test_loader.dataset)\n",
        "    print('\\nTest set: Average loss: {:.4f}, Accuracy: {}/{} ({:.0f}%)\\n'.format(\n",
        "        test_loss, correct, len(test_loader.dataset),\n",
        "        100. * correct / len(test_loader.dataset)))"
      ],
      "metadata": {
        "id": "EFi0gYJGn2aa"
      },
      "execution_count": null,
      "outputs": []
    },
    {
      "cell_type": "code",
      "source": [
        "for epoch in range(1, 10):\n",
        "    train(epoch)\n",
        "    test()"
      ],
      "metadata": {
        "id": "zSvSZb_Bn4Nx",
        "colab": {
          "base_uri": "https://localhost:8080/"
        },
        "outputId": "3b13f2cb-9137-43ba-aa49-c513463df08d"
      },
      "execution_count": null,
      "outputs": [
        {
          "output_type": "stream",
          "name": "stderr",
          "text": [
            "<ipython-input-51-5ee9f2c94ea9>:17: UserWarning: Implicit dimension choice for log_softmax has been deprecated. Change the call to include dim=X as an argument.\n",
            "  return F.log_softmax(x)\n"
          ]
        },
        {
          "output_type": "stream",
          "name": "stdout",
          "text": [
            "Train Epoch: 1 [0/60000 (0%)]\tLoss: 2.285802\n",
            "Train Epoch: 1 [640/60000 (1%)]\tLoss: 2.297466\n",
            "Train Epoch: 1 [1280/60000 (2%)]\tLoss: 2.271355\n",
            "Train Epoch: 1 [1920/60000 (3%)]\tLoss: 2.270036\n",
            "Train Epoch: 1 [2560/60000 (4%)]\tLoss: 2.262640\n",
            "Train Epoch: 1 [3200/60000 (5%)]\tLoss: 2.234005\n",
            "Train Epoch: 1 [3840/60000 (6%)]\tLoss: 2.203182\n",
            "Train Epoch: 1 [4480/60000 (7%)]\tLoss: 2.159316\n",
            "Train Epoch: 1 [5120/60000 (9%)]\tLoss: 2.116415\n",
            "Train Epoch: 1 [5760/60000 (10%)]\tLoss: 2.065259\n",
            "Train Epoch: 1 [6400/60000 (11%)]\tLoss: 2.022405\n",
            "Train Epoch: 1 [7040/60000 (12%)]\tLoss: 1.843505\n",
            "Train Epoch: 1 [7680/60000 (13%)]\tLoss: 1.605751\n",
            "Train Epoch: 1 [8320/60000 (14%)]\tLoss: 1.439020\n",
            "Train Epoch: 1 [8960/60000 (15%)]\tLoss: 1.052423\n",
            "Train Epoch: 1 [9600/60000 (16%)]\tLoss: 0.925142\n",
            "Train Epoch: 1 [10240/60000 (17%)]\tLoss: 0.791331\n",
            "Train Epoch: 1 [10880/60000 (18%)]\tLoss: 0.833732\n",
            "Train Epoch: 1 [11520/60000 (19%)]\tLoss: 0.673839\n",
            "Train Epoch: 1 [12160/60000 (20%)]\tLoss: 0.432406\n",
            "Train Epoch: 1 [12800/60000 (21%)]\tLoss: 0.590329\n",
            "Train Epoch: 1 [13440/60000 (22%)]\tLoss: 0.530877\n",
            "Train Epoch: 1 [14080/60000 (23%)]\tLoss: 0.696784\n",
            "Train Epoch: 1 [14720/60000 (25%)]\tLoss: 0.368362\n",
            "Train Epoch: 1 [15360/60000 (26%)]\tLoss: 0.345305\n",
            "Train Epoch: 1 [16000/60000 (27%)]\tLoss: 0.571204\n",
            "Train Epoch: 1 [16640/60000 (28%)]\tLoss: 0.466313\n",
            "Train Epoch: 1 [17280/60000 (29%)]\tLoss: 0.363192\n",
            "Train Epoch: 1 [17920/60000 (30%)]\tLoss: 0.440024\n",
            "Train Epoch: 1 [18560/60000 (31%)]\tLoss: 0.345082\n",
            "Train Epoch: 1 [19200/60000 (32%)]\tLoss: 0.369740\n",
            "Train Epoch: 1 [19840/60000 (33%)]\tLoss: 0.471453\n",
            "Train Epoch: 1 [20480/60000 (34%)]\tLoss: 0.513705\n",
            "Train Epoch: 1 [21120/60000 (35%)]\tLoss: 0.325773\n",
            "Train Epoch: 1 [21760/60000 (36%)]\tLoss: 0.241615\n",
            "Train Epoch: 1 [22400/60000 (37%)]\tLoss: 0.425473\n",
            "Train Epoch: 1 [23040/60000 (38%)]\tLoss: 0.363412\n",
            "Train Epoch: 1 [23680/60000 (39%)]\tLoss: 0.278977\n",
            "Train Epoch: 1 [24320/60000 (41%)]\tLoss: 0.321286\n",
            "Train Epoch: 1 [24960/60000 (42%)]\tLoss: 0.337865\n",
            "Train Epoch: 1 [25600/60000 (43%)]\tLoss: 0.313577\n",
            "Train Epoch: 1 [26240/60000 (44%)]\tLoss: 0.360741\n",
            "Train Epoch: 1 [26880/60000 (45%)]\tLoss: 0.303329\n",
            "Train Epoch: 1 [27520/60000 (46%)]\tLoss: 0.365155\n",
            "Train Epoch: 1 [28160/60000 (47%)]\tLoss: 0.397399\n",
            "Train Epoch: 1 [28800/60000 (48%)]\tLoss: 0.199635\n",
            "Train Epoch: 1 [29440/60000 (49%)]\tLoss: 0.256045\n",
            "Train Epoch: 1 [30080/60000 (50%)]\tLoss: 0.353902\n",
            "Train Epoch: 1 [30720/60000 (51%)]\tLoss: 0.305152\n",
            "Train Epoch: 1 [31360/60000 (52%)]\tLoss: 0.205275\n",
            "Train Epoch: 1 [32000/60000 (53%)]\tLoss: 0.192567\n",
            "Train Epoch: 1 [32640/60000 (54%)]\tLoss: 0.212578\n",
            "Train Epoch: 1 [33280/60000 (55%)]\tLoss: 0.163596\n",
            "Train Epoch: 1 [33920/60000 (57%)]\tLoss: 0.193968\n",
            "Train Epoch: 1 [34560/60000 (58%)]\tLoss: 0.244152\n",
            "Train Epoch: 1 [35200/60000 (59%)]\tLoss: 0.346751\n",
            "Train Epoch: 1 [35840/60000 (60%)]\tLoss: 0.258802\n",
            "Train Epoch: 1 [36480/60000 (61%)]\tLoss: 0.271480\n",
            "Train Epoch: 1 [37120/60000 (62%)]\tLoss: 0.276052\n",
            "Train Epoch: 1 [37760/60000 (63%)]\tLoss: 0.222797\n",
            "Train Epoch: 1 [38400/60000 (64%)]\tLoss: 0.304110\n",
            "Train Epoch: 1 [39040/60000 (65%)]\tLoss: 0.304785\n",
            "Train Epoch: 1 [39680/60000 (66%)]\tLoss: 0.314484\n",
            "Train Epoch: 1 [40320/60000 (67%)]\tLoss: 0.238722\n",
            "Train Epoch: 1 [40960/60000 (68%)]\tLoss: 0.305305\n",
            "Train Epoch: 1 [41600/60000 (69%)]\tLoss: 0.221019\n",
            "Train Epoch: 1 [42240/60000 (70%)]\tLoss: 0.302314\n",
            "Train Epoch: 1 [42880/60000 (71%)]\tLoss: 0.147840\n",
            "Train Epoch: 1 [43520/60000 (72%)]\tLoss: 0.195163\n",
            "Train Epoch: 1 [44160/60000 (74%)]\tLoss: 0.160058\n",
            "Train Epoch: 1 [44800/60000 (75%)]\tLoss: 0.330543\n",
            "Train Epoch: 1 [45440/60000 (76%)]\tLoss: 0.382269\n",
            "Train Epoch: 1 [46080/60000 (77%)]\tLoss: 0.139115\n",
            "Train Epoch: 1 [46720/60000 (78%)]\tLoss: 0.155097\n",
            "Train Epoch: 1 [47360/60000 (79%)]\tLoss: 0.197412\n",
            "Train Epoch: 1 [48000/60000 (80%)]\tLoss: 0.216578\n",
            "Train Epoch: 1 [48640/60000 (81%)]\tLoss: 0.183638\n",
            "Train Epoch: 1 [49280/60000 (82%)]\tLoss: 0.221819\n",
            "Train Epoch: 1 [49920/60000 (83%)]\tLoss: 0.180601\n",
            "Train Epoch: 1 [50560/60000 (84%)]\tLoss: 0.138305\n",
            "Train Epoch: 1 [51200/60000 (85%)]\tLoss: 0.208963\n",
            "Train Epoch: 1 [51840/60000 (86%)]\tLoss: 0.147132\n",
            "Train Epoch: 1 [52480/60000 (87%)]\tLoss: 0.196420\n",
            "Train Epoch: 1 [53120/60000 (88%)]\tLoss: 0.180085\n",
            "Train Epoch: 1 [53760/60000 (90%)]\tLoss: 0.236570\n",
            "Train Epoch: 1 [54400/60000 (91%)]\tLoss: 0.360771\n",
            "Train Epoch: 1 [55040/60000 (92%)]\tLoss: 0.089581\n",
            "Train Epoch: 1 [55680/60000 (93%)]\tLoss: 0.102905\n",
            "Train Epoch: 1 [56320/60000 (94%)]\tLoss: 0.319645\n",
            "Train Epoch: 1 [56960/60000 (95%)]\tLoss: 0.150941\n",
            "Train Epoch: 1 [57600/60000 (96%)]\tLoss: 0.151712\n",
            "Train Epoch: 1 [58240/60000 (97%)]\tLoss: 0.116609\n",
            "Train Epoch: 1 [58880/60000 (98%)]\tLoss: 0.123533\n",
            "Train Epoch: 1 [59520/60000 (99%)]\tLoss: 0.187281\n"
          ]
        },
        {
          "output_type": "stream",
          "name": "stderr",
          "text": [
            "<ipython-input-54-e1e3567ce661>:11: UserWarning: volatile was removed and now has no effect. Use `with torch.no_grad():` instead.\n",
            "  data, target = Variable(data, volatile=True), Variable(target)\n",
            "/usr/local/lib/python3.8/dist-packages/torch/nn/_reduction.py:42: UserWarning: size_average and reduce args will be deprecated, please use reduction='sum' instead.\n",
            "  warnings.warn(warning.format(ret))\n"
          ]
        },
        {
          "output_type": "stream",
          "name": "stdout",
          "text": [
            "\n",
            "Test set: Average loss: 0.1769, Accuracy: 9464/10000 (95%)\n",
            "\n",
            "Train Epoch: 2 [0/60000 (0%)]\tLoss: 0.186733\n",
            "Train Epoch: 2 [640/60000 (1%)]\tLoss: 0.095128\n",
            "Train Epoch: 2 [1280/60000 (2%)]\tLoss: 0.080813\n",
            "Train Epoch: 2 [1920/60000 (3%)]\tLoss: 0.049497\n",
            "Train Epoch: 2 [2560/60000 (4%)]\tLoss: 0.178470\n",
            "Train Epoch: 2 [3200/60000 (5%)]\tLoss: 0.311309\n",
            "Train Epoch: 2 [3840/60000 (6%)]\tLoss: 0.121184\n",
            "Train Epoch: 2 [4480/60000 (7%)]\tLoss: 0.398396\n",
            "Train Epoch: 2 [5120/60000 (9%)]\tLoss: 0.294877\n",
            "Train Epoch: 2 [5760/60000 (10%)]\tLoss: 0.291725\n",
            "Train Epoch: 2 [6400/60000 (11%)]\tLoss: 0.182255\n",
            "Train Epoch: 2 [7040/60000 (12%)]\tLoss: 0.217493\n",
            "Train Epoch: 2 [7680/60000 (13%)]\tLoss: 0.265823\n",
            "Train Epoch: 2 [8320/60000 (14%)]\tLoss: 0.200416\n",
            "Train Epoch: 2 [8960/60000 (15%)]\tLoss: 0.123568\n",
            "Train Epoch: 2 [9600/60000 (16%)]\tLoss: 0.171012\n",
            "Train Epoch: 2 [10240/60000 (17%)]\tLoss: 0.041239\n",
            "Train Epoch: 2 [10880/60000 (18%)]\tLoss: 0.043066\n",
            "Train Epoch: 2 [11520/60000 (19%)]\tLoss: 0.234413\n",
            "Train Epoch: 2 [12160/60000 (20%)]\tLoss: 0.146856\n",
            "Train Epoch: 2 [12800/60000 (21%)]\tLoss: 0.144406\n",
            "Train Epoch: 2 [13440/60000 (22%)]\tLoss: 0.117805\n",
            "Train Epoch: 2 [14080/60000 (23%)]\tLoss: 0.089315\n",
            "Train Epoch: 2 [14720/60000 (25%)]\tLoss: 0.236083\n",
            "Train Epoch: 2 [15360/60000 (26%)]\tLoss: 0.067021\n",
            "Train Epoch: 2 [16000/60000 (27%)]\tLoss: 0.073484\n",
            "Train Epoch: 2 [16640/60000 (28%)]\tLoss: 0.530218\n",
            "Train Epoch: 2 [17280/60000 (29%)]\tLoss: 0.112436\n",
            "Train Epoch: 2 [17920/60000 (30%)]\tLoss: 0.121830\n",
            "Train Epoch: 2 [18560/60000 (31%)]\tLoss: 0.141451\n",
            "Train Epoch: 2 [19200/60000 (32%)]\tLoss: 0.187220\n",
            "Train Epoch: 2 [19840/60000 (33%)]\tLoss: 0.088720\n",
            "Train Epoch: 2 [20480/60000 (34%)]\tLoss: 0.239963\n",
            "Train Epoch: 2 [21120/60000 (35%)]\tLoss: 0.109643\n",
            "Train Epoch: 2 [21760/60000 (36%)]\tLoss: 0.201163\n",
            "Train Epoch: 2 [22400/60000 (37%)]\tLoss: 0.248132\n",
            "Train Epoch: 2 [23040/60000 (38%)]\tLoss: 0.130992\n",
            "Train Epoch: 2 [23680/60000 (39%)]\tLoss: 0.131762\n",
            "Train Epoch: 2 [24320/60000 (41%)]\tLoss: 0.320180\n",
            "Train Epoch: 2 [24960/60000 (42%)]\tLoss: 0.120314\n",
            "Train Epoch: 2 [25600/60000 (43%)]\tLoss: 0.095574\n",
            "Train Epoch: 2 [26240/60000 (44%)]\tLoss: 0.255325\n",
            "Train Epoch: 2 [26880/60000 (45%)]\tLoss: 0.270372\n",
            "Train Epoch: 2 [27520/60000 (46%)]\tLoss: 0.118813\n",
            "Train Epoch: 2 [28160/60000 (47%)]\tLoss: 0.086809\n",
            "Train Epoch: 2 [28800/60000 (48%)]\tLoss: 0.223637\n",
            "Train Epoch: 2 [29440/60000 (49%)]\tLoss: 0.078179\n",
            "Train Epoch: 2 [30080/60000 (50%)]\tLoss: 0.118486\n",
            "Train Epoch: 2 [30720/60000 (51%)]\tLoss: 0.080996\n",
            "Train Epoch: 2 [31360/60000 (52%)]\tLoss: 0.291843\n",
            "Train Epoch: 2 [32000/60000 (53%)]\tLoss: 0.201863\n",
            "Train Epoch: 2 [32640/60000 (54%)]\tLoss: 0.151807\n",
            "Train Epoch: 2 [33280/60000 (55%)]\tLoss: 0.182947\n",
            "Train Epoch: 2 [33920/60000 (57%)]\tLoss: 0.128274\n",
            "Train Epoch: 2 [34560/60000 (58%)]\tLoss: 0.197382\n",
            "Train Epoch: 2 [35200/60000 (59%)]\tLoss: 0.061152\n",
            "Train Epoch: 2 [35840/60000 (60%)]\tLoss: 0.098491\n",
            "Train Epoch: 2 [36480/60000 (61%)]\tLoss: 0.225709\n",
            "Train Epoch: 2 [37120/60000 (62%)]\tLoss: 0.133527\n",
            "Train Epoch: 2 [37760/60000 (63%)]\tLoss: 0.097680\n",
            "Train Epoch: 2 [38400/60000 (64%)]\tLoss: 0.206609\n",
            "Train Epoch: 2 [39040/60000 (65%)]\tLoss: 0.041714\n",
            "Train Epoch: 2 [39680/60000 (66%)]\tLoss: 0.086955\n",
            "Train Epoch: 2 [40320/60000 (67%)]\tLoss: 0.109502\n",
            "Train Epoch: 2 [40960/60000 (68%)]\tLoss: 0.059804\n",
            "Train Epoch: 2 [41600/60000 (69%)]\tLoss: 0.139705\n",
            "Train Epoch: 2 [42240/60000 (70%)]\tLoss: 0.171983\n",
            "Train Epoch: 2 [42880/60000 (71%)]\tLoss: 0.068395\n",
            "Train Epoch: 2 [43520/60000 (72%)]\tLoss: 0.248075\n",
            "Train Epoch: 2 [44160/60000 (74%)]\tLoss: 0.045399\n",
            "Train Epoch: 2 [44800/60000 (75%)]\tLoss: 0.148694\n",
            "Train Epoch: 2 [45440/60000 (76%)]\tLoss: 0.285523\n",
            "Train Epoch: 2 [46080/60000 (77%)]\tLoss: 0.190487\n",
            "Train Epoch: 2 [46720/60000 (78%)]\tLoss: 0.082003\n",
            "Train Epoch: 2 [47360/60000 (79%)]\tLoss: 0.134026\n",
            "Train Epoch: 2 [48000/60000 (80%)]\tLoss: 0.073867\n",
            "Train Epoch: 2 [48640/60000 (81%)]\tLoss: 0.067569\n",
            "Train Epoch: 2 [49280/60000 (82%)]\tLoss: 0.104187\n",
            "Train Epoch: 2 [49920/60000 (83%)]\tLoss: 0.078923\n",
            "Train Epoch: 2 [50560/60000 (84%)]\tLoss: 0.159795\n",
            "Train Epoch: 2 [51200/60000 (85%)]\tLoss: 0.094409\n",
            "Train Epoch: 2 [51840/60000 (86%)]\tLoss: 0.211483\n",
            "Train Epoch: 2 [52480/60000 (87%)]\tLoss: 0.134717\n",
            "Train Epoch: 2 [53120/60000 (88%)]\tLoss: 0.134541\n",
            "Train Epoch: 2 [53760/60000 (90%)]\tLoss: 0.178113\n",
            "Train Epoch: 2 [54400/60000 (91%)]\tLoss: 0.086124\n",
            "Train Epoch: 2 [55040/60000 (92%)]\tLoss: 0.103240\n",
            "Train Epoch: 2 [55680/60000 (93%)]\tLoss: 0.078388\n",
            "Train Epoch: 2 [56320/60000 (94%)]\tLoss: 0.044001\n",
            "Train Epoch: 2 [56960/60000 (95%)]\tLoss: 0.046152\n",
            "Train Epoch: 2 [57600/60000 (96%)]\tLoss: 0.178259\n",
            "Train Epoch: 2 [58240/60000 (97%)]\tLoss: 0.269247\n",
            "Train Epoch: 2 [58880/60000 (98%)]\tLoss: 0.088528\n",
            "Train Epoch: 2 [59520/60000 (99%)]\tLoss: 0.073334\n",
            "\n",
            "Test set: Average loss: 0.1143, Accuracy: 9652/10000 (97%)\n",
            "\n",
            "Train Epoch: 3 [0/60000 (0%)]\tLoss: 0.082800\n",
            "Train Epoch: 3 [640/60000 (1%)]\tLoss: 0.141717\n",
            "Train Epoch: 3 [1280/60000 (2%)]\tLoss: 0.087765\n",
            "Train Epoch: 3 [1920/60000 (3%)]\tLoss: 0.105880\n",
            "Train Epoch: 3 [2560/60000 (4%)]\tLoss: 0.138614\n",
            "Train Epoch: 3 [3200/60000 (5%)]\tLoss: 0.130469\n",
            "Train Epoch: 3 [3840/60000 (6%)]\tLoss: 0.076951\n",
            "Train Epoch: 3 [4480/60000 (7%)]\tLoss: 0.049938\n",
            "Train Epoch: 3 [5120/60000 (9%)]\tLoss: 0.063612\n",
            "Train Epoch: 3 [5760/60000 (10%)]\tLoss: 0.190496\n",
            "Train Epoch: 3 [6400/60000 (11%)]\tLoss: 0.117605\n",
            "Train Epoch: 3 [7040/60000 (12%)]\tLoss: 0.075728\n",
            "Train Epoch: 3 [7680/60000 (13%)]\tLoss: 0.041303\n",
            "Train Epoch: 3 [8320/60000 (14%)]\tLoss: 0.143749\n",
            "Train Epoch: 3 [8960/60000 (15%)]\tLoss: 0.120759\n",
            "Train Epoch: 3 [9600/60000 (16%)]\tLoss: 0.023047\n",
            "Train Epoch: 3 [10240/60000 (17%)]\tLoss: 0.177472\n",
            "Train Epoch: 3 [10880/60000 (18%)]\tLoss: 0.220746\n",
            "Train Epoch: 3 [11520/60000 (19%)]\tLoss: 0.162674\n",
            "Train Epoch: 3 [12160/60000 (20%)]\tLoss: 0.027641\n",
            "Train Epoch: 3 [12800/60000 (21%)]\tLoss: 0.082725\n",
            "Train Epoch: 3 [13440/60000 (22%)]\tLoss: 0.038507\n",
            "Train Epoch: 3 [14080/60000 (23%)]\tLoss: 0.110399\n",
            "Train Epoch: 3 [14720/60000 (25%)]\tLoss: 0.087900\n",
            "Train Epoch: 3 [15360/60000 (26%)]\tLoss: 0.088343\n",
            "Train Epoch: 3 [16000/60000 (27%)]\tLoss: 0.047036\n",
            "Train Epoch: 3 [16640/60000 (28%)]\tLoss: 0.058663\n",
            "Train Epoch: 3 [17280/60000 (29%)]\tLoss: 0.078374\n",
            "Train Epoch: 3 [17920/60000 (30%)]\tLoss: 0.100031\n",
            "Train Epoch: 3 [18560/60000 (31%)]\tLoss: 0.026248\n",
            "Train Epoch: 3 [19200/60000 (32%)]\tLoss: 0.038296\n",
            "Train Epoch: 3 [19840/60000 (33%)]\tLoss: 0.112929\n",
            "Train Epoch: 3 [20480/60000 (34%)]\tLoss: 0.025117\n",
            "Train Epoch: 3 [21120/60000 (35%)]\tLoss: 0.102993\n",
            "Train Epoch: 3 [21760/60000 (36%)]\tLoss: 0.122322\n",
            "Train Epoch: 3 [22400/60000 (37%)]\tLoss: 0.075891\n",
            "Train Epoch: 3 [23040/60000 (38%)]\tLoss: 0.126300\n",
            "Train Epoch: 3 [23680/60000 (39%)]\tLoss: 0.204389\n",
            "Train Epoch: 3 [24320/60000 (41%)]\tLoss: 0.063448\n",
            "Train Epoch: 3 [24960/60000 (42%)]\tLoss: 0.281504\n",
            "Train Epoch: 3 [25600/60000 (43%)]\tLoss: 0.154434\n",
            "Train Epoch: 3 [26240/60000 (44%)]\tLoss: 0.065604\n",
            "Train Epoch: 3 [26880/60000 (45%)]\tLoss: 0.098181\n",
            "Train Epoch: 3 [27520/60000 (46%)]\tLoss: 0.071175\n",
            "Train Epoch: 3 [28160/60000 (47%)]\tLoss: 0.308358\n",
            "Train Epoch: 3 [28800/60000 (48%)]\tLoss: 0.050978\n",
            "Train Epoch: 3 [29440/60000 (49%)]\tLoss: 0.041995\n",
            "Train Epoch: 3 [30080/60000 (50%)]\tLoss: 0.091750\n",
            "Train Epoch: 3 [30720/60000 (51%)]\tLoss: 0.046344\n",
            "Train Epoch: 3 [31360/60000 (52%)]\tLoss: 0.145861\n",
            "Train Epoch: 3 [32000/60000 (53%)]\tLoss: 0.094319\n",
            "Train Epoch: 3 [32640/60000 (54%)]\tLoss: 0.066837\n",
            "Train Epoch: 3 [33280/60000 (55%)]\tLoss: 0.069746\n",
            "Train Epoch: 3 [33920/60000 (57%)]\tLoss: 0.038956\n",
            "Train Epoch: 3 [34560/60000 (58%)]\tLoss: 0.051944\n",
            "Train Epoch: 3 [35200/60000 (59%)]\tLoss: 0.051617\n",
            "Train Epoch: 3 [35840/60000 (60%)]\tLoss: 0.073886\n",
            "Train Epoch: 3 [36480/60000 (61%)]\tLoss: 0.142217\n",
            "Train Epoch: 3 [37120/60000 (62%)]\tLoss: 0.145450\n",
            "Train Epoch: 3 [37760/60000 (63%)]\tLoss: 0.047037\n",
            "Train Epoch: 3 [38400/60000 (64%)]\tLoss: 0.065258\n",
            "Train Epoch: 3 [39040/60000 (65%)]\tLoss: 0.075101\n",
            "Train Epoch: 3 [39680/60000 (66%)]\tLoss: 0.154756\n",
            "Train Epoch: 3 [40320/60000 (67%)]\tLoss: 0.087405\n",
            "Train Epoch: 3 [40960/60000 (68%)]\tLoss: 0.220373\n",
            "Train Epoch: 3 [41600/60000 (69%)]\tLoss: 0.036597\n",
            "Train Epoch: 3 [42240/60000 (70%)]\tLoss: 0.141294\n",
            "Train Epoch: 3 [42880/60000 (71%)]\tLoss: 0.051829\n",
            "Train Epoch: 3 [43520/60000 (72%)]\tLoss: 0.108734\n",
            "Train Epoch: 3 [44160/60000 (74%)]\tLoss: 0.087687\n",
            "Train Epoch: 3 [44800/60000 (75%)]\tLoss: 0.072288\n",
            "Train Epoch: 3 [45440/60000 (76%)]\tLoss: 0.038870\n",
            "Train Epoch: 3 [46080/60000 (77%)]\tLoss: 0.109871\n",
            "Train Epoch: 3 [46720/60000 (78%)]\tLoss: 0.057045\n",
            "Train Epoch: 3 [47360/60000 (79%)]\tLoss: 0.185455\n",
            "Train Epoch: 3 [48000/60000 (80%)]\tLoss: 0.127340\n",
            "Train Epoch: 3 [48640/60000 (81%)]\tLoss: 0.110739\n",
            "Train Epoch: 3 [49280/60000 (82%)]\tLoss: 0.089107\n",
            "Train Epoch: 3 [49920/60000 (83%)]\tLoss: 0.070654\n",
            "Train Epoch: 3 [50560/60000 (84%)]\tLoss: 0.060198\n",
            "Train Epoch: 3 [51200/60000 (85%)]\tLoss: 0.058082\n",
            "Train Epoch: 3 [51840/60000 (86%)]\tLoss: 0.024009\n",
            "Train Epoch: 3 [52480/60000 (87%)]\tLoss: 0.102833\n",
            "Train Epoch: 3 [53120/60000 (88%)]\tLoss: 0.105344\n",
            "Train Epoch: 3 [53760/60000 (90%)]\tLoss: 0.199082\n",
            "Train Epoch: 3 [54400/60000 (91%)]\tLoss: 0.084273\n",
            "Train Epoch: 3 [55040/60000 (92%)]\tLoss: 0.114589\n",
            "Train Epoch: 3 [55680/60000 (93%)]\tLoss: 0.040818\n",
            "Train Epoch: 3 [56320/60000 (94%)]\tLoss: 0.132316\n",
            "Train Epoch: 3 [56960/60000 (95%)]\tLoss: 0.065584\n",
            "Train Epoch: 3 [57600/60000 (96%)]\tLoss: 0.052027\n",
            "Train Epoch: 3 [58240/60000 (97%)]\tLoss: 0.057279\n",
            "Train Epoch: 3 [58880/60000 (98%)]\tLoss: 0.087914\n",
            "Train Epoch: 3 [59520/60000 (99%)]\tLoss: 0.138553\n",
            "\n",
            "Test set: Average loss: 0.0917, Accuracy: 9728/10000 (97%)\n",
            "\n",
            "Train Epoch: 4 [0/60000 (0%)]\tLoss: 0.095791\n",
            "Train Epoch: 4 [640/60000 (1%)]\tLoss: 0.101406\n",
            "Train Epoch: 4 [1280/60000 (2%)]\tLoss: 0.031449\n",
            "Train Epoch: 4 [1920/60000 (3%)]\tLoss: 0.168662\n",
            "Train Epoch: 4 [2560/60000 (4%)]\tLoss: 0.067936\n",
            "Train Epoch: 4 [3200/60000 (5%)]\tLoss: 0.118726\n",
            "Train Epoch: 4 [3840/60000 (6%)]\tLoss: 0.146242\n",
            "Train Epoch: 4 [4480/60000 (7%)]\tLoss: 0.133809\n",
            "Train Epoch: 4 [5120/60000 (9%)]\tLoss: 0.103425\n",
            "Train Epoch: 4 [5760/60000 (10%)]\tLoss: 0.226653\n",
            "Train Epoch: 4 [6400/60000 (11%)]\tLoss: 0.021874\n",
            "Train Epoch: 4 [7040/60000 (12%)]\tLoss: 0.096846\n",
            "Train Epoch: 4 [7680/60000 (13%)]\tLoss: 0.118524\n",
            "Train Epoch: 4 [8320/60000 (14%)]\tLoss: 0.037443\n",
            "Train Epoch: 4 [8960/60000 (15%)]\tLoss: 0.052330\n",
            "Train Epoch: 4 [9600/60000 (16%)]\tLoss: 0.072241\n",
            "Train Epoch: 4 [10240/60000 (17%)]\tLoss: 0.077639\n",
            "Train Epoch: 4 [10880/60000 (18%)]\tLoss: 0.132832\n",
            "Train Epoch: 4 [11520/60000 (19%)]\tLoss: 0.197894\n",
            "Train Epoch: 4 [12160/60000 (20%)]\tLoss: 0.100486\n",
            "Train Epoch: 4 [12800/60000 (21%)]\tLoss: 0.135587\n",
            "Train Epoch: 4 [13440/60000 (22%)]\tLoss: 0.108943\n",
            "Train Epoch: 4 [14080/60000 (23%)]\tLoss: 0.143511\n",
            "Train Epoch: 4 [14720/60000 (25%)]\tLoss: 0.093978\n",
            "Train Epoch: 4 [15360/60000 (26%)]\tLoss: 0.023220\n",
            "Train Epoch: 4 [16000/60000 (27%)]\tLoss: 0.219367\n",
            "Train Epoch: 4 [16640/60000 (28%)]\tLoss: 0.049792\n",
            "Train Epoch: 4 [17280/60000 (29%)]\tLoss: 0.196625\n",
            "Train Epoch: 4 [17920/60000 (30%)]\tLoss: 0.088615\n",
            "Train Epoch: 4 [18560/60000 (31%)]\tLoss: 0.069415\n",
            "Train Epoch: 4 [19200/60000 (32%)]\tLoss: 0.111237\n",
            "Train Epoch: 4 [19840/60000 (33%)]\tLoss: 0.093667\n",
            "Train Epoch: 4 [20480/60000 (34%)]\tLoss: 0.017225\n",
            "Train Epoch: 4 [21120/60000 (35%)]\tLoss: 0.042740\n",
            "Train Epoch: 4 [21760/60000 (36%)]\tLoss: 0.119806\n",
            "Train Epoch: 4 [22400/60000 (37%)]\tLoss: 0.081838\n",
            "Train Epoch: 4 [23040/60000 (38%)]\tLoss: 0.143693\n",
            "Train Epoch: 4 [23680/60000 (39%)]\tLoss: 0.092701\n",
            "Train Epoch: 4 [24320/60000 (41%)]\tLoss: 0.205413\n",
            "Train Epoch: 4 [24960/60000 (42%)]\tLoss: 0.033248\n",
            "Train Epoch: 4 [25600/60000 (43%)]\tLoss: 0.147793\n",
            "Train Epoch: 4 [26240/60000 (44%)]\tLoss: 0.142439\n",
            "Train Epoch: 4 [26880/60000 (45%)]\tLoss: 0.039902\n",
            "Train Epoch: 4 [27520/60000 (46%)]\tLoss: 0.081687\n",
            "Train Epoch: 4 [28160/60000 (47%)]\tLoss: 0.107845\n",
            "Train Epoch: 4 [28800/60000 (48%)]\tLoss: 0.089427\n",
            "Train Epoch: 4 [29440/60000 (49%)]\tLoss: 0.048013\n",
            "Train Epoch: 4 [30080/60000 (50%)]\tLoss: 0.108322\n",
            "Train Epoch: 4 [30720/60000 (51%)]\tLoss: 0.106501\n",
            "Train Epoch: 4 [31360/60000 (52%)]\tLoss: 0.088760\n",
            "Train Epoch: 4 [32000/60000 (53%)]\tLoss: 0.177101\n",
            "Train Epoch: 4 [32640/60000 (54%)]\tLoss: 0.126634\n",
            "Train Epoch: 4 [33280/60000 (55%)]\tLoss: 0.142714\n",
            "Train Epoch: 4 [33920/60000 (57%)]\tLoss: 0.048181\n",
            "Train Epoch: 4 [34560/60000 (58%)]\tLoss: 0.172916\n",
            "Train Epoch: 4 [35200/60000 (59%)]\tLoss: 0.187944\n",
            "Train Epoch: 4 [35840/60000 (60%)]\tLoss: 0.024737\n",
            "Train Epoch: 4 [36480/60000 (61%)]\tLoss: 0.071632\n",
            "Train Epoch: 4 [37120/60000 (62%)]\tLoss: 0.071880\n",
            "Train Epoch: 4 [37760/60000 (63%)]\tLoss: 0.102786\n",
            "Train Epoch: 4 [38400/60000 (64%)]\tLoss: 0.049057\n",
            "Train Epoch: 4 [39040/60000 (65%)]\tLoss: 0.179631\n",
            "Train Epoch: 4 [39680/60000 (66%)]\tLoss: 0.090726\n",
            "Train Epoch: 4 [40320/60000 (67%)]\tLoss: 0.115260\n",
            "Train Epoch: 4 [40960/60000 (68%)]\tLoss: 0.027456\n",
            "Train Epoch: 4 [41600/60000 (69%)]\tLoss: 0.058620\n",
            "Train Epoch: 4 [42240/60000 (70%)]\tLoss: 0.027684\n",
            "Train Epoch: 4 [42880/60000 (71%)]\tLoss: 0.032999\n",
            "Train Epoch: 4 [43520/60000 (72%)]\tLoss: 0.097769\n",
            "Train Epoch: 4 [44160/60000 (74%)]\tLoss: 0.033829\n",
            "Train Epoch: 4 [44800/60000 (75%)]\tLoss: 0.035868\n",
            "Train Epoch: 4 [45440/60000 (76%)]\tLoss: 0.091949\n",
            "Train Epoch: 4 [46080/60000 (77%)]\tLoss: 0.038129\n",
            "Train Epoch: 4 [46720/60000 (78%)]\tLoss: 0.124515\n",
            "Train Epoch: 4 [47360/60000 (79%)]\tLoss: 0.058583\n",
            "Train Epoch: 4 [48000/60000 (80%)]\tLoss: 0.064848\n",
            "Train Epoch: 4 [48640/60000 (81%)]\tLoss: 0.085919\n",
            "Train Epoch: 4 [49280/60000 (82%)]\tLoss: 0.060841\n",
            "Train Epoch: 4 [49920/60000 (83%)]\tLoss: 0.145381\n",
            "Train Epoch: 4 [50560/60000 (84%)]\tLoss: 0.088941\n",
            "Train Epoch: 4 [51200/60000 (85%)]\tLoss: 0.034843\n",
            "Train Epoch: 4 [51840/60000 (86%)]\tLoss: 0.096847\n",
            "Train Epoch: 4 [52480/60000 (87%)]\tLoss: 0.209898\n",
            "Train Epoch: 4 [53120/60000 (88%)]\tLoss: 0.140962\n",
            "Train Epoch: 4 [53760/60000 (90%)]\tLoss: 0.059112\n",
            "Train Epoch: 4 [54400/60000 (91%)]\tLoss: 0.083065\n",
            "Train Epoch: 4 [55040/60000 (92%)]\tLoss: 0.181987\n",
            "Train Epoch: 4 [55680/60000 (93%)]\tLoss: 0.048538\n",
            "Train Epoch: 4 [56320/60000 (94%)]\tLoss: 0.105932\n",
            "Train Epoch: 4 [56960/60000 (95%)]\tLoss: 0.087939\n",
            "Train Epoch: 4 [57600/60000 (96%)]\tLoss: 0.029796\n",
            "Train Epoch: 4 [58240/60000 (97%)]\tLoss: 0.149474\n",
            "Train Epoch: 4 [58880/60000 (98%)]\tLoss: 0.038086\n",
            "Train Epoch: 4 [59520/60000 (99%)]\tLoss: 0.133207\n",
            "\n",
            "Test set: Average loss: 0.0739, Accuracy: 9779/10000 (98%)\n",
            "\n",
            "Train Epoch: 5 [0/60000 (0%)]\tLoss: 0.122549\n",
            "Train Epoch: 5 [640/60000 (1%)]\tLoss: 0.106917\n",
            "Train Epoch: 5 [1280/60000 (2%)]\tLoss: 0.040988\n",
            "Train Epoch: 5 [1920/60000 (3%)]\tLoss: 0.174867\n",
            "Train Epoch: 5 [2560/60000 (4%)]\tLoss: 0.040978\n",
            "Train Epoch: 5 [3200/60000 (5%)]\tLoss: 0.091203\n",
            "Train Epoch: 5 [3840/60000 (6%)]\tLoss: 0.117163\n",
            "Train Epoch: 5 [4480/60000 (7%)]\tLoss: 0.027409\n",
            "Train Epoch: 5 [5120/60000 (9%)]\tLoss: 0.304510\n",
            "Train Epoch: 5 [5760/60000 (10%)]\tLoss: 0.036967\n",
            "Train Epoch: 5 [6400/60000 (11%)]\tLoss: 0.010868\n",
            "Train Epoch: 5 [7040/60000 (12%)]\tLoss: 0.119734\n",
            "Train Epoch: 5 [7680/60000 (13%)]\tLoss: 0.102571\n",
            "Train Epoch: 5 [8320/60000 (14%)]\tLoss: 0.044472\n",
            "Train Epoch: 5 [8960/60000 (15%)]\tLoss: 0.226691\n",
            "Train Epoch: 5 [9600/60000 (16%)]\tLoss: 0.046095\n",
            "Train Epoch: 5 [10240/60000 (17%)]\tLoss: 0.046705\n",
            "Train Epoch: 5 [10880/60000 (18%)]\tLoss: 0.061557\n",
            "Train Epoch: 5 [11520/60000 (19%)]\tLoss: 0.068392\n",
            "Train Epoch: 5 [12160/60000 (20%)]\tLoss: 0.134329\n",
            "Train Epoch: 5 [12800/60000 (21%)]\tLoss: 0.125125\n",
            "Train Epoch: 5 [13440/60000 (22%)]\tLoss: 0.063444\n",
            "Train Epoch: 5 [14080/60000 (23%)]\tLoss: 0.050061\n",
            "Train Epoch: 5 [14720/60000 (25%)]\tLoss: 0.066452\n",
            "Train Epoch: 5 [15360/60000 (26%)]\tLoss: 0.011561\n",
            "Train Epoch: 5 [16000/60000 (27%)]\tLoss: 0.196713\n",
            "Train Epoch: 5 [16640/60000 (28%)]\tLoss: 0.051413\n",
            "Train Epoch: 5 [17280/60000 (29%)]\tLoss: 0.082579\n",
            "Train Epoch: 5 [17920/60000 (30%)]\tLoss: 0.073960\n",
            "Train Epoch: 5 [18560/60000 (31%)]\tLoss: 0.039652\n",
            "Train Epoch: 5 [19200/60000 (32%)]\tLoss: 0.080331\n",
            "Train Epoch: 5 [19840/60000 (33%)]\tLoss: 0.125061\n",
            "Train Epoch: 5 [20480/60000 (34%)]\tLoss: 0.124575\n",
            "Train Epoch: 5 [21120/60000 (35%)]\tLoss: 0.219641\n",
            "Train Epoch: 5 [21760/60000 (36%)]\tLoss: 0.056619\n",
            "Train Epoch: 5 [22400/60000 (37%)]\tLoss: 0.086300\n",
            "Train Epoch: 5 [23040/60000 (38%)]\tLoss: 0.062989\n",
            "Train Epoch: 5 [23680/60000 (39%)]\tLoss: 0.074302\n",
            "Train Epoch: 5 [24320/60000 (41%)]\tLoss: 0.125820\n",
            "Train Epoch: 5 [24960/60000 (42%)]\tLoss: 0.073745\n",
            "Train Epoch: 5 [25600/60000 (43%)]\tLoss: 0.039720\n",
            "Train Epoch: 5 [26240/60000 (44%)]\tLoss: 0.036028\n",
            "Train Epoch: 5 [26880/60000 (45%)]\tLoss: 0.082566\n",
            "Train Epoch: 5 [27520/60000 (46%)]\tLoss: 0.047188\n",
            "Train Epoch: 5 [28160/60000 (47%)]\tLoss: 0.031629\n",
            "Train Epoch: 5 [28800/60000 (48%)]\tLoss: 0.090339\n",
            "Train Epoch: 5 [29440/60000 (49%)]\tLoss: 0.056463\n",
            "Train Epoch: 5 [30080/60000 (50%)]\tLoss: 0.026974\n",
            "Train Epoch: 5 [30720/60000 (51%)]\tLoss: 0.167077\n",
            "Train Epoch: 5 [31360/60000 (52%)]\tLoss: 0.035193\n",
            "Train Epoch: 5 [32000/60000 (53%)]\tLoss: 0.056120\n",
            "Train Epoch: 5 [32640/60000 (54%)]\tLoss: 0.184192\n",
            "Train Epoch: 5 [33280/60000 (55%)]\tLoss: 0.034356\n",
            "Train Epoch: 5 [33920/60000 (57%)]\tLoss: 0.121363\n",
            "Train Epoch: 5 [34560/60000 (58%)]\tLoss: 0.097099\n",
            "Train Epoch: 5 [35200/60000 (59%)]\tLoss: 0.117687\n",
            "Train Epoch: 5 [35840/60000 (60%)]\tLoss: 0.118911\n",
            "Train Epoch: 5 [36480/60000 (61%)]\tLoss: 0.063654\n",
            "Train Epoch: 5 [37120/60000 (62%)]\tLoss: 0.092964\n",
            "Train Epoch: 5 [37760/60000 (63%)]\tLoss: 0.040925\n",
            "Train Epoch: 5 [38400/60000 (64%)]\tLoss: 0.021275\n",
            "Train Epoch: 5 [39040/60000 (65%)]\tLoss: 0.026855\n",
            "Train Epoch: 5 [39680/60000 (66%)]\tLoss: 0.227566\n",
            "Train Epoch: 5 [40320/60000 (67%)]\tLoss: 0.053924\n",
            "Train Epoch: 5 [40960/60000 (68%)]\tLoss: 0.022266\n",
            "Train Epoch: 5 [41600/60000 (69%)]\tLoss: 0.044186\n",
            "Train Epoch: 5 [42240/60000 (70%)]\tLoss: 0.122815\n",
            "Train Epoch: 5 [42880/60000 (71%)]\tLoss: 0.045678\n",
            "Train Epoch: 5 [43520/60000 (72%)]\tLoss: 0.213705\n",
            "Train Epoch: 5 [44160/60000 (74%)]\tLoss: 0.198182\n",
            "Train Epoch: 5 [44800/60000 (75%)]\tLoss: 0.081997\n",
            "Train Epoch: 5 [45440/60000 (76%)]\tLoss: 0.035054\n",
            "Train Epoch: 5 [46080/60000 (77%)]\tLoss: 0.041432\n",
            "Train Epoch: 5 [46720/60000 (78%)]\tLoss: 0.122811\n",
            "Train Epoch: 5 [47360/60000 (79%)]\tLoss: 0.140510\n",
            "Train Epoch: 5 [48000/60000 (80%)]\tLoss: 0.072468\n",
            "Train Epoch: 5 [48640/60000 (81%)]\tLoss: 0.022382\n",
            "Train Epoch: 5 [49280/60000 (82%)]\tLoss: 0.098081\n",
            "Train Epoch: 5 [49920/60000 (83%)]\tLoss: 0.077607\n",
            "Train Epoch: 5 [50560/60000 (84%)]\tLoss: 0.089921\n",
            "Train Epoch: 5 [51200/60000 (85%)]\tLoss: 0.135127\n",
            "Train Epoch: 5 [51840/60000 (86%)]\tLoss: 0.034146\n",
            "Train Epoch: 5 [52480/60000 (87%)]\tLoss: 0.020094\n",
            "Train Epoch: 5 [53120/60000 (88%)]\tLoss: 0.070326\n",
            "Train Epoch: 5 [53760/60000 (90%)]\tLoss: 0.074252\n",
            "Train Epoch: 5 [54400/60000 (91%)]\tLoss: 0.129462\n",
            "Train Epoch: 5 [55040/60000 (92%)]\tLoss: 0.139388\n",
            "Train Epoch: 5 [55680/60000 (93%)]\tLoss: 0.013385\n",
            "Train Epoch: 5 [56320/60000 (94%)]\tLoss: 0.018920\n",
            "Train Epoch: 5 [56960/60000 (95%)]\tLoss: 0.051063\n",
            "Train Epoch: 5 [57600/60000 (96%)]\tLoss: 0.016816\n",
            "Train Epoch: 5 [58240/60000 (97%)]\tLoss: 0.015713\n",
            "Train Epoch: 5 [58880/60000 (98%)]\tLoss: 0.058863\n",
            "Train Epoch: 5 [59520/60000 (99%)]\tLoss: 0.055566\n",
            "\n",
            "Test set: Average loss: 0.0628, Accuracy: 9812/10000 (98%)\n",
            "\n",
            "Train Epoch: 6 [0/60000 (0%)]\tLoss: 0.073542\n",
            "Train Epoch: 6 [640/60000 (1%)]\tLoss: 0.146839\n",
            "Train Epoch: 6 [1280/60000 (2%)]\tLoss: 0.074452\n",
            "Train Epoch: 6 [1920/60000 (3%)]\tLoss: 0.143722\n",
            "Train Epoch: 6 [2560/60000 (4%)]\tLoss: 0.016461\n",
            "Train Epoch: 6 [3200/60000 (5%)]\tLoss: 0.010714\n",
            "Train Epoch: 6 [3840/60000 (6%)]\tLoss: 0.138348\n",
            "Train Epoch: 6 [4480/60000 (7%)]\tLoss: 0.120524\n",
            "Train Epoch: 6 [5120/60000 (9%)]\tLoss: 0.034129\n",
            "Train Epoch: 6 [5760/60000 (10%)]\tLoss: 0.016526\n",
            "Train Epoch: 6 [6400/60000 (11%)]\tLoss: 0.180880\n",
            "Train Epoch: 6 [7040/60000 (12%)]\tLoss: 0.043835\n",
            "Train Epoch: 6 [7680/60000 (13%)]\tLoss: 0.090862\n",
            "Train Epoch: 6 [8320/60000 (14%)]\tLoss: 0.059042\n",
            "Train Epoch: 6 [8960/60000 (15%)]\tLoss: 0.035517\n",
            "Train Epoch: 6 [9600/60000 (16%)]\tLoss: 0.084664\n",
            "Train Epoch: 6 [10240/60000 (17%)]\tLoss: 0.007030\n",
            "Train Epoch: 6 [10880/60000 (18%)]\tLoss: 0.008400\n",
            "Train Epoch: 6 [11520/60000 (19%)]\tLoss: 0.014203\n",
            "Train Epoch: 6 [12160/60000 (20%)]\tLoss: 0.075529\n",
            "Train Epoch: 6 [12800/60000 (21%)]\tLoss: 0.012829\n",
            "Train Epoch: 6 [13440/60000 (22%)]\tLoss: 0.167130\n",
            "Train Epoch: 6 [14080/60000 (23%)]\tLoss: 0.065231\n",
            "Train Epoch: 6 [14720/60000 (25%)]\tLoss: 0.027230\n",
            "Train Epoch: 6 [15360/60000 (26%)]\tLoss: 0.057723\n",
            "Train Epoch: 6 [16000/60000 (27%)]\tLoss: 0.090204\n",
            "Train Epoch: 6 [16640/60000 (28%)]\tLoss: 0.011941\n",
            "Train Epoch: 6 [17280/60000 (29%)]\tLoss: 0.054115\n",
            "Train Epoch: 6 [17920/60000 (30%)]\tLoss: 0.075289\n",
            "Train Epoch: 6 [18560/60000 (31%)]\tLoss: 0.051654\n",
            "Train Epoch: 6 [19200/60000 (32%)]\tLoss: 0.028533\n",
            "Train Epoch: 6 [19840/60000 (33%)]\tLoss: 0.048597\n",
            "Train Epoch: 6 [20480/60000 (34%)]\tLoss: 0.019925\n",
            "Train Epoch: 6 [21120/60000 (35%)]\tLoss: 0.019267\n",
            "Train Epoch: 6 [21760/60000 (36%)]\tLoss: 0.047534\n",
            "Train Epoch: 6 [22400/60000 (37%)]\tLoss: 0.118427\n",
            "Train Epoch: 6 [23040/60000 (38%)]\tLoss: 0.075002\n",
            "Train Epoch: 6 [23680/60000 (39%)]\tLoss: 0.048097\n",
            "Train Epoch: 6 [24320/60000 (41%)]\tLoss: 0.041949\n",
            "Train Epoch: 6 [24960/60000 (42%)]\tLoss: 0.013120\n",
            "Train Epoch: 6 [25600/60000 (43%)]\tLoss: 0.013330\n",
            "Train Epoch: 6 [26240/60000 (44%)]\tLoss: 0.096428\n",
            "Train Epoch: 6 [26880/60000 (45%)]\tLoss: 0.041563\n",
            "Train Epoch: 6 [27520/60000 (46%)]\tLoss: 0.069572\n",
            "Train Epoch: 6 [28160/60000 (47%)]\tLoss: 0.108866\n",
            "Train Epoch: 6 [28800/60000 (48%)]\tLoss: 0.025805\n",
            "Train Epoch: 6 [29440/60000 (49%)]\tLoss: 0.012327\n",
            "Train Epoch: 6 [30080/60000 (50%)]\tLoss: 0.068411\n",
            "Train Epoch: 6 [30720/60000 (51%)]\tLoss: 0.076803\n",
            "Train Epoch: 6 [31360/60000 (52%)]\tLoss: 0.049174\n",
            "Train Epoch: 6 [32000/60000 (53%)]\tLoss: 0.023926\n",
            "Train Epoch: 6 [32640/60000 (54%)]\tLoss: 0.054532\n",
            "Train Epoch: 6 [33280/60000 (55%)]\tLoss: 0.108976\n",
            "Train Epoch: 6 [33920/60000 (57%)]\tLoss: 0.064365\n",
            "Train Epoch: 6 [34560/60000 (58%)]\tLoss: 0.059248\n",
            "Train Epoch: 6 [35200/60000 (59%)]\tLoss: 0.028942\n",
            "Train Epoch: 6 [35840/60000 (60%)]\tLoss: 0.025887\n",
            "Train Epoch: 6 [36480/60000 (61%)]\tLoss: 0.016713\n",
            "Train Epoch: 6 [37120/60000 (62%)]\tLoss: 0.060432\n",
            "Train Epoch: 6 [37760/60000 (63%)]\tLoss: 0.046064\n",
            "Train Epoch: 6 [38400/60000 (64%)]\tLoss: 0.038315\n",
            "Train Epoch: 6 [39040/60000 (65%)]\tLoss: 0.104964\n",
            "Train Epoch: 6 [39680/60000 (66%)]\tLoss: 0.098590\n",
            "Train Epoch: 6 [40320/60000 (67%)]\tLoss: 0.034884\n",
            "Train Epoch: 6 [40960/60000 (68%)]\tLoss: 0.073181\n",
            "Train Epoch: 6 [41600/60000 (69%)]\tLoss: 0.018695\n",
            "Train Epoch: 6 [42240/60000 (70%)]\tLoss: 0.018018\n",
            "Train Epoch: 6 [42880/60000 (71%)]\tLoss: 0.064758\n",
            "Train Epoch: 6 [43520/60000 (72%)]\tLoss: 0.017554\n",
            "Train Epoch: 6 [44160/60000 (74%)]\tLoss: 0.109922\n",
            "Train Epoch: 6 [44800/60000 (75%)]\tLoss: 0.017030\n",
            "Train Epoch: 6 [45440/60000 (76%)]\tLoss: 0.024536\n",
            "Train Epoch: 6 [46080/60000 (77%)]\tLoss: 0.184051\n",
            "Train Epoch: 6 [46720/60000 (78%)]\tLoss: 0.145148\n",
            "Train Epoch: 6 [47360/60000 (79%)]\tLoss: 0.111783\n",
            "Train Epoch: 6 [48000/60000 (80%)]\tLoss: 0.132122\n",
            "Train Epoch: 6 [48640/60000 (81%)]\tLoss: 0.035943\n",
            "Train Epoch: 6 [49280/60000 (82%)]\tLoss: 0.045222\n",
            "Train Epoch: 6 [49920/60000 (83%)]\tLoss: 0.067774\n",
            "Train Epoch: 6 [50560/60000 (84%)]\tLoss: 0.128785\n",
            "Train Epoch: 6 [51200/60000 (85%)]\tLoss: 0.051831\n",
            "Train Epoch: 6 [51840/60000 (86%)]\tLoss: 0.125815\n",
            "Train Epoch: 6 [52480/60000 (87%)]\tLoss: 0.132937\n",
            "Train Epoch: 6 [53120/60000 (88%)]\tLoss: 0.033838\n",
            "Train Epoch: 6 [53760/60000 (90%)]\tLoss: 0.126739\n",
            "Train Epoch: 6 [54400/60000 (91%)]\tLoss: 0.152121\n",
            "Train Epoch: 6 [55040/60000 (92%)]\tLoss: 0.010523\n",
            "Train Epoch: 6 [55680/60000 (93%)]\tLoss: 0.049912\n",
            "Train Epoch: 6 [56320/60000 (94%)]\tLoss: 0.086878\n",
            "Train Epoch: 6 [56960/60000 (95%)]\tLoss: 0.032688\n",
            "Train Epoch: 6 [57600/60000 (96%)]\tLoss: 0.040127\n",
            "Train Epoch: 6 [58240/60000 (97%)]\tLoss: 0.084615\n",
            "Train Epoch: 6 [58880/60000 (98%)]\tLoss: 0.062949\n",
            "Train Epoch: 6 [59520/60000 (99%)]\tLoss: 0.115301\n",
            "\n",
            "Test set: Average loss: 0.0609, Accuracy: 9807/10000 (98%)\n",
            "\n",
            "Train Epoch: 7 [0/60000 (0%)]\tLoss: 0.065601\n",
            "Train Epoch: 7 [640/60000 (1%)]\tLoss: 0.117170\n",
            "Train Epoch: 7 [1280/60000 (2%)]\tLoss: 0.135577\n",
            "Train Epoch: 7 [1920/60000 (3%)]\tLoss: 0.031610\n",
            "Train Epoch: 7 [2560/60000 (4%)]\tLoss: 0.043670\n",
            "Train Epoch: 7 [3200/60000 (5%)]\tLoss: 0.093888\n",
            "Train Epoch: 7 [3840/60000 (6%)]\tLoss: 0.042973\n",
            "Train Epoch: 7 [4480/60000 (7%)]\tLoss: 0.055766\n",
            "Train Epoch: 7 [5120/60000 (9%)]\tLoss: 0.089074\n",
            "Train Epoch: 7 [5760/60000 (10%)]\tLoss: 0.025443\n",
            "Train Epoch: 7 [6400/60000 (11%)]\tLoss: 0.036850\n",
            "Train Epoch: 7 [7040/60000 (12%)]\tLoss: 0.038540\n",
            "Train Epoch: 7 [7680/60000 (13%)]\tLoss: 0.036698\n",
            "Train Epoch: 7 [8320/60000 (14%)]\tLoss: 0.134589\n",
            "Train Epoch: 7 [8960/60000 (15%)]\tLoss: 0.214199\n",
            "Train Epoch: 7 [9600/60000 (16%)]\tLoss: 0.024389\n",
            "Train Epoch: 7 [10240/60000 (17%)]\tLoss: 0.059806\n",
            "Train Epoch: 7 [10880/60000 (18%)]\tLoss: 0.033567\n",
            "Train Epoch: 7 [11520/60000 (19%)]\tLoss: 0.083323\n",
            "Train Epoch: 7 [12160/60000 (20%)]\tLoss: 0.091521\n",
            "Train Epoch: 7 [12800/60000 (21%)]\tLoss: 0.237561\n",
            "Train Epoch: 7 [13440/60000 (22%)]\tLoss: 0.073484\n",
            "Train Epoch: 7 [14080/60000 (23%)]\tLoss: 0.078881\n",
            "Train Epoch: 7 [14720/60000 (25%)]\tLoss: 0.103076\n",
            "Train Epoch: 7 [15360/60000 (26%)]\tLoss: 0.025077\n",
            "Train Epoch: 7 [16000/60000 (27%)]\tLoss: 0.080388\n",
            "Train Epoch: 7 [16640/60000 (28%)]\tLoss: 0.035321\n",
            "Train Epoch: 7 [17280/60000 (29%)]\tLoss: 0.099900\n",
            "Train Epoch: 7 [17920/60000 (30%)]\tLoss: 0.101981\n",
            "Train Epoch: 7 [18560/60000 (31%)]\tLoss: 0.085870\n",
            "Train Epoch: 7 [19200/60000 (32%)]\tLoss: 0.030394\n",
            "Train Epoch: 7 [19840/60000 (33%)]\tLoss: 0.042150\n",
            "Train Epoch: 7 [20480/60000 (34%)]\tLoss: 0.052813\n",
            "Train Epoch: 7 [21120/60000 (35%)]\tLoss: 0.089316\n",
            "Train Epoch: 7 [21760/60000 (36%)]\tLoss: 0.120439\n",
            "Train Epoch: 7 [22400/60000 (37%)]\tLoss: 0.076252\n",
            "Train Epoch: 7 [23040/60000 (38%)]\tLoss: 0.140228\n",
            "Train Epoch: 7 [23680/60000 (39%)]\tLoss: 0.218792\n",
            "Train Epoch: 7 [24320/60000 (41%)]\tLoss: 0.049013\n",
            "Train Epoch: 7 [24960/60000 (42%)]\tLoss: 0.044410\n",
            "Train Epoch: 7 [25600/60000 (43%)]\tLoss: 0.038624\n",
            "Train Epoch: 7 [26240/60000 (44%)]\tLoss: 0.045858\n",
            "Train Epoch: 7 [26880/60000 (45%)]\tLoss: 0.086853\n",
            "Train Epoch: 7 [27520/60000 (46%)]\tLoss: 0.113735\n",
            "Train Epoch: 7 [28160/60000 (47%)]\tLoss: 0.011737\n",
            "Train Epoch: 7 [28800/60000 (48%)]\tLoss: 0.088422\n",
            "Train Epoch: 7 [29440/60000 (49%)]\tLoss: 0.078394\n",
            "Train Epoch: 7 [30080/60000 (50%)]\tLoss: 0.033955\n",
            "Train Epoch: 7 [30720/60000 (51%)]\tLoss: 0.132088\n",
            "Train Epoch: 7 [31360/60000 (52%)]\tLoss: 0.184349\n",
            "Train Epoch: 7 [32000/60000 (53%)]\tLoss: 0.048337\n",
            "Train Epoch: 7 [32640/60000 (54%)]\tLoss: 0.028034\n",
            "Train Epoch: 7 [33280/60000 (55%)]\tLoss: 0.075544\n",
            "Train Epoch: 7 [33920/60000 (57%)]\tLoss: 0.081461\n",
            "Train Epoch: 7 [34560/60000 (58%)]\tLoss: 0.087529\n",
            "Train Epoch: 7 [35200/60000 (59%)]\tLoss: 0.029691\n",
            "Train Epoch: 7 [35840/60000 (60%)]\tLoss: 0.009110\n",
            "Train Epoch: 7 [36480/60000 (61%)]\tLoss: 0.071139\n",
            "Train Epoch: 7 [37120/60000 (62%)]\tLoss: 0.051316\n",
            "Train Epoch: 7 [37760/60000 (63%)]\tLoss: 0.023694\n",
            "Train Epoch: 7 [38400/60000 (64%)]\tLoss: 0.037316\n",
            "Train Epoch: 7 [39040/60000 (65%)]\tLoss: 0.054108\n",
            "Train Epoch: 7 [39680/60000 (66%)]\tLoss: 0.009261\n",
            "Train Epoch: 7 [40320/60000 (67%)]\tLoss: 0.051934\n",
            "Train Epoch: 7 [40960/60000 (68%)]\tLoss: 0.011856\n",
            "Train Epoch: 7 [41600/60000 (69%)]\tLoss: 0.043113\n",
            "Train Epoch: 7 [42240/60000 (70%)]\tLoss: 0.045606\n",
            "Train Epoch: 7 [42880/60000 (71%)]\tLoss: 0.199904\n",
            "Train Epoch: 7 [43520/60000 (72%)]\tLoss: 0.058382\n",
            "Train Epoch: 7 [44160/60000 (74%)]\tLoss: 0.098020\n",
            "Train Epoch: 7 [44800/60000 (75%)]\tLoss: 0.010639\n",
            "Train Epoch: 7 [45440/60000 (76%)]\tLoss: 0.029276\n",
            "Train Epoch: 7 [46080/60000 (77%)]\tLoss: 0.028963\n",
            "Train Epoch: 7 [46720/60000 (78%)]\tLoss: 0.051331\n",
            "Train Epoch: 7 [47360/60000 (79%)]\tLoss: 0.073696\n",
            "Train Epoch: 7 [48000/60000 (80%)]\tLoss: 0.117366\n",
            "Train Epoch: 7 [48640/60000 (81%)]\tLoss: 0.031666\n",
            "Train Epoch: 7 [49280/60000 (82%)]\tLoss: 0.034442\n",
            "Train Epoch: 7 [49920/60000 (83%)]\tLoss: 0.135553\n",
            "Train Epoch: 7 [50560/60000 (84%)]\tLoss: 0.101250\n",
            "Train Epoch: 7 [51200/60000 (85%)]\tLoss: 0.103558\n",
            "Train Epoch: 7 [51840/60000 (86%)]\tLoss: 0.058497\n",
            "Train Epoch: 7 [52480/60000 (87%)]\tLoss: 0.078065\n",
            "Train Epoch: 7 [53120/60000 (88%)]\tLoss: 0.106016\n",
            "Train Epoch: 7 [53760/60000 (90%)]\tLoss: 0.115882\n",
            "Train Epoch: 7 [54400/60000 (91%)]\tLoss: 0.304851\n",
            "Train Epoch: 7 [55040/60000 (92%)]\tLoss: 0.044606\n",
            "Train Epoch: 7 [55680/60000 (93%)]\tLoss: 0.017604\n",
            "Train Epoch: 7 [56320/60000 (94%)]\tLoss: 0.209814\n",
            "Train Epoch: 7 [56960/60000 (95%)]\tLoss: 0.030832\n",
            "Train Epoch: 7 [57600/60000 (96%)]\tLoss: 0.095698\n",
            "Train Epoch: 7 [58240/60000 (97%)]\tLoss: 0.020614\n",
            "Train Epoch: 7 [58880/60000 (98%)]\tLoss: 0.057068\n",
            "Train Epoch: 7 [59520/60000 (99%)]\tLoss: 0.096880\n",
            "\n",
            "Test set: Average loss: 0.0565, Accuracy: 9822/10000 (98%)\n",
            "\n",
            "Train Epoch: 8 [0/60000 (0%)]\tLoss: 0.154134\n",
            "Train Epoch: 8 [640/60000 (1%)]\tLoss: 0.049787\n",
            "Train Epoch: 8 [1280/60000 (2%)]\tLoss: 0.016421\n",
            "Train Epoch: 8 [1920/60000 (3%)]\tLoss: 0.085846\n",
            "Train Epoch: 8 [2560/60000 (4%)]\tLoss: 0.020542\n",
            "Train Epoch: 8 [3200/60000 (5%)]\tLoss: 0.116431\n",
            "Train Epoch: 8 [3840/60000 (6%)]\tLoss: 0.063217\n",
            "Train Epoch: 8 [4480/60000 (7%)]\tLoss: 0.048107\n",
            "Train Epoch: 8 [5120/60000 (9%)]\tLoss: 0.047063\n",
            "Train Epoch: 8 [5760/60000 (10%)]\tLoss: 0.028190\n",
            "Train Epoch: 8 [6400/60000 (11%)]\tLoss: 0.027261\n",
            "Train Epoch: 8 [7040/60000 (12%)]\tLoss: 0.031598\n",
            "Train Epoch: 8 [7680/60000 (13%)]\tLoss: 0.088645\n",
            "Train Epoch: 8 [8320/60000 (14%)]\tLoss: 0.098835\n",
            "Train Epoch: 8 [8960/60000 (15%)]\tLoss: 0.007449\n",
            "Train Epoch: 8 [9600/60000 (16%)]\tLoss: 0.181608\n",
            "Train Epoch: 8 [10240/60000 (17%)]\tLoss: 0.048456\n",
            "Train Epoch: 8 [10880/60000 (18%)]\tLoss: 0.032761\n",
            "Train Epoch: 8 [11520/60000 (19%)]\tLoss: 0.021362\n",
            "Train Epoch: 8 [12160/60000 (20%)]\tLoss: 0.051687\n",
            "Train Epoch: 8 [12800/60000 (21%)]\tLoss: 0.242583\n",
            "Train Epoch: 8 [13440/60000 (22%)]\tLoss: 0.021169\n",
            "Train Epoch: 8 [14080/60000 (23%)]\tLoss: 0.024101\n",
            "Train Epoch: 8 [14720/60000 (25%)]\tLoss: 0.153800\n",
            "Train Epoch: 8 [15360/60000 (26%)]\tLoss: 0.041569\n",
            "Train Epoch: 8 [16000/60000 (27%)]\tLoss: 0.020119\n",
            "Train Epoch: 8 [16640/60000 (28%)]\tLoss: 0.066106\n",
            "Train Epoch: 8 [17280/60000 (29%)]\tLoss: 0.026117\n",
            "Train Epoch: 8 [17920/60000 (30%)]\tLoss: 0.014998\n",
            "Train Epoch: 8 [18560/60000 (31%)]\tLoss: 0.039098\n",
            "Train Epoch: 8 [19200/60000 (32%)]\tLoss: 0.047574\n",
            "Train Epoch: 8 [19840/60000 (33%)]\tLoss: 0.053290\n",
            "Train Epoch: 8 [20480/60000 (34%)]\tLoss: 0.134445\n",
            "Train Epoch: 8 [21120/60000 (35%)]\tLoss: 0.018383\n",
            "Train Epoch: 8 [21760/60000 (36%)]\tLoss: 0.094832\n",
            "Train Epoch: 8 [22400/60000 (37%)]\tLoss: 0.051064\n",
            "Train Epoch: 8 [23040/60000 (38%)]\tLoss: 0.107181\n",
            "Train Epoch: 8 [23680/60000 (39%)]\tLoss: 0.050369\n",
            "Train Epoch: 8 [24320/60000 (41%)]\tLoss: 0.052140\n",
            "Train Epoch: 8 [24960/60000 (42%)]\tLoss: 0.192514\n",
            "Train Epoch: 8 [25600/60000 (43%)]\tLoss: 0.030163\n",
            "Train Epoch: 8 [26240/60000 (44%)]\tLoss: 0.219905\n",
            "Train Epoch: 8 [26880/60000 (45%)]\tLoss: 0.028557\n",
            "Train Epoch: 8 [27520/60000 (46%)]\tLoss: 0.105341\n",
            "Train Epoch: 8 [28160/60000 (47%)]\tLoss: 0.025149\n",
            "Train Epoch: 8 [28800/60000 (48%)]\tLoss: 0.040530\n",
            "Train Epoch: 8 [29440/60000 (49%)]\tLoss: 0.123399\n",
            "Train Epoch: 8 [30080/60000 (50%)]\tLoss: 0.012984\n",
            "Train Epoch: 8 [30720/60000 (51%)]\tLoss: 0.093242\n",
            "Train Epoch: 8 [31360/60000 (52%)]\tLoss: 0.048688\n",
            "Train Epoch: 8 [32000/60000 (53%)]\tLoss: 0.085856\n",
            "Train Epoch: 8 [32640/60000 (54%)]\tLoss: 0.019249\n",
            "Train Epoch: 8 [33280/60000 (55%)]\tLoss: 0.248534\n",
            "Train Epoch: 8 [33920/60000 (57%)]\tLoss: 0.022135\n",
            "Train Epoch: 8 [34560/60000 (58%)]\tLoss: 0.037749\n",
            "Train Epoch: 8 [35200/60000 (59%)]\tLoss: 0.112625\n",
            "Train Epoch: 8 [35840/60000 (60%)]\tLoss: 0.029064\n",
            "Train Epoch: 8 [36480/60000 (61%)]\tLoss: 0.044512\n",
            "Train Epoch: 8 [37120/60000 (62%)]\tLoss: 0.012892\n",
            "Train Epoch: 8 [37760/60000 (63%)]\tLoss: 0.029939\n",
            "Train Epoch: 8 [38400/60000 (64%)]\tLoss: 0.115558\n",
            "Train Epoch: 8 [39040/60000 (65%)]\tLoss: 0.050629\n",
            "Train Epoch: 8 [39680/60000 (66%)]\tLoss: 0.014464\n",
            "Train Epoch: 8 [40320/60000 (67%)]\tLoss: 0.013206\n",
            "Train Epoch: 8 [40960/60000 (68%)]\tLoss: 0.031324\n",
            "Train Epoch: 8 [41600/60000 (69%)]\tLoss: 0.028088\n",
            "Train Epoch: 8 [42240/60000 (70%)]\tLoss: 0.023509\n",
            "Train Epoch: 8 [42880/60000 (71%)]\tLoss: 0.025641\n",
            "Train Epoch: 8 [43520/60000 (72%)]\tLoss: 0.103954\n",
            "Train Epoch: 8 [44160/60000 (74%)]\tLoss: 0.038149\n",
            "Train Epoch: 8 [44800/60000 (75%)]\tLoss: 0.038618\n",
            "Train Epoch: 8 [45440/60000 (76%)]\tLoss: 0.024195\n",
            "Train Epoch: 8 [46080/60000 (77%)]\tLoss: 0.038172\n",
            "Train Epoch: 8 [46720/60000 (78%)]\tLoss: 0.024708\n",
            "Train Epoch: 8 [47360/60000 (79%)]\tLoss: 0.040056\n",
            "Train Epoch: 8 [48000/60000 (80%)]\tLoss: 0.030371\n",
            "Train Epoch: 8 [48640/60000 (81%)]\tLoss: 0.007347\n",
            "Train Epoch: 8 [49280/60000 (82%)]\tLoss: 0.121153\n",
            "Train Epoch: 8 [49920/60000 (83%)]\tLoss: 0.037899\n",
            "Train Epoch: 8 [50560/60000 (84%)]\tLoss: 0.027247\n",
            "Train Epoch: 8 [51200/60000 (85%)]\tLoss: 0.045777\n",
            "Train Epoch: 8 [51840/60000 (86%)]\tLoss: 0.230637\n",
            "Train Epoch: 8 [52480/60000 (87%)]\tLoss: 0.093480\n",
            "Train Epoch: 8 [53120/60000 (88%)]\tLoss: 0.087399\n",
            "Train Epoch: 8 [53760/60000 (90%)]\tLoss: 0.008633\n",
            "Train Epoch: 8 [54400/60000 (91%)]\tLoss: 0.052310\n",
            "Train Epoch: 8 [55040/60000 (92%)]\tLoss: 0.011252\n",
            "Train Epoch: 8 [55680/60000 (93%)]\tLoss: 0.083816\n",
            "Train Epoch: 8 [56320/60000 (94%)]\tLoss: 0.028206\n",
            "Train Epoch: 8 [56960/60000 (95%)]\tLoss: 0.056590\n",
            "Train Epoch: 8 [57600/60000 (96%)]\tLoss: 0.078725\n",
            "Train Epoch: 8 [58240/60000 (97%)]\tLoss: 0.020330\n",
            "Train Epoch: 8 [58880/60000 (98%)]\tLoss: 0.080931\n",
            "Train Epoch: 8 [59520/60000 (99%)]\tLoss: 0.032908\n",
            "\n",
            "Test set: Average loss: 0.0505, Accuracy: 9850/10000 (98%)\n",
            "\n",
            "Train Epoch: 9 [0/60000 (0%)]\tLoss: 0.059335\n",
            "Train Epoch: 9 [640/60000 (1%)]\tLoss: 0.063059\n",
            "Train Epoch: 9 [1280/60000 (2%)]\tLoss: 0.049342\n",
            "Train Epoch: 9 [1920/60000 (3%)]\tLoss: 0.042205\n",
            "Train Epoch: 9 [2560/60000 (4%)]\tLoss: 0.032118\n",
            "Train Epoch: 9 [3200/60000 (5%)]\tLoss: 0.058307\n",
            "Train Epoch: 9 [3840/60000 (6%)]\tLoss: 0.039045\n",
            "Train Epoch: 9 [4480/60000 (7%)]\tLoss: 0.011732\n",
            "Train Epoch: 9 [5120/60000 (9%)]\tLoss: 0.076457\n",
            "Train Epoch: 9 [5760/60000 (10%)]\tLoss: 0.028934\n",
            "Train Epoch: 9 [6400/60000 (11%)]\tLoss: 0.052392\n",
            "Train Epoch: 9 [7040/60000 (12%)]\tLoss: 0.122248\n",
            "Train Epoch: 9 [7680/60000 (13%)]\tLoss: 0.058827\n",
            "Train Epoch: 9 [8320/60000 (14%)]\tLoss: 0.019374\n",
            "Train Epoch: 9 [8960/60000 (15%)]\tLoss: 0.070695\n",
            "Train Epoch: 9 [9600/60000 (16%)]\tLoss: 0.038467\n",
            "Train Epoch: 9 [10240/60000 (17%)]\tLoss: 0.077964\n",
            "Train Epoch: 9 [10880/60000 (18%)]\tLoss: 0.103964\n",
            "Train Epoch: 9 [11520/60000 (19%)]\tLoss: 0.028701\n",
            "Train Epoch: 9 [12160/60000 (20%)]\tLoss: 0.021639\n",
            "Train Epoch: 9 [12800/60000 (21%)]\tLoss: 0.034497\n",
            "Train Epoch: 9 [13440/60000 (22%)]\tLoss: 0.072048\n",
            "Train Epoch: 9 [14080/60000 (23%)]\tLoss: 0.029401\n",
            "Train Epoch: 9 [14720/60000 (25%)]\tLoss: 0.049589\n",
            "Train Epoch: 9 [15360/60000 (26%)]\tLoss: 0.064083\n",
            "Train Epoch: 9 [16000/60000 (27%)]\tLoss: 0.003461\n",
            "Train Epoch: 9 [16640/60000 (28%)]\tLoss: 0.029998\n",
            "Train Epoch: 9 [17280/60000 (29%)]\tLoss: 0.019531\n",
            "Train Epoch: 9 [17920/60000 (30%)]\tLoss: 0.014708\n",
            "Train Epoch: 9 [18560/60000 (31%)]\tLoss: 0.065214\n",
            "Train Epoch: 9 [19200/60000 (32%)]\tLoss: 0.143470\n",
            "Train Epoch: 9 [19840/60000 (33%)]\tLoss: 0.011464\n",
            "Train Epoch: 9 [20480/60000 (34%)]\tLoss: 0.032022\n",
            "Train Epoch: 9 [21120/60000 (35%)]\tLoss: 0.112293\n",
            "Train Epoch: 9 [21760/60000 (36%)]\tLoss: 0.151663\n",
            "Train Epoch: 9 [22400/60000 (37%)]\tLoss: 0.015284\n",
            "Train Epoch: 9 [23040/60000 (38%)]\tLoss: 0.051963\n",
            "Train Epoch: 9 [23680/60000 (39%)]\tLoss: 0.060328\n",
            "Train Epoch: 9 [24320/60000 (41%)]\tLoss: 0.014673\n",
            "Train Epoch: 9 [24960/60000 (42%)]\tLoss: 0.010451\n",
            "Train Epoch: 9 [25600/60000 (43%)]\tLoss: 0.021356\n",
            "Train Epoch: 9 [26240/60000 (44%)]\tLoss: 0.067370\n",
            "Train Epoch: 9 [26880/60000 (45%)]\tLoss: 0.499771\n",
            "Train Epoch: 9 [27520/60000 (46%)]\tLoss: 0.103507\n",
            "Train Epoch: 9 [28160/60000 (47%)]\tLoss: 0.081230\n",
            "Train Epoch: 9 [28800/60000 (48%)]\tLoss: 0.014778\n",
            "Train Epoch: 9 [29440/60000 (49%)]\tLoss: 0.155983\n",
            "Train Epoch: 9 [30080/60000 (50%)]\tLoss: 0.022544\n",
            "Train Epoch: 9 [30720/60000 (51%)]\tLoss: 0.042006\n",
            "Train Epoch: 9 [31360/60000 (52%)]\tLoss: 0.060025\n",
            "Train Epoch: 9 [32000/60000 (53%)]\tLoss: 0.024557\n",
            "Train Epoch: 9 [32640/60000 (54%)]\tLoss: 0.102582\n",
            "Train Epoch: 9 [33280/60000 (55%)]\tLoss: 0.009809\n",
            "Train Epoch: 9 [33920/60000 (57%)]\tLoss: 0.042916\n",
            "Train Epoch: 9 [34560/60000 (58%)]\tLoss: 0.052114\n",
            "Train Epoch: 9 [35200/60000 (59%)]\tLoss: 0.112402\n",
            "Train Epoch: 9 [35840/60000 (60%)]\tLoss: 0.031387\n",
            "Train Epoch: 9 [36480/60000 (61%)]\tLoss: 0.087208\n",
            "Train Epoch: 9 [37120/60000 (62%)]\tLoss: 0.112131\n",
            "Train Epoch: 9 [37760/60000 (63%)]\tLoss: 0.010095\n",
            "Train Epoch: 9 [38400/60000 (64%)]\tLoss: 0.040974\n",
            "Train Epoch: 9 [39040/60000 (65%)]\tLoss: 0.029879\n",
            "Train Epoch: 9 [39680/60000 (66%)]\tLoss: 0.019052\n",
            "Train Epoch: 9 [40320/60000 (67%)]\tLoss: 0.005944\n",
            "Train Epoch: 9 [40960/60000 (68%)]\tLoss: 0.042122\n",
            "Train Epoch: 9 [41600/60000 (69%)]\tLoss: 0.016303\n",
            "Train Epoch: 9 [42240/60000 (70%)]\tLoss: 0.011372\n",
            "Train Epoch: 9 [42880/60000 (71%)]\tLoss: 0.033911\n",
            "Train Epoch: 9 [43520/60000 (72%)]\tLoss: 0.107365\n",
            "Train Epoch: 9 [44160/60000 (74%)]\tLoss: 0.019264\n",
            "Train Epoch: 9 [44800/60000 (75%)]\tLoss: 0.030439\n",
            "Train Epoch: 9 [45440/60000 (76%)]\tLoss: 0.039607\n",
            "Train Epoch: 9 [46080/60000 (77%)]\tLoss: 0.032180\n",
            "Train Epoch: 9 [46720/60000 (78%)]\tLoss: 0.192893\n",
            "Train Epoch: 9 [47360/60000 (79%)]\tLoss: 0.013447\n",
            "Train Epoch: 9 [48000/60000 (80%)]\tLoss: 0.064738\n",
            "Train Epoch: 9 [48640/60000 (81%)]\tLoss: 0.064082\n",
            "Train Epoch: 9 [49280/60000 (82%)]\tLoss: 0.031279\n",
            "Train Epoch: 9 [49920/60000 (83%)]\tLoss: 0.054002\n",
            "Train Epoch: 9 [50560/60000 (84%)]\tLoss: 0.017961\n",
            "Train Epoch: 9 [51200/60000 (85%)]\tLoss: 0.124938\n",
            "Train Epoch: 9 [51840/60000 (86%)]\tLoss: 0.030346\n",
            "Train Epoch: 9 [52480/60000 (87%)]\tLoss: 0.135984\n",
            "Train Epoch: 9 [53120/60000 (88%)]\tLoss: 0.004290\n",
            "Train Epoch: 9 [53760/60000 (90%)]\tLoss: 0.042353\n",
            "Train Epoch: 9 [54400/60000 (91%)]\tLoss: 0.005852\n",
            "Train Epoch: 9 [55040/60000 (92%)]\tLoss: 0.015830\n",
            "Train Epoch: 9 [55680/60000 (93%)]\tLoss: 0.014355\n",
            "Train Epoch: 9 [56320/60000 (94%)]\tLoss: 0.039963\n",
            "Train Epoch: 9 [56960/60000 (95%)]\tLoss: 0.044842\n",
            "Train Epoch: 9 [57600/60000 (96%)]\tLoss: 0.088077\n",
            "Train Epoch: 9 [58240/60000 (97%)]\tLoss: 0.022837\n",
            "Train Epoch: 9 [58880/60000 (98%)]\tLoss: 0.018853\n",
            "Train Epoch: 9 [59520/60000 (99%)]\tLoss: 0.008113\n",
            "\n",
            "Test set: Average loss: 0.0488, Accuracy: 9841/10000 (98%)\n",
            "\n"
          ]
        }
      ]
    }
  ]
}