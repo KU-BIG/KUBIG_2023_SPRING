{
  "cells": [
    {
      "cell_type": "markdown",
      "metadata": {
        "id": "YffDGVSIxijw"
      },
      "source": [
        "#1주차 과제\n",
        "- 파이토치 시작하기 및 간단한 코드 빈칸 채워넣기"
      ]
    },
    {
      "cell_type": "markdown",
      "metadata": {
        "id": "MivAstLj4EpN"
      },
      "source": [
        "#파이토치 시작하기"
      ]
    },
    {
      "cell_type": "markdown",
      "metadata": {
        "id": "XE4yLA7N4TwG"
      },
      "source": [
        "파이토치 시작하기"
      ]
    },
    {
      "cell_type": "code",
      "execution_count": null,
      "metadata": {
        "id": "BS39ZJTi4CD0"
      },
      "outputs": [],
      "source": [
        "import torch "
      ]
    },
    {
      "cell_type": "markdown",
      "metadata": {
        "id": "ixz0WyWH4kSJ"
      },
      "source": [
        "- tensor 개념 파악 (array of numerical values(vector, matrix..))\n",
        "- 4x3 행렬 두개 만들고 행으로 병합, 열로 병합\n"
      ]
    },
    {
      "cell_type": "code",
      "execution_count": null,
      "metadata": {
        "id": "OlLUsvmL4kEY",
        "colab": {
          "base_uri": "https://localhost:8080/"
        },
        "outputId": "966f833b-e261-47dd-ea56-8ee3dda85149"
      },
      "outputs": [
        {
          "output_type": "stream",
          "name": "stdout",
          "text": [
            "tensor([[ 0,  1,  2],\n",
            "        [ 3,  4,  5],\n",
            "        [ 6,  7,  8],\n",
            "        [ 9, 10, 11]])\n",
            "tensor([[12, 13, 14],\n",
            "        [15, 16, 17],\n",
            "        [18, 19, 20],\n",
            "        [21, 22, 23]])\n",
            "tensor([[ 0,  1,  2],\n",
            "        [ 3,  4,  5],\n",
            "        [ 6,  7,  8],\n",
            "        [ 9, 10, 11],\n",
            "        [12, 13, 14],\n",
            "        [15, 16, 17],\n",
            "        [18, 19, 20],\n",
            "        [21, 22, 23]])\n",
            "tensor([[ 0,  1,  2, 12, 13, 14],\n",
            "        [ 3,  4,  5, 15, 16, 17],\n",
            "        [ 6,  7,  8, 18, 19, 20],\n",
            "        [ 9, 10, 11, 21, 22, 23]])\n"
          ]
        }
      ],
      "source": [
        "X= torch.arange(0, 12).reshape(4, 3)\n",
        "Y= torch.arange(12, 24).reshape(4, 3)\n",
        "print(X)\n",
        "print(Y)\n",
        "###행으로 병합 코드\n",
        "Z = torch.cat((X, Y), dim = 0)\n",
        "print(Z)\n",
        "###열로 병합 코드\n",
        "Z = torch.cat((X, Y), dim = 1)\n",
        "print(Z)"
      ]
    },
    {
      "cell_type": "markdown",
      "metadata": {
        "id": "Gh-1LJliusEc"
      },
      "source": [
        "linear regression implementation from scratch\n",
        "- 머신러닝 기초와 비슷한 내용이지만 파이토치로 실행해보며 익숙해지는것이 목표\n"
      ]
    },
    {
      "cell_type": "code",
      "execution_count": null,
      "metadata": {
        "id": "Ybbbqg8TqAVR",
        "colab": {
          "base_uri": "https://localhost:8080/"
        },
        "outputId": "8352cf6a-fc41-4087-c643-1ce331a5f8e0"
      },
      "outputs": [
        {
          "output_type": "stream",
          "name": "stdout",
          "text": [
            "Looking in indexes: https://pypi.org/simple, https://us-python.pkg.dev/colab-wheels/public/simple/\n",
            "Collecting d2l\n",
            "  Downloading d2l-0.17.6-py3-none-any.whl (112 kB)\n",
            "\u001b[2K     \u001b[90m━━━━━━━━━━━━━━━━━━━━━━━━━━━━━━━━━━━━━━━\u001b[0m \u001b[32m112.6/112.6 KB\u001b[0m \u001b[31m9.9 MB/s\u001b[0m eta \u001b[36m0:00:00\u001b[0m\n",
            "\u001b[?25hCollecting pandas==1.2.4\n",
            "  Downloading pandas-1.2.4-cp38-cp38-manylinux1_x86_64.whl (9.7 MB)\n",
            "\u001b[2K     \u001b[90m━━━━━━━━━━━━━━━━━━━━━━━━━━━━━━━━━━━━━━━━\u001b[0m \u001b[32m9.7/9.7 MB\u001b[0m \u001b[31m47.1 MB/s\u001b[0m eta \u001b[36m0:00:00\u001b[0m\n",
            "\u001b[?25hRequirement already satisfied: requests==2.25.1 in /usr/local/lib/python3.8/dist-packages (from d2l) (2.25.1)\n",
            "Collecting jupyter==1.0.0\n",
            "  Downloading jupyter-1.0.0-py2.py3-none-any.whl (2.7 kB)\n",
            "Collecting matplotlib==3.5.1\n",
            "  Downloading matplotlib-3.5.1-cp38-cp38-manylinux_2_5_x86_64.manylinux1_x86_64.whl (11.3 MB)\n",
            "\u001b[2K     \u001b[90m━━━━━━━━━━━━━━━━━━━━━━━━━━━━━━━━━━━━━━━━\u001b[0m \u001b[32m11.3/11.3 MB\u001b[0m \u001b[31m58.0 MB/s\u001b[0m eta \u001b[36m0:00:00\u001b[0m\n",
            "\u001b[?25hCollecting numpy==1.21.5\n",
            "  Downloading numpy-1.21.5-cp38-cp38-manylinux_2_12_x86_64.manylinux2010_x86_64.whl (15.7 MB)\n",
            "\u001b[2K     \u001b[90m━━━━━━━━━━━━━━━━━━━━━━━━━━━━━━━━━━━━━━━━\u001b[0m \u001b[32m15.7/15.7 MB\u001b[0m \u001b[31m48.3 MB/s\u001b[0m eta \u001b[36m0:00:00\u001b[0m\n",
            "\u001b[?25hRequirement already satisfied: jupyter-console in /usr/local/lib/python3.8/dist-packages (from jupyter==1.0.0->d2l) (6.1.0)\n",
            "Requirement already satisfied: ipywidgets in /usr/local/lib/python3.8/dist-packages (from jupyter==1.0.0->d2l) (7.7.1)\n",
            "Requirement already satisfied: ipykernel in /usr/local/lib/python3.8/dist-packages (from jupyter==1.0.0->d2l) (5.3.4)\n",
            "Requirement already satisfied: notebook in /usr/local/lib/python3.8/dist-packages (from jupyter==1.0.0->d2l) (5.7.16)\n",
            "Collecting qtconsole\n",
            "  Downloading qtconsole-5.4.0-py3-none-any.whl (121 kB)\n",
            "\u001b[2K     \u001b[90m━━━━━━━━━━━━━━━━━━━━━━━━━━━━━━━━━━━━━━\u001b[0m \u001b[32m121.0/121.0 KB\u001b[0m \u001b[31m12.4 MB/s\u001b[0m eta \u001b[36m0:00:00\u001b[0m\n",
            "\u001b[?25hRequirement already satisfied: nbconvert in /usr/local/lib/python3.8/dist-packages (from jupyter==1.0.0->d2l) (5.6.1)\n",
            "Collecting fonttools>=4.22.0\n",
            "  Downloading fonttools-4.38.0-py3-none-any.whl (965 kB)\n",
            "\u001b[2K     \u001b[90m━━━━━━━━━━━━━━━━━━━━━━━━━━━━━━━━━━━━━━\u001b[0m \u001b[32m965.4/965.4 KB\u001b[0m \u001b[31m55.8 MB/s\u001b[0m eta \u001b[36m0:00:00\u001b[0m\n",
            "\u001b[?25hRequirement already satisfied: cycler>=0.10 in /usr/local/lib/python3.8/dist-packages (from matplotlib==3.5.1->d2l) (0.11.0)\n",
            "Requirement already satisfied: kiwisolver>=1.0.1 in /usr/local/lib/python3.8/dist-packages (from matplotlib==3.5.1->d2l) (1.4.4)\n",
            "Requirement already satisfied: python-dateutil>=2.7 in /usr/local/lib/python3.8/dist-packages (from matplotlib==3.5.1->d2l) (2.8.2)\n",
            "Requirement already satisfied: pyparsing>=2.2.1 in /usr/local/lib/python3.8/dist-packages (from matplotlib==3.5.1->d2l) (3.0.9)\n",
            "Requirement already satisfied: pillow>=6.2.0 in /usr/local/lib/python3.8/dist-packages (from matplotlib==3.5.1->d2l) (7.1.2)\n",
            "Requirement already satisfied: packaging>=20.0 in /usr/local/lib/python3.8/dist-packages (from matplotlib==3.5.1->d2l) (21.3)\n",
            "Requirement already satisfied: pytz>=2017.3 in /usr/local/lib/python3.8/dist-packages (from pandas==1.2.4->d2l) (2022.7)\n",
            "Requirement already satisfied: urllib3<1.27,>=1.21.1 in /usr/local/lib/python3.8/dist-packages (from requests==2.25.1->d2l) (1.24.3)\n",
            "Requirement already satisfied: chardet<5,>=3.0.2 in /usr/local/lib/python3.8/dist-packages (from requests==2.25.1->d2l) (4.0.0)\n",
            "Requirement already satisfied: idna<3,>=2.5 in /usr/local/lib/python3.8/dist-packages (from requests==2.25.1->d2l) (2.10)\n",
            "Requirement already satisfied: certifi>=2017.4.17 in /usr/local/lib/python3.8/dist-packages (from requests==2.25.1->d2l) (2022.12.7)\n",
            "Requirement already satisfied: six>=1.5 in /usr/local/lib/python3.8/dist-packages (from python-dateutil>=2.7->matplotlib==3.5.1->d2l) (1.15.0)\n",
            "Requirement already satisfied: tornado>=4.2 in /usr/local/lib/python3.8/dist-packages (from ipykernel->jupyter==1.0.0->d2l) (6.0.4)\n",
            "Requirement already satisfied: traitlets>=4.1.0 in /usr/local/lib/python3.8/dist-packages (from ipykernel->jupyter==1.0.0->d2l) (5.7.1)\n",
            "Requirement already satisfied: ipython>=5.0.0 in /usr/local/lib/python3.8/dist-packages (from ipykernel->jupyter==1.0.0->d2l) (7.9.0)\n",
            "Requirement already satisfied: jupyter-client in /usr/local/lib/python3.8/dist-packages (from ipykernel->jupyter==1.0.0->d2l) (6.1.12)\n",
            "Requirement already satisfied: widgetsnbextension~=3.6.0 in /usr/local/lib/python3.8/dist-packages (from ipywidgets->jupyter==1.0.0->d2l) (3.6.1)\n",
            "Requirement already satisfied: ipython-genutils~=0.2.0 in /usr/local/lib/python3.8/dist-packages (from ipywidgets->jupyter==1.0.0->d2l) (0.2.0)\n",
            "Requirement already satisfied: jupyterlab-widgets>=1.0.0 in /usr/local/lib/python3.8/dist-packages (from ipywidgets->jupyter==1.0.0->d2l) (3.0.5)\n",
            "Requirement already satisfied: pygments in /usr/local/lib/python3.8/dist-packages (from jupyter-console->jupyter==1.0.0->d2l) (2.6.1)\n",
            "Requirement already satisfied: prompt-toolkit!=3.0.0,!=3.0.1,<3.1.0,>=2.0.0 in /usr/local/lib/python3.8/dist-packages (from jupyter-console->jupyter==1.0.0->d2l) (2.0.10)\n",
            "Requirement already satisfied: jinja2>=2.4 in /usr/local/lib/python3.8/dist-packages (from nbconvert->jupyter==1.0.0->d2l) (2.11.3)\n",
            "Requirement already satisfied: nbformat>=4.4 in /usr/local/lib/python3.8/dist-packages (from nbconvert->jupyter==1.0.0->d2l) (5.7.1)\n",
            "Requirement already satisfied: entrypoints>=0.2.2 in /usr/local/lib/python3.8/dist-packages (from nbconvert->jupyter==1.0.0->d2l) (0.4)\n",
            "Requirement already satisfied: testpath in /usr/local/lib/python3.8/dist-packages (from nbconvert->jupyter==1.0.0->d2l) (0.6.0)\n",
            "Requirement already satisfied: mistune<2,>=0.8.1 in /usr/local/lib/python3.8/dist-packages (from nbconvert->jupyter==1.0.0->d2l) (0.8.4)\n",
            "Requirement already satisfied: pandocfilters>=1.4.1 in /usr/local/lib/python3.8/dist-packages (from nbconvert->jupyter==1.0.0->d2l) (1.5.0)\n",
            "Requirement already satisfied: defusedxml in /usr/local/lib/python3.8/dist-packages (from nbconvert->jupyter==1.0.0->d2l) (0.7.1)\n",
            "Requirement already satisfied: jupyter-core in /usr/local/lib/python3.8/dist-packages (from nbconvert->jupyter==1.0.0->d2l) (5.1.2)\n",
            "Requirement already satisfied: bleach in /usr/local/lib/python3.8/dist-packages (from nbconvert->jupyter==1.0.0->d2l) (5.0.1)\n",
            "Requirement already satisfied: terminado>=0.8.1 in /usr/local/lib/python3.8/dist-packages (from notebook->jupyter==1.0.0->d2l) (0.13.3)\n",
            "Requirement already satisfied: pyzmq>=17 in /usr/local/lib/python3.8/dist-packages (from notebook->jupyter==1.0.0->d2l) (23.2.1)\n",
            "Requirement already satisfied: prometheus-client in /usr/local/lib/python3.8/dist-packages (from notebook->jupyter==1.0.0->d2l) (0.15.0)\n",
            "Requirement already satisfied: Send2Trash in /usr/local/lib/python3.8/dist-packages (from notebook->jupyter==1.0.0->d2l) (1.8.0)\n",
            "Collecting qtpy>=2.0.1\n",
            "  Downloading QtPy-2.3.0-py3-none-any.whl (83 kB)\n",
            "\u001b[2K     \u001b[90m━━━━━━━━━━━━━━━━━━━━━━━━━━━━━━━━━━━━━━━━\u001b[0m \u001b[32m83.6/83.6 KB\u001b[0m \u001b[31m12.1 MB/s\u001b[0m eta \u001b[36m0:00:00\u001b[0m\n",
            "\u001b[?25hRequirement already satisfied: decorator in /usr/local/lib/python3.8/dist-packages (from ipython>=5.0.0->ipykernel->jupyter==1.0.0->d2l) (4.4.2)\n",
            "Requirement already satisfied: setuptools>=18.5 in /usr/local/lib/python3.8/dist-packages (from ipython>=5.0.0->ipykernel->jupyter==1.0.0->d2l) (57.4.0)\n",
            "Requirement already satisfied: backcall in /usr/local/lib/python3.8/dist-packages (from ipython>=5.0.0->ipykernel->jupyter==1.0.0->d2l) (0.2.0)\n",
            "Requirement already satisfied: pickleshare in /usr/local/lib/python3.8/dist-packages (from ipython>=5.0.0->ipykernel->jupyter==1.0.0->d2l) (0.7.5)\n",
            "Collecting jedi>=0.10\n",
            "  Downloading jedi-0.18.2-py2.py3-none-any.whl (1.6 MB)\n",
            "\u001b[2K     \u001b[90m━━━━━━━━━━━━━━━━━━━━━━━━━━━━━━━━━━━━━━━━\u001b[0m \u001b[32m1.6/1.6 MB\u001b[0m \u001b[31m72.5 MB/s\u001b[0m eta \u001b[36m0:00:00\u001b[0m\n",
            "\u001b[?25hRequirement already satisfied: pexpect in /usr/local/lib/python3.8/dist-packages (from ipython>=5.0.0->ipykernel->jupyter==1.0.0->d2l) (4.8.0)\n",
            "Requirement already satisfied: MarkupSafe>=0.23 in /usr/local/lib/python3.8/dist-packages (from jinja2>=2.4->nbconvert->jupyter==1.0.0->d2l) (2.0.1)\n",
            "Requirement already satisfied: platformdirs>=2.5 in /usr/local/lib/python3.8/dist-packages (from jupyter-core->nbconvert->jupyter==1.0.0->d2l) (2.6.2)\n",
            "Requirement already satisfied: jsonschema>=2.6 in /usr/local/lib/python3.8/dist-packages (from nbformat>=4.4->nbconvert->jupyter==1.0.0->d2l) (4.3.3)\n",
            "Requirement already satisfied: fastjsonschema in /usr/local/lib/python3.8/dist-packages (from nbformat>=4.4->nbconvert->jupyter==1.0.0->d2l) (2.16.2)\n",
            "Requirement already satisfied: wcwidth in /usr/local/lib/python3.8/dist-packages (from prompt-toolkit!=3.0.0,!=3.0.1,<3.1.0,>=2.0.0->jupyter-console->jupyter==1.0.0->d2l) (0.2.5)\n",
            "Requirement already satisfied: ptyprocess in /usr/local/lib/python3.8/dist-packages (from terminado>=0.8.1->notebook->jupyter==1.0.0->d2l) (0.7.0)\n",
            "Requirement already satisfied: webencodings in /usr/local/lib/python3.8/dist-packages (from bleach->nbconvert->jupyter==1.0.0->d2l) (0.5.1)\n",
            "Requirement already satisfied: parso<0.9.0,>=0.8.0 in /usr/local/lib/python3.8/dist-packages (from jedi>=0.10->ipython>=5.0.0->ipykernel->jupyter==1.0.0->d2l) (0.8.3)\n",
            "Requirement already satisfied: attrs>=17.4.0 in /usr/local/lib/python3.8/dist-packages (from jsonschema>=2.6->nbformat>=4.4->nbconvert->jupyter==1.0.0->d2l) (22.2.0)\n",
            "Requirement already satisfied: importlib-resources>=1.4.0 in /usr/local/lib/python3.8/dist-packages (from jsonschema>=2.6->nbformat>=4.4->nbconvert->jupyter==1.0.0->d2l) (5.10.2)\n",
            "Requirement already satisfied: pyrsistent!=0.17.0,!=0.17.1,!=0.17.2,>=0.14.0 in /usr/local/lib/python3.8/dist-packages (from jsonschema>=2.6->nbformat>=4.4->nbconvert->jupyter==1.0.0->d2l) (0.19.3)\n",
            "Requirement already satisfied: zipp>=3.1.0 in /usr/local/lib/python3.8/dist-packages (from importlib-resources>=1.4.0->jsonschema>=2.6->nbformat>=4.4->nbconvert->jupyter==1.0.0->d2l) (3.11.0)\n",
            "Installing collected packages: numpy, jedi, fonttools, qtpy, pandas, matplotlib, qtconsole, jupyter, d2l\n",
            "  Attempting uninstall: numpy\n",
            "    Found existing installation: numpy 1.21.6\n",
            "    Uninstalling numpy-1.21.6:\n",
            "      Successfully uninstalled numpy-1.21.6\n",
            "  Attempting uninstall: pandas\n",
            "    Found existing installation: pandas 1.3.5\n",
            "    Uninstalling pandas-1.3.5:\n",
            "      Successfully uninstalled pandas-1.3.5\n",
            "  Attempting uninstall: matplotlib\n",
            "    Found existing installation: matplotlib 3.2.2\n",
            "    Uninstalling matplotlib-3.2.2:\n",
            "      Successfully uninstalled matplotlib-3.2.2\n",
            "\u001b[31mERROR: pip's dependency resolver does not currently take into account all the packages that are installed. This behaviour is the source of the following dependency conflicts.\n",
            "xarray 2022.12.0 requires pandas>=1.3, but you have pandas 1.2.4 which is incompatible.\u001b[0m\u001b[31m\n",
            "\u001b[0mSuccessfully installed d2l-0.17.6 fonttools-4.38.0 jedi-0.18.2 jupyter-1.0.0 matplotlib-3.5.1 numpy-1.21.5 pandas-1.2.4 qtconsole-5.4.0 qtpy-2.3.0\n"
          ]
        }
      ],
      "source": [
        "!pip install d2l"
      ]
    },
    {
      "cell_type": "code",
      "source": [
        "!pip install matplotlib_inline"
      ],
      "metadata": {
        "colab": {
          "base_uri": "https://localhost:8080/"
        },
        "id": "SAaiikzn_EQX",
        "outputId": "37384818-b29a-4e3d-d23a-da473bf259fe"
      },
      "execution_count": null,
      "outputs": [
        {
          "output_type": "stream",
          "name": "stdout",
          "text": [
            "Looking in indexes: https://pypi.org/simple, https://us-python.pkg.dev/colab-wheels/public/simple/\n",
            "Collecting matplotlib_inline\n",
            "  Downloading matplotlib_inline-0.1.6-py3-none-any.whl (9.4 kB)\n",
            "Requirement already satisfied: traitlets in /usr/local/lib/python3.8/dist-packages (from matplotlib_inline) (5.7.1)\n",
            "Installing collected packages: matplotlib_inline\n",
            "Successfully installed matplotlib_inline-0.1.6\n"
          ]
        }
      ]
    },
    {
      "cell_type": "code",
      "execution_count": null,
      "metadata": {
        "id": "YyWEB6e3FKYY",
        "colab": {
          "base_uri": "https://localhost:8080/"
        },
        "outputId": "08f6d490-b4e7-4f6a-a9ff-92e0fdf98dd9"
      },
      "outputs": [
        {
          "output_type": "stream",
          "name": "stderr",
          "text": [
            "/usr/local/lib/python3.8/dist-packages/torch/cuda/__init__.py:497: UserWarning: Can't initialize NVML\n",
            "  warnings.warn(\"Can't initialize NVML\")\n"
          ]
        }
      ],
      "source": [
        "%matplotlib inline\n",
        "import random\n",
        "import torch\n",
        "from d2l import torch as d2l"
      ]
    },
    {
      "cell_type": "code",
      "execution_count": null,
      "metadata": {
        "id": "exWjbVn2v3CT"
      },
      "outputs": [],
      "source": [
        "def synthetic_data(w, b, num_examples):\n",
        "    \"\"\"Generate y = Xw + b + noise.\"\"\"\n",
        "    X = torch.normal(0, 1, (num_examples, len(w)))\n",
        "    y = torch.matmul(X, w) + b\n",
        "    y += torch.normal(0, 0.01, y.shape)\n",
        "    return X, y.reshape((-1, 1))\n",
        "\n",
        "true_w = torch.tensor([3, -1.5])\n",
        "true_b = 5.5\n",
        "features, labels = synthetic_data(true_w, true_b, 2000)"
      ]
    },
    {
      "cell_type": "code",
      "execution_count": null,
      "metadata": {
        "id": "5UcjckXPv6iy",
        "colab": {
          "base_uri": "https://localhost:8080/"
        },
        "outputId": "a8ea7252-697c-4191-c312-015289c5b98b"
      },
      "outputs": [
        {
          "output_type": "stream",
          "name": "stdout",
          "text": [
            "features: tensor([-0.8749,  0.5073]) \n",
            "label: tensor([2.1230])\n"
          ]
        }
      ],
      "source": [
        "print('features:', features[0],'\\nlabel:', labels[0])"
      ]
    },
    {
      "cell_type": "code",
      "execution_count": null,
      "metadata": {
        "id": "jLY6YR5Zv_gO"
      },
      "outputs": [],
      "source": [
        "def data_iter(batch_size, features, labels):\n",
        "    num_examples = len(features)\n",
        "    indices = list(range(num_examples))\n",
        "    # The examples are read at random, in no particular order\n",
        "    random.shuffle(indices)\n",
        "     ###반복문으로 채워넣기:\n",
        "        ##이하는 반복문에 대한 조건입니다.\n",
        "    for i in range(0, num_examples, batch_size):\n",
        "        batch_indices = torch.tensor(indices[i: min(i + batch_size, num_examples)])\n",
        "        yield features[batch_indices], labels[batch_indices]"
      ]
    },
    {
      "cell_type": "code",
      "execution_count": null,
      "metadata": {
        "id": "zuxxEAvdwA7p",
        "colab": {
          "base_uri": "https://localhost:8080/"
        },
        "outputId": "73d4f7f7-8569-4352-c4ae-72c06303160a"
      },
      "outputs": [
        {
          "output_type": "stream",
          "name": "stdout",
          "text": [
            "tensor([[ 0.0723, -1.5541],\n",
            "        [-0.1752,  0.1673],\n",
            "        [ 0.4214,  0.2297],\n",
            "        [-1.8419, -1.9794],\n",
            "        [-0.0064,  0.7500],\n",
            "        [ 0.5689,  1.2007],\n",
            "        [-1.9466, -0.6488],\n",
            "        [-0.7324, -0.2016],\n",
            "        [ 0.0658, -1.9822],\n",
            "        [-1.5456, -0.7542],\n",
            "        [ 2.7580,  1.7551],\n",
            "        [-0.6913,  1.4117],\n",
            "        [ 0.4397,  1.3271],\n",
            "        [-0.4714, -0.8261],\n",
            "        [ 2.4219, -0.5770],\n",
            "        [-1.6281, -0.2954],\n",
            "        [ 1.3628,  0.4569],\n",
            "        [-1.0823, -0.3500],\n",
            "        [-0.1998, -0.4141],\n",
            "        [-0.2677, -0.4599]]) \n",
            " tensor([[ 8.0403],\n",
            "        [ 4.7329],\n",
            "        [ 6.4200],\n",
            "        [ 2.9524],\n",
            "        [ 4.3595],\n",
            "        [ 5.4134],\n",
            "        [ 0.6127],\n",
            "        [ 3.6267],\n",
            "        [ 8.6843],\n",
            "        [ 1.9940],\n",
            "        [11.1450],\n",
            "        [ 1.2875],\n",
            "        [ 4.8302],\n",
            "        [ 5.3062],\n",
            "        [13.6366],\n",
            "        [ 1.0525],\n",
            "        [ 8.9127],\n",
            "        [ 2.8051],\n",
            "        [ 5.5196],\n",
            "        [ 5.3924]])\n"
          ]
        }
      ],
      "source": [
        "batch_size = 20\n",
        "\n",
        "for X, y in data_iter(batch_size, features, labels):\n",
        "    print(X, '\\n', y)\n",
        "    break"
      ]
    },
    {
      "cell_type": "code",
      "execution_count": null,
      "metadata": {
        "id": "f_yHcVYEwCHq"
      },
      "outputs": [],
      "source": [
        "w = torch.normal(0, 0.01, size=(2,1), requires_grad=True)\n",
        "b = torch.tensor([1.0], requires_grad = True) #원하는 실수를 넣어주세요"
      ]
    },
    {
      "cell_type": "code",
      "execution_count": null,
      "metadata": {
        "id": "wOT4gBtZwDVA"
      },
      "outputs": [],
      "source": [
        "def linreg(X, w, b):\n",
        "    \"\"\"The linear regression model.\"\"\"\n",
        "    return torch.matmul(X, w) + b\n",
        "    ###lr func 코드 완성하기"
      ]
    },
    {
      "cell_type": "code",
      "execution_count": null,
      "metadata": {
        "id": "WFYMJrrSwE5R"
      },
      "outputs": [],
      "source": [
        "def squared_loss(y_hat, y):  \n",
        "    \"\"\"Squared loss.\"\"\"\n",
        "    return (y_hat - y.reshape(y_hat.shape))**2/2\n",
        "    ###loss function 직접 짜보기"
      ]
    },
    {
      "cell_type": "code",
      "execution_count": null,
      "metadata": {
        "id": "MXD0qP8PwIn0"
      },
      "outputs": [],
      "source": [
        "def sgd(params, lr, batch_size):\n",
        "    \"\"\"Minibatch stochastic gradient descent.\"\"\"\n",
        "    with torch.no_grad():\n",
        "      for param in params:\n",
        "        param -= lr / batch_size * param.grad\n",
        "        param.grad.zero_()\n",
        "        ###반복문으로 채워넣기"
      ]
    },
    {
      "cell_type": "code",
      "source": [
        "print(w[0])\n",
        "print(w[1])"
      ],
      "metadata": {
        "colab": {
          "base_uri": "https://localhost:8080/"
        },
        "id": "V8eUGQPAZ6tY",
        "outputId": "bd0bfac9-499b-45ff-e661-d9cd28d1d0e2"
      },
      "execution_count": null,
      "outputs": [
        {
          "output_type": "stream",
          "name": "stdout",
          "text": [
            "tensor([0.0134], grad_fn=<SelectBackward0>)\n",
            "tensor([-0.0065], grad_fn=<SelectBackward0>)\n"
          ]
        }
      ]
    },
    {
      "cell_type": "code",
      "execution_count": null,
      "metadata": {
        "id": "pS_hm3J8wJ4z",
        "colab": {
          "base_uri": "https://localhost:8080/"
        },
        "outputId": "609d8f15-d145-434f-8747-2bbedc0877df"
      },
      "outputs": [
        {
          "output_type": "stream",
          "name": "stdout",
          "text": [
            "epoch 1, loss 0.041352\n",
            "epoch 2, loss 0.000161\n",
            "epoch 3, loss 0.000046\n",
            "epoch 4, loss 0.000045\n",
            "epoch 5, loss 0.000045\n",
            "epoch 6, loss 0.000045\n",
            "epoch 7, loss 0.000045\n",
            "epoch 8, loss 0.000045\n",
            "epoch 9, loss 0.000045\n",
            "epoch 10, loss 0.000045\n"
          ]
        }
      ],
      "source": [
        "lr = 0.03             ###직접 설정\n",
        "num_epochs = 10       ###직접 설정\n",
        "net = linreg          ###위에서 가져오기\n",
        "loss = squared_loss   ###위에서 가져오기\n",
        "\n",
        "for epoch in range(num_epochs):\n",
        "    for X, y in data_iter(batch_size, features, labels):\n",
        "        l = loss(net(X, w, b), y)      ###채워넣기) \n",
        "        # Compute gradient on `l` with respect to [`w`, `b`]\n",
        "        l.sum().backward()\n",
        "        sgd([w, b], lr, batch_size)    ###채워넣기\n",
        "    with torch.no_grad():\n",
        "        train_l = loss(net(features, w, b), labels)\n",
        "        print(f'epoch {epoch + 1}, loss {float(train_l.mean()):f}')"
      ]
    },
    {
      "cell_type": "code",
      "execution_count": null,
      "metadata": {
        "id": "u_WSAjwNwMEY",
        "colab": {
          "base_uri": "https://localhost:8080/"
        },
        "outputId": "0fb4d8fa-1eac-4188-ed03-36d2d26ef804"
      },
      "outputs": [
        {
          "output_type": "stream",
          "name": "stdout",
          "text": [
            "error in estimating w: tensor([ 0.0000, -0.0004], grad_fn=<SubBackward0>)\n",
            "error in estimating b: tensor([-0.0002], grad_fn=<RsubBackward1>)\n"
          ]
        }
      ],
      "source": [
        "print(f'error in estimating w: {true_w - w.reshape(true_w.shape)}')\n",
        "print(f'error in estimating b: {true_b - b}')"
      ]
    },
    {
      "cell_type": "markdown",
      "metadata": {
        "id": "tDSteRKdREC9"
      },
      "source": [
        "+cost graph 그리기 (x축 w, y축 loss)"
      ]
    },
    {
      "cell_type": "code",
      "source": [
        "import matplotlib.pyplot as plt\n",
        "from mpl_toolkits.mplot3d import Axes3D"
      ],
      "metadata": {
        "id": "DWpoS8tBkRri"
      },
      "execution_count": null,
      "outputs": []
    },
    {
      "cell_type": "code",
      "source": [
        "w = torch.normal(0, 0.01, size=(2,1), requires_grad=True)\n",
        "b = torch.tensor([1.0], requires_grad = True) #원하는 실수를 넣어주세요\n",
        "\n",
        "print(w[0], w[1])"
      ],
      "metadata": {
        "id": "SJ3SgIeEVJBj",
        "colab": {
          "base_uri": "https://localhost:8080/"
        },
        "outputId": "70115ac7-fa22-4e3b-f757-6ee20dd027fd"
      },
      "execution_count": null,
      "outputs": [
        {
          "output_type": "stream",
          "name": "stdout",
          "text": [
            "tensor([0.0050], grad_fn=<SelectBackward0>) tensor([0.0082], grad_fn=<SelectBackward0>)\n"
          ]
        }
      ]
    },
    {
      "cell_type": "code",
      "source": [
        "lr = 0.03             ###직접 설정\n",
        "num_epochs = 10       ###직접 설정\n",
        "net = linreg          ###위에서 가져오기\n",
        "loss = squared_loss   ###위에서 가져오기\n",
        "\n",
        "w0_list = []\n",
        "w1_list = []\n",
        "loss_list = []\n",
        "\n",
        "for epoch in range(num_epochs):\n",
        "      w0_list.append(w[0].clone().detach())\n",
        "      w1_list.append(w[1].clone().detach())\n",
        "      for X, y in data_iter(batch_size, features, labels):\n",
        "        l = loss(net(X, w, b), y)      ###채워넣기) \n",
        "        # Compute gradient on `l` with respect to [`w`, `b`]\n",
        "        l.sum().backward()\n",
        "        sgd([w, b], lr, batch_size)    ###채워넣기\n",
        "      with torch.no_grad():\n",
        "        train_l = loss(net(features, w, b), labels)\n",
        "        print(f'epoch {epoch + 1}, loss {float(train_l.mean()):f}')\n",
        "        loss_list.append(train_l.mean())"
      ],
      "metadata": {
        "colab": {
          "base_uri": "https://localhost:8080/"
        },
        "id": "6d3K3gHUbXRB",
        "outputId": "a3e76195-c039-4ab3-abe5-0710c1e32bfb"
      },
      "execution_count": null,
      "outputs": [
        {
          "output_type": "stream",
          "name": "stdout",
          "text": [
            "epoch 1, loss 0.041358\n",
            "epoch 2, loss 0.000158\n",
            "epoch 3, loss 0.000045\n",
            "epoch 4, loss 0.000045\n",
            "epoch 5, loss 0.000045\n",
            "epoch 6, loss 0.000045\n",
            "epoch 7, loss 0.000045\n",
            "epoch 8, loss 0.000045\n",
            "epoch 9, loss 0.000045\n",
            "epoch 10, loss 0.000045\n"
          ]
        }
      ]
    },
    {
      "cell_type": "code",
      "source": [
        "for i in range(10):\n",
        "  w0_list[i] = w0_list[i].numpy()[0]\n",
        "  w1_list[i] = w1_list[i].numpy()[0]\n",
        "  loss_list[i] = float(loss_list[i])"
      ],
      "metadata": {
        "id": "IdFv3d01gH34"
      },
      "execution_count": null,
      "outputs": []
    },
    {
      "cell_type": "code",
      "source": [
        "print(loss_list)\n",
        "print(w0_list)\n",
        "print(w1_list)"
      ],
      "metadata": {
        "colab": {
          "base_uri": "https://localhost:8080/"
        },
        "id": "bID-gSJ3nnvW",
        "outputId": "d15864fc-c947-4351-da43-92da2c02d752"
      },
      "execution_count": null,
      "outputs": [
        {
          "output_type": "stream",
          "name": "stdout",
          "text": [
            "[0.04135844483971596, 0.00015781429829075933, 4.536394772003405e-05, 4.525806798483245e-05, 4.528490171651356e-05, 4.526343764155172e-05, 4.523605457507074e-05, 4.527452983893454e-05, 4.525559052126482e-05, 4.5255710574565455e-05]\n",
            "[0.0049760817, 2.8289213, 2.9903827, 2.9995365, 3.0000868, 2.99983, 3.0002031, 3.0001104, 3.0002854, 3.0000973]\n",
            "[0.008154867, -1.4344285, -1.4971992, -1.4995911, -1.49949, -1.4995185, -1.4997162, -1.4996395, -1.4996068, -1.4997743]\n"
          ]
        }
      ]
    },
    {
      "cell_type": "code",
      "source": [
        "fig = plt.figure(figsize=(9, 6))\n",
        "ax = fig.add_subplot(111, projection='3d')\n",
        "ax.scatter(w0_list, w1_list, loss_list)\n",
        "ax.plot(w0_list, w1_list, loss_list)\n",
        "\n",
        "ax.set_xlabel(\"w[0]\", size = 10, labelpad = 10)\n",
        "ax.set_ylabel(\"w[1]\", size = 10, labelpad = 10)\n",
        "ax.set_zlabel(\"loss\", size = 10, labelpad = 10)\n",
        "plt.title('cost graph')\n",
        "plt.show()"
      ],
      "metadata": {
        "colab": {
          "base_uri": "https://localhost:8080/",
          "height": 357
        },
        "id": "G6RYH6oAkxvz",
        "outputId": "e350e725-4095-432b-9f54-966ae67f4f40"
      },
      "execution_count": null,
      "outputs": [
        {
          "output_type": "display_data",
          "data": {
            "text/plain": [
              "<Figure size 648x432 with 1 Axes>"
            ],
            "image/png": "[encoded data removed]"
          },
          "metadata": {
            "needs_background": "light"
          }
        }
      ]
    },
    {
      "cell_type": "markdown",
      "metadata": {
        "id": "WSKKAGx4wNd4"
      },
      "source": [
        "concise implementation of linear regression \n",
        "- api 사용해보기"
      ]
    },
    {
      "cell_type": "code",
      "execution_count": null,
      "metadata": {
        "id": "CWiOlkzKxEkf"
      },
      "outputs": [],
      "source": [
        "import numpy as np\n",
        "import torch\n",
        "from torch.utils import data\n",
        "from d2l import torch as d2l\n",
        "\n",
        "\n",
        "true_w = torch.tensor([3, -1.5])\n",
        "true_b = 5.5\n",
        "features, labels = d2l.synthetic_data(true_w, true_b, 2000)"
      ]
    },
    {
      "cell_type": "code",
      "execution_count": null,
      "metadata": {
        "id": "F5tRyjkmxGUe"
      },
      "outputs": [],
      "source": [
        "def load_array(data_arrays, batch_size, is_train=True): \n",
        "    \"\"\"Construct a PyTorch data iterator.\"\"\"\n",
        "    dataset = data.TensorDataset(*data_arrays)\n",
        "    return data.DataLoader(dataset, batch_size, shuffle=is_train)\n",
        "\n",
        "batch_size = 20\n",
        "data_iter = load_array((features, labels), batch_size)"
      ]
    },
    {
      "cell_type": "code",
      "execution_count": null,
      "metadata": {
        "id": "NBaqnZG4xHgP",
        "colab": {
          "base_uri": "https://localhost:8080/"
        },
        "outputId": "b68447d4-3ef1-4a5e-95bf-d17ca03591e7"
      },
      "outputs": [
        {
          "output_type": "execute_result",
          "data": {
            "text/plain": [
              "[tensor([[-0.9293, -1.2659],\n",
              "         [ 1.2214,  0.4582],\n",
              "         [ 0.2860, -1.3562],\n",
              "         [-0.5070,  0.4384],\n",
              "         [-0.6168, -0.8847],\n",
              "         [-1.7033,  1.1969],\n",
              "         [-1.0586,  1.3534],\n",
              "         [-0.9779, -0.1871],\n",
              "         [ 1.9399, -1.1405],\n",
              "         [ 0.1449,  0.0824],\n",
              "         [-0.7244, -0.4452],\n",
              "         [-0.2035, -1.4215],\n",
              "         [ 1.3538,  1.2143],\n",
              "         [-0.8220, -0.7599],\n",
              "         [ 0.0675, -0.4748],\n",
              "         [ 1.4709,  0.4288],\n",
              "         [-0.3466, -3.4766],\n",
              "         [ 1.2887, -1.2341],\n",
              "         [-1.0825, -0.3356],\n",
              "         [-0.5893, -0.1361]]), tensor([[ 4.6028],\n",
              "         [ 8.4890],\n",
              "         [ 8.3893],\n",
              "         [ 3.3240],\n",
              "         [ 4.9903],\n",
              "         [-1.4094],\n",
              "         [ 0.2980],\n",
              "         [ 2.8462],\n",
              "         [13.0311],\n",
              "         [ 5.8155],\n",
              "         [ 4.0043],\n",
              "         [ 7.0046],\n",
              "         [ 7.7339],\n",
              "         [ 4.1733],\n",
              "         [ 6.4059],\n",
              "         [ 9.2764],\n",
              "         [ 9.6688],\n",
              "         [11.2103],\n",
              "         [ 2.7603],\n",
              "         [ 3.9478]])]"
            ]
          },
          "metadata": {},
          "execution_count": 43
        }
      ],
      "source": [
        "next(iter(data_iter))"
      ]
    },
    {
      "cell_type": "code",
      "execution_count": null,
      "metadata": {
        "id": "J_83KBFOxJFB"
      },
      "outputs": [],
      "source": [
        "from torch import nn\n",
        "\n",
        "net = nn.Sequential(nn.Linear(2, 1))"
      ]
    },
    {
      "cell_type": "code",
      "execution_count": null,
      "metadata": {
        "id": "AdJQQgFaxL2H",
        "colab": {
          "base_uri": "https://localhost:8080/"
        },
        "outputId": "336d82d5-be97-4f8e-92f8-cedf630ecb6a"
      },
      "outputs": [
        {
          "output_type": "execute_result",
          "data": {
            "text/plain": [
              "tensor([0.])"
            ]
          },
          "metadata": {},
          "execution_count": 45
        }
      ],
      "source": [
        "net[0].weight.data.normal_(0, 0.01)\n",
        "net[0].bias.data.fill_(0)"
      ]
    },
    {
      "cell_type": "code",
      "execution_count": null,
      "metadata": {
        "id": "vSCAFyfAxNAn"
      },
      "outputs": [],
      "source": [
        "loss = nn.MSELoss()\n",
        "###api function으로 직접 설정"
      ]
    },
    {
      "cell_type": "code",
      "execution_count": null,
      "metadata": {
        "id": "_yee2wG1xOYW"
      },
      "outputs": [],
      "source": [
        "trainer = torch.optim.SGD(net.parameters(), lr = 0.03)\n",
        "###api function으로 직접 설정"
      ]
    },
    {
      "cell_type": "code",
      "execution_count": null,
      "metadata": {
        "id": "5fAmW5bUxP9Z",
        "colab": {
          "base_uri": "https://localhost:8080/"
        },
        "outputId": "2812aa04-ef41-4227-c812-30fd427e69dc"
      },
      "outputs": [
        {
          "output_type": "stream",
          "name": "stdout",
          "text": [
            "epoch 1, loss 0.000274\n",
            "epoch 2, loss 0.000107\n",
            "epoch 3, loss 0.000107\n"
          ]
        }
      ],
      "source": [
        "num_epochs = 3\n",
        "for epoch in range(num_epochs):\n",
        "    for X, y in data_iter:\n",
        "        l = loss(net(X), y)    ###직접설정\n",
        "        trainer.zero_grad()\n",
        "        l.backward()\n",
        "        trainer.step()\n",
        "    l = loss(net(features), labels)\n",
        "    print(f'epoch {epoch + 1}, loss {l:f}')"
      ]
    },
    {
      "cell_type": "code",
      "execution_count": null,
      "metadata": {
        "id": "JT8VD6GhxR5m",
        "colab": {
          "base_uri": "https://localhost:8080/"
        },
        "outputId": "8cbfe445-e5a1-4a7d-af23-cd4e0160b2aa"
      },
      "outputs": [
        {
          "output_type": "stream",
          "name": "stdout",
          "text": [
            "error in estimating w: tensor([-0.0002, -0.0002])\n",
            "error in estimating b: tensor([0.0007])\n"
          ]
        }
      ],
      "source": [
        "w = net[0].weight.data  ###학습결과 w 구하는 식\n",
        "print('error in estimating w:', true_w - w.reshape(true_w.shape))\n",
        "b = net[0].bias.data    ###학습결과 b 구하는 식\n",
        "print('error in estimating b:', true_b - b)"
      ]
    }
  ],
  "metadata": {
    "colab": {
      "provenance": []
    },
    "kernelspec": {
      "display_name": "Python 3",
      "name": "python3"
    },
    "language_info": {
      "name": "python"
    }
  },
  "nbformat": 4,
  "nbformat_minor": 0
}