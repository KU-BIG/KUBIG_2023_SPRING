{
  "nbformat": 4,
  "nbformat_minor": 0,
  "metadata": {
    "colab": {
      "provenance": []
    },
    "kernelspec": {
      "name": "python3",
      "display_name": "Python 3"
    },
    "language_info": {
      "name": "python"
    },
    "accelerator": "GPU",
    "gpuClass": "standard"
  },
  "cells": [
    {
      "cell_type": "code",
      "execution_count": 1,
      "metadata": {
        "id": "nmQ5F7UAeKB_"
      },
      "outputs": [],
      "source": [
        "import numpy as np\n",
        "import torch\n",
        "import torch.nn as nn\n",
        "import torch.optim as optim"
      ]
    },
    {
      "cell_type": "markdown",
      "source": [
        "## Task1\n",
        "\n",
        "빈 칸을 채워주세요!\n",
        "\n",
        "단계별 output이 github 파일에는 남아있으니 그 output과 동일한 형태인지 확인하면서 진행해주시면 됩니다~"
      ],
      "metadata": {
        "id": "Sgxd6SxmeVcP"
      }
    },
    {
      "cell_type": "code",
      "source": [
        "#1. 생성할 문장 데이터\n",
        "\n",
        "sentence = (\"Brick walls are there for a reason and you must not think \"\n",
        "            \"that the brick walls aren't there to keep us out, but rather \"\n",
        "            \"in this way that the brick walls are there to show us how badly we want things.\")"
      ],
      "metadata": {
        "id": "NDvUeC8BoUb6"
      },
      "execution_count": 2,
      "outputs": []
    },
    {
      "cell_type": "code",
      "source": [
        "len(sentence)"
      ],
      "metadata": {
        "colab": {
          "base_uri": "https://localhost:8080/"
        },
        "id": "dqLp-Sb32SzP",
        "outputId": "b85d88c6-3c25-4ff0-c434-4d52224d32e6"
      },
      "execution_count": 3,
      "outputs": [
        {
          "output_type": "execute_result",
          "data": {
            "text/plain": [
              "198"
            ]
          },
          "metadata": {},
          "execution_count": 3
        }
      ]
    },
    {
      "cell_type": "code",
      "source": [
        "#2. 문자 집합 만들기\n",
        "world_set = list(set(sentence))\n",
        "\n",
        "## 문제(1): 각 문자에 정수 인코딩 (공백도 하나의 원소로 포함)\n",
        "vocab = {word: num for num, word in enumerate(world_set)}"
      ],
      "metadata": {
        "id": "b9lkrKyZf8ie"
      },
      "execution_count": 4,
      "outputs": []
    },
    {
      "cell_type": "code",
      "source": [
        "print(vocab)"
      ],
      "metadata": {
        "colab": {
          "base_uri": "https://localhost:8080/"
        },
        "id": "F_0we5Y-gYDq",
        "outputId": "852bd87e-a1d2-4216-8f39-1c4616870917"
      },
      "execution_count": 5,
      "outputs": [
        {
          "output_type": "stream",
          "name": "stdout",
          "text": [
            "{'i': 0, 'u': 1, 'r': 2, '.': 3, 'e': 4, 'y': 5, 'B': 6, 'h': 7, 's': 8, 'f': 9, ',': 10, 'b': 11, \"'\": 12, 'a': 13, 'k': 14, 'm': 15, 'w': 16, ' ': 17, 'p': 18, 'd': 19, 'o': 20, 'c': 21, 'g': 22, 't': 23, 'l': 24, 'n': 25}\n"
          ]
        }
      ]
    },
    {
      "cell_type": "code",
      "source": [
        "#3. 문자 집합 크기 확인\n",
        "\n",
        "vocab_size = len(vocab)\n",
        "print('문자 집합 크기 : {}'.format(vocab_size))"
      ],
      "metadata": {
        "colab": {
          "base_uri": "https://localhost:8080/"
        },
        "id": "TpKupU6lgpfT",
        "outputId": "9c7d01e1-c94c-43a4-e6bb-be329112e6c5"
      },
      "execution_count": 6,
      "outputs": [
        {
          "output_type": "stream",
          "name": "stdout",
          "text": [
            "문자 집합 크기 : 26\n"
          ]
        }
      ]
    },
    {
      "cell_type": "code",
      "source": [
        "#4. 하이퍼 파라미터 설정(자유롭게 수정해보세요!)\n",
        "\n",
        "hidden_size = vocab_size # 같아야 하는 것 확인!\n",
        "sequence_length = 10  # 너무 길거나 너무 짧게 잡으면 안됩니다!\n",
        "learning_rate = 0.01"
      ],
      "metadata": {
        "id": "wFDZJHSMg9In"
      },
      "execution_count": 7,
      "outputs": []
    },
    {
      "cell_type": "code",
      "source": [
        "#5. seqence 길이 단위 자르기\n",
        "\n",
        "# 데이터 구성을 위한 리스트\n",
        "x_data = []\n",
        "y_data = []\n",
        "\n",
        "## 문제(2): 반복문 내에서의 인덱싱을 사용하여 sequence_length 값 단위로 샘플을 잘라 데이터 만들기, y_str은 x_str은 한 칸씩 쉬프트된 sequnce\n",
        "\n",
        "for i in range(0, len(sentence) - sequence_length):\n",
        "  x_str = sentence[i: i + sequence_length]\n",
        "  y_str = sentence[i+1: i + sequence_length+1]\n",
        "  print(i, x_str, \"->\", y_str)\n",
        "\n",
        "  # x_str과 y_str이 문자집합에 해당하는 인덱스를 각각 x_data, y_data에 append\n",
        "  x_data.append([vocab[c] for c in x_str])\n",
        "  y_data.append([vocab[d] for d in y_str])"
      ],
      "metadata": {
        "colab": {
          "base_uri": "https://localhost:8080/"
        },
        "id": "RbDcmJmghN7V",
        "outputId": "0a31db42-5400-45f1-a51a-d97613b8012d"
      },
      "execution_count": 8,
      "outputs": [
        {
          "output_type": "stream",
          "name": "stdout",
          "text": [
            "0 Brick wall -> rick walls\n",
            "1 rick walls -> ick walls \n",
            "2 ick walls  -> ck walls a\n",
            "3 ck walls a -> k walls ar\n",
            "4 k walls ar ->  walls are\n",
            "5  walls are -> walls are \n",
            "6 walls are  -> alls are t\n",
            "7 alls are t -> lls are th\n",
            "8 lls are th -> ls are the\n",
            "9 ls are the -> s are ther\n",
            "10 s are ther ->  are there\n",
            "11  are there -> are there \n",
            "12 are there  -> re there f\n",
            "13 re there f -> e there fo\n",
            "14 e there fo ->  there for\n",
            "15  there for -> there for \n",
            "16 there for  -> here for a\n",
            "17 here for a -> ere for a \n",
            "18 ere for a  -> re for a r\n",
            "19 re for a r -> e for a re\n",
            "20 e for a re ->  for a rea\n",
            "21  for a rea -> for a reas\n",
            "22 for a reas -> or a reaso\n",
            "23 or a reaso -> r a reason\n",
            "24 r a reason ->  a reason \n",
            "25  a reason  -> a reason a\n",
            "26 a reason a ->  reason an\n",
            "27  reason an -> reason and\n",
            "28 reason and -> eason and \n",
            "29 eason and  -> ason and y\n",
            "30 ason and y -> son and yo\n",
            "31 son and yo -> on and you\n",
            "32 on and you -> n and you \n",
            "33 n and you  ->  and you m\n",
            "34  and you m -> and you mu\n",
            "35 and you mu -> nd you mus\n",
            "36 nd you mus -> d you must\n",
            "37 d you must ->  you must \n",
            "38  you must  -> you must n\n",
            "39 you must n -> ou must no\n",
            "40 ou must no -> u must not\n",
            "41 u must not ->  must not \n",
            "42  must not  -> must not t\n",
            "43 must not t -> ust not th\n",
            "44 ust not th -> st not thi\n",
            "45 st not thi -> t not thin\n",
            "46 t not thin ->  not think\n",
            "47  not think -> not think \n",
            "48 not think  -> ot think t\n",
            "49 ot think t -> t think th\n",
            "50 t think th ->  think tha\n",
            "51  think tha -> think that\n",
            "52 think that -> hink that \n",
            "53 hink that  -> ink that t\n",
            "54 ink that t -> nk that th\n",
            "55 nk that th -> k that the\n",
            "56 k that the ->  that the \n",
            "57  that the  -> that the b\n",
            "58 that the b -> hat the br\n",
            "59 hat the br -> at the bri\n",
            "60 at the bri -> t the bric\n",
            "61 t the bric ->  the brick\n",
            "62  the brick -> the brick \n",
            "63 the brick  -> he brick w\n",
            "64 he brick w -> e brick wa\n",
            "65 e brick wa ->  brick wal\n",
            "66  brick wal -> brick wall\n",
            "67 brick wall -> rick walls\n",
            "68 rick walls -> ick walls \n",
            "69 ick walls  -> ck walls a\n",
            "70 ck walls a -> k walls ar\n",
            "71 k walls ar ->  walls are\n",
            "72  walls are -> walls aren\n",
            "73 walls aren -> alls aren'\n",
            "74 alls aren' -> lls aren't\n",
            "75 lls aren't -> ls aren't \n",
            "76 ls aren't  -> s aren't t\n",
            "77 s aren't t ->  aren't th\n",
            "78  aren't th -> aren't the\n",
            "79 aren't the -> ren't ther\n",
            "80 ren't ther -> en't there\n",
            "81 en't there -> n't there \n",
            "82 n't there  -> 't there t\n",
            "83 't there t -> t there to\n",
            "84 t there to ->  there to \n",
            "85  there to  -> there to k\n",
            "86 there to k -> here to ke\n",
            "87 here to ke -> ere to kee\n",
            "88 ere to kee -> re to keep\n",
            "89 re to keep -> e to keep \n",
            "90 e to keep  ->  to keep u\n",
            "91  to keep u -> to keep us\n",
            "92 to keep us -> o keep us \n",
            "93 o keep us  ->  keep us o\n",
            "94  keep us o -> keep us ou\n",
            "95 keep us ou -> eep us out\n",
            "96 eep us out -> ep us out,\n",
            "97 ep us out, -> p us out, \n",
            "98 p us out,  ->  us out, b\n",
            "99  us out, b -> us out, bu\n",
            "100 us out, bu -> s out, but\n",
            "101 s out, but ->  out, but \n",
            "102  out, but  -> out, but r\n",
            "103 out, but r -> ut, but ra\n",
            "104 ut, but ra -> t, but rat\n",
            "105 t, but rat -> , but rath\n",
            "106 , but rath ->  but rathe\n",
            "107  but rathe -> but rather\n",
            "108 but rather -> ut rather \n",
            "109 ut rather  -> t rather i\n",
            "110 t rather i ->  rather in\n",
            "111  rather in -> rather in \n",
            "112 rather in  -> ather in t\n",
            "113 ather in t -> ther in th\n",
            "114 ther in th -> her in thi\n",
            "115 her in thi -> er in this\n",
            "116 er in this -> r in this \n",
            "117 r in this  ->  in this w\n",
            "118  in this w -> in this wa\n",
            "119 in this wa -> n this way\n",
            "120 n this way ->  this way \n",
            "121  this way  -> this way t\n",
            "122 this way t -> his way th\n",
            "123 his way th -> is way tha\n",
            "124 is way tha -> s way that\n",
            "125 s way that ->  way that \n",
            "126  way that  -> way that t\n",
            "127 way that t -> ay that th\n",
            "128 ay that th -> y that the\n",
            "129 y that the ->  that the \n",
            "130  that the  -> that the b\n",
            "131 that the b -> hat the br\n",
            "132 hat the br -> at the bri\n",
            "133 at the bri -> t the bric\n",
            "134 t the bric ->  the brick\n",
            "135  the brick -> the brick \n",
            "136 the brick  -> he brick w\n",
            "137 he brick w -> e brick wa\n",
            "138 e brick wa ->  brick wal\n",
            "139  brick wal -> brick wall\n",
            "140 brick wall -> rick walls\n",
            "141 rick walls -> ick walls \n",
            "142 ick walls  -> ck walls a\n",
            "143 ck walls a -> k walls ar\n",
            "144 k walls ar ->  walls are\n",
            "145  walls are -> walls are \n",
            "146 walls are  -> alls are t\n",
            "147 alls are t -> lls are th\n",
            "148 lls are th -> ls are the\n",
            "149 ls are the -> s are ther\n",
            "150 s are ther ->  are there\n",
            "151  are there -> are there \n",
            "152 are there  -> re there t\n",
            "153 re there t -> e there to\n",
            "154 e there to ->  there to \n",
            "155  there to  -> there to s\n",
            "156 there to s -> here to sh\n",
            "157 here to sh -> ere to sho\n",
            "158 ere to sho -> re to show\n",
            "159 re to show -> e to show \n",
            "160 e to show  ->  to show u\n",
            "161  to show u -> to show us\n",
            "162 to show us -> o show us \n",
            "163 o show us  ->  show us h\n",
            "164  show us h -> show us ho\n",
            "165 show us ho -> how us how\n",
            "166 how us how -> ow us how \n",
            "167 ow us how  -> w us how b\n",
            "168 w us how b ->  us how ba\n",
            "169  us how ba -> us how bad\n",
            "170 us how bad -> s how badl\n",
            "171 s how badl ->  how badly\n",
            "172  how badly -> how badly \n",
            "173 how badly  -> ow badly w\n",
            "174 ow badly w -> w badly we\n",
            "175 w badly we ->  badly we \n",
            "176  badly we  -> badly we w\n",
            "177 badly we w -> adly we wa\n",
            "178 adly we wa -> dly we wan\n",
            "179 dly we wan -> ly we want\n",
            "180 ly we want -> y we want \n",
            "181 y we want  ->  we want t\n",
            "182  we want t -> we want th\n",
            "183 we want th -> e want thi\n",
            "184 e want thi ->  want thin\n",
            "185  want thin -> want thing\n",
            "186 want thing -> ant things\n",
            "187 ant things -> nt things.\n"
          ]
        }
      ]
    },
    {
      "cell_type": "code",
      "source": [
        "# 출력해서 한 칸씩 쉬프트된 것 확인하기!\n",
        "\n",
        "print(x_data[0])\n",
        "print(y_data[0])"
      ],
      "metadata": {
        "colab": {
          "base_uri": "https://localhost:8080/"
        },
        "id": "XVFlILiOixdc",
        "outputId": "0a10daf9-ea08-4cd4-e80f-550f6b958c0b"
      },
      "execution_count": 9,
      "outputs": [
        {
          "output_type": "stream",
          "name": "stdout",
          "text": [
            "[6, 2, 0, 21, 14, 17, 16, 13, 24, 24]\n",
            "[2, 0, 21, 14, 17, 16, 13, 24, 24, 8]\n"
          ]
        }
      ]
    },
    {
      "cell_type": "code",
      "source": [
        "##6. 입력 시퀀스에 대해 원핫인코딩 수행\n",
        "\n",
        "## 문제(4) : x_data를 원핫인코딩 > numpy의 eye를 쓸 수 있지 않을까?\n",
        "x_one_hot = np.eye(vocab_size)[x_data]\n",
        "\n",
        "##7. 입력 데이터, 레이블데이터 텐서로 변환\n",
        "\n",
        "## 문제(5) : x_one_hot과 y_data 텐서로 변환 : 둘 다 같은 형식의 텐서로 변환하면 될까?? (FloatTensor, LongTesor 중 맞는 것은?)\n",
        "X = torch.FloatTensor(x_one_hot)\n",
        "Y = torch.LongTensor(y_data)"
      ],
      "metadata": {
        "id": "5lPes1dvjlNb"
      },
      "execution_count": 10,
      "outputs": []
    },
    {
      "cell_type": "code",
      "source": [
        "##8. 크기 확인\n",
        "print('훈련 데이터의 크기 : {}'.format(X.shape))\n",
        "print('레이블의 크기 : {}'.format(Y.shape))"
      ],
      "metadata": {
        "colab": {
          "base_uri": "https://localhost:8080/"
        },
        "id": "lMZzZlaymMk8",
        "outputId": "a7a02b1b-d679-4d00-e10e-0ce8c9b51692"
      },
      "execution_count": 12,
      "outputs": [
        {
          "output_type": "stream",
          "name": "stdout",
          "text": [
            "훈련 데이터의 크기 : torch.Size([188, 10, 26])\n",
            "레이블의 크기 : torch.Size([188, 10])\n"
          ]
        }
      ]
    },
    {
      "cell_type": "code",
      "source": [
        "##9.원핫인코딩 결과 샘플 확인하기\n",
        "print(X[0])"
      ],
      "metadata": {
        "colab": {
          "base_uri": "https://localhost:8080/"
        },
        "id": "knx1DE_AmSFB",
        "outputId": "fcba8bda-10b4-4f12-8e9b-757cbdc906ba"
      },
      "execution_count": 11,
      "outputs": [
        {
          "output_type": "stream",
          "name": "stdout",
          "text": [
            "tensor([[0., 0., 0., 0., 0., 0., 1., 0., 0., 0., 0., 0., 0., 0., 0., 0., 0., 0.,\n",
            "         0., 0., 0., 0., 0., 0., 0., 0.],\n",
            "        [0., 0., 1., 0., 0., 0., 0., 0., 0., 0., 0., 0., 0., 0., 0., 0., 0., 0.,\n",
            "         0., 0., 0., 0., 0., 0., 0., 0.],\n",
            "        [1., 0., 0., 0., 0., 0., 0., 0., 0., 0., 0., 0., 0., 0., 0., 0., 0., 0.,\n",
            "         0., 0., 0., 0., 0., 0., 0., 0.],\n",
            "        [0., 0., 0., 0., 0., 0., 0., 0., 0., 0., 0., 0., 0., 0., 0., 0., 0., 0.,\n",
            "         0., 0., 0., 1., 0., 0., 0., 0.],\n",
            "        [0., 0., 0., 0., 0., 0., 0., 0., 0., 0., 0., 0., 0., 0., 1., 0., 0., 0.,\n",
            "         0., 0., 0., 0., 0., 0., 0., 0.],\n",
            "        [0., 0., 0., 0., 0., 0., 0., 0., 0., 0., 0., 0., 0., 0., 0., 0., 0., 1.,\n",
            "         0., 0., 0., 0., 0., 0., 0., 0.],\n",
            "        [0., 0., 0., 0., 0., 0., 0., 0., 0., 0., 0., 0., 0., 0., 0., 0., 1., 0.,\n",
            "         0., 0., 0., 0., 0., 0., 0., 0.],\n",
            "        [0., 0., 0., 0., 0., 0., 0., 0., 0., 0., 0., 0., 0., 1., 0., 0., 0., 0.,\n",
            "         0., 0., 0., 0., 0., 0., 0., 0.],\n",
            "        [0., 0., 0., 0., 0., 0., 0., 0., 0., 0., 0., 0., 0., 0., 0., 0., 0., 0.,\n",
            "         0., 0., 0., 0., 0., 0., 1., 0.],\n",
            "        [0., 0., 0., 0., 0., 0., 0., 0., 0., 0., 0., 0., 0., 0., 0., 0., 0., 0.,\n",
            "         0., 0., 0., 0., 0., 0., 1., 0.]])\n"
          ]
        }
      ]
    },
    {
      "cell_type": "code",
      "source": [
        "##10. 레이블 데이터 샘플 확인하기\n",
        "print(Y[0])"
      ],
      "metadata": {
        "colab": {
          "base_uri": "https://localhost:8080/"
        },
        "id": "6pWDiH1SmYT_",
        "outputId": "5f4fe06b-079e-41e0-d11f-38d59334d4ea"
      },
      "execution_count": 13,
      "outputs": [
        {
          "output_type": "stream",
          "name": "stdout",
          "text": [
            "tensor([ 2,  0, 21, 14, 17, 16, 13, 24, 24,  8])\n"
          ]
        }
      ]
    },
    {
      "cell_type": "code",
      "source": [
        "##11. RNN 모델 구현\n",
        "\n",
        "##문제(6) : 기본 pytorch 인자 넣기 연습 + forward 채우기\n",
        "### 조건 : rnn layer 2개 쌓기 + 마지막은 fc layer\n",
        "### batch_fisrt 설정 필요할까? (유튜브 강의 참고)\n",
        "\n",
        "class Net(torch.nn.Module):\n",
        "  def __init__(self, input_dim, hidden_dim, layers):\n",
        "    super(Net, self).__init__()\n",
        "    self.rnn = torch.nn.RNN(input_dim, hidden_dim, num_layers = layers, batch_first = True)\n",
        "    self.fc = torch.nn.Linear(hidden_dim, hidden_dim, bias = True)\n",
        "  \n",
        "  def forward(self, x):\n",
        "    x, state = self.rnn(x)\n",
        "    x = self.fc(x)\n",
        "    return x"
      ],
      "metadata": {
        "id": "-Ww22xu8mfUc"
      },
      "execution_count": 18,
      "outputs": []
    },
    {
      "cell_type": "code",
      "source": [
        "net = Net(vocab_size, hidden_size, 2)"
      ],
      "metadata": {
        "id": "No2GRvTpnLBl"
      },
      "execution_count": 19,
      "outputs": []
    },
    {
      "cell_type": "code",
      "source": [
        "##12. loss function\n",
        "criterion = torch.nn.CrossEntropyLoss()\n",
        "\n",
        "##13. optimizer\n",
        "optimizer = optim.Adam(net.parameters(), learning_rate)"
      ],
      "metadata": {
        "id": "9-zuJLeUnQLB"
      },
      "execution_count": 20,
      "outputs": []
    },
    {
      "cell_type": "code",
      "source": [
        "##14. 출력 크기 점검\n",
        "outputs = net(X)\n",
        "print(outputs.shape)"
      ],
      "metadata": {
        "colab": {
          "base_uri": "https://localhost:8080/"
        },
        "id": "z-RxRaiHnh9U",
        "outputId": "5ff4feef-d657-42ed-f1e9-662f24729226"
      },
      "execution_count": 21,
      "outputs": [
        {
          "output_type": "stream",
          "name": "stdout",
          "text": [
            "torch.Size([188, 10, 26])\n"
          ]
        }
      ]
    },
    {
      "cell_type": "code",
      "source": [
        "Y.shape"
      ],
      "metadata": {
        "colab": {
          "base_uri": "https://localhost:8080/"
        },
        "id": "n5SHjBpDSZ7M",
        "outputId": "0d960d16-a42f-4d67-ac4e-a310efb7db94"
      },
      "execution_count": 23,
      "outputs": [
        {
          "output_type": "execute_result",
          "data": {
            "text/plain": [
              "torch.Size([188, 10])"
            ]
          },
          "metadata": {},
          "execution_count": 23
        }
      ]
    },
    {
      "cell_type": "code",
      "source": [
        "##15. Training 시작\n",
        "\n",
        "for i in range(100):\n",
        "    optimizer.zero_grad()\n",
        "    outputs = net(X)\n",
        "    ##문제(7) : outputs, Y 형태 그대로 넣으면 안되죠. view 함수를 이용해 loss값을 계산해봅시다.\n",
        "    loss = criterion(outputs.view(-1, vocab_size), Y.view(-1))\n",
        "    loss.backward()\n",
        "    optimizer.step()\n",
        "\n",
        "    #16. 예측결과 확인\n",
        "    results = outputs.argmax(dim=2)\n",
        "    predict_str = \"\"\n",
        "    for j, result in enumerate(results):\n",
        "        if j == 0: # 처음에는 예측 결과를 전부 가져오기\n",
        "            predict_str += ''.join([world_set[t] for t in result])\n",
        "        else: # 그 다음에는 마지막 글자만 반복 추가\n",
        "            predict_str += world_set[result[-1]]\n",
        "\n",
        "    print(predict_str)"
      ],
      "metadata": {
        "colab": {
          "base_uri": "https://localhost:8080/"
        },
        "id": "uxxrxCd2nwoo",
        "outputId": "9797a28b-ce02-4619-8ca9-67b7abb5d46c"
      },
      "execution_count": 25,
      "outputs": [
        {
          "output_type": "stream",
          "name": "stdout",
          "text": [
            "hhfahhhhhhahfhhhhhhhhhfffhfhfhfhaahfhfhahhhfhhphhaahhfhhhhhhhhhafhhhfffhhhhhhahfhhahahhfhhhhhfhfhhphfhhahhhhfhhhfhhfhhhfhhahhahhhhhahhhhafhhhfffhhhhhhahfhhhhhhhhhhfhfhhphhhhfhphffhhahhhhphhhhhfhaah\n",
            "hhhhhhhhhhhhhhhhhhhhhhhhhhhhhhhhhhhhhhhhhhhhhhhhhhhhhhhhhhhhhhhhhhhhhhhhhhhhhhhhhhhhhhhhhhhhhhhhhhhhhhhhhhhhhhhhhhhhhhhhhhhhhhhhhhhhhhhhhhhhhhhhhhhhhhhhhhhhhhhhhhhhhhhhhhhhhhhhhhhhhhhhhhhhhhhhhhhhh\n",
            "hh hhhh hh  hhhhhhhhhhh hhhhhhhh hhhh hhhhhhhhhhhhhhhhhhhhhhhhhhhhhh hhhhh hh  hhhhhhhhhhhhhhhhhhh hhh hhhhhh hhhhhhhhhhhhhhhh hhhhhhhhhhhhhh hhhhh hh  hhhhhhhhhhhhhh h hhh hh hh hhhhhhhhhhhhhhhh h\n",
            "h                                                                                                                                                                                                    \n",
            "                                                                                                                                                                                                     \n",
            "                                                                                                                                                                                                     \n",
            "                                                                                                                                                                                                     \n",
            "                                                                                                                                                                                                     \n",
            "                                                                                                                                                                                                     \n",
            "                                                                                                                                                                                                     \n",
            "                                                                                                                                                                                                     \n",
            "     t         t     t                                   t              t            t     t          t    t             t    t   t              t         t     t       t  t   t     t  t    t      \n",
            "     t     t   t     t   t        t            t   t     t    t   t     t     t      t     t  t    t  t    t   t      t  t    t   t    t   t     t     t   t     t  t    t  t   t     t  t    t      \n",
            "     t     t   t     t            t            t   t     t    t   t     t     t      t     t  t    t  t    t   t      t  t    t   t    t   t     t     t   t     t  t    t  t   t     t  t    t      \n",
            "     t     t   t     t            t            t         t    t         t     t      t     t       t  t    t             t    t   t    t         t     t   t     t       t  t   t     t  t    t      \n",
            "     t     t   t     t            t            t         t    t         t     t      t     t  t    t  t    t             t  t t   t    t         t     t   t     t  t    t  t   t     t  t    t      \n",
            "     t     t   th    t            t            t      t  th   th        t     t      t     t  t    t  t    th         t  th t t   t    th        t     t   th    t  t  t t  t t t     t  t    th t   \n",
            "     t     t   the   t            t   t t      th  th t  th   th  th    t     t      t     th t    th th   th         t  th t th  th t th  th    t     t   the   th t  t t  t t th    t  t    th t   \n",
            "     t     th  the   th    t      t   tht  h   th  thet  thet the the   th    th     t     th t    th th   th         t  thet th  thet the the   th    th  the   th t  t th tht th    th t    thet   \n",
            "     th    the the   th   ht      th  tht  he  th  thet  thet the the   th    the  h t e   th t    th th   the        t  thet th  thet the the   th    the the   th t et th tht th    th t    thet   \n",
            "     th    the the   th   ht      th  tot  he  th  thet  thet the the   th    the  hethe   th t    th the  the        t  thet the thet the the   th    the the   th t et th tht the   th t    thet   \n",
            "     th    the the   th   ht      th  tot  he  th  thet  thet the the   th    the  aethe   th t    th the  the t         thet the thet the the   th    the the   th t et th tht the   th t    thet   \n",
            "     th    the the   th    t      th  tot  he  th  thet  thet the the   th    the    the   th t    th the  tht t         thet the thet the the   th    the the   th t et th tht tht   th t    thet   \n",
            "     thl   the the   th  t t  t   th  tot  he  th  thet  thet the the   th    the    the   th t    th the  tht t   e   a thet the thet the the   th    the the   th t et th tht tht   th th   thet   \n",
            "     thl   toe the   th  t t  t   ar  tot the  th  thet  thet the the   th    toe    the   th te   th th   tht t   e e a thet the thet the the   th    toe the   th taet th tht tht   th th   thet   \n",
            "     th    toe the e th  t t  t   are tot aoe  th  thet  thet the the   th    toe    the e th te   to th   thr t   e e a thet th  thet the the   th    toe the e th toet th tot tht   th th   thet   \n",
            "     th    are the e th  ttt  t   are tot aoe  th  thet  thet the the   th    are    the e th te   to th   thr t t e e a thet th  thet the the   th    are the e th toet th tot tat   th th   thet   \n",
            "     th    are the e th  att  t   are tot aot  tht thet  thet the the   th    are    the e th te   to ah   thr t t e e a thet th  thet the the   th    are the e th taet t  aot tat   to th   thet   \n",
            "     th    are the e th  atte t   are tat aat  tht thet  thet the the   th    are t  the e th ta   ar ar   thr t t e e a thet ta  thet the the   th    are the e th taet t  aot aat   to th   thet   \n",
            "r    th    are the e th  atre t   ate tat aat  tht thet  thet the the   th    are t  the e th th   at ar   tht tht e e a thet tat thet the the   th    are the e th taet ta aot aat   to th   thet   \n",
            "r  t thll  are the e th  atre t   ate tat aat  tht thet  thet the the   thll  are t  the e th th   at ar   tht tht e eta thet aal thet the the   thll  are the e th thet tttaot aat   to tht  thet   \n",
            "re t thll  are the e th  atre t t ate tat aut  tht thet  thet the the   thll  are t  the e th th   at ar   tht tht e eta thet aal thet the the   thll  are the e th thet tttaat aat   to thl  thet th\n",
            "re t thll  are the e tht atte t t ate tat autt tht thet  thet the tre h thll  are t  the e th th   at ar   tht tothe ett thet aal thet the tre h thll  are the e th thet attaat aat   t  thl  thet th\n",
            "re k thll  are the e tht atte t t are tat autt tht thet  thet the tre h thll  are t  the e th th   tt ar   tht tothe ett then tal thet the tre h thll  are the e th thet tttaot aat   t  thll thet th\n",
            "renk thlls are the e tot atte t t are tat aatt tht thet  thet the tre k thlls are t  there th th   tt ar h uut tothe ett then tal thet the tre k thlls are the e th thet ts aot aat   t  toll then th\n",
            "renk talls are the e tot atte t t are tat autt tht thet  thet the trelk talls are tt there th t    tt ar h uut tonhe ert then tal thet the trelk talls are the e th thet ts aot aat   t  toll then th\n",
            "renk talls are the e tot arte t t are sat burt tht thet  thet the trelk talls are tt there th t    tt ar h uut tonhe ert then tal thet the trelk talls are the e th thet us aot aatl  te wall then th\n",
            "renk talls are the e tor arwe t t are sat burt tht thet  thet the trelk talls are tt there th t  neut arth aut tanhe ers then tal thet the trelk talls are the e th thew us aaw aatl  t  wall then th\n",
            "renk talls are the e tor atwe t t arl sat burt tht thet  thet the trelk talls are tt there th t  neus arth aut tanhe ers then tal thet the trelk talls are the e th thew us aaw aatll w  wall then th\n",
            "renk talls are there tor atwe t t arn saw burt tht thet  thet the treck walls are tt there th t  n us arth aut tanhe ers then tal thet the treck walls are there th taew us aaw batll w  wall then th\n",
            "renk walls are there tor atte t t arn saw burt tht thet  thet the treck walls are kt there th t  n us aut  aut tatherers then tal thet the treck walls are there th taew us aaw batll w  wanl then th\n",
            "renk walls are there tor aste t t arn saw bust tht thet  thet the treck walls are kt there th t  n us aut  aut tatherers then tal whet the treck walls are there th taew us aaw batll w  wanl then th\n",
            "renk walls are there tor aswe t t arn saw bust tht then  thet the treck walls are tt there th t  n us aut  aut tatherers then tal whet the treck walls are there th thew us aow banll we wanl thenkth\n",
            "renk walls are there tor asre t t arn saw bust tht then  thet the treck walls are tt there th t  r us aut  aut tatherers then tal whet the treck walls are there th thow us aow banll we wanl thenkrh\n",
            "reck walls are there tor asre t t art sau bust tht then  thet the treck walls are tt there th t    us aut  aut tatherers then tal whet the treck walls are there th thow us aow banll we tanl thenkrh\n",
            "reck walls are there tor asre t t ant sau bust tht then  thet the treck walls are tt there th t    us aut  aut tatherers then tal whet the treck walls are there th thow us aow bonll we tanl thenkrh\n",
            "reck walls are there tor asre t n ant sou bust tat then  thet the treck walls are tt there th t    us aut  but tatherers then tal whet the treck walls are there th thow us aow bonll we tanl thenkrh\n",
            "reck walls are there tor anre t n ant sou bust tat then  thet the breck walls are tt there th t    us aut  but tatherern then wal whet the breck walls are there th thow us aow bonll we tanl thenkrh\n",
            "reck walls are there tor anre t n ant sou bust tat then  thet the brick walls are kt there th t    us auth but tatherenn then wal whet the brick walls are there th thow us aow bonll we tanl thenkth\n",
            "reck walls are there tor anre t n ant sou bust tot then  thet the brick walls are tt there th t    us auth but tatherenn then wal whet the brick walls are there th thow us how banll we wall thenkth\n",
            "reck walls are there tor anre t n ant sou bust tot then  thet the brick walls are tt there th teer us auth but tatherenn then wal thet the brick walls are there th thow us how banll we wall thenkth\n",
            "reck walls are there tor anre ton ant sou bust tot thenk thet the brick walls are tt there th teer us auth but tatherenn then wal thet the brick walls are there th thow us how badll we wals thenkth\n",
            "reck walls are there tor anreaton ant you bust tot thenk thet the brick walls are tt there th tee  us auth but ratherenn thin wal thet the brick walls are there th thow us how badll we wals thenkth\n",
            "rick walls are there tor anreaton ant you bust not thenk thet the brick walls are tt there th tee  us auth but ratherenn thin wal thet the brick walls are there th thow us how badll ue wals thenkth\n",
            "rick walls are there tor anreaton and you bust not thenk thet the brick walls are tt there th tee  us auth but ratherenn thin wal thet the brick walls are there th thow us how uadll ue wals thenkth\n",
            "rick walls are there tor anreaton and you bust not thenk thet the brick walls are tt there th tee  us auth but ratherenn thin wal thet the brick walls are there th thow us how uadll ue wals thenkth\n",
            "rick walls are there tor anreaton and you bust not think thet the brick walls are tt there th teep us auth but ratherenn thin wal thet the brick walls are there th thow us how uadll ue wals thenkth\n",
            "rick walls are there tor anreaton and you bust not think thet the brick walls are tt there th teep us auth but ratherern thin wal thet the brick walls are there th thow us how uadll ue walt thenkth\n",
            "rick walls are there tor anreaton and you bust not think thet the brick walls are tt there to teep us auth but rather rn thin wal thet the brick walls are there to thow us how uadll we walt thenkth\n",
            "rick walls are there tor anreaton and you bust not think thet the brick walls are tt there to teep us auth but rather rn thin wal thet the brick walls are there to thow us how uadly we want thenkth\n",
            "rick walls are there tor a reaton and you bust not think thet the brick walls are tt there to teep us auth but rather rn this wal thet the brick walls are there to thow us how uadly we want thenkth\n",
            "rick walls are there tor a reaton and you bust not think thet the brick walls are tt there to teep us auth but rather in this wal that the brick walls are there to thow us how uadly we want thenkth\n",
            "rick walls are there tor a reaton and you bust not think thet the brick walls are tt there to teep us outh but rather in this wal that the brick walls are there to thow us how uadly we want thenkth\n",
            "rick walls are there tor a reaton and you must not think thet the brick walls are 't there to teep us outh but rather in this wal that the brick walls are there to thow us how badly we want thenkth\n",
            "rick walls are there tor a reaton and you must not think thet the brick walls are 't there to teep us outh but rather in this wal that the brick walls are there to thow us how badly we want thenkth\n",
            "rick walls are there tor a reaton and you must not think thet the brick walls are 't there to keep us outh but rather in this wal that the brick walls are there to khow us how badly we want thenkth\n",
            "rick walls are there tor a reaton and you must not think thet the brick walls are 't there to keep us outh but rather in this wal that the brick walls are there to khow us how uadly we want thenktt\n",
            "rick walls are there tor a reaton and you must not think thet the brick walls are 't there to teep us outh but rather in this wal that the brick walls are there to thow us how uadly we want thenktt\n",
            "rick walls are there tor a reaton and you must not think thet the brick walls are 't there to teep us outh but rather in this wal that the brick walls are there to thow us how uadly we want thenktt\n",
            "rick walls are there tor a reaton and you must not think thet the brick walls are 't there to teep us outh but rather in this wal that the brick walls are there to thow us how uadly we want thenktt\n",
            "rick walls are there tor a reaton and you must not think thet the brick walls are 't there to teep us outh but rather in this wal that the brick walls are there to thow us how uadly we want thenktt\n",
            "rick walls are there tor a reaton and you must not think thet the brick walls are 't there to teep us outh but rather in this way that the brick walls are there to thow us how badly we want thenktt\n",
            "rick walls are there tor a reaton and you must not think that the brick walls are 't there to teep us outh but rather in this way that the brick walls are there to thow us how badly we want thenktt\n",
            "rick walls are there tor a reason and you must not think that the brick walls are 't there to keep us out, but rather in this way that the brick walls are there to khow us how badly we want thenktt\n",
            "rick walls are there tor a reason and you must not think that the brick walls are 't there to keep us out, but rather in this way that the brick walls are there to khow us how badly we want thenktt\n",
            "rick walls are there tor a reason and you must not think that the brick walls are 't there to keep us out, but rather in this way that the brick walls are there to khow us how badly we want thenktt\n",
            "rick walls are there tor a reason and you must not think that the brick walls are 't there to keep us out, but rather in this way that the brick walls are there to khow us how badly we want thenktt\n",
            "rick walls are there tor a reason and you must not think that the brick walls are 't there to keep us out, but rather in this way that the brick walls are there to khow us how badly we want thinktt\n",
            "rick walls are there tor a reason and you must not think that the brick walls are 't there to keep us out, but rather in this way that the brick walls are there to khow us how badly we want thinktt\n",
            "rick walls are there tor a reason and you must not think that the brick walls are 't there to keep us out, but rather in this way that the brick walls are there to khow us how badly we want thinktt\n",
            "rick walls are there tor a reason and you must not think that the brick walls are 't there to keep us out, but rather in this way that the brick walls are there to khow us how badly we want thinktt\n",
            "rick walls are there tor a reason and you must not think that the brick walls are 't there to keep us out, but rather in this way that the brick walls are there to khow us how badly we want thinktt\n",
            "rick walls are there tor a reason and you must not think that the brick walls are 't there to keep us out, but rather in this way that the brick walls are there to khow us how badly we want thinktt\n",
            "rick walls are there tor a reason and you must not think that the brick walls are 't there to keep us out, but rather in this way that the brick walls are there to khow us how badly we want thinktt\n",
            "rick walls are there tor a reason and you must not think that the brick walls are 't there to keep us out, but rather in this way that the brick walls are there to khow us how badly we want thinksh\n",
            "rick walls are there tor a reason and you must not think that the brick walls are 't there to keep us out, but rather in this way that the brick walls are there to khow us how badly we want thinksh\n",
            "rick walls are there tor a reason and you must not think that the brick walls are 't there to keep us out, but rather in this way that the brick walls are there to khow us how badly we want thinksm\n",
            "rick walls are there tor a reason and you must not think that the brick walls are 't there to keep us out, but rather in this way that the brick walls are there to khow us how badly we want thinksm\n",
            "rick walls are there tor a reason and you must not think that the brick walls are 't there to keep us out, but rather in this way that the brick walls are there to khow us how badly we want thinksm\n",
            "rick walls are there tor a reason and you must not think that the brick walls are 't there to keep us out, but rather in this way that the brick walls are there to khow us how badly we want thingsm\n",
            "rick walls are there tor a reason and you must not think that the brick walls are 't there to keep us out, but rather in this way that the brick walls are there to khow us how badly we want thingsm\n",
            "rick walls are there tor a reason and you must not think that the brick walls are 't there to keep us out, but rather in this way that the brick walls are there to khow us how badly we want thingsm\n",
            "rick walls are there tor a reason and you must not think that the brick walls are 't there to keep us out, but rather in this way that the brick walls are there to khow us how badly we want thingsm\n",
            "rick walls are there tor a reason and you must not think that the brick walls are 't there to keep us out, but rather in this way that the brick walls are there to khow us how badly we want thingsm\n",
            "rick walls are there tor a reason and you must not think that the brick walls are 't there to keep us out, but rather in this way that the brick walls are there to khow us how badly we want thingsm\n",
            "rick walls are there tor a reason and you must not think that the brick walls are 't there to keep us out, but rather in this way that the brick walls are there to khow us how badly we want thingsm\n",
            "rick walls are there tor a reason and you must not think that the brick walls are 't there to keep us out, but rather in this way that the brick walls are there to khow us how badly we want thingsm\n",
            "rick walls are there tor a reason and you must not think that the brick walls are 't there to keep us out, but rather in this way that the brick walls are there to khow us how badly we want thingsm\n",
            "rick walls are there tor a reason and you must not think that the brick walls are 't there to keep us out, but rather in this way that the brick walls are there to khow us how badly we want thingsm\n",
            "rick walls are there tor a reason and you must not think that the brick walls are 't there to keep us out, but rather in this way that the brick walls are there to khow us how badly we want thingsm\n"
          ]
        }
      ]
    },
    {
      "cell_type": "code",
      "source": [
        "predict_str"
      ],
      "metadata": {
        "colab": {
          "base_uri": "https://localhost:8080/",
          "height": 54
        },
        "id": "8qUkbiw2t0Il",
        "outputId": "84da053d-729e-4205-e480-636a8e1c6a5b"
      },
      "execution_count": 26,
      "outputs": [
        {
          "output_type": "execute_result",
          "data": {
            "text/plain": [
              "\"rick walls are there tor a reason and you must not think that the brick walls are 't there to keep us out, but rather in this way that the brick walls are there to khow us how badly we want thingsm\""
            ],
            "application/vnd.google.colaboratory.intrinsic+json": {
              "type": "string"
            }
          },
          "metadata": {},
          "execution_count": 26
        }
      ]
    },
    {
      "cell_type": "markdown",
      "source": [
        "결과가 어떤가요?? 마지막 에폭의 문장이 그럴싸한가요?"
      ],
      "metadata": {
        "id": "PkIzDTdyvTHz"
      }
    },
    {
      "cell_type": "markdown",
      "source": [
        "## Task2\n",
        "\n",
        "위 sentence는 제가 임의로 생성한 문장들입니다.\n",
        "\n",
        "마음에 드시는 문구 가져오셔서 문장이 어떻게 생성되는지 확인해보세요! \n",
        "\n",
        "영어가 아닌 한국어로 시도해보는 것도 좋겠죠? \n",
        "\n",
        "수정이 많이 필요(토큰화 등) 할 수 있으나 한번 시도해보시는 것 권장드립니다 :)\n",
        "\n",
        "위 베이스라인은 어디든 수정하셔도 좋고 조금 더 자연스러운 문장이 나올 수 있게 다양한 시도를 해보세요!\n",
        "\n",
        "조건 : 문장 3개 이상, 연결성이 있는 문장을 \" \" 으로 구분하여 ( )에 넣기"
      ],
      "metadata": {
        "id": "kN1zL8Dpvane"
      }
    },
    {
      "cell_type": "code",
      "source": [
        "# 다이너마이트 가사(I-I-I'm이나 morn'과 같은 단어들때문에 학습이 잘안되는 것같아 약간 수정!\n",
        "\n",
        "sentence = (\"Cause I'm in the stars tonight So watch me bring the fire and set the night alight\"\n",
        "            \"Shoes on, get up in the morning Cup of milk, let's rock and roll\"\n",
        "            \"King Kong, kick the drum, rolling on like a Rolling Stone\")"
      ],
      "metadata": {
        "id": "IKp-lKrjvXR9"
      },
      "execution_count": 224,
      "outputs": []
    },
    {
      "cell_type": "code",
      "source": [
        "sentence_word = sentence.split() # 1. split으로만 학습 -> 2. split하고 띄어쓰기 넣어주기\n",
        "\n",
        "n=0\n",
        "for i in sentence_word:\n",
        "  sentence_word[n] = i + ' '\n",
        "  n += 1\n",
        "\n",
        "sentence_word"
      ],
      "metadata": {
        "colab": {
          "base_uri": "https://localhost:8080/"
        },
        "id": "wbOqWpnRjcxX",
        "outputId": "73987ea5-e734-4535-e67a-49f603d93baa"
      },
      "execution_count": 279,
      "outputs": [
        {
          "output_type": "execute_result",
          "data": {
            "text/plain": [
              "['Cause ',\n",
              " \"I'm \",\n",
              " 'in ',\n",
              " 'the ',\n",
              " 'stars ',\n",
              " 'tonight ',\n",
              " 'So ',\n",
              " 'watch ',\n",
              " 'me ',\n",
              " 'bring ',\n",
              " 'the ',\n",
              " 'fire ',\n",
              " 'and ',\n",
              " 'set ',\n",
              " 'the ',\n",
              " 'night ',\n",
              " 'alightShoes ',\n",
              " 'on, ',\n",
              " 'get ',\n",
              " 'up ',\n",
              " 'in ',\n",
              " 'the ',\n",
              " 'morning ',\n",
              " 'Cup ',\n",
              " 'of ',\n",
              " 'milk, ',\n",
              " \"let's \",\n",
              " 'rock ',\n",
              " 'and ',\n",
              " 'rollKing ',\n",
              " 'Kong, ',\n",
              " 'kick ',\n",
              " 'the ',\n",
              " 'drum, ',\n",
              " 'rolling ',\n",
              " 'on ',\n",
              " 'like ',\n",
              " 'a ',\n",
              " 'Rolling ',\n",
              " 'Stone ']"
            ]
          },
          "metadata": {},
          "execution_count": 279
        }
      ]
    },
    {
      "cell_type": "code",
      "source": [
        "len(sentence_word)"
      ],
      "metadata": {
        "colab": {
          "base_uri": "https://localhost:8080/"
        },
        "id": "zRrdLsGqVsTh",
        "outputId": "b7c8d725-1cb4-474e-fee6-feb18db2760c"
      },
      "execution_count": 280,
      "outputs": [
        {
          "output_type": "execute_result",
          "data": {
            "text/plain": [
              "40"
            ]
          },
          "metadata": {},
          "execution_count": 280
        }
      ]
    },
    {
      "cell_type": "code",
      "source": [
        "world_set = list(set(sentence_word))\n",
        "\n",
        "vocab = {word:num for num, word in enumerate(world_set)}\n",
        "\n",
        "# 1. 문자들 인코딩, 2. 단어별 인코딩 3. 단어 split + 띄어쓰기 첨가가"
      ],
      "metadata": {
        "id": "5f549OW0S6I9"
      },
      "execution_count": 288,
      "outputs": []
    },
    {
      "cell_type": "code",
      "source": [
        "print(vocab)"
      ],
      "metadata": {
        "colab": {
          "base_uri": "https://localhost:8080/"
        },
        "id": "PmzoO8wUS6Gl",
        "outputId": "12e48668-9013-433f-f754-c2ecd460d878"
      },
      "execution_count": 289,
      "outputs": [
        {
          "output_type": "stream",
          "name": "stdout",
          "text": [
            "{'Kong, ': 0, 'tonight ': 1, 'set ': 2, 'like ': 3, 'Rolling ': 4, 'and ': 5, 'stars ': 6, 'milk, ': 7, 'on ': 8, 'night ': 9, 'in ': 10, 'me ': 11, \"let's \": 12, 'alightShoes ': 13, 'on, ': 14, 'So ': 15, 'bring ': 16, 'Stone ': 17, 'rollKing ': 18, 'morning ': 19, 'of ': 20, 'Cause ': 21, 'fire ': 22, 'rolling ': 23, 'get ': 24, 'rock ': 25, \"I'm \": 26, 'kick ': 27, 'drum, ': 28, 'watch ': 29, 'up ': 30, 'the ': 31, 'a ': 32, 'Cup ': 33}\n"
          ]
        }
      ]
    },
    {
      "cell_type": "code",
      "source": [
        "vocab_size = len(vocab)\n",
        "print(vocab_size)"
      ],
      "metadata": {
        "colab": {
          "base_uri": "https://localhost:8080/"
        },
        "id": "2r1dkLJyS6EU",
        "outputId": "7c7ba475-47e6-4b7c-b72d-9d1807eb20ea"
      },
      "execution_count": 290,
      "outputs": [
        {
          "output_type": "stream",
          "name": "stdout",
          "text": [
            "34\n"
          ]
        }
      ]
    },
    {
      "cell_type": "code",
      "source": [
        "hidden_size = vocab_size\n",
        "sequence_length = 3\n",
        "learning_rate = 0.01"
      ],
      "metadata": {
        "id": "Rc6PVtPcS6CR"
      },
      "execution_count": 291,
      "outputs": []
    },
    {
      "cell_type": "code",
      "source": [
        "x_data = []\n",
        "y_data = []\n",
        "\n",
        "for i in range(0, len(sentence_word) - sequence_length):\n",
        "  x_str = sentence_word[i : i + sequence_length]\n",
        "  y_str = sentence_word[i+1 : i + sequence_length + 1]\n",
        "  print(i, x_str, '->', y_str)\n",
        "\n",
        "  x_data.append([vocab[c] for c in x_str])\n",
        "  y_data.append([vocab[d] for d in y_str])"
      ],
      "metadata": {
        "colab": {
          "base_uri": "https://localhost:8080/"
        },
        "id": "zdtGAOicS5_l",
        "outputId": "8305aa42-b4b6-4456-bd8a-890942373776"
      },
      "execution_count": 292,
      "outputs": [
        {
          "output_type": "stream",
          "name": "stdout",
          "text": [
            "0 ['Cause ', \"I'm \", 'in '] -> [\"I'm \", 'in ', 'the ']\n",
            "1 [\"I'm \", 'in ', 'the '] -> ['in ', 'the ', 'stars ']\n",
            "2 ['in ', 'the ', 'stars '] -> ['the ', 'stars ', 'tonight ']\n",
            "3 ['the ', 'stars ', 'tonight '] -> ['stars ', 'tonight ', 'So ']\n",
            "4 ['stars ', 'tonight ', 'So '] -> ['tonight ', 'So ', 'watch ']\n",
            "5 ['tonight ', 'So ', 'watch '] -> ['So ', 'watch ', 'me ']\n",
            "6 ['So ', 'watch ', 'me '] -> ['watch ', 'me ', 'bring ']\n",
            "7 ['watch ', 'me ', 'bring '] -> ['me ', 'bring ', 'the ']\n",
            "8 ['me ', 'bring ', 'the '] -> ['bring ', 'the ', 'fire ']\n",
            "9 ['bring ', 'the ', 'fire '] -> ['the ', 'fire ', 'and ']\n",
            "10 ['the ', 'fire ', 'and '] -> ['fire ', 'and ', 'set ']\n",
            "11 ['fire ', 'and ', 'set '] -> ['and ', 'set ', 'the ']\n",
            "12 ['and ', 'set ', 'the '] -> ['set ', 'the ', 'night ']\n",
            "13 ['set ', 'the ', 'night '] -> ['the ', 'night ', 'alightShoes ']\n",
            "14 ['the ', 'night ', 'alightShoes '] -> ['night ', 'alightShoes ', 'on, ']\n",
            "15 ['night ', 'alightShoes ', 'on, '] -> ['alightShoes ', 'on, ', 'get ']\n",
            "16 ['alightShoes ', 'on, ', 'get '] -> ['on, ', 'get ', 'up ']\n",
            "17 ['on, ', 'get ', 'up '] -> ['get ', 'up ', 'in ']\n",
            "18 ['get ', 'up ', 'in '] -> ['up ', 'in ', 'the ']\n",
            "19 ['up ', 'in ', 'the '] -> ['in ', 'the ', 'morning ']\n",
            "20 ['in ', 'the ', 'morning '] -> ['the ', 'morning ', 'Cup ']\n",
            "21 ['the ', 'morning ', 'Cup '] -> ['morning ', 'Cup ', 'of ']\n",
            "22 ['morning ', 'Cup ', 'of '] -> ['Cup ', 'of ', 'milk, ']\n",
            "23 ['Cup ', 'of ', 'milk, '] -> ['of ', 'milk, ', \"let's \"]\n",
            "24 ['of ', 'milk, ', \"let's \"] -> ['milk, ', \"let's \", 'rock ']\n",
            "25 ['milk, ', \"let's \", 'rock '] -> [\"let's \", 'rock ', 'and ']\n",
            "26 [\"let's \", 'rock ', 'and '] -> ['rock ', 'and ', 'rollKing ']\n",
            "27 ['rock ', 'and ', 'rollKing '] -> ['and ', 'rollKing ', 'Kong, ']\n",
            "28 ['and ', 'rollKing ', 'Kong, '] -> ['rollKing ', 'Kong, ', 'kick ']\n",
            "29 ['rollKing ', 'Kong, ', 'kick '] -> ['Kong, ', 'kick ', 'the ']\n",
            "30 ['Kong, ', 'kick ', 'the '] -> ['kick ', 'the ', 'drum, ']\n",
            "31 ['kick ', 'the ', 'drum, '] -> ['the ', 'drum, ', 'rolling ']\n",
            "32 ['the ', 'drum, ', 'rolling '] -> ['drum, ', 'rolling ', 'on ']\n",
            "33 ['drum, ', 'rolling ', 'on '] -> ['rolling ', 'on ', 'like ']\n",
            "34 ['rolling ', 'on ', 'like '] -> ['on ', 'like ', 'a ']\n",
            "35 ['on ', 'like ', 'a '] -> ['like ', 'a ', 'Rolling ']\n",
            "36 ['like ', 'a ', 'Rolling '] -> ['a ', 'Rolling ', 'Stone ']\n"
          ]
        }
      ]
    },
    {
      "cell_type": "code",
      "source": [
        "print(x_data[0])\n",
        "print(y_data[0])"
      ],
      "metadata": {
        "colab": {
          "base_uri": "https://localhost:8080/"
        },
        "id": "UHTe7-2tVfQi",
        "outputId": "2f8500c0-bb57-4730-d2b1-35c1100b1e87"
      },
      "execution_count": 293,
      "outputs": [
        {
          "output_type": "stream",
          "name": "stdout",
          "text": [
            "[21, 26, 10]\n",
            "[26, 10, 31]\n"
          ]
        }
      ]
    },
    {
      "cell_type": "code",
      "source": [
        "x_one_hot = np.eye(vocab_size)[x_data]\n",
        "\n",
        "X = torch.FloatTensor(x_one_hot)\n",
        "Y = torch.LongTensor(y_data)"
      ],
      "metadata": {
        "id": "Fn5xvqWwZs5B"
      },
      "execution_count": 294,
      "outputs": []
    },
    {
      "cell_type": "code",
      "source": [
        "print(X.shape)\n",
        "print(Y.shape)"
      ],
      "metadata": {
        "colab": {
          "base_uri": "https://localhost:8080/"
        },
        "id": "R2lsO6qxZ5fM",
        "outputId": "b8bcc4b7-da88-4f9f-9a54-d60c2ae76f67"
      },
      "execution_count": 295,
      "outputs": [
        {
          "output_type": "stream",
          "name": "stdout",
          "text": [
            "torch.Size([37, 3, 34])\n",
            "torch.Size([37, 3])\n"
          ]
        }
      ]
    },
    {
      "cell_type": "code",
      "source": [
        "class Net(torch.nn.Module):\n",
        "  def __init__(self, input_dim, hidden_dim, layers):\n",
        "    super(Net, self).__init__()\n",
        "    self.rnn = torch.nn.RNN(input_dim, hidden_dim, num_layers = layers, batch_first = True)\n",
        "    self.fc = torch.nn.Linear(hidden_dim, hidden_dim, bias = True)\n",
        "  \n",
        "  def forward(self, x):\n",
        "    x, state = self.rnn(x)\n",
        "    x = self.fc(x)\n",
        "    return x"
      ],
      "metadata": {
        "id": "I44lUIV2ZoNT"
      },
      "execution_count": 296,
      "outputs": []
    },
    {
      "cell_type": "code",
      "source": [
        "net = Net(vocab_size, hidden_size, 2)"
      ],
      "metadata": {
        "id": "n7Q5oSuJZoK8"
      },
      "execution_count": 297,
      "outputs": []
    },
    {
      "cell_type": "code",
      "source": [
        "outputs = net(X)\n",
        "print(outputs.shape)"
      ],
      "metadata": {
        "colab": {
          "base_uri": "https://localhost:8080/"
        },
        "id": "hGHUDJsmZooE",
        "outputId": "e542f051-6fb2-4781-d70f-20f47a78b5f0"
      },
      "execution_count": 298,
      "outputs": [
        {
          "output_type": "stream",
          "name": "stdout",
          "text": [
            "torch.Size([37, 3, 34])\n"
          ]
        }
      ]
    },
    {
      "cell_type": "code",
      "source": [
        "criterion = torch.nn.CrossEntropyLoss()\n",
        "\n",
        "optimizer = optim.Adam(net.parameters(), learning_rate)"
      ],
      "metadata": {
        "id": "LVPVRs5hVfOU"
      },
      "execution_count": 299,
      "outputs": []
    },
    {
      "cell_type": "code",
      "source": [
        "for i in range(100):\n",
        "    optimizer.zero_grad()\n",
        "    outputs = net(X)\n",
        "    loss = criterion(outputs.view(-1, vocab_size), Y.view(-1))\n",
        "    loss.backward()\n",
        "    optimizer.step()\n",
        "\n",
        "    results = outputs.argmax(dim=2)\n",
        "    predict_str = \"\"\n",
        "    for j, result in enumerate(results):\n",
        "        if j == 0: \n",
        "            predict_str += ''.join([world_set[t] for t in result])\n",
        "        else: \n",
        "            predict_str += world_set[result[-1]]\n",
        "\n",
        "    print(predict_str)"
      ],
      "metadata": {
        "colab": {
          "base_uri": "https://localhost:8080/"
        },
        "id": "ICsEN6Xnck2H",
        "outputId": "31593725-a4bc-444a-89dd-d822963e036d"
      },
      "execution_count": 300,
      "outputs": [
        {
          "output_type": "stream",
          "name": "stdout",
          "text": [
            "get bring get get set get get get bring get set get get get set get bring set bring set get get set get set bring set get bring get get set get get get set get get bring \n",
            "the the the the the the the the the the the the get the the the the the the the the the the watch the the the the the the the the the the the the the the the \n",
            "the the the the the the the the the the the the the the the the the the the the the the the the the the the the the the the the the the the the the the the \n",
            "the the the the the the the the the the the the the the the the the the the the the the the the the the the the the the the the the the the the the the the \n",
            "the the the the the the the the the the the the the the the the the the the the the the the the the the the the the the the the the the the the the the the \n",
            "the the the the the the the the the the the the the the the the the the the the the the the the the the the the the the the the the the the the the the the \n",
            "the the the the the the the the the the the the the the the the the the the the the the the the the the the the the the the the the the the the the the the \n",
            "the the the the the the the the the the the the the the the the the the the the the the the the the the the the the the the the the the the the the the the \n",
            "the the the the tonight and the the the the fire alightShoes the the night alightShoes on, the the the the the in of and the on and the the kick the drum, rolling like like the the the \n",
            "the in the morning tonight So the the bring the fire alightShoes set the night alightShoes on, get up the the morning Cup of milk, the rock and rollKing Kong, kick the drum, rolling like like the in the \n",
            "the in the morning tonight So kick the bring the fire alightShoes set the night alightShoes on, get up in the morning Cup of milk, the rock and rollKing Kong, kick the drum, rolling like like a Rolling the \n",
            "the in the morning tonight So kick me bring the fire tonight set the fire alightShoes on, get up in the morning Cup of milk, the rock and rollKing Kong, kick the drum, rolling of like get Rolling the \n",
            "the in the morning tonight So kick me bring the fire tonight set the fire alightShoes on, get up in the morning Cup of milk, the rock and rollKing Kong, kick the drum, rolling of like get Rolling the \n",
            "the in the morning tonight So kick me bring the fire tonight set the fire alightShoes on, get up in the morning Cup of milk, the rock and rollKing Kong, kick the drum, rolling of like get Rolling get \n",
            "a in the morning tonight So watch me bring the fire alightShoes set the fire alightShoes on, get up in the morning Cup of milk, the rock and rollKing Kong, kick the drum, rolling of like a Rolling get \n",
            "a in the morning tonight So watch me bring the fire alightShoes set the fire alightShoes on, get up in the morning Cup of milk, the rock and rollKing Kong, kick the drum, rolling on like a Rolling get \n",
            "a in the morning tonight So watch me bring the fire alightShoes set the fire alightShoes on, get up in the morning Cup of milk, the rock and rollKing Kong, kick the drum, rolling on like a Rolling Stone \n",
            "a in the morning tonight So watch me bring the fire alightShoes set the fire alightShoes on, get up in the morning Cup of milk, the rock and rollKing Kong, kick the drum, rolling on like a Rolling Stone \n",
            "a in the morning tonight So watch me bring the fire alightShoes set the night alightShoes on, get up in the morning Cup of milk, let's rock and rollKing Kong, kick the drum, rolling on like a Rolling Stone \n",
            "a in the morning tonight So watch me bring the fire alightShoes set the night alightShoes on, get up in the morning Cup of milk, let's rock and rollKing Kong, kick the drum, rolling on like a Rolling Stone \n",
            "a in the morning tonight So watch me bring the fire and set the night alightShoes on, get up in the morning Cup of milk, let's rock and rollKing Kong, kick the drum, rolling on like a Rolling Stone \n",
            "a in the morning tonight So watch me bring the fire and set the night alightShoes on, get up in the morning Cup of milk, let's rock and rollKing Kong, kick the drum, rolling on like a Rolling Stone \n",
            "a in the stars tonight So watch me bring the fire and set the night alightShoes on, get up in the morning Cup of milk, let's rock and rollKing Kong, kick the drum, rolling on like a Rolling Stone \n",
            "a in the stars tonight So watch me bring the fire and set the night alightShoes on, get up in the morning Cup of milk, let's rock and rollKing Kong, kick the drum, rolling on like a Rolling Stone \n",
            "a in the stars tonight So watch me bring the fire and set the night alightShoes on, get up in the morning Cup of milk, let's rock and rollKing Kong, kick the drum, rolling on like a Rolling Stone \n",
            "a in the stars tonight So watch me bring the fire and set the night alightShoes on, get up in the morning Cup of milk, let's rock and rollKing Kong, kick the drum, rolling on like a Rolling Stone \n",
            "a in the stars tonight So watch me bring the fire and set the night alightShoes on, get up in the morning Cup of milk, let's rock and rollKing Kong, kick the drum, rolling on like a Rolling Stone \n",
            "I'm in the stars tonight So watch me bring the fire and set the night alightShoes on, get up in the morning Cup of milk, let's rock and rollKing Kong, kick the drum, rolling on like a Rolling Stone \n",
            "I'm in the stars tonight So watch me bring the fire and set the night alightShoes on, get up in the morning Cup of milk, let's rock and rollKing Kong, kick the drum, rolling on like a Rolling Stone \n",
            "I'm in the stars tonight So watch me bring the fire and set the night alightShoes on, get up in the morning Cup of milk, let's rock and rollKing Kong, kick the drum, rolling on like a Rolling Stone \n",
            "I'm in the morning tonight So watch me bring the fire and set the night alightShoes on, get up in the morning Cup of milk, let's rock and rollKing Kong, kick the drum, rolling on like a Rolling Stone \n",
            "I'm in the stars tonight So watch me bring the fire and set the night alightShoes on, get up in the morning Cup of milk, let's rock and rollKing Kong, kick the drum, rolling on like a Rolling Stone \n",
            "I'm in the stars tonight So watch me bring the fire and set the night alightShoes on, get up in the morning Cup of milk, let's rock and rollKing Kong, kick the drum, rolling on like a Rolling Stone \n",
            "I'm in the stars tonight So watch me bring the fire and set the night alightShoes on, get up in the morning Cup of milk, let's rock and rollKing Kong, kick the drum, rolling on like a Rolling Stone \n",
            "I'm in the stars tonight So watch me bring the fire and set the night alightShoes on, get up in the morning Cup of milk, let's rock and rollKing Kong, kick the drum, rolling on like a Rolling Stone \n",
            "I'm in the stars tonight So watch me bring the fire and set the night alightShoes on, get up in the morning Cup of milk, let's rock and rollKing Kong, kick the drum, rolling on like a Rolling Stone \n",
            "I'm in the stars tonight So watch me bring the fire and set the night alightShoes on, get up in the morning Cup of milk, let's rock and rollKing Kong, kick the drum, rolling on like a Rolling Stone \n",
            "I'm in the stars tonight So watch me bring the fire and set the night alightShoes on, get up in the morning Cup of milk, let's rock and rollKing Kong, kick the drum, rolling on like a Rolling Stone \n",
            "I'm in the stars tonight So watch me bring the fire and set the night alightShoes on, get up in the morning Cup of milk, let's rock and rollKing Kong, kick the drum, rolling on like a Rolling Stone \n",
            "I'm in the stars tonight So watch me bring the fire and set the night alightShoes on, get up in the morning Cup of milk, let's rock and rollKing Kong, kick the drum, rolling on like a Rolling Stone \n",
            "I'm in the stars tonight So watch me bring the fire and set the night alightShoes on, get up in the morning Cup of milk, let's rock and rollKing Kong, kick the drum, rolling on like a Rolling Stone \n",
            "I'm in the stars tonight So watch me bring the fire and set the night alightShoes on, get up in the morning Cup of milk, let's rock and rollKing Kong, kick the drum, rolling on like a Rolling Stone \n",
            "I'm in the stars tonight So watch me bring the fire and set the night alightShoes on, get up in the morning Cup of milk, let's rock and rollKing Kong, kick the drum, rolling on like a Rolling Stone \n",
            "I'm in the stars tonight So watch me bring the fire and set the night alightShoes on, get up in the morning Cup of milk, let's rock and rollKing Kong, kick the drum, rolling on like a Rolling Stone \n",
            "I'm in the stars tonight So watch me bring the fire and set the night alightShoes on, get up in the morning Cup of milk, let's rock and rollKing Kong, kick the drum, rolling on like a Rolling Stone \n",
            "I'm in the stars tonight So watch me bring the fire and set the night alightShoes on, get up in the morning Cup of milk, let's rock and rollKing Kong, kick the drum, rolling on like a Rolling Stone \n",
            "I'm in the stars tonight So watch me bring the fire and set the night alightShoes on, get up in the morning Cup of milk, let's rock and rollKing Kong, kick the drum, rolling on like a Rolling Stone \n",
            "I'm in the stars tonight So watch me bring the fire and set the night alightShoes on, get up in the morning Cup of milk, let's rock and rollKing Kong, kick the drum, rolling on like a Rolling Stone \n",
            "I'm in the stars tonight So watch me bring the fire and set the night alightShoes on, get up in the morning Cup of milk, let's rock and rollKing Kong, kick the drum, rolling on like a Rolling Stone \n",
            "I'm in the stars tonight So watch me bring the fire and set the night alightShoes on, get up in the morning Cup of milk, let's rock and rollKing Kong, kick the drum, rolling on like a Rolling Stone \n",
            "I'm in the stars tonight So watch me bring the fire and set the night alightShoes on, get up in the morning Cup of milk, let's rock and rollKing Kong, kick the drum, rolling on like a Rolling Stone \n",
            "I'm in the stars tonight So watch me bring the fire and set the night alightShoes on, get up in the morning Cup of milk, let's rock and rollKing Kong, kick the drum, rolling on like a Rolling Stone \n",
            "I'm in the stars tonight So watch me bring the fire and set the night alightShoes on, get up in the morning Cup of milk, let's rock and rollKing Kong, kick the drum, rolling on like a Rolling Stone \n",
            "I'm in the stars tonight So watch me bring the fire and set the night alightShoes on, get up in the morning Cup of milk, let's rock and rollKing Kong, kick the drum, rolling on like a Rolling Stone \n",
            "I'm in the stars tonight So watch me bring the fire and set the night alightShoes on, get up in the morning Cup of milk, let's rock and rollKing Kong, kick the drum, rolling on like a Rolling Stone \n",
            "I'm in the stars tonight So watch me bring the fire and set the night alightShoes on, get up in the morning Cup of milk, let's rock and rollKing Kong, kick the drum, rolling on like a Rolling Stone \n",
            "I'm in the stars tonight So watch me bring the fire and set the night alightShoes on, get up in the morning Cup of milk, let's rock and rollKing Kong, kick the drum, rolling on like a Rolling Stone \n",
            "I'm in the stars tonight So watch me bring the fire and set the night alightShoes on, get up in the morning Cup of milk, let's rock and rollKing Kong, kick the drum, rolling on like a Rolling Stone \n",
            "I'm in the stars tonight So watch me bring the fire and set the night alightShoes on, get up in the morning Cup of milk, let's rock and rollKing Kong, kick the drum, rolling on like a Rolling Stone \n",
            "I'm in the stars tonight So watch me bring the fire and set the night alightShoes on, get up in the morning Cup of milk, let's rock and rollKing Kong, kick the drum, rolling on like a Rolling Stone \n",
            "I'm in the stars tonight So watch me bring the fire and set the night alightShoes on, get up in the morning Cup of milk, let's rock and rollKing Kong, kick the drum, rolling on like a Rolling Stone \n",
            "I'm in the stars tonight So watch me bring the fire and set the night alightShoes on, get up in the morning Cup of milk, let's rock and rollKing Kong, kick the drum, rolling on like a Rolling Stone \n",
            "I'm in the stars tonight So watch me bring the fire and set the night alightShoes on, get up in the morning Cup of milk, let's rock and rollKing Kong, kick the drum, rolling on like a Rolling Stone \n",
            "I'm in the stars tonight So watch me bring the fire and set the night alightShoes on, get up in the morning Cup of milk, let's rock and rollKing Kong, kick the drum, rolling on like a Rolling Stone \n",
            "I'm in the stars tonight So watch me bring the fire and set the night alightShoes on, get up in the morning Cup of milk, let's rock and rollKing Kong, kick the drum, rolling on like a Rolling Stone \n",
            "I'm in the stars tonight So watch me bring the fire and set the night alightShoes on, get up in the morning Cup of milk, let's rock and rollKing Kong, kick the drum, rolling on like a Rolling Stone \n",
            "I'm in the stars tonight So watch me bring the fire and set the night alightShoes on, get up in the morning Cup of milk, let's rock and rollKing Kong, kick the drum, rolling on like a Rolling Stone \n",
            "I'm in the stars tonight So watch me bring the fire and set the night alightShoes on, get up in the morning Cup of milk, let's rock and rollKing Kong, kick the drum, rolling on like a Rolling Stone \n",
            "I'm in the stars tonight So watch me bring the fire and set the night alightShoes on, get up in the morning Cup of milk, let's rock and rollKing Kong, kick the drum, rolling on like a Rolling Stone \n",
            "I'm in the stars tonight So watch me bring the fire and set the night alightShoes on, get up in the morning Cup of milk, let's rock and rollKing Kong, kick the drum, rolling on like a Rolling Stone \n",
            "I'm in the stars tonight So watch me bring the fire and set the night alightShoes on, get up in the morning Cup of milk, let's rock and rollKing Kong, kick the drum, rolling on like a Rolling Stone \n",
            "I'm in the stars tonight So watch me bring the fire and set the night alightShoes on, get up in the morning Cup of milk, let's rock and rollKing Kong, kick the drum, rolling on like a Rolling Stone \n",
            "I'm in the stars tonight So watch me bring the fire and set the night alightShoes on, get up in the morning Cup of milk, let's rock and rollKing Kong, kick the drum, rolling on like a Rolling Stone \n",
            "I'm in the stars tonight So watch me bring the fire and set the night alightShoes on, get up in the morning Cup of milk, let's rock and rollKing Kong, kick the drum, rolling on like a Rolling Stone \n",
            "I'm in the stars tonight So watch me bring the fire and set the night alightShoes on, get up in the morning Cup of milk, let's rock and rollKing Kong, kick the drum, rolling on like a Rolling Stone \n",
            "I'm in the stars tonight So watch me bring the fire and set the night alightShoes on, get up in the morning Cup of milk, let's rock and rollKing Kong, kick the drum, rolling on like a Rolling Stone \n",
            "I'm in the stars tonight So watch me bring the fire and set the night alightShoes on, get up in the morning Cup of milk, let's rock and rollKing Kong, kick the drum, rolling on like a Rolling Stone \n",
            "I'm in the stars tonight So watch me bring the fire and set the night alightShoes on, get up in the morning Cup of milk, let's rock and rollKing Kong, kick the drum, rolling on like a Rolling Stone \n",
            "I'm in the stars tonight So watch me bring the fire and set the night alightShoes on, get up in the morning Cup of milk, let's rock and rollKing Kong, kick the drum, rolling on like a Rolling Stone \n",
            "I'm in the stars tonight So watch me bring the fire and set the night alightShoes on, get up in the morning Cup of milk, let's rock and rollKing Kong, kick the drum, rolling on like a Rolling Stone \n",
            "I'm in the stars tonight So watch me bring the fire and set the night alightShoes on, get up in the morning Cup of milk, let's rock and rollKing Kong, kick the drum, rolling on like a Rolling Stone \n",
            "I'm in the stars tonight So watch me bring the fire and set the night alightShoes on, get up in the morning Cup of milk, let's rock and rollKing Kong, kick the drum, rolling on like a Rolling Stone \n",
            "I'm in the stars tonight So watch me bring the fire and set the night alightShoes on, get up in the morning Cup of milk, let's rock and rollKing Kong, kick the drum, rolling on like a Rolling Stone \n",
            "I'm in the stars tonight So watch me bring the fire and set the night alightShoes on, get up in the morning Cup of milk, let's rock and rollKing Kong, kick the drum, rolling on like a Rolling Stone \n",
            "I'm in the stars tonight So watch me bring the fire and set the night alightShoes on, get up in the morning Cup of milk, let's rock and rollKing Kong, kick the drum, rolling on like a Rolling Stone \n",
            "I'm in the stars tonight So watch me bring the fire and set the night alightShoes on, get up in the morning Cup of milk, let's rock and rollKing Kong, kick the drum, rolling on like a Rolling Stone \n",
            "I'm in the stars tonight So watch me bring the fire and set the night alightShoes on, get up in the morning Cup of milk, let's rock and rollKing Kong, kick the drum, rolling on like a Rolling Stone \n",
            "I'm in the stars tonight So watch me bring the fire and set the night alightShoes on, get up in the morning Cup of milk, let's rock and rollKing Kong, kick the drum, rolling on like a Rolling Stone \n",
            "I'm in the stars tonight So watch me bring the fire and set the night alightShoes on, get up in the morning Cup of milk, let's rock and rollKing Kong, kick the drum, rolling on like a Rolling Stone \n",
            "I'm in the stars tonight So watch me bring the fire and set the night alightShoes on, get up in the morning Cup of milk, let's rock and rollKing Kong, kick the drum, rolling on like a Rolling Stone \n",
            "I'm in the stars tonight So watch me bring the fire and set the night alightShoes on, get up in the morning Cup of milk, let's rock and rollKing Kong, kick the drum, rolling on like a Rolling Stone \n",
            "I'm in the stars tonight So watch me bring the fire and set the night alightShoes on, get up in the morning Cup of milk, let's rock and rollKing Kong, kick the drum, rolling on like a Rolling Stone \n",
            "I'm in the stars tonight So watch me bring the fire and set the night alightShoes on, get up in the morning Cup of milk, let's rock and rollKing Kong, kick the drum, rolling on like a Rolling Stone \n",
            "I'm in the stars tonight So watch me bring the fire and set the night alightShoes on, get up in the morning Cup of milk, let's rock and rollKing Kong, kick the drum, rolling on like a Rolling Stone \n",
            "I'm in the stars tonight So watch me bring the fire and set the night alightShoes on, get up in the morning Cup of milk, let's rock and rollKing Kong, kick the drum, rolling on like a Rolling Stone \n",
            "I'm in the stars tonight So watch me bring the fire and set the night alightShoes on, get up in the morning Cup of milk, let's rock and rollKing Kong, kick the drum, rolling on like a Rolling Stone \n",
            "I'm in the stars tonight So watch me bring the fire and set the night alightShoes on, get up in the morning Cup of milk, let's rock and rollKing Kong, kick the drum, rolling on like a Rolling Stone \n",
            "I'm in the stars tonight So watch me bring the fire and set the night alightShoes on, get up in the morning Cup of milk, let's rock and rollKing Kong, kick the drum, rolling on like a Rolling Stone \n",
            "I'm in the stars tonight So watch me bring the fire and set the night alightShoes on, get up in the morning Cup of milk, let's rock and rollKing Kong, kick the drum, rolling on like a Rolling Stone \n",
            "I'm in the stars tonight So watch me bring the fire and set the night alightShoes on, get up in the morning Cup of milk, let's rock and rollKing Kong, kick the drum, rolling on like a Rolling Stone \n"
          ]
        }
      ]
    },
    {
      "cell_type": "code",
      "source": [
        "predict_str\n",
        "\n",
        "# sequence_length가 10일때, layer 2층, 문자들 인코딩"
      ],
      "metadata": {
        "colab": {
          "base_uri": "https://localhost:8080/",
          "height": 54
        },
        "id": "UUlrngevhtdX",
        "outputId": "8cfd5dfc-644d-47e1-e4be-4b83ab146713"
      },
      "execution_count": 207,
      "outputs": [
        {
          "output_type": "execute_result",
          "data": {
            "text/plain": [
              "\"unse I'm in the mtars tonight So watch me bring the fire and set the night alightShoes on, get up in the morning Cup of milk, let's rock and rollKing Kong, kick the drum, rolling on like a Rolling Stoni\""
            ],
            "application/vnd.google.colaboratory.intrinsic+json": {
              "type": "string"
            }
          },
          "metadata": {},
          "execution_count": 207
        }
      ]
    },
    {
      "cell_type": "code",
      "source": [
        "predict_str\n",
        "\n",
        "# sequence_length가 15일때, layer 2층 -> 10보다 나은거 같다, 문자들 인코딩"
      ],
      "metadata": {
        "colab": {
          "base_uri": "https://localhost:8080/",
          "height": 54
        },
        "id": "lW6RSbyPc50k",
        "outputId": "748921ed-a7fb-441f-f596-a549610bab5a"
      },
      "execution_count": 191,
      "outputs": [
        {
          "output_type": "execute_result",
          "data": {
            "text/plain": [
              "\"uuse I'm in the stars tonight So watch me bring the fire and set the night alightShoes on, get up in the morning Cup of milk, let's rock and rollKing Kong, kick the drum, rolling on like a Rolling Stone\""
            ],
            "application/vnd.google.colaboratory.intrinsic+json": {
              "type": "string"
            }
          },
          "metadata": {},
          "execution_count": 191
        }
      ]
    },
    {
      "cell_type": "code",
      "source": [
        "predict_str\n",
        "\n",
        "# sequence_length가 20일때, layer 2층, 문자들 인코딩"
      ],
      "metadata": {
        "colab": {
          "base_uri": "https://localhost:8080/",
          "height": 54
        },
        "id": "IhVW2zZniErw",
        "outputId": "234f093a-b94c-4bfa-8d6a-9f8bba0e7fc0"
      },
      "execution_count": 223,
      "outputs": [
        {
          "output_type": "execute_result",
          "data": {
            "text/plain": [
              "\"upm  S'm in the stars tonight So watch me bring the fire and set the night alightShoes on, get up in the morning Cup of milk, let's rock and rollKing Kong, kick the drum, rolling on like a Rolling Ston \""
            ],
            "application/vnd.google.colaboratory.intrinsic+json": {
              "type": "string"
            }
          },
          "metadata": {},
          "execution_count": 223
        }
      ]
    },
    {
      "cell_type": "code",
      "source": [
        "predict_str\n",
        "\n",
        "# sequence_length가 10일때, layer 1층, 문자들 인코딩"
      ],
      "metadata": {
        "colab": {
          "base_uri": "https://localhost:8080/",
          "height": 54
        },
        "id": "grBZ9ENfiTuL",
        "outputId": "eca63d43-5316-4b45-a492-5f304eb109c2"
      },
      "execution_count": 240,
      "outputs": [
        {
          "output_type": "execute_result",
          "data": {
            "text/plain": [
              "\"uuse I'm in the stars tonight So watch me bring the fire and set the night alightShoes on, get up in the sorning oup of milk, let's rock and rollKing Kong, kick the drum, rolling on like a Rolling Stone\""
            ],
            "application/vnd.google.colaboratory.intrinsic+json": {
              "type": "string"
            }
          },
          "metadata": {},
          "execution_count": 240
        }
      ]
    },
    {
      "cell_type": "code",
      "source": [
        "predict_str\n",
        "\n",
        "# sequence_length가 15일때, layer 1층, 문자들 인코딩"
      ],
      "metadata": {
        "colab": {
          "base_uri": "https://localhost:8080/",
          "height": 54
        },
        "id": "EJEk8Ig3iiuk",
        "outputId": "5951217b-4fb6-4e44-ef58-ad962f626742"
      },
      "execution_count": 251,
      "outputs": [
        {
          "output_type": "execute_result",
          "data": {
            "text/plain": [
              "\"u mt m'm in the stars tonight So watch me bring the fire and set the night alightShoes on, get up in the morning Cup of milk, let's rock and rollKing Kong, kick the drum, rolling on like a Rolling oo n \""
            ],
            "application/vnd.google.colaboratory.intrinsic+json": {
              "type": "string"
            }
          },
          "metadata": {},
          "execution_count": 251
        }
      ]
    },
    {
      "cell_type": "code",
      "source": [
        "predict_str\n",
        "\n",
        "# sequence_length가 3일때, layer 1층, 단어들 인코딩\n",
        "# 단어들이 잘 학습은 되었는데 띄어쓰기가 반영이 안됨..."
      ],
      "metadata": {
        "colab": {
          "base_uri": "https://localhost:8080/",
          "height": 54
        },
        "id": "MBBdMlhRjGc1",
        "outputId": "7ff1e69b-d5e9-435d-cc74-ced9a9364562"
      },
      "execution_count": 270,
      "outputs": [
        {
          "output_type": "execute_result",
          "data": {
            "text/plain": [
              "\"I'minthestarstonightSowatchmebringthefireandsetthenightalightShoeson,getupinthemorningCupofmilk,let'srockandrollKingKong,kickthedrum,rollingonlikeaRollingStone\""
            ],
            "application/vnd.google.colaboratory.intrinsic+json": {
              "type": "string"
            }
          },
          "metadata": {},
          "execution_count": 270
        }
      ]
    },
    {
      "cell_type": "code",
      "source": [
        "predict_str\n",
        "\n",
        "# sequence_length가 3일때, layer 1층, 단어들 인코딩 + 띄어쓰기\n",
        "# 구두점이 문장에 없어서 반영이 안된것 같다\n",
        "# 단어별로 학습하는 것이 성능이 제일 좋다!"
      ],
      "metadata": {
        "colab": {
          "base_uri": "https://localhost:8080/",
          "height": 54
        },
        "id": "GsZ3NOmfkqi_",
        "outputId": "79430c7f-170a-4373-b320-7c78ed563bfd"
      },
      "execution_count": 301,
      "outputs": [
        {
          "output_type": "execute_result",
          "data": {
            "text/plain": [
              "\"I'm in the stars tonight So watch me bring the fire and set the night alightShoes on, get up in the morning Cup of milk, let's rock and rollKing Kong, kick the drum, rolling on like a Rolling Stone \""
            ],
            "application/vnd.google.colaboratory.intrinsic+json": {
              "type": "string"
            }
          },
          "metadata": {},
          "execution_count": 301
        }
      ]
    }
  ]
}