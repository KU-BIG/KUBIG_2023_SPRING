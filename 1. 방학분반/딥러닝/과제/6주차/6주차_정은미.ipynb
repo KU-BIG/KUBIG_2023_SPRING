{
  "nbformat": 4,
  "nbformat_minor": 0,
  "metadata": {
    "colab": {
      "provenance": []
    },
    "kernelspec": {
      "name": "python3",
      "display_name": "Python 3"
    },
    "language_info": {
      "name": "python"
    },
    "accelerator": "GPU",
    "gpuClass": "standard"
  },
  "cells": [
    {
      "cell_type": "code",
      "execution_count": 7,
      "metadata": {
        "id": "nmQ5F7UAeKB_"
      },
      "outputs": [],
      "source": [
        "import numpy as np\n",
        "import torch\n",
        "import torch.nn as nn\n",
        "import torch.optim as optim"
      ]
    },
    {
      "cell_type": "markdown",
      "source": [
        "## Task1\n",
        "\n",
        "빈 칸을 채워주세요!\n",
        "\n",
        "단계별 output이 github 파일에는 남아있으니 그 output과 동일한 형태인지 확인하면서 진행해주시면 됩니다~"
      ],
      "metadata": {
        "id": "Sgxd6SxmeVcP"
      }
    },
    {
      "cell_type": "code",
      "source": [
        "#1. 생성할 문장 데이터\n",
        "\n",
        "sentence = (\"Brick walls are there for a reason and you must not think \"\n",
        "            \"that the brick walls aren't there to keep us out, but rather \"\n",
        "            \"in this way that the brick walls are there to show us how badly we want things.\")"
      ],
      "metadata": {
        "id": "NDvUeC8BoUb6"
      },
      "execution_count": 122,
      "outputs": []
    },
    {
      "cell_type": "code",
      "source": [
        "len(sentence)"
      ],
      "metadata": {
        "colab": {
          "base_uri": "https://localhost:8080/"
        },
        "id": "-0WJNf3AdEpi",
        "outputId": "957a7593-deb0-4d71-af6c-6e42d577683e"
      },
      "execution_count": 123,
      "outputs": [
        {
          "output_type": "execute_result",
          "data": {
            "text/plain": [
              "198"
            ]
          },
          "metadata": {},
          "execution_count": 123
        }
      ]
    },
    {
      "cell_type": "code",
      "source": [
        "#2. 문자 집합 만들기\n",
        "world_set = list(set(sentence))"
      ],
      "metadata": {
        "id": "uuUZ7HiOND5F"
      },
      "execution_count": 77,
      "outputs": []
    },
    {
      "cell_type": "code",
      "source": [
        "world_set"
      ],
      "metadata": {
        "colab": {
          "base_uri": "https://localhost:8080/"
        },
        "id": "3PJKkk5tK3Iq",
        "outputId": "170762f3-b72b-49d4-ece1-39bd9b94039a"
      },
      "execution_count": 78,
      "outputs": [
        {
          "output_type": "execute_result",
          "data": {
            "text/plain": [
              "['B',\n",
              " 'l',\n",
              " 't',\n",
              " 'f',\n",
              " 'u',\n",
              " 'g',\n",
              " ' ',\n",
              " 'd',\n",
              " 'c',\n",
              " 'y',\n",
              " '.',\n",
              " ',',\n",
              " 'b',\n",
              " 'k',\n",
              " 'e',\n",
              " \"'\",\n",
              " 'h',\n",
              " 'm',\n",
              " 'o',\n",
              " 'w',\n",
              " 'a',\n",
              " 'i',\n",
              " 'n',\n",
              " 'p',\n",
              " 'r',\n",
              " 's']"
            ]
          },
          "metadata": {},
          "execution_count": 78
        }
      ]
    },
    {
      "cell_type": "code",
      "source": [
        "## 문제(1): 각 문자에 정수 인코딩 (공백도 하나의 원소로 포함)\n",
        "vocab = {word: num for num, word in enumerate(world_set)}"
      ],
      "metadata": {
        "id": "b9lkrKyZf8ie"
      },
      "execution_count": 79,
      "outputs": []
    },
    {
      "cell_type": "code",
      "source": [
        "print(vocab)"
      ],
      "metadata": {
        "colab": {
          "base_uri": "https://localhost:8080/"
        },
        "id": "F_0we5Y-gYDq",
        "outputId": "53892cd5-1031-42e7-9765-c253dc280bc0"
      },
      "execution_count": 80,
      "outputs": [
        {
          "output_type": "stream",
          "name": "stdout",
          "text": [
            "{'B': 0, 'l': 1, 't': 2, 'f': 3, 'u': 4, 'g': 5, ' ': 6, 'd': 7, 'c': 8, 'y': 9, '.': 10, ',': 11, 'b': 12, 'k': 13, 'e': 14, \"'\": 15, 'h': 16, 'm': 17, 'o': 18, 'w': 19, 'a': 20, 'i': 21, 'n': 22, 'p': 23, 'r': 24, 's': 25}\n"
          ]
        }
      ]
    },
    {
      "cell_type": "code",
      "source": [
        "#3. 문자 집합 크기 확인\n",
        "\n",
        "vocab_size = len(vocab) \n",
        "print('문자 집합 크기 : {}'.format(vocab_size))"
      ],
      "metadata": {
        "colab": {
          "base_uri": "https://localhost:8080/"
        },
        "id": "TpKupU6lgpfT",
        "outputId": "95dde3fe-128d-4a73-f204-9f97439bbcfe"
      },
      "execution_count": 81,
      "outputs": [
        {
          "output_type": "stream",
          "name": "stdout",
          "text": [
            "문자 집합 크기 : 26\n"
          ]
        }
      ]
    },
    {
      "cell_type": "code",
      "source": [
        "#4. 하이퍼 파라미터 설정(자유롭게 수정해보세요!)\n",
        "\n",
        "hidden_size = vocab_size # 같아야 하는 것 확인! # =26\n",
        "sequence_length = 10  # 너무 길거나 너무 짧게 잡으면 안됩니다!\n",
        "learning_rate = 0.01"
      ],
      "metadata": {
        "id": "wFDZJHSMg9In"
      },
      "execution_count": 82,
      "outputs": []
    },
    {
      "cell_type": "markdown",
      "source": [
        "![image.png](data:image/png;base64,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)"
      ],
      "metadata": {
        "id": "oP7_DvX_XHGZ"
      }
    },
    {
      "cell_type": "code",
      "source": [
        "#5. seqence 길이 단위 자르기\n",
        "\n",
        "# 데이터 구성을 위한 리스트\n",
        "x_data = []\n",
        "y_data = []\n",
        "\n",
        "## 문제(2): 반복문 내에서의 인덱싱을 사용하여 sequence_length 값 단위로 샘플을 잘라 데이터 만들기, y_str은 x_str은 한 칸씩 쉬프트된 sequnce\n",
        "\n",
        "for i in range(0, len(sentence) - sequence_length):\n",
        "  x_str = sentence[i: i + sequence_length]\n",
        "  y_str = sentence[i+1: i + sequence_length+1]\n",
        "  print(i, x_str, \"->\", y_str)\n",
        "\n",
        "  # x_str과 y_str이 문자집합에 해당하는 인덱스를 각각 x_data, y_data에 append\n",
        "  x_data.append([vocab[c] for c in x_str])\n",
        "  y_data.append([vocab[d] for d in y_str])"
      ],
      "metadata": {
        "colab": {
          "base_uri": "https://localhost:8080/"
        },
        "id": "RbDcmJmghN7V",
        "outputId": "99f4ea28-2d03-4734-ffaf-0ebd4c9273ca"
      },
      "execution_count": 83,
      "outputs": [
        {
          "output_type": "stream",
          "name": "stdout",
          "text": [
            "0 Brick wall -> rick walls\n",
            "1 rick walls -> ick walls \n",
            "2 ick walls  -> ck walls a\n",
            "3 ck walls a -> k walls ar\n",
            "4 k walls ar ->  walls are\n",
            "5  walls are -> walls are \n",
            "6 walls are  -> alls are t\n",
            "7 alls are t -> lls are th\n",
            "8 lls are th -> ls are the\n",
            "9 ls are the -> s are ther\n",
            "10 s are ther ->  are there\n",
            "11  are there -> are there \n",
            "12 are there  -> re there f\n",
            "13 re there f -> e there fo\n",
            "14 e there fo ->  there for\n",
            "15  there for -> there for \n",
            "16 there for  -> here for a\n",
            "17 here for a -> ere for a \n",
            "18 ere for a  -> re for a r\n",
            "19 re for a r -> e for a re\n",
            "20 e for a re ->  for a rea\n",
            "21  for a rea -> for a reas\n",
            "22 for a reas -> or a reaso\n",
            "23 or a reaso -> r a reason\n",
            "24 r a reason ->  a reason \n",
            "25  a reason  -> a reason a\n",
            "26 a reason a ->  reason an\n",
            "27  reason an -> reason and\n",
            "28 reason and -> eason and \n",
            "29 eason and  -> ason and y\n",
            "30 ason and y -> son and yo\n",
            "31 son and yo -> on and you\n",
            "32 on and you -> n and you \n",
            "33 n and you  ->  and you m\n",
            "34  and you m -> and you mu\n",
            "35 and you mu -> nd you mus\n",
            "36 nd you mus -> d you must\n",
            "37 d you must ->  you must \n",
            "38  you must  -> you must n\n",
            "39 you must n -> ou must no\n",
            "40 ou must no -> u must not\n",
            "41 u must not ->  must not \n",
            "42  must not  -> must not t\n",
            "43 must not t -> ust not th\n",
            "44 ust not th -> st not thi\n",
            "45 st not thi -> t not thin\n",
            "46 t not thin ->  not think\n",
            "47  not think -> not think \n",
            "48 not think  -> ot think t\n",
            "49 ot think t -> t think th\n",
            "50 t think th ->  think tha\n",
            "51  think tha -> think that\n",
            "52 think that -> hink that \n",
            "53 hink that  -> ink that t\n",
            "54 ink that t -> nk that th\n",
            "55 nk that th -> k that the\n",
            "56 k that the ->  that the \n",
            "57  that the  -> that the b\n",
            "58 that the b -> hat the br\n",
            "59 hat the br -> at the bri\n",
            "60 at the bri -> t the bric\n",
            "61 t the bric ->  the brick\n",
            "62  the brick -> the brick \n",
            "63 the brick  -> he brick w\n",
            "64 he brick w -> e brick wa\n",
            "65 e brick wa ->  brick wal\n",
            "66  brick wal -> brick wall\n",
            "67 brick wall -> rick walls\n",
            "68 rick walls -> ick walls \n",
            "69 ick walls  -> ck walls a\n",
            "70 ck walls a -> k walls ar\n",
            "71 k walls ar ->  walls are\n",
            "72  walls are -> walls aren\n",
            "73 walls aren -> alls aren'\n",
            "74 alls aren' -> lls aren't\n",
            "75 lls aren't -> ls aren't \n",
            "76 ls aren't  -> s aren't t\n",
            "77 s aren't t ->  aren't th\n",
            "78  aren't th -> aren't the\n",
            "79 aren't the -> ren't ther\n",
            "80 ren't ther -> en't there\n",
            "81 en't there -> n't there \n",
            "82 n't there  -> 't there t\n",
            "83 't there t -> t there to\n",
            "84 t there to ->  there to \n",
            "85  there to  -> there to k\n",
            "86 there to k -> here to ke\n",
            "87 here to ke -> ere to kee\n",
            "88 ere to kee -> re to keep\n",
            "89 re to keep -> e to keep \n",
            "90 e to keep  ->  to keep u\n",
            "91  to keep u -> to keep us\n",
            "92 to keep us -> o keep us \n",
            "93 o keep us  ->  keep us o\n",
            "94  keep us o -> keep us ou\n",
            "95 keep us ou -> eep us out\n",
            "96 eep us out -> ep us out,\n",
            "97 ep us out, -> p us out, \n",
            "98 p us out,  ->  us out, b\n",
            "99  us out, b -> us out, bu\n",
            "100 us out, bu -> s out, but\n",
            "101 s out, but ->  out, but \n",
            "102  out, but  -> out, but r\n",
            "103 out, but r -> ut, but ra\n",
            "104 ut, but ra -> t, but rat\n",
            "105 t, but rat -> , but rath\n",
            "106 , but rath ->  but rathe\n",
            "107  but rathe -> but rather\n",
            "108 but rather -> ut rather \n",
            "109 ut rather  -> t rather i\n",
            "110 t rather i ->  rather in\n",
            "111  rather in -> rather in \n",
            "112 rather in  -> ather in t\n",
            "113 ather in t -> ther in th\n",
            "114 ther in th -> her in thi\n",
            "115 her in thi -> er in this\n",
            "116 er in this -> r in this \n",
            "117 r in this  ->  in this w\n",
            "118  in this w -> in this wa\n",
            "119 in this wa -> n this way\n",
            "120 n this way ->  this way \n",
            "121  this way  -> this way t\n",
            "122 this way t -> his way th\n",
            "123 his way th -> is way tha\n",
            "124 is way tha -> s way that\n",
            "125 s way that ->  way that \n",
            "126  way that  -> way that t\n",
            "127 way that t -> ay that th\n",
            "128 ay that th -> y that the\n",
            "129 y that the ->  that the \n",
            "130  that the  -> that the b\n",
            "131 that the b -> hat the br\n",
            "132 hat the br -> at the bri\n",
            "133 at the bri -> t the bric\n",
            "134 t the bric ->  the brick\n",
            "135  the brick -> the brick \n",
            "136 the brick  -> he brick w\n",
            "137 he brick w -> e brick wa\n",
            "138 e brick wa ->  brick wal\n",
            "139  brick wal -> brick wall\n",
            "140 brick wall -> rick walls\n",
            "141 rick walls -> ick walls \n",
            "142 ick walls  -> ck walls a\n",
            "143 ck walls a -> k walls ar\n",
            "144 k walls ar ->  walls are\n",
            "145  walls are -> walls are \n",
            "146 walls are  -> alls are t\n",
            "147 alls are t -> lls are th\n",
            "148 lls are th -> ls are the\n",
            "149 ls are the -> s are ther\n",
            "150 s are ther ->  are there\n",
            "151  are there -> are there \n",
            "152 are there  -> re there t\n",
            "153 re there t -> e there to\n",
            "154 e there to ->  there to \n",
            "155  there to  -> there to s\n",
            "156 there to s -> here to sh\n",
            "157 here to sh -> ere to sho\n",
            "158 ere to sho -> re to show\n",
            "159 re to show -> e to show \n",
            "160 e to show  ->  to show u\n",
            "161  to show u -> to show us\n",
            "162 to show us -> o show us \n",
            "163 o show us  ->  show us h\n",
            "164  show us h -> show us ho\n",
            "165 show us ho -> how us how\n",
            "166 how us how -> ow us how \n",
            "167 ow us how  -> w us how b\n",
            "168 w us how b ->  us how ba\n",
            "169  us how ba -> us how bad\n",
            "170 us how bad -> s how badl\n",
            "171 s how badl ->  how badly\n",
            "172  how badly -> how badly \n",
            "173 how badly  -> ow badly w\n",
            "174 ow badly w -> w badly we\n",
            "175 w badly we ->  badly we \n",
            "176  badly we  -> badly we w\n",
            "177 badly we w -> adly we wa\n",
            "178 adly we wa -> dly we wan\n",
            "179 dly we wan -> ly we want\n",
            "180 ly we want -> y we want \n",
            "181 y we want  ->  we want t\n",
            "182  we want t -> we want th\n",
            "183 we want th -> e want thi\n",
            "184 e want thi ->  want thin\n",
            "185  want thin -> want thing\n",
            "186 want thing -> ant things\n",
            "187 ant things -> nt things.\n"
          ]
        }
      ]
    },
    {
      "cell_type": "code",
      "source": [
        "# 출력해서 한 칸씩 쉬프트된 것 확인하기!\n",
        "\n",
        "print(x_data[0])\n",
        "print(y_data[0])"
      ],
      "metadata": {
        "colab": {
          "base_uri": "https://localhost:8080/"
        },
        "id": "XVFlILiOixdc",
        "outputId": "e45b1024-59e2-42a4-96c3-769cf034fbe9"
      },
      "execution_count": 84,
      "outputs": [
        {
          "output_type": "stream",
          "name": "stdout",
          "text": [
            "[0, 24, 21, 8, 13, 6, 19, 20, 1, 1]\n",
            "[24, 21, 8, 13, 6, 19, 20, 1, 1, 25]\n"
          ]
        }
      ]
    },
    {
      "cell_type": "code",
      "source": [
        "##6. 입력 시퀀스에 대해 원핫인코딩 수행\n",
        "\n",
        "## 문제(4) : x_data를 원핫인코딩 > numpy의 eye를 쓸 수 있지 않을까?\n",
        "x_one_hot = [np.eye(len(vocab))[x] for x in x_data]  #numpy.eye(n) : n*n 대각행렬 만들기기\n",
        "\n",
        "##7. 입력 데이터, 레이블데이터 텐서로 변환\n",
        "\n",
        "## 문제(5) : x_one_hot과 y_data 텐서로 변환 : 둘 다 같은 형식의 텐서로 변환하면 될까?? (FloatTensor, LongTesor 중 맞는 것은?)\n",
        "X = torch.FloatTensor(x_one_hot)\n",
        "Y = torch.LongTensor(y_data)"
      ],
      "metadata": {
        "id": "5lPes1dvjlNb"
      },
      "execution_count": 85,
      "outputs": []
    },
    {
      "cell_type": "code",
      "source": [
        "np.shape(x_one_hot)"
      ],
      "metadata": {
        "colab": {
          "base_uri": "https://localhost:8080/"
        },
        "id": "N9U1CE9VZj81",
        "outputId": "428ed5c1-4019-4f90-a1d4-060de90eb59e"
      },
      "execution_count": 86,
      "outputs": [
        {
          "output_type": "execute_result",
          "data": {
            "text/plain": [
              "(188, 10, 26)"
            ]
          },
          "metadata": {},
          "execution_count": 86
        }
      ]
    },
    {
      "cell_type": "code",
      "source": [
        "x_one_hot[0]"
      ],
      "metadata": {
        "colab": {
          "base_uri": "https://localhost:8080/"
        },
        "id": "rjBhQDLoYqs5",
        "outputId": "65023584-c8fe-40ec-811c-d8a4e001d8ed"
      },
      "execution_count": 87,
      "outputs": [
        {
          "output_type": "execute_result",
          "data": {
            "text/plain": [
              "array([[1., 0., 0., 0., 0., 0., 0., 0., 0., 0., 0., 0., 0., 0., 0., 0.,\n",
              "        0., 0., 0., 0., 0., 0., 0., 0., 0., 0.],\n",
              "       [0., 0., 0., 0., 0., 0., 0., 0., 0., 0., 0., 0., 0., 0., 0., 0.,\n",
              "        0., 0., 0., 0., 0., 0., 0., 0., 1., 0.],\n",
              "       [0., 0., 0., 0., 0., 0., 0., 0., 0., 0., 0., 0., 0., 0., 0., 0.,\n",
              "        0., 0., 0., 0., 0., 1., 0., 0., 0., 0.],\n",
              "       [0., 0., 0., 0., 0., 0., 0., 0., 1., 0., 0., 0., 0., 0., 0., 0.,\n",
              "        0., 0., 0., 0., 0., 0., 0., 0., 0., 0.],\n",
              "       [0., 0., 0., 0., 0., 0., 0., 0., 0., 0., 0., 0., 0., 1., 0., 0.,\n",
              "        0., 0., 0., 0., 0., 0., 0., 0., 0., 0.],\n",
              "       [0., 0., 0., 0., 0., 0., 1., 0., 0., 0., 0., 0., 0., 0., 0., 0.,\n",
              "        0., 0., 0., 0., 0., 0., 0., 0., 0., 0.],\n",
              "       [0., 0., 0., 0., 0., 0., 0., 0., 0., 0., 0., 0., 0., 0., 0., 0.,\n",
              "        0., 0., 0., 1., 0., 0., 0., 0., 0., 0.],\n",
              "       [0., 0., 0., 0., 0., 0., 0., 0., 0., 0., 0., 0., 0., 0., 0., 0.,\n",
              "        0., 0., 0., 0., 1., 0., 0., 0., 0., 0.],\n",
              "       [0., 1., 0., 0., 0., 0., 0., 0., 0., 0., 0., 0., 0., 0., 0., 0.,\n",
              "        0., 0., 0., 0., 0., 0., 0., 0., 0., 0.],\n",
              "       [0., 1., 0., 0., 0., 0., 0., 0., 0., 0., 0., 0., 0., 0., 0., 0.,\n",
              "        0., 0., 0., 0., 0., 0., 0., 0., 0., 0.]])"
            ]
          },
          "metadata": {},
          "execution_count": 87
        }
      ]
    },
    {
      "cell_type": "code",
      "source": [
        "x_one_hot[1]"
      ],
      "metadata": {
        "colab": {
          "base_uri": "https://localhost:8080/"
        },
        "id": "49_8gFFOY_aj",
        "outputId": "ad0025fd-9a34-4e65-b53a-2f3a0005aee3"
      },
      "execution_count": 88,
      "outputs": [
        {
          "output_type": "execute_result",
          "data": {
            "text/plain": [
              "array([[0., 0., 0., 0., 0., 0., 0., 0., 0., 0., 0., 0., 0., 0., 0., 0.,\n",
              "        0., 0., 0., 0., 0., 0., 0., 0., 1., 0.],\n",
              "       [0., 0., 0., 0., 0., 0., 0., 0., 0., 0., 0., 0., 0., 0., 0., 0.,\n",
              "        0., 0., 0., 0., 0., 1., 0., 0., 0., 0.],\n",
              "       [0., 0., 0., 0., 0., 0., 0., 0., 1., 0., 0., 0., 0., 0., 0., 0.,\n",
              "        0., 0., 0., 0., 0., 0., 0., 0., 0., 0.],\n",
              "       [0., 0., 0., 0., 0., 0., 0., 0., 0., 0., 0., 0., 0., 1., 0., 0.,\n",
              "        0., 0., 0., 0., 0., 0., 0., 0., 0., 0.],\n",
              "       [0., 0., 0., 0., 0., 0., 1., 0., 0., 0., 0., 0., 0., 0., 0., 0.,\n",
              "        0., 0., 0., 0., 0., 0., 0., 0., 0., 0.],\n",
              "       [0., 0., 0., 0., 0., 0., 0., 0., 0., 0., 0., 0., 0., 0., 0., 0.,\n",
              "        0., 0., 0., 1., 0., 0., 0., 0., 0., 0.],\n",
              "       [0., 0., 0., 0., 0., 0., 0., 0., 0., 0., 0., 0., 0., 0., 0., 0.,\n",
              "        0., 0., 0., 0., 1., 0., 0., 0., 0., 0.],\n",
              "       [0., 1., 0., 0., 0., 0., 0., 0., 0., 0., 0., 0., 0., 0., 0., 0.,\n",
              "        0., 0., 0., 0., 0., 0., 0., 0., 0., 0.],\n",
              "       [0., 1., 0., 0., 0., 0., 0., 0., 0., 0., 0., 0., 0., 0., 0., 0.,\n",
              "        0., 0., 0., 0., 0., 0., 0., 0., 0., 0.],\n",
              "       [0., 0., 0., 0., 0., 0., 0., 0., 0., 0., 0., 0., 0., 0., 0., 0.,\n",
              "        0., 0., 0., 0., 0., 0., 0., 0., 0., 1.]])"
            ]
          },
          "metadata": {},
          "execution_count": 88
        }
      ]
    },
    {
      "cell_type": "markdown",
      "source": [
        "CrossEntropyLoss(input, target) takes **LongTensor targets** and **FloatTensor inputs**\n",
        "\n",
        "[링크 텍스트](https://discuss.pytorch.org/t/why-pytorch-is-giving-me-hard-time-with-float-long-double-tensor/14678)"
      ],
      "metadata": {
        "id": "8SnT1llFP2qd"
      }
    },
    {
      "cell_type": "code",
      "source": [
        "##8. 크기 확인\n",
        "print('훈련 데이터의 크기 : {}'.format(X.shape))\n",
        "print('레이블의 크기 : {}'.format(Y.shape))"
      ],
      "metadata": {
        "colab": {
          "base_uri": "https://localhost:8080/"
        },
        "id": "lMZzZlaymMk8",
        "outputId": "8a4f1b34-d51e-4549-b560-857883c3dae6"
      },
      "execution_count": 89,
      "outputs": [
        {
          "output_type": "stream",
          "name": "stdout",
          "text": [
            "훈련 데이터의 크기 : torch.Size([188, 10, 26])\n",
            "레이블의 크기 : torch.Size([188, 10])\n"
          ]
        }
      ]
    },
    {
      "cell_type": "code",
      "source": [
        "##9.원핫인코딩 결과 샘플 확인하기\n",
        "print(X[0])"
      ],
      "metadata": {
        "colab": {
          "base_uri": "https://localhost:8080/"
        },
        "id": "knx1DE_AmSFB",
        "outputId": "f3383d7a-6685-499f-f07d-e05a3b9458b4"
      },
      "execution_count": 90,
      "outputs": [
        {
          "output_type": "stream",
          "name": "stdout",
          "text": [
            "tensor([[1., 0., 0., 0., 0., 0., 0., 0., 0., 0., 0., 0., 0., 0., 0., 0., 0., 0.,\n",
            "         0., 0., 0., 0., 0., 0., 0., 0.],\n",
            "        [0., 0., 0., 0., 0., 0., 0., 0., 0., 0., 0., 0., 0., 0., 0., 0., 0., 0.,\n",
            "         0., 0., 0., 0., 0., 0., 1., 0.],\n",
            "        [0., 0., 0., 0., 0., 0., 0., 0., 0., 0., 0., 0., 0., 0., 0., 0., 0., 0.,\n",
            "         0., 0., 0., 1., 0., 0., 0., 0.],\n",
            "        [0., 0., 0., 0., 0., 0., 0., 0., 1., 0., 0., 0., 0., 0., 0., 0., 0., 0.,\n",
            "         0., 0., 0., 0., 0., 0., 0., 0.],\n",
            "        [0., 0., 0., 0., 0., 0., 0., 0., 0., 0., 0., 0., 0., 1., 0., 0., 0., 0.,\n",
            "         0., 0., 0., 0., 0., 0., 0., 0.],\n",
            "        [0., 0., 0., 0., 0., 0., 1., 0., 0., 0., 0., 0., 0., 0., 0., 0., 0., 0.,\n",
            "         0., 0., 0., 0., 0., 0., 0., 0.],\n",
            "        [0., 0., 0., 0., 0., 0., 0., 0., 0., 0., 0., 0., 0., 0., 0., 0., 0., 0.,\n",
            "         0., 1., 0., 0., 0., 0., 0., 0.],\n",
            "        [0., 0., 0., 0., 0., 0., 0., 0., 0., 0., 0., 0., 0., 0., 0., 0., 0., 0.,\n",
            "         0., 0., 1., 0., 0., 0., 0., 0.],\n",
            "        [0., 1., 0., 0., 0., 0., 0., 0., 0., 0., 0., 0., 0., 0., 0., 0., 0., 0.,\n",
            "         0., 0., 0., 0., 0., 0., 0., 0.],\n",
            "        [0., 1., 0., 0., 0., 0., 0., 0., 0., 0., 0., 0., 0., 0., 0., 0., 0., 0.,\n",
            "         0., 0., 0., 0., 0., 0., 0., 0.]])\n"
          ]
        }
      ]
    },
    {
      "cell_type": "code",
      "source": [
        "##10. 레이블 데이터 샘플 확인하기\n",
        "print(Y[0])"
      ],
      "metadata": {
        "colab": {
          "base_uri": "https://localhost:8080/"
        },
        "id": "6pWDiH1SmYT_",
        "outputId": "ec7a3b00-6649-4c21-ba86-7e473b4785b6"
      },
      "execution_count": 91,
      "outputs": [
        {
          "output_type": "stream",
          "name": "stdout",
          "text": [
            "tensor([24, 21,  8, 13,  6, 19, 20,  1,  1, 25])\n"
          ]
        }
      ]
    },
    {
      "cell_type": "code",
      "source": [
        "##11. RNN 모델 구현\n",
        "\n",
        "##문제(6) : 기본 pytorch 인자 넣기 연습 + forward 채우기\n",
        "### 조건 : rnn layer 2개 쌓기 + 마지막은 fc layer\n",
        "### batch_fisrt 설정 필요할까? (유튜브 강의 참고)\n",
        "\n",
        "class Net(torch.nn.Module):\n",
        "  def __init__(self, input_dim, hidden_dim, layers):\n",
        "    super(Net, self).__init__()\n",
        "    self.rnn = torch.nn.RNN(input_dim, hidden_dim, num_layers = layers, batch_first = True)\n",
        "    self.fc = torch.nn.Linear(hidden_dim, input_dim)\n",
        "\n",
        "  def forward(self, x):\n",
        "    rnn_out, hidden = self.rnn(x)\n",
        "    rnn_out, hidden = self.rnn(rnn_out, hidden)\n",
        "    x = self.fc(rnn_out)\n",
        "    return x"
      ],
      "metadata": {
        "id": "-Ww22xu8mfUc"
      },
      "execution_count": 104,
      "outputs": []
    },
    {
      "cell_type": "code",
      "source": [
        "net = Net(vocab_size, hidden_size, 2)"
      ],
      "metadata": {
        "id": "No2GRvTpnLBl"
      },
      "execution_count": 105,
      "outputs": []
    },
    {
      "cell_type": "code",
      "source": [
        "##12. loss function\n",
        "criterion = torch.nn.CrossEntropyLoss()\n",
        "\n",
        "##13. optimizer\n",
        "optimizer = optim.Adam(net.parameters(), learning_rate)"
      ],
      "metadata": {
        "id": "9-zuJLeUnQLB"
      },
      "execution_count": 106,
      "outputs": []
    },
    {
      "cell_type": "code",
      "source": [
        "##14. 출력 크기 점검\n",
        "outputs = net(X)\n",
        "print(outputs.shape)"
      ],
      "metadata": {
        "colab": {
          "base_uri": "https://localhost:8080/"
        },
        "id": "z-RxRaiHnh9U",
        "outputId": "a1de7d16-e393-4dd4-bef9-35247e4c4c9d"
      },
      "execution_count": 107,
      "outputs": [
        {
          "output_type": "stream",
          "name": "stdout",
          "text": [
            "torch.Size([188, 10, 26])\n"
          ]
        }
      ]
    },
    {
      "cell_type": "code",
      "source": [
        "##15. Training 시작\n",
        "\n",
        "for i in range(100):\n",
        "    optimizer.zero_grad()\n",
        "    outputs = net(X)\n",
        "    ##문제(7) : outputs, Y 형태 그대로 넣으면 안되죠. view 함수를 이용해 loss값을 계산해봅시다.\n",
        "    loss = criterion(outputs.view(-1, vocab_size), Y.view(-1))\n",
        "    loss.backward()\n",
        "    optimizer.step()\n",
        "\n",
        "    #16. 예측결과 확인\n",
        "    results = outputs.argmax(dim=2)\n",
        "    predict_str = \"\"\n",
        "    for j, result in enumerate(results):\n",
        "        if j == 0: # 처음에는 예측 결과를 전부 가져오기\n",
        "            predict_str += ''.join([world_set[t] for t in result])\n",
        "        else: # 그 다음에는 마지막 글자만 반복 추가\n",
        "            predict_str += world_set[result[-1]]\n",
        "\n",
        "    print(predict_str)"
      ],
      "metadata": {
        "colab": {
          "base_uri": "https://localhost:8080/"
        },
        "id": "uxxrxCd2nwoo",
        "outputId": "4f54d616-62f6-4fa5-e093-84d09e4a8cbc"
      },
      "execution_count": 108,
      "outputs": [
        {
          "output_type": "stream",
          "name": "stdout",
          "text": [
            "otttttttttttttttttttttttttttttttttttttftttttttttttttttttttttttttttttttttttttttttttttttttttttttttttttttttttttttttttttttttttttttttttttttttttttttttttttttttttttttttttttttttttttttttttttttttttttttttttttt\n",
            "ooooooooooooooooooooooooooooooooooooooooooooooooooooooooooooooooooooooooooooooooooooooooooooooooooooooooooooooooooooooooooooooooooooooooooooooooooooooooooooooooooooooooooooooooooooooooooooooooooooo\n",
            "rrroooooooooooooooooooooooooooooooooooooooooooooooooooooooooooooooooooooooooooooooooooooooooooooooooooooooooooooooooooooooooooooooooooooooooooooooooooooooooooooooooooooooooooooooooooooooooooooooooo\n",
            "rrr                                                                                                                                                                                                  \n",
            "r                                                                                                                                                                                                    \n",
            "                                                                                                                                                                                                     \n",
            "                                                                                                                                                                                                     \n",
            "                                                                                                                                                                                                     \n",
            "                                                                                                                                                                                                     \n",
            "                                                                                                                                                                                                     \n",
            "                                                                                                                                                                                                     \n",
            "                                                                                                                                                                                                     \n",
            "                                                                                                                                                                                                     \n",
            "                                                                                                                                                                                                     \n",
            "                                                                                                                                                                                                     \n",
            "                                                                                                                                                                                                     \n",
            "                                                                                                                                                                                                     \n",
            "                                                                                                                                                                                                     \n",
            "                                                                                                                                                                                                     \n",
            "                                                                                                                                                                                                     \n",
            "                                                                                                                                                                                                     \n",
            "                                                                                                                                                                                                     \n",
            "                                  t t                             t                                            t                  t        t                                    t t                  \n",
            "     t         t                t t t                             t               t      t                     t t       t        t        t               t                    t t t t              \n",
            "     t         t     t          t t t            t                t               t      t t                   t t   t   t        t        t               t     t            t t t t t              \n",
            "     t   s t   t     t        t t t            t                  t         s t   t      t t                   t     t   t      t t        t         s t   t     t            t t t t t              \n",
            "     t t s t   t   t t t t    t t e                           t   t     t   s t   t        t          t        t     t t t      t t    t   t     t   s t   t   t t t     t  t t t   t t              \n",
            " e   t t s t   t e t t t t    t t e     t t              t    t   t e t t t s t   t t      t t     t  t    t   t     t t e    t t t e  t   t e t t t s t   t e t t t   t t  t t t   t t    e     t   \n",
            "ae   t t s t e t e t t t t    t t e     t t  t  s     n  t e  t   t e t t t s t e t t h    t t     t  t  t t t t e e t t e e  t t t e  t   t e t t t s t e t e t t e   t t  t t t e t t e  t  t  n   \n",
            "ae   t t s t e t e e t t t    t t e     t t  t es  ehes  t e  t   t e t t t s t e t t  e e t e     t  t  t t t t e e e t t es n t t e  t   t e t t t s t e t e e t e   t t et t t t t t en t  t en  t\n",
            "ae   t ths t e t e e t e t    t t es  t t t  t es  ehes  t e  t e t e t t ehs t e t  t e e t eh  e t  t  t t t t e e e t thes s   t e  t e t e t t ehs t e t e e t eh  t t et t t t t t en t  then  t\n",
            "aes  t ths t e t e e t e t    t t es  t   t  t es  thes  thet the t e   t ths t e t  t e e t es    th th t t   t t e e s ehes s t t en the t e   t ths t e t e e t es  t t  t t t t t t et t  thet   \n",
            "aet  t ths t e the e t t t    t theh  t   t  t es  thes  th t the t e   t ths t e t  the e t eh    th th t t s t t e e s ehes s t t et the t e   t ths t e the e t eh  t t  t t t t s t et t  thet   \n",
            "aet  t ths t e the e t t t  e t theh  t      t tse thes  th t the t e   t ths t e t  the e theh e   h  s t s s t t e e s ehes s t t et the t e   t ths t e the e theh  t t    t t t s t et t  thet   \n",
            "aet  t ths a e the e th  t  e t t eht t    t t tse thes  th t the t e   t ths a e t  the e theh e   h  t  et s t t e ehs ehes t t t et the t e   t ths a e the e theh  t th  et t t s t et t  thet   \n",
            "aet  t ths a e the e th  th   tht eht t    t t tse thes  th t the t e   t ths a e t  the e theh e   h  t   t s t t e ehs ehes t t t et the t e   t ths a e the e theh  t th  et t t s t et t  thes   \n",
            "aes  t tns a e the e th  th   tht eht t    t t tse thes  thet the t es  t tns a e th the e theh e   s  t   t s t t e ehs  hes t t t et the t es  t tns a e the e theh  t th  et t t s t  t t  thes   \n",
            "aes  t tns a e the e th  th e tht eht t t  t t tse thes  th t the t es  t tns a e t  the e theh e  ts  n   t s   the ess thes t t t et the t es  t tns a e the e theh  t th  et t t s t  t th thes   \n",
            "aesh t tns a e the e th  th e tht tht t t  hst tse thes  th t the t es  t tns a e t  the e th h e  ts  n t t s   the ess thes t t t et the t es  t tns a e the e theh  t th  et t t t t  t th thes   \n",
            "aesk t tns a e the e th  th e tht tht t t  hst tse thes  th t the t esk t tns a e th the e th h et ts hn t t s   the els thes t t thet the t esk t tns a e the e theh  t th het t t s t  t th thes  a\n",
            "aesk t tns a e the e th  tn e tht th  t t  hst tst thes  th t the t esk t ans a e th the e th h e ets hn t t t   the els thes t t thet the t esk t ans a e the e theh  t th het t t s t  t th thes   \n",
            "aesk t tns a e the e tht tn e tht th  t t  hs  tst thes  th t the t esk t tns a e th the e th h ea ts hn t t t   the els thes t t thet the t esk t tns a e the e theh  t th het t t s te t th thes  a\n",
            "aesk t tns a e the e th  tn e thn th  t t  hs  tst thes  th t the t esk t tns a e th the e th h ea ts hn t t t   the e s thes t t thet the t esk t tns a e the e theh  t th het t t s te t tl thes   \n",
            "resk t tns a e the e th  an e ton  st tht ahs  tst thes  th t the t esk t tns a e th the e th n ea ts hnst t s   the e s thes t t thet the t esk t tns a e the e thenh t th h t t t s te t tt thes   \n",
            " eck t tns are the e th ean e t n  st tht ahs  tht thenk th t the t esk t tns are th the e th n ea ts hn   tet   t e e s thes t t thet the t esk t tns are the e th n  t th h t t t s te t tt thes  a\n",
            " eck t tns are the e th ean e t n  st tht ahst tht thesk th t the t esk t tns are th the e th n et ts h st tet   th  e s thes t t thet the t esk t tns are the e th nh t th h t t t s te t nt thes   \n",
            "reck t tns are the e th ean e t n  ht tht anst tht thenk th t the t eck tatns are th the e th n et an h  t tet  et e e s thes t t th t the t eck tatns are the e th n  t th h t tat s te t nt thes   \n",
            "reck tatns are the e th ean e t n  ht tht ahst tht thenk th t the t eck tatns are th the e th n et an hos  tet  ethe e s thes t t th t the t eck tatns are the e th nk t th h t taw s te t nt thes   \n",
            "reck tatls are the e th  tn e t n  ht tot ahst tht thenk th n the t eck tatns are th the e th n et th hos  tat  ethe e s thes t t th t the t eck tatns are the e thans t th hot taw s te t nt thes   \n",
            "reck tatls are the e th ean e t n  nt tot aust tht thenk th n the t eck tatls are th the e th n et th hot  tat  ewhe ean thes t t t  t the t eck tatls are the e thans t th how tew s te tant thet n \n",
            "reck takls are the e th  an e non  nt tot aust tht thenk th n the t eck takls are th the e th n  t th hot  tato ewhe e s thes t t th t the t eck takls are the e thans t th how tew s te tant thet n \n",
            "reck takls are the e th  an e non  nt tot aust tht thenk th n the t ick takls are tl the e th n  t ts hot  tat   w e e s thes tat thet the t ick takls are the e thans t th how tei s ta tant thet n \n",
            "aeck talls are the e to ean e non  nt tot aust nht thenk th n the t ick takls are tl the e th n  t us hot  tat   w e e s thes tat toet the t ick takls are the e thank t th how tew s ta tant thet n \n",
            "aeck talls are the e to ran e non  ntctot aust nht thenk th n the t ick takls are tl the e th n  t us hot  tat   whe e s thes tat th t the t ick takls are the e thank t th how tewls ta tant thet n \n",
            "aeck talls are the e to ean e non  ntcyot aust t t thenk than the t ick tatls are tl the e th n et us hut  tat   w e ean thes tat toat the t ick tatls are the e toank t tn how tedls ta tant thea n \n",
            "aeck talls are the e to rar eeson  nt yot must tht thenk th n the t ick takls are tl the e th n it us out  tat   whareas thes tay th t the t ick takls are the e toank t ts how tadls ta tant then n \n",
            "aeck talls are the e to rar eeson  nt tot must tht thenk than the t ick talls are tl the e than et us out  tat   w ereas thes tat th t the t ick talls are the e toank t ts huw tadls ta tant then   \n",
            "aeck talls are the e to rar e son ant yot must tht thenk than the t ick talls are tl the e th n et us outt tat   whereas thes tat th t the t ick talls are the e thank t ts huw tadls ta tant then   \n",
            "reck talls are the e to rar e son ant yot must uht thenk than the taick talls are tl the e th n et us hutt tat   wherers thes tat th t the taick talls are the e thank t ts huw tadls ta tant thenk  \n",
            "reck talls are the e to rarae son and yot must uht thenk than the taick talls are tl the e than ep us hutt tat r wheraas thes uat t  t the taick talls are the e thank t us huw tadls ta tant then   \n",
            "reck talls are there to raraeason and yol must uht thenk than the taick talls are tl the e thaseep us hutt tat   whar rs this uat th t the taick talls are there thask t us how tadly ta tant thenkl \n",
            "reck walls are there to earaeason and yon must uht thenk than the taick talls are tl the e thaseep us hut, bat r whar as this uat t at the taick talls are there thask t us how tadly wa tant thenkl \n",
            "reck walls are there to earaeason and yon must uht thenk than the taick talls are tl the e th seec us hut, bat r whar as this bat th t the taick talls are there thask t bs how tadly wa tant thenkl \n",
            "reck walls are there tooearaeason and yon must uht thenk than the taick talls are tl the e th s ep us hut, bat r ther an this bat that the taick talls are there th skot us how badly wa tant thenkl \n",
            "rick walls are there tooearaeason and yon must uht thenk than the trick talls are tl the e th s et us hut, bat r ther an this bay that the trick talls are there th skow bs how badly we tant thenkl \n",
            "rick walls are there tooearreason and yon must uht thenk than the trick talls are tl there th s et us hut, bat rether an this bay that the trick talls are there th skow bs how badly we tant thenkl \n",
            "rick walls are there touearreason and you must uot thenk than the trick talls are tl there to seet us hut, bat r ther an this bay that the trick talls are there th skow bs how badly we tant thenkl \n",
            "rick walls are there touearreason and you must not thenk that the urick talls are tl there to saec us hot, bat r thae an this bay that the urick talls are there th skow bs how badly we tant thenkll\n",
            "rick walls are there tou arreason and you must not thenk than the brick talls are tl there th seet us hut, bat r therean this bay that the brick talls are there th skow us how badly we tant thenkll\n",
            "rick walls are there touearreason and you must not thenk that the brick talls are tl there to saec us hot, bat r thae an this bay th t the brick talls are there to skow us how badly we tant thenkll\n",
            "rick walls are there tou a reason and you must not thenk what the brick talls are tt there th seep us out, bat r t erean this bay that the brick talls are there th skow us how badly we tant thenkll\n",
            "rick walls are there to earreason and you must not thenk what the brick talls are tl there to seep us out, bat rathar an this bay that the brick talls are there to skow us how badly we tant thenkll\n",
            "rick walls arenthere to earreason and you must not thenk what the brick talls arentt there to saep us out, bat rathar an this bay that the brick talls arenthere to skow us how badly we tant thenkll\n",
            "rick walls are there tou a reason and you must not thenk what the brick talls are tt there to seep us out, bat rathe ean this bay that the brick talls are there to skow us how badly we tant thenkll\n",
            "rick walls are there tou a reason and you must not thenk what the brick walls are tt there to seep us out, bat rather an this bay that the brick walls are there to skow us how badly we tant thenksl\n",
            "rick walls arenthere torearreason and you must not thenk what the brick walls arentt there to seep us out, bat rathar un this bay that the brick walls arenthere to skow us how badly we want then sl\n",
            "rick walls are there tor a reason and you must not thenk what the brick walls are tt there to seep us out, bat ratheraun this bay that the brick walls are there to skow us how badly we want thenksl\n",
            "rick walls are there tor a reason and you must not thenk what the brick walls are tt there to seep us out, bat rathe ean this bay that the brick walls are there to skow us how badly we want thenksl\n",
            "rick walls arenthere toreaureason and you must not thenk what the brick walls arentt there to seep us out, bat rather in this bay that the brick walls arenthere to skow us how badly we want thenksl\n",
            "rick walls are there tor a reason and you must not thenk what the brick walls are tt there to seep us out, bat rather an this bay that the brick walls are there to skow us how badly we want thengsl\n",
            "rick walls are there tou a reason and you must not thenk what the brick walls are tt there to seep us out, bat rathe eun this bay that the brick walls are there to skow us how badly we want thenksl\n",
            "rick walls are there tor a reason and you must not thenk what the brick walls are tt there to seep us out, bat rather an this bay that the brick walls are there to skow us how badly we want thenksl\n",
            "rick walls arenthere torea reason and you must not thenk what the brick walls arentt there to seep us out, bat rathar in this bay that the brick walls arenthere to show us how badly we want thenksl\n",
            "rick walls are there tor a reason and you must not thenk what the brick walls are tt there to seep us out, bat rathe aun this bay that the brick walls are there to skow us how badly we want thenksl\n",
            "rick walls are there tor a reason and you must not thenk what the brick walls are tt there to seep us out, bat rathe aun this bay that the brick walls are there to skow us how badly we want thenksl\n",
            "rick walls are there torea reason and you must not thenk what the brick walls are tt there to seep us out, bat rather in this way that the brick walls are there to show us how badly we want thenksl\n",
            "rick walls are there torea reason and you must not thenk what the brick walls are tt there to seep us out, bat rather an this way that the brick walls are there to show us how badly we want thengsl\n",
            "rick walls are there tor a reason and you must not thenk what the brick walls are tt there to keep us out, bat rathe aan this way that the brick walls are there to khow us how badly we want thengsl\n",
            "rick walls are there tor a reason and you must not thenk what the brick walls are tt there to seep us out, bat rather an this way that the brick walls are there to show us how badly we want thengsl\n",
            "rick walls are there tor a reason and you must not thenk what the brick walls are tt there to seep us out, bat rathar in this way that the brick walls are there to show us how badly we want thengsl\n",
            "rick walls are there tor a reason and you must not thenk what the brick walls are tt there to seep us out, bat ratheraan this way that the brick walls are there to ssow us how badly we want thengsl\n",
            "rick walls are there tor a reason and you must not thenk what the brick walls are tt there to keep us out, bat rather an this way that the brick walls are there to khow us how badly we want thengsl\n",
            "rick walls are there tor a reason and you must not thenk what the brick walls are tt there to keep us out, bat rather in this way that the brick walls are there to khow us how badly we want thengsl\n",
            "rick walls are there tor a reason and you must not think what the brick walls are tt there to keep us out, bat rather an this way that the brick walls are there to ksow us how badly we want thengsl\n",
            "rick walls are there tor a reason and you must not think what the brick walls are tt there to keep us out, bat rather an this way that the brick walls are there to khow us how badly we want thengst\n",
            "rick walls are there tor a reason and you must not think that the brick walls are tt there to keep us out, bat rather in this way that the brick walls are there to khow us how badly we want thengsl\n",
            "rick walls are there tor a reason and you must not think that the brick walls are tt there to keep us out, bat rather an this way that the brick walls are there to khow us how badly we want thengsl\n",
            "rick walls are there tor a reason and you must not think that the brick walls are tt there to keep us out, bat rather un this way that the brick walls are there to khow us how badly we want thengst\n",
            "rick walls are there tor a reason and you must not think that the brick walls are 't there to keep us out, bat rather in this way that the brick walls are there to khow us how badly we want thengsl\n",
            "rick walls are there tor a reason and you must not think that the brick walls are tt there to keep us out, bat rather in this way that the brick walls are there to khow us how badly we want thengsl\n"
          ]
        }
      ]
    },
    {
      "cell_type": "code",
      "source": [
        "predict_str"
      ],
      "metadata": {
        "colab": {
          "base_uri": "https://localhost:8080/",
          "height": 54
        },
        "id": "8qUkbiw2t0Il",
        "outputId": "1b7523c5-523b-4f21-dfdc-d00e35b3930b"
      },
      "execution_count": 109,
      "outputs": [
        {
          "output_type": "execute_result",
          "data": {
            "text/plain": [
              "'rick walls are there tor a reason and you must not think that the brick walls are tt there to keep us out, bat rather in this way that the brick walls are there to khow us how badly we want thengsl'"
            ],
            "application/vnd.google.colaboratory.intrinsic+json": {
              "type": "string"
            }
          },
          "metadata": {},
          "execution_count": 109
        }
      ]
    },
    {
      "cell_type": "markdown",
      "source": [
        "결과가 어떤가요?? 마지막 에폭의 문장이 그럴싸한가요?"
      ],
      "metadata": {
        "id": "PkIzDTdyvTHz"
      }
    },
    {
      "cell_type": "markdown",
      "source": [
        "## Task2\n",
        "\n",
        "위 sentence는 제가 임의로 생성한 문장들입니다.\n",
        "\n",
        "마음에 드시는 문구 가져오셔서 문장이 어떻게 생성되는지 확인해보세요! \n",
        "\n",
        "영어가 아닌 한국어로 시도해보는 것도 좋겠죠? \n",
        "\n",
        "수정이 많이 필요(토큰화 등) 할 수 있으나 한번 시도해보시는 것 권장드립니다 :)\n",
        "\n",
        "위 베이스라인은 어디든 수정하셔도 좋고 조금 더 자연스러운 문장이 나올 수 있게 다양한 시도를 해보세요!\n",
        "\n",
        "조건 : 문장 3개 이상, 연결성이 있는 문장을 \" \" 으로 구분하여 ( )에 넣기"
      ],
      "metadata": {
        "id": "kN1zL8Dpvane"
      }
    },
    {
      "cell_type": "code",
      "source": [
        "!pip install konlpy"
      ],
      "metadata": {
        "id": "IKp-lKrjvXR9",
        "colab": {
          "base_uri": "https://localhost:8080/"
        },
        "outputId": "dad13723-1ae5-4883-b34c-71cf7fcd115f"
      },
      "execution_count": 24,
      "outputs": [
        {
          "output_type": "stream",
          "name": "stdout",
          "text": [
            "Looking in indexes: https://pypi.org/simple, https://us-python.pkg.dev/colab-wheels/public/simple/\n",
            "Collecting konlpy\n",
            "  Downloading konlpy-0.6.0-py2.py3-none-any.whl (19.4 MB)\n",
            "\u001b[2K     \u001b[90m━━━━━━━━━━━━━━━━━━━━━━━━━━━━━━━━━━━━━━━━\u001b[0m \u001b[32m19.4/19.4 MB\u001b[0m \u001b[31m75.3 MB/s\u001b[0m eta \u001b[36m0:00:00\u001b[0m\n",
            "\u001b[?25hCollecting JPype1>=0.7.0\n",
            "  Downloading JPype1-1.4.1-cp38-cp38-manylinux_2_12_x86_64.manylinux2010_x86_64.whl (465 kB)\n",
            "\u001b[2K     \u001b[90m━━━━━━━━━━━━━━━━━━━━━━━━━━━━━━━━━━━━━━\u001b[0m \u001b[32m465.6/465.6 KB\u001b[0m \u001b[31m45.3 MB/s\u001b[0m eta \u001b[36m0:00:00\u001b[0m\n",
            "\u001b[?25hRequirement already satisfied: lxml>=4.1.0 in /usr/local/lib/python3.8/dist-packages (from konlpy) (4.9.2)\n",
            "Requirement already satisfied: numpy>=1.6 in /usr/local/lib/python3.8/dist-packages (from konlpy) (1.22.4)\n",
            "Requirement already satisfied: packaging in /usr/local/lib/python3.8/dist-packages (from JPype1>=0.7.0->konlpy) (23.0)\n",
            "Installing collected packages: JPype1, konlpy\n",
            "Successfully installed JPype1-1.4.1 konlpy-0.6.0\n"
          ]
        }
      ]
    },
    {
      "cell_type": "code",
      "source": [
        "sentence = (\"머리가 깨질 것 같이 잠에서 일어나 악몽을 꾼 것 같은데 \"\n",
        "            \"나를 둘러싼 사람들 고장 나버린 내 몸을 두고 \"\n",
        "            \"저 돌팔이 의사가 사망 선고를 하네 \"\n",
        "            \"이렇게 죽을 순 없어 버킷리스트 다 해봐야 해 \"\n",
        "            \"짧은 인생 쥐뿔도 없는 게 스쳐 가네 파노라마처럼 \")"
      ],
      "metadata": {
        "id": "Vest9cmLSBVo"
      },
      "execution_count": 219,
      "outputs": []
    },
    {
      "cell_type": "code",
      "source": [
        "from konlpy.tag import Okt\n",
        "tokenizer = Okt()\n",
        "tok = tokenizer.morphs(sentence)\n",
        "tok"
      ],
      "metadata": {
        "colab": {
          "base_uri": "https://localhost:8080/"
        },
        "id": "N7bAjGiIUW-i",
        "outputId": "8cf0f08b-9254-4a5e-f2e5-66efec553a20"
      },
      "execution_count": 220,
      "outputs": [
        {
          "output_type": "execute_result",
          "data": {
            "text/plain": [
              "['머리',\n",
              " '가',\n",
              " '깨질',\n",
              " '것',\n",
              " '같이',\n",
              " '잠',\n",
              " '에서',\n",
              " '일어나',\n",
              " '악몽',\n",
              " '을',\n",
              " '꾼',\n",
              " '것',\n",
              " '같은데',\n",
              " '나를',\n",
              " '둘러싼',\n",
              " '사람',\n",
              " '들',\n",
              " '고장',\n",
              " '나',\n",
              " '버린',\n",
              " '내',\n",
              " '몸',\n",
              " '을',\n",
              " '두고',\n",
              " '저',\n",
              " '돌',\n",
              " '팔이',\n",
              " '의사',\n",
              " '가',\n",
              " '사망',\n",
              " '선고',\n",
              " '를',\n",
              " '하네',\n",
              " '이렇게',\n",
              " '죽',\n",
              " '을',\n",
              " '순',\n",
              " '없어',\n",
              " '버킷리스트',\n",
              " '다',\n",
              " '해봐야',\n",
              " '해',\n",
              " '짧은',\n",
              " '인생',\n",
              " '쥐뿔',\n",
              " '도',\n",
              " '없는',\n",
              " '게',\n",
              " '스쳐',\n",
              " '가네',\n",
              " '파노라마',\n",
              " '처럼']"
            ]
          },
          "metadata": {},
          "execution_count": 220
        }
      ]
    },
    {
      "cell_type": "code",
      "source": [
        "tok1 = list(set(tok))\n",
        "tok1"
      ],
      "metadata": {
        "colab": {
          "base_uri": "https://localhost:8080/"
        },
        "id": "BIe4tm7zUZwF",
        "outputId": "325cc7c3-06d0-4b2a-8f1d-872caf26ee72"
      },
      "execution_count": 221,
      "outputs": [
        {
          "output_type": "execute_result",
          "data": {
            "text/plain": [
              "['도',\n",
              " '깨질',\n",
              " '쥐뿔',\n",
              " '인생',\n",
              " '의사',\n",
              " '이렇게',\n",
              " '해',\n",
              " '고장',\n",
              " '두고',\n",
              " '돌',\n",
              " '둘러싼',\n",
              " '가',\n",
              " '같은데',\n",
              " '몸',\n",
              " '악몽',\n",
              " '들',\n",
              " '버킷리스트',\n",
              " '처럼',\n",
              " '나를',\n",
              " '짧은',\n",
              " '가네',\n",
              " '를',\n",
              " '일어나',\n",
              " '꾼',\n",
              " '내',\n",
              " '게',\n",
              " '같이',\n",
              " '저',\n",
              " '없어',\n",
              " '없는',\n",
              " '다',\n",
              " '것',\n",
              " '나',\n",
              " '을',\n",
              " '팔이',\n",
              " '에서',\n",
              " '머리',\n",
              " '해봐야',\n",
              " '사망',\n",
              " '스쳐',\n",
              " '순',\n",
              " '사람',\n",
              " '죽',\n",
              " '파노라마',\n",
              " '버린',\n",
              " '선고',\n",
              " '하네',\n",
              " '잠']"
            ]
          },
          "metadata": {},
          "execution_count": 221
        }
      ]
    },
    {
      "cell_type": "code",
      "source": [
        "vocab = {c: i for i, c in enumerate(tok1)}"
      ],
      "metadata": {
        "id": "wUE8z11pUenN"
      },
      "execution_count": 222,
      "outputs": []
    },
    {
      "cell_type": "code",
      "source": [
        "print(vocab)"
      ],
      "metadata": {
        "colab": {
          "base_uri": "https://localhost:8080/"
        },
        "id": "peS3Jq8qfAQE",
        "outputId": "37f995ca-ef1f-461f-ecf9-d5f779aa51a8"
      },
      "execution_count": 223,
      "outputs": [
        {
          "output_type": "stream",
          "name": "stdout",
          "text": [
            "{'도': 0, '깨질': 1, '쥐뿔': 2, '인생': 3, '의사': 4, '이렇게': 5, '해': 6, '고장': 7, '두고': 8, '돌': 9, '둘러싼': 10, '가': 11, '같은데': 12, '몸': 13, '악몽': 14, '들': 15, '버킷리스트': 16, '처럼': 17, '나를': 18, '짧은': 19, '가네': 20, '를': 21, '일어나': 22, '꾼': 23, '내': 24, '게': 25, '같이': 26, '저': 27, '없어': 28, '없는': 29, '다': 30, '것': 31, '나': 32, '을': 33, '팔이': 34, '에서': 35, '머리': 36, '해봐야': 37, '사망': 38, '스쳐': 39, '순': 40, '사람': 41, '죽': 42, '파노라마': 43, '버린': 44, '선고': 45, '하네': 46, '잠': 47}\n"
          ]
        }
      ]
    },
    {
      "cell_type": "code",
      "source": [
        "#3. 문자 집합 크기 확인\n",
        "\n",
        "vocab_size = len(vocab)\n",
        "print('문자 집합 크기 : {}'.format(vocab_size))"
      ],
      "metadata": {
        "colab": {
          "base_uri": "https://localhost:8080/"
        },
        "id": "H7EMa8R_hJiD",
        "outputId": "f7e70713-0610-49c2-c153-7fa2918655d5"
      },
      "execution_count": 224,
      "outputs": [
        {
          "output_type": "stream",
          "name": "stdout",
          "text": [
            "문자 집합 크기 : 48\n"
          ]
        }
      ]
    },
    {
      "cell_type": "code",
      "source": [
        "#4. 하이퍼 파라미터 설정(자유롭게 수정해보세요!)\n",
        "\n",
        "hidden_size = vocab_size # 같아야 하는 것 확인!\n",
        "sequence_length = 6  # 너무 길거나 너무 짧게 잡으면 안됩니다!\n",
        "learning_rate = 0.1"
      ],
      "metadata": {
        "id": "HrsdrYHphNTg"
      },
      "execution_count": 225,
      "outputs": []
    },
    {
      "cell_type": "code",
      "source": [
        "#5. seqence 길이 단위 자르기\n",
        "\n",
        "# 데이터 구성을 위한 리스트\n",
        "x_data = []\n",
        "y_data = []\n",
        "\n",
        "## 문제(2): 반복문 내에서의 인덱싱을 사용하여 sequence_length 값 단위로 샘플을 잘라 데이터 만들기, y_str은 x_str은 한 칸씩 쉬프트된 sequnce\n",
        "\n",
        "for i in range(0, len(tok) - sequence_length):\n",
        "  x_str = tok[i:i+sequence_length]\n",
        "  y_str = tok[i+1:i+sequence_length+1]\n",
        "  print(i, x_str, \"->\", y_str)\n",
        "\n",
        "  # x_str과 y_str이 문자집합에 해당하는 인덱스를 각각 x_data, y_data에 append\n",
        "  x_data.append([vocab[c] for c in x_str])\n",
        "  y_data.append([vocab[d] for d in y_str])"
      ],
      "metadata": {
        "colab": {
          "base_uri": "https://localhost:8080/"
        },
        "id": "VGcz1yrahPwI",
        "outputId": "a0ae59f5-ff52-493c-b0d6-dbe032bad48c"
      },
      "execution_count": 226,
      "outputs": [
        {
          "output_type": "stream",
          "name": "stdout",
          "text": [
            "0 ['머리', '가', '깨질', '것', '같이', '잠'] -> ['가', '깨질', '것', '같이', '잠', '에서']\n",
            "1 ['가', '깨질', '것', '같이', '잠', '에서'] -> ['깨질', '것', '같이', '잠', '에서', '일어나']\n",
            "2 ['깨질', '것', '같이', '잠', '에서', '일어나'] -> ['것', '같이', '잠', '에서', '일어나', '악몽']\n",
            "3 ['것', '같이', '잠', '에서', '일어나', '악몽'] -> ['같이', '잠', '에서', '일어나', '악몽', '을']\n",
            "4 ['같이', '잠', '에서', '일어나', '악몽', '을'] -> ['잠', '에서', '일어나', '악몽', '을', '꾼']\n",
            "5 ['잠', '에서', '일어나', '악몽', '을', '꾼'] -> ['에서', '일어나', '악몽', '을', '꾼', '것']\n",
            "6 ['에서', '일어나', '악몽', '을', '꾼', '것'] -> ['일어나', '악몽', '을', '꾼', '것', '같은데']\n",
            "7 ['일어나', '악몽', '을', '꾼', '것', '같은데'] -> ['악몽', '을', '꾼', '것', '같은데', '나를']\n",
            "8 ['악몽', '을', '꾼', '것', '같은데', '나를'] -> ['을', '꾼', '것', '같은데', '나를', '둘러싼']\n",
            "9 ['을', '꾼', '것', '같은데', '나를', '둘러싼'] -> ['꾼', '것', '같은데', '나를', '둘러싼', '사람']\n",
            "10 ['꾼', '것', '같은데', '나를', '둘러싼', '사람'] -> ['것', '같은데', '나를', '둘러싼', '사람', '들']\n",
            "11 ['것', '같은데', '나를', '둘러싼', '사람', '들'] -> ['같은데', '나를', '둘러싼', '사람', '들', '고장']\n",
            "12 ['같은데', '나를', '둘러싼', '사람', '들', '고장'] -> ['나를', '둘러싼', '사람', '들', '고장', '나']\n",
            "13 ['나를', '둘러싼', '사람', '들', '고장', '나'] -> ['둘러싼', '사람', '들', '고장', '나', '버린']\n",
            "14 ['둘러싼', '사람', '들', '고장', '나', '버린'] -> ['사람', '들', '고장', '나', '버린', '내']\n",
            "15 ['사람', '들', '고장', '나', '버린', '내'] -> ['들', '고장', '나', '버린', '내', '몸']\n",
            "16 ['들', '고장', '나', '버린', '내', '몸'] -> ['고장', '나', '버린', '내', '몸', '을']\n",
            "17 ['고장', '나', '버린', '내', '몸', '을'] -> ['나', '버린', '내', '몸', '을', '두고']\n",
            "18 ['나', '버린', '내', '몸', '을', '두고'] -> ['버린', '내', '몸', '을', '두고', '저']\n",
            "19 ['버린', '내', '몸', '을', '두고', '저'] -> ['내', '몸', '을', '두고', '저', '돌']\n",
            "20 ['내', '몸', '을', '두고', '저', '돌'] -> ['몸', '을', '두고', '저', '돌', '팔이']\n",
            "21 ['몸', '을', '두고', '저', '돌', '팔이'] -> ['을', '두고', '저', '돌', '팔이', '의사']\n",
            "22 ['을', '두고', '저', '돌', '팔이', '의사'] -> ['두고', '저', '돌', '팔이', '의사', '가']\n",
            "23 ['두고', '저', '돌', '팔이', '의사', '가'] -> ['저', '돌', '팔이', '의사', '가', '사망']\n",
            "24 ['저', '돌', '팔이', '의사', '가', '사망'] -> ['돌', '팔이', '의사', '가', '사망', '선고']\n",
            "25 ['돌', '팔이', '의사', '가', '사망', '선고'] -> ['팔이', '의사', '가', '사망', '선고', '를']\n",
            "26 ['팔이', '의사', '가', '사망', '선고', '를'] -> ['의사', '가', '사망', '선고', '를', '하네']\n",
            "27 ['의사', '가', '사망', '선고', '를', '하네'] -> ['가', '사망', '선고', '를', '하네', '이렇게']\n",
            "28 ['가', '사망', '선고', '를', '하네', '이렇게'] -> ['사망', '선고', '를', '하네', '이렇게', '죽']\n",
            "29 ['사망', '선고', '를', '하네', '이렇게', '죽'] -> ['선고', '를', '하네', '이렇게', '죽', '을']\n",
            "30 ['선고', '를', '하네', '이렇게', '죽', '을'] -> ['를', '하네', '이렇게', '죽', '을', '순']\n",
            "31 ['를', '하네', '이렇게', '죽', '을', '순'] -> ['하네', '이렇게', '죽', '을', '순', '없어']\n",
            "32 ['하네', '이렇게', '죽', '을', '순', '없어'] -> ['이렇게', '죽', '을', '순', '없어', '버킷리스트']\n",
            "33 ['이렇게', '죽', '을', '순', '없어', '버킷리스트'] -> ['죽', '을', '순', '없어', '버킷리스트', '다']\n",
            "34 ['죽', '을', '순', '없어', '버킷리스트', '다'] -> ['을', '순', '없어', '버킷리스트', '다', '해봐야']\n",
            "35 ['을', '순', '없어', '버킷리스트', '다', '해봐야'] -> ['순', '없어', '버킷리스트', '다', '해봐야', '해']\n",
            "36 ['순', '없어', '버킷리스트', '다', '해봐야', '해'] -> ['없어', '버킷리스트', '다', '해봐야', '해', '짧은']\n",
            "37 ['없어', '버킷리스트', '다', '해봐야', '해', '짧은'] -> ['버킷리스트', '다', '해봐야', '해', '짧은', '인생']\n",
            "38 ['버킷리스트', '다', '해봐야', '해', '짧은', '인생'] -> ['다', '해봐야', '해', '짧은', '인생', '쥐뿔']\n",
            "39 ['다', '해봐야', '해', '짧은', '인생', '쥐뿔'] -> ['해봐야', '해', '짧은', '인생', '쥐뿔', '도']\n",
            "40 ['해봐야', '해', '짧은', '인생', '쥐뿔', '도'] -> ['해', '짧은', '인생', '쥐뿔', '도', '없는']\n",
            "41 ['해', '짧은', '인생', '쥐뿔', '도', '없는'] -> ['짧은', '인생', '쥐뿔', '도', '없는', '게']\n",
            "42 ['짧은', '인생', '쥐뿔', '도', '없는', '게'] -> ['인생', '쥐뿔', '도', '없는', '게', '스쳐']\n",
            "43 ['인생', '쥐뿔', '도', '없는', '게', '스쳐'] -> ['쥐뿔', '도', '없는', '게', '스쳐', '가네']\n",
            "44 ['쥐뿔', '도', '없는', '게', '스쳐', '가네'] -> ['도', '없는', '게', '스쳐', '가네', '파노라마']\n",
            "45 ['도', '없는', '게', '스쳐', '가네', '파노라마'] -> ['없는', '게', '스쳐', '가네', '파노라마', '처럼']\n"
          ]
        }
      ]
    },
    {
      "cell_type": "code",
      "source": [
        "# 출력해서 한 칸씩 쉬프트된 것 확인하기!\n",
        "\n",
        "print(x_data[0])\n",
        "print(y_data[0])"
      ],
      "metadata": {
        "colab": {
          "base_uri": "https://localhost:8080/"
        },
        "id": "J85Sa6ZoiAb9",
        "outputId": "2b0a4ebc-68d3-4a9e-ceb0-d4beaeefc618"
      },
      "execution_count": 227,
      "outputs": [
        {
          "output_type": "stream",
          "name": "stdout",
          "text": [
            "[36, 11, 1, 31, 26, 47]\n",
            "[11, 1, 31, 26, 47, 35]\n"
          ]
        }
      ]
    },
    {
      "cell_type": "code",
      "source": [
        "##6. 입력 시퀀스에 대해 원핫인코딩 수행\n",
        "\n",
        "## 문제(4) : x_data를 원핫인코딩 > numpy의 eye를 쓸 수 있지 않을까?\n",
        "x_one_hot = [np.eye(len(vocab))[x] for x in x_data]\n",
        "\n",
        "##7. 입력 데이터, 레이블데이터 텐서로 변환\n",
        "\n",
        "## 문제(5) : x_one_hot과 y_data 텐서로 변환 : 둘 다 같은 형식의 텐서로 변환하면 될까?? (FloatTensor, LongTesor 중 맞는 것은?)\n",
        "X = torch.FloatTensor(x_one_hot)\n",
        "Y = torch.LongTensor(y_data)"
      ],
      "metadata": {
        "id": "KGOaQCWNiD1m"
      },
      "execution_count": 228,
      "outputs": []
    },
    {
      "cell_type": "code",
      "source": [
        "##8. 크기 확인\n",
        "print('훈련 데이터의 크기 : {}'.format(X.shape))\n",
        "print('레이블의 크기 : {}'.format(Y.shape))\n",
        "     "
      ],
      "metadata": {
        "colab": {
          "base_uri": "https://localhost:8080/"
        },
        "id": "DRlenVgSkLu-",
        "outputId": "1226cc19-40b0-4c3f-c5d3-1b4fb9e18143"
      },
      "execution_count": 229,
      "outputs": [
        {
          "output_type": "stream",
          "name": "stdout",
          "text": [
            "훈련 데이터의 크기 : torch.Size([46, 6, 48])\n",
            "레이블의 크기 : torch.Size([46, 6])\n"
          ]
        }
      ]
    },
    {
      "cell_type": "code",
      "source": [
        "##10. 레이블 데이터 샘플 확인하기\n",
        "print(Y[0])"
      ],
      "metadata": {
        "colab": {
          "base_uri": "https://localhost:8080/"
        },
        "id": "C_8nFlv_kPz8",
        "outputId": "ba464af3-035a-4026-ef55-304863d5e1d0"
      },
      "execution_count": 230,
      "outputs": [
        {
          "output_type": "stream",
          "name": "stdout",
          "text": [
            "tensor([11,  1, 31, 26, 47, 35])\n"
          ]
        }
      ]
    },
    {
      "cell_type": "code",
      "source": [
        "##11. RNN 모델 구현\n",
        "\n",
        "##문제(6) : 기본 pytorch 인자 넣기 연습 + forward 채우기\n",
        "### 조건 : rnn layer 2개 쌓기 + 마지막은 fc layer\n",
        "### batch_fisrt 설정 필요할까? (유튜브 강의 참고)\n",
        "\n",
        "class Net(torch.nn.Module):\n",
        "  def __init__(self, input_dim, hidden_dim, layers):\n",
        "    super(Net, self).__init__()\n",
        "    self.rnn = torch.nn.RNN(input_dim, hidden_dim, num_layers=layers, batch_first=True)\n",
        "    self.fc = torch.nn.Linear(hidden_dim, input_dim)\n",
        "  \n",
        "  def forward(self, x):\n",
        "    rnn_out, hidden = self.rnn(x)\n",
        "    x= self.fc(rnn_out)\n",
        "    return x"
      ],
      "metadata": {
        "id": "eKl6gIcqkRnr"
      },
      "execution_count": 231,
      "outputs": []
    },
    {
      "cell_type": "code",
      "source": [
        "net = Net(vocab_size, hidden_size, 2)\n",
        "##12. loss function\n",
        "criterion = torch.nn.CrossEntropyLoss()\n",
        "\n",
        "##13. optimizer\n",
        "optimizer = optim.Adam(net.parameters(), learning_rate)"
      ],
      "metadata": {
        "id": "LDtsorJ8kSoV"
      },
      "execution_count": 232,
      "outputs": []
    },
    {
      "cell_type": "code",
      "source": [
        "##14. 출력 크기 점검\n",
        "outputs = net(X)\n",
        "print(outputs.shape)"
      ],
      "metadata": {
        "colab": {
          "base_uri": "https://localhost:8080/"
        },
        "id": "uDF2CaCskVzH",
        "outputId": "07fdc958-f3a2-4320-bc64-b355b4044738"
      },
      "execution_count": 233,
      "outputs": [
        {
          "output_type": "stream",
          "name": "stdout",
          "text": [
            "torch.Size([46, 6, 48])\n"
          ]
        }
      ]
    },
    {
      "cell_type": "code",
      "source": [
        "\n",
        "##15. Training 시작\n",
        "\n",
        "for i in range(200):\n",
        "    optimizer.zero_grad()\n",
        "    outputs = net(X)\n",
        "    ##문제(7) : outputs, Y 형태 그대로 넣으면 안되죠. view 함수를 이용해 loss값을 계산해봅시다.\n",
        "    loss = criterion(outputs.view(-1, vocab_size), Y.view(-1))\n",
        "    loss.backward()\n",
        "    optimizer.step()\n",
        "\n",
        "    #16. 예측결과 확인\n",
        "    results = outputs.argmax(dim=2)\n",
        "    predict_str = \"\"\n",
        "    for j, result in enumerate(results):\n",
        "        if j == 0: # 처음에는 예측 결과를 전부 가져오기\n",
        "            predict_str = predict_str + ' '.join([world_set[t] for t in result]) +' '\n",
        "        else: # 그 다음에는 마지막 글자만 반복 추가\n",
        "            predict_str = predict_str +  world_set[result[-1]] + ' '"
      ],
      "metadata": {
        "id": "UDhZOJKXkZLz"
      },
      "execution_count": 238,
      "outputs": []
    },
    {
      "cell_type": "markdown",
      "source": [
        "2차시도)"
      ],
      "metadata": {
        "id": "NNfrpPwLmEix"
      }
    },
    {
      "cell_type": "code",
      "source": [
        "predict_str"
      ],
      "metadata": {
        "colab": {
          "base_uri": "https://localhost:8080/",
          "height": 54
        },
        "id": "9BFivEdJkbIH",
        "outputId": "6502a6b6-b491-496c-a704-cfc1d00e4147"
      },
      "execution_count": 239,
      "outputs": [
        {
          "output_type": "execute_result",
          "data": {
            "text/plain": [
              "'가 깨질 것 같이 잠 에서 일어나 악몽 을 꾼 것 같은데 나를 둘러싼 사람 들 고장 나 버린 내 몸 을 두고 저 돌 팔이 의사 가 사망 선고 를 하네 이렇게 죽 을 순 없어 버킷리스트 다 해봐야 해 짧은 인생 쥐뿔 도 없는 게 스쳐 가네 파노라마 처럼 '"
            ],
            "application/vnd.google.colaboratory.intrinsic+json": {
              "type": "string"
            }
          },
          "metadata": {},
          "execution_count": 239
        }
      ]
    },
    {
      "cell_type": "markdown",
      "source": [
        "1차시도)"
      ],
      "metadata": {
        "id": "5mSp4zolmB87"
      }
    },
    {
      "cell_type": "code",
      "source": [
        "predict_str"
      ],
      "metadata": {
        "colab": {
          "base_uri": "https://localhost:8080/",
          "height": 54
        },
        "id": "f1Z4ZZXKlj_z",
        "outputId": "d5b28b43-9d04-4548-d1ed-4675ce5c2c7e"
      },
      "execution_count": 235,
      "outputs": [
        {
          "output_type": "execute_result",
          "data": {
            "text/plain": [
              "'가깨질것같이잠에서일어나악몽을꾼것같은데나를둘러싼사람들고장나버린내몸을두고저돌팔이의사가사망선고를하네이렇게죽을순없어버킷리스트다해봐야해짧은인생쥐뿔도없는게스쳐가네파노라마처럼'"
            ],
            "application/vnd.google.colaboratory.intrinsic+json": {
              "type": "string"
            }
          },
          "metadata": {},
          "execution_count": 235
        }
      ]
    },
    {
      "cell_type": "markdown",
      "source": [
        "ㅜㅜ  일어날게유\n"
      ],
      "metadata": {
        "id": "UtNK8eSnkiP4"
      }
    },
    {
      "cell_type": "markdown",
      "source": [
        "#### 참고"
      ],
      "metadata": {
        "id": "p1zqm5__kkYB"
      }
    },
    {
      "cell_type": "code",
      "source": [
        "##9.원핫인코딩 결과 샘플 확인하기\n",
        "print(X[0])"
      ],
      "metadata": {
        "colab": {
          "base_uri": "https://localhost:8080/"
        },
        "id": "6jgvXBvOkNqc",
        "outputId": "30630f24-0f29-4726-a172-8ea55d244780"
      },
      "execution_count": 206,
      "outputs": [
        {
          "output_type": "stream",
          "name": "stdout",
          "text": [
            "tensor([[1., 0., 0., 0., 0., 0., 0., 0., 0., 0., 0., 0., 0., 0., 0., 0., 0., 0.,\n",
            "         0., 0., 0., 0., 0., 0., 0., 0., 0., 0., 0., 0., 0., 0., 0., 0., 0., 0.,\n",
            "         0., 0., 0., 0., 0., 0., 0., 0., 0., 0., 0., 0.],\n",
            "        [0., 1., 0., 0., 0., 0., 0., 0., 0., 0., 0., 0., 0., 0., 0., 0., 0., 0.,\n",
            "         0., 0., 0., 0., 0., 0., 0., 0., 0., 0., 0., 0., 0., 0., 0., 0., 0., 0.,\n",
            "         0., 0., 0., 0., 0., 0., 0., 0., 0., 0., 0., 0.],\n",
            "        [0., 0., 1., 0., 0., 0., 0., 0., 0., 0., 0., 0., 0., 0., 0., 0., 0., 0.,\n",
            "         0., 0., 0., 0., 0., 0., 0., 0., 0., 0., 0., 0., 0., 0., 0., 0., 0., 0.,\n",
            "         0., 0., 0., 0., 0., 0., 0., 0., 0., 0., 0., 0.],\n",
            "        [0., 0., 0., 1., 0., 0., 0., 0., 0., 0., 0., 0., 0., 0., 0., 0., 0., 0.,\n",
            "         0., 0., 0., 0., 0., 0., 0., 0., 0., 0., 0., 0., 0., 0., 0., 0., 0., 0.,\n",
            "         0., 0., 0., 0., 0., 0., 0., 0., 0., 0., 0., 0.],\n",
            "        [0., 0., 0., 0., 1., 0., 0., 0., 0., 0., 0., 0., 0., 0., 0., 0., 0., 0.,\n",
            "         0., 0., 0., 0., 0., 0., 0., 0., 0., 0., 0., 0., 0., 0., 0., 0., 0., 0.,\n",
            "         0., 0., 0., 0., 0., 0., 0., 0., 0., 0., 0., 0.],\n",
            "        [0., 0., 0., 0., 0., 1., 0., 0., 0., 0., 0., 0., 0., 0., 0., 0., 0., 0.,\n",
            "         0., 0., 0., 0., 0., 0., 0., 0., 0., 0., 0., 0., 0., 0., 0., 0., 0., 0.,\n",
            "         0., 0., 0., 0., 0., 0., 0., 0., 0., 0., 0., 0.]])\n"
          ]
        }
      ]
    },
    {
      "cell_type": "code",
      "source": [
        "vocab_size = len(vocab)"
      ],
      "metadata": {
        "id": "5cFQ6qHwfFgD"
      },
      "execution_count": null,
      "outputs": []
    },
    {
      "cell_type": "code",
      "source": [
        "print('문자 집합 크기 : {}'.format(vocab_size))"
      ],
      "metadata": {
        "colab": {
          "base_uri": "https://localhost:8080/"
        },
        "id": "BWTeAlCffI0m",
        "outputId": "356e4440-d495-4640-8e77-ca5aba8b8fc7"
      },
      "execution_count": 155,
      "outputs": [
        {
          "output_type": "stream",
          "name": "stdout",
          "text": [
            "문자 집합 크기 : 48\n"
          ]
        }
      ]
    },
    {
      "cell_type": "code",
      "source": [
        "index2word = {v: k for k, v in word2index.items()}\n",
        "print(index2word)"
      ],
      "metadata": {
        "colab": {
          "base_uri": "https://localhost:8080/"
        },
        "id": "QosRqylNUjSb",
        "outputId": "125ce5b3-3d80-4159-93e5-e2ebef920f91"
      },
      "execution_count": 31,
      "outputs": [
        {
          "output_type": "stream",
          "name": "stdout",
          "text": [
            "{0: '도', 1: '깨질', 2: '쥐뿔', 3: '인생', 4: '의사', 5: '이렇게', 6: '해', 7: '고장', 8: '두고', 9: '돌', 10: '둘러싼', 11: '가', 12: '같은데', 13: '몸', 14: '악몽', 15: '들', 16: '버킷리스트', 17: '처럼', 18: '나를', 19: '짧은', 20: '가네', 21: '를', 22: '일어나', 23: '꾼', 24: '내', 25: '게', 26: '같이', 27: '저', 28: '없어', 29: '없는', 30: '다', 31: '것', 32: '나', 33: '을', 34: '팔이', 35: '에서', 36: '머리', 37: '해봐야', 38: '사망', 39: '스쳐', 40: '순', 41: '사람', 42: '죽', 43: '파노라마', 44: '버린', 45: '선고', 46: '하네', 47: '잠'}\n"
          ]
        }
      ]
    },
    {
      "cell_type": "code",
      "source": [
        "def build_data(word, word2index):\n",
        "    encoded = [word2index[token] for token in word]  \n",
        "    input_seq, label_seq = encoded[:-1], encoded[1:] \n",
        "    input_seq = torch.LongTensor(input_seq).unsqueeze(0)\n",
        "    label_seq = torch.LongTensor(label_seq).unsqueeze(0) \n",
        "    return input_seq, label_seq"
      ],
      "metadata": {
        "id": "XIXDjdr5UlVa"
      },
      "execution_count": 33,
      "outputs": []
    },
    {
      "cell_type": "code",
      "source": [
        "X, Y = build_data(word, word2index)"
      ],
      "metadata": {
        "id": "cuI0tCZlUpD2"
      },
      "execution_count": 34,
      "outputs": []
    },
    {
      "cell_type": "code",
      "source": [
        "print(X)\n",
        "print(Y)"
      ],
      "metadata": {
        "colab": {
          "base_uri": "https://localhost:8080/"
        },
        "id": "lxtS8tJMUqKK",
        "outputId": "8b13e601-3fc1-496c-8c5f-a3b60910c0f8"
      },
      "execution_count": 36,
      "outputs": [
        {
          "output_type": "stream",
          "name": "stdout",
          "text": [
            "tensor([[36, 11,  1, 31, 26, 47, 35, 22, 14, 33, 23, 31, 12, 18, 10, 41, 15,  7,\n",
            "         32, 44, 24, 13, 33,  8, 27,  9, 34,  4, 11, 38, 45, 21, 46,  5, 42, 33,\n",
            "         40, 28, 16, 30, 37,  6, 19,  3,  2,  0, 29, 25, 39, 20, 43]])\n",
            "tensor([[11,  1, 31, 26, 47, 35, 22, 14, 33, 23, 31, 12, 18, 10, 41, 15,  7, 32,\n",
            "         44, 24, 13, 33,  8, 27,  9, 34,  4, 11, 38, 45, 21, 46,  5, 42, 33, 40,\n",
            "         28, 16, 30, 37,  6, 19,  3,  2,  0, 29, 25, 39, 20, 43, 17]])\n"
          ]
        }
      ]
    },
    {
      "cell_type": "code",
      "source": [
        "class Net(nn.Module):\n",
        "    def __init__(self, vocab_size, input_size, hidden_size, batch_first=True):\n",
        "        super(Net, self).__init__()\n",
        "        self.embedding_layer = nn.Embedding(num_embeddings=vocab_size, \n",
        "                                            embedding_dim=input_size)\n",
        "        self.rnn_layer = nn.RNN(input_size, hidden_size, \n",
        "                                batch_first=batch_first)\n",
        "        self.linear = nn.Linear(hidden_size, vocab_size) \n",
        "\n",
        "    def forward(self, x):\n",
        "        output = self.embedding_layer(x)\n",
        "        output, hidden = self.rnn_layer(output)\n",
        "        output = self.linear(output)\n",
        "        return output.view(-1, output.size(2))"
      ],
      "metadata": {
        "id": "qFtfvTqEUrnF"
      },
      "execution_count": 37,
      "outputs": []
    },
    {
      "cell_type": "code",
      "source": [
        "vocab_size = len(word2index)  \n",
        "input_size = 5  \n",
        "hidden_size = 20  "
      ],
      "metadata": {
        "id": "zYKCFod-UxzG"
      },
      "execution_count": 38,
      "outputs": []
    },
    {
      "cell_type": "code",
      "source": [
        "model = Net(vocab_size, input_size, hidden_size, batch_first=True)\n",
        "loss_function = nn.CrossEntropyLoss() \n",
        "optimizer = optim.Adam(params=model.parameters())"
      ],
      "metadata": {
        "id": "Cp4K9nf7UyNC"
      },
      "execution_count": 39,
      "outputs": []
    },
    {
      "cell_type": "code",
      "source": [
        "output = model(X)\n",
        "print(output)"
      ],
      "metadata": {
        "colab": {
          "base_uri": "https://localhost:8080/"
        },
        "id": "dbf2fOs6U0wc",
        "outputId": "b87b5a26-a32c-401b-99e0-86203b7fbb2a"
      },
      "execution_count": 40,
      "outputs": [
        {
          "output_type": "stream",
          "name": "stdout",
          "text": [
            "tensor([[-0.0859, -0.1996,  0.1208,  ...,  0.0301, -0.0924, -0.4103],\n",
            "        [-0.0472, -0.4616, -0.1328,  ..., -0.0172,  0.0017, -0.0918],\n",
            "        [-0.2310, -0.5606, -0.2051,  ..., -0.0029, -0.0025, -0.4780],\n",
            "        ...,\n",
            "        [-0.0504, -0.0877,  0.2116,  ..., -0.1160, -0.1601, -0.4679],\n",
            "        [ 0.0504, -0.4454,  0.3347,  ..., -0.0036, -0.2423, -0.0293],\n",
            "        [-0.0881, -0.5690, -0.3625,  ...,  0.0354, -0.3054,  0.1940]],\n",
            "       grad_fn=<ViewBackward0>)\n"
          ]
        }
      ]
    },
    {
      "cell_type": "code",
      "source": [
        "decode = lambda y: [index2word.get(x) for x in y]"
      ],
      "metadata": {
        "id": "rG9oaoxEU4iM"
      },
      "execution_count": 41,
      "outputs": []
    },
    {
      "cell_type": "code",
      "source": [
        "for step in range(201):\n",
        "    optimizer.zero_grad()\n",
        "    output = model(X)\n",
        "    loss = loss_function(output, Y.view(-1))\n",
        "    loss.backward()\n",
        "    optimizer.step()\n",
        "    if step % 40 == 0:\n",
        "        print(\"[{:02d}/201] {:.4f} \".format(step+1, loss))\n",
        "        pred = output.softmax(-1).argmax(-1).tolist()\n",
        "        print(\" \".join([\"Repeat\"] + decode(pred)))\n",
        "        print()"
      ],
      "metadata": {
        "colab": {
          "base_uri": "https://localhost:8080/"
        },
        "id": "adaE-s2ZU7Qr",
        "outputId": "6019429f-2d15-484e-a4de-e417b2e1b616"
      },
      "execution_count": 42,
      "outputs": [
        {
          "output_type": "stream",
          "name": "stdout",
          "text": [
            "[01/201] 3.9591 \n",
            "Repeat 버킷리스트 가네 나 나 들 죽 인생 일어나 죽 가네 없어 가네 들 가네 인생 가네 같은데 일어나 버킷리스트 없어 가네 들 버킷리스트 같은데 일어나 일어나 를 일어나 버킷리스트 같은데 일어나 없어 가네 없어 죽 버킷리스트 인생 없어 없어 없어 인생 죽 죽 가네 해봐야 없어 나 해봐야 해봐야 가네 없어\n",
            "\n",
            "[41/201] 3.5915 \n",
            "Repeat 가 팔이 것 나 버킷리스트 돌 인생 돌 순 가네 버킷리스트 가네 나를 돌 버킷리스트 들 고장 돌 버킷리스트 가네 나 들 것 나를 돌 팔이 나를 돌 팔이 나를 없는 인생 스쳐 죽 죽 것 것 버킷리스트 죽 죽 인생 죽 죽 가네 나를 없는 팔이 스쳐 없는 쥐뿔 같은데\n",
            "\n",
            "[81/201] 3.0494 \n",
            "Repeat 가 팔이 나를 돌 잠 나를 일어나 악몽 고장 가네 버킷리스트 같은데 나를 둘러싼 버린 들 고장 가네 을 내 나 들 것 나를 돌 팔이 나를 돌 잠 나를 없는 인생 스쳐 죽 을 순 둘러싼 버킷리스트 을 쥐뿔 나를 죽 을 쥐뿔 스쳐 없는 팔이 스쳐 없는 을 처럼\n",
            "\n",
            "[121/201] 2.4809 \n",
            "Repeat 가 팔이 것 돌 잠 에서 일어나 악몽 을 꾼 버킷리스트 같은데 나를 둘러싼 버린 들 고장 둘러싼 버린 내 몸 을 두고 나를 돌 팔이 나를 둘러싼 잠 나를 죽 을 이렇게 죽 을 순 둘러싼 버킷리스트 다 쥐뿔 해 짧은 을 쥐뿔 스쳐 없는 팔이 스쳐 없는 을 처럼\n",
            "\n",
            "[161/201] 1.9392 \n",
            "Repeat 가 깨질 것 돌 잠 에서 일어나 악몽 을 꾼 버킷리스트 같은데 나를 둘러싼 버린 들 고장 가네 버린 내 몸 을 두고 저 돌 팔이 의사 둘러싼 사망 선고 죽 을 이렇게 죽 을 순 없어 버킷리스트 다 해봐야 해 짧은 을 쥐뿔 도 없는 게 스쳐 없는 을 처럼\n",
            "\n",
            "[201/201] 1.4433 \n",
            "Repeat 가 깨질 것 같이 잠 에서 일어나 악몽 을 꾼 것 같은데 나를 둘러싼 사람 들 고장 나 버린 내 몸 을 두고 저 돌 팔이 의사 둘러싼 사망 선고 죽 하네 이렇게 죽 을 순 없어 버킷리스트 다 해봐야 해 짧은 인생 쥐뿔 도 없는 게 스쳐 가네 파노라마 처럼\n",
            "\n"
          ]
        }
      ]
    },
    {
      "cell_type": "code",
      "source": [],
      "metadata": {
        "id": "3wAdlYoycp0T"
      },
      "execution_count": null,
      "outputs": []
    },
    {
      "cell_type": "markdown",
      "source": [
        "# task1 method"
      ],
      "metadata": {
        "id": "Lsd5MeTwcc6a"
      }
    },
    {
      "cell_type": "code",
      "source": [
        "#2. 문자 집합 만들기\n",
        "world_set = list(set(sentence))\n",
        "\n",
        "## 문제(1): 각 문자에 정수 인코딩 (공백도 하나의 원소로 포함)\n",
        "vocab = {char: idx for idx, char in enumerate(world_set)}"
      ],
      "metadata": {
        "id": "yUZS5uRKcfEO"
      },
      "execution_count": 148,
      "outputs": []
    },
    {
      "cell_type": "code",
      "source": [
        "world_set"
      ],
      "metadata": {
        "colab": {
          "base_uri": "https://localhost:8080/"
        },
        "id": "8EhTzdGocgKr",
        "outputId": "ad834f7e-fda5-4b46-a999-84a3780d5e06"
      },
      "execution_count": 149,
      "outputs": [
        {
          "output_type": "execute_result",
          "data": {
            "text/plain": [
              "['둘',\n",
              " '도',\n",
              " '는',\n",
              " '서',\n",
              " '악',\n",
              " '스',\n",
              " '이',\n",
              " '에',\n",
              " '의',\n",
              " '야',\n",
              " ' ',\n",
              " '같',\n",
              " '쥐',\n",
              " '봐',\n",
              " '해',\n",
              " '돌',\n",
              " '가',\n",
              " '망',\n",
              " '럼',\n",
              " '몸',\n",
              " '선',\n",
              " '없',\n",
              " '쳐',\n",
              " '네',\n",
              " '질',\n",
              " '들',\n",
              " '파',\n",
              " '린',\n",
              " '노',\n",
              " '고',\n",
              " '뿔',\n",
              " '팔',\n",
              " '를',\n",
              " '버',\n",
              " '내',\n",
              " '꾼',\n",
              " '하',\n",
              " '러',\n",
              " '일',\n",
              " '게',\n",
              " '몽',\n",
              " '저',\n",
              " '렇',\n",
              " '트',\n",
              " '짧',\n",
              " '생',\n",
              " '리',\n",
              " '다',\n",
              " '인',\n",
              " '것',\n",
              " '킷',\n",
              " '라',\n",
              " '나',\n",
              " '처',\n",
              " '을',\n",
              " '은',\n",
              " '두',\n",
              " '싼',\n",
              " '순',\n",
              " '죽',\n",
              " '어',\n",
              " '마',\n",
              " '데',\n",
              " '장',\n",
              " '깨',\n",
              " '사',\n",
              " '람',\n",
              " '머',\n",
              " '잠']"
            ]
          },
          "metadata": {},
          "execution_count": 149
        }
      ]
    },
    {
      "cell_type": "code",
      "source": [
        "print(vocab)\n",
        "\n",
        "\n",
        "#3. 문자 집합 크기 확인\n",
        "vocab_size = len(vocab)\n",
        "print('문자 집합 크기 : {}'.format(vocab_size))"
      ],
      "metadata": {
        "colab": {
          "base_uri": "https://localhost:8080/"
        },
        "id": "8mB_EpH1ct3x",
        "outputId": "4241110f-921d-44f7-9086-d6b576e4e8c6"
      },
      "execution_count": 136,
      "outputs": [
        {
          "output_type": "stream",
          "name": "stdout",
          "text": [
            "['도', '깨질', '쥐뿔', '인생', '의사', '이렇게', '해', '고장', '두고', '돌', '둘러싼', '가', '같은데', '몸', '악몽', '들', '버킷리스트', '처럼', '나를', '짧은', '가네', '를', '일어나', '꾼', '내', '게', '같이', '저', '없어', '없는', '다', '것', '나', '을', '팔이', '에서', '머리', '해봐야', '사망', '스쳐', '순', '사람', '죽', '파노라마', '버린', '선고', '하네', '잠']\n",
            "문자 집합 크기 : 48\n"
          ]
        }
      ]
    },
    {
      "cell_type": "code",
      "source": [
        "hidden_size = vocab_size \n",
        "sequence_length = 10\n",
        "learning_rate = 0.01"
      ],
      "metadata": {
        "id": "JwAYXpKyU99Q"
      },
      "execution_count": 156,
      "outputs": []
    },
    {
      "cell_type": "code",
      "source": [
        "x_data = []\n",
        "y_data = []\n",
        "\n",
        "for i in range(0, len(vocab) - sequence_length):\n",
        "  x_str = vocab[i:i+sequence_length]\n",
        "  y_str = vocab[i+1:i+sequence_length+1]\n",
        "  print(i, x_str, \"->\", y_str)\n",
        "\n",
        "  x_data.append([word2index[c] for c in x_str])\n",
        "  y_data.append([word2index[d] for d in y_str])"
      ],
      "metadata": {
        "colab": {
          "base_uri": "https://localhost:8080/",
          "height": 248
        },
        "id": "bnV87I5VU_mc",
        "outputId": "2a054ef2-17f5-42dc-cf19-f02ff7fd4b9f"
      },
      "execution_count": 157,
      "outputs": [
        {
          "output_type": "error",
          "ename": "TypeError",
          "evalue": "ignored",
          "traceback": [
            "\u001b[0;31m---------------------------------------------------------------------------\u001b[0m",
            "\u001b[0;31mTypeError\u001b[0m                                 Traceback (most recent call last)",
            "\u001b[0;32m<ipython-input-157-63b0c14086cd>\u001b[0m in \u001b[0;36m<module>\u001b[0;34m\u001b[0m\n\u001b[1;32m      3\u001b[0m \u001b[0;34m\u001b[0m\u001b[0m\n\u001b[1;32m      4\u001b[0m \u001b[0;32mfor\u001b[0m \u001b[0mi\u001b[0m \u001b[0;32min\u001b[0m \u001b[0mrange\u001b[0m\u001b[0;34m(\u001b[0m\u001b[0;36m0\u001b[0m\u001b[0;34m,\u001b[0m \u001b[0mlen\u001b[0m\u001b[0;34m(\u001b[0m\u001b[0mvocab\u001b[0m\u001b[0;34m)\u001b[0m \u001b[0;34m-\u001b[0m \u001b[0msequence_length\u001b[0m\u001b[0;34m)\u001b[0m\u001b[0;34m:\u001b[0m\u001b[0;34m\u001b[0m\u001b[0;34m\u001b[0m\u001b[0m\n\u001b[0;32m----> 5\u001b[0;31m   \u001b[0mx_str\u001b[0m \u001b[0;34m=\u001b[0m \u001b[0mvocab\u001b[0m\u001b[0;34m[\u001b[0m\u001b[0mi\u001b[0m\u001b[0;34m:\u001b[0m\u001b[0mi\u001b[0m\u001b[0;34m+\u001b[0m\u001b[0msequence_length\u001b[0m\u001b[0;34m]\u001b[0m\u001b[0;34m\u001b[0m\u001b[0;34m\u001b[0m\u001b[0m\n\u001b[0m\u001b[1;32m      6\u001b[0m   \u001b[0my_str\u001b[0m \u001b[0;34m=\u001b[0m \u001b[0mvocab\u001b[0m\u001b[0;34m[\u001b[0m\u001b[0mi\u001b[0m\u001b[0;34m+\u001b[0m\u001b[0;36m1\u001b[0m\u001b[0;34m:\u001b[0m\u001b[0mi\u001b[0m\u001b[0;34m+\u001b[0m\u001b[0msequence_length\u001b[0m\u001b[0;34m+\u001b[0m\u001b[0;36m1\u001b[0m\u001b[0;34m]\u001b[0m\u001b[0;34m\u001b[0m\u001b[0;34m\u001b[0m\u001b[0m\n\u001b[1;32m      7\u001b[0m   \u001b[0mprint\u001b[0m\u001b[0;34m(\u001b[0m\u001b[0mi\u001b[0m\u001b[0;34m,\u001b[0m \u001b[0mx_str\u001b[0m\u001b[0;34m,\u001b[0m \u001b[0;34m\"->\"\u001b[0m\u001b[0;34m,\u001b[0m \u001b[0my_str\u001b[0m\u001b[0;34m)\u001b[0m\u001b[0;34m\u001b[0m\u001b[0;34m\u001b[0m\u001b[0m\n",
            "\u001b[0;31mTypeError\u001b[0m: unhashable type: 'slice'"
          ]
        }
      ]
    },
    {
      "cell_type": "code",
      "source": [
        "print(x_data[0])\n",
        "print(y_data[0])"
      ],
      "metadata": {
        "colab": {
          "base_uri": "https://localhost:8080/"
        },
        "id": "LiZihL-CVBzL",
        "outputId": "4567272d-96b3-40f7-ccf1-597a5b925e64"
      },
      "execution_count": 45,
      "outputs": [
        {
          "output_type": "stream",
          "name": "stdout",
          "text": [
            "[0, 1, 2, 3, 4, 5, 6, 7, 8, 9]\n",
            "[1, 2, 3, 4, 5, 6, 7, 8, 9, 10]\n"
          ]
        }
      ]
    },
    {
      "cell_type": "code",
      "source": [
        "x_data"
      ],
      "metadata": {
        "colab": {
          "base_uri": "https://localhost:8080/"
        },
        "id": "xBMzfB2sVD1b",
        "outputId": "d5833fad-7973-4578-9ddc-b636b4cd7f7c"
      },
      "execution_count": 46,
      "outputs": [
        {
          "output_type": "execute_result",
          "data": {
            "text/plain": [
              "[[0, 1, 2, 3, 4, 5, 6, 7, 8, 9],\n",
              " [1, 2, 3, 4, 5, 6, 7, 8, 9, 10],\n",
              " [2, 3, 4, 5, 6, 7, 8, 9, 10, 11],\n",
              " [3, 4, 5, 6, 7, 8, 9, 10, 11, 12],\n",
              " [4, 5, 6, 7, 8, 9, 10, 11, 12, 13],\n",
              " [5, 6, 7, 8, 9, 10, 11, 12, 13, 14],\n",
              " [6, 7, 8, 9, 10, 11, 12, 13, 14, 15],\n",
              " [7, 8, 9, 10, 11, 12, 13, 14, 15, 16],\n",
              " [8, 9, 10, 11, 12, 13, 14, 15, 16, 17],\n",
              " [9, 10, 11, 12, 13, 14, 15, 16, 17, 18],\n",
              " [10, 11, 12, 13, 14, 15, 16, 17, 18, 19],\n",
              " [11, 12, 13, 14, 15, 16, 17, 18, 19, 20],\n",
              " [12, 13, 14, 15, 16, 17, 18, 19, 20, 21],\n",
              " [13, 14, 15, 16, 17, 18, 19, 20, 21, 22],\n",
              " [14, 15, 16, 17, 18, 19, 20, 21, 22, 23],\n",
              " [15, 16, 17, 18, 19, 20, 21, 22, 23, 24],\n",
              " [16, 17, 18, 19, 20, 21, 22, 23, 24, 25],\n",
              " [17, 18, 19, 20, 21, 22, 23, 24, 25, 26],\n",
              " [18, 19, 20, 21, 22, 23, 24, 25, 26, 27],\n",
              " [19, 20, 21, 22, 23, 24, 25, 26, 27, 28],\n",
              " [20, 21, 22, 23, 24, 25, 26, 27, 28, 29],\n",
              " [21, 22, 23, 24, 25, 26, 27, 28, 29, 30],\n",
              " [22, 23, 24, 25, 26, 27, 28, 29, 30, 31],\n",
              " [23, 24, 25, 26, 27, 28, 29, 30, 31, 32],\n",
              " [24, 25, 26, 27, 28, 29, 30, 31, 32, 33],\n",
              " [25, 26, 27, 28, 29, 30, 31, 32, 33, 34],\n",
              " [26, 27, 28, 29, 30, 31, 32, 33, 34, 35],\n",
              " [27, 28, 29, 30, 31, 32, 33, 34, 35, 36],\n",
              " [28, 29, 30, 31, 32, 33, 34, 35, 36, 37],\n",
              " [29, 30, 31, 32, 33, 34, 35, 36, 37, 38],\n",
              " [30, 31, 32, 33, 34, 35, 36, 37, 38, 39],\n",
              " [31, 32, 33, 34, 35, 36, 37, 38, 39, 40],\n",
              " [32, 33, 34, 35, 36, 37, 38, 39, 40, 41],\n",
              " [33, 34, 35, 36, 37, 38, 39, 40, 41, 42],\n",
              " [34, 35, 36, 37, 38, 39, 40, 41, 42, 43],\n",
              " [35, 36, 37, 38, 39, 40, 41, 42, 43, 44],\n",
              " [36, 37, 38, 39, 40, 41, 42, 43, 44, 45],\n",
              " [37, 38, 39, 40, 41, 42, 43, 44, 45, 46]]"
            ]
          },
          "metadata": {},
          "execution_count": 46
        }
      ]
    },
    {
      "cell_type": "code",
      "source": [
        "x_one_hot = [np.eye(vocab_size)[x] for x in x_data]\n",
        "\n",
        "X = torch.FloatTensor(x_one_hot)\n",
        "Y = torch.LongTensor(y_data)"
      ],
      "metadata": {
        "id": "Jn-NllwZVGUX"
      },
      "execution_count": 47,
      "outputs": []
    },
    {
      "cell_type": "code",
      "source": [
        "print('훈련 데이터의 크기 : {}'.format(X.shape))\n",
        "print('레이블의 크기 : {}'.format(Y.shape))"
      ],
      "metadata": {
        "colab": {
          "base_uri": "https://localhost:8080/"
        },
        "id": "-7hDeJQXVHzq",
        "outputId": "26aaab66-6cad-4084-d0c7-68dfc98ed662"
      },
      "execution_count": 48,
      "outputs": [
        {
          "output_type": "stream",
          "name": "stdout",
          "text": [
            "훈련 데이터의 크기 : torch.Size([38, 10, 48])\n",
            "레이블의 크기 : torch.Size([38, 10])\n"
          ]
        }
      ]
    },
    {
      "cell_type": "code",
      "source": [
        "print(X[0])"
      ],
      "metadata": {
        "colab": {
          "base_uri": "https://localhost:8080/"
        },
        "id": "9RsHmI_VVJSc",
        "outputId": "191883a0-e704-43e4-8187-d1c8b5eb3dc7"
      },
      "execution_count": 49,
      "outputs": [
        {
          "output_type": "stream",
          "name": "stdout",
          "text": [
            "tensor([[1., 0., 0., 0., 0., 0., 0., 0., 0., 0., 0., 0., 0., 0., 0., 0., 0., 0.,\n",
            "         0., 0., 0., 0., 0., 0., 0., 0., 0., 0., 0., 0., 0., 0., 0., 0., 0., 0.,\n",
            "         0., 0., 0., 0., 0., 0., 0., 0., 0., 0., 0., 0.],\n",
            "        [0., 1., 0., 0., 0., 0., 0., 0., 0., 0., 0., 0., 0., 0., 0., 0., 0., 0.,\n",
            "         0., 0., 0., 0., 0., 0., 0., 0., 0., 0., 0., 0., 0., 0., 0., 0., 0., 0.,\n",
            "         0., 0., 0., 0., 0., 0., 0., 0., 0., 0., 0., 0.],\n",
            "        [0., 0., 1., 0., 0., 0., 0., 0., 0., 0., 0., 0., 0., 0., 0., 0., 0., 0.,\n",
            "         0., 0., 0., 0., 0., 0., 0., 0., 0., 0., 0., 0., 0., 0., 0., 0., 0., 0.,\n",
            "         0., 0., 0., 0., 0., 0., 0., 0., 0., 0., 0., 0.],\n",
            "        [0., 0., 0., 1., 0., 0., 0., 0., 0., 0., 0., 0., 0., 0., 0., 0., 0., 0.,\n",
            "         0., 0., 0., 0., 0., 0., 0., 0., 0., 0., 0., 0., 0., 0., 0., 0., 0., 0.,\n",
            "         0., 0., 0., 0., 0., 0., 0., 0., 0., 0., 0., 0.],\n",
            "        [0., 0., 0., 0., 1., 0., 0., 0., 0., 0., 0., 0., 0., 0., 0., 0., 0., 0.,\n",
            "         0., 0., 0., 0., 0., 0., 0., 0., 0., 0., 0., 0., 0., 0., 0., 0., 0., 0.,\n",
            "         0., 0., 0., 0., 0., 0., 0., 0., 0., 0., 0., 0.],\n",
            "        [0., 0., 0., 0., 0., 1., 0., 0., 0., 0., 0., 0., 0., 0., 0., 0., 0., 0.,\n",
            "         0., 0., 0., 0., 0., 0., 0., 0., 0., 0., 0., 0., 0., 0., 0., 0., 0., 0.,\n",
            "         0., 0., 0., 0., 0., 0., 0., 0., 0., 0., 0., 0.],\n",
            "        [0., 0., 0., 0., 0., 0., 1., 0., 0., 0., 0., 0., 0., 0., 0., 0., 0., 0.,\n",
            "         0., 0., 0., 0., 0., 0., 0., 0., 0., 0., 0., 0., 0., 0., 0., 0., 0., 0.,\n",
            "         0., 0., 0., 0., 0., 0., 0., 0., 0., 0., 0., 0.],\n",
            "        [0., 0., 0., 0., 0., 0., 0., 1., 0., 0., 0., 0., 0., 0., 0., 0., 0., 0.,\n",
            "         0., 0., 0., 0., 0., 0., 0., 0., 0., 0., 0., 0., 0., 0., 0., 0., 0., 0.,\n",
            "         0., 0., 0., 0., 0., 0., 0., 0., 0., 0., 0., 0.],\n",
            "        [0., 0., 0., 0., 0., 0., 0., 0., 1., 0., 0., 0., 0., 0., 0., 0., 0., 0.,\n",
            "         0., 0., 0., 0., 0., 0., 0., 0., 0., 0., 0., 0., 0., 0., 0., 0., 0., 0.,\n",
            "         0., 0., 0., 0., 0., 0., 0., 0., 0., 0., 0., 0.],\n",
            "        [0., 0., 0., 0., 0., 0., 0., 0., 0., 1., 0., 0., 0., 0., 0., 0., 0., 0.,\n",
            "         0., 0., 0., 0., 0., 0., 0., 0., 0., 0., 0., 0., 0., 0., 0., 0., 0., 0.,\n",
            "         0., 0., 0., 0., 0., 0., 0., 0., 0., 0., 0., 0.]])\n"
          ]
        }
      ]
    },
    {
      "cell_type": "code",
      "source": [
        "print(Y[0])"
      ],
      "metadata": {
        "colab": {
          "base_uri": "https://localhost:8080/"
        },
        "id": "1a4iSRE1VMdB",
        "outputId": "1a6b08c4-e205-4f01-cefe-ccb08f43a6cd"
      },
      "execution_count": 50,
      "outputs": [
        {
          "output_type": "stream",
          "name": "stdout",
          "text": [
            "tensor([ 1,  2,  3,  4,  5,  6,  7,  8,  9, 10])\n"
          ]
        }
      ]
    },
    {
      "cell_type": "code",
      "source": [
        "class Net(torch.nn.Module):\n",
        "  def __init__(self, input_dim, hidden_dim, layers):\n",
        "    super(Net, self).__init__()\n",
        "    self.rnn = torch.nn.RNN(input_dim, hidden_dim, num_layers = layers, batch_first = True)\n",
        "    self.fc = torch.nn.Linear(hidden_dim, hidden_dim, bias=True)\n",
        "  \n",
        "  def forward(self, x):\n",
        "    x, _status = self.rnn(x)\n",
        "    x = self.fc(x)\n",
        "    return x"
      ],
      "metadata": {
        "id": "kIt37ruDVO_O"
      },
      "execution_count": 51,
      "outputs": []
    },
    {
      "cell_type": "code",
      "source": [
        "net = Net(vocab_size, hidden_size, 2)"
      ],
      "metadata": {
        "id": "lNQ18jkDVQgV"
      },
      "execution_count": 52,
      "outputs": []
    },
    {
      "cell_type": "code",
      "source": [
        "criterion = torch.nn.CrossEntropyLoss()\n",
        "\n",
        "optimizer = optim.Adam(net.parameters(), learning_rate)"
      ],
      "metadata": {
        "id": "oNYhwIcQVQoO"
      },
      "execution_count": 53,
      "outputs": []
    },
    {
      "cell_type": "code",
      "source": [
        "outputs = net(X)\n",
        "print(outputs.shape)"
      ],
      "metadata": {
        "colab": {
          "base_uri": "https://localhost:8080/"
        },
        "id": "Tdv4gC4tVSCh",
        "outputId": "679afa5c-d57f-4748-ed4d-506bc830bea8"
      },
      "execution_count": 54,
      "outputs": [
        {
          "output_type": "stream",
          "name": "stdout",
          "text": [
            "torch.Size([38, 10, 48])\n"
          ]
        }
      ]
    },
    {
      "cell_type": "code",
      "source": [
        "for i in range(100):\n",
        "    optimizer.zero_grad()\n",
        "    outputs = net(X)\n",
        "    loss = criterion(outputs.view(-1, vocab_size), Y.view(-1))\n",
        "    loss.backward()\n",
        "    optimizer.step()\n",
        "\n",
        "    results = outputs.argmax(dim=2)\n",
        "    predict_str = \"\"\n",
        "    for j, result in enumerate(results):\n",
        "        if j == 0: \n",
        "            predict_str += ''.join([vocab[t] for t in result])\n",
        "        else: \n",
        "            predict_str += vocab[result[-1]]\n",
        "\n",
        "    print(predict_str)"
      ],
      "metadata": {
        "colab": {
          "base_uri": "https://localhost:8080/"
        },
        "id": "0Cc9jn89VVpA",
        "outputId": "09ef6ca1-8709-46c2-b743-4236f5ca0266"
      },
      "execution_count": 55,
      "outputs": [
        {
          "output_type": "stream",
          "name": "stdout",
          "text": [
            "게게들게게게들게게게들들게게들게게게게게들게게게들게게게게게게들들게게게게게들게게게들들게게게\n",
            "같은데같은데같은데버킷리스트같은데같은데같은데같은데같은데같은데같은데같은데같은데같은데같은데같은데같은데같은데같은데같은데같은데같은데같은데같은데같은데같은데같은데같은데같은데같은데같은데같은데같은데같은데같은데같은데같은데같은데같은데같은데같은데같은데같은데같은데같은데같은데같은데\n",
            "같은데버킷리스트같은데버킷리스트같은데같은데같은데같은데처럼같은데버킷리스트같은데버킷리스트같은데같은데버킷리스트처럼같은데같은데같은데같은데같은데버킷리스트같은데팔이같이같은데버킷리스트같은데같은데버킷리스트같은데같은데팔이같은데같은데같은데같은데같은데처럼같은데같은데같은데같은데버킷리스트같은데팔이\n",
            "을처럼같은데버킷리스트에서에서같은데같은데처럼둘러싼가같은데몸팔이들버킷리스트처럼나를짧은가네를일어나팔이같은데팔이같이저버킷리스트없는같은데것나을팔이에서에서에서저에서처럼같은데가팔이같은데버킷리스트같은데처럼\n",
            "을처럼같은데에서에서에서저것돌둘러싼가같은데몸악몽들버킷리스트처럼나를짧은가네를가네꾼내게같이저없어없는다것저을팔이에서머리해봐야저스쳐없는같은데가에서내팔이같이저\n",
            "가네처럼머리몸머리같이저것돌둘러싼가같은데몸악몽들버킷리스트처럼둘러싼짧은가네를돌둘러싼짧은게같이저없어없는다것나스쳐팔이에서머리해봐야저스쳐없는사람가파노라마내게같이저\n",
            "가네없어같이사망머리같이저없어없는둘러싼가같은데몸악몽들버킷리스트처럼둘러싼짧은가네를돌둘러싼내게같이저없어없는다것저스쳐팔이에서머리같이저스쳐없는사람가파노라마내게같이저\n",
            "가네처럼같이사망머리같이저둘러싼돌둘러싼가같은데몸악몽들버킷리스트처럼둘러싼짧은가네를일어나꾼내게같이저없어없는다것나을팔이에서머리같이저스쳐없는사람가없는사람게같이저\n",
            "가네없어같이사망머리해저둘러싼돌둘러싼가같은데몸악몽들버킷리스트처럼둘러싼짧은가네를일어나꾼내게같이저없어없는다것나을팔이에서머리해봐야저스쳐없는사람죽파노라마사람게같이저\n",
            "을머리에서사망머리해저두고돌둘러싼가같은데몸악몽들버킷리스트처럼둘러싼짧은가네를일어나꾼내게같이저없어없는다것나을팔이에서머리해봐야사망스쳐없는사람죽파노라마사람게같이저\n",
            "을머리에서사망이렇게해고장두고돌둘러싼가같은데몸악몽들버킷리스트처럼나를짧은가네를일어나꾼내게같이저없어없는다것나을팔이에서머리해봐야사망스쳐순사람죽파노라마사람팔이같이저\n",
            "을머리해봐야사망이렇게해고장두고돌둘러싼가같은데몸악몽들버킷리스트처럼나를짧은가네를일어나꾼내게같이저없어없는다것나을팔이에서머리해봐야사망스쳐순사람죽파노라마버린팔이같이나\n",
            "을머리해봐야사망이렇게해고장두고돌둘러싼가같은데몸악몽들버킷리스트처럼나를짧은가네를일어나꾼내게같이저없어없는다것나을팔이에서머리해봐야사망스쳐순사람죽파노라마버린팔이해봐야나\n",
            "을머리해사망이렇게해고장두고돌둘러싼가같은데몸악몽들버킷리스트처럼나를짧은가네를일어나꾼내게같이저없어없는다것나을팔이에서머리해봐야사망스쳐순사람죽파노라마버린선고해봐야나\n",
            "을이렇게해의사이렇게해고장두고돌둘러싼가같은데몸악몽들버킷리스트처럼나를짧은가네를일어나꾼내게같이저없어없는다것나을팔이에서머리해봐야사망스쳐순사람죽파노라마버린선고해봐야나\n",
            "을이렇게해의사이렇게해고장두고돌둘러싼가같은데몸악몽들버킷리스트처럼나를짧은가네를일어나꾼내게같이저없어없는다것나을팔이에서머리해봐야사망스쳐순사람죽파노라마버린선고해봐야잠\n",
            "사망이렇게해의사이렇게해고장두고돌둘러싼가같은데몸악몽들버킷리스트처럼나를짧은가네를일어나꾼내게같이저없어없는다것나을팔이에서머리해봐야사망스쳐순사람죽파노라마버린선고해봐야잠\n",
            "사망이렇게해의사이렇게해고장두고돌둘러싼가같은데몸악몽들버킷리스트처럼나를짧은가네를일어나꾼내게같이저없어없는다것나을팔이에서머리해봐야사망스쳐순사람죽파노라마버린선고하네잠\n",
            "사망이렇게해의사이렇게해고장두고돌둘러싼가같은데몸악몽들버킷리스트처럼나를짧은가네를일어나꾼내게같이저없어없는다것나을팔이에서머리해봐야사망스쳐순사람죽파노라마버린선고하네잠\n",
            "사망이렇게인생의사이렇게해고장두고돌둘러싼가같은데몸악몽들버킷리스트처럼나를짧은가네를일어나꾼내게같이저없어없는다것나을팔이에서머리해봐야사망스쳐순사람죽파노라마버린선고하네잠\n",
            "고장이렇게인생의사이렇게해고장두고돌둘러싼가같은데몸악몽들버킷리스트처럼나를짧은가네를일어나꾼내게같이저없어없는다것나을팔이에서머리해봐야사망스쳐순사람죽파노라마버린선고하네잠\n",
            "의사이렇게인생의사이렇게해고장두고돌둘러싼가같은데몸악몽들버킷리스트처럼나를짧은가네를일어나꾼내게같이저없어없는다것나을팔이에서머리해봐야사망스쳐순사람죽파노라마버린선고하네잠\n",
            "의사이렇게인생의사이렇게해고장두고돌둘러싼가같은데몸악몽들버킷리스트처럼나를짧은가네를일어나꾼내게같이저없어없는다것나을팔이에서머리해봐야사망스쳐순사람죽파노라마버린선고하네잠\n",
            "의사이렇게인생의사이렇게해고장두고돌둘러싼가같은데몸악몽들버킷리스트처럼나를짧은가네를일어나꾼내게같이저없어없는다것나을팔이에서머리해봐야사망스쳐순사람죽파노라마버린선고하네잠\n",
            "의사이렇게인생의사이렇게해고장두고돌둘러싼가같은데몸악몽들버킷리스트처럼나를짧은가네를일어나꾼내게같이저없어없는다것나을팔이에서머리해봐야사망스쳐순사람죽파노라마버린선고하네잠\n",
            "의사쥐뿔인생의사이렇게해고장두고돌둘러싼가같은데몸악몽들버킷리스트처럼나를짧은가네를일어나꾼내게같이저없어없는다것나을팔이에서머리해봐야사망스쳐순사람죽파노라마버린선고하네잠\n",
            "의사쥐뿔인생의사이렇게해고장두고돌둘러싼가같은데몸악몽들버킷리스트처럼나를짧은가네를일어나꾼내게같이저없어없는다것나을팔이에서머리해봐야사망스쳐순사람죽파노라마버린선고하네잠\n",
            "의사쥐뿔인생의사이렇게해고장두고돌둘러싼가같은데몸악몽들버킷리스트처럼나를짧은가네를일어나꾼내게같이저없어없는다것나을팔이에서머리해봐야사망스쳐순사람죽파노라마버린선고하네잠\n",
            "의사쥐뿔인생의사이렇게해고장두고돌둘러싼가같은데몸악몽들버킷리스트처럼나를짧은가네를일어나꾼내게같이저없어없는다것나을팔이에서머리해봐야사망스쳐순사람죽파노라마버린선고하네잠\n",
            "의사쥐뿔인생의사이렇게해고장두고돌둘러싼가같은데몸악몽들버킷리스트처럼나를짧은가네를일어나꾼내게같이저없어없는다것나을팔이에서머리해봐야사망스쳐순사람죽파노라마버린선고하네잠\n",
            "의사쥐뿔인생의사이렇게해고장두고돌둘러싼가같은데몸악몽들버킷리스트처럼나를짧은가네를일어나꾼내게같이저없어없는다것나을팔이에서머리해봐야사망스쳐순사람죽파노라마버린선고하네잠\n",
            "의사쥐뿔인생의사이렇게해고장두고돌둘러싼가같은데몸악몽들버킷리스트처럼나를짧은가네를일어나꾼내게같이저없어없는다것나을팔이에서머리해봐야사망스쳐순사람죽파노라마버린선고하네잠\n",
            "의사쥐뿔인생의사이렇게해고장두고돌둘러싼가같은데몸악몽들버킷리스트처럼나를짧은가네를일어나꾼내게같이저없어없는다것나을팔이에서머리해봐야사망스쳐순사람죽파노라마버린선고하네잠\n",
            "의사쥐뿔인생의사이렇게해고장두고돌둘러싼가같은데몸악몽들버킷리스트처럼나를짧은가네를일어나꾼내게같이저없어없는다것나을팔이에서머리해봐야사망스쳐순사람죽파노라마버린선고하네잠\n",
            "의사쥐뿔인생의사이렇게해고장두고돌둘러싼가같은데몸악몽들버킷리스트처럼나를짧은가네를일어나꾼내게같이저없어없는다것나을팔이에서머리해봐야사망스쳐순사람죽파노라마버린선고하네잠\n",
            "의사쥐뿔인생의사이렇게해고장두고돌둘러싼가같은데몸악몽들버킷리스트처럼나를짧은가네를일어나꾼내게같이저없어없는다것나을팔이에서머리해봐야사망스쳐순사람죽파노라마버린선고하네잠\n",
            "의사쥐뿔인생의사이렇게해고장두고돌둘러싼가같은데몸악몽들버킷리스트처럼나를짧은가네를일어나꾼내게같이저없어없는다것나을팔이에서머리해봐야사망스쳐순사람죽파노라마버린선고하네잠\n",
            "의사쥐뿔인생의사이렇게해고장두고돌둘러싼가같은데몸악몽들버킷리스트처럼나를짧은가네를일어나꾼내게같이저없어없는다것나을팔이에서머리해봐야사망스쳐순사람죽파노라마버린선고하네잠\n",
            "깨질쥐뿔인생의사이렇게해고장두고돌둘러싼가같은데몸악몽들버킷리스트처럼나를짧은가네를일어나꾼내게같이저없어없는다것나을팔이에서머리해봐야사망스쳐순사람죽파노라마버린선고하네잠\n",
            "깨질쥐뿔인생의사이렇게해고장두고돌둘러싼가같은데몸악몽들버킷리스트처럼나를짧은가네를일어나꾼내게같이저없어없는다것나을팔이에서머리해봐야사망스쳐순사람죽파노라마버린선고하네잠\n",
            "깨질쥐뿔인생의사이렇게해고장두고돌둘러싼가같은데몸악몽들버킷리스트처럼나를짧은가네를일어나꾼내게같이저없어없는다것나을팔이에서머리해봐야사망스쳐순사람죽파노라마버린선고하네잠\n",
            "깨질쥐뿔인생의사이렇게해고장두고돌둘러싼가같은데몸악몽들버킷리스트처럼나를짧은가네를일어나꾼내게같이저없어없는다것나을팔이에서머리해봐야사망스쳐순사람죽파노라마버린선고하네잠\n",
            "깨질쥐뿔인생의사이렇게해고장두고돌둘러싼가같은데몸악몽들버킷리스트처럼나를짧은가네를일어나꾼내게같이저없어없는다것나을팔이에서머리해봐야사망스쳐순사람죽파노라마버린선고하네잠\n",
            "깨질쥐뿔인생의사이렇게해고장두고돌둘러싼가같은데몸악몽들버킷리스트처럼나를짧은가네를일어나꾼내게같이저없어없는다것나을팔이에서머리해봐야사망스쳐순사람죽파노라마버린선고하네잠\n",
            "깨질쥐뿔인생의사이렇게해고장두고돌둘러싼가같은데몸악몽들버킷리스트처럼나를짧은가네를일어나꾼내게같이저없어없는다것나을팔이에서머리해봐야사망스쳐순사람죽파노라마버린선고하네잠\n",
            "깨질쥐뿔인생의사이렇게해고장두고돌둘러싼가같은데몸악몽들버킷리스트처럼나를짧은가네를일어나꾼내게같이저없어없는다것나을팔이에서머리해봐야사망스쳐순사람죽파노라마버린선고하네잠\n",
            "깨질쥐뿔인생의사이렇게해고장두고돌둘러싼가같은데몸악몽들버킷리스트처럼나를짧은가네를일어나꾼내게같이저없어없는다것나을팔이에서머리해봐야사망스쳐순사람죽파노라마버린선고하네잠\n",
            "깨질쥐뿔인생의사이렇게해고장두고돌둘러싼가같은데몸악몽들버킷리스트처럼나를짧은가네를일어나꾼내게같이저없어없는다것나을팔이에서머리해봐야사망스쳐순사람죽파노라마버린선고하네잠\n",
            "깨질쥐뿔인생의사이렇게해고장두고돌둘러싼가같은데몸악몽들버킷리스트처럼나를짧은가네를일어나꾼내게같이저없어없는다것나을팔이에서머리해봐야사망스쳐순사람죽파노라마버린선고하네잠\n",
            "깨질쥐뿔인생의사이렇게해고장두고돌둘러싼가같은데몸악몽들버킷리스트처럼나를짧은가네를일어나꾼내게같이저없어없는다것나을팔이에서머리해봐야사망스쳐순사람죽파노라마버린선고하네잠\n",
            "깨질쥐뿔인생의사이렇게해고장두고돌둘러싼가같은데몸악몽들버킷리스트처럼나를짧은가네를일어나꾼내게같이저없어없는다것나을팔이에서머리해봐야사망스쳐순사람죽파노라마버린선고하네잠\n",
            "깨질쥐뿔인생의사이렇게해고장두고돌둘러싼가같은데몸악몽들버킷리스트처럼나를짧은가네를일어나꾼내게같이저없어없는다것나을팔이에서머리해봐야사망스쳐순사람죽파노라마버린선고하네잠\n",
            "깨질쥐뿔인생의사이렇게해고장두고돌둘러싼가같은데몸악몽들버킷리스트처럼나를짧은가네를일어나꾼내게같이저없어없는다것나을팔이에서머리해봐야사망스쳐순사람죽파노라마버린선고하네잠\n",
            "깨질쥐뿔인생의사이렇게해고장두고돌둘러싼가같은데몸악몽들버킷리스트처럼나를짧은가네를일어나꾼내게같이저없어없는다것나을팔이에서머리해봐야사망스쳐순사람죽파노라마버린선고하네잠\n",
            "깨질쥐뿔인생의사이렇게해고장두고돌둘러싼가같은데몸악몽들버킷리스트처럼나를짧은가네를일어나꾼내게같이저없어없는다것나을팔이에서머리해봐야사망스쳐순사람죽파노라마버린선고하네잠\n",
            "깨질쥐뿔인생의사이렇게해고장두고돌둘러싼가같은데몸악몽들버킷리스트처럼나를짧은가네를일어나꾼내게같이저없어없는다것나을팔이에서머리해봐야사망스쳐순사람죽파노라마버린선고하네잠\n",
            "깨질쥐뿔인생의사이렇게해고장두고돌둘러싼가같은데몸악몽들버킷리스트처럼나를짧은가네를일어나꾼내게같이저없어없는다것나을팔이에서머리해봐야사망스쳐순사람죽파노라마버린선고하네잠\n",
            "깨질쥐뿔인생의사이렇게해고장두고돌둘러싼가같은데몸악몽들버킷리스트처럼나를짧은가네를일어나꾼내게같이저없어없는다것나을팔이에서머리해봐야사망스쳐순사람죽파노라마버린선고하네잠\n",
            "깨질쥐뿔인생의사이렇게해고장두고돌둘러싼가같은데몸악몽들버킷리스트처럼나를짧은가네를일어나꾼내게같이저없어없는다것나을팔이에서머리해봐야사망스쳐순사람죽파노라마버린선고하네잠\n",
            "깨질쥐뿔인생의사이렇게해고장두고돌둘러싼가같은데몸악몽들버킷리스트처럼나를짧은가네를일어나꾼내게같이저없어없는다것나을팔이에서머리해봐야사망스쳐순사람죽파노라마버린선고하네잠\n",
            "깨질쥐뿔인생의사이렇게해고장두고돌둘러싼가같은데몸악몽들버킷리스트처럼나를짧은가네를일어나꾼내게같이저없어없는다것나을팔이에서머리해봐야사망스쳐순사람죽파노라마버린선고하네잠\n",
            "깨질쥐뿔인생의사이렇게해고장두고돌둘러싼가같은데몸악몽들버킷리스트처럼나를짧은가네를일어나꾼내게같이저없어없는다것나을팔이에서머리해봐야사망스쳐순사람죽파노라마버린선고하네잠\n",
            "깨질쥐뿔인생의사이렇게해고장두고돌둘러싼가같은데몸악몽들버킷리스트처럼나를짧은가네를일어나꾼내게같이저없어없는다것나을팔이에서머리해봐야사망스쳐순사람죽파노라마버린선고하네잠\n",
            "깨질쥐뿔인생의사이렇게해고장두고돌둘러싼가같은데몸악몽들버킷리스트처럼나를짧은가네를일어나꾼내게같이저없어없는다것나을팔이에서머리해봐야사망스쳐순사람죽파노라마버린선고하네잠\n",
            "깨질쥐뿔인생의사이렇게해고장두고돌둘러싼가같은데몸악몽들버킷리스트처럼나를짧은가네를일어나꾼내게같이저없어없는다것나을팔이에서머리해봐야사망스쳐순사람죽파노라마버린선고하네잠\n",
            "깨질쥐뿔인생의사이렇게해고장두고돌둘러싼가같은데몸악몽들버킷리스트처럼나를짧은가네를일어나꾼내게같이저없어없는다것나을팔이에서머리해봐야사망스쳐순사람죽파노라마버린선고하네잠\n",
            "깨질쥐뿔인생의사이렇게해고장두고돌둘러싼가같은데몸악몽들버킷리스트처럼나를짧은가네를일어나꾼내게같이저없어없는다것나을팔이에서머리해봐야사망스쳐순사람죽파노라마버린선고하네잠\n",
            "깨질쥐뿔인생의사이렇게해고장두고돌둘러싼가같은데몸악몽들버킷리스트처럼나를짧은가네를일어나꾼내게같이저없어없는다것나을팔이에서머리해봐야사망스쳐순사람죽파노라마버린선고하네잠\n",
            "깨질쥐뿔인생의사이렇게해고장두고돌둘러싼가같은데몸악몽들버킷리스트처럼나를짧은가네를일어나꾼내게같이저없어없는다것나을팔이에서머리해봐야사망스쳐순사람죽파노라마버린선고하네잠\n",
            "깨질쥐뿔인생의사이렇게해고장두고돌둘러싼가같은데몸악몽들버킷리스트처럼나를짧은가네를일어나꾼내게같이저없어없는다것나을팔이에서머리해봐야사망스쳐순사람죽파노라마버린선고하네잠\n",
            "깨질쥐뿔인생의사이렇게해고장두고돌둘러싼가같은데몸악몽들버킷리스트처럼나를짧은가네를일어나꾼내게같이저없어없는다것나을팔이에서머리해봐야사망스쳐순사람죽파노라마버린선고하네잠\n",
            "깨질쥐뿔인생의사이렇게해고장두고돌둘러싼가같은데몸악몽들버킷리스트처럼나를짧은가네를일어나꾼내게같이저없어없는다것나을팔이에서머리해봐야사망스쳐순사람죽파노라마버린선고하네잠\n",
            "깨질쥐뿔인생의사이렇게해고장두고돌둘러싼가같은데몸악몽들버킷리스트처럼나를짧은가네를일어나꾼내게같이저없어없는다것나을팔이에서머리해봐야사망스쳐순사람죽파노라마버린선고하네잠\n",
            "깨질쥐뿔인생의사이렇게해고장두고돌둘러싼가같은데몸악몽들버킷리스트처럼나를짧은가네를일어나꾼내게같이저없어없는다것나을팔이에서머리해봐야사망스쳐순사람죽파노라마버린선고하네잠\n",
            "깨질쥐뿔인생의사이렇게해고장두고돌둘러싼가같은데몸악몽들버킷리스트처럼나를짧은가네를일어나꾼내게같이저없어없는다것나을팔이에서머리해봐야사망스쳐순사람죽파노라마버린선고하네잠\n",
            "깨질쥐뿔인생의사이렇게해고장두고돌둘러싼가같은데몸악몽들버킷리스트처럼나를짧은가네를일어나꾼내게같이저없어없는다것나을팔이에서머리해봐야사망스쳐순사람죽파노라마버린선고하네잠\n",
            "깨질쥐뿔인생의사이렇게해고장두고돌둘러싼가같은데몸악몽들버킷리스트처럼나를짧은가네를일어나꾼내게같이저없어없는다것나을팔이에서머리해봐야사망스쳐순사람죽파노라마버린선고하네잠\n",
            "깨질쥐뿔인생의사이렇게해고장두고돌둘러싼가같은데몸악몽들버킷리스트처럼나를짧은가네를일어나꾼내게같이저없어없는다것나을팔이에서머리해봐야사망스쳐순사람죽파노라마버린선고하네잠\n",
            "깨질쥐뿔인생의사이렇게해고장두고돌둘러싼가같은데몸악몽들버킷리스트처럼나를짧은가네를일어나꾼내게같이저없어없는다것나을팔이에서머리해봐야사망스쳐순사람죽파노라마버린선고하네잠\n",
            "깨질쥐뿔인생의사이렇게해고장두고돌둘러싼가같은데몸악몽들버킷리스트처럼나를짧은가네를일어나꾼내게같이저없어없는다것나을팔이에서머리해봐야사망스쳐순사람죽파노라마버린선고하네잠\n",
            "깨질쥐뿔인생의사이렇게해고장두고돌둘러싼가같은데몸악몽들버킷리스트처럼나를짧은가네를일어나꾼내게같이저없어없는다것나을팔이에서머리해봐야사망스쳐순사람죽파노라마버린선고하네잠\n",
            "깨질쥐뿔인생의사이렇게해고장두고돌둘러싼가같은데몸악몽들버킷리스트처럼나를짧은가네를일어나꾼내게같이저없어없는다것나을팔이에서머리해봐야사망스쳐순사람죽파노라마버린선고하네잠\n",
            "깨질쥐뿔인생의사이렇게해고장두고돌둘러싼가같은데몸악몽들버킷리스트처럼나를짧은가네를일어나꾼내게같이저없어없는다것나을팔이에서머리해봐야사망스쳐순사람죽파노라마버린선고하네잠\n",
            "깨질쥐뿔인생의사이렇게해고장두고돌둘러싼가같은데몸악몽들버킷리스트처럼나를짧은가네를일어나꾼내게같이저없어없는다것나을팔이에서머리해봐야사망스쳐순사람죽파노라마버린선고하네잠\n",
            "깨질쥐뿔인생의사이렇게해고장두고돌둘러싼가같은데몸악몽들버킷리스트처럼나를짧은가네를일어나꾼내게같이저없어없는다것나을팔이에서머리해봐야사망스쳐순사람죽파노라마버린선고하네잠\n",
            "깨질쥐뿔인생의사이렇게해고장두고돌둘러싼가같은데몸악몽들버킷리스트처럼나를짧은가네를일어나꾼내게같이저없어없는다것나을팔이에서머리해봐야사망스쳐순사람죽파노라마버린선고하네잠\n",
            "깨질쥐뿔인생의사이렇게해고장두고돌둘러싼가같은데몸악몽들버킷리스트처럼나를짧은가네를일어나꾼내게같이저없어없는다것나을팔이에서머리해봐야사망스쳐순사람죽파노라마버린선고하네잠\n",
            "깨질쥐뿔인생의사이렇게해고장두고돌둘러싼가같은데몸악몽들버킷리스트처럼나를짧은가네를일어나꾼내게같이저없어없는다것나을팔이에서머리해봐야사망스쳐순사람죽파노라마버린선고하네잠\n",
            "깨질쥐뿔인생의사이렇게해고장두고돌둘러싼가같은데몸악몽들버킷리스트처럼나를짧은가네를일어나꾼내게같이저없어없는다것나을팔이에서머리해봐야사망스쳐순사람죽파노라마버린선고하네잠\n",
            "깨질쥐뿔인생의사이렇게해고장두고돌둘러싼가같은데몸악몽들버킷리스트처럼나를짧은가네를일어나꾼내게같이저없어없는다것나을팔이에서머리해봐야사망스쳐순사람죽파노라마버린선고하네잠\n",
            "깨질쥐뿔인생의사이렇게해고장두고돌둘러싼가같은데몸악몽들버킷리스트처럼나를짧은가네를일어나꾼내게같이저없어없는다것나을팔이에서머리해봐야사망스쳐순사람죽파노라마버린선고하네잠\n",
            "깨질쥐뿔인생의사이렇게해고장두고돌둘러싼가같은데몸악몽들버킷리스트처럼나를짧은가네를일어나꾼내게같이저없어없는다것나을팔이에서머리해봐야사망스쳐순사람죽파노라마버린선고하네잠\n",
            "깨질쥐뿔인생의사이렇게해고장두고돌둘러싼가같은데몸악몽들버킷리스트처럼나를짧은가네를일어나꾼내게같이저없어없는다것나을팔이에서머리해봐야사망스쳐순사람죽파노라마버린선고하네잠\n",
            "깨질쥐뿔인생의사이렇게해고장두고돌둘러싼가같은데몸악몽들버킷리스트처럼나를짧은가네를일어나꾼내게같이저없어없는다것나을팔이에서머리해봐야사망스쳐순사람죽파노라마버린선고하네잠\n",
            "깨질쥐뿔인생의사이렇게해고장두고돌둘러싼가같은데몸악몽들버킷리스트처럼나를짧은가네를일어나꾼내게같이저없어없는다것나을팔이에서머리해봐야사망스쳐순사람죽파노라마버린선고하네잠\n",
            "깨질쥐뿔인생의사이렇게해고장두고돌둘러싼가같은데몸악몽들버킷리스트처럼나를짧은가네를일어나꾼내게같이저없어없는다것나을팔이에서머리해봐야사망스쳐순사람죽파노라마버린선고하네잠\n",
            "깨질쥐뿔인생의사이렇게해고장두고돌둘러싼가같은데몸악몽들버킷리스트처럼나를짧은가네를일어나꾼내게같이저없어없는다것나을팔이에서머리해봐야사망스쳐순사람죽파노라마버린선고하네잠\n",
            "깨질쥐뿔인생의사이렇게해고장두고돌둘러싼가같은데몸악몽들버킷리스트처럼나를짧은가네를일어나꾼내게같이저없어없는다것나을팔이에서머리해봐야사망스쳐순사람죽파노라마버린선고하네잠\n",
            "깨질쥐뿔인생의사이렇게해고장두고돌둘러싼가같은데몸악몽들버킷리스트처럼나를짧은가네를일어나꾼내게같이저없어없는다것나을팔이에서머리해봐야사망스쳐순사람죽파노라마버린선고하네잠\n",
            "깨질쥐뿔인생의사이렇게해고장두고돌둘러싼가같은데몸악몽들버킷리스트처럼나를짧은가네를일어나꾼내게같이저없어없는다것나을팔이에서머리해봐야사망스쳐순사람죽파노라마버린선고하네잠\n"
          ]
        }
      ]
    },
    {
      "cell_type": "code",
      "source": [
        "predict_str"
      ],
      "metadata": {
        "colab": {
          "base_uri": "https://localhost:8080/",
          "height": 54
        },
        "id": "HsASjAEjVY6L",
        "outputId": "0154dd38-3b6e-4ec5-b69f-9d7dc3df8dc8"
      },
      "execution_count": 56,
      "outputs": [
        {
          "output_type": "execute_result",
          "data": {
            "text/plain": [
              "'깨질쥐뿔인생의사이렇게해고장두고돌둘러싼가같은데몸악몽들버킷리스트처럼나를짧은가네를일어나꾼내게같이저없어없는다것나을팔이에서머리해봐야사망스쳐순사람죽파노라마버린선고하네잠'"
            ],
            "application/vnd.google.colaboratory.intrinsic+json": {
              "type": "string"
            }
          },
          "metadata": {},
          "execution_count": 56
        }
      ]
    },
    {
      "cell_type": "code",
      "source": [],
      "metadata": {
        "id": "0RlETV6uVWel"
      },
      "execution_count": null,
      "outputs": []
    }
  ]
}