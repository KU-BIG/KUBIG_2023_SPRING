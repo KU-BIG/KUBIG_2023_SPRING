{
  "nbformat": 4,
  "nbformat_minor": 0,
  "metadata": {
    "colab": {
      "provenance": [],
      "include_colab_link": true
    },
    "kernelspec": {
      "name": "python3",
      "display_name": "Python 3"
    },
    "language_info": {
      "name": "python"
    },
    "accelerator": "GPU",
    "gpuClass": "standard"
  },
  "cells": [
    {
      "cell_type": "markdown",
      "metadata": {
        "id": "view-in-github",
        "colab_type": "text"
      },
      "source": [
        "<a href=\"https://colab.research.google.com/github/KU-BIG/KUBIG_2023_SPRING/blob/main/1.%20%EB%B0%A9%ED%95%99%EB%B6%84%EB%B0%98/%EB%94%A5%EB%9F%AC%EB%8B%9D/%EA%B3%BC%EC%A0%9C/6%EC%A3%BC%EC%B0%A8/6%E1%84%8C%E1%85%AE%E1%84%8E%E1%85%A1_%EA%B9%80%EC%97%B0%EA%B7%9C.ipynb\" target=\"_parent\"><img src=\"https://colab.research.google.com/assets/colab-badge.svg\" alt=\"Open In Colab\"/></a>"
      ]
    },
    {
      "cell_type": "code",
      "execution_count": null,
      "metadata": {
        "id": "nmQ5F7UAeKB_"
      },
      "outputs": [],
      "source": [
        "import numpy as np\n",
        "import torch\n",
        "import torch.nn as nn\n",
        "import torch.optim as optim"
      ]
    },
    {
      "cell_type": "markdown",
      "source": [
        "## Task1\n",
        "\n",
        "빈 칸을 채워주세요!\n",
        "\n",
        "단계별 output이 github 파일에는 남아있으니 그 output과 동일한 형태인지 확인하면서 진행해주시면 됩니다~"
      ],
      "metadata": {
        "id": "Sgxd6SxmeVcP"
      }
    },
    {
      "cell_type": "code",
      "source": [
        "#1. 생성할 문장 데이터\n",
        "\n",
        "sentence = (\"Brick walls are there for a reason and you must not think \"\n",
        "            \"that the brick walls aren't there to keep us out, but rather \"\n",
        "            \"in this way that the brick walls are there to show us how badly we want things.\")"
      ],
      "metadata": {
        "id": "NDvUeC8BoUb6"
      },
      "execution_count": null,
      "outputs": []
    },
    {
      "cell_type": "code",
      "source": [
        "#2. 문자 집합 만들기\n",
        "world_set = list(set(sentence))\n",
        "\n",
        "## 문제(1): 각 문자에 정수 인코딩 (공백도 하나의 원소로 포함)\n",
        "vocab = {val : i for i, val in enumerate(world_set)}"
      ],
      "metadata": {
        "id": "b9lkrKyZf8ie"
      },
      "execution_count": null,
      "outputs": []
    },
    {
      "cell_type": "code",
      "source": [
        "print(vocab)"
      ],
      "metadata": {
        "colab": {
          "base_uri": "https://localhost:8080/"
        },
        "id": "F_0we5Y-gYDq",
        "outputId": "92342bfb-4583-4316-c40e-24d025d1c564"
      },
      "execution_count": null,
      "outputs": [
        {
          "output_type": "stream",
          "name": "stdout",
          "text": [
            "{'a': 0, 'c': 1, 'u': 2, 'b': 3, \"'\": 4, 'w': 5, 'B': 6, 'n': 7, 'g': 8, ' ': 9, 'd': 10, 't': 11, 'f': 12, 'm': 13, 'k': 14, 'i': 15, '.': 16, 'l': 17, 'y': 18, 'e': 19, 'h': 20, 'p': 21, ',': 22, 'r': 23, 's': 24, 'o': 25}\n"
          ]
        }
      ]
    },
    {
      "cell_type": "code",
      "source": [
        "#3. 문자 집합 크기 확인\n",
        "\n",
        "vocab_size = len(vocab)\n",
        "print('문자 집합 크기 : {}'.format(vocab_size))"
      ],
      "metadata": {
        "colab": {
          "base_uri": "https://localhost:8080/"
        },
        "id": "TpKupU6lgpfT",
        "outputId": "5ba30020-84f8-4888-b8d3-0d5c66f00a1a"
      },
      "execution_count": null,
      "outputs": [
        {
          "output_type": "stream",
          "name": "stdout",
          "text": [
            "문자 집합 크기 : 26\n"
          ]
        }
      ]
    },
    {
      "cell_type": "code",
      "source": [
        "#4. 하이퍼 파라미터 설정(자유롭게 수정해보세요!)\n",
        "\n",
        "hidden_size = vocab_size # 같아야 하는 것 확인!\n",
        "sequence_length = 10  # 너무 길거나 너무 짧게 잡으면 안됩니다!\n",
        "learning_rate = 0.01"
      ],
      "metadata": {
        "id": "wFDZJHSMg9In"
      },
      "execution_count": null,
      "outputs": []
    },
    {
      "cell_type": "code",
      "source": [
        "#5. seqence 길이 단위 자르기\n",
        "\n",
        "# 데이터 구성을 위한 리스트\n",
        "x_data = []\n",
        "y_data = []\n",
        "\n",
        "## 문제(2): 반복문 내에서의 인덱싱을 사용하여 sequence_length 값 단위로 샘플을 잘라 데이터 만들기, y_str은 x_str은 한 칸씩 쉬프트된 sequnce\n",
        "\n",
        "for i in range(0, len(sentence) - sequence_length):\n",
        "  x_str = sentence[i : i+sequence_length]\n",
        "  y_str = sentence[i+1 : i+1+sequence_length]\n",
        "  print(i, x_str, \"->\", y_str)\n",
        "\n",
        "  # x_str과 y_str이 문자집합에 해당하는 인덱스를 각각 x_data, y_data에 append\n",
        "  x_data.append([vocab[c] for c in x_str])\n",
        "  y_data.append([vocab[d] for d in y_str])"
      ],
      "metadata": {
        "colab": {
          "base_uri": "https://localhost:8080/"
        },
        "id": "RbDcmJmghN7V",
        "outputId": "1c5b16e2-c387-4bd5-fbc6-9c2f3585db18"
      },
      "execution_count": null,
      "outputs": [
        {
          "output_type": "stream",
          "name": "stdout",
          "text": [
            "0 Brick wall -> rick walls\n",
            "1 rick walls -> ick walls \n",
            "2 ick walls  -> ck walls a\n",
            "3 ck walls a -> k walls ar\n",
            "4 k walls ar ->  walls are\n",
            "5  walls are -> walls are \n",
            "6 walls are  -> alls are t\n",
            "7 alls are t -> lls are th\n",
            "8 lls are th -> ls are the\n",
            "9 ls are the -> s are ther\n",
            "10 s are ther ->  are there\n",
            "11  are there -> are there \n",
            "12 are there  -> re there f\n",
            "13 re there f -> e there fo\n",
            "14 e there fo ->  there for\n",
            "15  there for -> there for \n",
            "16 there for  -> here for a\n",
            "17 here for a -> ere for a \n",
            "18 ere for a  -> re for a r\n",
            "19 re for a r -> e for a re\n",
            "20 e for a re ->  for a rea\n",
            "21  for a rea -> for a reas\n",
            "22 for a reas -> or a reaso\n",
            "23 or a reaso -> r a reason\n",
            "24 r a reason ->  a reason \n",
            "25  a reason  -> a reason a\n",
            "26 a reason a ->  reason an\n",
            "27  reason an -> reason and\n",
            "28 reason and -> eason and \n",
            "29 eason and  -> ason and y\n",
            "30 ason and y -> son and yo\n",
            "31 son and yo -> on and you\n",
            "32 on and you -> n and you \n",
            "33 n and you  ->  and you m\n",
            "34  and you m -> and you mu\n",
            "35 and you mu -> nd you mus\n",
            "36 nd you mus -> d you must\n",
            "37 d you must ->  you must \n",
            "38  you must  -> you must n\n",
            "39 you must n -> ou must no\n",
            "40 ou must no -> u must not\n",
            "41 u must not ->  must not \n",
            "42  must not  -> must not t\n",
            "43 must not t -> ust not th\n",
            "44 ust not th -> st not thi\n",
            "45 st not thi -> t not thin\n",
            "46 t not thin ->  not think\n",
            "47  not think -> not think \n",
            "48 not think  -> ot think t\n",
            "49 ot think t -> t think th\n",
            "50 t think th ->  think tha\n",
            "51  think tha -> think that\n",
            "52 think that -> hink that \n",
            "53 hink that  -> ink that t\n",
            "54 ink that t -> nk that th\n",
            "55 nk that th -> k that the\n",
            "56 k that the ->  that the \n",
            "57  that the  -> that the b\n",
            "58 that the b -> hat the br\n",
            "59 hat the br -> at the bri\n",
            "60 at the bri -> t the bric\n",
            "61 t the bric ->  the brick\n",
            "62  the brick -> the brick \n",
            "63 the brick  -> he brick w\n",
            "64 he brick w -> e brick wa\n",
            "65 e brick wa ->  brick wal\n",
            "66  brick wal -> brick wall\n",
            "67 brick wall -> rick walls\n",
            "68 rick walls -> ick walls \n",
            "69 ick walls  -> ck walls a\n",
            "70 ck walls a -> k walls ar\n",
            "71 k walls ar ->  walls are\n",
            "72  walls are -> walls aren\n",
            "73 walls aren -> alls aren'\n",
            "74 alls aren' -> lls aren't\n",
            "75 lls aren't -> ls aren't \n",
            "76 ls aren't  -> s aren't t\n",
            "77 s aren't t ->  aren't th\n",
            "78  aren't th -> aren't the\n",
            "79 aren't the -> ren't ther\n",
            "80 ren't ther -> en't there\n",
            "81 en't there -> n't there \n",
            "82 n't there  -> 't there t\n",
            "83 't there t -> t there to\n",
            "84 t there to ->  there to \n",
            "85  there to  -> there to k\n",
            "86 there to k -> here to ke\n",
            "87 here to ke -> ere to kee\n",
            "88 ere to kee -> re to keep\n",
            "89 re to keep -> e to keep \n",
            "90 e to keep  ->  to keep u\n",
            "91  to keep u -> to keep us\n",
            "92 to keep us -> o keep us \n",
            "93 o keep us  ->  keep us o\n",
            "94  keep us o -> keep us ou\n",
            "95 keep us ou -> eep us out\n",
            "96 eep us out -> ep us out,\n",
            "97 ep us out, -> p us out, \n",
            "98 p us out,  ->  us out, b\n",
            "99  us out, b -> us out, bu\n",
            "100 us out, bu -> s out, but\n",
            "101 s out, but ->  out, but \n",
            "102  out, but  -> out, but r\n",
            "103 out, but r -> ut, but ra\n",
            "104 ut, but ra -> t, but rat\n",
            "105 t, but rat -> , but rath\n",
            "106 , but rath ->  but rathe\n",
            "107  but rathe -> but rather\n",
            "108 but rather -> ut rather \n",
            "109 ut rather  -> t rather i\n",
            "110 t rather i ->  rather in\n",
            "111  rather in -> rather in \n",
            "112 rather in  -> ather in t\n",
            "113 ather in t -> ther in th\n",
            "114 ther in th -> her in thi\n",
            "115 her in thi -> er in this\n",
            "116 er in this -> r in this \n",
            "117 r in this  ->  in this w\n",
            "118  in this w -> in this wa\n",
            "119 in this wa -> n this way\n",
            "120 n this way ->  this way \n",
            "121  this way  -> this way t\n",
            "122 this way t -> his way th\n",
            "123 his way th -> is way tha\n",
            "124 is way tha -> s way that\n",
            "125 s way that ->  way that \n",
            "126  way that  -> way that t\n",
            "127 way that t -> ay that th\n",
            "128 ay that th -> y that the\n",
            "129 y that the ->  that the \n",
            "130  that the  -> that the b\n",
            "131 that the b -> hat the br\n",
            "132 hat the br -> at the bri\n",
            "133 at the bri -> t the bric\n",
            "134 t the bric ->  the brick\n",
            "135  the brick -> the brick \n",
            "136 the brick  -> he brick w\n",
            "137 he brick w -> e brick wa\n",
            "138 e brick wa ->  brick wal\n",
            "139  brick wal -> brick wall\n",
            "140 brick wall -> rick walls\n",
            "141 rick walls -> ick walls \n",
            "142 ick walls  -> ck walls a\n",
            "143 ck walls a -> k walls ar\n",
            "144 k walls ar ->  walls are\n",
            "145  walls are -> walls are \n",
            "146 walls are  -> alls are t\n",
            "147 alls are t -> lls are th\n",
            "148 lls are th -> ls are the\n",
            "149 ls are the -> s are ther\n",
            "150 s are ther ->  are there\n",
            "151  are there -> are there \n",
            "152 are there  -> re there t\n",
            "153 re there t -> e there to\n",
            "154 e there to ->  there to \n",
            "155  there to  -> there to s\n",
            "156 there to s -> here to sh\n",
            "157 here to sh -> ere to sho\n",
            "158 ere to sho -> re to show\n",
            "159 re to show -> e to show \n",
            "160 e to show  ->  to show u\n",
            "161  to show u -> to show us\n",
            "162 to show us -> o show us \n",
            "163 o show us  ->  show us h\n",
            "164  show us h -> show us ho\n",
            "165 show us ho -> how us how\n",
            "166 how us how -> ow us how \n",
            "167 ow us how  -> w us how b\n",
            "168 w us how b ->  us how ba\n",
            "169  us how ba -> us how bad\n",
            "170 us how bad -> s how badl\n",
            "171 s how badl ->  how badly\n",
            "172  how badly -> how badly \n",
            "173 how badly  -> ow badly w\n",
            "174 ow badly w -> w badly we\n",
            "175 w badly we ->  badly we \n",
            "176  badly we  -> badly we w\n",
            "177 badly we w -> adly we wa\n",
            "178 adly we wa -> dly we wan\n",
            "179 dly we wan -> ly we want\n",
            "180 ly we want -> y we want \n",
            "181 y we want  ->  we want t\n",
            "182  we want t -> we want th\n",
            "183 we want th -> e want thi\n",
            "184 e want thi ->  want thin\n",
            "185  want thin -> want thing\n",
            "186 want thing -> ant things\n",
            "187 ant things -> nt things.\n"
          ]
        }
      ]
    },
    {
      "cell_type": "code",
      "source": [
        "# 출력해서 한 칸씩 쉬프트된 것 확인하기!\n",
        "\n",
        "print(x_data[0])\n",
        "print(y_data[0])"
      ],
      "metadata": {
        "colab": {
          "base_uri": "https://localhost:8080/"
        },
        "id": "XVFlILiOixdc",
        "outputId": "c75dc403-9010-4d48-ec63-3c676f82f6fa"
      },
      "execution_count": null,
      "outputs": [
        {
          "output_type": "stream",
          "name": "stdout",
          "text": [
            "[6, 23, 15, 1, 14, 9, 5, 0, 17, 17]\n",
            "[23, 15, 1, 14, 9, 5, 0, 17, 17, 24]\n"
          ]
        }
      ]
    },
    {
      "cell_type": "code",
      "source": [
        "##6. 입력 시퀀스에 대해 원핫인코딩 수행\n",
        "\n",
        "## 문제(4) : x_data를 원핫인코딩 > numpy의 eye를 쓸 수 있지 않을까?\n",
        "x_one_hot = [np.eye(len(vocab))[x] for x in x_data]\n",
        "# np.eye(N, M=None) -> (N x M) 크기의 2차원 행렬을 만들어 주는 함수\n",
        "\n",
        "##7. 입력 데이터, 레이블데이터 텐서로 변환\n",
        "\n",
        "## 문제(5) : x_one_hot과 y_data 텐서로 변환 : 둘 다 같은 형식의 텐서로 변환하면 될까?? (FloatTensor, LongTesor 중 맞는 것은?)\n",
        "X = torch.FloatTensor(x_one_hot)\n",
        "Y = torch.LongTensor(y_data)"
      ],
      "metadata": {
        "id": "5lPes1dvjlNb",
        "colab": {
          "base_uri": "https://localhost:8080/"
        },
        "outputId": "786c01d6-61a0-437b-c420-8ce9cadceb29"
      },
      "execution_count": null,
      "outputs": [
        {
          "output_type": "stream",
          "name": "stderr",
          "text": [
            "<ipython-input-9-9ec4e4519ecc>:10: UserWarning: Creating a tensor from a list of numpy.ndarrays is extremely slow. Please consider converting the list to a single numpy.ndarray with numpy.array() before converting to a tensor. (Triggered internally at ../torch/csrc/utils/tensor_new.cpp:230.)\n",
            "  X = torch.FloatTensor(x_one_hot)\n"
          ]
        }
      ]
    },
    {
      "cell_type": "code",
      "source": [
        "##8. 크기 확인\n",
        "print('훈련 데이터의 크기 : {}'.format(X.shape))\n",
        "print('레이블의 크기 : {}'.format(Y.shape))"
      ],
      "metadata": {
        "colab": {
          "base_uri": "https://localhost:8080/"
        },
        "id": "lMZzZlaymMk8",
        "outputId": "1caa4707-63dc-4794-88bb-b3c411ef1e49"
      },
      "execution_count": null,
      "outputs": [
        {
          "output_type": "stream",
          "name": "stdout",
          "text": [
            "훈련 데이터의 크기 : torch.Size([188, 10, 26])\n",
            "레이블의 크기 : torch.Size([188, 10])\n"
          ]
        }
      ]
    },
    {
      "cell_type": "code",
      "source": [
        "##9.원핫인코딩 결과 샘플 확인하기\n",
        "print(X[0])"
      ],
      "metadata": {
        "colab": {
          "base_uri": "https://localhost:8080/"
        },
        "id": "knx1DE_AmSFB",
        "outputId": "89b6d502-84e4-4d8d-b155-4eca8b76a250"
      },
      "execution_count": null,
      "outputs": [
        {
          "output_type": "stream",
          "name": "stdout",
          "text": [
            "tensor([[0., 0., 0., 0., 0., 0., 1., 0., 0., 0., 0., 0., 0., 0., 0., 0., 0., 0.,\n",
            "         0., 0., 0., 0., 0., 0., 0., 0.],\n",
            "        [0., 0., 0., 0., 0., 0., 0., 0., 0., 0., 0., 0., 0., 0., 0., 0., 0., 0.,\n",
            "         0., 0., 0., 0., 0., 1., 0., 0.],\n",
            "        [0., 0., 0., 0., 0., 0., 0., 0., 0., 0., 0., 0., 0., 0., 0., 1., 0., 0.,\n",
            "         0., 0., 0., 0., 0., 0., 0., 0.],\n",
            "        [0., 1., 0., 0., 0., 0., 0., 0., 0., 0., 0., 0., 0., 0., 0., 0., 0., 0.,\n",
            "         0., 0., 0., 0., 0., 0., 0., 0.],\n",
            "        [0., 0., 0., 0., 0., 0., 0., 0., 0., 0., 0., 0., 0., 0., 1., 0., 0., 0.,\n",
            "         0., 0., 0., 0., 0., 0., 0., 0.],\n",
            "        [0., 0., 0., 0., 0., 0., 0., 0., 0., 1., 0., 0., 0., 0., 0., 0., 0., 0.,\n",
            "         0., 0., 0., 0., 0., 0., 0., 0.],\n",
            "        [0., 0., 0., 0., 0., 1., 0., 0., 0., 0., 0., 0., 0., 0., 0., 0., 0., 0.,\n",
            "         0., 0., 0., 0., 0., 0., 0., 0.],\n",
            "        [1., 0., 0., 0., 0., 0., 0., 0., 0., 0., 0., 0., 0., 0., 0., 0., 0., 0.,\n",
            "         0., 0., 0., 0., 0., 0., 0., 0.],\n",
            "        [0., 0., 0., 0., 0., 0., 0., 0., 0., 0., 0., 0., 0., 0., 0., 0., 0., 1.,\n",
            "         0., 0., 0., 0., 0., 0., 0., 0.],\n",
            "        [0., 0., 0., 0., 0., 0., 0., 0., 0., 0., 0., 0., 0., 0., 0., 0., 0., 1.,\n",
            "         0., 0., 0., 0., 0., 0., 0., 0.]])\n"
          ]
        }
      ]
    },
    {
      "cell_type": "code",
      "source": [
        "##10. 레이블 데이터 샘플 확인하기\n",
        "print(Y[0])"
      ],
      "metadata": {
        "colab": {
          "base_uri": "https://localhost:8080/"
        },
        "id": "6pWDiH1SmYT_",
        "outputId": "549a4bce-dcd2-4303-84b2-26be0c33190b"
      },
      "execution_count": null,
      "outputs": [
        {
          "output_type": "stream",
          "name": "stdout",
          "text": [
            "tensor([23, 15,  1, 14,  9,  5,  0, 17, 17, 24])\n"
          ]
        }
      ]
    },
    {
      "cell_type": "code",
      "source": [
        "##11. RNN 모델 구현\n",
        "\n",
        "##문제(6) : 기본 pytorch 인자 넣기 연습 + forward 채우기\n",
        "### 조건 : rnn layer 2개 쌓기 + 마지막은 fc layer\n",
        "### batch_fisrt 설정 필요할까? (유튜브 강의 참고)\n",
        "\n",
        "class Net(torch.nn.Module):\n",
        "  def __init__(self, input_dim, hidden_dim, layers):\n",
        "    super(Net, self).__init__()\n",
        "    self.rnn = torch.nn.RNN(input_dim, hidden_dim, num_layers=layers, batch_first=True)\n",
        "    self.fc = torch.nn.Linear(hidden_size, vocab_size, bias=True)\n",
        "  \n",
        "  def forward(self, x):\n",
        "    x, _ = self.rnn(x)\n",
        "    x = self.fc(x)\n",
        "    return x"
      ],
      "metadata": {
        "id": "-Ww22xu8mfUc"
      },
      "execution_count": null,
      "outputs": []
    },
    {
      "cell_type": "code",
      "source": [
        "net = Net(vocab_size, hidden_size, 2)"
      ],
      "metadata": {
        "id": "No2GRvTpnLBl"
      },
      "execution_count": null,
      "outputs": []
    },
    {
      "cell_type": "code",
      "source": [
        "##12. loss function\n",
        "criterion = torch.nn.CrossEntropyLoss()\n",
        "\n",
        "##13. optimizer\n",
        "optimizer = optim.Adam(net.parameters(), learning_rate)"
      ],
      "metadata": {
        "id": "9-zuJLeUnQLB"
      },
      "execution_count": null,
      "outputs": []
    },
    {
      "cell_type": "code",
      "source": [
        "##14. 출력 크기 점검\n",
        "outputs = net(X)\n",
        "print(outputs.shape)"
      ],
      "metadata": {
        "colab": {
          "base_uri": "https://localhost:8080/"
        },
        "id": "z-RxRaiHnh9U",
        "outputId": "3f146ff7-3f9d-4894-eb88-f495a04e2f92"
      },
      "execution_count": null,
      "outputs": [
        {
          "output_type": "stream",
          "name": "stdout",
          "text": [
            "torch.Size([188, 10, 26])\n"
          ]
        }
      ]
    },
    {
      "cell_type": "code",
      "source": [
        "##15. Training 시작\n",
        "\n",
        "for i in range(100):\n",
        "    optimizer.zero_grad()\n",
        "    outputs = net(X)\n",
        "    ##문제(7) : outputs, Y 형태 그대로 넣으면 안되죠. view 함수를 이용해 loss값을 계산해봅시다.\n",
        "    loss = criterion(outputs.view(Y.view(-1).size()[0],-1), Y.view(-1))\n",
        "    loss.backward()\n",
        "    optimizer.step()\n",
        "\n",
        "    #16. 예측결과 확인\n",
        "    results = outputs.argmax(dim=2)\n",
        "    predict_str = \"\"\n",
        "    for j, result in enumerate(results):\n",
        "        if j == 0: # 처음에는 예측 결과를 전부 가져오기\n",
        "            predict_str += ''.join([world_set[t] for t in result])\n",
        "        else: # 그 다음에는 마지막 글자만 반복 추가\n",
        "            predict_str += world_set[result[-1]]\n",
        "\n",
        "    print(predict_str)"
      ],
      "metadata": {
        "colab": {
          "base_uri": "https://localhost:8080/"
        },
        "id": "uxxrxCd2nwoo",
        "outputId": "886f48ac-eeae-40b3-a767-b8998c809546"
      },
      "execution_count": null,
      "outputs": [
        {
          "output_type": "stream",
          "name": "stdout",
          "text": [
            "BBBBBBBBBBBBBBBBBBBBBBBBBBBBBBBBBBBBBBBBBBBBBBBBBBBBBBBBBBBBBBBBBBBBBBBBBBBBBBBBBBBBBBBBBBBBBBBBBBBBBBBBBBBBBBBBBBBBBBBBBBBBBBBBBBBBBBBBBBBBBBBBBBBBBBBBBBBBBBBBBBBBBBBBBBBBBBBBBBBBBBBBBBBBBBBBBBBBB\n",
            "ouauunuouuaauouaooauauuounuouauouuauouaouaauuaoauooaouauonuuuoaouuaouauunuouuaauouuookouauauooauuuoauoauaoonuaoauuouauauuaukaaaooonoauoaouuaouauunuouuaauouaooauauooaaauonuaauuonuuoauaoouoouokouauoa\n",
            "o a  aa  aaaao a     a o aao  ao  aa  a   au   a   a  a  a  a a a ao    aa  aaaao  o a     a  au   aa a    au  a  o   aa    aaao  a a  a a ao    aa  aaaao a     a  aaa  aaaaa  aa oa ao ao   a  a o \n",
            "                                                                                                                                                                                                     \n",
            "                                                                                                                                                                                                     \n",
            "                                                                                                                                                                                                     \n",
            "                                                                                                                                                                                                     \n",
            "                                                                                                                                                                                                     \n",
            "                                                                                                                                                                                                     \n",
            "                                                                                                                                                                                                     \n",
            "     t         t     t        t   t   t        t   t     t    t   t     t            t     t       t  t        t         t        t    t   t     t         t     t          t         t  t    t      \n",
            "   t t     t   t     t   t    t   t   t   t    t   t     t    t   t   t t     t      th    t t     t  t    t   t         t        t    t   t   t t     t   t     t t     t  t   t     t  t    t      \n",
            "   t th    t   tht t th  t    t   t   t t t    t   th    th   th  t   t th    t      th  t tht     t  t    t   t t t t   th   t   th   th  t   t th    t   tht t tht     t  th  t     th t t  th     \n",
            "   t th    t   tht t th  t    t   t   t t t    th  th    th   th  th  t th    t   t  th  t tht     t  th   th  tht t t   th       th   th  th  t th    t   tht t tht     t  th  th    th tht  th     \n",
            "   t th    th  tht t th  ta   th  th  tht th   th  th    th  hth  th  t th    th  t  th  t tht     t  th   th  tht t t   th    h  th   th  th  t th    th  tht t tht     th th  th    th th   th     \n",
            "   t th    th  th  t th  ta   th  th  th  th   th  th    th  hth  th  t th    th  t  th  t tht     t  th   th  tht t t   th    a  th  hth  th  t th    th  th  t tht     th th  th    th th   th    t\n",
            "   t th    ta  th  t th  ta   th  th  th  th   th  th    th  hth  th  t th    ta  t  th  t tht h   th th   th  tht t t o th    a  th  hth  th  t th    ta  th  t tht a   th th  ah    th th   th    t\n",
            "   t th    aa  th  a th  tao  th  th  tht th   th  th    th  hthe th  t th    aa  t  the t tht h   th th   th  tht t t o the   ao the hthe th  t th    aa  th  a tht a   th th  aht   th tht  th    t\n",
            "   t tae   aa  the a th  tao  th  tho tht ta   th  the   th ththe the t ta    aa  t  the t tht a   th th   th  ththt a o the   ao the hthe the t ta    aa  the a tht a   ta th  aht   ta tht  the    \n",
            "   t taeo  aao the e th  tao  th  tao tht tao  th  the   th ththe the t taeo  aao t  the e thtta   th th   th  ththt aao the   ao the hthe the t taeo  aao the e thtta   ta th  aato  ta tht  the    \n",
            "   t taeo  aao the e to  aao  th  tao tht tao  th  the   th ththe the t taeo  aao t  the e thtta   th th   the ththt aao the   ao the hthe the t taeo  aao the e thttae  ta th  aaeo  ta tht  the    \n",
            "   t taeo  aae the e to  aae  th  tao tht tao  the the   theththe the t taro  aae t  the e thtth   th th   the ththe eao the   al the hthe the t taro  aae the e thttae  ta th  aatot ta tht  the    \n",
            "   t tarl  aae the e to  aae  th  tao tht tao  the the   theththe the t tarl  aae t  the e thtth   th th   the thehe eah the   al the hthe the t tarl  aae the e thttae  ta th  aatot ta tht  the    \n",
            " e t tall  aae the e to  aae  th  tal tht tal  th  the   th ththe the t aall  aae t  the e thtth   th th   the thehe eao the   al thenhthe the t aall  aae the e thttae  aa th  aatot ta tht  the    \n",
            " e t wall  aae the e to  aae  th  tal tht tal  th  the   th ththe the t aall  aae tt the e thtth   th to   the thehe e o the   al then the the t aall  aae the e thttae  aa to  aatot ta tht  the    \n",
            " e t aall  aae the e to  aat  t   tal tht aal  th  the   thet the thent aall  aae tt the e thtth   th to  ethe ththe e o then  al then the thent aall  aae the e thttae  aa to  aatot ta thl  the    \n",
            " e t aall  aae the e to  aat  t   tal tht aul hth  then  thet the thent aall  aae tt the e thtth   ts to  ethe ththe e o then aal then the thent aall  aae the e thttae  aa tot aallt ta tol  then   \n",
            " ent wall  aae the e to  aul  t   tal tht aul hth  then  thet the thent aall  aae tt the e thtth   ts ao   tot ththe etl then aal then the thent aall  aae the e thttaet aa tot aallt ta tol  then   \n",
            " ent wall  aae the e to  arl  t   tul tht aul hto  then  thet the thenk wall  aae tt the e thtth   ts au   tot ththe etl then aal then the thenk wall  aae the e thttaet ae rot aallk ta tals then   \n",
            " ent wall  aae the e to  arl  t   tul tht aul hto  then  thet the trenk wall  aae tt the e thtth   ts au   tot ththe etl then aal theththe trenk wall  aae the e thttaet ae aot aallk ta tals then   \n",
            " enk walls aae the e to  arl  t   tul tht bulthto  then  thet the trenk walls aae tt the e thtth r ts au   tot ththe etn then aal theththe trenk walls aae the e thttaet ae aot aallk ta tals then   \n",
            " enk talls are the e to  arl  r   ttl tht tulthto  then  thet the trenk talls are tt the e thtth   ts au   tot ththe etn then tal thet the trenk talls are the e thtthet be aet aallk ta tals then   \n",
            " enk talls are the e to  arue r   ttl tht tulthto  thent thet the trink talls are tt the e thtth   ts au   tot ththe etn then tal thet the trink talls are the e thtthet b  aet aadlk ta tals then   \n",
            " enk walls are the e to  arue r   tnl tht tulthto  then  thet the trink talls are tt the e thtth r ts aut  tot ththe etn then wal thet the trink talls are the e th thet b  ret badlk ta tals then   \n",
            " enk walls are there to  arbe re  anl tht bulthto  then  thet the trink talls are tt the e th th r ts aut  tot ththe etn then aal then the trink talls are there th thet b  ret badlk wa tals then   \n",
            " eck walls are there to  arbe r   anl tht bulthtot then  thet the baick walls are tt the e th th r ts au   tut bht e een then aal then the baick walls are there th thet b  aet brdlk wa tals then s \n",
            " ick walls are there to  arbe not anl tht bulthtot then  thet the baick walls are tt the e th th r ts au   tut bhthereen then aal then the baick walls are there th taet b  het brdlk wa tals then s \n",
            " ick walls are there to  arbe nos anl tht tulthtot thenk then the baick walls are tt the e th th r ts aut  tut bhthereen then aal then the baick walls are there th taet b  het brdlk wa tals then s \n",
            " ick walls are there to  arbe nos anl tht tulthtot thenk then the brick walls are tt the e th th r ts aut  tut bhtherean then aal then the brick walls are there th ta t b  het brdlk wa tans then s \n",
            " ick walls are there tot arbe n s anl thw tulthtot thenk thet the brick walls are tt the e th th r ts hut  tut ththerean then wal then the brick walls are there th ta t b  het badlk wa tans then t \n",
            "rick walls are there tot arbe nos anl thw tulthtot thenk thet the brick walls are tt the e th th r ts hut  but ththerean then wal thet the brick walls are there th taet b  het badlk wa tans then t \n",
            "rick walls are there tot arbe nos anl thw tusthtot thenk thet the brick walls are tt the e th th r ts hut  but ththerean thin wal thet the brick walls are there th thet b  het badlk wa tans thinktt\n",
            "rick walls are there tot arbeanos and thw tusthtot thenk thet the brick walls are tt the e th th r ts hut  but ththerein thin wal thet the brick walls are there th thot bs het badlk wa tals thinktt\n",
            "rick walls are there tos areeanos and thw tusthtot thenk thet the trick walls are tt the e th th r us hut  but ththerein thin wal thet the trick walls are there th thow bs het badlk wa talt thinktt\n",
            "rick walls are there tos areeanos and tow tusthtot thenk thet the trick walls are tt the e th te r us hut  but ththerein thin wal thet the trick walls are there th thow bs het badlk wa talt thinktt\n",
            "rick walls are there tos areeanos and tow aust tot thenk thet the brick walls are tt the e th te r us hut  but ththerein thin wal thet the brick walls are there th thow bs het badly wa talt thinktc\n",
            "rick walls are there tos areeanos and tou au t tot thenk thet the brick walls are tt the e th te r us hut  but tetherein thin wal thet the brick walls are there th thow bs hot badly wa talt thinktc\n",
            "rick walls are there tos a reanos and tou au t tot thenk thet the brick walls are tt the e th te r us hut  but tetherein thin wal thet the brick walls are there th thow bs how badly wa talt thinktc\n",
            "rick walls are there tos a reatos and tow au t tot thenk thet the brick walls are tt the e th te r us hut  but tatherein thin wal thet the brick walls are there th thow bs how badly we talt thinktc\n",
            "rick walls are there tos a reatos and tow aust tot thenk thet the brick walls are tt the e th te r us out  but tatherein this wal thet the brick walls are there th thow bs how badly we talt thinktc\n",
            "rick walls are there tos a reatos and tow aust tot thenk thet the brick walls are tt the e th te p us out  but tatherein this wal thet the brick walls are there th thow bs how badly wa tant thinktc\n",
            "rick walls are there tos a reatos and tow aust tot think thet the brick walls are tt the e th te p us out  but retherein this wal that the brick walls are there th thow bs how badly wa tant thinktc\n",
            "rick walls are there tos a reatos and tow aust tot thenk thet the brick walls are tt the e th te p us out  but  atherein thin wal that the brick walls are there th thow bs how badly wa tant thinktc\n",
            "rick walls are there ton a reatos and yow aust tot thenk that the brick walls are tt there th te p us out, but  atherein thin wal that the brick walls are there th thow bs how badly wa tant thinktc\n",
            "rick walls are there ton a reaton and yow aust tot thenk that the brick walls are tt there th te p us out, but ratherein thin wal that the brick walls are there th thow bs how badly we tant thinktc\n",
            "rick walls are there ton a reaton and yow aust tot thenk that the brick walls are tt there th te p us out, but ratherein thin wal that the brick walls are there th thow bs how badly we tant thinktc\n",
            "rick walls are there ton a reaton and yow must tot thenk that the brick walls are tt there to te p us out, but rather in this wad that the brick walls are there to thow us how badly we tant thinktc\n",
            "rick walls are there tor a reaton and yow must tot think that the brick walls are tt there to te p us out, but rather in this wau that the brick walls are there to thow us how badly we tant thinktc\n",
            "rick walls are there tor a reaton and yow must tot think that the brick walls are tt there to te p us out, but rather in this wau that the brick walls are there to thow us how badly we tant thinkn,\n",
            "rick walls are there tor a reason and yow must rot think that the brick walls are tt there to te p us out, but rather in this wau that the brick walls are there to thow us how badly we tant thinkn,\n",
            "rick walls are there tor a reason and you must rot think that the brick walls are tt there to ke p us hut, but rather in this way that the brick walls are there to khow us how badly we tant think ,\n",
            "rick walls are there tor a reason and you must rot think that the brick walls are tt there to ke p us hut, but rather in this way that the brick walls are there to khow us how badly we tant think ,\n",
            "rick walls are there tor a reason and you must not think that the brick walls are 't there to ke p us hut, but rather in this way that the brick walls are there to khow us how badly we want think ,\n",
            "rick walls are there tor a reason and you must not think that the brick walls are 't there to keep us hut, but rather in this way that the brick walls are there to khow us how badly we want think c\n",
            "rick walls are there tor a reason and you must not think that the brick walls are 't there to keep us hut, but rather in this way that the brick walls are there to khow us how badly we want think c\n",
            "rick walls are there tor a reason and you must not think that the brick walls are 't there to keep us hut, but rather in this way that the brick walls are there to khow us how badly we want thinksc\n",
            "rick walls are there tor a reason and you must not think that the brick walls are 't there to keep us hut, but rather in this way that the brick walls are there to khow us how badly we want thinksc\n",
            "rick walls are there tor a reason and you must not think that the brick walls are 't there to keep us hut, but rather in this way that the brick walls are there to khow us how badly we want thinksc\n",
            "rick walls are there tor a reason and you must not think that the brick walls are 't there to seep us hut, but rather in this way that the brick walls are there to show us how badly we want thinksc\n",
            "rick walls are there tor a reason and you must not think that the brick walls are 't there to seep us hut, but rather in this way that the brick walls are there to show us how badly we want thinksc\n",
            "rick walls are there tor a reason and you must not think that the brick walls are 't there to seep us out, but rather in this way that the brick walls are there to show us how badly we want thinksc\n",
            "rick walls are there tor a reason and you must not think that the brick walls are 't there to seep us out, but rather in this way that the brick walls are there to show us how badly we want thinks,\n",
            "rick walls are there tor a reason and you must not think that the brick walls are 't there to seep us out, but rather in this way that the brick walls are there to show us how badly we want thinks,\n",
            "rick walls are there tor a reason and you must not think that the brick walls are 't there to seep us out, but rather in this way that the brick walls are there to show us how badly we want thinks,\n",
            "rick walls are there tor a reason and you must not think that the brick walls are 't there to keep us out, but rather in this way that the brick walls are there to khow us how badly we want thinks,\n",
            "rick walls are there tor a reason and you must not think that the brick walls are 't there to keep us out, but rather in this way that the brick walls are there to khow us how badly we want thinks,\n",
            "rick walls are there tor a reason and you must not think that the brick walls are 't there to keep us out, but rather in this way that the brick walls are there to khow us how badly we want thinks,\n",
            "rick walls are there tor a reason and you must not think that the brick walls are 't there to keep us out, but rather in this way that the brick walls are there to khow us how badly we want thinks,\n",
            "rick walls are there tor a reason and you must not think that the brick walls are 't there to keep us out, but rather in this way that the brick walls are there to khow us how badly we want thinks,\n",
            "rick walls are there tor a reason and you must not think that the brick walls are 't there to keep us out, but rather in this way that the brick walls are there to khow us how badly we want thinks,\n",
            "rick walls are there tor a reason and you must not think that the brick walls are 't there to keep us out, but rather in this way that the brick walls are there to khow us how badly we want thinks,\n",
            "rick walls are there tor a reason and you must not think that the brick walls are 't there to keep us out, but rather in this way that the brick walls are there to khow us how badly we want thinks,\n",
            "rick walls are there tor a reason and you must not think that the brick walls are 't there to keep us out, but rather in this way that the brick walls are there to khow us how badly we want thinks,\n",
            "rick walls are there tor a reason and you must not think that the brick walls are 't there to keep us out, but rather in this way that the brick walls are there to khow us how badly we want thinks,\n",
            "rick walls are there tor a reason and you must not think that the brick walls are 't there to keep us out, but rather in this way that the brick walls are there to khow us how badly we want thinks,\n",
            "rick walls are there tor a reason and you must not think that the brick walls are 't there to keep us out, but rather in this way that the brick walls are there to khow us how badly we want thinks,\n",
            "rick walls are there tor a reason and you must not think that the brick walls are 't there to keep us out, but rather in this way that the brick walls are there to khow us how badly we want thinks,\n",
            "rick walls are there tor a reason and you must not think that the brick walls are 't there to keep us out, but rather in this way that the brick walls are there to khow us how badly we want thinks,\n",
            "rick walls are there tor a reason and you must not think that the brick walls are 't there to keep us out, but rather in this way that the brick walls are there to khow us how badly we want thinks,\n",
            "rick walls are there tor a reason and you must not think that the brick walls are 't there to keep us out, but rather in this way that the brick walls are there to khow us how badly we want thinks,\n",
            "rick walls are there tor a reason and you must not think that the brick walls are 't there to keep us out, but rather in this way that the brick walls are there to khow us how badly we want thinks,\n",
            "rick walls are there tor a reason and you must not think that the brick walls are 't there to keep us out, but rather in this way that the brick walls are there to khow us how badly we want thinks,\n",
            "rick walls are there tor a reason and you must not think that the brick walls are 't there to keep us out, but rather in this way that the brick walls are there to khow us how badly we want thinksd\n",
            "rick walls are there tor a reason and you must not think that the brick walls are 't there to keep us out, but rather in this way that the brick walls are there to khow us how badly we want thinksd\n",
            "rick walls are there tor a reason and you must not think that the brick walls are 't there to keep us out, but rather in this way that the brick walls are there to khow us how badly we want thinksd\n",
            "rick walls are there tor a reason and you must not think that the brick walls are 't there to keep us out, but rather in this way that the brick walls are there to khow us how badly we want thinksd\n",
            "rick walls are there tor a reason and you must not think that the brick walls are 't there to keep us out, but rather in this way that the brick walls are there to khow us how badly we want thinksd\n",
            "rick walls are there tor a reason and you must not think that the brick walls are 't there to keep us out, but rather in this way that the brick walls are there to khow us how badly we want thinksd\n",
            "rick walls are there tor a reason and you must not think that the brick walls are 't there to keep us out, but rather in this way that the brick walls are there to khow us how badly we want thinksd\n",
            "rick walls are there tor a reason and you must not think that the brick walls are 't there to keep us out, but rather in this way that the brick walls are there to khow us how badly we want thingsd\n"
          ]
        }
      ]
    },
    {
      "cell_type": "code",
      "source": [
        "predict_str"
      ],
      "metadata": {
        "colab": {
          "base_uri": "https://localhost:8080/",
          "height": 54
        },
        "id": "8qUkbiw2t0Il",
        "outputId": "8235959d-5883-4848-8670-3ecf7f8cdc7b"
      },
      "execution_count": null,
      "outputs": [
        {
          "output_type": "execute_result",
          "data": {
            "text/plain": [
              "\"rick walls are there tor a reason and you must not think that the brick walls are 't there to keep us out, but rather in this way that the brick walls are there to khow us how badly we want thingsd\""
            ],
            "application/vnd.google.colaboratory.intrinsic+json": {
              "type": "string"
            }
          },
          "metadata": {},
          "execution_count": 18
        }
      ]
    },
    {
      "cell_type": "markdown",
      "source": [
        "결과가 어떤가요?? 마지막 에폭의 문장이 그럴싸한가요?"
      ],
      "metadata": {
        "id": "PkIzDTdyvTHz"
      }
    },
    {
      "cell_type": "markdown",
      "source": [
        "## Task2\n",
        "\n",
        "위 sentence는 제가 임의로 생성한 문장들입니다.\n",
        "\n",
        "마음에 드시는 문구 가져오셔서 문장이 어떻게 생성되는지 확인해보세요! \n",
        "\n",
        "영어가 아닌 한국어로 시도해보는 것도 좋겠죠? \n",
        "\n",
        "수정이 많이 필요(토큰화 등) 할 수 있으나 한번 시도해보시는 것 권장드립니다 :)\n",
        "\n",
        "위 베이스라인은 어디든 수정하셔도 좋고 조금 더 자연스러운 문장이 나올 수 있게 다양한 시도를 해보세요!\n",
        "\n",
        "조건 : 문장 3개 이상, 연결성이 있는 문장을 \" \" 으로 구분하여 ( )에 넣기"
      ],
      "metadata": {
        "id": "kN1zL8Dpvane"
      }
    },
    {
      "cell_type": "code",
      "source": [
        "sentence = (\"A nice house sits on the western plains, surrounded by \"\n",
        "            \"burrows, pyramid-shaped structures and long highways where lizards, \"\n",
        "            \"squirrels, and hedgehogs can hide themselves.\")"
      ],
      "metadata": {
        "id": "IKp-lKrjvXR9"
      },
      "execution_count": null,
      "outputs": []
    },
    {
      "cell_type": "code",
      "source": [
        "world_set = list(set(sentence))\n",
        "\n",
        "# 각 문자에 정수 인코딩\n",
        "vocab = {val : i for i, val in enumerate(world_set)}"
      ],
      "metadata": {
        "id": "HGyDdbxDlma3"
      },
      "execution_count": null,
      "outputs": []
    },
    {
      "cell_type": "code",
      "source": [
        "print(vocab)"
      ],
      "metadata": {
        "id": "-yUk5SXYlmdo",
        "colab": {
          "base_uri": "https://localhost:8080/"
        },
        "outputId": "a263aee9-227c-4ea0-a432-0dfff916dad7"
      },
      "execution_count": null,
      "outputs": [
        {
          "output_type": "stream",
          "name": "stdout",
          "text": [
            "{'u': 0, '-': 1, 'l': 2, 'i': 3, 'p': 4, 'A': 5, 's': 6, 'r': 7, 'd': 8, 'v': 9, 'z': 10, ' ': 11, 'h': 12, 'n': 13, 'w': 14, 'o': 15, 'y': 16, 'c': 17, ',': 18, 'm': 19, 'e': 20, 't': 21, 'b': 22, '.': 23, 'q': 24, 'g': 25, 'a': 26}\n"
          ]
        }
      ]
    },
    {
      "cell_type": "code",
      "source": [
        "vocab_size = len(vocab)\n",
        "print('문자 집합 크기 : {}'.format(vocab_size))"
      ],
      "metadata": {
        "id": "EDcadd9Mlmg4",
        "colab": {
          "base_uri": "https://localhost:8080/"
        },
        "outputId": "480f14e4-5bf6-4b2b-ccff-4491763a4400"
      },
      "execution_count": null,
      "outputs": [
        {
          "output_type": "stream",
          "name": "stdout",
          "text": [
            "문자 집합 크기 : 27\n"
          ]
        }
      ]
    },
    {
      "cell_type": "code",
      "source": [
        "hidden_size = vocab_size # 동일해야 함.\n",
        "sequence_length = 10  # 너무 길거나 짧지 않게 해야 함.\n",
        "learning_rate = 0.01"
      ],
      "metadata": {
        "id": "8Vz9JOAglmj5"
      },
      "execution_count": null,
      "outputs": []
    },
    {
      "cell_type": "code",
      "source": [
        "# seqence 길이 단위 자르기\n",
        "\n",
        "x_data = []\n",
        "y_data = []\n",
        "\n",
        "for i in range(0, len(sentence) - sequence_length):\n",
        "    x_str = sentence[i : i+sequence_length]\n",
        "    y_str = sentence[i+1 : i+1+sequence_length]\n",
        "    print(i, x_str, \"->\", y_str)\n",
        "\n",
        "  # x_str과 y_str이 문자집합에 해당하는 인덱스를 각각 x_data, y_data에 append\n",
        "    x_data.append([vocab[c] for c in x_str])\n",
        "    y_data.append([vocab[d] for d in y_str])"
      ],
      "metadata": {
        "id": "o6mByBEElmsZ",
        "colab": {
          "base_uri": "https://localhost:8080/"
        },
        "outputId": "a0337005-ae8e-4fc5-bac7-9a57365be423"
      },
      "execution_count": null,
      "outputs": [
        {
          "output_type": "stream",
          "name": "stdout",
          "text": [
            "0 A nice hou ->  nice hous\n",
            "1  nice hous -> nice house\n",
            "2 nice house -> ice house \n",
            "3 ice house  -> ce house s\n",
            "4 ce house s -> e house si\n",
            "5 e house si ->  house sit\n",
            "6  house sit -> house sits\n",
            "7 house sits -> ouse sits \n",
            "8 ouse sits  -> use sits o\n",
            "9 use sits o -> se sits on\n",
            "10 se sits on -> e sits on \n",
            "11 e sits on  ->  sits on t\n",
            "12  sits on t -> sits on th\n",
            "13 sits on th -> its on the\n",
            "14 its on the -> ts on the \n",
            "15 ts on the  -> s on the w\n",
            "16 s on the w ->  on the we\n",
            "17  on the we -> on the wes\n",
            "18 on the wes -> n the west\n",
            "19 n the west ->  the weste\n",
            "20  the weste -> the wester\n",
            "21 the wester -> he western\n",
            "22 he western -> e western \n",
            "23 e western  ->  western p\n",
            "24  western p -> western pl\n",
            "25 western pl -> estern pla\n",
            "26 estern pla -> stern plai\n",
            "27 stern plai -> tern plain\n",
            "28 tern plain -> ern plains\n",
            "29 ern plains -> rn plains,\n",
            "30 rn plains, -> n plains, \n",
            "31 n plains,  ->  plains, s\n",
            "32  plains, s -> plains, su\n",
            "33 plains, su -> lains, sur\n",
            "34 lains, sur -> ains, surr\n",
            "35 ains, surr -> ins, surro\n",
            "36 ins, surro -> ns, surrou\n",
            "37 ns, surrou -> s, surroun\n",
            "38 s, surroun -> , surround\n",
            "39 , surround ->  surrounde\n",
            "40  surrounde -> surrounded\n",
            "41 surrounded -> urrounded \n",
            "42 urrounded  -> rrounded b\n",
            "43 rrounded b -> rounded by\n",
            "44 rounded by -> ounded by \n",
            "45 ounded by  -> unded by b\n",
            "46 unded by b -> nded by bu\n",
            "47 nded by bu -> ded by bur\n",
            "48 ded by bur -> ed by burr\n",
            "49 ed by burr -> d by burro\n",
            "50 d by burro ->  by burrow\n",
            "51  by burrow -> by burrows\n",
            "52 by burrows -> y burrows,\n",
            "53 y burrows, ->  burrows, \n",
            "54  burrows,  -> burrows, p\n",
            "55 burrows, p -> urrows, py\n",
            "56 urrows, py -> rrows, pyr\n",
            "57 rrows, pyr -> rows, pyra\n",
            "58 rows, pyra -> ows, pyram\n",
            "59 ows, pyram -> ws, pyrami\n",
            "60 ws, pyrami -> s, pyramid\n",
            "61 s, pyramid -> , pyramid-\n",
            "62 , pyramid- ->  pyramid-s\n",
            "63  pyramid-s -> pyramid-sh\n",
            "64 pyramid-sh -> yramid-sha\n",
            "65 yramid-sha -> ramid-shap\n",
            "66 ramid-shap -> amid-shape\n",
            "67 amid-shape -> mid-shaped\n",
            "68 mid-shaped -> id-shaped \n",
            "69 id-shaped  -> d-shaped s\n",
            "70 d-shaped s -> -shaped st\n",
            "71 -shaped st -> shaped str\n",
            "72 shaped str -> haped stru\n",
            "73 haped stru -> aped struc\n",
            "74 aped struc -> ped struct\n",
            "75 ped struct -> ed structu\n",
            "76 ed structu -> d structur\n",
            "77 d structur ->  structure\n",
            "78  structure -> structures\n",
            "79 structures -> tructures \n",
            "80 tructures  -> ructures a\n",
            "81 ructures a -> uctures an\n",
            "82 uctures an -> ctures and\n",
            "83 ctures and -> tures and \n",
            "84 tures and  -> ures and l\n",
            "85 ures and l -> res and lo\n",
            "86 res and lo -> es and lon\n",
            "87 es and lon -> s and long\n",
            "88 s and long ->  and long \n",
            "89  and long  -> and long h\n",
            "90 and long h -> nd long hi\n",
            "91 nd long hi -> d long hig\n",
            "92 d long hig ->  long high\n",
            "93  long high -> long highw\n",
            "94 long highw -> ong highwa\n",
            "95 ong highwa -> ng highway\n",
            "96 ng highway -> g highways\n",
            "97 g highways ->  highways \n",
            "98  highways  -> highways w\n",
            "99 highways w -> ighways wh\n",
            "100 ighways wh -> ghways whe\n",
            "101 ghways whe -> hways wher\n",
            "102 hways wher -> ways where\n",
            "103 ways where -> ays where \n",
            "104 ays where  -> ys where l\n",
            "105 ys where l -> s where li\n",
            "106 s where li ->  where liz\n",
            "107  where liz -> where liza\n",
            "108 where liza -> here lizar\n",
            "109 here lizar -> ere lizard\n",
            "110 ere lizard -> re lizards\n",
            "111 re lizards -> e lizards,\n",
            "112 e lizards, ->  lizards, \n",
            "113  lizards,  -> lizards, s\n",
            "114 lizards, s -> izards, sq\n",
            "115 izards, sq -> zards, squ\n",
            "116 zards, squ -> ards, squi\n",
            "117 ards, squi -> rds, squir\n",
            "118 rds, squir -> ds, squirr\n",
            "119 ds, squirr -> s, squirre\n",
            "120 s, squirre -> , squirrel\n",
            "121 , squirrel ->  squirrels\n",
            "122  squirrels -> squirrels,\n",
            "123 squirrels, -> quirrels, \n",
            "124 quirrels,  -> uirrels, a\n",
            "125 uirrels, a -> irrels, an\n",
            "126 irrels, an -> rrels, and\n",
            "127 rrels, and -> rels, and \n",
            "128 rels, and  -> els, and h\n",
            "129 els, and h -> ls, and he\n",
            "130 ls, and he -> s, and hed\n",
            "131 s, and hed -> , and hedg\n",
            "132 , and hedg ->  and hedge\n",
            "133  and hedge -> and hedgeh\n",
            "134 and hedgeh -> nd hedgeho\n",
            "135 nd hedgeho -> d hedgehog\n",
            "136 d hedgehog ->  hedgehogs\n",
            "137  hedgehogs -> hedgehogs \n",
            "138 hedgehogs  -> edgehogs c\n",
            "139 edgehogs c -> dgehogs ca\n",
            "140 dgehogs ca -> gehogs can\n",
            "141 gehogs can -> ehogs can \n",
            "142 ehogs can  -> hogs can h\n",
            "143 hogs can h -> ogs can hi\n",
            "144 ogs can hi -> gs can hid\n",
            "145 gs can hid -> s can hide\n",
            "146 s can hide ->  can hide \n",
            "147  can hide  -> can hide t\n",
            "148 can hide t -> an hide th\n",
            "149 an hide th -> n hide the\n",
            "150 n hide the ->  hide them\n",
            "151  hide them -> hide thems\n",
            "152 hide thems -> ide themse\n",
            "153 ide themse -> de themsel\n",
            "154 de themsel -> e themselv\n",
            "155 e themselv ->  themselve\n",
            "156  themselve -> themselves\n",
            "157 themselves -> hemselves.\n"
          ]
        }
      ]
    },
    {
      "cell_type": "code",
      "source": [
        "# 입력 시퀀스에 대해 원핫인코딩 수행\n",
        "\n",
        "# np.eye를 사용하여 x_data를 원핫인코딩\n",
        "x_one_hot = [np.eye(len(vocab))[x] for x in x_data]\n",
        "\n",
        "X = torch.FloatTensor(x_one_hot)\n",
        "Y = torch.LongTensor(y_data)"
      ],
      "metadata": {
        "id": "1VD08_lSlmvN",
        "colab": {
          "base_uri": "https://localhost:8080/"
        },
        "outputId": "9df3e79e-a213-44a9-e2b1-154a69b148ca"
      },
      "execution_count": null,
      "outputs": [
        {
          "output_type": "stream",
          "name": "stderr",
          "text": [
            "<ipython-input-8-1fb9ae18dd2a>:6: UserWarning: Creating a tensor from a list of numpy.ndarrays is extremely slow. Please consider converting the list to a single numpy.ndarray with numpy.array() before converting to a tensor. (Triggered internally at ../torch/csrc/utils/tensor_new.cpp:230.)\n",
            "  X = torch.FloatTensor(x_one_hot)\n"
          ]
        }
      ]
    },
    {
      "cell_type": "code",
      "source": [
        "print('훈련 데이터의 크기 : {}'.format(X.shape))\n",
        "print('레이블의 크기 : {}'.format(Y.shape))"
      ],
      "metadata": {
        "colab": {
          "base_uri": "https://localhost:8080/"
        },
        "id": "G0_JbOPh77TJ",
        "outputId": "24662a60-2ab1-4834-ee85-fd0f147b7f47"
      },
      "execution_count": null,
      "outputs": [
        {
          "output_type": "stream",
          "name": "stdout",
          "text": [
            "훈련 데이터의 크기 : torch.Size([158, 10, 27])\n",
            "레이블의 크기 : torch.Size([158, 10])\n"
          ]
        }
      ]
    },
    {
      "cell_type": "code",
      "source": [
        "print(X[0])"
      ],
      "metadata": {
        "colab": {
          "base_uri": "https://localhost:8080/"
        },
        "id": "lsfNjOsd77Wl",
        "outputId": "ed35b087-fe07-4168-e4f9-c2232108b469"
      },
      "execution_count": null,
      "outputs": [
        {
          "output_type": "stream",
          "name": "stdout",
          "text": [
            "tensor([[0., 0., 0., 0., 0., 1., 0., 0., 0., 0., 0., 0., 0., 0., 0., 0., 0., 0.,\n",
            "         0., 0., 0., 0., 0., 0., 0., 0., 0.],\n",
            "        [0., 0., 0., 0., 0., 0., 0., 0., 0., 0., 0., 1., 0., 0., 0., 0., 0., 0.,\n",
            "         0., 0., 0., 0., 0., 0., 0., 0., 0.],\n",
            "        [0., 0., 0., 0., 0., 0., 0., 0., 0., 0., 0., 0., 0., 1., 0., 0., 0., 0.,\n",
            "         0., 0., 0., 0., 0., 0., 0., 0., 0.],\n",
            "        [0., 0., 0., 1., 0., 0., 0., 0., 0., 0., 0., 0., 0., 0., 0., 0., 0., 0.,\n",
            "         0., 0., 0., 0., 0., 0., 0., 0., 0.],\n",
            "        [0., 0., 0., 0., 0., 0., 0., 0., 0., 0., 0., 0., 0., 0., 0., 0., 0., 1.,\n",
            "         0., 0., 0., 0., 0., 0., 0., 0., 0.],\n",
            "        [0., 0., 0., 0., 0., 0., 0., 0., 0., 0., 0., 0., 0., 0., 0., 0., 0., 0.,\n",
            "         0., 0., 1., 0., 0., 0., 0., 0., 0.],\n",
            "        [0., 0., 0., 0., 0., 0., 0., 0., 0., 0., 0., 1., 0., 0., 0., 0., 0., 0.,\n",
            "         0., 0., 0., 0., 0., 0., 0., 0., 0.],\n",
            "        [0., 0., 0., 0., 0., 0., 0., 0., 0., 0., 0., 0., 1., 0., 0., 0., 0., 0.,\n",
            "         0., 0., 0., 0., 0., 0., 0., 0., 0.],\n",
            "        [0., 0., 0., 0., 0., 0., 0., 0., 0., 0., 0., 0., 0., 0., 0., 1., 0., 0.,\n",
            "         0., 0., 0., 0., 0., 0., 0., 0., 0.],\n",
            "        [1., 0., 0., 0., 0., 0., 0., 0., 0., 0., 0., 0., 0., 0., 0., 0., 0., 0.,\n",
            "         0., 0., 0., 0., 0., 0., 0., 0., 0.]])\n"
          ]
        }
      ]
    },
    {
      "cell_type": "code",
      "source": [
        "print(Y[0])"
      ],
      "metadata": {
        "colab": {
          "base_uri": "https://localhost:8080/"
        },
        "id": "0Rio8vsS77bK",
        "outputId": "2ccc9dad-806f-4981-be7a-e83535dda58c"
      },
      "execution_count": null,
      "outputs": [
        {
          "output_type": "stream",
          "name": "stdout",
          "text": [
            "tensor([11, 13,  3, 17, 20, 11, 12, 15,  0,  6])\n"
          ]
        }
      ]
    },
    {
      "cell_type": "markdown",
      "source": [
        "### 1. RNN"
      ],
      "metadata": {
        "id": "aVxIlxTEDN8g"
      }
    },
    {
      "cell_type": "code",
      "source": [
        "class Net1(torch.nn.Module):\n",
        "    def __init__(self, input_dim, hidden_dim, layers):\n",
        "        super(Net1, self).__init__()\n",
        "        self.rnn = torch.nn.RNN(input_dim, hidden_dim, num_layers=layers, batch_first=True)\n",
        "        self.fc = torch.nn.Linear(hidden_size, vocab_size, bias=True)\n",
        "  \n",
        "    def forward(self, x):\n",
        "        x, _ = self.rnn(x)\n",
        "        x = self.fc(x)\n",
        "        return x"
      ],
      "metadata": {
        "id": "VhGbMfQW77dy"
      },
      "execution_count": null,
      "outputs": []
    },
    {
      "cell_type": "markdown",
      "source": [
        "### 2. LSTM"
      ],
      "metadata": {
        "id": "E41XebceDVPg"
      }
    },
    {
      "cell_type": "code",
      "source": [
        "class Net2(torch.nn.Module):\n",
        "    def __init__(self, input_dim, hidden_dim, layers):\n",
        "        super(Net2, self).__init__()\n",
        "        self.lstm = nn.LSTM(input_dim, hidden_dim, num_layers = layers,\n",
        "                            batch_first = True, bidirectional = True)\n",
        "        self.fc = torch.nn.Linear(hidden_size * 2, vocab_size, bias=True) # 양방향이므로\n",
        "  \n",
        "    def forward(self, x):\n",
        "        x, _ = self.lstm(x)\n",
        "        x = self.fc(x)\n",
        "        return x"
      ],
      "metadata": {
        "id": "-vtZ90zC77gH"
      },
      "execution_count": null,
      "outputs": []
    },
    {
      "cell_type": "code",
      "source": [
        "net1 = Net1(vocab_size, hidden_size, 2)\n",
        "net2 = Net2(vocab_size, hidden_size, 2)"
      ],
      "metadata": {
        "id": "jnxdlKTJ-CzF"
      },
      "execution_count": null,
      "outputs": []
    },
    {
      "cell_type": "code",
      "source": [
        "criterion = torch.nn.CrossEntropyLoss()\n",
        "optimizer = optim.Adam(net1.parameters(), learning_rate)"
      ],
      "metadata": {
        "id": "XWiCoTYm-C1a"
      },
      "execution_count": null,
      "outputs": []
    },
    {
      "cell_type": "code",
      "source": [
        "outputs_1 = net1(X)\n",
        "print(outputs_1.shape)"
      ],
      "metadata": {
        "colab": {
          "base_uri": "https://localhost:8080/"
        },
        "id": "B9QzAioJ-C4n",
        "outputId": "d154ea79-6bb7-4a62-bca1-ffb310d692f6"
      },
      "execution_count": null,
      "outputs": [
        {
          "output_type": "stream",
          "name": "stdout",
          "text": [
            "torch.Size([158, 10, 27])\n"
          ]
        }
      ]
    },
    {
      "cell_type": "code",
      "source": [
        "for i in range(100):\n",
        "    optimizer.zero_grad()\n",
        "    outputs = net1(X)\n",
        "\n",
        "    loss = criterion(outputs.view(Y.view(-1).size()[0],-1), Y.view(-1))\n",
        "    loss.backward()\n",
        "    optimizer.step()\n",
        "\n",
        "    results = outputs.argmax(dim=2)\n",
        "    predict_str = \"\"\n",
        "    for j, result in enumerate(results):\n",
        "        if j == 0: # 처음에는 예측 결과를 전부 가져오기\n",
        "            predict_str += ''.join([world_set[t] for t in result])\n",
        "        else: # 그 다음에는 마지막 글자만 반복 추가\n",
        "            predict_str += world_set[result[-1]]\n",
        "\n",
        "    print(predict_str)"
      ],
      "metadata": {
        "id": "qtJ-ptAflm1D",
        "colab": {
          "base_uri": "https://localhost:8080/"
        },
        "outputId": "b3fa2d69-aa9a-4e03-a82c-04320241b1a2"
      },
      "execution_count": null,
      "outputs": [
        {
          "output_type": "stream",
          "name": "stdout",
          "text": [
            " nice house sits on the western plains, surrounded by burrows, pyramid-shaped structures and long highways where lizards, squirrels, and hedgehogs can hide themselves.\n",
            " nice house sits on the western plains, surrounded by burrows, pyramid-shaped structures and long highways where lizards, squirrels, and hedgehogs can hide themselves.\n",
            " nice house sits on the western plains, surrounded by burrows, pyramid-shaped structures and hong highways where lizards, squirrels, and he gehogs can hide themselves.\n",
            " nice house sits on the western plains, surrounded by burrows, pyramid-shaped structures and long highways where lizards, squirrels, and hedgehogs can hide themselves.\n",
            " nice house sits on the western plains, surrounded by burrows, pyramid-shaped structures and long highways where lizards, squirrels, and hedgehogs can hide themselves.\n",
            " nice house sits on the western plains, surrounded by burrows, pyramid-shaped structures and long highways where lizards, squirrels, and hedgehogs can hide themselves.\n",
            " nice house sits on the western plains, surrounded by burrows, pyramid-shaped structures and long highways where lizards, squirrels, and hedgehogs can hide themselves.\n",
            " nice house sits on the western plains, surrounded by burrows, pyramid-shaped structures and long highways where lizards, squirrels, and hedgehogs can hide themselves.\n",
            " nice house sits on the western plains, surrounded by burrows, pyramid-shaped structures and long highways where lizards, squirrels, and hedgehogs can hide themselves.\n",
            " nice house sits on the western plains, surrounded by burrows, pyramid-shaped structures and long highways where lizards, squirrels, and hedgehogs can hide themselves.\n",
            " nice house sits on the western plains, surrounded by burrows, pyramid-shaped structures and long highways where lizards, squirrels, and hedgehogs can hide themselves.\n",
            " nice house sits on the western plains, surrounded by burrows, pyramid-shaped structures and long highways where lizards, squirrels, and hedgehogs can hide themselves.\n",
            " nice house sits on the western plains, surrounded by burrows, pyramid-shaped structures and long highways where lizards, squirrels, and hedgehogs can hide themselves.\n",
            " nice house sits on the western plains, surrounded by burrows, pyramid-shaped structures and long highways where lizards, squirrels, and hedgehogs can hide themselves.\n",
            " nice house sits on the western plains, surrounded by burrows, pyramid-shaped structures and long highways where lizards, squirrels, and hedgehogs can hide themselves.\n",
            " nice house sits on the western plains, surrounded by burrows, pyramid-shaped structures and long highways where lizards, squirrels, and hedgehogs can hide themselves.\n",
            " nice house sits on the western plains, surrounded by burrows, pyramid-shaped structures and long highways where lizards, squirrels, and hedgehogs can hide themselves.\n",
            " nice house sits on the western plains, surrounded by burrows, pyramid-shaped structures and long highways where lizards, squirrels, and hedgehogs can hide themselves.\n",
            " nice house sits on the western plains, surrounded by burrows, pyramid-shaped structures and long highways where lizards, squirrels, and hedgehogs can hide themselves.\n",
            " nice house sits on the western plains, surrounded by burrows, pyramid-shaped structures and long highways where lizards, squirrels, and hedgehogs can hide themselves.\n",
            " nice house sits on the western plains, surrounded by burrows, pyramid-shaped structures and long highways where lizards, squirrels, and hedgehogs can hide themselves.\n",
            " nice house sits on the western plains, surrounded by burrows, pyramid-shaped structures and long highways where lizards, squirrels, and hedgehogs can hide themselves.\n",
            " nice house sits on the western plains, surrounded by burrows, pyramid-shaped structures and long highways where lizards, squirrels, and hedgehogs can hide themselves.\n",
            " nice house sits on the western plains, surrounded by burrows, pyramid-shaped structures and long highways where lizards, squirrels, and hedgehogs can hide themselves.\n",
            " nice house sits on the western plains, surrounded by burrows, pyramid-shaped structures and long highways where lizards, squirrels, and hedgehogs can hide themselves.\n",
            " nice house sits on the western plains, surrounded by burrows, pyramid-shaped structures and long highways where lizards, squirrels, and hedgehogs can hide themselves.\n",
            " nice house sits on the western plains, surrounded by burrows, pyramid-shaped structures and long highways where lizards, squirrels, and hedgehogs can hide themselves.\n",
            " nice house sits on the western plains, surrounded by burrows, pyramid-shaped structures and long highways where lizards, squirrels, and hedgehogs can hide themselves.\n",
            " nice house sits on the western plains, surrounded by burrows, pyramid-shaped structures and long highways where lizards, squirrels, and hedgehogs can hide themselves.\n",
            " nice house sits on the western plains, surrounded by burrows, pyramid-shaped structures and long highways where lizards, squirrels, and hedgehogs can hide themselves.\n",
            " nice house sits on the western plains, surrounded by burrows, pyramid-shaped structures and long highways where lizards, squirrels, and hedgehogs can hide themselves.\n",
            " nice house sits on the western plains, surrounded by burrows, pyramid-shaped structures and long highways where lizards, squirrels, and hedgehogs can hide themselves.\n",
            " nice house sits on the western plains, surrounded by burrows, pyramid-shaped structures and long highways where lizards, squirrels, and hedgehogs can hide themselves.\n",
            " nice house sits on the western plains, surrounded by burrows, pyramid-shaped structures and long highways where lizards, squirrels, and hedgehogs can hide themselves.\n",
            " nice house sits on the western plains, surrounded by burrows, pyramid-shaped structures and long highways where lizards, squirrels, and hedgehogs can hide themselves.\n",
            " nice house sits on the western plains, surrounded by burrows, pyramid-shaped structures and long highways where lizards, squirrels, and hedgehogs can hide themselves.\n",
            " nice house sits on the western plains, surrounded by burrows, pyramid-shaped structures and long highways where lizards, squirrels, and hedgehogs can hide themselves.\n",
            " nice house sits on the western plains, surrounded by burrows, pyramid-shaped structures and long highways where lizards, squirrels, and hedgehogs can hide themselves.\n",
            " nice house sits on the western plains, surrounded by burrows, pyramid-shaped structures and long highways where lizards, squirrels, and hedgehogs can hide themselves.\n",
            " nice house sits on the western plains, surrounded by burrows, pyramid-shaped structures and long highways where lizards, squirrels, and hedgehogs can hide themselves.\n",
            " nice house sits on the western plains, surrounded by burrows, pyramid-shaped structures and long highways where lizards, squirrels, and hedgehogs can hide themselves.\n",
            " nice house sits on the western plains, surrounded by burrows, pyramid-shaped structures and long highways where lizards, squirrels, and hedgehogs can hide themselves.\n",
            " nice house sits on the western plains, surrounded by burrows, pyramid-shaped structures and long highways where lizards, squirrels, and hedgehogs can hide themselves.\n",
            " nice house sits on the western plains, surrounded by burrows, pyramid-shaped structures and long highways where lizards, squirrels, and hedgehogs can hide themselves.\n",
            " nice house sits on the western plains, surrounded by burrows, pyramid-shaped structures and long highways where lizards, squirrels, and hedgehogs can hide themselves.\n",
            " nice house sits on the western plains, surrounded by burrows, pyramid-shaped structures and long highways where lizards, squirrels, and hedgehogs can hide themselves.\n",
            " nice house sits on the western plains, surrounded by burrows, pyramid-shaped structures and long highways where lizards, squirrels, and hedgehogs can hide themselves.\n",
            " nice house sits on the western plains, surrounded by burrows, pyramid-shaped structures and long highways where lizards, squirrels, and hedgehogs can hide themselves.\n",
            " nice house sits on the western plains, surrounded by burrows, pyramid-shaped structures and long highways where lizards, squirrels, and hedgehogs can hide themselves.\n",
            " nice house sits on the western plains, surrounded by burrows, pyramid-shaped structures and long highways where lizards, squirrels, and hedgehogs can hide themselves.\n",
            " nice house sits on the western plains, surrounded by burrows, pyramid-shaped structures and long highways where lizards, squirrels, and hedgehogs can hide themselves.\n",
            " nice house sits on the western plains, surrounded by burrows, pyramid-shaped structures and long highways where lizards, squirrels, and hedgehogs can hide themselves.\n",
            " nice house sits on the western plains, surrounded by burrows, pyramid-shaped structures and long highways where lizards, squirrels, and hedgehogs can hide themselves.\n",
            " nice house sits on the western plains, surrounded by burrows, pyramid-shaped structures and long highways where lizards, squirrels, and hedgehogs can hide themselves.\n",
            " nice house sits on the western plains, surrounded by burrows, pyramid-shaped structures and long highways where lizards, squirrels, and hedgehogs can hide themselves.\n",
            " nice house sits on the western plains, surrounded by burrows, pyramid-shaped structures and long highways where lizards, squirrels, and hedgehogs can hide themselves.\n",
            " nice house sits on the western plains, surrounded by burrows, pyramid-shaped structures and long highways where lizards, squirrels, and hedgehogs can hide themselves.\n",
            " nice house sits on the western plains, surrounded by burrows, pyramid-shaped structures and long highways where lizards, squirrels, and hedgehogs can hide themselves.\n",
            " nice house sits on the western plains, surrounded by burrows, pyramid-shaped structures and long highways where lizards, squirrels, and hedgehogs can hide themselves.\n",
            " nice house sits on the western plains, surrounded by burrows, pyramid-shaped structures and long highways where lizards, squirrels, and hedgehogs can hide themselves.\n",
            " nice house sits on the western plains, surrounded by burrows, pyramid-shaped structures and long highways where lizards, squirrels, and hedgehogs can hide themselves.\n",
            " nice house sits on the western plains, surrounded by burrows, pyramid-shaped structures and long highways where lizards, squirrels, and hedgehogs can hide themselves.\n",
            " nice house sits on the western plains, surrounded by burrows, pyramid-shaped structures and long highways where lizards, squirrels, and hedgehogs can hide themselves.\n",
            " nice house sits on the western plains, surrounded by burrows, pyramid-shaped structures and long highways where lizards, squirrels, and hedgehogs can hide themselves.\n",
            " nice house sits on the western plains, surrounded by burrows, pyramid-shaped structures and long highways where lizards, squirrels, and hedgehogs can hide themselves.\n",
            " nice house sits on the western plains, surrounded by burrows, pyramid-shaped structures and long highways where lizards, squirrels, and hedgehogs can hide themselves.\n",
            " nice house sits on the western plains, surrounded by burrows, pyramid-shaped structures and long highways where lizards, squirrels, and hedgehogs can hide themselves.\n",
            " nice house sits on the western plains, surrounded by burrows, pyramid-shaped structures and long highways where lizards, squirrels, and hedgehogs can hide themselves.\n",
            " nice house sits on the western plains, surrounded by burrows, pyramid-shaped structures and long highways where lizards, squirrels, and hedgehogs can hide themselves.\n",
            " nice house sits on the western plains, surrounded by burrows, pyramid-shaped structures and long highways where lizards, squirrels, and hedgehogs can hide themselves.\n",
            " nice house sits on the western plains, surrounded by burrows, pyramid-shaped structures and long highways where lizards, squirrels, and hedgehogs can hide themselves.\n",
            " nice house sits on the western plains, surrounded by burrows, pyramid-shaped structures and long highways where lizards, squirrels, and hedgehogs can hide themselves.\n",
            " nice house sits on the western plains, surrounded by burrows, pyramid-shaped structures and long highways where lizards, squirrels, and hedgehogs can hide themselves.\n",
            " nice house sits on the western plains, surrounded by burrows, pyramid-shaped structures and long highways where lizards, squirrels, and hedgehogs can hide themselves.\n",
            " nice house sits on the western plains, surrounded by burrows, pyramid-shaped structures and long highways where lizards, squirrels, and hedgehogs can hide themselves.\n",
            " nice house sits on the western plains, surrounded by burrows, pyramid-shaped structures and long highways where lizards, squirrels, and hedgehogs can hide themselves.\n",
            " nice house sits on the western plains, surrounded by burrows, pyramid-shaped structures and long highways where lizards, squirrels, and hedgehogs can hide themselves.\n",
            " nice house sits on the western plains, surrounded by burrows, pyramid-shaped structures and long highways where lizards, squirrels, and hedgehogs can hide themselves.\n",
            " nice house sits on the western plains, surrounded by burrows, pyramid-shaped structures and long highways where lizards, squirrels, and hedgehogs can hide themselves.\n",
            " nice house sits on the western plains, surrounded by burrows, pyramid-shaped structures and long highways where lizards, squirrels, and hedgehogs can hide themselves.\n",
            " nice house sits on the western plains, surrounded by burrows, pyramid-shaped structures and long highways where lizards, squirrels, and hedgehogs can hide themselves.\n",
            " nice house sits on the western plains, surrounded by burrows, pyramid-shaped structures and long highways where lizards, squirrels, and hedgehogs can hide themselves.\n",
            " nice house sits on the western plains, surrounded by burrows, pyramid-shaped structures and long highways where lizards, squirrels, and hedgehogs can hide themselves.\n",
            " nice house sits on the western plains, surrounded by burrows, pyramid-shaped structures and long highways where lizards, squirrels, and hedgehogs can hide themselves.\n",
            " nice house sits on the western plains, surrounded by burrows, pyramid-shaped structures and long highways where lizards, squirrels, and hedgehogs can hide themselves.\n",
            " nice house sits on the western plains, surrounded by burrows, pyramid-shaped structures and long highways where lizards, squirrels, and hedgehogs can hide themselves.\n",
            " nice house sits on the western plains, surrounded by burrows, pyramid-shaped structures and long highways where lizards, squirrels, and hedgehogs can hide themselves.\n",
            " nice house sits on the western plains, surrounded by burrows, pyramid-shaped structures and long highways where lizards, squirrels, and hedgehogs can hide themselves.\n",
            " nice house sits on the western plains, surrounded by burrows, pyramid-shaped structures and long highways where lizards, squirrels, and hedgehogs can hide themselves.\n",
            " nice house sits on the western plains, surrounded by burrows, pyramid-shaped structures and long highways where lizards, squirrels, and hedgehogs can hide themselves.\n",
            " nice house sits on the western plains, surrounded by burrows, pyramid-shaped structures and long highways where lizards, squirrels, and hedgehogs can hide themselves.\n",
            " nice house sits on the western plains, surrounded by burrows, pyramid-shaped structures and long highways where lizards, squirrels, and hedgehogs can hide themselves.\n",
            " nice house sits on the western plains, surrounded by burrows, pyramid-shaped structures and long highways where lizards, squirrels, and hedgehogs can hide themselves.\n",
            " nice house sits on the western plains, surrounded by burrows, pyramid-shaped structures and long highways where lizards, squirrels, and hedgehogs can hide themselves.\n",
            " nice house sits on the western plains, surrounded by burrows, pyramid-shaped structures and long highways where lizards, squirrels, and hedgehogs can hide themselves.\n",
            " nice house sits on the western plains, surrounded by burrows, pyramid-shaped structures and long highways where lizards, squirrels, and hedgehogs can hide themselves.\n",
            " nice house sits on the western plains, surrounded by burrows, pyramid-shaped structures and long highways where lizards, squirrels, and hedgehogs can hide themselves.\n",
            " nice house sits on the western plains, surrounded by burrows, pyramid-shaped structures and long highways where lizards, squirrels, and hedgehogs can hide themselves.\n",
            " nice house sits on the western plains, surrounded by burrows, pyramid-shaped structures and long highways where lizards, squirrels, and hedgehogs can hide themselves.\n",
            " nice house sits on the western plains, surrounded by burrows, pyramid-shaped structures and long highways where lizards, squirrels, and hedgehogs can hide themselves.\n"
          ]
        }
      ]
    },
    {
      "cell_type": "code",
      "source": [
        "predict_str"
      ],
      "metadata": {
        "colab": {
          "base_uri": "https://localhost:8080/",
          "height": 54
        },
        "id": "jUV7n3CzA4YH",
        "outputId": "3831aab3-a06a-43bf-e804-0c84be6746b5"
      },
      "execution_count": null,
      "outputs": [
        {
          "output_type": "execute_result",
          "data": {
            "text/plain": [
              "' nice house sits on the western plains, surrounded by burrows, pyramid-shaped structures and long highways where lizards, squirrels, and hedgehogs can hide themselves.'"
            ],
            "application/vnd.google.colaboratory.intrinsic+json": {
              "type": "string"
            }
          },
          "metadata": {},
          "execution_count": 25
        }
      ]
    },
    {
      "cell_type": "code",
      "source": [
        "optimizer = optim.Adam(net2.parameters(), learning_rate)"
      ],
      "metadata": {
        "id": "Vcy7Z4ruAtbK"
      },
      "execution_count": null,
      "outputs": []
    },
    {
      "cell_type": "code",
      "source": [
        "for i in range(100):\n",
        "    optimizer.zero_grad()\n",
        "    outputs = net2(X)\n",
        "\n",
        "    loss = criterion(outputs.view(Y.view(-1).size()[0],-1), Y.view(-1))\n",
        "    loss.backward()\n",
        "    optimizer.step()\n",
        "\n",
        "    results = outputs.argmax(dim=2)\n",
        "    predict_str = \"\"\n",
        "    for j, result in enumerate(results):\n",
        "        if j == 0: # 처음에는 예측 결과를 전부 가져오기\n",
        "            predict_str += ''.join([world_set[t] for t in result])\n",
        "        else: # 그 다음에는 마지막 글자만 반복 추가\n",
        "            predict_str += world_set[result[-1]]\n",
        "\n",
        "    print(predict_str)"
      ],
      "metadata": {
        "colab": {
          "base_uri": "https://localhost:8080/"
        },
        "id": "wBuJOXckAc6S",
        "outputId": "8ec1a535-cc5f-4385-f623-8e166efc35f6"
      },
      "execution_count": null,
      "outputs": [
        {
          "output_type": "stream",
          "name": "stdout",
          "text": [
            "AAAuuuuuuuuuuuuuuuuuuuuuuuuuuuuuuuuuuuuuuuuuuuuuuuuuuuuuuuuuuuuuuuuuuuuuuuuuuuuuuuuuuuuuuuuuuuuuuuuuuuuuuuuuuuuuuuuuuuuuuuuuuuuuuuuuuuuuuuuuuuuuuuuuuuuuuuuuuuuuuuuuuuu\n",
            "ssaaaaaaaaaaaaaaaaaaaaaaaaaaaauauuaaaaaaaauuuuuaaaauuaaaauuuuauuuauauaaaaaaaaauaauuaauuuuuaaaaaaaaaaauaaaaaaaaauuuaaaauauuuaauauuuuauaaaaaaaauuaauaaaaaaaaaauaaauaaaaaa\n",
            "ssaaaaaaaaaaaaaaaaaaaaaaaaaaaaaaaaaaaaaaaaaaaaaaaaaaaaaaaaaaaaaaaaaaaaaaaaaaaaaaaaaaaaaaaaaaaaaaaaaaaaaaaaaaaaaaaaaaaaaaaaaaaaaaaaaaaaaaaaaaaaaaaaaaaaaaaaaaaaaaaaaaaaa\n",
            "seeeeeeeaaaaaaaaaaaaaaaaaaaaaaaaaaaaaaaaaaaaaaaaaaaaaaaaaaaaaaaaaaaaaaaaaaaaaaaaaaaaaaaaaaaaaaaaaaaaaaaaaaaaaaaaaaaaaaaaaaaaaaaaaaaaaaaaaaaaaaaaaaaaaaaaaaaaaaaaaaaaaaa\n",
            "eeeeeeeeeeeeeeeeeeeeeeeeeeeeeeeeeeeeeeeeeeeeeeeeeeeeeeeeeeeeeeeeeeeeeeeeeeeeeeeeeeeeeeeeeeeeeeeeeeeeeeeeeeeeeeeeeeeeeeeeeeeeeeeeeeeeeeeeeeeeeeeeeeeeeeeeeeeeeeeeeeeeeee\n",
            "eeeeeeeeeeeeerreeeeeeeeeeeeeeeeeeeeeeeeeerrrreeeeeeereerrrreeeeeeereeeeeeeeeeeeeeerrrrreeeeeeeeeeeeeeeeeeeeeeeeeeeeeeereererrrrrreeeeeeeeeeeeeeeeeeereeeeeeeeeeeeeeeeee\n",
            "seeeeeeeeeeeeeeeeeeeeeeeeeeeeeeeeeeeeeeeeeeeeeeeeeeeeeeeeeeeeeeeeeeeeeeeeeeeeeeeeeeeeeeeeeeeeeeeeeeeeeeeeeeeeeeeeeeeeeeeeeeeeeeeeeeeeeeeeeeeeeeeeeeeeeeeeeeeeeeeeeeeeee\n",
            "                                                                                                                                                                       \n",
            "                                                                                                                                                                       \n",
            "                                                                                                                                                                       \n",
            "                                                                                                                                                                       \n",
            "                                                                                                                                                                       \n",
            "                                                                                                                                                                       \n",
            "                                                                                                                                                                       \n",
            "                                                                                                                                                                       \n",
            "                                                                                                                                                                       \n",
            "                                                                                                                                                                       \n",
            "                                            rs           rr                         ssr                                      rrrr                                      \n",
            "                  s                        rrrr          rrr                     rrrrrr                                      rrrr                                      \n",
            "        rr    rrssr  ss       s           rrrrrr        rrrrr     r              rrrrrrss                                   rrrrrrs                                    \n",
            "       rrrrsssrrrrrrsrse e  ssssss        rrrrrr        rrrrrr    rrrr           rrrrrrrrss                       s   r     rrrrrrrs                 r          e      \n",
            "       errse srrrrrrsreee   eeeee         rrrrrr        rrrrrr    rrrr           rrrrrrrs                       e e         rrrrrrrs                            e ee   \n",
            "       rrrrsssrrrrrrrrreeeeeeeeesss       urrrrr        rrrrrr    rrrr          rrrrrrrrsss         e e        eeeee  r     uurrrrrs           hee  sr        eeeeeeeee\n",
            "       rrrseesrrrrrr reeeeeeeeeeeee       uurrrr        rrrrrs    rrrr          srrrrrrss      r   he ee     h eeeeee r     uurrrrs            hee  sr   d   heeeeeeeee\n",
            "       rrreeesrrrrrr seeeeeeeeeeeee n     uurrrs       arrrrss    rrnn          srrrrrrss s    n   heeeee   hheeeeeeeir    suurrrss           hheeeeern  d   heeeeeeeee\n",
            "      srrrseesrrrrrs seeeeeeeeeeeeeand   surrrr      aaarrrrs     rrnn   saa    rrrrrrrs  s   arn  hieeee   hheeeeeeinn    uuurrrs    ur  a  hheeeeeern  n   heeeeeeeee\n",
            "       orrseesrrrsr  seeeeeeeeeee hand   uurrrr     haaarrrr     arnnn   saa    rrrrrrr   s   ann  hieeee  hhheeeeeeinn    uuurrr     rn  a  hhheeeeein  n   heeeeeeeee\n",
            "   e   hoeee srrr r  seeeeeeeeeee hand   surrrs     haaarrrr     arnnd   hia    trrrsss   s   hin  hiehe   hhheeeeeiinn    uurrrr     rn  h  hhheeehein hd   heeeeeeeee\n",
            "   e   ooe   srrs r  seeeeeeeeee  han    uurrss     haaarrrs    sarnnd   ii     trrrsss   s   hin  hieheh  hhheeeeeiinn    uurrrs    srn  h  hhheeeeein he   heeeeeeeee\n",
            "  nn   ore   srrs r  seeeeeeteee  han    urrrss    haaaarrrs    uarndd   ii   hhrrrssrr   rn  hi   hieheh  hhheee hiinn    uurrrs    srn  hh hhhee hti  hi  hheee eeeee\n",
            " hnn  horn   srrs r  teeeheeteee haand   urrrss    haaaarrrs   saarndd  sii   hhrrrssrr  srn  hi   hiehhh  hhh eehhiadd    uurrrs  s srn  hh hhhee htnd hi  hheee eeee \n",
            " hnn  hrrr   trrs r  teeeeester  aaand   urrrss    haaaarrrs s saarndd  sia   hsrrrrrrr  sr   ai  hhi hhh  hhi eeehiaan   srurrrs ss sr   h  hhhee hrn  hi  hheeeseeees\n",
            " hnn  horrs  srrs r  tee eester  aaand   rrrrss    ha  arrrn s saarndd ssaa   hsrrrrrrr  sn   an  hhi hhh  hhh eeehiaad    rurrrr ss  a   h  hhheeshrn  hi  hheeeseeees\n",
            " hnn  hrrrs  srrs r  tee hester  aaand   rrrrrr    ha  arrrnss  aaradd ssaa   h rrrrrrr   a   an  hhn hee   hh ee anaaa    rurrrr ss  a   i  hhhees ra  aa  hheeeseeees\n",
            " hin  horrs  srrs r  tee h ster  aaadd   srrrer    hh  arrrnss  a radddsshd   h rrrrrrr s a   an  hheehee s hh eeehiaddds  surrrr ss  a   h  hhheeshra  hi  hheeeseeees\n",
            " hin  horrs  srrs r  te  h ster  aaadd    rrrrr    hy  aurrnss  a radd sshd   h rrrrrrr   a   an  hhe hee s hh ee anaad s   urrrr ss  a   h  hhhees ra  hn  hheees ee s\n",
            " hin  hoors  srts r  teehh ster  aaadds  srrrer    hy  aurress  a radddssed   hstrrrrrr ssa  han  hhesheess hh ee hnadd s  surrrr ss  a  hh  hhhoessrn  hi  hheeeseee s\n",
            " hine hoors  srts r  teehh ster  aaadds  srrrer    hy aaurrsss  a radddsseds  hsrrrrrrr ssa  hin  hhesheess hh ee inaad s  surrrrsss  a  hi  hhhoessrn  id  hteees ae s\n",
            " hine hoors  srts r  teehh ster  aaadds   rrres    hy  aurrsss  a rndddsseds  hstrrrrrr s a  lin shheshegss he eelinaad s   urrresss  a  li  hhhoes rn  id  hteees ae s\n",
            " hine hoors  snts o  teese ster  aand s   rrrss    lb  aurrsss  a rnddssseds  lstrrrrrr s n  lio shieseegss heeeelinand s   urnresss  a  lie heeoss rn  id  hteees ae s\n",
            " hine hoors lsnts o  teele st r laandds   rrrss    lb  auresss  a rnddssseds  lstrrrrrr s n  lio shieseegss heeeelinand s   urnresss  a  lie heeosslrn  id  lteees ae  \n",
            " hiie hoors lsrts o  teelee t r laaad s   rrror    lb bauresss  aarnddsssedl  lttrrrtrr s a  lio shieseegss heeeelinand s a urrresls  a  lie heeoeslrn lid  lteees ae  \n",
            " hiie hoors lsrts n lteelee t r laand s  rrrror    lb baureoss  aarnddsssial  lttrrrrrr  an  lio shieseegss heeeelinand s arurrresls aad lie heeoeslrn lid  lteees ae  \n",
            " hiie hoors lsrts n hteehee ter laandds lsrrror    hb baureoss laarnddssseal  lttrrrrrr ssnd hio shieseegsslheeeelinandss asurrreels aad hie heeoeslrn lid  hheeeselees\n",
            " hiie hours lsrt  n hheelee t r laand s arrrror    hb baureoss laarnddsssaap  ltrrrrrrr  and hin shigseegsslheeeelinand , arurrreels and hie heeoeslrn lid  lheeeseaee \n",
            " hiie hooes lsnt  n hheehee eer lland s lsrrror    hb baureoss laarnddssseal  lttrrrrrr ssnd hin shegeewgsslweeeelidand , ssurrreels snd hie heeoeshrn hid  hheeeselees\n",
            " liie hours lsnt an hheelee r r laand s arrrror    ly baureoss laaradd ssaap  ltrrrrrrr  and lin  higseeys,laeeeelinand , arurrreel, and lie heeoe arn lid  lheeeseaae \n",
            " liie hoors ltnt an hheewwe ter laand s srrrrou    hb buureoss laarndd ssaap  ltrrrtrrr  snd hin  higeewgs,lweeeelidand , srurrreel, and hie heeog hrn sid  lheeeselees\n",
            " liie hooes ltnt tn hheewwe eer lland s srrrrou    hb buureoss laarndd sseal  lttrrtrrr  snd hin  higeewgs,lweeeelidand , srurrreel, snd hie heeog hrn hid  lheeeselees\n",
            " liie hours ltnttan hheewee rer laand s srrrrou    lb buureos, laarndd ssaal  ltrrrcrrr  and hin  higseeys,leeeeelidands, srurrreel, and hie heeo  arn sid  lheesselees\n",
            " oiie hours stnttan hheewwe r r laand s srrrrou    lb buureos, saarnddsssaal  ltrrutrrr ssnd sin  higswwys,sheeeelidands, squrrreel, and hie heoo  arn sid  lheesselees\n",
            " oiie hours stnttan wheewwe eer lland s srrrroug   wb buureos, saardddsssaas  lttrutrrressnd win  wiggwwys,wweeeelidands, squrrreel, snd hie weoog brn sid  wheesselges\n",
            " aiie hours strttan wheewwe e r llind s srrrrou    wb buureos, saardidsssaas  ltrrutrrressnd win  wigsweys,weeeeelidands, squrrreel, snd hie e oo  arn sid  lheesselees\n",
            " aiie hours strttan wheewee r r laind s srrrrou    bb buureos, saardidsssaas  btrrutrrr  and win  wigsweys,seeeeelidands, squrrreel, and hie e oo  arn sid  lheesseoees\n",
            " aiie hours strttan wheewwe e r sland , srrrroud   wy buureos, paardidsssaas  btrrutrrr  snd win  wigeweys,weeeeesidands, squrrreel, and hie e og  arn side wheesselees\n",
            " aiie houcs strttan wheewee e r sland , srrrroud   wy buureos, py rmidssseas  btrrutrrr  snd won  wigeweys wweeeesidands, squrrreel, snd wie e ogs arn side wheesselee \n",
            " aiie houcs strt an wheewee e r slind , srrrroud   wy buureos, py rmidssseas  btrrutrrr  snd won  wigeweys wheeeesinands, squrrreel, and hie e og  arn side whe sselee \n",
            " aiie houcs strt an wheewee e r syiad , sqrrroud   wy buureos, pyrrmidsstaasd btrrutrrr  and win  wigeweys wheeeesinands, squrrreel, cnd hie e ons arn side whe sseoee \n",
            " aiie houcs sinttan wheeweete r syiadd, sqrreocd   wy buureos, pyrrmidsstaasd btrrutrrr  aad win  wigeweys wheeeesinands, squrrreel, cnd hie e ogs aan side whe sseoee \n",
            " aiie houcs sinttan wheeweete r syiadd, sqrreocd   wy buureos, pyrrmidsstaasd btrrutrues aad win  wigeweys wheeessizands, squrrresl, cnd hie e ogs aan side whe sselee \n",
            " aiie houcs sint cn sheeweete r syiadd, sqrreocd   wy burreos, pyrrmidsstaasd btrrutrues and win  wigeweys wheeessizands, squrrresl, cnd hie e ogs aan side she sselee \n",
            " aiie houcs sirttcn sheeweete r saiadd, sqrreocd   wy burreos, pyrrmidsstaasd btrrutrres and hin  wigeweys wheeessizands, squrrress, cnd hie e ogs aan side she ssevee \n",
            " aiie houcs sirttcn sheeweete r saiad , surreocde  wy burreos, pyrrmidsstaasd btrrutrues and hon  wigeweys wheeessizands, squrrress, cnd hie e ogs aan side she seevee \n",
            " aiie houcs sirttcn sheewe te r saiad , surreocde  wy burreos, pyrrmidsstaasd btrrutrues and hon  wigeweys whe essizands, squrrress, cnd hie e ogs aan side she seeves \n",
            " aiie houcs sirttcn sheewe te r saiad , surroocde  wy burreos, pyrrmidsstaasd btrrutrues and hong wigeweys whe essizands, squrrress, cnd hie e ogs aan side she seeves \n",
            " aiie houce sirttan sheewe te r saiid , surroocde  wy burroos, pyrrmidsstaaed btrrutrres and hong wigeweys whe essizands, squrrress, and hid e ogs aan side she seeves \n",
            " aiie houce sirttan she we te r paiid , surroocde  wy burroos, pyrrmidsstaaed btrrutrres and hong wigeweys whe essizands, squrrress, and hed e ogs aan hide she seeves \n",
            " aice houce sirttan she we te r paiid , surroocde  wy burroos, pyrrmidsshaaed btrrutrres and hong higeweys whe essizands, squrrress, and hed ehogs aan hide she seevesq\n",
            " aice houce sirttan she we terr paiin , surroocde  wy burroos, pyrrmidsshayed btrrutrres and hong higeweys whe essizands, squrrress, and hed ehogs aan hide she seevesq\n",
            " aice houce sirttan sheeweeterr paiid , surroocde  wy burroos, pyrrmidsshayed btruutrres and hong higeweys whe essizands, squirress, and hed ehogs aan hide she seevesq\n",
            " aice houce sirt an sheeweeterr paiid , surroocded wy burroos, pyrrmidsshayed btruutures and hong higeweys whe eslizands, squirress, and hed ehogs aan hide she seevesq\n",
            " nice houce sirt an she weetern pliid , surroucded wy burroos, pyrrmidsshayed btruutures and hong higeweys whe e lizands, squirress, and hed ehogs aan hide she seevesq\n",
            " nice houce sirt an she we tern plaid , surrounded wy burroos, pyrrmidsshaped btruutures and hong higeweys whe e lizands, squirress, and hed ehogs aan hide she seevesq\n",
            " nice houce sirt an she we tern plaid , surrounded by burroos, pyrrmidsshaped btruutures and hong higeweys where lizands, squirress, and hed ehogs aan hide she seevesq\n",
            " nice house sirt on the weetern plaid , surrounded by burroos, pyramidsshaped ltruutures and hong higeweys where lizands, squirress, and hed ehogs aan hide she seevesq\n",
            " nice house sirt on the weetern plain , surrounded by burroos, pyramidsshaped ltruutures and hong higeweys where lizands, squirress, and hed ehogs aan hide she seevesq\n",
            " nice house sirt on the weetern plains, surrounded by burroos, pyramidsshaped ltruutures and hong higeweys where lizands, squirress, and hed ehogs aan hide she selvesq\n",
            " nice house sirt on the weetern plains, surrounded by burroos, pyramidsshaped wtruutures and hong higeweys where lizards, squirress, and hed ehogs aan hide she selvesq\n",
            " nice house sirt on the western plains, surrounded by burroos, pyramid-shaped struutures and hong highweys where lizards, squirress, and hed ehogs can hide she selvesq\n",
            " nice house sirt on the western plains, surrounded by burroos, pyramid-shaped struutures and hong highweys where lizards, squirress, and hed ehogs can hide she selvesq\n",
            " nice house sitt on the western plains, surrounded by burroos, pyramid-shaped struutures and hong highweys where lizards, squirress, and hedgehogs can hide she selvesq\n",
            " nice house sitt on the western plains, surrounded by burroos, pyramid-shaped structures and hong highweys where lizards, squirrels, and hedgehogs can hide she selvesq\n",
            " nice house sitt on the western plains, surrounded by burroos, pyramid-shaped structures and hong highweys where lizards, squirrels, and hedgehogs can hide the selvesq\n",
            " nice house sitt on the western plains, surrounded by burroos, pyramid-shaped structures and hong highweys where lizards, squirrels, and hedgehogs can hide the selves.\n",
            " nice house sitt on the western plains, surrounded by burrows, pyramid-shaped structures and hong highweys where lizards, squirrels, and hedgehogs can hide the selves.\n",
            " nice house sitt on the western plains, surrounded by burrows, pyramid-shaped structures and hong highways where lizards, squirrels, and hedgehogs can hide theeselves.\n",
            " nice house sitt on the western plains, surrounded by burrows, pyramid-shaped structures and hong highways where lizards, squirrels, and hedgehogs can hide theeselves.\n",
            " nice house sitt on the western plains, surrounded by burrows, pyramid-shaped structures and hong highways where lizards, squirrels, and hedgehogs can hide theeselves.\n",
            " nice house sitt on the western plains, surrounded by burrows, pyramid-shaped structures and hong highways where lizards, squirrels, and hedgehogs can hide theeselves.\n",
            " nice house sits on the western plains, surrounded by burrows, pyramid-shaped structures and long highways where lizards, squirrels, and hedgehogs can hide theeselves.\n",
            " nice house sits on the western plains, surrounded by burrows, pyramid-shaped structures and long highways where lizards, squirrels, and hedgehogs can hide themselves.\n",
            " nice house sits on the western plains, surrounded by burrows, pyramid-shaped structures and long highways where lizards, squirrels, and hedgehogs can hide themselves.\n",
            " nice house sits on the western plains, surrounded by burrows, pyramid-shaped structures and long highways where lizards, squirrels, and hedgehogs can hide themselves.\n",
            " nice house sits on the western plains, surrounded by burrows, pyramid-shaped structures and long highways where lizards, squirrels, and hedgehogs can hide themselves.\n",
            " nice house sits on the western plains, surrounded by burrows, pyramid-shaped structures and long highways where lizards, squirrels, and hedgehogs can hide themselves.\n",
            " nice house sits on the western plains, surrounded by burrows, pyramid-shaped structures and long highways where lizards, squirrels, and hedgehogs can hide themselves.\n",
            " nice house sits on the western plains, surrounded by burrows, pyramid-shaped structures and long highways where lizards, squirrels, and hedgehogs can hide themselves.\n",
            " nice house sits on the western plains, surrounded by burrows, pyramid-shaped structures and long highways where lizards, squirrels, and hedgehogs can hide themselves.\n",
            " nice house sits on the western plains, surrounded by burrows, pyramid-shaped structures and long highways where lizards, squirrels, and hedgehogs can hide themselves.\n",
            " nice house sits on the western plains, surrounded by burrows, pyramid-shaped structures and long highways where lizards, squirrels, and hedgehogs can hide themselves.\n"
          ]
        }
      ]
    },
    {
      "cell_type": "code",
      "source": [
        "predict_str"
      ],
      "metadata": {
        "colab": {
          "base_uri": "https://localhost:8080/",
          "height": 54
        },
        "id": "k6Mp61uDAc85",
        "outputId": "b2cb3702-040a-436f-b5d3-721172b0dde3"
      },
      "execution_count": null,
      "outputs": [
        {
          "output_type": "execute_result",
          "data": {
            "text/plain": [
              "' nice house sits on the western plains, surrounded by burrows, pyramid-shaped structures and long highways where lizards, squirrels, and hedgehogs can hide themselves.'"
            ],
            "application/vnd.google.colaboratory.intrinsic+json": {
              "type": "string"
            }
          },
          "metadata": {},
          "execution_count": 40
        }
      ]
    },
    {
      "cell_type": "markdown",
      "source": [
        "- 직전 문자를 이용하여 다음 문자를 예측하는 방식에 따라 맨 첫 글자인 'A'를 제외하고 잘 예측되었다.\n",
        "- 문장 길이가 짧아 RNN, LSTM의 예측 정도에 차이가 없었다."
      ],
      "metadata": {
        "id": "sJgHR2i0CVyq"
      }
    }
  ]
}