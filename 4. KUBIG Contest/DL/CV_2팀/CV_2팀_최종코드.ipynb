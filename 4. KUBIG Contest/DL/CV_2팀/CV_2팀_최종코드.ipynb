{
  "cells": [
    {
      "cell_type": "code",
      "source": [
        "from google import colab\n",
        "colab.drive.mount(\"/content/drive\")"
      ],
      "metadata": {
        "colab": {
          "base_uri": "https://localhost:8080/"
        },
        "id": "_-WG94kK7V9p",
        "outputId": "e4e3fc0d-1a97-415c-96db-a9d5741dcec6"
      },
      "id": "_-WG94kK7V9p",
      "execution_count": null,
      "outputs": [
        {
          "output_type": "stream",
          "name": "stdout",
          "text": [
            "Mounted at /content/drive\n"
          ]
        }
      ]
    },
    {
      "cell_type": "code",
      "source": [
        "! pip install timm"
      ],
      "metadata": {
        "id": "LDacldMA7ptp",
        "colab": {
          "base_uri": "https://localhost:8080/"
        },
        "outputId": "a9b36059-008b-4c2f-91dd-3e86fb1a84d2"
      },
      "id": "LDacldMA7ptp",
      "execution_count": null,
      "outputs": [
        {
          "output_type": "stream",
          "name": "stdout",
          "text": [
            "Looking in indexes: https://pypi.org/simple, https://us-python.pkg.dev/colab-wheels/public/simple/\n",
            "Collecting timm\n",
            "  Downloading timm-0.6.12-py3-none-any.whl (549 kB)\n",
            "\u001b[2K     \u001b[90m━━━━━━━━━━━━━━━━━━━━━━━━━━━━━━━━━━━━━━\u001b[0m \u001b[32m549.1/549.1 KB\u001b[0m \u001b[31m31.6 MB/s\u001b[0m eta \u001b[36m0:00:00\u001b[0m\n",
            "\u001b[?25hRequirement already satisfied: pyyaml in /usr/local/lib/python3.8/dist-packages (from timm) (6.0)\n",
            "Requirement already satisfied: torchvision in /usr/local/lib/python3.8/dist-packages (from timm) (0.14.1+cu116)\n",
            "Collecting huggingface-hub\n",
            "  Downloading huggingface_hub-0.12.1-py3-none-any.whl (190 kB)\n",
            "\u001b[2K     \u001b[90m━━━━━━━━━━━━━━━━━━━━━━━━━━━━━━━━━━━━━━\u001b[0m \u001b[32m190.3/190.3 KB\u001b[0m \u001b[31m21.9 MB/s\u001b[0m eta \u001b[36m0:00:00\u001b[0m\n",
            "\u001b[?25hRequirement already satisfied: torch>=1.7 in /usr/local/lib/python3.8/dist-packages (from timm) (1.13.1+cu116)\n",
            "Requirement already satisfied: typing-extensions in /usr/local/lib/python3.8/dist-packages (from torch>=1.7->timm) (4.5.0)\n",
            "Requirement already satisfied: tqdm>=4.42.1 in /usr/local/lib/python3.8/dist-packages (from huggingface-hub->timm) (4.64.1)\n",
            "Requirement already satisfied: packaging>=20.9 in /usr/local/lib/python3.8/dist-packages (from huggingface-hub->timm) (23.0)\n",
            "Requirement already satisfied: filelock in /usr/local/lib/python3.8/dist-packages (from huggingface-hub->timm) (3.9.0)\n",
            "Requirement already satisfied: requests in /usr/local/lib/python3.8/dist-packages (from huggingface-hub->timm) (2.25.1)\n",
            "Requirement already satisfied: pillow!=8.3.*,>=5.3.0 in /usr/local/lib/python3.8/dist-packages (from torchvision->timm) (8.4.0)\n",
            "Requirement already satisfied: numpy in /usr/local/lib/python3.8/dist-packages (from torchvision->timm) (1.22.4)\n",
            "Requirement already satisfied: certifi>=2017.4.17 in /usr/local/lib/python3.8/dist-packages (from requests->huggingface-hub->timm) (2022.12.7)\n",
            "Requirement already satisfied: chardet<5,>=3.0.2 in /usr/local/lib/python3.8/dist-packages (from requests->huggingface-hub->timm) (4.0.0)\n",
            "Requirement already satisfied: urllib3<1.27,>=1.21.1 in /usr/local/lib/python3.8/dist-packages (from requests->huggingface-hub->timm) (1.24.3)\n",
            "Requirement already satisfied: idna<3,>=2.5 in /usr/local/lib/python3.8/dist-packages (from requests->huggingface-hub->timm) (2.10)\n",
            "Installing collected packages: huggingface-hub, timm\n",
            "Successfully installed huggingface-hub-0.12.1 timm-0.6.12\n"
          ]
        }
      ]
    },
    {
      "cell_type": "code",
      "execution_count": null,
      "metadata": {
        "id": "LlcNsGEk7L5r"
      },
      "outputs": [],
      "source": [
        "import warnings\n",
        "warnings.filterwarnings('ignore')\n",
        "\n",
        "from glob import glob\n",
        "import pandas as pd\n",
        "import numpy as np \n",
        "from tqdm import tqdm\n",
        "import cv2\n",
        "\n",
        "import os\n",
        "import timm\n",
        "import random\n",
        "\n",
        "import torch\n",
        "from torch.utils.data import Dataset, DataLoader\n",
        "import torch.nn as nn\n",
        "import torchvision.transforms as transforms\n",
        "from sklearn.metrics import f1_score, accuracy_score\n",
        "import time\n",
        "\n",
        "from sklearn.model_selection import StratifiedKFold\n",
        "device = torch.device('cuda')"
      ],
      "id": "LlcNsGEk7L5r"
    },
    {
      "cell_type": "code",
      "source": [
        "path = '/content/drive/MyDrive/KUBIG/이상치 탐지 프로젝트/data/'"
      ],
      "metadata": {
        "id": "lXH5F_hA7uMl"
      },
      "id": "lXH5F_hA7uMl",
      "execution_count": null,
      "outputs": []
    },
    {
      "cell_type": "code",
      "execution_count": null,
      "metadata": {
        "id": "FWntO1VD7L5u"
      },
      "outputs": [],
      "source": [
        "train_png = sorted(glob(path + '/train/train/*.png'))\n",
        "test_png = sorted(glob(path + '/test/test/*.png'))"
      ],
      "id": "FWntO1VD7L5u"
    },
    {
      "cell_type": "code",
      "source": [
        "len(train_png), len(test_png)"
      ],
      "metadata": {
        "colab": {
          "base_uri": "https://localhost:8080/"
        },
        "id": "atSgPJRn-OCW",
        "outputId": "e51b6690-2570-41e5-9ec3-3d71963481fa"
      },
      "id": "atSgPJRn-OCW",
      "execution_count": null,
      "outputs": [
        {
          "output_type": "execute_result",
          "data": {
            "text/plain": [
              "(4277, 2154)"
            ]
          },
          "metadata": {},
          "execution_count": 6
        }
      ]
    },
    {
      "cell_type": "code",
      "execution_count": null,
      "metadata": {
        "id": "xv0_rDVq7L5v"
      },
      "outputs": [],
      "source": [
        "train_y = pd.read_csv(path +\"train_df.csv\")\n",
        "\n",
        "train_labels = train_y[\"label\"]\n",
        "\n",
        "label_unique = sorted(np.unique(train_labels))\n",
        "label_unique = {key:value for key,value in zip(label_unique, range(len(label_unique)))}\n",
        "\n",
        "train_labels = [label_unique[k] for k in train_labels]"
      ],
      "id": "xv0_rDVq7L5v"
    },
    {
      "cell_type": "code",
      "execution_count": null,
      "metadata": {
        "id": "iMhC0nPw7L5w"
      },
      "outputs": [],
      "source": [
        "def img_load(path):\n",
        "    img = cv2.imread(path)[:,:,::-1]\n",
        "    img = cv2.resize(img, (300, 300),interpolation = cv2.INTER_AREA)\n",
        "    return img"
      ],
      "id": "iMhC0nPw7L5w"
    },
    {
      "cell_type": "code",
      "execution_count": null,
      "metadata": {
        "colab": {
          "base_uri": "https://localhost:8080/"
        },
        "id": "zsmJA3E97L5x",
        "outputId": "ad0cbad6-0119-410e-9dd4-a4fe2dfe4ffd"
      },
      "outputs": [
        {
          "output_type": "stream",
          "name": "stderr",
          "text": [
            "100%|██████████| 4277/4277 [06:48<00:00, 10.47it/s]\n",
            "100%|██████████| 2154/2154 [24:01<00:00,  1.49it/s]\n"
          ]
        }
      ],
      "source": [
        "train_imgs = [img_load(m) for m in tqdm(train_png)]\n",
        "test_imgs = [img_load(n) for n in tqdm(test_png)]"
      ],
      "id": "zsmJA3E97L5x"
    },
    {
      "cell_type": "code",
      "source": [
        "train_imgs[0].shape"
      ],
      "metadata": {
        "colab": {
          "base_uri": "https://localhost:8080/"
        },
        "id": "Fw-KiyiOyQ0R",
        "outputId": "74b139fd-f3b7-44ad-fa57-6dd3faf74555"
      },
      "id": "Fw-KiyiOyQ0R",
      "execution_count": null,
      "outputs": [
        {
          "output_type": "execute_result",
          "data": {
            "text/plain": [
              "(300, 300, 3)"
            ]
          },
          "metadata": {},
          "execution_count": 10
        }
      ]
    },
    {
      "cell_type": "code",
      "source": [
        "meanRGB = [np.mean(x, axis=(0,1)) for x in train_imgs]\n",
        "stdRGB = [np.std(x, axis=(0,1)) for x in train_imgs]\n",
        "\n",
        "meanR = np.mean([m[0] for m in meanRGB])/255\n",
        "meanG = np.mean([m[1] for m in meanRGB])/255\n",
        "meanB = np.mean([m[2] for m in meanRGB])/255\n",
        "\n",
        "stdR = np.mean([s[0] for s in stdRGB])/255\n",
        "stdG = np.mean([s[1] for s in stdRGB])/255\n",
        "stdB = np.mean([s[2] for s in stdRGB])/255\n",
        "\n",
        "print(\"train 평균\",meanR, meanG, meanB)\n",
        "print(\"train 표준편차\",stdR, stdG, stdB)"
      ],
      "metadata": {
        "colab": {
          "base_uri": "https://localhost:8080/"
        },
        "id": "sscGLiJKPy6H",
        "outputId": "80235bf0-bc54-4e75-92ee-eed62df683fd"
      },
      "id": "sscGLiJKPy6H",
      "execution_count": null,
      "outputs": [
        {
          "output_type": "stream",
          "name": "stdout",
          "text": [
            "train 평균 0.43303983566148774 0.4034587704308856 0.3941522437234577\n",
            "train 표준편차 0.18081092522063152 0.17336374759777612 0.16260836048470312\n"
          ]
        }
      ]
    },
    {
      "cell_type": "code",
      "source": [
        "meanRGB = [np.mean(x, axis=(0,1)) for x in test_imgs]\n",
        "stdRGB = [np.std(x, axis=(0,1)) for x in test_imgs]\n",
        "\n",
        "meanR = np.mean([m[0] for m in meanRGB])/255\n",
        "meanG = np.mean([m[1] for m in meanRGB])/255\n",
        "meanB = np.mean([m[2] for m in meanRGB])/255\n",
        "\n",
        "stdR = np.mean([s[0] for s in stdRGB])/255\n",
        "stdG = np.mean([s[1] for s in stdRGB])/255\n",
        "stdB = np.mean([s[2] for s in stdRGB])/255\n",
        "\n",
        "print(\"test 평균\",meanR, meanG, meanB)\n",
        "print(\"test 표준편차\",stdR, stdG, stdB)"
      ],
      "metadata": {
        "colab": {
          "base_uri": "https://localhost:8080/"
        },
        "id": "JwVIQCrUSCFE",
        "outputId": "a837eef4-ac7e-4a3e-b45d-e890bf42fe49"
      },
      "id": "JwVIQCrUSCFE",
      "execution_count": null,
      "outputs": [
        {
          "output_type": "stream",
          "name": "stdout",
          "text": [
            "test 평균 0.41825790665590495 0.3931025338479558 0.38663352463775147\n",
            "test 표준편차 0.19437405223049778 0.18947139729295545 0.17999943333552182\n"
          ]
        }
      ]
    },
    {
      "cell_type": "code",
      "execution_count": null,
      "metadata": {
        "id": "VFXzojoo7L5y"
      },
      "outputs": [],
      "source": [
        "class Custom_dataset(Dataset):\n",
        "    def __init__(self, img_paths, labels, mode='train'):\n",
        "        self.img_paths = img_paths\n",
        "        self.labels = labels\n",
        "        self.mode=mode\n",
        "    def __len__(self):\n",
        "        return len(self.img_paths)\n",
        "    def __getitem__(self, idx):\n",
        "        img = self.img_paths[idx]\n",
        "        if self.mode == 'train':\n",
        "          train_transform = transforms.Compose([\n",
        "                transforms.ToTensor(),\n",
        "                transforms.Normalize(mean = [0.433039, 0.403458, 0.394152],\n",
        "                                     std = [0.180810, 0.173363, 0.162608]),\n",
        "                transforms.RandomAffine((-180, 180)),\n",
        "                \n",
        "            ])\n",
        "          img = train_transform(img)\n",
        "        if self.mode == 'test':\n",
        "          test_transform = transforms.Compose([\n",
        "                transforms.ToTensor(),\n",
        "                transforms.Normalize(mean = [0.418257, 0.393102, 0.386633],\n",
        "                                     std = [0.194374, 0.189471, 0.179999])\n",
        "            ])\n",
        "          img = test_transform(img)\n",
        "\n",
        "        \n",
        "        label = self.labels[idx]\n",
        "        return img, label\n",
        "    \n",
        "class Network(nn.Module):\n",
        "    def __init__(self,mode = 'train'):\n",
        "        super(Network, self).__init__()\n",
        "        self.mode = mode\n",
        "        if self.mode == 'train':\n",
        "          self.model = timm.create_model('efficientnet_b3', pretrained=True, num_classes=88, drop_path_rate = 0.2)\n",
        "        if self.mode == 'test':\n",
        "          self.model = timm.create_model('efficientnet_b3', pretrained=True, num_classes=88, drop_path_rate = 0)\n",
        "        \n",
        "    def forward(self, x):\n",
        "        x = self.model(x)\n",
        "        return x"
      ],
      "id": "VFXzojoo7L5y"
    },
    {
      "cell_type": "code",
      "source": [
        "def score_function(real, pred):\n",
        "    score = f1_score(real, pred, average=\"macro\")\n",
        "    return score"
      ],
      "metadata": {
        "id": "38qk8sGbYiO_"
      },
      "id": "38qk8sGbYiO_",
      "execution_count": null,
      "outputs": []
    },
    {
      "cell_type": "code",
      "source": [
        "def main(seed = 2022):\n",
        "    os.environ['PYTHONHASHSEED'] = str(seed)\n",
        "    random.seed(seed)\n",
        "    np.random.seed(seed)\n",
        "    torch.manual_seed(seed)\n",
        "    torch.cuda.manual_seed(seed)\n",
        "    torch.cuda.manual_seed_all(seed)\n",
        "    torch.backends.cudnn.benchmark = True\n",
        "    \n",
        "main(2022)"
      ],
      "metadata": {
        "id": "EnOG2n30-Dz5"
      },
      "id": "EnOG2n30-Dz5",
      "execution_count": null,
      "outputs": []
    },
    {
      "cell_type": "markdown",
      "metadata": {
        "id": "p87_msjB7L51"
      },
      "source": [
        "### 모델 학습"
      ],
      "id": "p87_msjB7L51"
    },
    {
      "cell_type": "markdown",
      "source": [
        "사전 학습 모델의 성능 파악을 할 때 Fold 학습은 실행 시간이 오래걸려서 fold를 나누지 않은 데이터에 대해서 학습을 진행하고 성능을 비교하였습니다."
      ],
      "metadata": {
        "id": "MW9Fx7QADii5"
      },
      "id": "MW9Fx7QADii5"
    },
    {
      "cell_type": "code",
      "execution_count": null,
      "metadata": {
        "id": "syUpL8e_7L50"
      },
      "outputs": [],
      "source": [
        "batch_size = 32\n",
        "epochs = 60\n",
        "\n",
        "# Train\n",
        "train_dataset = Custom_dataset(np.array(train_imgs), np.array(train_labels), mode='train')\n",
        "train_loader = DataLoader(train_dataset, shuffle=True, batch_size=batch_size)\n",
        "\n",
        "# Test\n",
        "test_dataset = Custom_dataset(np.array(test_imgs), np.array([\"tmp\"]*len(test_imgs)), mode='test')\n",
        "test_loader = DataLoader(test_dataset, shuffle=False, batch_size=batch_size)"
      ],
      "id": "syUpL8e_7L50"
    },
    {
      "cell_type": "code",
      "source": [
        "import gc\n",
        "gc.collect()\n",
        "torch.cuda.empty_cache()"
      ],
      "metadata": {
        "id": "cJc8Yj7zrh4g"
      },
      "id": "cJc8Yj7zrh4g",
      "execution_count": null,
      "outputs": []
    },
    {
      "cell_type": "code",
      "execution_count": null,
      "metadata": {
        "id": "tpCGp41k7L51",
        "colab": {
          "base_uri": "https://localhost:8080/"
        },
        "outputId": "97b89bed-1c76-4659-e524-89acaf99af4e"
      },
      "outputs": [
        {
          "output_type": "stream",
          "name": "stdout",
          "text": [
            "epoch : 1/60    time : 76s/4479s\n",
            "TRAIN    loss : 1.72830    f1 : 0.14438\n",
            "epoch : 2/60    time : 74s/4308s\n",
            "TRAIN    loss : 0.83445    f1 : 0.18126\n",
            "epoch : 3/60    time : 74s/4198s\n",
            "TRAIN    loss : 0.63796    f1 : 0.24646\n",
            "epoch : 4/60    time : 75s/4193s\n",
            "TRAIN    loss : 0.52001    f1 : 0.34189\n",
            "epoch : 5/60    time : 74s/4091s\n",
            "TRAIN    loss : 0.44656    f1 : 0.41143\n",
            "epoch : 6/60    time : 75s/4029s\n",
            "TRAIN    loss : 0.39889    f1 : 0.49143\n",
            "epoch : 7/60    time : 74s/3918s\n",
            "TRAIN    loss : 0.34174    f1 : 0.53181\n",
            "epoch : 8/60    time : 74s/3873s\n",
            "TRAIN    loss : 0.30967    f1 : 0.59707\n",
            "epoch : 9/60    time : 74s/3773s\n",
            "TRAIN    loss : 0.26334    f1 : 0.64049\n",
            "epoch : 10/60    time : 75s/3738s\n",
            "TRAIN    loss : 0.24932    f1 : 0.66951\n",
            "epoch : 11/60    time : 74s/3619s\n",
            "TRAIN    loss : 0.20917    f1 : 0.73522\n",
            "epoch : 12/60    time : 75s/3576s\n",
            "TRAIN    loss : 0.19565    f1 : 0.74624\n",
            "epoch : 13/60    time : 74s/3480s\n",
            "TRAIN    loss : 0.18186    f1 : 0.76510\n",
            "epoch : 14/60    time : 74s/3427s\n",
            "TRAIN    loss : 0.15576    f1 : 0.79639\n",
            "epoch : 15/60    time : 74s/3322s\n",
            "TRAIN    loss : 0.13456    f1 : 0.83360\n",
            "epoch : 16/60    time : 75s/3280s\n",
            "TRAIN    loss : 0.12865    f1 : 0.84408\n",
            "epoch : 17/60    time : 75s/3204s\n",
            "TRAIN    loss : 0.12093    f1 : 0.85399\n",
            "epoch : 18/60    time : 75s/3141s\n",
            "TRAIN    loss : 0.11033    f1 : 0.86531\n",
            "epoch : 19/60    time : 74s/3038s\n",
            "TRAIN    loss : 0.09388    f1 : 0.88741\n",
            "epoch : 20/60    time : 75s/2982s\n",
            "TRAIN    loss : 0.09070    f1 : 0.89127\n",
            "epoch : 21/60    time : 74s/2885s\n",
            "TRAIN    loss : 0.08023    f1 : 0.90206\n",
            "epoch : 22/60    time : 74s/2827s\n",
            "TRAIN    loss : 0.07478    f1 : 0.91528\n",
            "epoch : 23/60    time : 74s/2730s\n",
            "TRAIN    loss : 0.06821    f1 : 0.92804\n",
            "epoch : 24/60    time : 74s/2678s\n",
            "TRAIN    loss : 0.06730    f1 : 0.92988\n",
            "epoch : 25/60    time : 74s/2584s\n",
            "TRAIN    loss : 0.06018    f1 : 0.93189\n",
            "epoch : 26/60    time : 74s/2532s\n",
            "TRAIN    loss : 0.05664    f1 : 0.93966\n",
            "epoch : 27/60    time : 74s/2437s\n",
            "TRAIN    loss : 0.05091    f1 : 0.94074\n",
            "epoch : 28/60    time : 75s/2384s\n",
            "TRAIN    loss : 0.05308    f1 : 0.94848\n",
            "epoch : 29/60    time : 74s/2293s\n",
            "TRAIN    loss : 0.05094    f1 : 0.94900\n",
            "epoch : 30/60    time : 74s/2231s\n",
            "TRAIN    loss : 0.04567    f1 : 0.95960\n",
            "epoch : 31/60    time : 74s/2148s\n",
            "TRAIN    loss : 0.04130    f1 : 0.95427\n",
            "epoch : 32/60    time : 74s/2082s\n",
            "TRAIN    loss : 0.04762    f1 : 0.94842\n",
            "epoch : 33/60    time : 74s/1992s\n",
            "TRAIN    loss : 0.03994    f1 : 0.95733\n",
            "epoch : 34/60    time : 74s/1931s\n",
            "TRAIN    loss : 0.03558    f1 : 0.96384\n",
            "epoch : 35/60    time : 74s/1844s\n",
            "TRAIN    loss : 0.03172    f1 : 0.96303\n",
            "epoch : 36/60    time : 75s/1789s\n",
            "TRAIN    loss : 0.03292    f1 : 0.96835\n",
            "epoch : 37/60    time : 74s/1699s\n",
            "TRAIN    loss : 0.03979    f1 : 0.95919\n",
            "epoch : 38/60    time : 75s/1641s\n",
            "TRAIN    loss : 0.02926    f1 : 0.97024\n",
            "epoch : 39/60    time : 74s/1551s\n",
            "TRAIN    loss : 0.02708    f1 : 0.97660\n",
            "epoch : 40/60    time : 74s/1484s\n",
            "TRAIN    loss : 0.02056    f1 : 0.98087\n",
            "epoch : 41/60    time : 74s/1406s\n",
            "TRAIN    loss : 0.02896    f1 : 0.97652\n",
            "epoch : 42/60    time : 74s/1340s\n",
            "TRAIN    loss : 0.02461    f1 : 0.96980\n",
            "epoch : 43/60    time : 74s/1262s\n",
            "TRAIN    loss : 0.02899    f1 : 0.96859\n",
            "epoch : 44/60    time : 74s/1185s\n",
            "TRAIN    loss : 0.02782    f1 : 0.97518\n",
            "epoch : 45/60    time : 74s/1114s\n",
            "TRAIN    loss : 0.02215    f1 : 0.97970\n",
            "epoch : 46/60    time : 74s/1039s\n",
            "TRAIN    loss : 0.02220    f1 : 0.97578\n",
            "epoch : 47/60    time : 74s/963s\n",
            "TRAIN    loss : 0.01612    f1 : 0.98317\n",
            "epoch : 48/60    time : 74s/890s\n",
            "TRAIN    loss : 0.01978    f1 : 0.98123\n",
            "epoch : 49/60    time : 75s/827s\n",
            "TRAIN    loss : 0.02408    f1 : 0.97623\n",
            "epoch : 50/60    time : 74s/742s\n",
            "TRAIN    loss : 0.01897    f1 : 0.98356\n",
            "epoch : 51/60    time : 74s/666s\n",
            "TRAIN    loss : 0.01507    f1 : 0.98609\n",
            "epoch : 52/60    time : 74s/591s\n",
            "TRAIN    loss : 0.01876    f1 : 0.97641\n",
            "epoch : 53/60    time : 74s/519s\n",
            "TRAIN    loss : 0.01653    f1 : 0.97913\n",
            "epoch : 54/60    time : 74s/442s\n",
            "TRAIN    loss : 0.02242    f1 : 0.97471\n",
            "epoch : 55/60    time : 74s/371s\n",
            "TRAIN    loss : 0.01223    f1 : 0.98803\n",
            "epoch : 56/60    time : 74s/295s\n",
            "TRAIN    loss : 0.01526    f1 : 0.98936\n",
            "epoch : 57/60    time : 74s/223s\n",
            "TRAIN    loss : 0.01080    f1 : 0.99076\n",
            "epoch : 58/60    time : 74s/148s\n",
            "TRAIN    loss : 0.01655    f1 : 0.98487\n",
            "epoch : 59/60    time : 75s/75s\n",
            "TRAIN    loss : 0.01779    f1 : 0.98143\n",
            "epoch : 60/60    time : 74s/0s\n",
            "TRAIN    loss : 0.01172    f1 : 0.98689\n"
          ]
        }
      ],
      "source": [
        "def score_function(real, pred):\n",
        "    score = f1_score(real, pred, average=\"macro\")\n",
        "    return score\n",
        "\n",
        "model = Network().to(device)\n",
        "\n",
        "optimizer = torch.optim.AdamW(model.parameters(), lr=5e-5, weight_decay = 1e-3)\n",
        "criterion = nn.CrossEntropyLoss()\n",
        "scaler = torch.cuda.amp.GradScaler() \n",
        "\n",
        "batch_size = 32\n",
        "epochs = 60\n",
        "\n",
        "best=0\n",
        "for epoch in range(epochs):\n",
        "    start=time.time()\n",
        "    train_loss = 0\n",
        "    train_pred=[]\n",
        "    train_y=[]\n",
        "    model.train()\n",
        "    for batch in (train_loader):\n",
        "        optimizer.zero_grad()\n",
        "        x = torch.tensor(batch[0], dtype=torch.float32, device=device)\n",
        "        y = torch.tensor(batch[1], dtype=torch.long, device=device)\n",
        "        with torch.cuda.amp.autocast():\n",
        "            pred = model(x)\n",
        "        loss = criterion(pred, y)\n",
        "\n",
        "\n",
        "        scaler.scale(loss).backward()\n",
        "        scaler.step(optimizer)\n",
        "        scaler.update()\n",
        "        \n",
        "        train_loss += loss.item()/len(train_loader)\n",
        "        train_pred += pred.argmax(1).detach().cpu().numpy().tolist()\n",
        "        train_y += y.detach().cpu().numpy().tolist()\n",
        "        \n",
        "    \n",
        "    train_f1 = score_function(train_y, train_pred)\n",
        "\n",
        "    TIME = time.time() - start\n",
        "    print(f'epoch : {epoch+1}/{epochs}    time : {TIME:.0f}s/{TIME*(epochs-epoch-1):.0f}s')\n",
        "    print(f'TRAIN    loss : {train_loss:.5f}    f1 : {train_f1:.5f}')"
      ],
      "id": "tpCGp41k7L51"
    },
    {
      "cell_type": "markdown",
      "metadata": {
        "id": "YssPW4xq7L53"
      },
      "source": [
        "### 추론"
      ],
      "id": "YssPW4xq7L53"
    },
    {
      "cell_type": "code",
      "execution_count": null,
      "metadata": {
        "id": "1w_VB_PY7L53"
      },
      "outputs": [],
      "source": [
        "model.eval()\n",
        "f_pred = []\n",
        "pred_prob = []\n",
        "\n",
        "with torch.no_grad():\n",
        "    for batch in (test_loader):\n",
        "        x = torch.tensor(batch[0], dtype = torch.float32, device = device)\n",
        "        with torch.cuda.amp.autocast():\n",
        "            pred = model(x)\n",
        "            pred_prob.extend(pred.detach().cpu().numpy())\n",
        "        f_pred.extend(pred.argmax(1).detach().cpu().numpy().tolist())"
      ],
      "id": "1w_VB_PY7L53"
    },
    {
      "cell_type": "code",
      "source": [
        "label_decoder = {val:key for key, val in label_unique.items()}\n",
        "\n",
        "f_result = [label_decoder[result] for result in f_pred]"
      ],
      "metadata": {
        "id": "aZMML2u3DTHx"
      },
      "id": "aZMML2u3DTHx",
      "execution_count": null,
      "outputs": []
    },
    {
      "cell_type": "markdown",
      "metadata": {
        "id": "I4io2mJC7L54"
      },
      "source": [
        "### 제출물 생성"
      ],
      "id": "I4io2mJC7L54"
    },
    {
      "cell_type": "code",
      "execution_count": null,
      "metadata": {
        "id": "XCV3FEKe7L55",
        "colab": {
          "base_uri": "https://localhost:8080/",
          "height": 423
        },
        "outputId": "26b3d099-1924-4dc0-bdd8-3493b1cd18f4"
      },
      "outputs": [
        {
          "output_type": "execute_result",
          "data": {
            "text/plain": [
              "      index             label\n",
              "0         0   tile-glue_strip\n",
              "1         1         grid-good\n",
              "2         2   transistor-good\n",
              "3         3  tile-gray_stroke\n",
              "4         4         tile-good\n",
              "...     ...               ...\n",
              "2149   2149  tile-gray_stroke\n",
              "2150   2150        screw-good\n",
              "2151   2151         grid-good\n",
              "2152   2152        cable-good\n",
              "2153   2153       zipper-good\n",
              "\n",
              "[2154 rows x 2 columns]"
            ],
            "text/html": [
              "\n",
              "  <div id=\"df-fd51d1b6-4b4b-4fe7-94c8-95cc936236b8\">\n",
              "    <div class=\"colab-df-container\">\n",
              "      <div>\n",
              "<style scoped>\n",
              "    .dataframe tbody tr th:only-of-type {\n",
              "        vertical-align: middle;\n",
              "    }\n",
              "\n",
              "    .dataframe tbody tr th {\n",
              "        vertical-align: top;\n",
              "    }\n",
              "\n",
              "    .dataframe thead th {\n",
              "        text-align: right;\n",
              "    }\n",
              "</style>\n",
              "<table border=\"1\" class=\"dataframe\">\n",
              "  <thead>\n",
              "    <tr style=\"text-align: right;\">\n",
              "      <th></th>\n",
              "      <th>index</th>\n",
              "      <th>label</th>\n",
              "    </tr>\n",
              "  </thead>\n",
              "  <tbody>\n",
              "    <tr>\n",
              "      <th>0</th>\n",
              "      <td>0</td>\n",
              "      <td>tile-glue_strip</td>\n",
              "    </tr>\n",
              "    <tr>\n",
              "      <th>1</th>\n",
              "      <td>1</td>\n",
              "      <td>grid-good</td>\n",
              "    </tr>\n",
              "    <tr>\n",
              "      <th>2</th>\n",
              "      <td>2</td>\n",
              "      <td>transistor-good</td>\n",
              "    </tr>\n",
              "    <tr>\n",
              "      <th>3</th>\n",
              "      <td>3</td>\n",
              "      <td>tile-gray_stroke</td>\n",
              "    </tr>\n",
              "    <tr>\n",
              "      <th>4</th>\n",
              "      <td>4</td>\n",
              "      <td>tile-good</td>\n",
              "    </tr>\n",
              "    <tr>\n",
              "      <th>...</th>\n",
              "      <td>...</td>\n",
              "      <td>...</td>\n",
              "    </tr>\n",
              "    <tr>\n",
              "      <th>2149</th>\n",
              "      <td>2149</td>\n",
              "      <td>tile-gray_stroke</td>\n",
              "    </tr>\n",
              "    <tr>\n",
              "      <th>2150</th>\n",
              "      <td>2150</td>\n",
              "      <td>screw-good</td>\n",
              "    </tr>\n",
              "    <tr>\n",
              "      <th>2151</th>\n",
              "      <td>2151</td>\n",
              "      <td>grid-good</td>\n",
              "    </tr>\n",
              "    <tr>\n",
              "      <th>2152</th>\n",
              "      <td>2152</td>\n",
              "      <td>cable-good</td>\n",
              "    </tr>\n",
              "    <tr>\n",
              "      <th>2153</th>\n",
              "      <td>2153</td>\n",
              "      <td>zipper-good</td>\n",
              "    </tr>\n",
              "  </tbody>\n",
              "</table>\n",
              "<p>2154 rows × 2 columns</p>\n",
              "</div>\n",
              "      <button class=\"colab-df-convert\" onclick=\"convertToInteractive('df-fd51d1b6-4b4b-4fe7-94c8-95cc936236b8')\"\n",
              "              title=\"Convert this dataframe to an interactive table.\"\n",
              "              style=\"display:none;\">\n",
              "        \n",
              "  <svg xmlns=\"http://www.w3.org/2000/svg\" height=\"24px\"viewBox=\"0 0 24 24\"\n",
              "       width=\"24px\">\n",
              "    <path d=\"M0 0h24v24H0V0z\" fill=\"none\"/>\n",
              "    <path d=\"M18.56 5.44l.94 2.06.94-2.06 2.06-.94-2.06-.94-.94-2.06-.94 2.06-2.06.94zm-11 1L8.5 8.5l.94-2.06 2.06-.94-2.06-.94L8.5 2.5l-.94 2.06-2.06.94zm10 10l.94 2.06.94-2.06 2.06-.94-2.06-.94-.94-2.06-.94 2.06-2.06.94z\"/><path d=\"M17.41 7.96l-1.37-1.37c-.4-.4-.92-.59-1.43-.59-.52 0-1.04.2-1.43.59L10.3 9.45l-7.72 7.72c-.78.78-.78 2.05 0 2.83L4 21.41c.39.39.9.59 1.41.59.51 0 1.02-.2 1.41-.59l7.78-7.78 2.81-2.81c.8-.78.8-2.07 0-2.86zM5.41 20L4 18.59l7.72-7.72 1.47 1.35L5.41 20z\"/>\n",
              "  </svg>\n",
              "      </button>\n",
              "      \n",
              "  <style>\n",
              "    .colab-df-container {\n",
              "      display:flex;\n",
              "      flex-wrap:wrap;\n",
              "      gap: 12px;\n",
              "    }\n",
              "\n",
              "    .colab-df-convert {\n",
              "      background-color: #E8F0FE;\n",
              "      border: none;\n",
              "      border-radius: 50%;\n",
              "      cursor: pointer;\n",
              "      display: none;\n",
              "      fill: #1967D2;\n",
              "      height: 32px;\n",
              "      padding: 0 0 0 0;\n",
              "      width: 32px;\n",
              "    }\n",
              "\n",
              "    .colab-df-convert:hover {\n",
              "      background-color: #E2EBFA;\n",
              "      box-shadow: 0px 1px 2px rgba(60, 64, 67, 0.3), 0px 1px 3px 1px rgba(60, 64, 67, 0.15);\n",
              "      fill: #174EA6;\n",
              "    }\n",
              "\n",
              "    [theme=dark] .colab-df-convert {\n",
              "      background-color: #3B4455;\n",
              "      fill: #D2E3FC;\n",
              "    }\n",
              "\n",
              "    [theme=dark] .colab-df-convert:hover {\n",
              "      background-color: #434B5C;\n",
              "      box-shadow: 0px 1px 3px 1px rgba(0, 0, 0, 0.15);\n",
              "      filter: drop-shadow(0px 1px 2px rgba(0, 0, 0, 0.3));\n",
              "      fill: #FFFFFF;\n",
              "    }\n",
              "  </style>\n",
              "\n",
              "      <script>\n",
              "        const buttonEl =\n",
              "          document.querySelector('#df-fd51d1b6-4b4b-4fe7-94c8-95cc936236b8 button.colab-df-convert');\n",
              "        buttonEl.style.display =\n",
              "          google.colab.kernel.accessAllowed ? 'block' : 'none';\n",
              "\n",
              "        async function convertToInteractive(key) {\n",
              "          const element = document.querySelector('#df-fd51d1b6-4b4b-4fe7-94c8-95cc936236b8');\n",
              "          const dataTable =\n",
              "            await google.colab.kernel.invokeFunction('convertToInteractive',\n",
              "                                                     [key], {});\n",
              "          if (!dataTable) return;\n",
              "\n",
              "          const docLinkHtml = 'Like what you see? Visit the ' +\n",
              "            '<a target=\"_blank\" href=https://colab.research.google.com/notebooks/data_table.ipynb>data table notebook</a>'\n",
              "            + ' to learn more about interactive tables.';\n",
              "          element.innerHTML = '';\n",
              "          dataTable['output_type'] = 'display_data';\n",
              "          await google.colab.output.renderOutput(dataTable, element);\n",
              "          const docLink = document.createElement('div');\n",
              "          docLink.innerHTML = docLinkHtml;\n",
              "          element.appendChild(docLink);\n",
              "        }\n",
              "      </script>\n",
              "    </div>\n",
              "  </div>\n",
              "  "
            ]
          },
          "metadata": {},
          "execution_count": 47
        }
      ],
      "source": [
        "sub = pd.read_csv(path + \"sample_submission.csv\")\n",
        "\n",
        "sub[\"label\"] = f_result\n",
        "\n",
        "sub"
      ],
      "id": "XCV3FEKe7L55"
    },
    {
      "cell_type": "markdown",
      "source": [
        "## 후처리"
      ],
      "metadata": {
        "id": "090QAoms48Nh"
      },
      "id": "090QAoms48Nh"
    },
    {
      "cell_type": "code",
      "source": [
        "import os\n",
        "import glob\n",
        "from os.path import join as opj\n",
        "\n",
        "import numpy as np\n",
        "import pandas as pd \n",
        "from tqdm import tqdm\n",
        "from easydict import EasyDict\n",
        "from torch.cuda.amp import autocast\n",
        "from sklearn.preprocessing import LabelEncoder\n",
        "from collections import Counter\n",
        "from torch.utils.data import Dataset, DataLoader"
      ],
      "metadata": {
        "id": "UcloX6t50FdA"
      },
      "id": "UcloX6t50FdA",
      "execution_count": null,
      "outputs": []
    },
    {
      "cell_type": "code",
      "source": [
        "train_y = pd.read_csv(path + \"/train_df.csv\")\n",
        "train_y.head()"
      ],
      "metadata": {
        "id": "xer2iumfRV03",
        "colab": {
          "base_uri": "https://localhost:8080/",
          "height": 206
        },
        "outputId": "e5b7d2fe-c664-4816-a3bb-3dd71b2a43fa"
      },
      "id": "xer2iumfRV03",
      "execution_count": null,
      "outputs": [
        {
          "output_type": "execute_result",
          "data": {
            "text/plain": [
              "   index  file_name       class state            label\n",
              "0      0  10000.png  transistor  good  transistor-good\n",
              "1      1  10001.png     capsule  good     capsule-good\n",
              "2      2  10002.png  transistor  good  transistor-good\n",
              "3      3  10003.png        wood  good        wood-good\n",
              "4      4  10004.png      bottle  good      bottle-good"
            ],
            "text/html": [
              "\n",
              "  <div id=\"df-38cc8403-ede9-45ea-8440-b4226458008e\">\n",
              "    <div class=\"colab-df-container\">\n",
              "      <div>\n",
              "<style scoped>\n",
              "    .dataframe tbody tr th:only-of-type {\n",
              "        vertical-align: middle;\n",
              "    }\n",
              "\n",
              "    .dataframe tbody tr th {\n",
              "        vertical-align: top;\n",
              "    }\n",
              "\n",
              "    .dataframe thead th {\n",
              "        text-align: right;\n",
              "    }\n",
              "</style>\n",
              "<table border=\"1\" class=\"dataframe\">\n",
              "  <thead>\n",
              "    <tr style=\"text-align: right;\">\n",
              "      <th></th>\n",
              "      <th>index</th>\n",
              "      <th>file_name</th>\n",
              "      <th>class</th>\n",
              "      <th>state</th>\n",
              "      <th>label</th>\n",
              "    </tr>\n",
              "  </thead>\n",
              "  <tbody>\n",
              "    <tr>\n",
              "      <th>0</th>\n",
              "      <td>0</td>\n",
              "      <td>10000.png</td>\n",
              "      <td>transistor</td>\n",
              "      <td>good</td>\n",
              "      <td>transistor-good</td>\n",
              "    </tr>\n",
              "    <tr>\n",
              "      <th>1</th>\n",
              "      <td>1</td>\n",
              "      <td>10001.png</td>\n",
              "      <td>capsule</td>\n",
              "      <td>good</td>\n",
              "      <td>capsule-good</td>\n",
              "    </tr>\n",
              "    <tr>\n",
              "      <th>2</th>\n",
              "      <td>2</td>\n",
              "      <td>10002.png</td>\n",
              "      <td>transistor</td>\n",
              "      <td>good</td>\n",
              "      <td>transistor-good</td>\n",
              "    </tr>\n",
              "    <tr>\n",
              "      <th>3</th>\n",
              "      <td>3</td>\n",
              "      <td>10003.png</td>\n",
              "      <td>wood</td>\n",
              "      <td>good</td>\n",
              "      <td>wood-good</td>\n",
              "    </tr>\n",
              "    <tr>\n",
              "      <th>4</th>\n",
              "      <td>4</td>\n",
              "      <td>10004.png</td>\n",
              "      <td>bottle</td>\n",
              "      <td>good</td>\n",
              "      <td>bottle-good</td>\n",
              "    </tr>\n",
              "  </tbody>\n",
              "</table>\n",
              "</div>\n",
              "      <button class=\"colab-df-convert\" onclick=\"convertToInteractive('df-38cc8403-ede9-45ea-8440-b4226458008e')\"\n",
              "              title=\"Convert this dataframe to an interactive table.\"\n",
              "              style=\"display:none;\">\n",
              "        \n",
              "  <svg xmlns=\"http://www.w3.org/2000/svg\" height=\"24px\"viewBox=\"0 0 24 24\"\n",
              "       width=\"24px\">\n",
              "    <path d=\"M0 0h24v24H0V0z\" fill=\"none\"/>\n",
              "    <path d=\"M18.56 5.44l.94 2.06.94-2.06 2.06-.94-2.06-.94-.94-2.06-.94 2.06-2.06.94zm-11 1L8.5 8.5l.94-2.06 2.06-.94-2.06-.94L8.5 2.5l-.94 2.06-2.06.94zm10 10l.94 2.06.94-2.06 2.06-.94-2.06-.94-.94-2.06-.94 2.06-2.06.94z\"/><path d=\"M17.41 7.96l-1.37-1.37c-.4-.4-.92-.59-1.43-.59-.52 0-1.04.2-1.43.59L10.3 9.45l-7.72 7.72c-.78.78-.78 2.05 0 2.83L4 21.41c.39.39.9.59 1.41.59.51 0 1.02-.2 1.41-.59l7.78-7.78 2.81-2.81c.8-.78.8-2.07 0-2.86zM5.41 20L4 18.59l7.72-7.72 1.47 1.35L5.41 20z\"/>\n",
              "  </svg>\n",
              "      </button>\n",
              "      \n",
              "  <style>\n",
              "    .colab-df-container {\n",
              "      display:flex;\n",
              "      flex-wrap:wrap;\n",
              "      gap: 12px;\n",
              "    }\n",
              "\n",
              "    .colab-df-convert {\n",
              "      background-color: #E8F0FE;\n",
              "      border: none;\n",
              "      border-radius: 50%;\n",
              "      cursor: pointer;\n",
              "      display: none;\n",
              "      fill: #1967D2;\n",
              "      height: 32px;\n",
              "      padding: 0 0 0 0;\n",
              "      width: 32px;\n",
              "    }\n",
              "\n",
              "    .colab-df-convert:hover {\n",
              "      background-color: #E2EBFA;\n",
              "      box-shadow: 0px 1px 2px rgba(60, 64, 67, 0.3), 0px 1px 3px 1px rgba(60, 64, 67, 0.15);\n",
              "      fill: #174EA6;\n",
              "    }\n",
              "\n",
              "    [theme=dark] .colab-df-convert {\n",
              "      background-color: #3B4455;\n",
              "      fill: #D2E3FC;\n",
              "    }\n",
              "\n",
              "    [theme=dark] .colab-df-convert:hover {\n",
              "      background-color: #434B5C;\n",
              "      box-shadow: 0px 1px 3px 1px rgba(0, 0, 0, 0.15);\n",
              "      filter: drop-shadow(0px 1px 2px rgba(0, 0, 0, 0.3));\n",
              "      fill: #FFFFFF;\n",
              "    }\n",
              "  </style>\n",
              "\n",
              "      <script>\n",
              "        const buttonEl =\n",
              "          document.querySelector('#df-38cc8403-ede9-45ea-8440-b4226458008e button.colab-df-convert');\n",
              "        buttonEl.style.display =\n",
              "          google.colab.kernel.accessAllowed ? 'block' : 'none';\n",
              "\n",
              "        async function convertToInteractive(key) {\n",
              "          const element = document.querySelector('#df-38cc8403-ede9-45ea-8440-b4226458008e');\n",
              "          const dataTable =\n",
              "            await google.colab.kernel.invokeFunction('convertToInteractive',\n",
              "                                                     [key], {});\n",
              "          if (!dataTable) return;\n",
              "\n",
              "          const docLinkHtml = 'Like what you see? Visit the ' +\n",
              "            '<a target=\"_blank\" href=https://colab.research.google.com/notebooks/data_table.ipynb>data table notebook</a>'\n",
              "            + ' to learn more about interactive tables.';\n",
              "          element.innerHTML = '';\n",
              "          dataTable['output_type'] = 'display_data';\n",
              "          await google.colab.output.renderOutput(dataTable, element);\n",
              "          const docLink = document.createElement('div');\n",
              "          docLink.innerHTML = docLinkHtml;\n",
              "          element.appendChild(docLink);\n",
              "        }\n",
              "      </script>\n",
              "    </div>\n",
              "  </div>\n",
              "  "
            ]
          },
          "metadata": {},
          "execution_count": 6
        }
      ]
    },
    {
      "cell_type": "code",
      "source": [
        "# Make train_df_bad.csv\n",
        "\n",
        "one = [l[1][4] if l[1][3] == 'good' else l[1][2]+'-bad' for l in train_y.iterrows()]\n",
        "train_y['label'] = one\n",
        "train_y.to_csv(path + '/train_df_bad.csv', index=False)"
      ],
      "metadata": {
        "id": "9jhkaUFc0Gbk"
      },
      "id": "9jhkaUFc0Gbk",
      "execution_count": null,
      "outputs": []
    },
    {
      "cell_type": "code",
      "source": [
        "# Make <class>_df.csv\n",
        "c = 'zipper'\n",
        "train_y = pd.read_csv(path + \"/train_df.csv\")\n",
        "train_y[train_y['class']==c].to_csv(path + f'/{c}_df.csv', index=False)"
      ],
      "metadata": {
        "id": "wdtcfVTQ0IbT"
      },
      "id": "wdtcfVTQ0IbT",
      "execution_count": null,
      "outputs": []
    },
    {
      "cell_type": "code",
      "source": [
        "bad_df = pd.read_csv(path + '/train_df_bad.csv')  \n",
        " \n",
        "le_bad = LabelEncoder() #le_bad\n",
        "bad_df['label'] = le_bad.fit_transform(bad_df['label'])\n",
        "\n",
        "good = le_bad.transform([label for label in le_bad.classes_ if 'good' in label]) #30개\n",
        "ngood = le_bad.transform([label for label in le_bad.classes_ if not 'good' in label])\n",
        "\n",
        "train_df = pd.read_csv(path + '/train_df.csv')\n",
        "le = LabelEncoder()\n",
        "train_df['label'] = le.fit_transform(train_df['label'])\n",
        "good2 = le.transform([label for label in le.classes_ if 'good' in label]) # 88개"
      ],
      "metadata": {
        "id": "Rtx8M2nJ0Kid"
      },
      "id": "Rtx8M2nJ0Kid",
      "execution_count": null,
      "outputs": []
    },
    {
      "cell_type": "code",
      "source": [
        "bad_df.head(n=10)"
      ],
      "metadata": {
        "colab": {
          "base_uri": "https://localhost:8080/",
          "height": 363
        },
        "id": "HWlYytawjD-9",
        "outputId": "e99b1d62-5c6f-4609-bf29-ea7067db3d5a"
      },
      "id": "HWlYytawjD-9",
      "execution_count": null,
      "outputs": [
        {
          "output_type": "execute_result",
          "data": {
            "text/plain": [
              "   index  file_name       class      state  label\n",
              "0      0  10000.png  transistor       good     25\n",
              "1      1  10001.png     capsule       good      5\n",
              "2      2  10002.png  transistor       good     25\n",
              "3      3  10003.png        wood       good     27\n",
              "4      4  10004.png      bottle       good      1\n",
              "5      5  10005.png        wood       good     27\n",
              "6      6  10006.png     capsule       good      5\n",
              "7      7  10007.png       screw       good     19\n",
              "8      8  10008.png       cable  bent_wire      2\n",
              "9      9  10009.png  transistor       good     25"
            ],
            "text/html": [
              "\n",
              "  <div id=\"df-51b2cfba-5cc3-4f22-b147-2bd7592839fe\">\n",
              "    <div class=\"colab-df-container\">\n",
              "      <div>\n",
              "<style scoped>\n",
              "    .dataframe tbody tr th:only-of-type {\n",
              "        vertical-align: middle;\n",
              "    }\n",
              "\n",
              "    .dataframe tbody tr th {\n",
              "        vertical-align: top;\n",
              "    }\n",
              "\n",
              "    .dataframe thead th {\n",
              "        text-align: right;\n",
              "    }\n",
              "</style>\n",
              "<table border=\"1\" class=\"dataframe\">\n",
              "  <thead>\n",
              "    <tr style=\"text-align: right;\">\n",
              "      <th></th>\n",
              "      <th>index</th>\n",
              "      <th>file_name</th>\n",
              "      <th>class</th>\n",
              "      <th>state</th>\n",
              "      <th>label</th>\n",
              "    </tr>\n",
              "  </thead>\n",
              "  <tbody>\n",
              "    <tr>\n",
              "      <th>0</th>\n",
              "      <td>0</td>\n",
              "      <td>10000.png</td>\n",
              "      <td>transistor</td>\n",
              "      <td>good</td>\n",
              "      <td>25</td>\n",
              "    </tr>\n",
              "    <tr>\n",
              "      <th>1</th>\n",
              "      <td>1</td>\n",
              "      <td>10001.png</td>\n",
              "      <td>capsule</td>\n",
              "      <td>good</td>\n",
              "      <td>5</td>\n",
              "    </tr>\n",
              "    <tr>\n",
              "      <th>2</th>\n",
              "      <td>2</td>\n",
              "      <td>10002.png</td>\n",
              "      <td>transistor</td>\n",
              "      <td>good</td>\n",
              "      <td>25</td>\n",
              "    </tr>\n",
              "    <tr>\n",
              "      <th>3</th>\n",
              "      <td>3</td>\n",
              "      <td>10003.png</td>\n",
              "      <td>wood</td>\n",
              "      <td>good</td>\n",
              "      <td>27</td>\n",
              "    </tr>\n",
              "    <tr>\n",
              "      <th>4</th>\n",
              "      <td>4</td>\n",
              "      <td>10004.png</td>\n",
              "      <td>bottle</td>\n",
              "      <td>good</td>\n",
              "      <td>1</td>\n",
              "    </tr>\n",
              "    <tr>\n",
              "      <th>5</th>\n",
              "      <td>5</td>\n",
              "      <td>10005.png</td>\n",
              "      <td>wood</td>\n",
              "      <td>good</td>\n",
              "      <td>27</td>\n",
              "    </tr>\n",
              "    <tr>\n",
              "      <th>6</th>\n",
              "      <td>6</td>\n",
              "      <td>10006.png</td>\n",
              "      <td>capsule</td>\n",
              "      <td>good</td>\n",
              "      <td>5</td>\n",
              "    </tr>\n",
              "    <tr>\n",
              "      <th>7</th>\n",
              "      <td>7</td>\n",
              "      <td>10007.png</td>\n",
              "      <td>screw</td>\n",
              "      <td>good</td>\n",
              "      <td>19</td>\n",
              "    </tr>\n",
              "    <tr>\n",
              "      <th>8</th>\n",
              "      <td>8</td>\n",
              "      <td>10008.png</td>\n",
              "      <td>cable</td>\n",
              "      <td>bent_wire</td>\n",
              "      <td>2</td>\n",
              "    </tr>\n",
              "    <tr>\n",
              "      <th>9</th>\n",
              "      <td>9</td>\n",
              "      <td>10009.png</td>\n",
              "      <td>transistor</td>\n",
              "      <td>good</td>\n",
              "      <td>25</td>\n",
              "    </tr>\n",
              "  </tbody>\n",
              "</table>\n",
              "</div>\n",
              "      <button class=\"colab-df-convert\" onclick=\"convertToInteractive('df-51b2cfba-5cc3-4f22-b147-2bd7592839fe')\"\n",
              "              title=\"Convert this dataframe to an interactive table.\"\n",
              "              style=\"display:none;\">\n",
              "        \n",
              "  <svg xmlns=\"http://www.w3.org/2000/svg\" height=\"24px\"viewBox=\"0 0 24 24\"\n",
              "       width=\"24px\">\n",
              "    <path d=\"M0 0h24v24H0V0z\" fill=\"none\"/>\n",
              "    <path d=\"M18.56 5.44l.94 2.06.94-2.06 2.06-.94-2.06-.94-.94-2.06-.94 2.06-2.06.94zm-11 1L8.5 8.5l.94-2.06 2.06-.94-2.06-.94L8.5 2.5l-.94 2.06-2.06.94zm10 10l.94 2.06.94-2.06 2.06-.94-2.06-.94-.94-2.06-.94 2.06-2.06.94z\"/><path d=\"M17.41 7.96l-1.37-1.37c-.4-.4-.92-.59-1.43-.59-.52 0-1.04.2-1.43.59L10.3 9.45l-7.72 7.72c-.78.78-.78 2.05 0 2.83L4 21.41c.39.39.9.59 1.41.59.51 0 1.02-.2 1.41-.59l7.78-7.78 2.81-2.81c.8-.78.8-2.07 0-2.86zM5.41 20L4 18.59l7.72-7.72 1.47 1.35L5.41 20z\"/>\n",
              "  </svg>\n",
              "      </button>\n",
              "      \n",
              "  <style>\n",
              "    .colab-df-container {\n",
              "      display:flex;\n",
              "      flex-wrap:wrap;\n",
              "      gap: 12px;\n",
              "    }\n",
              "\n",
              "    .colab-df-convert {\n",
              "      background-color: #E8F0FE;\n",
              "      border: none;\n",
              "      border-radius: 50%;\n",
              "      cursor: pointer;\n",
              "      display: none;\n",
              "      fill: #1967D2;\n",
              "      height: 32px;\n",
              "      padding: 0 0 0 0;\n",
              "      width: 32px;\n",
              "    }\n",
              "\n",
              "    .colab-df-convert:hover {\n",
              "      background-color: #E2EBFA;\n",
              "      box-shadow: 0px 1px 2px rgba(60, 64, 67, 0.3), 0px 1px 3px 1px rgba(60, 64, 67, 0.15);\n",
              "      fill: #174EA6;\n",
              "    }\n",
              "\n",
              "    [theme=dark] .colab-df-convert {\n",
              "      background-color: #3B4455;\n",
              "      fill: #D2E3FC;\n",
              "    }\n",
              "\n",
              "    [theme=dark] .colab-df-convert:hover {\n",
              "      background-color: #434B5C;\n",
              "      box-shadow: 0px 1px 3px 1px rgba(0, 0, 0, 0.15);\n",
              "      filter: drop-shadow(0px 1px 2px rgba(0, 0, 0, 0.3));\n",
              "      fill: #FFFFFF;\n",
              "    }\n",
              "  </style>\n",
              "\n",
              "      <script>\n",
              "        const buttonEl =\n",
              "          document.querySelector('#df-51b2cfba-5cc3-4f22-b147-2bd7592839fe button.colab-df-convert');\n",
              "        buttonEl.style.display =\n",
              "          google.colab.kernel.accessAllowed ? 'block' : 'none';\n",
              "\n",
              "        async function convertToInteractive(key) {\n",
              "          const element = document.querySelector('#df-51b2cfba-5cc3-4f22-b147-2bd7592839fe');\n",
              "          const dataTable =\n",
              "            await google.colab.kernel.invokeFunction('convertToInteractive',\n",
              "                                                     [key], {});\n",
              "          if (!dataTable) return;\n",
              "\n",
              "          const docLinkHtml = 'Like what you see? Visit the ' +\n",
              "            '<a target=\"_blank\" href=https://colab.research.google.com/notebooks/data_table.ipynb>data table notebook</a>'\n",
              "            + ' to learn more about interactive tables.';\n",
              "          element.innerHTML = '';\n",
              "          dataTable['output_type'] = 'display_data';\n",
              "          await google.colab.output.renderOutput(dataTable, element);\n",
              "          const docLink = document.createElement('div');\n",
              "          docLink.innerHTML = docLinkHtml;\n",
              "          element.appendChild(docLink);\n",
              "        }\n",
              "      </script>\n",
              "    </div>\n",
              "  </div>\n",
              "  "
            ]
          },
          "metadata": {},
          "execution_count": 11
        }
      ]
    },
    {
      "cell_type": "code",
      "source": [
        "# 앙상블 예측 함수\n",
        "def get_preds(li, good=good, ngood=ngood, good2=good2, le=le):\n",
        "    ww = np.array([np.load(i) for i in li]) \n",
        "    w = ww.mean(axis=0) \n",
        "    w_maxs = np.max(w, axis=1)\n",
        "    w_preds = np.argmax(w, axis=1)\n",
        "\n",
        "    df_k2 = pd.DataFrame(data = w_maxs, columns=['max'])\n",
        "    df_k2['preds'] = w_preds\n",
        "    df_k2['label'] = le.inverse_transform(w_preds)\n",
        "\n",
        "    bad2 = np.load(path + '/../files/effb4_bad_5fold.npy')\n",
        "\n",
        "    bad2_maxs = np.max(bad2, axis=1)\n",
        "    bad2_preds = np.argmax(bad2, axis=1)\n",
        "    df_bad2 = pd.DataFrame(data = bad2_maxs, columns=['max'])\n",
        "    df_bad2['preds'] = bad2_preds\n",
        "\n",
        "    # good-bad에서 bad로 예측하거나 good으로 예측해도 softmax값이 0.999999보다 작은 인덱스들 추출\n",
        "    idx2 = np.array(df_bad2[((df_bad2['preds'].isin(good)) & (df_bad2['max'] <0.999999)) | df_bad2['preds'].isin(ngood)].index)\n",
        "\n",
        "    #위에서 구한 인덱스들 중에서 예측 레이블이 good인 경우면 2번째 높은 레이블로 변경\n",
        "    idx_bad2 = np.array(df_k2.loc[idx2][df_k2['label'].isin(le.inverse_transform(good2))].index)\n",
        "    p_bad2 = np.argsort(w, axis=1)[idx_bad2, -2]\n",
        "    \n",
        "    df_k2['label'].iloc[idx_bad2]= le.inverse_transform(p_bad2)\n",
        "        \n",
        "    return df_k2['label'].values"
      ],
      "metadata": {
        "id": "ahoWn2NH0NEe"
      },
      "id": "ahoWn2NH0NEe",
      "execution_count": null,
      "outputs": []
    },
    {
      "cell_type": "code",
      "source": [
        "li = glob.glob(path + '/../files/softmax_*.npy')\n",
        "sub['label'] = get_preds(li, good=good, ngood=ngood, good2=good2, le=le)\n",
        "sub.head()"
      ],
      "metadata": {
        "id": "aGTcMtbF0Pfy",
        "colab": {
          "base_uri": "https://localhost:8080/",
          "height": 206
        },
        "outputId": "361218bb-7f40-4da0-c22a-d9645fb94415"
      },
      "id": "aGTcMtbF0Pfy",
      "execution_count": null,
      "outputs": [
        {
          "output_type": "execute_result",
          "data": {
            "text/plain": [
              "   index             label\n",
              "0      0   tile-glue_strip\n",
              "1      1         grid-good\n",
              "2      2   transistor-good\n",
              "3      3  tile-gray_stroke\n",
              "4      4         tile-good"
            ],
            "text/html": [
              "\n",
              "  <div id=\"df-571a62f1-23e1-43da-888a-2f728d248a75\">\n",
              "    <div class=\"colab-df-container\">\n",
              "      <div>\n",
              "<style scoped>\n",
              "    .dataframe tbody tr th:only-of-type {\n",
              "        vertical-align: middle;\n",
              "    }\n",
              "\n",
              "    .dataframe tbody tr th {\n",
              "        vertical-align: top;\n",
              "    }\n",
              "\n",
              "    .dataframe thead th {\n",
              "        text-align: right;\n",
              "    }\n",
              "</style>\n",
              "<table border=\"1\" class=\"dataframe\">\n",
              "  <thead>\n",
              "    <tr style=\"text-align: right;\">\n",
              "      <th></th>\n",
              "      <th>index</th>\n",
              "      <th>label</th>\n",
              "    </tr>\n",
              "  </thead>\n",
              "  <tbody>\n",
              "    <tr>\n",
              "      <th>0</th>\n",
              "      <td>0</td>\n",
              "      <td>tile-glue_strip</td>\n",
              "    </tr>\n",
              "    <tr>\n",
              "      <th>1</th>\n",
              "      <td>1</td>\n",
              "      <td>grid-good</td>\n",
              "    </tr>\n",
              "    <tr>\n",
              "      <th>2</th>\n",
              "      <td>2</td>\n",
              "      <td>transistor-good</td>\n",
              "    </tr>\n",
              "    <tr>\n",
              "      <th>3</th>\n",
              "      <td>3</td>\n",
              "      <td>tile-gray_stroke</td>\n",
              "    </tr>\n",
              "    <tr>\n",
              "      <th>4</th>\n",
              "      <td>4</td>\n",
              "      <td>tile-good</td>\n",
              "    </tr>\n",
              "  </tbody>\n",
              "</table>\n",
              "</div>\n",
              "      <button class=\"colab-df-convert\" onclick=\"convertToInteractive('df-571a62f1-23e1-43da-888a-2f728d248a75')\"\n",
              "              title=\"Convert this dataframe to an interactive table.\"\n",
              "              style=\"display:none;\">\n",
              "        \n",
              "  <svg xmlns=\"http://www.w3.org/2000/svg\" height=\"24px\"viewBox=\"0 0 24 24\"\n",
              "       width=\"24px\">\n",
              "    <path d=\"M0 0h24v24H0V0z\" fill=\"none\"/>\n",
              "    <path d=\"M18.56 5.44l.94 2.06.94-2.06 2.06-.94-2.06-.94-.94-2.06-.94 2.06-2.06.94zm-11 1L8.5 8.5l.94-2.06 2.06-.94-2.06-.94L8.5 2.5l-.94 2.06-2.06.94zm10 10l.94 2.06.94-2.06 2.06-.94-2.06-.94-.94-2.06-.94 2.06-2.06.94z\"/><path d=\"M17.41 7.96l-1.37-1.37c-.4-.4-.92-.59-1.43-.59-.52 0-1.04.2-1.43.59L10.3 9.45l-7.72 7.72c-.78.78-.78 2.05 0 2.83L4 21.41c.39.39.9.59 1.41.59.51 0 1.02-.2 1.41-.59l7.78-7.78 2.81-2.81c.8-.78.8-2.07 0-2.86zM5.41 20L4 18.59l7.72-7.72 1.47 1.35L5.41 20z\"/>\n",
              "  </svg>\n",
              "      </button>\n",
              "      \n",
              "  <style>\n",
              "    .colab-df-container {\n",
              "      display:flex;\n",
              "      flex-wrap:wrap;\n",
              "      gap: 12px;\n",
              "    }\n",
              "\n",
              "    .colab-df-convert {\n",
              "      background-color: #E8F0FE;\n",
              "      border: none;\n",
              "      border-radius: 50%;\n",
              "      cursor: pointer;\n",
              "      display: none;\n",
              "      fill: #1967D2;\n",
              "      height: 32px;\n",
              "      padding: 0 0 0 0;\n",
              "      width: 32px;\n",
              "    }\n",
              "\n",
              "    .colab-df-convert:hover {\n",
              "      background-color: #E2EBFA;\n",
              "      box-shadow: 0px 1px 2px rgba(60, 64, 67, 0.3), 0px 1px 3px 1px rgba(60, 64, 67, 0.15);\n",
              "      fill: #174EA6;\n",
              "    }\n",
              "\n",
              "    [theme=dark] .colab-df-convert {\n",
              "      background-color: #3B4455;\n",
              "      fill: #D2E3FC;\n",
              "    }\n",
              "\n",
              "    [theme=dark] .colab-df-convert:hover {\n",
              "      background-color: #434B5C;\n",
              "      box-shadow: 0px 1px 3px 1px rgba(0, 0, 0, 0.15);\n",
              "      filter: drop-shadow(0px 1px 2px rgba(0, 0, 0, 0.3));\n",
              "      fill: #FFFFFF;\n",
              "    }\n",
              "  </style>\n",
              "\n",
              "      <script>\n",
              "        const buttonEl =\n",
              "          document.querySelector('#df-571a62f1-23e1-43da-888a-2f728d248a75 button.colab-df-convert');\n",
              "        buttonEl.style.display =\n",
              "          google.colab.kernel.accessAllowed ? 'block' : 'none';\n",
              "\n",
              "        async function convertToInteractive(key) {\n",
              "          const element = document.querySelector('#df-571a62f1-23e1-43da-888a-2f728d248a75');\n",
              "          const dataTable =\n",
              "            await google.colab.kernel.invokeFunction('convertToInteractive',\n",
              "                                                     [key], {});\n",
              "          if (!dataTable) return;\n",
              "\n",
              "          const docLinkHtml = 'Like what you see? Visit the ' +\n",
              "            '<a target=\"_blank\" href=https://colab.research.google.com/notebooks/data_table.ipynb>data table notebook</a>'\n",
              "            + ' to learn more about interactive tables.';\n",
              "          element.innerHTML = '';\n",
              "          dataTable['output_type'] = 'display_data';\n",
              "          await google.colab.output.renderOutput(dataTable, element);\n",
              "          const docLink = document.createElement('div');\n",
              "          docLink.innerHTML = docLinkHtml;\n",
              "          element.appendChild(docLink);\n",
              "        }\n",
              "      </script>\n",
              "    </div>\n",
              "  </div>\n",
              "  "
            ]
          },
          "metadata": {},
          "execution_count": 54
        }
      ]
    },
    {
      "cell_type": "code",
      "source": [
        "def Postprocessing_oneclass(cls, sub, npys):\n",
        "    df_sub = sub.copy()\n",
        "    idxLst = [df_sub.iloc[idx]['index'] for idx in range(len(df_sub)) if cls in df_sub.iloc[idx]['label']]\n",
        "    \n",
        "    if not npys:\n",
        "        raise AssertionError('npys must not be empty') \n",
        "    # 단일모델 예측 : 기존 모델 예측값 대신 단일 모델 예측값으로 전부 변경\n",
        "    elif len(npys) == 1:\n",
        "        path = npys[0]\n",
        "        p = np.load(path, allow_pickle=True)\n",
        "        df_sub.loc[idxLst,'label'] = p \n",
        "\n",
        "    # 하드보팅 예측 : 단일 모델들의 예측값과 원래의 예측값에 대하여 hard voting\n",
        "    else:\n",
        "        df = df_sub[df_sub['index'].isin(idxLst)]\n",
        "\n",
        "        for path in npys:\n",
        "            num = os.path.basename(path).split('.')[0][-3:]\n",
        "            p = np.load(path, allow_pickle=True)\n",
        "            df[f'pred_{num}'] = p\n",
        "        \n",
        "        for i in range(len(df)):\n",
        "            label_pred_list = [df.iloc[i,1],df.iloc[i,2],df.iloc[i,3],df.iloc[i,4]]\n",
        "            if (len(Counter(label_pred_list).most_common(2)) >1) and (Counter(label_pred_list).most_common(2)[1][1] == 2):\n",
        "     \n",
        "                newlabel = df_sub.loc[df.iloc[i]['index'],'label']\n",
        "  \n",
        "            else:\n",
        "                newlabel = max(label_pred_list, key=label_pred_list.count)\n",
        "            \n",
        "            df_sub.loc[df.iloc[i]['index'],'label'] = newlabel\n",
        "        \n",
        "    return df_sub"
      ],
      "metadata": {
        "id": "52ujibAW0SX_"
      },
      "id": "52ujibAW0SX_",
      "execution_count": null,
      "outputs": []
    },
    {
      "cell_type": "code",
      "source": [
        "sub1 = Postprocessing_oneclass('toothbrush', sub, [path + '/../files/toothbrush_220.npy',path + '/../files/toothbrush_221.npy',path + '/../files/toothbrush_222.npy'])\n",
        "sub2 = Postprocessing_oneclass('zipper', sub1, [path + '/../files/zipper_254.npy', path + '/../files/zipper_255.npy', path + '/../files/zipper_256.npy'])\n",
        "\n",
        "sub2.to_csv(path + '../best_ensemble5.csv',index=False)\n"
      ],
      "metadata": {
        "id": "98vfKN2j1adY"
      },
      "id": "98vfKN2j1adY",
      "execution_count": null,
      "outputs": []
    }
  ],
  "metadata": {
    "kernelspec": {
      "display_name": "Python 3",
      "name": "python3"
    },
    "language_info": {
      "name": "python"
    },
    "colab": {
      "provenance": [],
      "machine_shape": "hm"
    },
    "gpuClass": "standard"
  },
  "nbformat": 4,
  "nbformat_minor": 5
}